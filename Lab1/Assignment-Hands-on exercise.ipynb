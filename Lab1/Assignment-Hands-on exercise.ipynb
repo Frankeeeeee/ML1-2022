{
 "cells": [
  {
   "cell_type": "markdown",
   "id": "65919ec5",
   "metadata": {},
   "source": [
    "### DEON S"
   ]
  },
  {
   "cell_type": "markdown",
   "id": "dfe37bb1",
   "metadata": {},
   "source": [
    "21BDA57"
   ]
  },
  {
   "cell_type": "markdown",
   "id": "22741504",
   "metadata": {},
   "source": [
    "#### Operations in python"
   ]
  },
  {
   "cell_type": "code",
   "execution_count": 1,
   "id": "36801ab8",
   "metadata": {},
   "outputs": [
    {
     "data": {
      "text/plain": [
       "2"
      ]
     },
     "execution_count": 1,
     "metadata": {},
     "output_type": "execute_result"
    }
   ],
   "source": [
    "1+1"
   ]
  },
  {
   "cell_type": "code",
   "execution_count": 2,
   "id": "1470be05",
   "metadata": {},
   "outputs": [
    {
     "data": {
      "text/plain": [
       "'11'"
      ]
     },
     "execution_count": 2,
     "metadata": {},
     "output_type": "execute_result"
    }
   ],
   "source": [
    "'1'+'1'"
   ]
  },
  {
   "cell_type": "code",
   "execution_count": 3,
   "id": "899be468",
   "metadata": {},
   "outputs": [],
   "source": [
    "a=[1,2,3,4,5]"
   ]
  },
  {
   "cell_type": "code",
   "execution_count": 4,
   "id": "2454f560",
   "metadata": {},
   "outputs": [
    {
     "data": {
      "text/plain": [
       "[1, 2, 3, 4, 5]"
      ]
     },
     "execution_count": 4,
     "metadata": {},
     "output_type": "execute_result"
    }
   ],
   "source": [
    "a"
   ]
  },
  {
   "cell_type": "code",
   "execution_count": 5,
   "id": "d1c1d4d8",
   "metadata": {},
   "outputs": [
    {
     "data": {
      "text/plain": [
       "list"
      ]
     },
     "execution_count": 5,
     "metadata": {},
     "output_type": "execute_result"
    }
   ],
   "source": [
    "type(a)"
   ]
  },
  {
   "cell_type": "code",
   "execution_count": 6,
   "id": "0bf2ec2b",
   "metadata": {},
   "outputs": [],
   "source": [
    "b=(1,2,3,4,5)"
   ]
  },
  {
   "cell_type": "code",
   "execution_count": 7,
   "id": "eaf4b702",
   "metadata": {},
   "outputs": [
    {
     "data": {
      "text/plain": [
       "(1, 2, 3, 4, 5)"
      ]
     },
     "execution_count": 7,
     "metadata": {},
     "output_type": "execute_result"
    }
   ],
   "source": [
    "b"
   ]
  },
  {
   "cell_type": "code",
   "execution_count": 8,
   "id": "5a07f1f7",
   "metadata": {},
   "outputs": [
    {
     "data": {
      "text/plain": [
       "tuple"
      ]
     },
     "execution_count": 8,
     "metadata": {},
     "output_type": "execute_result"
    }
   ],
   "source": [
    "type(b)"
   ]
  },
  {
   "cell_type": "code",
   "execution_count": 9,
   "id": "095ae8b2",
   "metadata": {},
   "outputs": [
    {
     "data": {
      "text/plain": [
       "True"
      ]
     },
     "execution_count": 9,
     "metadata": {},
     "output_type": "execute_result"
    }
   ],
   "source": [
    "marks = [10, 20, 30, 50, 75, 90, 95]\n",
    "pass_mark = 50\n",
    "marks[0]<pass_mark"
   ]
  },
  {
   "cell_type": "code",
   "execution_count": 10,
   "id": "5743645c",
   "metadata": {},
   "outputs": [
    {
     "name": "stdout",
     "output_type": "stream",
     "text": [
      "fail\n"
     ]
    }
   ],
   "source": [
    "if marks[0]<pass_mark:\n",
    "    print(\"fail\")"
   ]
  },
  {
   "cell_type": "code",
   "execution_count": 11,
   "id": "99223866",
   "metadata": {},
   "outputs": [
    {
     "name": "stdout",
     "output_type": "stream",
     "text": [
      "10\n",
      "20\n",
      "30\n",
      "50\n",
      "75\n",
      "90\n",
      "95\n"
     ]
    }
   ],
   "source": [
    "for i in range(len(marks)):\n",
    "    print(marks[i])"
   ]
  },
  {
   "cell_type": "markdown",
   "id": "d78a82d0",
   "metadata": {},
   "source": [
    "#### if-else statements"
   ]
  },
  {
   "cell_type": "code",
   "execution_count": 14,
   "id": "40b37f36",
   "metadata": {},
   "outputs": [
    {
     "name": "stdout",
     "output_type": "stream",
     "text": [
      "10\n",
      "fail\n",
      "**************\n",
      "\n",
      "20\n",
      "fail\n",
      "**************\n",
      "\n",
      "30\n",
      "fail\n",
      "**************\n",
      "\n",
      "50\n",
      "pass\n",
      "**************\n",
      "\n",
      "75\n",
      "pass\n",
      "**************\n",
      "\n",
      "90\n",
      "pass\n",
      "**************\n",
      "\n",
      "95\n",
      "pass\n",
      "**************\n",
      "\n"
     ]
    }
   ],
   "source": [
    "for mark in marks:\n",
    "    print(mark)  \n",
    "    if mark<pass_mark:\n",
    "        print(\"fail\")\n",
    "    else: \n",
    "        print(\"pass\")\n",
    "    print(\"**************\\n\")"
   ]
  },
  {
   "cell_type": "code",
   "execution_count": 15,
   "id": "305de6e2",
   "metadata": {},
   "outputs": [
    {
     "name": "stdout",
     "output_type": "stream",
     "text": [
      "10\n",
      "fail\n",
      "------------------\n",
      "20\n",
      "fail\n",
      "------------------\n",
      "30\n",
      "grace\n",
      "------------------\n",
      "50\n",
      "pass\n",
      "------------------\n",
      "75\n",
      "pass\n",
      "------------------\n",
      "90\n",
      "pass\n",
      "------------------\n",
      "95\n",
      "pass\n",
      "------------------\n"
     ]
    }
   ],
   "source": [
    "for mark in marks:\n",
    "    print(mark)  \n",
    "    if(mark<pass_mark)&(mark>20):\n",
    "        print(\"grace\")\n",
    "    elif(mark<pass_mark)&(mark<=20):\n",
    "        print(\"fail\")\n",
    "    else: \n",
    "        print(\"pass\")\n",
    "    print(\"------------------\")"
   ]
  },
  {
   "cell_type": "code",
   "execution_count": 16,
   "id": "c6b67a11",
   "metadata": {},
   "outputs": [
    {
     "data": {
      "text/plain": [
       "range(0, 15)"
      ]
     },
     "execution_count": 16,
     "metadata": {},
     "output_type": "execute_result"
    }
   ],
   "source": [
    "range(15)"
   ]
  },
  {
   "cell_type": "code",
   "execution_count": 19,
   "id": "1245a9a6",
   "metadata": {},
   "outputs": [
    {
     "name": "stdout",
     "output_type": "stream",
     "text": [
      "2\n",
      "6\n",
      "10\n",
      "14\n",
      "18\n"
     ]
    }
   ],
   "source": [
    "w = range(2, 20, 4)\n",
    "for n in w:\n",
    "    print(n)"
   ]
  },
  {
   "cell_type": "markdown",
   "id": "1c7fd397",
   "metadata": {},
   "source": [
    "#### functions in python"
   ]
  },
  {
   "cell_type": "code",
   "execution_count": 20,
   "id": "50ea80f4",
   "metadata": {},
   "outputs": [
    {
     "data": {
      "text/plain": [
       "3"
      ]
     },
     "execution_count": 20,
     "metadata": {},
     "output_type": "execute_result"
    }
   ],
   "source": [
    "def foo_sum(a, b):\n",
    "    return a+b\n",
    "foo_sum(1, 2)"
   ]
  },
  {
   "cell_type": "code",
   "execution_count": 21,
   "id": "7da080d1",
   "metadata": {},
   "outputs": [
    {
     "name": "stdout",
     "output_type": "stream",
     "text": [
      "10\n"
     ]
    },
    {
     "data": {
      "text/plain": [
       "7"
      ]
     },
     "execution_count": 21,
     "metadata": {},
     "output_type": "execute_result"
    }
   ],
   "source": [
    "def foo_diff(num1 = 0, num2 = 0):\n",
    "    print(num1)\n",
    "    return num1-num2\n",
    "foo_diff(num1 = 10, num2 = 3)"
   ]
  },
  {
   "cell_type": "code",
   "execution_count": 22,
   "id": "3e163dd0",
   "metadata": {},
   "outputs": [
    {
     "name": "stdout",
     "output_type": "stream",
     "text": [
      "17\n"
     ]
    },
    {
     "data": {
      "text/plain": [
       "17"
      ]
     },
     "execution_count": 22,
     "metadata": {},
     "output_type": "execute_result"
    }
   ],
   "source": [
    "foo_diff(17)"
   ]
  },
  {
   "cell_type": "code",
   "execution_count": 23,
   "id": "181b7b13",
   "metadata": {},
   "outputs": [],
   "source": [
    "import pandas as pd\n",
    "import numpy as np"
   ]
  },
  {
   "cell_type": "code",
   "execution_count": 24,
   "id": "a3dd8713",
   "metadata": {},
   "outputs": [
    {
     "data": {
      "text/plain": [
       "[10, 20, 30, 50, 75, 90, 95]"
      ]
     },
     "execution_count": 24,
     "metadata": {},
     "output_type": "execute_result"
    }
   ],
   "source": [
    "marks"
   ]
  },
  {
   "cell_type": "code",
   "execution_count": 25,
   "id": "215ab5b9",
   "metadata": {},
   "outputs": [],
   "source": [
    "mark = pd.Series(marks)"
   ]
  },
  {
   "cell_type": "code",
   "execution_count": 26,
   "id": "86bb67da",
   "metadata": {},
   "outputs": [
    {
     "data": {
      "text/plain": [
       "0    10\n",
       "1    20\n",
       "2    30\n",
       "3    50\n",
       "4    75\n",
       "5    90\n",
       "6    95\n",
       "dtype: int64"
      ]
     },
     "execution_count": 26,
     "metadata": {},
     "output_type": "execute_result"
    }
   ],
   "source": [
    "mark"
   ]
  },
  {
   "cell_type": "code",
   "execution_count": 27,
   "id": "afdb10b8",
   "metadata": {},
   "outputs": [
    {
     "data": {
      "text/plain": [
       "RangeIndex(start=0, stop=7, step=1)"
      ]
     },
     "execution_count": 27,
     "metadata": {},
     "output_type": "execute_result"
    }
   ],
   "source": [
    "mark.index"
   ]
  },
  {
   "cell_type": "code",
   "execution_count": 28,
   "id": "5b034636",
   "metadata": {},
   "outputs": [
    {
     "data": {
      "text/plain": [
       "array([10, 20, 30, 50, 75, 90, 95], dtype=int64)"
      ]
     },
     "execution_count": 28,
     "metadata": {},
     "output_type": "execute_result"
    }
   ],
   "source": [
    "mark.values"
   ]
  },
  {
   "cell_type": "code",
   "execution_count": 29,
   "id": "1c5c85ea",
   "metadata": {},
   "outputs": [
    {
     "data": {
      "text/plain": [
       "4    75\n",
       "5    90\n",
       "6    95\n",
       "dtype: int64"
      ]
     },
     "execution_count": 29,
     "metadata": {},
     "output_type": "execute_result"
    }
   ],
   "source": [
    "mark[4:]"
   ]
  },
  {
   "cell_type": "code",
   "execution_count": 30,
   "id": "4708f2a6",
   "metadata": {},
   "outputs": [
    {
     "data": {
      "text/plain": [
       "0    10\n",
       "1    20\n",
       "2    30\n",
       "3    50\n",
       "dtype: int64"
      ]
     },
     "execution_count": 30,
     "metadata": {},
     "output_type": "execute_result"
    }
   ],
   "source": [
    "mark[:4]"
   ]
  },
  {
   "cell_type": "code",
   "execution_count": 31,
   "id": "b7421b52",
   "metadata": {},
   "outputs": [
    {
     "data": {
      "text/plain": [
       "0    10\n",
       "1    20\n",
       "2    30\n",
       "3    50\n",
       "4    75\n",
       "5    90\n",
       "6    95\n",
       "dtype: int64"
      ]
     },
     "execution_count": 31,
     "metadata": {},
     "output_type": "execute_result"
    }
   ],
   "source": [
    "mark[:]"
   ]
  },
  {
   "cell_type": "code",
   "execution_count": 32,
   "id": "7d49cb85",
   "metadata": {},
   "outputs": [],
   "source": [
    "mark[4]=None"
   ]
  },
  {
   "cell_type": "code",
   "execution_count": 33,
   "id": "bd7bcdce",
   "metadata": {},
   "outputs": [
    {
     "data": {
      "text/plain": [
       "0    10.0\n",
       "1    20.0\n",
       "2    30.0\n",
       "3    50.0\n",
       "4     NaN\n",
       "5    90.0\n",
       "6    95.0\n",
       "dtype: float64"
      ]
     },
     "execution_count": 33,
     "metadata": {},
     "output_type": "execute_result"
    }
   ],
   "source": [
    "mark[:]"
   ]
  },
  {
   "cell_type": "code",
   "execution_count": 35,
   "id": "bf680620",
   "metadata": {},
   "outputs": [
    {
     "data": {
      "text/plain": [
       "30.0    1\n",
       "20.0    1\n",
       "10.0    1\n",
       "50.0    1\n",
       "90.0    1\n",
       "95.0    1\n",
       "dtype: int64"
      ]
     },
     "execution_count": 35,
     "metadata": {},
     "output_type": "execute_result"
    }
   ],
   "source": [
    "mark.value_counts()"
   ]
  },
  {
   "cell_type": "code",
   "execution_count": 36,
   "id": "7c972d00",
   "metadata": {},
   "outputs": [],
   "source": [
    "sample_df = pd.DataFrame([marks, marks]).T"
   ]
  },
  {
   "cell_type": "code",
   "execution_count": 37,
   "id": "b10199a9",
   "metadata": {},
   "outputs": [
    {
     "data": {
      "text/html": [
       "<div>\n",
       "<style scoped>\n",
       "    .dataframe tbody tr th:only-of-type {\n",
       "        vertical-align: middle;\n",
       "    }\n",
       "\n",
       "    .dataframe tbody tr th {\n",
       "        vertical-align: top;\n",
       "    }\n",
       "\n",
       "    .dataframe thead th {\n",
       "        text-align: right;\n",
       "    }\n",
       "</style>\n",
       "<table border=\"1\" class=\"dataframe\">\n",
       "  <thead>\n",
       "    <tr style=\"text-align: right;\">\n",
       "      <th></th>\n",
       "      <th>0</th>\n",
       "      <th>1</th>\n",
       "    </tr>\n",
       "  </thead>\n",
       "  <tbody>\n",
       "    <tr>\n",
       "      <th>0</th>\n",
       "      <td>10</td>\n",
       "      <td>10</td>\n",
       "    </tr>\n",
       "    <tr>\n",
       "      <th>1</th>\n",
       "      <td>20</td>\n",
       "      <td>20</td>\n",
       "    </tr>\n",
       "    <tr>\n",
       "      <th>2</th>\n",
       "      <td>30</td>\n",
       "      <td>30</td>\n",
       "    </tr>\n",
       "    <tr>\n",
       "      <th>3</th>\n",
       "      <td>50</td>\n",
       "      <td>50</td>\n",
       "    </tr>\n",
       "    <tr>\n",
       "      <th>4</th>\n",
       "      <td>75</td>\n",
       "      <td>75</td>\n",
       "    </tr>\n",
       "    <tr>\n",
       "      <th>5</th>\n",
       "      <td>90</td>\n",
       "      <td>90</td>\n",
       "    </tr>\n",
       "    <tr>\n",
       "      <th>6</th>\n",
       "      <td>95</td>\n",
       "      <td>95</td>\n",
       "    </tr>\n",
       "  </tbody>\n",
       "</table>\n",
       "</div>"
      ],
      "text/plain": [
       "    0   1\n",
       "0  10  10\n",
       "1  20  20\n",
       "2  30  30\n",
       "3  50  50\n",
       "4  75  75\n",
       "5  90  90\n",
       "6  95  95"
      ]
     },
     "execution_count": 37,
     "metadata": {},
     "output_type": "execute_result"
    }
   ],
   "source": [
    "sample_df"
   ]
  },
  {
   "cell_type": "code",
   "execution_count": 38,
   "id": "983315c3",
   "metadata": {},
   "outputs": [],
   "source": [
    "sample_df.columns = ['marks01', 'marks02']"
   ]
  },
  {
   "cell_type": "code",
   "execution_count": 39,
   "id": "e8e70472",
   "metadata": {},
   "outputs": [
    {
     "data": {
      "text/html": [
       "<div>\n",
       "<style scoped>\n",
       "    .dataframe tbody tr th:only-of-type {\n",
       "        vertical-align: middle;\n",
       "    }\n",
       "\n",
       "    .dataframe tbody tr th {\n",
       "        vertical-align: top;\n",
       "    }\n",
       "\n",
       "    .dataframe thead th {\n",
       "        text-align: right;\n",
       "    }\n",
       "</style>\n",
       "<table border=\"1\" class=\"dataframe\">\n",
       "  <thead>\n",
       "    <tr style=\"text-align: right;\">\n",
       "      <th></th>\n",
       "      <th>marks01</th>\n",
       "      <th>marks02</th>\n",
       "    </tr>\n",
       "  </thead>\n",
       "  <tbody>\n",
       "    <tr>\n",
       "      <th>0</th>\n",
       "      <td>10</td>\n",
       "      <td>10</td>\n",
       "    </tr>\n",
       "    <tr>\n",
       "      <th>1</th>\n",
       "      <td>20</td>\n",
       "      <td>20</td>\n",
       "    </tr>\n",
       "    <tr>\n",
       "      <th>2</th>\n",
       "      <td>30</td>\n",
       "      <td>30</td>\n",
       "    </tr>\n",
       "    <tr>\n",
       "      <th>3</th>\n",
       "      <td>50</td>\n",
       "      <td>50</td>\n",
       "    </tr>\n",
       "    <tr>\n",
       "      <th>4</th>\n",
       "      <td>75</td>\n",
       "      <td>75</td>\n",
       "    </tr>\n",
       "    <tr>\n",
       "      <th>5</th>\n",
       "      <td>90</td>\n",
       "      <td>90</td>\n",
       "    </tr>\n",
       "    <tr>\n",
       "      <th>6</th>\n",
       "      <td>95</td>\n",
       "      <td>95</td>\n",
       "    </tr>\n",
       "  </tbody>\n",
       "</table>\n",
       "</div>"
      ],
      "text/plain": [
       "   marks01  marks02\n",
       "0       10       10\n",
       "1       20       20\n",
       "2       30       30\n",
       "3       50       50\n",
       "4       75       75\n",
       "5       90       90\n",
       "6       95       95"
      ]
     },
     "execution_count": 39,
     "metadata": {},
     "output_type": "execute_result"
    }
   ],
   "source": [
    "sample_df"
   ]
  },
  {
   "cell_type": "code",
   "execution_count": 40,
   "id": "5fdcd829",
   "metadata": {},
   "outputs": [],
   "source": [
    "# reading a csv file\n",
    "df = pd.read_csv(\"world_cup_data.csv\")"
   ]
  },
  {
   "cell_type": "code",
   "execution_count": 41,
   "id": "a8e04ebe",
   "metadata": {},
   "outputs": [
    {
     "data": {
      "text/html": [
       "<div>\n",
       "<style scoped>\n",
       "    .dataframe tbody tr th:only-of-type {\n",
       "        vertical-align: middle;\n",
       "    }\n",
       "\n",
       "    .dataframe tbody tr th {\n",
       "        vertical-align: top;\n",
       "    }\n",
       "\n",
       "    .dataframe thead th {\n",
       "        text-align: right;\n",
       "    }\n",
       "</style>\n",
       "<table border=\"1\" class=\"dataframe\">\n",
       "  <thead>\n",
       "    <tr style=\"text-align: right;\">\n",
       "      <th></th>\n",
       "      <th>Year</th>\n",
       "      <th>Position</th>\n",
       "      <th>Country</th>\n",
       "      <th>ELO Rating</th>\n",
       "      <th>FIFA  Rating</th>\n",
       "      <th>Continent</th>\n",
       "      <th>Host Country</th>\n",
       "      <th>Host Continent</th>\n",
       "      <th>Country Name</th>\n",
       "    </tr>\n",
       "  </thead>\n",
       "  <tbody>\n",
       "    <tr>\n",
       "      <th>0</th>\n",
       "      <td>2010</td>\n",
       "      <td>NaN</td>\n",
       "      <td>FRA</td>\n",
       "      <td>1851.0</td>\n",
       "      <td>1044</td>\n",
       "      <td>Europe</td>\n",
       "      <td>RSA</td>\n",
       "      <td>Africa</td>\n",
       "      <td>France</td>\n",
       "    </tr>\n",
       "    <tr>\n",
       "      <th>1</th>\n",
       "      <td>2010</td>\n",
       "      <td>NaN</td>\n",
       "      <td>MEX</td>\n",
       "      <td>1872.0</td>\n",
       "      <td>895</td>\n",
       "      <td>South America</td>\n",
       "      <td>RSA</td>\n",
       "      <td>Africa</td>\n",
       "      <td>Mexico</td>\n",
       "    </tr>\n",
       "    <tr>\n",
       "      <th>2</th>\n",
       "      <td>2010</td>\n",
       "      <td>NaN</td>\n",
       "      <td>URU</td>\n",
       "      <td>1819.0</td>\n",
       "      <td>899</td>\n",
       "      <td>South America</td>\n",
       "      <td>RSA</td>\n",
       "      <td>Africa</td>\n",
       "      <td>Uruguay</td>\n",
       "    </tr>\n",
       "    <tr>\n",
       "      <th>3</th>\n",
       "      <td>2010</td>\n",
       "      <td>NaN</td>\n",
       "      <td>RSA</td>\n",
       "      <td>1569.0</td>\n",
       "      <td>392</td>\n",
       "      <td>Africa</td>\n",
       "      <td>RSA</td>\n",
       "      <td>Africa</td>\n",
       "      <td>South Africa</td>\n",
       "    </tr>\n",
       "    <tr>\n",
       "      <th>4</th>\n",
       "      <td>2010</td>\n",
       "      <td>NaN</td>\n",
       "      <td>GRE</td>\n",
       "      <td>1726.0</td>\n",
       "      <td>964</td>\n",
       "      <td>Europe</td>\n",
       "      <td>RSA</td>\n",
       "      <td>Africa</td>\n",
       "      <td>Greece</td>\n",
       "    </tr>\n",
       "    <tr>\n",
       "      <th>...</th>\n",
       "      <td>...</td>\n",
       "      <td>...</td>\n",
       "      <td>...</td>\n",
       "      <td>...</td>\n",
       "      <td>...</td>\n",
       "      <td>...</td>\n",
       "      <td>...</td>\n",
       "      <td>...</td>\n",
       "      <td>...</td>\n",
       "    </tr>\n",
       "    <tr>\n",
       "      <th>147</th>\n",
       "      <td>1994</td>\n",
       "      <td>G4</td>\n",
       "      <td>CMR</td>\n",
       "      <td>NaN</td>\n",
       "      <td>45</td>\n",
       "      <td>Africa</td>\n",
       "      <td>USA</td>\n",
       "      <td>North America</td>\n",
       "      <td>Cameroon</td>\n",
       "    </tr>\n",
       "    <tr>\n",
       "      <th>148</th>\n",
       "      <td>1994</td>\n",
       "      <td>G4</td>\n",
       "      <td>BOL</td>\n",
       "      <td>NaN</td>\n",
       "      <td>35</td>\n",
       "      <td>Europe</td>\n",
       "      <td>USA</td>\n",
       "      <td>North America</td>\n",
       "      <td>Bolivia</td>\n",
       "    </tr>\n",
       "    <tr>\n",
       "      <th>149</th>\n",
       "      <td>1994</td>\n",
       "      <td>G4</td>\n",
       "      <td>GRE</td>\n",
       "      <td>NaN</td>\n",
       "      <td>41</td>\n",
       "      <td>Europe</td>\n",
       "      <td>USA</td>\n",
       "      <td>North America</td>\n",
       "      <td>Greece</td>\n",
       "    </tr>\n",
       "    <tr>\n",
       "      <th>150</th>\n",
       "      <td>1994</td>\n",
       "      <td>G4</td>\n",
       "      <td>NOR</td>\n",
       "      <td>NaN</td>\n",
       "      <td>56</td>\n",
       "      <td>Europe</td>\n",
       "      <td>USA</td>\n",
       "      <td>North America</td>\n",
       "      <td>Norway</td>\n",
       "    </tr>\n",
       "    <tr>\n",
       "      <th>151</th>\n",
       "      <td>1994</td>\n",
       "      <td>G4</td>\n",
       "      <td>MAR</td>\n",
       "      <td>NaN</td>\n",
       "      <td>43</td>\n",
       "      <td>Africa</td>\n",
       "      <td>USA</td>\n",
       "      <td>North America</td>\n",
       "      <td>Morocco</td>\n",
       "    </tr>\n",
       "  </tbody>\n",
       "</table>\n",
       "<p>152 rows × 9 columns</p>\n",
       "</div>"
      ],
      "text/plain": [
       "     Year Position Country  ELO Rating  FIFA  Rating      Continent  \\\n",
       "0    2010      NaN     FRA      1851.0          1044         Europe   \n",
       "1    2010      NaN     MEX      1872.0           895  South America   \n",
       "2    2010      NaN     URU      1819.0           899  South America   \n",
       "3    2010      NaN     RSA      1569.0           392         Africa   \n",
       "4    2010      NaN     GRE      1726.0           964         Europe   \n",
       "..    ...      ...     ...         ...           ...            ...   \n",
       "147  1994       G4     CMR         NaN            45         Africa   \n",
       "148  1994       G4     BOL         NaN            35         Europe   \n",
       "149  1994       G4     GRE         NaN            41         Europe   \n",
       "150  1994       G4     NOR         NaN            56         Europe   \n",
       "151  1994       G4     MAR         NaN            43         Africa   \n",
       "\n",
       "    Host Country Host Continent  Country Name  \n",
       "0            RSA         Africa        France  \n",
       "1            RSA         Africa        Mexico  \n",
       "2            RSA         Africa       Uruguay  \n",
       "3            RSA         Africa  South Africa  \n",
       "4            RSA         Africa        Greece  \n",
       "..           ...            ...           ...  \n",
       "147          USA  North America      Cameroon  \n",
       "148          USA  North America       Bolivia  \n",
       "149          USA  North America        Greece  \n",
       "150          USA  North America        Norway  \n",
       "151          USA  North America       Morocco  \n",
       "\n",
       "[152 rows x 9 columns]"
      ]
     },
     "execution_count": 41,
     "metadata": {},
     "output_type": "execute_result"
    }
   ],
   "source": [
    "df"
   ]
  },
  {
   "cell_type": "code",
   "execution_count": 42,
   "id": "93a661fd",
   "metadata": {},
   "outputs": [
    {
     "data": {
      "text/html": [
       "<div>\n",
       "<style scoped>\n",
       "    .dataframe tbody tr th:only-of-type {\n",
       "        vertical-align: middle;\n",
       "    }\n",
       "\n",
       "    .dataframe tbody tr th {\n",
       "        vertical-align: top;\n",
       "    }\n",
       "\n",
       "    .dataframe thead th {\n",
       "        text-align: right;\n",
       "    }\n",
       "</style>\n",
       "<table border=\"1\" class=\"dataframe\">\n",
       "  <thead>\n",
       "    <tr style=\"text-align: right;\">\n",
       "      <th></th>\n",
       "      <th>Year</th>\n",
       "      <th>Position</th>\n",
       "      <th>Country</th>\n",
       "      <th>ELO Rating</th>\n",
       "      <th>FIFA  Rating</th>\n",
       "      <th>Continent</th>\n",
       "      <th>Host Country</th>\n",
       "      <th>Host Continent</th>\n",
       "      <th>Country Name</th>\n",
       "    </tr>\n",
       "  </thead>\n",
       "  <tbody>\n",
       "    <tr>\n",
       "      <th>0</th>\n",
       "      <td>2010</td>\n",
       "      <td>NaN</td>\n",
       "      <td>FRA</td>\n",
       "      <td>1851.0</td>\n",
       "      <td>1044</td>\n",
       "      <td>Europe</td>\n",
       "      <td>RSA</td>\n",
       "      <td>Africa</td>\n",
       "      <td>France</td>\n",
       "    </tr>\n",
       "    <tr>\n",
       "      <th>1</th>\n",
       "      <td>2010</td>\n",
       "      <td>NaN</td>\n",
       "      <td>MEX</td>\n",
       "      <td>1872.0</td>\n",
       "      <td>895</td>\n",
       "      <td>South America</td>\n",
       "      <td>RSA</td>\n",
       "      <td>Africa</td>\n",
       "      <td>Mexico</td>\n",
       "    </tr>\n",
       "    <tr>\n",
       "      <th>2</th>\n",
       "      <td>2010</td>\n",
       "      <td>NaN</td>\n",
       "      <td>URU</td>\n",
       "      <td>1819.0</td>\n",
       "      <td>899</td>\n",
       "      <td>South America</td>\n",
       "      <td>RSA</td>\n",
       "      <td>Africa</td>\n",
       "      <td>Uruguay</td>\n",
       "    </tr>\n",
       "    <tr>\n",
       "      <th>3</th>\n",
       "      <td>2010</td>\n",
       "      <td>NaN</td>\n",
       "      <td>RSA</td>\n",
       "      <td>1569.0</td>\n",
       "      <td>392</td>\n",
       "      <td>Africa</td>\n",
       "      <td>RSA</td>\n",
       "      <td>Africa</td>\n",
       "      <td>South Africa</td>\n",
       "    </tr>\n",
       "    <tr>\n",
       "      <th>4</th>\n",
       "      <td>2010</td>\n",
       "      <td>NaN</td>\n",
       "      <td>GRE</td>\n",
       "      <td>1726.0</td>\n",
       "      <td>964</td>\n",
       "      <td>Europe</td>\n",
       "      <td>RSA</td>\n",
       "      <td>Africa</td>\n",
       "      <td>Greece</td>\n",
       "    </tr>\n",
       "  </tbody>\n",
       "</table>\n",
       "</div>"
      ],
      "text/plain": [
       "   Year Position Country  ELO Rating  FIFA  Rating      Continent  \\\n",
       "0  2010      NaN     FRA      1851.0          1044         Europe   \n",
       "1  2010      NaN     MEX      1872.0           895  South America   \n",
       "2  2010      NaN     URU      1819.0           899  South America   \n",
       "3  2010      NaN     RSA      1569.0           392         Africa   \n",
       "4  2010      NaN     GRE      1726.0           964         Europe   \n",
       "\n",
       "  Host Country Host Continent  Country Name  \n",
       "0          RSA         Africa        France  \n",
       "1          RSA         Africa        Mexico  \n",
       "2          RSA         Africa       Uruguay  \n",
       "3          RSA         Africa  South Africa  \n",
       "4          RSA         Africa        Greece  "
      ]
     },
     "execution_count": 42,
     "metadata": {},
     "output_type": "execute_result"
    }
   ],
   "source": [
    "df.head()"
   ]
  },
  {
   "cell_type": "code",
   "execution_count": 43,
   "id": "0b319aca",
   "metadata": {},
   "outputs": [
    {
     "data": {
      "text/html": [
       "<div>\n",
       "<style scoped>\n",
       "    .dataframe tbody tr th:only-of-type {\n",
       "        vertical-align: middle;\n",
       "    }\n",
       "\n",
       "    .dataframe tbody tr th {\n",
       "        vertical-align: top;\n",
       "    }\n",
       "\n",
       "    .dataframe thead th {\n",
       "        text-align: right;\n",
       "    }\n",
       "</style>\n",
       "<table border=\"1\" class=\"dataframe\">\n",
       "  <thead>\n",
       "    <tr style=\"text-align: right;\">\n",
       "      <th></th>\n",
       "      <th>Year</th>\n",
       "      <th>Position</th>\n",
       "      <th>Country</th>\n",
       "      <th>ELO Rating</th>\n",
       "      <th>FIFA  Rating</th>\n",
       "      <th>Continent</th>\n",
       "      <th>Host Country</th>\n",
       "      <th>Host Continent</th>\n",
       "      <th>Country Name</th>\n",
       "    </tr>\n",
       "  </thead>\n",
       "  <tbody>\n",
       "    <tr>\n",
       "      <th>147</th>\n",
       "      <td>1994</td>\n",
       "      <td>G4</td>\n",
       "      <td>CMR</td>\n",
       "      <td>NaN</td>\n",
       "      <td>45</td>\n",
       "      <td>Africa</td>\n",
       "      <td>USA</td>\n",
       "      <td>North America</td>\n",
       "      <td>Cameroon</td>\n",
       "    </tr>\n",
       "    <tr>\n",
       "      <th>148</th>\n",
       "      <td>1994</td>\n",
       "      <td>G4</td>\n",
       "      <td>BOL</td>\n",
       "      <td>NaN</td>\n",
       "      <td>35</td>\n",
       "      <td>Europe</td>\n",
       "      <td>USA</td>\n",
       "      <td>North America</td>\n",
       "      <td>Bolivia</td>\n",
       "    </tr>\n",
       "    <tr>\n",
       "      <th>149</th>\n",
       "      <td>1994</td>\n",
       "      <td>G4</td>\n",
       "      <td>GRE</td>\n",
       "      <td>NaN</td>\n",
       "      <td>41</td>\n",
       "      <td>Europe</td>\n",
       "      <td>USA</td>\n",
       "      <td>North America</td>\n",
       "      <td>Greece</td>\n",
       "    </tr>\n",
       "    <tr>\n",
       "      <th>150</th>\n",
       "      <td>1994</td>\n",
       "      <td>G4</td>\n",
       "      <td>NOR</td>\n",
       "      <td>NaN</td>\n",
       "      <td>56</td>\n",
       "      <td>Europe</td>\n",
       "      <td>USA</td>\n",
       "      <td>North America</td>\n",
       "      <td>Norway</td>\n",
       "    </tr>\n",
       "    <tr>\n",
       "      <th>151</th>\n",
       "      <td>1994</td>\n",
       "      <td>G4</td>\n",
       "      <td>MAR</td>\n",
       "      <td>NaN</td>\n",
       "      <td>43</td>\n",
       "      <td>Africa</td>\n",
       "      <td>USA</td>\n",
       "      <td>North America</td>\n",
       "      <td>Morocco</td>\n",
       "    </tr>\n",
       "  </tbody>\n",
       "</table>\n",
       "</div>"
      ],
      "text/plain": [
       "     Year Position Country  ELO Rating  FIFA  Rating Continent Host Country  \\\n",
       "147  1994       G4     CMR         NaN            45    Africa          USA   \n",
       "148  1994       G4     BOL         NaN            35    Europe          USA   \n",
       "149  1994       G4     GRE         NaN            41    Europe          USA   \n",
       "150  1994       G4     NOR         NaN            56    Europe          USA   \n",
       "151  1994       G4     MAR         NaN            43    Africa          USA   \n",
       "\n",
       "    Host Continent Country Name  \n",
       "147  North America     Cameroon  \n",
       "148  North America      Bolivia  \n",
       "149  North America       Greece  \n",
       "150  North America       Norway  \n",
       "151  North America      Morocco  "
      ]
     },
     "execution_count": 43,
     "metadata": {},
     "output_type": "execute_result"
    }
   ],
   "source": [
    "df.tail()"
   ]
  },
  {
   "cell_type": "code",
   "execution_count": 65,
   "id": "5d0f5eb2",
   "metadata": {},
   "outputs": [
    {
     "data": {
      "text/plain": [
       "RangeIndex(start=0, stop=152, step=1)"
      ]
     },
     "execution_count": 65,
     "metadata": {},
     "output_type": "execute_result"
    }
   ],
   "source": [
    "df.index"
   ]
  },
  {
   "cell_type": "code",
   "execution_count": 66,
   "id": "7f74ed43",
   "metadata": {},
   "outputs": [
    {
     "name": "stdout",
     "output_type": "stream",
     "text": [
      "<class 'pandas.core.frame.DataFrame'>\n",
      "RangeIndex: 152 entries, 0 to 151\n",
      "Data columns (total 9 columns):\n",
      " #   Column          Non-Null Count  Dtype  \n",
      "---  ------          --------------  -----  \n",
      " 0   Year            152 non-null    int64  \n",
      " 1   Position        120 non-null    object \n",
      " 2   Country         152 non-null    object \n",
      " 3   ELO Rating      32 non-null     float64\n",
      " 4   FIFA  Rating    152 non-null    int64  \n",
      " 5   Continent       152 non-null    object \n",
      " 6   Host Country    152 non-null    object \n",
      " 7   Host Continent  152 non-null    object \n",
      " 8   Country Name    152 non-null    object \n",
      "dtypes: float64(1), int64(2), object(6)\n",
      "memory usage: 10.8+ KB\n"
     ]
    }
   ],
   "source": [
    "df.info()"
   ]
  },
  {
   "cell_type": "code",
   "execution_count": 67,
   "id": "33bd90fa",
   "metadata": {},
   "outputs": [
    {
     "data": {
      "text/plain": [
       "Year                int64\n",
       "Position           object\n",
       "Country            object\n",
       "ELO Rating        float64\n",
       "FIFA  Rating        int64\n",
       "Continent          object\n",
       "Host Country       object\n",
       "Host Continent     object\n",
       "Country Name       object\n",
       "dtype: object"
      ]
     },
     "execution_count": 67,
     "metadata": {},
     "output_type": "execute_result"
    }
   ],
   "source": [
    "df.dtypes"
   ]
  },
  {
   "cell_type": "code",
   "execution_count": 46,
   "id": "6d4b7230",
   "metadata": {},
   "outputs": [
    {
     "data": {
      "text/plain": [
       "0      FRA\n",
       "1      MEX\n",
       "2      URU\n",
       "3      RSA\n",
       "4      GRE\n",
       "      ... \n",
       "147    CMR\n",
       "148    BOL\n",
       "149    GRE\n",
       "150    NOR\n",
       "151    MAR\n",
       "Name: Country, Length: 152, dtype: object"
      ]
     },
     "execution_count": 46,
     "metadata": {},
     "output_type": "execute_result"
    }
   ],
   "source": [
    "df['Country']"
   ]
  },
  {
   "cell_type": "code",
   "execution_count": 47,
   "id": "d3714091",
   "metadata": {},
   "outputs": [
    {
     "data": {
      "text/plain": [
       "pandas.core.series.Series"
      ]
     },
     "execution_count": 47,
     "metadata": {},
     "output_type": "execute_result"
    }
   ],
   "source": [
    "type(df['Country'])"
   ]
  },
  {
   "cell_type": "code",
   "execution_count": 48,
   "id": "b39fdcb3",
   "metadata": {},
   "outputs": [
    {
     "data": {
      "text/plain": [
       "pandas.core.frame.DataFrame"
      ]
     },
     "execution_count": 48,
     "metadata": {},
     "output_type": "execute_result"
    }
   ],
   "source": [
    "type(df)"
   ]
  },
  {
   "cell_type": "code",
   "execution_count": 49,
   "id": "43f1db46",
   "metadata": {},
   "outputs": [
    {
     "data": {
      "text/plain": [
       "BRA    5\n",
       "KOR    5\n",
       "MEX    5\n",
       "ITA    5\n",
       "USA    5\n",
       "      ..\n",
       "SEN    1\n",
       "TUR    1\n",
       "AUT    1\n",
       "ALG    1\n",
       "YUG    1\n",
       "Name: Country, Length: 61, dtype: int64"
      ]
     },
     "execution_count": 49,
     "metadata": {},
     "output_type": "execute_result"
    }
   ],
   "source": [
    "df['Country'].value_counts()"
   ]
  },
  {
   "cell_type": "code",
   "execution_count": 50,
   "id": "594be99d",
   "metadata": {},
   "outputs": [
    {
     "data": {
      "text/plain": [
       "(152, 9)"
      ]
     },
     "execution_count": 50,
     "metadata": {},
     "output_type": "execute_result"
    }
   ],
   "source": [
    "df.shape"
   ]
  },
  {
   "cell_type": "code",
   "execution_count": 52,
   "id": "31106a13",
   "metadata": {},
   "outputs": [
    {
     "data": {
      "text/html": [
       "<div>\n",
       "<style scoped>\n",
       "    .dataframe tbody tr th:only-of-type {\n",
       "        vertical-align: middle;\n",
       "    }\n",
       "\n",
       "    .dataframe tbody tr th {\n",
       "        vertical-align: top;\n",
       "    }\n",
       "\n",
       "    .dataframe thead th {\n",
       "        text-align: right;\n",
       "    }\n",
       "</style>\n",
       "<table border=\"1\" class=\"dataframe\">\n",
       "  <thead>\n",
       "    <tr style=\"text-align: right;\">\n",
       "      <th></th>\n",
       "      <th>Year</th>\n",
       "      <th>Position</th>\n",
       "      <th>Country</th>\n",
       "      <th>ELO Rating</th>\n",
       "      <th>FIFA  Rating</th>\n",
       "      <th>Continent</th>\n",
       "      <th>Host Country</th>\n",
       "      <th>Host Continent</th>\n",
       "      <th>Country Name</th>\n",
       "    </tr>\n",
       "  </thead>\n",
       "  <tbody>\n",
       "    <tr>\n",
       "      <th>0</th>\n",
       "      <td>False</td>\n",
       "      <td>True</td>\n",
       "      <td>False</td>\n",
       "      <td>False</td>\n",
       "      <td>False</td>\n",
       "      <td>False</td>\n",
       "      <td>False</td>\n",
       "      <td>False</td>\n",
       "      <td>False</td>\n",
       "    </tr>\n",
       "    <tr>\n",
       "      <th>1</th>\n",
       "      <td>False</td>\n",
       "      <td>True</td>\n",
       "      <td>False</td>\n",
       "      <td>False</td>\n",
       "      <td>False</td>\n",
       "      <td>False</td>\n",
       "      <td>False</td>\n",
       "      <td>False</td>\n",
       "      <td>False</td>\n",
       "    </tr>\n",
       "    <tr>\n",
       "      <th>2</th>\n",
       "      <td>False</td>\n",
       "      <td>True</td>\n",
       "      <td>False</td>\n",
       "      <td>False</td>\n",
       "      <td>False</td>\n",
       "      <td>False</td>\n",
       "      <td>False</td>\n",
       "      <td>False</td>\n",
       "      <td>False</td>\n",
       "    </tr>\n",
       "    <tr>\n",
       "      <th>3</th>\n",
       "      <td>False</td>\n",
       "      <td>True</td>\n",
       "      <td>False</td>\n",
       "      <td>False</td>\n",
       "      <td>False</td>\n",
       "      <td>False</td>\n",
       "      <td>False</td>\n",
       "      <td>False</td>\n",
       "      <td>False</td>\n",
       "    </tr>\n",
       "    <tr>\n",
       "      <th>4</th>\n",
       "      <td>False</td>\n",
       "      <td>True</td>\n",
       "      <td>False</td>\n",
       "      <td>False</td>\n",
       "      <td>False</td>\n",
       "      <td>False</td>\n",
       "      <td>False</td>\n",
       "      <td>False</td>\n",
       "      <td>False</td>\n",
       "    </tr>\n",
       "    <tr>\n",
       "      <th>...</th>\n",
       "      <td>...</td>\n",
       "      <td>...</td>\n",
       "      <td>...</td>\n",
       "      <td>...</td>\n",
       "      <td>...</td>\n",
       "      <td>...</td>\n",
       "      <td>...</td>\n",
       "      <td>...</td>\n",
       "      <td>...</td>\n",
       "    </tr>\n",
       "    <tr>\n",
       "      <th>147</th>\n",
       "      <td>False</td>\n",
       "      <td>False</td>\n",
       "      <td>False</td>\n",
       "      <td>True</td>\n",
       "      <td>False</td>\n",
       "      <td>False</td>\n",
       "      <td>False</td>\n",
       "      <td>False</td>\n",
       "      <td>False</td>\n",
       "    </tr>\n",
       "    <tr>\n",
       "      <th>148</th>\n",
       "      <td>False</td>\n",
       "      <td>False</td>\n",
       "      <td>False</td>\n",
       "      <td>True</td>\n",
       "      <td>False</td>\n",
       "      <td>False</td>\n",
       "      <td>False</td>\n",
       "      <td>False</td>\n",
       "      <td>False</td>\n",
       "    </tr>\n",
       "    <tr>\n",
       "      <th>149</th>\n",
       "      <td>False</td>\n",
       "      <td>False</td>\n",
       "      <td>False</td>\n",
       "      <td>True</td>\n",
       "      <td>False</td>\n",
       "      <td>False</td>\n",
       "      <td>False</td>\n",
       "      <td>False</td>\n",
       "      <td>False</td>\n",
       "    </tr>\n",
       "    <tr>\n",
       "      <th>150</th>\n",
       "      <td>False</td>\n",
       "      <td>False</td>\n",
       "      <td>False</td>\n",
       "      <td>True</td>\n",
       "      <td>False</td>\n",
       "      <td>False</td>\n",
       "      <td>False</td>\n",
       "      <td>False</td>\n",
       "      <td>False</td>\n",
       "    </tr>\n",
       "    <tr>\n",
       "      <th>151</th>\n",
       "      <td>False</td>\n",
       "      <td>False</td>\n",
       "      <td>False</td>\n",
       "      <td>True</td>\n",
       "      <td>False</td>\n",
       "      <td>False</td>\n",
       "      <td>False</td>\n",
       "      <td>False</td>\n",
       "      <td>False</td>\n",
       "    </tr>\n",
       "  </tbody>\n",
       "</table>\n",
       "<p>152 rows × 9 columns</p>\n",
       "</div>"
      ],
      "text/plain": [
       "      Year  Position  Country  ELO Rating  FIFA  Rating  Continent  \\\n",
       "0    False      True    False       False         False      False   \n",
       "1    False      True    False       False         False      False   \n",
       "2    False      True    False       False         False      False   \n",
       "3    False      True    False       False         False      False   \n",
       "4    False      True    False       False         False      False   \n",
       "..     ...       ...      ...         ...           ...        ...   \n",
       "147  False     False    False        True         False      False   \n",
       "148  False     False    False        True         False      False   \n",
       "149  False     False    False        True         False      False   \n",
       "150  False     False    False        True         False      False   \n",
       "151  False     False    False        True         False      False   \n",
       "\n",
       "     Host Country  Host Continent  Country Name  \n",
       "0           False           False         False  \n",
       "1           False           False         False  \n",
       "2           False           False         False  \n",
       "3           False           False         False  \n",
       "4           False           False         False  \n",
       "..            ...             ...           ...  \n",
       "147         False           False         False  \n",
       "148         False           False         False  \n",
       "149         False           False         False  \n",
       "150         False           False         False  \n",
       "151         False           False         False  \n",
       "\n",
       "[152 rows x 9 columns]"
      ]
     },
     "execution_count": 52,
     "metadata": {},
     "output_type": "execute_result"
    }
   ],
   "source": [
    "df.isna()"
   ]
  },
  {
   "cell_type": "code",
   "execution_count": 53,
   "id": "622ad3ef",
   "metadata": {},
   "outputs": [
    {
     "data": {
      "text/plain": [
       "Year                0\n",
       "Position           32\n",
       "Country             0\n",
       "ELO Rating        120\n",
       "FIFA  Rating        0\n",
       "Continent           0\n",
       "Host Country        0\n",
       "Host Continent      0\n",
       "Country Name        0\n",
       "dtype: int64"
      ]
     },
     "execution_count": 53,
     "metadata": {},
     "output_type": "execute_result"
    }
   ],
   "source": [
    "df.isna().sum()"
   ]
  },
  {
   "cell_type": "code",
   "execution_count": 59,
   "id": "1b62e050",
   "metadata": {},
   "outputs": [
    {
     "data": {
      "text/html": [
       "<div>\n",
       "<style scoped>\n",
       "    .dataframe tbody tr th:only-of-type {\n",
       "        vertical-align: middle;\n",
       "    }\n",
       "\n",
       "    .dataframe tbody tr th {\n",
       "        vertical-align: top;\n",
       "    }\n",
       "\n",
       "    .dataframe thead th {\n",
       "        text-align: right;\n",
       "    }\n",
       "</style>\n",
       "<table border=\"1\" class=\"dataframe\">\n",
       "  <thead>\n",
       "    <tr style=\"text-align: right;\">\n",
       "      <th></th>\n",
       "      <th>Year</th>\n",
       "      <th>Position</th>\n",
       "      <th>Country</th>\n",
       "      <th>ELO Rating</th>\n",
       "      <th>FIFA  Rating</th>\n",
       "      <th>Continent</th>\n",
       "      <th>Host Country</th>\n",
       "      <th>Host Continent</th>\n",
       "      <th>Country Name</th>\n",
       "    </tr>\n",
       "  </thead>\n",
       "  <tbody>\n",
       "    <tr>\n",
       "      <th>0</th>\n",
       "      <td>2010</td>\n",
       "      <td>-</td>\n",
       "      <td>FRA</td>\n",
       "      <td>1851.0</td>\n",
       "      <td>1044</td>\n",
       "      <td>Europe</td>\n",
       "      <td>RSA</td>\n",
       "      <td>Africa</td>\n",
       "      <td>France</td>\n",
       "    </tr>\n",
       "    <tr>\n",
       "      <th>1</th>\n",
       "      <td>2010</td>\n",
       "      <td>-</td>\n",
       "      <td>MEX</td>\n",
       "      <td>1872.0</td>\n",
       "      <td>895</td>\n",
       "      <td>South America</td>\n",
       "      <td>RSA</td>\n",
       "      <td>Africa</td>\n",
       "      <td>Mexico</td>\n",
       "    </tr>\n",
       "    <tr>\n",
       "      <th>2</th>\n",
       "      <td>2010</td>\n",
       "      <td>-</td>\n",
       "      <td>URU</td>\n",
       "      <td>1819.0</td>\n",
       "      <td>899</td>\n",
       "      <td>South America</td>\n",
       "      <td>RSA</td>\n",
       "      <td>Africa</td>\n",
       "      <td>Uruguay</td>\n",
       "    </tr>\n",
       "    <tr>\n",
       "      <th>3</th>\n",
       "      <td>2010</td>\n",
       "      <td>-</td>\n",
       "      <td>RSA</td>\n",
       "      <td>1569.0</td>\n",
       "      <td>392</td>\n",
       "      <td>Africa</td>\n",
       "      <td>RSA</td>\n",
       "      <td>Africa</td>\n",
       "      <td>South Africa</td>\n",
       "    </tr>\n",
       "    <tr>\n",
       "      <th>4</th>\n",
       "      <td>2010</td>\n",
       "      <td>-</td>\n",
       "      <td>GRE</td>\n",
       "      <td>1726.0</td>\n",
       "      <td>964</td>\n",
       "      <td>Europe</td>\n",
       "      <td>RSA</td>\n",
       "      <td>Africa</td>\n",
       "      <td>Greece</td>\n",
       "    </tr>\n",
       "    <tr>\n",
       "      <th>...</th>\n",
       "      <td>...</td>\n",
       "      <td>...</td>\n",
       "      <td>...</td>\n",
       "      <td>...</td>\n",
       "      <td>...</td>\n",
       "      <td>...</td>\n",
       "      <td>...</td>\n",
       "      <td>...</td>\n",
       "      <td>...</td>\n",
       "    </tr>\n",
       "    <tr>\n",
       "      <th>147</th>\n",
       "      <td>1994</td>\n",
       "      <td>G4</td>\n",
       "      <td>CMR</td>\n",
       "      <td>-</td>\n",
       "      <td>45</td>\n",
       "      <td>Africa</td>\n",
       "      <td>USA</td>\n",
       "      <td>North America</td>\n",
       "      <td>Cameroon</td>\n",
       "    </tr>\n",
       "    <tr>\n",
       "      <th>148</th>\n",
       "      <td>1994</td>\n",
       "      <td>G4</td>\n",
       "      <td>BOL</td>\n",
       "      <td>-</td>\n",
       "      <td>35</td>\n",
       "      <td>Europe</td>\n",
       "      <td>USA</td>\n",
       "      <td>North America</td>\n",
       "      <td>Bolivia</td>\n",
       "    </tr>\n",
       "    <tr>\n",
       "      <th>149</th>\n",
       "      <td>1994</td>\n",
       "      <td>G4</td>\n",
       "      <td>GRE</td>\n",
       "      <td>-</td>\n",
       "      <td>41</td>\n",
       "      <td>Europe</td>\n",
       "      <td>USA</td>\n",
       "      <td>North America</td>\n",
       "      <td>Greece</td>\n",
       "    </tr>\n",
       "    <tr>\n",
       "      <th>150</th>\n",
       "      <td>1994</td>\n",
       "      <td>G4</td>\n",
       "      <td>NOR</td>\n",
       "      <td>-</td>\n",
       "      <td>56</td>\n",
       "      <td>Europe</td>\n",
       "      <td>USA</td>\n",
       "      <td>North America</td>\n",
       "      <td>Norway</td>\n",
       "    </tr>\n",
       "    <tr>\n",
       "      <th>151</th>\n",
       "      <td>1994</td>\n",
       "      <td>G4</td>\n",
       "      <td>MAR</td>\n",
       "      <td>-</td>\n",
       "      <td>43</td>\n",
       "      <td>Africa</td>\n",
       "      <td>USA</td>\n",
       "      <td>North America</td>\n",
       "      <td>Morocco</td>\n",
       "    </tr>\n",
       "  </tbody>\n",
       "</table>\n",
       "<p>152 rows × 9 columns</p>\n",
       "</div>"
      ],
      "text/plain": [
       "     Year Position Country ELO Rating  FIFA  Rating      Continent  \\\n",
       "0    2010        -     FRA     1851.0          1044         Europe   \n",
       "1    2010        -     MEX     1872.0           895  South America   \n",
       "2    2010        -     URU     1819.0           899  South America   \n",
       "3    2010        -     RSA     1569.0           392         Africa   \n",
       "4    2010        -     GRE     1726.0           964         Europe   \n",
       "..    ...      ...     ...        ...           ...            ...   \n",
       "147  1994       G4     CMR          -            45         Africa   \n",
       "148  1994       G4     BOL          -            35         Europe   \n",
       "149  1994       G4     GRE          -            41         Europe   \n",
       "150  1994       G4     NOR          -            56         Europe   \n",
       "151  1994       G4     MAR          -            43         Africa   \n",
       "\n",
       "    Host Country Host Continent  Country Name  \n",
       "0            RSA         Africa        France  \n",
       "1            RSA         Africa        Mexico  \n",
       "2            RSA         Africa       Uruguay  \n",
       "3            RSA         Africa  South Africa  \n",
       "4            RSA         Africa        Greece  \n",
       "..           ...            ...           ...  \n",
       "147          USA  North America      Cameroon  \n",
       "148          USA  North America       Bolivia  \n",
       "149          USA  North America        Greece  \n",
       "150          USA  North America        Norway  \n",
       "151          USA  North America       Morocco  \n",
       "\n",
       "[152 rows x 9 columns]"
      ]
     },
     "execution_count": 59,
     "metadata": {},
     "output_type": "execute_result"
    }
   ],
   "source": [
    "df.fillna('-')"
   ]
  },
  {
   "cell_type": "code",
   "execution_count": 56,
   "id": "0c5a0891",
   "metadata": {},
   "outputs": [
    {
     "data": {
      "text/plain": [
       "Index(['Year', 'Position', 'Country', 'ELO Rating', 'FIFA  Rating',\n",
       "       'Continent', 'Host Country', 'Host Continent', 'Country Name'],\n",
       "      dtype='object')"
      ]
     },
     "execution_count": 56,
     "metadata": {},
     "output_type": "execute_result"
    }
   ],
   "source": [
    "df.columns"
   ]
  },
  {
   "cell_type": "code",
   "execution_count": 68,
   "id": "7bcf87bb",
   "metadata": {},
   "outputs": [
    {
     "data": {
      "text/html": [
       "<div>\n",
       "<style scoped>\n",
       "    .dataframe tbody tr th:only-of-type {\n",
       "        vertical-align: middle;\n",
       "    }\n",
       "\n",
       "    .dataframe tbody tr th {\n",
       "        vertical-align: top;\n",
       "    }\n",
       "\n",
       "    .dataframe thead th {\n",
       "        text-align: right;\n",
       "    }\n",
       "</style>\n",
       "<table border=\"1\" class=\"dataframe\">\n",
       "  <thead>\n",
       "    <tr style=\"text-align: right;\">\n",
       "      <th></th>\n",
       "      <th>ELO Rating</th>\n",
       "      <th>FIFA  Rating</th>\n",
       "    </tr>\n",
       "  </thead>\n",
       "  <tbody>\n",
       "    <tr>\n",
       "      <th>0</th>\n",
       "      <td>1851.0</td>\n",
       "      <td>1044</td>\n",
       "    </tr>\n",
       "    <tr>\n",
       "      <th>1</th>\n",
       "      <td>1872.0</td>\n",
       "      <td>895</td>\n",
       "    </tr>\n",
       "    <tr>\n",
       "      <th>2</th>\n",
       "      <td>1819.0</td>\n",
       "      <td>899</td>\n",
       "    </tr>\n",
       "    <tr>\n",
       "      <th>3</th>\n",
       "      <td>1569.0</td>\n",
       "      <td>392</td>\n",
       "    </tr>\n",
       "    <tr>\n",
       "      <th>4</th>\n",
       "      <td>1726.0</td>\n",
       "      <td>964</td>\n",
       "    </tr>\n",
       "    <tr>\n",
       "      <th>...</th>\n",
       "      <td>...</td>\n",
       "      <td>...</td>\n",
       "    </tr>\n",
       "    <tr>\n",
       "      <th>147</th>\n",
       "      <td>NaN</td>\n",
       "      <td>45</td>\n",
       "    </tr>\n",
       "    <tr>\n",
       "      <th>148</th>\n",
       "      <td>NaN</td>\n",
       "      <td>35</td>\n",
       "    </tr>\n",
       "    <tr>\n",
       "      <th>149</th>\n",
       "      <td>NaN</td>\n",
       "      <td>41</td>\n",
       "    </tr>\n",
       "    <tr>\n",
       "      <th>150</th>\n",
       "      <td>NaN</td>\n",
       "      <td>56</td>\n",
       "    </tr>\n",
       "    <tr>\n",
       "      <th>151</th>\n",
       "      <td>NaN</td>\n",
       "      <td>43</td>\n",
       "    </tr>\n",
       "  </tbody>\n",
       "</table>\n",
       "<p>152 rows × 2 columns</p>\n",
       "</div>"
      ],
      "text/plain": [
       "     ELO Rating  FIFA  Rating\n",
       "0        1851.0          1044\n",
       "1        1872.0           895\n",
       "2        1819.0           899\n",
       "3        1569.0           392\n",
       "4        1726.0           964\n",
       "..          ...           ...\n",
       "147         NaN            45\n",
       "148         NaN            35\n",
       "149         NaN            41\n",
       "150         NaN            56\n",
       "151         NaN            43\n",
       "\n",
       "[152 rows x 2 columns]"
      ]
     },
     "execution_count": 68,
     "metadata": {},
     "output_type": "execute_result"
    }
   ],
   "source": [
    "new_list = ['ELO Rating', 'FIFA  Rating']\n",
    "df[new_list]"
   ]
  },
  {
   "cell_type": "code",
   "execution_count": 69,
   "id": "40eca6e5",
   "metadata": {},
   "outputs": [
    {
     "data": {
      "text/plain": [
       "0             Africa\n",
       "1             Africa\n",
       "2             Africa\n",
       "3             Africa\n",
       "4             Africa\n",
       "           ...      \n",
       "147    North America\n",
       "148    North America\n",
       "149    North America\n",
       "150    North America\n",
       "151    North America\n",
       "Name: Host Continent, Length: 152, dtype: object"
      ]
     },
     "execution_count": 69,
     "metadata": {},
     "output_type": "execute_result"
    }
   ],
   "source": [
    "df['Host Continent']"
   ]
  },
  {
   "cell_type": "code",
   "execution_count": 76,
   "id": "e303597c",
   "metadata": {},
   "outputs": [
    {
     "data": {
      "text/plain": [
       "Europe           64\n",
       "Asia             32\n",
       "Africa           32\n",
       "North America    24\n",
       "Name: Host Continent, dtype: int64"
      ]
     },
     "execution_count": 76,
     "metadata": {},
     "output_type": "execute_result"
    }
   ],
   "source": [
    "df['Host Continent'].value_counts()"
   ]
  },
  {
   "cell_type": "code",
   "execution_count": 81,
   "id": "b4edca3e",
   "metadata": {},
   "outputs": [
    {
     "data": {
      "text/plain": [
       "0       True\n",
       "1       True\n",
       "2       True\n",
       "3       True\n",
       "4       True\n",
       "       ...  \n",
       "147    False\n",
       "148    False\n",
       "149    False\n",
       "150    False\n",
       "151    False\n",
       "Name: ELO Rating, Length: 152, dtype: bool"
      ]
     },
     "execution_count": 81,
     "metadata": {},
     "output_type": "execute_result"
    }
   ],
   "source": [
    "df['ELO Rating']>3"
   ]
  },
  {
   "cell_type": "code",
   "execution_count": 87,
   "id": "5481b166",
   "metadata": {},
   "outputs": [
    {
     "data": {
      "text/html": [
       "<div>\n",
       "<style scoped>\n",
       "    .dataframe tbody tr th:only-of-type {\n",
       "        vertical-align: middle;\n",
       "    }\n",
       "\n",
       "    .dataframe tbody tr th {\n",
       "        vertical-align: top;\n",
       "    }\n",
       "\n",
       "    .dataframe thead th {\n",
       "        text-align: right;\n",
       "    }\n",
       "</style>\n",
       "<table border=\"1\" class=\"dataframe\">\n",
       "  <thead>\n",
       "    <tr style=\"text-align: right;\">\n",
       "      <th></th>\n",
       "      <th>Year</th>\n",
       "      <th>Position</th>\n",
       "      <th>Country</th>\n",
       "      <th>ELO Rating</th>\n",
       "      <th>FIFA  Rating</th>\n",
       "      <th>Continent</th>\n",
       "      <th>Host Country</th>\n",
       "      <th>Host Continent</th>\n",
       "      <th>Country Name</th>\n",
       "    </tr>\n",
       "  </thead>\n",
       "  <tbody>\n",
       "  </tbody>\n",
       "</table>\n",
       "</div>"
      ],
      "text/plain": [
       "Empty DataFrame\n",
       "Columns: [Year, Position, Country, ELO Rating, FIFA  Rating, Continent, Host Country, Host Continent, Country Name]\n",
       "Index: []"
      ]
     },
     "execution_count": 87,
     "metadata": {},
     "output_type": "execute_result"
    }
   ],
   "source": [
    "df[(df['ELO Rating']>3)&(df['ELO Rating']<100)]"
   ]
  },
  {
   "cell_type": "code",
   "execution_count": 88,
   "id": "01a77882",
   "metadata": {},
   "outputs": [
    {
     "data": {
      "text/html": [
       "<div>\n",
       "<style scoped>\n",
       "    .dataframe tbody tr th:only-of-type {\n",
       "        vertical-align: middle;\n",
       "    }\n",
       "\n",
       "    .dataframe tbody tr th {\n",
       "        vertical-align: top;\n",
       "    }\n",
       "\n",
       "    .dataframe thead th {\n",
       "        text-align: right;\n",
       "    }\n",
       "</style>\n",
       "<table border=\"1\" class=\"dataframe\">\n",
       "  <thead>\n",
       "    <tr style=\"text-align: right;\">\n",
       "      <th></th>\n",
       "      <th>Year</th>\n",
       "      <th>ELO Rating</th>\n",
       "      <th>FIFA  Rating</th>\n",
       "    </tr>\n",
       "  </thead>\n",
       "  <tbody>\n",
       "    <tr>\n",
       "      <th>Year</th>\n",
       "      <td>1.000000</td>\n",
       "      <td>NaN</td>\n",
       "      <td>0.867003</td>\n",
       "    </tr>\n",
       "    <tr>\n",
       "      <th>ELO Rating</th>\n",
       "      <td>NaN</td>\n",
       "      <td>1.000000</td>\n",
       "      <td>0.849345</td>\n",
       "    </tr>\n",
       "    <tr>\n",
       "      <th>FIFA  Rating</th>\n",
       "      <td>0.867003</td>\n",
       "      <td>0.849345</td>\n",
       "      <td>1.000000</td>\n",
       "    </tr>\n",
       "  </tbody>\n",
       "</table>\n",
       "</div>"
      ],
      "text/plain": [
       "                  Year  ELO Rating  FIFA  Rating\n",
       "Year          1.000000         NaN      0.867003\n",
       "ELO Rating         NaN    1.000000      0.849345\n",
       "FIFA  Rating  0.867003    0.849345      1.000000"
      ]
     },
     "execution_count": 88,
     "metadata": {},
     "output_type": "execute_result"
    }
   ],
   "source": [
    "df.corr()"
   ]
  },
  {
   "cell_type": "code",
   "execution_count": 89,
   "id": "dae012cf",
   "metadata": {},
   "outputs": [
    {
     "data": {
      "text/html": [
       "<div>\n",
       "<style scoped>\n",
       "    .dataframe tbody tr th:only-of-type {\n",
       "        vertical-align: middle;\n",
       "    }\n",
       "\n",
       "    .dataframe tbody tr th {\n",
       "        vertical-align: top;\n",
       "    }\n",
       "\n",
       "    .dataframe thead th {\n",
       "        text-align: right;\n",
       "    }\n",
       "</style>\n",
       "<table border=\"1\" class=\"dataframe\">\n",
       "  <thead>\n",
       "    <tr style=\"text-align: right;\">\n",
       "      <th></th>\n",
       "      <th>Year</th>\n",
       "      <th>ELO Rating</th>\n",
       "      <th>FIFA  Rating</th>\n",
       "    </tr>\n",
       "  </thead>\n",
       "  <tbody>\n",
       "    <tr>\n",
       "      <th>count</th>\n",
       "      <td>152.000000</td>\n",
       "      <td>32.000000</td>\n",
       "      <td>152.000000</td>\n",
       "    </tr>\n",
       "    <tr>\n",
       "      <th>mean</th>\n",
       "      <td>2002.421053</td>\n",
       "      <td>1776.625000</td>\n",
       "      <td>498.309211</td>\n",
       "    </tr>\n",
       "    <tr>\n",
       "      <th>std</th>\n",
       "      <td>5.508003</td>\n",
       "      <td>146.987546</td>\n",
       "      <td>381.814875</td>\n",
       "    </tr>\n",
       "    <tr>\n",
       "      <th>min</th>\n",
       "      <td>1994.000000</td>\n",
       "      <td>1531.000000</td>\n",
       "      <td>35.000000</td>\n",
       "    </tr>\n",
       "    <tr>\n",
       "      <th>25%</th>\n",
       "      <td>1998.000000</td>\n",
       "      <td>1689.250000</td>\n",
       "      <td>56.000000</td>\n",
       "    </tr>\n",
       "    <tr>\n",
       "      <th>50%</th>\n",
       "      <td>2002.000000</td>\n",
       "      <td>1752.000000</td>\n",
       "      <td>634.500000</td>\n",
       "    </tr>\n",
       "    <tr>\n",
       "      <th>75%</th>\n",
       "      <td>2006.000000</td>\n",
       "      <td>1863.000000</td>\n",
       "      <td>742.250000</td>\n",
       "    </tr>\n",
       "    <tr>\n",
       "      <th>max</th>\n",
       "      <td>2010.000000</td>\n",
       "      <td>2085.000000</td>\n",
       "      <td>1611.000000</td>\n",
       "    </tr>\n",
       "  </tbody>\n",
       "</table>\n",
       "</div>"
      ],
      "text/plain": [
       "              Year   ELO Rating  FIFA  Rating\n",
       "count   152.000000    32.000000    152.000000\n",
       "mean   2002.421053  1776.625000    498.309211\n",
       "std       5.508003   146.987546    381.814875\n",
       "min    1994.000000  1531.000000     35.000000\n",
       "25%    1998.000000  1689.250000     56.000000\n",
       "50%    2002.000000  1752.000000    634.500000\n",
       "75%    2006.000000  1863.000000    742.250000\n",
       "max    2010.000000  2085.000000   1611.000000"
      ]
     },
     "execution_count": 89,
     "metadata": {},
     "output_type": "execute_result"
    }
   ],
   "source": [
    "df.describe()"
   ]
  },
  {
   "cell_type": "code",
   "execution_count": 70,
   "id": "1abd4da7",
   "metadata": {},
   "outputs": [
    {
     "data": {
      "text/plain": [
       "['A', 'B', 'C', 'D', 'E', 'F', 'G']"
      ]
     },
     "execution_count": 70,
     "metadata": {},
     "output_type": "execute_result"
    }
   ],
   "source": [
    "list('ABCDEFG')"
   ]
  },
  {
   "cell_type": "code",
   "execution_count": 72,
   "id": "c2e16591",
   "metadata": {},
   "outputs": [],
   "source": [
    "sname = list('ABCDEFG')"
   ]
  },
  {
   "cell_type": "code",
   "execution_count": 73,
   "id": "db5bd60f",
   "metadata": {},
   "outputs": [
    {
     "data": {
      "text/plain": [
       "{'Sno': ['A', 'B', 'C', 'D', 'E', 'F', 'G'],\n",
       " 'marks': [10, 20, 30, 50, 75, 90, 95]}"
      ]
     },
     "execution_count": 73,
     "metadata": {},
     "output_type": "execute_result"
    }
   ],
   "source": [
    "sample_dict = {'Sno':sname, 'marks':marks}\n",
    "sample_dict"
   ]
  },
  {
   "cell_type": "code",
   "execution_count": 74,
   "id": "10574186",
   "metadata": {},
   "outputs": [],
   "source": [
    "df2 = pd.DataFrame(sample_dict)"
   ]
  },
  {
   "cell_type": "code",
   "execution_count": 75,
   "id": "f0134846",
   "metadata": {},
   "outputs": [
    {
     "data": {
      "text/html": [
       "<div>\n",
       "<style scoped>\n",
       "    .dataframe tbody tr th:only-of-type {\n",
       "        vertical-align: middle;\n",
       "    }\n",
       "\n",
       "    .dataframe tbody tr th {\n",
       "        vertical-align: top;\n",
       "    }\n",
       "\n",
       "    .dataframe thead th {\n",
       "        text-align: right;\n",
       "    }\n",
       "</style>\n",
       "<table border=\"1\" class=\"dataframe\">\n",
       "  <thead>\n",
       "    <tr style=\"text-align: right;\">\n",
       "      <th></th>\n",
       "      <th>Sno</th>\n",
       "      <th>marks</th>\n",
       "    </tr>\n",
       "  </thead>\n",
       "  <tbody>\n",
       "    <tr>\n",
       "      <th>0</th>\n",
       "      <td>A</td>\n",
       "      <td>10</td>\n",
       "    </tr>\n",
       "    <tr>\n",
       "      <th>1</th>\n",
       "      <td>B</td>\n",
       "      <td>20</td>\n",
       "    </tr>\n",
       "    <tr>\n",
       "      <th>2</th>\n",
       "      <td>C</td>\n",
       "      <td>30</td>\n",
       "    </tr>\n",
       "    <tr>\n",
       "      <th>3</th>\n",
       "      <td>D</td>\n",
       "      <td>50</td>\n",
       "    </tr>\n",
       "    <tr>\n",
       "      <th>4</th>\n",
       "      <td>E</td>\n",
       "      <td>75</td>\n",
       "    </tr>\n",
       "    <tr>\n",
       "      <th>5</th>\n",
       "      <td>F</td>\n",
       "      <td>90</td>\n",
       "    </tr>\n",
       "    <tr>\n",
       "      <th>6</th>\n",
       "      <td>G</td>\n",
       "      <td>95</td>\n",
       "    </tr>\n",
       "  </tbody>\n",
       "</table>\n",
       "</div>"
      ],
      "text/plain": [
       "  Sno  marks\n",
       "0   A     10\n",
       "1   B     20\n",
       "2   C     30\n",
       "3   D     50\n",
       "4   E     75\n",
       "5   F     90\n",
       "6   G     95"
      ]
     },
     "execution_count": 75,
     "metadata": {},
     "output_type": "execute_result"
    }
   ],
   "source": [
    "df2"
   ]
  }
 ],
 "metadata": {
  "kernelspec": {
   "display_name": "Python 3",
   "language": "python",
   "name": "python3"
  },
  "language_info": {
   "codemirror_mode": {
    "name": "ipython",
    "version": 3
   },
   "file_extension": ".py",
   "mimetype": "text/x-python",
   "name": "python",
   "nbconvert_exporter": "python",
   "pygments_lexer": "ipython3",
   "version": "3.8.8"
  }
 },
 "nbformat": 4,
 "nbformat_minor": 5
}
