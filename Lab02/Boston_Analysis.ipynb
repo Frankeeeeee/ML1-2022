{
 "cells": [
  {
   "cell_type": "markdown",
   "id": "0538c18c",
   "metadata": {},
   "source": [
    "### Libraries Needed"
   ]
  },
  {
   "cell_type": "code",
   "execution_count": 3,
   "id": "d53ab94c",
   "metadata": {},
   "outputs": [],
   "source": [
    "import pandas as pd\n",
    "import numpy as np\n",
    "import seaborn as sns\n",
    "import matplotlib.pyplot as plt\n",
    "from sklearn.linear_model import LinearRegression\n",
    "from sklearn.model_selection import train_test_split\n",
    "import statsmodels.api as sm\n",
    "import statsmodels.formula.api as smf"
   ]
  },
  {
   "cell_type": "markdown",
   "id": "018ca1e0",
   "metadata": {},
   "source": [
    "### Importing the Data"
   ]
  },
  {
   "cell_type": "code",
   "execution_count": 4,
   "id": "0b5b99f6",
   "metadata": {},
   "outputs": [
    {
     "data": {
      "text/html": [
       "<div>\n",
       "<style scoped>\n",
       "    .dataframe tbody tr th:only-of-type {\n",
       "        vertical-align: middle;\n",
       "    }\n",
       "\n",
       "    .dataframe tbody tr th {\n",
       "        vertical-align: top;\n",
       "    }\n",
       "\n",
       "    .dataframe thead th {\n",
       "        text-align: right;\n",
       "    }\n",
       "</style>\n",
       "<table border=\"1\" class=\"dataframe\">\n",
       "  <thead>\n",
       "    <tr style=\"text-align: right;\">\n",
       "      <th></th>\n",
       "      <th>Unnamed: 0</th>\n",
       "      <th>crim</th>\n",
       "      <th>zn</th>\n",
       "      <th>indus</th>\n",
       "      <th>chas</th>\n",
       "      <th>nox</th>\n",
       "      <th>rm</th>\n",
       "      <th>age</th>\n",
       "      <th>dis</th>\n",
       "      <th>rad</th>\n",
       "      <th>tax</th>\n",
       "      <th>ptratio</th>\n",
       "      <th>black</th>\n",
       "      <th>lstat</th>\n",
       "      <th>medv</th>\n",
       "    </tr>\n",
       "  </thead>\n",
       "  <tbody>\n",
       "    <tr>\n",
       "      <th>0</th>\n",
       "      <td>1</td>\n",
       "      <td>0.00632</td>\n",
       "      <td>18.0</td>\n",
       "      <td>2.31</td>\n",
       "      <td>0</td>\n",
       "      <td>0.538</td>\n",
       "      <td>6.575</td>\n",
       "      <td>65.2</td>\n",
       "      <td>4.0900</td>\n",
       "      <td>1</td>\n",
       "      <td>296</td>\n",
       "      <td>15.3</td>\n",
       "      <td>396.90</td>\n",
       "      <td>4.98</td>\n",
       "      <td>24.0</td>\n",
       "    </tr>\n",
       "    <tr>\n",
       "      <th>1</th>\n",
       "      <td>2</td>\n",
       "      <td>0.02731</td>\n",
       "      <td>0.0</td>\n",
       "      <td>7.07</td>\n",
       "      <td>0</td>\n",
       "      <td>0.469</td>\n",
       "      <td>6.421</td>\n",
       "      <td>78.9</td>\n",
       "      <td>4.9671</td>\n",
       "      <td>2</td>\n",
       "      <td>242</td>\n",
       "      <td>17.8</td>\n",
       "      <td>396.90</td>\n",
       "      <td>9.14</td>\n",
       "      <td>21.6</td>\n",
       "    </tr>\n",
       "    <tr>\n",
       "      <th>2</th>\n",
       "      <td>3</td>\n",
       "      <td>0.02729</td>\n",
       "      <td>0.0</td>\n",
       "      <td>7.07</td>\n",
       "      <td>0</td>\n",
       "      <td>0.469</td>\n",
       "      <td>7.185</td>\n",
       "      <td>61.1</td>\n",
       "      <td>4.9671</td>\n",
       "      <td>2</td>\n",
       "      <td>242</td>\n",
       "      <td>17.8</td>\n",
       "      <td>392.83</td>\n",
       "      <td>4.03</td>\n",
       "      <td>34.7</td>\n",
       "    </tr>\n",
       "    <tr>\n",
       "      <th>3</th>\n",
       "      <td>4</td>\n",
       "      <td>0.03237</td>\n",
       "      <td>0.0</td>\n",
       "      <td>2.18</td>\n",
       "      <td>0</td>\n",
       "      <td>0.458</td>\n",
       "      <td>6.998</td>\n",
       "      <td>45.8</td>\n",
       "      <td>6.0622</td>\n",
       "      <td>3</td>\n",
       "      <td>222</td>\n",
       "      <td>18.7</td>\n",
       "      <td>394.63</td>\n",
       "      <td>2.94</td>\n",
       "      <td>33.4</td>\n",
       "    </tr>\n",
       "    <tr>\n",
       "      <th>4</th>\n",
       "      <td>5</td>\n",
       "      <td>0.06905</td>\n",
       "      <td>0.0</td>\n",
       "      <td>2.18</td>\n",
       "      <td>0</td>\n",
       "      <td>0.458</td>\n",
       "      <td>7.147</td>\n",
       "      <td>54.2</td>\n",
       "      <td>6.0622</td>\n",
       "      <td>3</td>\n",
       "      <td>222</td>\n",
       "      <td>18.7</td>\n",
       "      <td>396.90</td>\n",
       "      <td>5.33</td>\n",
       "      <td>36.2</td>\n",
       "    </tr>\n",
       "  </tbody>\n",
       "</table>\n",
       "</div>"
      ],
      "text/plain": [
       "   Unnamed: 0     crim    zn  indus  chas    nox     rm   age     dis  rad  \\\n",
       "0           1  0.00632  18.0   2.31     0  0.538  6.575  65.2  4.0900    1   \n",
       "1           2  0.02731   0.0   7.07     0  0.469  6.421  78.9  4.9671    2   \n",
       "2           3  0.02729   0.0   7.07     0  0.469  7.185  61.1  4.9671    2   \n",
       "3           4  0.03237   0.0   2.18     0  0.458  6.998  45.8  6.0622    3   \n",
       "4           5  0.06905   0.0   2.18     0  0.458  7.147  54.2  6.0622    3   \n",
       "\n",
       "   tax  ptratio   black  lstat  medv  \n",
       "0  296     15.3  396.90   4.98  24.0  \n",
       "1  242     17.8  396.90   9.14  21.6  \n",
       "2  242     17.8  392.83   4.03  34.7  \n",
       "3  222     18.7  394.63   2.94  33.4  \n",
       "4  222     18.7  396.90   5.33  36.2  "
      ]
     },
     "execution_count": 4,
     "metadata": {},
     "output_type": "execute_result"
    }
   ],
   "source": [
    "df = pd.read_csv(\"Boston.csv\")\n",
    "df.head()"
   ]
  },
  {
   "cell_type": "markdown",
   "id": "329d1acc",
   "metadata": {},
   "source": [
    "### Data Cleaning"
   ]
  },
  {
   "cell_type": "code",
   "execution_count": 5,
   "id": "da3c26b5",
   "metadata": {},
   "outputs": [
    {
     "data": {
      "text/html": [
       "<div>\n",
       "<style scoped>\n",
       "    .dataframe tbody tr th:only-of-type {\n",
       "        vertical-align: middle;\n",
       "    }\n",
       "\n",
       "    .dataframe tbody tr th {\n",
       "        vertical-align: top;\n",
       "    }\n",
       "\n",
       "    .dataframe thead th {\n",
       "        text-align: right;\n",
       "    }\n",
       "</style>\n",
       "<table border=\"1\" class=\"dataframe\">\n",
       "  <thead>\n",
       "    <tr style=\"text-align: right;\">\n",
       "      <th></th>\n",
       "      <th>crim</th>\n",
       "      <th>zn</th>\n",
       "      <th>indus</th>\n",
       "      <th>chas</th>\n",
       "      <th>nox</th>\n",
       "      <th>rm</th>\n",
       "      <th>age</th>\n",
       "      <th>dis</th>\n",
       "      <th>rad</th>\n",
       "      <th>tax</th>\n",
       "      <th>ptratio</th>\n",
       "      <th>black</th>\n",
       "      <th>lstat</th>\n",
       "      <th>medv</th>\n",
       "    </tr>\n",
       "  </thead>\n",
       "  <tbody>\n",
       "    <tr>\n",
       "      <th>0</th>\n",
       "      <td>0.00632</td>\n",
       "      <td>18.0</td>\n",
       "      <td>2.31</td>\n",
       "      <td>0</td>\n",
       "      <td>0.538</td>\n",
       "      <td>6.575</td>\n",
       "      <td>65.2</td>\n",
       "      <td>4.0900</td>\n",
       "      <td>1</td>\n",
       "      <td>296</td>\n",
       "      <td>15.3</td>\n",
       "      <td>396.90</td>\n",
       "      <td>4.98</td>\n",
       "      <td>24.0</td>\n",
       "    </tr>\n",
       "    <tr>\n",
       "      <th>1</th>\n",
       "      <td>0.02731</td>\n",
       "      <td>0.0</td>\n",
       "      <td>7.07</td>\n",
       "      <td>0</td>\n",
       "      <td>0.469</td>\n",
       "      <td>6.421</td>\n",
       "      <td>78.9</td>\n",
       "      <td>4.9671</td>\n",
       "      <td>2</td>\n",
       "      <td>242</td>\n",
       "      <td>17.8</td>\n",
       "      <td>396.90</td>\n",
       "      <td>9.14</td>\n",
       "      <td>21.6</td>\n",
       "    </tr>\n",
       "    <tr>\n",
       "      <th>2</th>\n",
       "      <td>0.02729</td>\n",
       "      <td>0.0</td>\n",
       "      <td>7.07</td>\n",
       "      <td>0</td>\n",
       "      <td>0.469</td>\n",
       "      <td>7.185</td>\n",
       "      <td>61.1</td>\n",
       "      <td>4.9671</td>\n",
       "      <td>2</td>\n",
       "      <td>242</td>\n",
       "      <td>17.8</td>\n",
       "      <td>392.83</td>\n",
       "      <td>4.03</td>\n",
       "      <td>34.7</td>\n",
       "    </tr>\n",
       "    <tr>\n",
       "      <th>3</th>\n",
       "      <td>0.03237</td>\n",
       "      <td>0.0</td>\n",
       "      <td>2.18</td>\n",
       "      <td>0</td>\n",
       "      <td>0.458</td>\n",
       "      <td>6.998</td>\n",
       "      <td>45.8</td>\n",
       "      <td>6.0622</td>\n",
       "      <td>3</td>\n",
       "      <td>222</td>\n",
       "      <td>18.7</td>\n",
       "      <td>394.63</td>\n",
       "      <td>2.94</td>\n",
       "      <td>33.4</td>\n",
       "    </tr>\n",
       "    <tr>\n",
       "      <th>4</th>\n",
       "      <td>0.06905</td>\n",
       "      <td>0.0</td>\n",
       "      <td>2.18</td>\n",
       "      <td>0</td>\n",
       "      <td>0.458</td>\n",
       "      <td>7.147</td>\n",
       "      <td>54.2</td>\n",
       "      <td>6.0622</td>\n",
       "      <td>3</td>\n",
       "      <td>222</td>\n",
       "      <td>18.7</td>\n",
       "      <td>396.90</td>\n",
       "      <td>5.33</td>\n",
       "      <td>36.2</td>\n",
       "    </tr>\n",
       "  </tbody>\n",
       "</table>\n",
       "</div>"
      ],
      "text/plain": [
       "      crim    zn  indus  chas    nox     rm   age     dis  rad  tax  ptratio  \\\n",
       "0  0.00632  18.0   2.31     0  0.538  6.575  65.2  4.0900    1  296     15.3   \n",
       "1  0.02731   0.0   7.07     0  0.469  6.421  78.9  4.9671    2  242     17.8   \n",
       "2  0.02729   0.0   7.07     0  0.469  7.185  61.1  4.9671    2  242     17.8   \n",
       "3  0.03237   0.0   2.18     0  0.458  6.998  45.8  6.0622    3  222     18.7   \n",
       "4  0.06905   0.0   2.18     0  0.458  7.147  54.2  6.0622    3  222     18.7   \n",
       "\n",
       "    black  lstat  medv  \n",
       "0  396.90   4.98  24.0  \n",
       "1  396.90   9.14  21.6  \n",
       "2  392.83   4.03  34.7  \n",
       "3  394.63   2.94  33.4  \n",
       "4  396.90   5.33  36.2  "
      ]
     },
     "execution_count": 5,
     "metadata": {},
     "output_type": "execute_result"
    }
   ],
   "source": [
    "df.drop(\"Unnamed: 0\", axis = 1, inplace = True)\n",
    "df.head()"
   ]
  },
  {
   "cell_type": "code",
   "execution_count": 6,
   "id": "b0216aba",
   "metadata": {},
   "outputs": [
    {
     "data": {
      "text/plain": [
       "crim       0\n",
       "zn         0\n",
       "indus      0\n",
       "chas       0\n",
       "nox        0\n",
       "rm         0\n",
       "age        0\n",
       "dis        0\n",
       "rad        0\n",
       "tax        0\n",
       "ptratio    0\n",
       "black      0\n",
       "lstat      0\n",
       "medv       0\n",
       "dtype: int64"
      ]
     },
     "execution_count": 6,
     "metadata": {},
     "output_type": "execute_result"
    }
   ],
   "source": [
    "#checking if our dataset has missing values\n",
    "df.isna().sum()"
   ]
  },
  {
   "cell_type": "markdown",
   "id": "8712d1c4",
   "metadata": {},
   "source": [
    "### Understanding the Data\n",
    "\n",
    "1. CRIM - per capita crime rate by town\n",
    "2. ZN - proportion of residential land zoned for lots over 25,000 sq.ft.\n",
    "3. INDUS - proportion of non-retail business acres per town.\n",
    "4. CHAS - Charles River dummy variable (1 if tract bounds river; 0 otherwise)\n",
    "5. NOX - nitric oxides concentration (parts per 10 million)\n",
    "6. RM - average number of rooms per dwelling\n",
    "7. AGE - proportion of owner-occupied units built prior to 1940\n",
    "8. DIS - weighted distances to five Boston employment centres\n",
    "9. RAD - index of accessibility to radial highways\n",
    "10. TAX - full-value property-tax rate per 10,000 dollars\n",
    "11. PTRATIO - pupil/teacher ratio by town\n",
    "12. B - 1000(Bk - 0.63)^2 where Bk is the proportion of blacks by town\n",
    "13. LSTAT - % lower status of the population\n",
    "14. MEDV - Median value of owner-occupied homes in $1000's"
   ]
  },
  {
   "cell_type": "code",
   "execution_count": 7,
   "id": "37022e37",
   "metadata": {},
   "outputs": [
    {
     "name": "stdout",
     "output_type": "stream",
     "text": [
      "There are 506 rows and 14 columns\n"
     ]
    }
   ],
   "source": [
    "nRow, nCol = df.shape\n",
    "print(f'There are {nRow} rows and {nCol} columns')"
   ]
  },
  {
   "cell_type": "code",
   "execution_count": 8,
   "id": "2a9c7ef2",
   "metadata": {},
   "outputs": [
    {
     "name": "stdout",
     "output_type": "stream",
     "text": [
      "<class 'pandas.core.frame.DataFrame'>\n",
      "RangeIndex: 506 entries, 0 to 505\n",
      "Data columns (total 14 columns):\n",
      " #   Column   Non-Null Count  Dtype  \n",
      "---  ------   --------------  -----  \n",
      " 0   crim     506 non-null    float64\n",
      " 1   zn       506 non-null    float64\n",
      " 2   indus    506 non-null    float64\n",
      " 3   chas     506 non-null    int64  \n",
      " 4   nox      506 non-null    float64\n",
      " 5   rm       506 non-null    float64\n",
      " 6   age      506 non-null    float64\n",
      " 7   dis      506 non-null    float64\n",
      " 8   rad      506 non-null    int64  \n",
      " 9   tax      506 non-null    int64  \n",
      " 10  ptratio  506 non-null    float64\n",
      " 11  black    506 non-null    float64\n",
      " 12  lstat    506 non-null    float64\n",
      " 13  medv     506 non-null    float64\n",
      "dtypes: float64(11), int64(3)\n",
      "memory usage: 55.5 KB\n"
     ]
    }
   ],
   "source": [
    "df.info()"
   ]
  },
  {
   "cell_type": "code",
   "execution_count": 9,
   "id": "40507732",
   "metadata": {},
   "outputs": [
    {
     "data": {
      "text/html": [
       "<div>\n",
       "<style scoped>\n",
       "    .dataframe tbody tr th:only-of-type {\n",
       "        vertical-align: middle;\n",
       "    }\n",
       "\n",
       "    .dataframe tbody tr th {\n",
       "        vertical-align: top;\n",
       "    }\n",
       "\n",
       "    .dataframe thead th {\n",
       "        text-align: right;\n",
       "    }\n",
       "</style>\n",
       "<table border=\"1\" class=\"dataframe\">\n",
       "  <thead>\n",
       "    <tr style=\"text-align: right;\">\n",
       "      <th></th>\n",
       "      <th>crim</th>\n",
       "      <th>zn</th>\n",
       "      <th>indus</th>\n",
       "      <th>chas</th>\n",
       "      <th>nox</th>\n",
       "      <th>rm</th>\n",
       "      <th>age</th>\n",
       "      <th>dis</th>\n",
       "      <th>rad</th>\n",
       "      <th>tax</th>\n",
       "      <th>ptratio</th>\n",
       "      <th>black</th>\n",
       "      <th>lstat</th>\n",
       "      <th>medv</th>\n",
       "    </tr>\n",
       "  </thead>\n",
       "  <tbody>\n",
       "    <tr>\n",
       "      <th>count</th>\n",
       "      <td>506.000000</td>\n",
       "      <td>506.000000</td>\n",
       "      <td>506.000000</td>\n",
       "      <td>506.000000</td>\n",
       "      <td>506.000000</td>\n",
       "      <td>506.000000</td>\n",
       "      <td>506.000000</td>\n",
       "      <td>506.000000</td>\n",
       "      <td>506.000000</td>\n",
       "      <td>506.000000</td>\n",
       "      <td>506.000000</td>\n",
       "      <td>506.000000</td>\n",
       "      <td>506.000000</td>\n",
       "      <td>506.000000</td>\n",
       "    </tr>\n",
       "    <tr>\n",
       "      <th>mean</th>\n",
       "      <td>3.613524</td>\n",
       "      <td>11.363636</td>\n",
       "      <td>11.136779</td>\n",
       "      <td>0.069170</td>\n",
       "      <td>0.554695</td>\n",
       "      <td>6.284634</td>\n",
       "      <td>68.574901</td>\n",
       "      <td>3.795043</td>\n",
       "      <td>9.549407</td>\n",
       "      <td>408.237154</td>\n",
       "      <td>18.455534</td>\n",
       "      <td>356.674032</td>\n",
       "      <td>12.653063</td>\n",
       "      <td>22.532806</td>\n",
       "    </tr>\n",
       "    <tr>\n",
       "      <th>std</th>\n",
       "      <td>8.601545</td>\n",
       "      <td>23.322453</td>\n",
       "      <td>6.860353</td>\n",
       "      <td>0.253994</td>\n",
       "      <td>0.115878</td>\n",
       "      <td>0.702617</td>\n",
       "      <td>28.148861</td>\n",
       "      <td>2.105710</td>\n",
       "      <td>8.707259</td>\n",
       "      <td>168.537116</td>\n",
       "      <td>2.164946</td>\n",
       "      <td>91.294864</td>\n",
       "      <td>7.141062</td>\n",
       "      <td>9.197104</td>\n",
       "    </tr>\n",
       "    <tr>\n",
       "      <th>min</th>\n",
       "      <td>0.006320</td>\n",
       "      <td>0.000000</td>\n",
       "      <td>0.460000</td>\n",
       "      <td>0.000000</td>\n",
       "      <td>0.385000</td>\n",
       "      <td>3.561000</td>\n",
       "      <td>2.900000</td>\n",
       "      <td>1.129600</td>\n",
       "      <td>1.000000</td>\n",
       "      <td>187.000000</td>\n",
       "      <td>12.600000</td>\n",
       "      <td>0.320000</td>\n",
       "      <td>1.730000</td>\n",
       "      <td>5.000000</td>\n",
       "    </tr>\n",
       "    <tr>\n",
       "      <th>25%</th>\n",
       "      <td>0.082045</td>\n",
       "      <td>0.000000</td>\n",
       "      <td>5.190000</td>\n",
       "      <td>0.000000</td>\n",
       "      <td>0.449000</td>\n",
       "      <td>5.885500</td>\n",
       "      <td>45.025000</td>\n",
       "      <td>2.100175</td>\n",
       "      <td>4.000000</td>\n",
       "      <td>279.000000</td>\n",
       "      <td>17.400000</td>\n",
       "      <td>375.377500</td>\n",
       "      <td>6.950000</td>\n",
       "      <td>17.025000</td>\n",
       "    </tr>\n",
       "    <tr>\n",
       "      <th>50%</th>\n",
       "      <td>0.256510</td>\n",
       "      <td>0.000000</td>\n",
       "      <td>9.690000</td>\n",
       "      <td>0.000000</td>\n",
       "      <td>0.538000</td>\n",
       "      <td>6.208500</td>\n",
       "      <td>77.500000</td>\n",
       "      <td>3.207450</td>\n",
       "      <td>5.000000</td>\n",
       "      <td>330.000000</td>\n",
       "      <td>19.050000</td>\n",
       "      <td>391.440000</td>\n",
       "      <td>11.360000</td>\n",
       "      <td>21.200000</td>\n",
       "    </tr>\n",
       "    <tr>\n",
       "      <th>75%</th>\n",
       "      <td>3.677083</td>\n",
       "      <td>12.500000</td>\n",
       "      <td>18.100000</td>\n",
       "      <td>0.000000</td>\n",
       "      <td>0.624000</td>\n",
       "      <td>6.623500</td>\n",
       "      <td>94.075000</td>\n",
       "      <td>5.188425</td>\n",
       "      <td>24.000000</td>\n",
       "      <td>666.000000</td>\n",
       "      <td>20.200000</td>\n",
       "      <td>396.225000</td>\n",
       "      <td>16.955000</td>\n",
       "      <td>25.000000</td>\n",
       "    </tr>\n",
       "    <tr>\n",
       "      <th>max</th>\n",
       "      <td>88.976200</td>\n",
       "      <td>100.000000</td>\n",
       "      <td>27.740000</td>\n",
       "      <td>1.000000</td>\n",
       "      <td>0.871000</td>\n",
       "      <td>8.780000</td>\n",
       "      <td>100.000000</td>\n",
       "      <td>12.126500</td>\n",
       "      <td>24.000000</td>\n",
       "      <td>711.000000</td>\n",
       "      <td>22.000000</td>\n",
       "      <td>396.900000</td>\n",
       "      <td>37.970000</td>\n",
       "      <td>50.000000</td>\n",
       "    </tr>\n",
       "  </tbody>\n",
       "</table>\n",
       "</div>"
      ],
      "text/plain": [
       "             crim          zn       indus        chas         nox          rm  \\\n",
       "count  506.000000  506.000000  506.000000  506.000000  506.000000  506.000000   \n",
       "mean     3.613524   11.363636   11.136779    0.069170    0.554695    6.284634   \n",
       "std      8.601545   23.322453    6.860353    0.253994    0.115878    0.702617   \n",
       "min      0.006320    0.000000    0.460000    0.000000    0.385000    3.561000   \n",
       "25%      0.082045    0.000000    5.190000    0.000000    0.449000    5.885500   \n",
       "50%      0.256510    0.000000    9.690000    0.000000    0.538000    6.208500   \n",
       "75%      3.677083   12.500000   18.100000    0.000000    0.624000    6.623500   \n",
       "max     88.976200  100.000000   27.740000    1.000000    0.871000    8.780000   \n",
       "\n",
       "              age         dis         rad         tax     ptratio       black  \\\n",
       "count  506.000000  506.000000  506.000000  506.000000  506.000000  506.000000   \n",
       "mean    68.574901    3.795043    9.549407  408.237154   18.455534  356.674032   \n",
       "std     28.148861    2.105710    8.707259  168.537116    2.164946   91.294864   \n",
       "min      2.900000    1.129600    1.000000  187.000000   12.600000    0.320000   \n",
       "25%     45.025000    2.100175    4.000000  279.000000   17.400000  375.377500   \n",
       "50%     77.500000    3.207450    5.000000  330.000000   19.050000  391.440000   \n",
       "75%     94.075000    5.188425   24.000000  666.000000   20.200000  396.225000   \n",
       "max    100.000000   12.126500   24.000000  711.000000   22.000000  396.900000   \n",
       "\n",
       "            lstat        medv  \n",
       "count  506.000000  506.000000  \n",
       "mean    12.653063   22.532806  \n",
       "std      7.141062    9.197104  \n",
       "min      1.730000    5.000000  \n",
       "25%      6.950000   17.025000  \n",
       "50%     11.360000   21.200000  \n",
       "75%     16.955000   25.000000  \n",
       "max     37.970000   50.000000  "
      ]
     },
     "execution_count": 9,
     "metadata": {},
     "output_type": "execute_result"
    }
   ],
   "source": [
    "# Looking at the descriptive statistics of the data\n",
    "df.describe(include='all')"
   ]
  },
  {
   "cell_type": "code",
   "execution_count": 10,
   "id": "70b6e3fb",
   "metadata": {},
   "outputs": [
    {
     "data": {
      "image/png": "[encoded data removed]",
      "text/plain": [
       "<Figure size 720x720 with 2 Axes>"
      ]
     },
     "metadata": {
      "needs_background": "light"
     },
     "output_type": "display_data"
    }
   ],
   "source": [
    "M = df.corr()\n",
    "\n",
    "fig, ax = plt.subplots(figsize=(10, 10))\n",
    "#Generate Heat Map, allow annotations and place floats in map\n",
    "sns.heatmap(M, cmap='RdBu', annot=True, fmt=\".2f\")\n",
    "#Apply xticks\n",
    "plt.xticks(range(len(M.columns)), M.columns);\n",
    "#Apply yticks\n",
    "plt.yticks(range(len(M.columns)), M.columns)\n",
    "#show plot\n",
    "plt.show()"
   ]
  },
  {
   "cell_type": "markdown",
   "id": "25ff59f3",
   "metadata": {},
   "source": [
    "A) For each predictor, fit a simple linear regression model to predict the response. Describe your results. In which of the models is there a statistically significant association between the predictor and the response? Create some plots to back up your assertions.\n",
    "\n",
    "\n",
    "The target variable is per capita crime rate in the town. The explainatory variables are:"
   ]
  },
  {
   "cell_type": "code",
   "execution_count": 14,
   "id": "e18d69db",
   "metadata": {},
   "outputs": [
    {
     "data": {
      "text/plain": [
       "Index(['crim', 'zn', 'indus', 'chas', 'nox', 'rm', 'age', 'dis', 'rad', 'tax',\n",
       "       'ptratio', 'black', 'lstat', 'medv'],\n",
       "      dtype='object')"
      ]
     },
     "execution_count": 14,
     "metadata": {},
     "output_type": "execute_result"
    }
   ],
   "source": [
    "df.columns"
   ]
  },
  {
   "cell_type": "code",
   "execution_count": 15,
   "id": "813adc61",
   "metadata": {},
   "outputs": [
    {
     "name": "stdout",
     "output_type": "stream",
     "text": [
      "SIMPLE LINEAR REGRESSION MODEL(crime~zn): \n",
      "\n",
      "                            OLS Regression Results                            \n",
      "==============================================================================\n",
      "Dep. Variable:                   crim   R-squared:                       0.040\n",
      "Model:                            OLS   Adj. R-squared:                  0.038\n",
      "Method:                 Least Squares   F-statistic:                     21.10\n",
      "Date:                Fri, 29 Apr 2022   Prob (F-statistic):           5.51e-06\n",
      "Time:                        19:19:39   Log-Likelihood:                -1796.0\n",
      "No. Observations:                 506   AIC:                             3596.\n",
      "Df Residuals:                     504   BIC:                             3604.\n",
      "Df Model:                           1                                         \n",
      "Covariance Type:            nonrobust                                         \n",
      "==============================================================================\n",
      "                 coef    std err          t      P>|t|      [0.025      0.975]\n",
      "------------------------------------------------------------------------------\n",
      "const          4.4537      0.417     10.675      0.000       3.634       5.273\n",
      "zn            -0.0739      0.016     -4.594      0.000      -0.106      -0.042\n",
      "==============================================================================\n",
      "Omnibus:                      567.443   Durbin-Watson:                   0.857\n",
      "Prob(Omnibus):                  0.000   Jarque-Bera (JB):            32753.004\n",
      "Skew:                           5.257   Prob(JB):                         0.00\n",
      "Kurtosis:                      40.986   Cond. No.                         28.8\n",
      "==============================================================================\n",
      "\n",
      "Notes:\n",
      "[1] Standard Errors assume that the covariance matrix of the errors is correctly specified.\n"
     ]
    },
    {
     "name": "stderr",
     "output_type": "stream",
     "text": [
      "C:\\Users\\gayat\\anaconda3\\lib\\site-packages\\statsmodels\\tsa\\tsatools.py:142: FutureWarning: In a future version of pandas all arguments of concat except for the argument 'objs' will be keyword-only\n",
      "  x = pd.concat(x[::order], 1)\n"
     ]
    }
   ],
   "source": [
    "#1.To predict per capita crime rate using ZN (ie) proportion of residential land zoned for lots over 25,000 sq.ft.\n",
    "\n",
    "# dependent variable:\n",
    "y = df.crim\n",
    "#independent variable:\n",
    "x = df.zn\n",
    "\n",
    "x = sm.add_constant(x) # adding a constant\n",
    "\n",
    "m1 = sm.OLS(y, x).fit()\n",
    "predictions = m1.predict(x) \n",
    "\n",
    "print(\"SIMPLE LINEAR REGRESSION MODEL(crime~zn): \\n\")\n",
    "print_model = m1.summary()\n",
    "print(print_model)"
   ]
  },
  {
   "cell_type": "markdown",
   "id": "f9886313",
   "metadata": {},
   "source": [
    "The regression equation for per capita crime in the town with proportion of residential land zoned for lots over 25,000 sq.ft.is given as:\n",
    "$$crime(Y) = 4.4537 - 0.0739*zn(x)$$\n",
    "\n",
    "* Here the $\\beta_0$ value is 4.4537, which means the per capita crime in the town is 4.4537 when zn is zero. \n",
    "* The slope or $\\beta_1$ is -0.0739, which means that as per rate capita crime increases by 1 unit the proportion of residential land zoned for lots over 25,000 sq.ft falls by 0.0739 units. \n",
    "* The $R^2$ value is 0.040(ie) 4% of information is explained by the independent variable zn the rest information is explained by other variables.\n",
    "* The p-value is 0.000 < 0.05 So we can conclude that there is a statistically significant association between zn and the target variable(crim)."
   ]
  },
  {
   "cell_type": "code",
   "execution_count": 16,
   "id": "bbc6723f",
   "metadata": {},
   "outputs": [
    {
     "name": "stdout",
     "output_type": "stream",
     "text": [
      "SIMPLE LINEAR REGRESSION MODEL(crime~indus): \n",
      "\n",
      "                            OLS Regression Results                            \n",
      "==============================================================================\n",
      "Dep. Variable:                   crim   R-squared:                       0.165\n",
      "Model:                            OLS   Adj. R-squared:                  0.164\n",
      "Method:                 Least Squares   F-statistic:                     99.82\n",
      "Date:                Fri, 29 Apr 2022   Prob (F-statistic):           1.45e-21\n",
      "Time:                        19:26:56   Log-Likelihood:                -1760.6\n",
      "No. Observations:                 506   AIC:                             3525.\n",
      "Df Residuals:                     504   BIC:                             3534.\n",
      "Df Model:                           1                                         \n",
      "Covariance Type:            nonrobust                                         \n",
      "==============================================================================\n",
      "                 coef    std err          t      P>|t|      [0.025      0.975]\n",
      "------------------------------------------------------------------------------\n",
      "const         -2.0637      0.667     -3.093      0.002      -3.375      -0.753\n",
      "indus          0.5098      0.051      9.991      0.000       0.410       0.610\n",
      "==============================================================================\n",
      "Omnibus:                      585.118   Durbin-Watson:                   0.986\n",
      "Prob(Omnibus):                  0.000   Jarque-Bera (JB):            41418.938\n",
      "Skew:                           5.449   Prob(JB):                         0.00\n",
      "Kurtosis:                      45.962   Cond. No.                         25.1\n",
      "==============================================================================\n",
      "\n",
      "Notes:\n",
      "[1] Standard Errors assume that the covariance matrix of the errors is correctly specified.\n"
     ]
    },
    {
     "name": "stderr",
     "output_type": "stream",
     "text": [
      "C:\\Users\\gayat\\anaconda3\\lib\\site-packages\\statsmodels\\tsa\\tsatools.py:142: FutureWarning: In a future version of pandas all arguments of concat except for the argument 'objs' will be keyword-only\n",
      "  x = pd.concat(x[::order], 1)\n"
     ]
    }
   ],
   "source": [
    "#2. To predict per capita crime rate using indus (ie) proportion of non-retail business acres per town.\n",
    "\n",
    "# dependent variable:\n",
    "y = df.crim\n",
    "#independent variable:\n",
    "x = df.indus\n",
    "\n",
    "x = sm.add_constant(x) # adding a constant\n",
    "\n",
    "m2 = sm.OLS(y, x).fit()\n",
    "predictions = m2.predict(x) \n",
    "\n",
    "print(\"SIMPLE LINEAR REGRESSION MODEL(crime~indus): \\n\")\n",
    "print_model = m2.summary()\n",
    "print(print_model)"
   ]
  },
  {
   "cell_type": "markdown",
   "id": "10c27190",
   "metadata": {},
   "source": [
    "The regression equation for per capita crime in the town with proportion of non-retail business acres per town is given as:\n",
    "$$crime(Y) = -2.0637 + 0.5098*indus(x)$$\n",
    "\n",
    "* Here the $\\beta_0$ value is -2.0637, which means the per capita crime in the town falls by 2.0637 when indus is zero. \n",
    "* The slope or $\\beta_1$ is 0.5098, which means that as per rate capita crime increases by 1 unit the proportion of non-retail business acres per town increases by 0.5098 units. \n",
    "* The $R^2$ value is 0.165(ie) 16.5% of information is explained by the independent variable indus the rest information is explained by other variables.\n",
    "* The p-value is 0.000 < 0.05 So we can conclude that there is a statistically significant association between indus and the target variable(crim)."
   ]
  },
  {
   "cell_type": "code",
   "execution_count": 17,
   "id": "acaac8b3",
   "metadata": {},
   "outputs": [
    {
     "name": "stdout",
     "output_type": "stream",
     "text": [
      "SIMPLE LINEAR REGRESSION MODEL(crime~chas): \n",
      "\n",
      "                            OLS Regression Results                            \n",
      "==============================================================================\n",
      "Dep. Variable:                   crim   R-squared:                       0.003\n",
      "Model:                            OLS   Adj. R-squared:                  0.001\n",
      "Method:                 Least Squares   F-statistic:                     1.579\n",
      "Date:                Fri, 29 Apr 2022   Prob (F-statistic):              0.209\n",
      "Time:                        19:27:38   Log-Likelihood:                -1805.6\n",
      "No. Observations:                 506   AIC:                             3615.\n",
      "Df Residuals:                     504   BIC:                             3624.\n",
      "Df Model:                           1                                         \n",
      "Covariance Type:            nonrobust                                         \n",
      "==============================================================================\n",
      "                 coef    std err          t      P>|t|      [0.025      0.975]\n",
      "------------------------------------------------------------------------------\n",
      "const          3.7444      0.396      9.453      0.000       2.966       4.523\n",
      "chas          -1.8928      1.506     -1.257      0.209      -4.852       1.066\n",
      "==============================================================================\n",
      "Omnibus:                      561.663   Durbin-Watson:                   0.817\n",
      "Prob(Omnibus):                  0.000   Jarque-Bera (JB):            30645.429\n",
      "Skew:                           5.191   Prob(JB):                         0.00\n",
      "Kurtosis:                      39.685   Cond. No.                         3.96\n",
      "==============================================================================\n",
      "\n",
      "Notes:\n",
      "[1] Standard Errors assume that the covariance matrix of the errors is correctly specified.\n"
     ]
    },
    {
     "name": "stderr",
     "output_type": "stream",
     "text": [
      "C:\\Users\\gayat\\anaconda3\\lib\\site-packages\\statsmodels\\tsa\\tsatools.py:142: FutureWarning: In a future version of pandas all arguments of concat except for the argument 'objs' will be keyword-only\n",
      "  x = pd.concat(x[::order], 1)\n"
     ]
    }
   ],
   "source": [
    "#3. To predict per capita crime rate using chas (ie) Charles River dummy variable\n",
    "\n",
    "# dependent variable:\n",
    "y = df.crim\n",
    "#independent variable:\n",
    "x = df.chas\n",
    "\n",
    "x = sm.add_constant(x) # adding a constant\n",
    "\n",
    "m3 = sm.OLS(y, x).fit()\n",
    "predictions = m3.predict(x) \n",
    "\n",
    "print(\"SIMPLE LINEAR REGRESSION MODEL(crime~chas): \\n\")\n",
    "print_model = m3.summary()\n",
    "print(print_model)"
   ]
  },
  {
   "cell_type": "markdown",
   "id": "9edc7148",
   "metadata": {},
   "source": [
    "The regression equation for per capita crime in the town with Charles River dummy variable (1 if tract bounds river; 0 otherwise) is given as:\n",
    "$$crime(Y) = 3.7444 -1.8928*chas(x)$$\n",
    "\n",
    "* Here the $\\beta_0$ value is -2.0637, which means the per capita crime in the town increases by 2.0637 when chas is zero. \n",
    "* The slope or $\\beta_1$ is -1.8928.  \n",
    "* The $R^2$ value is 0.003(ie) 0.3% of information is explained by the independent variable chas the rest information is explained by other variables.\n",
    "* The p-value is 0.209 > 0.05 So we can conclude that there is no statistically significant association between chas and the target variable(crim)."
   ]
  },
  {
   "cell_type": "code",
   "execution_count": 18,
   "id": "85aa230a",
   "metadata": {},
   "outputs": [
    {
     "name": "stdout",
     "output_type": "stream",
     "text": [
      "SIMPLE LINEAR REGRESSION MODEL(crime~nox): \n",
      "\n",
      "                            OLS Regression Results                            \n",
      "==============================================================================\n",
      "Dep. Variable:                   crim   R-squared:                       0.177\n",
      "Model:                            OLS   Adj. R-squared:                  0.176\n",
      "Method:                 Least Squares   F-statistic:                     108.6\n",
      "Date:                Fri, 29 Apr 2022   Prob (F-statistic):           3.75e-23\n",
      "Time:                        19:28:24   Log-Likelihood:                -1757.0\n",
      "No. Observations:                 506   AIC:                             3518.\n",
      "Df Residuals:                     504   BIC:                             3526.\n",
      "Df Model:                           1                                         \n",
      "Covariance Type:            nonrobust                                         \n",
      "==============================================================================\n",
      "                 coef    std err          t      P>|t|      [0.025      0.975]\n",
      "------------------------------------------------------------------------------\n",
      "const        -13.7199      1.699     -8.073      0.000     -17.059     -10.381\n",
      "nox           31.2485      2.999     10.419      0.000      25.356      37.141\n",
      "==============================================================================\n",
      "Omnibus:                      591.712   Durbin-Watson:                   0.992\n",
      "Prob(Omnibus):                  0.000   Jarque-Bera (JB):            43138.106\n",
      "Skew:                           5.546   Prob(JB):                         0.00\n",
      "Kurtosis:                      46.852   Cond. No.                         11.3\n",
      "==============================================================================\n",
      "\n",
      "Notes:\n",
      "[1] Standard Errors assume that the covariance matrix of the errors is correctly specified.\n"
     ]
    },
    {
     "name": "stderr",
     "output_type": "stream",
     "text": [
      "C:\\Users\\gayat\\anaconda3\\lib\\site-packages\\statsmodels\\tsa\\tsatools.py:142: FutureWarning: In a future version of pandas all arguments of concat except for the argument 'objs' will be keyword-only\n",
      "  x = pd.concat(x[::order], 1)\n"
     ]
    }
   ],
   "source": [
    "#4. To predict per capita crime rate using nox (ie) nitric oxides concentration (parts per 10 million)\n",
    "\n",
    "# dependent variable:\n",
    "y = df.crim\n",
    "#independent variable:\n",
    "x = df.nox\n",
    "\n",
    "x = sm.add_constant(x) # adding a constant\n",
    "\n",
    "m4 = sm.OLS(y, x).fit()\n",
    "predictions = m4.predict(x) \n",
    "\n",
    "print(\"SIMPLE LINEAR REGRESSION MODEL(crime~nox): \\n\")\n",
    "print_model = m4.summary()\n",
    "print(print_model)"
   ]
  },
  {
   "cell_type": "markdown",
   "id": "b7a16be1",
   "metadata": {},
   "source": [
    "The regression equation for per capita crime in the town with nitric oxides concentration is given as:\n",
    "$$crime(Y) = -13.7199 + 31.2485*nox(x)$$\n",
    "\n",
    "* Here the $\\beta_0$ value is -13.7199, which means the per capita crime in the town falls by 13.7199 when nox is zero concentration. \n",
    "* The slope or $\\beta_1$ is 31.2485, which means that as nos concentration increases by 1 unit the crime rate also increases by 31.2485 units.  \n",
    "* The $R^2$ value is 0.177(ie) 17.7% of information is explained by the independent variable nox the rest information is explained by other variables.\n",
    "* The p-value is 0.000 < 0.05 So we can conclude that there is a statistically significant association between nox and the target variable(crim)."
   ]
  },
  {
   "cell_type": "code",
   "execution_count": 19,
   "id": "36154c66",
   "metadata": {},
   "outputs": [
    {
     "name": "stdout",
     "output_type": "stream",
     "text": [
      "SIMPLE LINEAR REGRESSION MODEL(crime~rm): \n",
      "\n",
      "                            OLS Regression Results                            \n",
      "==============================================================================\n",
      "Dep. Variable:                   crim   R-squared:                       0.048\n",
      "Model:                            OLS   Adj. R-squared:                  0.046\n",
      "Method:                 Least Squares   F-statistic:                     25.45\n",
      "Date:                Fri, 29 Apr 2022   Prob (F-statistic):           6.35e-07\n",
      "Time:                        19:29:21   Log-Likelihood:                -1793.9\n",
      "No. Observations:                 506   AIC:                             3592.\n",
      "Df Residuals:                     504   BIC:                             3600.\n",
      "Df Model:                           1                                         \n",
      "Covariance Type:            nonrobust                                         \n",
      "==============================================================================\n",
      "                 coef    std err          t      P>|t|      [0.025      0.975]\n",
      "------------------------------------------------------------------------------\n",
      "const         20.4818      3.364      6.088      0.000      13.872      27.092\n",
      "rm            -2.6841      0.532     -5.045      0.000      -3.729      -1.639\n",
      "==============================================================================\n",
      "Omnibus:                      575.717   Durbin-Watson:                   0.879\n",
      "Prob(Omnibus):                  0.000   Jarque-Bera (JB):            36658.093\n",
      "Skew:                           5.345   Prob(JB):                         0.00\n",
      "Kurtosis:                      43.305   Cond. No.                         58.4\n",
      "==============================================================================\n",
      "\n",
      "Notes:\n",
      "[1] Standard Errors assume that the covariance matrix of the errors is correctly specified.\n"
     ]
    },
    {
     "name": "stderr",
     "output_type": "stream",
     "text": [
      "C:\\Users\\gayat\\anaconda3\\lib\\site-packages\\statsmodels\\tsa\\tsatools.py:142: FutureWarning: In a future version of pandas all arguments of concat except for the argument 'objs' will be keyword-only\n",
      "  x = pd.concat(x[::order], 1)\n"
     ]
    }
   ],
   "source": [
    "#5. To predict per capita crime rate using rm (ie) average number of rooms per dwelling\n",
    "\n",
    "# dependent variable:\n",
    "y = df.crim\n",
    "#independent variable:\n",
    "x = df.rm\n",
    "\n",
    "x = sm.add_constant(x) # adding a constant\n",
    "\n",
    "m5 = sm.OLS(y, x).fit()\n",
    "predictions = m5.predict(x) \n",
    "\n",
    "print(\"SIMPLE LINEAR REGRESSION MODEL(crime~rm): \\n\")\n",
    "print_model = m5.summary()\n",
    "print(print_model)"
   ]
  },
  {
   "cell_type": "markdown",
   "id": "c9cf69d8",
   "metadata": {},
   "source": [
    "The regression equation for per capita crime in the town with average number of rooms per dwelling is given as:\n",
    "$$crime(Y) = 20.4818 -2.6841*rm(x)$$\n",
    "\n",
    "* Here the $\\beta_0$ value is 20.4818, which means the per capita crime in the town increases by 20.4818 when rm is zero. \n",
    "* The slope or $\\beta_1$ is -2.6841, which means that as average number of rooms per dwelling becomes by 1 the crime rate  falls by 2.6841 units.  \n",
    "* The $R^2$ value is 0.048(ie) 4.8% of information is explained by the independent variable rm the rest information is explained by other variables.\n",
    "* The p-value is 0.000 < 0.05 So we can conclude that there is a statistically significant association between rm and the target variable(crim)."
   ]
  },
  {
   "cell_type": "code",
   "execution_count": 21,
   "id": "21e3b684",
   "metadata": {},
   "outputs": [
    {
     "name": "stdout",
     "output_type": "stream",
     "text": [
      "SIMPLE LINEAR REGRESSION MODEL(crime~age): \n",
      "\n",
      "                            OLS Regression Results                            \n",
      "==============================================================================\n",
      "Dep. Variable:                   crim   R-squared:                       0.124\n",
      "Model:                            OLS   Adj. R-squared:                  0.123\n",
      "Method:                 Least Squares   F-statistic:                     71.62\n",
      "Date:                Fri, 29 Apr 2022   Prob (F-statistic):           2.85e-16\n",
      "Time:                        19:30:30   Log-Likelihood:                -1772.7\n",
      "No. Observations:                 506   AIC:                             3549.\n",
      "Df Residuals:                     504   BIC:                             3558.\n",
      "Df Model:                           1                                         \n",
      "Covariance Type:            nonrobust                                         \n",
      "==============================================================================\n",
      "                 coef    std err          t      P>|t|      [0.025      0.975]\n",
      "------------------------------------------------------------------------------\n",
      "const         -3.7779      0.944     -4.002      0.000      -5.633      -1.923\n",
      "age            0.1078      0.013      8.463      0.000       0.083       0.133\n",
      "==============================================================================\n",
      "Omnibus:                      574.509   Durbin-Watson:                   0.956\n",
      "Prob(Omnibus):                  0.000   Jarque-Bera (JB):            36741.903\n",
      "Skew:                           5.322   Prob(JB):                         0.00\n",
      "Kurtosis:                      43.366   Cond. No.                         195.\n",
      "==============================================================================\n",
      "\n",
      "Notes:\n",
      "[1] Standard Errors assume that the covariance matrix of the errors is correctly specified.\n"
     ]
    },
    {
     "name": "stderr",
     "output_type": "stream",
     "text": [
      "C:\\Users\\gayat\\anaconda3\\lib\\site-packages\\statsmodels\\tsa\\tsatools.py:142: FutureWarning: In a future version of pandas all arguments of concat except for the argument 'objs' will be keyword-only\n",
      "  x = pd.concat(x[::order], 1)\n"
     ]
    }
   ],
   "source": [
    "#6. To predict per capita crime rate using age (ie) proportion of owner-occupied units built prior to 1940\n",
    "\n",
    "# dependent variable:\n",
    "y = df.crim\n",
    "#independent variable:\n",
    "x = df.age\n",
    "\n",
    "x = sm.add_constant(x) # adding a constant\n",
    "\n",
    "m6 = sm.OLS(y, x).fit()\n",
    "predictions = m6.predict(x) \n",
    "\n",
    "print(\"SIMPLE LINEAR REGRESSION MODEL(crime~age): \\n\")\n",
    "print_model = m6.summary()\n",
    "print(print_model)"
   ]
  },
  {
   "cell_type": "markdown",
   "id": "9afe3d02",
   "metadata": {},
   "source": [
    "The regression equation for per capita crime in the town with proportion of owner-occupied units built prior to 1940 is given as:\n",
    "$$crime(Y) = -3.7779 + 0.1078*age(x)$$\n",
    "\n",
    "* Here the $\\beta_0$ value is -3.7779, which means the per capita crime in the town falls by 3.7779 when age is zero. \n",
    "* The slope or $\\beta_1$ is 0.1078, which means that as proportion of owner-occupied units built prior to 1940 increases by 1 the crime rate  increases by 0.1078 units.  \n",
    "* The $R^2$ value is 0.124(ie) 12.4% of information is explained by the independent variable age the rest information is explained by other variables.\n",
    "* The p-value is 0.000 < 0.05 So we can conclude that there is a statistically significant association between age and the target variable(crim)."
   ]
  },
  {
   "cell_type": "code",
   "execution_count": 22,
   "id": "cb46dcfc",
   "metadata": {},
   "outputs": [
    {
     "name": "stdout",
     "output_type": "stream",
     "text": [
      "SIMPLE LINEAR REGRESSION MODEL(crime~dis): \n",
      "\n",
      "                            OLS Regression Results                            \n",
      "==============================================================================\n",
      "Dep. Variable:                   crim   R-squared:                       0.144\n",
      "Model:                            OLS   Adj. R-squared:                  0.142\n",
      "Method:                 Least Squares   F-statistic:                     84.89\n",
      "Date:                Fri, 29 Apr 2022   Prob (F-statistic):           8.52e-19\n",
      "Time:                        19:30:44   Log-Likelihood:                -1767.0\n",
      "No. Observations:                 506   AIC:                             3538.\n",
      "Df Residuals:                     504   BIC:                             3546.\n",
      "Df Model:                           1                                         \n",
      "Covariance Type:            nonrobust                                         \n",
      "==============================================================================\n",
      "                 coef    std err          t      P>|t|      [0.025      0.975]\n",
      "------------------------------------------------------------------------------\n",
      "const          9.4993      0.730     13.006      0.000       8.064      10.934\n",
      "dis           -1.5509      0.168     -9.213      0.000      -1.882      -1.220\n",
      "==============================================================================\n",
      "Omnibus:                      576.519   Durbin-Watson:                   0.952\n",
      "Prob(Omnibus):                  0.000   Jarque-Bera (JB):            37426.729\n",
      "Skew:                           5.348   Prob(JB):                         0.00\n",
      "Kurtosis:                      43.753   Cond. No.                         9.32\n",
      "==============================================================================\n",
      "\n",
      "Notes:\n",
      "[1] Standard Errors assume that the covariance matrix of the errors is correctly specified.\n"
     ]
    },
    {
     "name": "stderr",
     "output_type": "stream",
     "text": [
      "C:\\Users\\gayat\\anaconda3\\lib\\site-packages\\statsmodels\\tsa\\tsatools.py:142: FutureWarning: In a future version of pandas all arguments of concat except for the argument 'objs' will be keyword-only\n",
      "  x = pd.concat(x[::order], 1)\n"
     ]
    }
   ],
   "source": [
    "#7.To predict per capita crime rate using dist (ie) weighted distances to five Boston employment centres\n",
    "\n",
    "# dependent variable:\n",
    "y = df.crim\n",
    "#independent variable:\n",
    "x = df.dis\n",
    "\n",
    "x = sm.add_constant(x) # adding a constant\n",
    "\n",
    "m7 = sm.OLS(y, x).fit()\n",
    "predictions = m7.predict(x) \n",
    "\n",
    "print(\"SIMPLE LINEAR REGRESSION MODEL(crime~dis): \\n\")\n",
    "print_model = m7.summary()\n",
    "print(print_model)"
   ]
  },
  {
   "cell_type": "markdown",
   "id": "7c93b566",
   "metadata": {},
   "source": [
    "The regression equation for per capita crime in the town with weighted distances to five Boston employment centres is given as:\n",
    "$$crime(Y) = 9.4993 -1.5509*dis(x)$$\n",
    "\n",
    "* Here the $\\beta_0$ value is 9.4993, which means the per capita crime in the town increases by 9.4993 when dist is zero. \n",
    "* The slope or $\\beta_1$ is -1.5509, which means that as weighted distances to five Boston employment centres increases by 1 unit the crime rate  falls by 1.5509 units.  \n",
    "* The $R^2$ value is 0.144(ie) 14.4% of information is explained by the independent variable dist the rest information is explained by other variables.\n",
    "* The p-value is 0.000 < 0.05 So we can conclude that there is a statistically significant association between dist and the target variable(crim)."
   ]
  },
  {
   "cell_type": "code",
   "execution_count": 23,
   "id": "d868dbc7",
   "metadata": {},
   "outputs": [
    {
     "name": "stdout",
     "output_type": "stream",
     "text": [
      "SIMPLE LINEAR REGRESSION MODEL(crime~rad): \n",
      "\n",
      "                            OLS Regression Results                            \n",
      "==============================================================================\n",
      "Dep. Variable:                   crim   R-squared:                       0.391\n",
      "Model:                            OLS   Adj. R-squared:                  0.390\n",
      "Method:                 Least Squares   F-statistic:                     323.9\n",
      "Date:                Fri, 29 Apr 2022   Prob (F-statistic):           2.69e-56\n",
      "Time:                        19:31:11   Log-Likelihood:                -1680.8\n",
      "No. Observations:                 506   AIC:                             3366.\n",
      "Df Residuals:                     504   BIC:                             3374.\n",
      "Df Model:                           1                                         \n",
      "Covariance Type:            nonrobust                                         \n",
      "==============================================================================\n",
      "                 coef    std err          t      P>|t|      [0.025      0.975]\n",
      "------------------------------------------------------------------------------\n",
      "const         -2.2872      0.443     -5.157      0.000      -3.158      -1.416\n",
      "rad            0.6179      0.034     17.998      0.000       0.550       0.685\n",
      "==============================================================================\n",
      "Omnibus:                      656.459   Durbin-Watson:                   1.337\n",
      "Prob(Omnibus):                  0.000   Jarque-Bera (JB):            75417.007\n",
      "Skew:                           6.478   Prob(JB):                         0.00\n",
      "Kurtosis:                      61.389   Cond. No.                         19.2\n",
      "==============================================================================\n",
      "\n",
      "Notes:\n",
      "[1] Standard Errors assume that the covariance matrix of the errors is correctly specified.\n"
     ]
    },
    {
     "name": "stderr",
     "output_type": "stream",
     "text": [
      "C:\\Users\\gayat\\anaconda3\\lib\\site-packages\\statsmodels\\tsa\\tsatools.py:142: FutureWarning: In a future version of pandas all arguments of concat except for the argument 'objs' will be keyword-only\n",
      "  x = pd.concat(x[::order], 1)\n"
     ]
    }
   ],
   "source": [
    "#8. To predict per capita crime rate using rad (ie) index of accessibility to radial highways\n",
    "# dependent variable:\n",
    "y = df.crim\n",
    "#independent variable:\n",
    "x = df.rad\n",
    "\n",
    "x = sm.add_constant(x) # adding a constant\n",
    "\n",
    "m8 = sm.OLS(y, x).fit()\n",
    "predictions = m8.predict(x) \n",
    "\n",
    "print(\"SIMPLE LINEAR REGRESSION MODEL(crime~rad): \\n\")\n",
    "print_model = m8.summary()\n",
    "print(print_model)"
   ]
  },
  {
   "cell_type": "markdown",
   "id": "5a9e850a",
   "metadata": {},
   "source": [
    "The regression equation for per capita crime in the town with index of accessibility to radial highways is given as:\n",
    "$$crime(Y) = -2.2872 + 0.6179*rad(x)$$\n",
    "\n",
    "* Here the $\\beta_0$ value is -2.2872, which means the per capita crime in the town falls by 2.2872 when rad is zero. \n",
    "* The slope or $\\beta_1$ is 0.6179, which means that as accessibility to radial highways increases by 1 index the crime rate  increases by 0.6179 units.  \n",
    "* The $R^2$ value is 0.391(ie) 39.1% of information is explained by the independent variable rad the rest information is explained by other variables.\n",
    "* The p-value is 0.000 < 0.05 So we can conclude that there is a statistically significant association between rad and the target variable(crim)."
   ]
  },
  {
   "cell_type": "code",
   "execution_count": 24,
   "id": "af9a95aa",
   "metadata": {},
   "outputs": [
    {
     "name": "stdout",
     "output_type": "stream",
     "text": [
      "SIMPLE LINEAR REGRESSION MODEL(crime~tax): \n",
      "\n",
      "                            OLS Regression Results                            \n",
      "==============================================================================\n",
      "Dep. Variable:                   crim   R-squared:                       0.340\n",
      "Model:                            OLS   Adj. R-squared:                  0.338\n",
      "Method:                 Least Squares   F-statistic:                     259.2\n",
      "Date:                Fri, 29 Apr 2022   Prob (F-statistic):           2.36e-47\n",
      "Time:                        19:32:16   Log-Likelihood:                -1701.4\n",
      "No. Observations:                 506   AIC:                             3407.\n",
      "Df Residuals:                     504   BIC:                             3415.\n",
      "Df Model:                           1                                         \n",
      "Covariance Type:            nonrobust                                         \n",
      "==============================================================================\n",
      "                 coef    std err          t      P>|t|      [0.025      0.975]\n",
      "------------------------------------------------------------------------------\n",
      "const         -8.5284      0.816    -10.454      0.000     -10.131      -6.926\n",
      "tax            0.0297      0.002     16.099      0.000       0.026       0.033\n",
      "==============================================================================\n",
      "Omnibus:                      635.377   Durbin-Watson:                   1.252\n",
      "Prob(Omnibus):                  0.000   Jarque-Bera (JB):            63763.835\n",
      "Skew:                           6.156   Prob(JB):                         0.00\n",
      "Kurtosis:                      56.599   Cond. No.                     1.16e+03\n",
      "==============================================================================\n",
      "\n",
      "Notes:\n",
      "[1] Standard Errors assume that the covariance matrix of the errors is correctly specified.\n",
      "[2] The condition number is large, 1.16e+03. This might indicate that there are\n",
      "strong multicollinearity or other numerical problems.\n"
     ]
    },
    {
     "name": "stderr",
     "output_type": "stream",
     "text": [
      "C:\\Users\\gayat\\anaconda3\\lib\\site-packages\\statsmodels\\tsa\\tsatools.py:142: FutureWarning: In a future version of pandas all arguments of concat except for the argument 'objs' will be keyword-only\n",
      "  x = pd.concat(x[::order], 1)\n"
     ]
    }
   ],
   "source": [
    "#9.To predict per capita crime rate using tax (ie) full-value property-tax rate per $10,000 \n",
    "# dependent variable:\n",
    "y = df.crim\n",
    "#independent variable:\n",
    "x = df.tax\n",
    "\n",
    "x = sm.add_constant(x) # adding a constant\n",
    "\n",
    "m9 = sm.OLS(y, x).fit()\n",
    "predictions = m9.predict(x) \n",
    "\n",
    "print(\"SIMPLE LINEAR REGRESSION MODEL(crime~tax): \\n\")\n",
    "print_model = m9.summary()\n",
    "print(print_model)"
   ]
  },
  {
   "cell_type": "markdown",
   "id": "c609db61",
   "metadata": {},
   "source": [
    "The regression equation for per capita crime in the town with tax is given as:\n",
    "$$crime(Y) = -8.5284 + 0.0297*tax(x)$$\n",
    "\n",
    "* Here the $\\beta_0$ value is -8.5284, which means the per capita crime in the town falls by 8.5284 when tax is zero. \n",
    "* The slope or $\\beta_1$ is 0.0297, which means that as tax increases by 1 unit the crime rate  increases by 0.0297 units.  \n",
    "* The $R^2$ value is 0.340(ie) 34% of information is explained by the independent variable tax the rest information is explained by other variables.\n",
    "* The p-value is 0.000 < 0.05 So we can conclude that there is a statistically significant association between tax and the target variable(crim)."
   ]
  },
  {
   "cell_type": "code",
   "execution_count": 25,
   "id": "bff6c59c",
   "metadata": {},
   "outputs": [
    {
     "name": "stdout",
     "output_type": "stream",
     "text": [
      "SIMPLE LINEAR REGRESSION MODEL(crime~ptratio): \n",
      "\n",
      "                            OLS Regression Results                            \n",
      "==============================================================================\n",
      "Dep. Variable:                   crim   R-squared:                       0.084\n",
      "Model:                            OLS   Adj. R-squared:                  0.082\n",
      "Method:                 Least Squares   F-statistic:                     46.26\n",
      "Date:                Fri, 29 Apr 2022   Prob (F-statistic):           2.94e-11\n",
      "Time:                        19:33:09   Log-Likelihood:                -1784.1\n",
      "No. Observations:                 506   AIC:                             3572.\n",
      "Df Residuals:                     504   BIC:                             3581.\n",
      "Df Model:                           1                                         \n",
      "Covariance Type:            nonrobust                                         \n",
      "==============================================================================\n",
      "                 coef    std err          t      P>|t|      [0.025      0.975]\n",
      "------------------------------------------------------------------------------\n",
      "const        -17.6469      3.147     -5.607      0.000     -23.830     -11.464\n",
      "ptratio        1.1520      0.169      6.801      0.000       0.819       1.485\n",
      "==============================================================================\n",
      "Omnibus:                      568.053   Durbin-Watson:                   0.905\n",
      "Prob(Omnibus):                  0.000   Jarque-Bera (JB):            34221.853\n",
      "Skew:                           5.245   Prob(JB):                         0.00\n",
      "Kurtosis:                      41.899   Cond. No.                         160.\n",
      "==============================================================================\n",
      "\n",
      "Notes:\n",
      "[1] Standard Errors assume that the covariance matrix of the errors is correctly specified.\n"
     ]
    },
    {
     "name": "stderr",
     "output_type": "stream",
     "text": [
      "C:\\Users\\gayat\\anaconda3\\lib\\site-packages\\statsmodels\\tsa\\tsatools.py:142: FutureWarning: In a future version of pandas all arguments of concat except for the argument 'objs' will be keyword-only\n",
      "  x = pd.concat(x[::order], 1)\n"
     ]
    }
   ],
   "source": [
    "#10. To predict per capita crime rate using ptratio (ie) pupil-teacher ratio by town\n",
    "# dependent variable:\n",
    "y = df.crim\n",
    "#independent variable:\n",
    "x = df.ptratio\n",
    "\n",
    "x = sm.add_constant(x) # adding a constant\n",
    "\n",
    "m10 = sm.OLS(y, x).fit()\n",
    "predictions = m10.predict(x) \n",
    "\n",
    "print(\"SIMPLE LINEAR REGRESSION MODEL(crime~ptratio): \\n\")\n",
    "print_model = m10.summary()\n",
    "print(print_model)"
   ]
  },
  {
   "cell_type": "markdown",
   "id": "181430e1",
   "metadata": {},
   "source": [
    "The regression equation for per capita crime in the town with pupil-teacher ratio by town is given as:\n",
    "$$crime(Y) = -17.6469 + 0.0297*tax(x)$$\n",
    "\n",
    "* Here the $\\beta_0$ value is -17.6469, which means the per capita crime in the town falls by 17.6469 when pupil-teacher ratio is zero. \n",
    "* The slope or $\\beta_1$ is 1.1520, which means that as pupil-teacher ratio by town increases by 1 unit the crime rate  increases by 1.1520 units.  \n",
    "* The $R^2$ value is 0.084(ie) 8.4% of information is explained by the independent variable pupil-teacher ratio the rest information is explained by other variables.\n",
    "* The p-value is 0.000 < 0.05 So we can conclude that there is a statistically significant association between pupil-teacher ratio and the target variable(crim)."
   ]
  },
  {
   "cell_type": "code",
   "execution_count": 26,
   "id": "1cdec65e",
   "metadata": {},
   "outputs": [
    {
     "name": "stdout",
     "output_type": "stream",
     "text": [
      "SIMPLE LINEAR REGRESSION MODEL(crime~black): \n",
      "\n",
      "                            OLS Regression Results                            \n",
      "==============================================================================\n",
      "Dep. Variable:                   crim   R-squared:                       0.148\n",
      "Model:                            OLS   Adj. R-squared:                  0.147\n",
      "Method:                 Least Squares   F-statistic:                     87.74\n",
      "Date:                Fri, 29 Apr 2022   Prob (F-statistic):           2.49e-19\n",
      "Time:                        19:33:49   Log-Likelihood:                -1765.8\n",
      "No. Observations:                 506   AIC:                             3536.\n",
      "Df Residuals:                     504   BIC:                             3544.\n",
      "Df Model:                           1                                         \n",
      "Covariance Type:            nonrobust                                         \n",
      "==============================================================================\n",
      "                 coef    std err          t      P>|t|      [0.025      0.975]\n",
      "------------------------------------------------------------------------------\n",
      "const         16.5535      1.426     11.609      0.000      13.752      19.355\n",
      "black         -0.0363      0.004     -9.367      0.000      -0.044      -0.029\n",
      "==============================================================================\n",
      "Omnibus:                      594.029   Durbin-Watson:                   0.994\n",
      "Prob(Omnibus):                  0.000   Jarque-Bera (JB):            44041.935\n",
      "Skew:                           5.578   Prob(JB):                         0.00\n",
      "Kurtosis:                      47.323   Cond. No.                     1.49e+03\n",
      "==============================================================================\n",
      "\n",
      "Notes:\n",
      "[1] Standard Errors assume that the covariance matrix of the errors is correctly specified.\n",
      "[2] The condition number is large, 1.49e+03. This might indicate that there are\n",
      "strong multicollinearity or other numerical problems.\n"
     ]
    },
    {
     "name": "stderr",
     "output_type": "stream",
     "text": [
      "C:\\Users\\gayat\\anaconda3\\lib\\site-packages\\statsmodels\\tsa\\tsatools.py:142: FutureWarning: In a future version of pandas all arguments of concat except for the argument 'objs' will be keyword-only\n",
      "  x = pd.concat(x[::order], 1)\n"
     ]
    }
   ],
   "source": [
    "#11. To predict per capita crime rate using black (ie) 1000(Bk - 0.63)^2 where Bk is the proportion of blacks by town\n",
    "# dependent variable:\n",
    "y = df.crim\n",
    "#independent variable:\n",
    "x = df.black\n",
    "\n",
    "x = sm.add_constant(x) # adding a constant\n",
    "\n",
    "m11 = sm.OLS(y, x).fit()\n",
    "predictions = m11.predict(x) \n",
    "\n",
    "print(\"SIMPLE LINEAR REGRESSION MODEL(crime~black): \\n\")\n",
    "print_model = m11.summary()\n",
    "print(print_model)"
   ]
  },
  {
   "cell_type": "markdown",
   "id": "4a89192c",
   "metadata": {},
   "source": [
    "The regression equation for per capita crime in the town with proportion of blacks by town is given as:\n",
    "$$crime(Y) = 16.5535 -0.0363*black(x)$$\n",
    "\n",
    "* Here the $\\beta_0$ value is 16.5535, which means the per capita crime in the town increases by 16.5535 when proportion of blacks by town is zero. \n",
    "* The slope or $\\beta_1$ is -0.0363, which means that as proportion of blacks by town increases by 1 unit the crime rate  falls by 0.0363 units.  \n",
    "* The $R^2$ value is 0.148(ie) 14.8% of information is explained by the independent variable proportion of blacks by town the rest information is explained by other variables.\n",
    "* The p-value is 0.000 < 0.05 So we can conclude that there is a statistically significant association between proportion of blacks by town and the target variable(crim)."
   ]
  },
  {
   "cell_type": "code",
   "execution_count": 27,
   "id": "4bac9e57",
   "metadata": {},
   "outputs": [
    {
     "name": "stdout",
     "output_type": "stream",
     "text": [
      "SIMPLE LINEAR REGRESSION MODEL(crime~lstat): \n",
      "\n",
      "                            OLS Regression Results                            \n",
      "==============================================================================\n",
      "Dep. Variable:                   crim   R-squared:                       0.208\n",
      "Model:                            OLS   Adj. R-squared:                  0.206\n",
      "Method:                 Least Squares   F-statistic:                     132.0\n",
      "Date:                Fri, 29 Apr 2022   Prob (F-statistic):           2.65e-27\n",
      "Time:                        19:34:14   Log-Likelihood:                -1747.5\n",
      "No. Observations:                 506   AIC:                             3499.\n",
      "Df Residuals:                     504   BIC:                             3507.\n",
      "Df Model:                           1                                         \n",
      "Covariance Type:            nonrobust                                         \n",
      "==============================================================================\n",
      "                 coef    std err          t      P>|t|      [0.025      0.975]\n",
      "------------------------------------------------------------------------------\n",
      "const         -3.3305      0.694     -4.801      0.000      -4.694      -1.968\n",
      "lstat          0.5488      0.048     11.491      0.000       0.455       0.643\n",
      "==============================================================================\n",
      "Omnibus:                      601.306   Durbin-Watson:                   1.182\n",
      "Prob(Omnibus):                  0.000   Jarque-Bera (JB):            49918.826\n",
      "Skew:                           5.645   Prob(JB):                         0.00\n",
      "Kurtosis:                      50.331   Cond. No.                         29.7\n",
      "==============================================================================\n",
      "\n",
      "Notes:\n",
      "[1] Standard Errors assume that the covariance matrix of the errors is correctly specified.\n"
     ]
    },
    {
     "name": "stderr",
     "output_type": "stream",
     "text": [
      "C:\\Users\\gayat\\anaconda3\\lib\\site-packages\\statsmodels\\tsa\\tsatools.py:142: FutureWarning: In a future version of pandas all arguments of concat except for the argument 'objs' will be keyword-only\n",
      "  x = pd.concat(x[::order], 1)\n"
     ]
    }
   ],
   "source": [
    "#12. To predict per capita crime rate using lstat (ie) % lower status of the population\n",
    "# dependent variable:\n",
    "y = df.crim\n",
    "#independent variable:\n",
    "x = df.lstat\n",
    "\n",
    "x = sm.add_constant(x) # adding a constant\n",
    "\n",
    "m12 = sm.OLS(y, x).fit()\n",
    "predictions = m12.predict(x) \n",
    "\n",
    "print(\"SIMPLE LINEAR REGRESSION MODEL(crime~lstat): \\n\")\n",
    "print_model = m12.summary()\n",
    "print(print_model)"
   ]
  },
  {
   "cell_type": "markdown",
   "id": "829e6321",
   "metadata": {},
   "source": [
    "The regression equation for per capita crime in the town with % lower status of the population is given as:\n",
    "$$crime(Y) = -3.3305 + 0.5488*lstat(x)$$\n",
    "\n",
    "* Here the $\\beta_0$ value is -3.3305, which means the per capita crime in the town falls by 3.3305 when % lower status of the population is zero. \n",
    "* The slope or $\\beta_1$ is 0.5488, which means that as % lower status of the population increases by 100 units the crime rate  increases by 0.5488 units.  \n",
    "* The $R^2$ value is 0.208(ie) 20.8% of information is explained by the independent variable % lower status of the population the rest information is explained by other variables.\n",
    "* The p-value is 0.000 < 0.05 So we can conclude that there is a statistically significant association between % lower status of the population and the target variable(crim)."
   ]
  },
  {
   "cell_type": "code",
   "execution_count": 28,
   "id": "bacc58d4",
   "metadata": {},
   "outputs": [
    {
     "name": "stdout",
     "output_type": "stream",
     "text": [
      "SIMPLE LINEAR REGRESSION MODEL(crime~medv): \n",
      "\n",
      "                            OLS Regression Results                            \n",
      "==============================================================================\n",
      "Dep. Variable:                   crim   R-squared:                       0.151\n",
      "Model:                            OLS   Adj. R-squared:                  0.149\n",
      "Method:                 Least Squares   F-statistic:                     89.49\n",
      "Date:                Fri, 29 Apr 2022   Prob (F-statistic):           1.17e-19\n",
      "Time:                        19:34:50   Log-Likelihood:                -1765.0\n",
      "No. Observations:                 506   AIC:                             3534.\n",
      "Df Residuals:                     504   BIC:                             3542.\n",
      "Df Model:                           1                                         \n",
      "Covariance Type:            nonrobust                                         \n",
      "==============================================================================\n",
      "                 coef    std err          t      P>|t|      [0.025      0.975]\n",
      "------------------------------------------------------------------------------\n",
      "const         11.7965      0.934     12.628      0.000       9.961      13.632\n",
      "medv          -0.3632      0.038     -9.460      0.000      -0.439      -0.288\n",
      "==============================================================================\n",
      "Omnibus:                      558.880   Durbin-Watson:                   0.996\n",
      "Prob(Omnibus):                  0.000   Jarque-Bera (JB):            32740.044\n",
      "Skew:                           5.108   Prob(JB):                         0.00\n",
      "Kurtosis:                      41.059   Cond. No.                         64.5\n",
      "==============================================================================\n",
      "\n",
      "Notes:\n",
      "[1] Standard Errors assume that the covariance matrix of the errors is correctly specified.\n"
     ]
    },
    {
     "name": "stderr",
     "output_type": "stream",
     "text": [
      "C:\\Users\\gayat\\anaconda3\\lib\\site-packages\\statsmodels\\tsa\\tsatools.py:142: FutureWarning: In a future version of pandas all arguments of concat except for the argument 'objs' will be keyword-only\n",
      "  x = pd.concat(x[::order], 1)\n"
     ]
    }
   ],
   "source": [
    "#13. To predict per capita crime rate using medv (ie)Median value of owner-occupied homes in $1000's\n",
    "# dependent variable:\n",
    "y = df.crim\n",
    "#independent variable:\n",
    "x = df.medv\n",
    "\n",
    "x = sm.add_constant(x) # adding a constant\n",
    "\n",
    "m13 = sm.OLS(y, x).fit()\n",
    "predictions = m13.predict(x) \n",
    "\n",
    "print(\"SIMPLE LINEAR REGRESSION MODEL(crime~medv): \\n\")\n",
    "print_model = m13.summary()\n",
    "print(print_model)"
   ]
  },
  {
   "cell_type": "markdown",
   "id": "2fc81b8f",
   "metadata": {},
   "source": [
    "The regression equation for per capita crime in the town with Median value of owner-occupied homes is given as:\n",
    "$$crime(Y) = 16.5535 -0.0363*black(x)$$\n",
    "\n",
    "* Here the $\\beta_0$ value is 16.5535, which means the per capita crime in the town increases by 16.5535 when Median value of owner-occupied homes is zero. \n",
    "* The slope or $\\beta_1$ is -0.0363, which means that as Median value of owner-occupied homes increases by 1000 unit the crime rate  falls by 0.0363 units.  \n",
    "* The $R^2$ value is 0.151(ie) 15.1% of information is explained by the independent variable proportion of blacks by town the rest information is explained by other variables.\n",
    "* The p-value is 0.000 < 0.05 So we can conclude that there is a statistically significant association between proportion of blacks by town and the target variable(crim)."
   ]
  },
  {
   "cell_type": "markdown",
   "id": "6af8e7dd",
   "metadata": {},
   "source": [
    "### Conclusion:\n",
    "All predictors have a p-value less than 0.05 except “chas”, so we may conclude that there is a statistically significant association between each predictor and the response except for the “chas” predictor in this particular case.\n",
    "\n",
    "\n",
    "\n",
    "-----"
   ]
  },
  {
   "cell_type": "markdown",
   "id": "c634c516",
   "metadata": {},
   "source": [
    "B) Fit a multiple regression model to predict the response using all of the predictors. Describe your results. For which predictors can we reject the null hypothesis H0 : βj = 0?"
   ]
  },
  {
   "cell_type": "code",
   "execution_count": 30,
   "id": "29af2ea6",
   "metadata": {},
   "outputs": [
    {
     "name": "stdout",
     "output_type": "stream",
     "text": [
      "MULTIPLE LINEAR REGRESSION MODEL: (crim ~ .) \n",
      "\n",
      "                            OLS Regression Results                            \n",
      "==============================================================================\n",
      "Dep. Variable:                      y   R-squared:                       0.454\n",
      "Model:                            OLS   Adj. R-squared:                  0.440\n",
      "Method:                 Least Squares   F-statistic:                     31.47\n",
      "Date:                Fri, 29 Apr 2022   Prob (F-statistic):           1.57e-56\n",
      "Time:                        20:19:32   Log-Likelihood:                -1653.3\n",
      "No. Observations:                 506   AIC:                             3335.\n",
      "Df Residuals:                     492   BIC:                             3394.\n",
      "Df Model:                          13                                         \n",
      "Covariance Type:            nonrobust                                         \n",
      "==============================================================================\n",
      "                 coef    std err          t      P>|t|      [0.025      0.975]\n",
      "------------------------------------------------------------------------------\n",
      "const         17.0332      7.235      2.354      0.019       2.818      31.248\n",
      "x1             0.0449      0.019      2.394      0.017       0.008       0.082\n",
      "x2            -0.0639      0.083     -0.766      0.444      -0.228       0.100\n",
      "x3            -0.7491      1.180     -0.635      0.526      -3.068       1.570\n",
      "x4           -10.3135      5.276     -1.955      0.051     -20.679       0.052\n",
      "x5             0.4301      0.613      0.702      0.483      -0.774       1.634\n",
      "x6             0.0015      0.018      0.081      0.935      -0.034       0.037\n",
      "x7            -0.9872      0.282     -3.503      0.001      -1.541      -0.433\n",
      "x8             0.5882      0.088      6.680      0.000       0.415       0.761\n",
      "x9            -0.0038      0.005     -0.733      0.464      -0.014       0.006\n",
      "x10           -0.2711      0.186     -1.454      0.147      -0.637       0.095\n",
      "x11           -0.0075      0.004     -2.052      0.041      -0.015      -0.000\n",
      "x12            0.1262      0.076      1.667      0.096      -0.023       0.275\n",
      "x13           -0.1989      0.061     -3.287      0.001      -0.318      -0.080\n",
      "==============================================================================\n",
      "Omnibus:                      666.613   Durbin-Watson:                   1.519\n",
      "Prob(Omnibus):                  0.000   Jarque-Bera (JB):            84887.625\n",
      "Skew:                           6.617   Prob(JB):                         0.00\n",
      "Kurtosis:                      65.058   Cond. No.                     1.58e+04\n",
      "==============================================================================\n",
      "\n",
      "Notes:\n",
      "[1] Standard Errors assume that the covariance matrix of the errors is correctly specified.\n",
      "[2] The condition number is large, 1.58e+04. This might indicate that there are\n",
      "strong multicollinearity or other numerical problems.\n"
     ]
    }
   ],
   "source": [
    "#dependent variables\n",
    "x = df.loc[:,['zn', 'indus', 'chas', 'nox', 'rm', 'age', 'dis', 'rad', 'tax',\n",
    "       'ptratio', 'black', 'lstat', 'medv']].values\n",
    "#independent variables\n",
    "y = df.loc[:,\"crim\"].values.reshape(-1,1)\n",
    "\n",
    "x = sm.add_constant(x) # adding a constant\n",
    "\n",
    "m14 = sm.OLS(y, x).fit()\n",
    "predictions = m14.predict(x) \n",
    "\n",
    "print(\"MULTIPLE LINEAR REGRESSION MODEL: (crim ~ .) \\n\")\n",
    "print_model = m14.summary()\n",
    "print(print_model)"
   ]
  },
  {
   "cell_type": "markdown",
   "id": "5fbc38e1",
   "metadata": {},
   "source": [
    "The regression eqaution is:\n",
    "\n",
    "$$ CRIME(y) = 17.0332 +0.0449(x1) - 0.0639(x2) - 0.7491(x3) - 10.3135(x4) + 0.4301(x5) + 0.0015(x6) - 0.9872(x7) + 0.5882(x8)\n",
    "- 0.0038(x9) - 0.2711(x10) - 0.0075(x11) + 0.1262(x12) -0.1989(x13) $$\n",
    "\n",
    "\n",
    "We will reject the null hypothesis for “zn”, “dis”, “rad”, “black” and “medv” as the p-value for all these variables are less than 0.05\n",
    "\n",
    "\n",
    "-----"
   ]
  },
  {
   "cell_type": "markdown",
   "id": "202682e0",
   "metadata": {},
   "source": [
    "C) How do your results from (a) compare to your results from (b)? Create a plot displaying the univariate regression coefficients from (a) on the x-axis, and the multiple regression coefficients from (b) on the y-axis. That is, each predictor is displayed as a single point in the plot. Its coefficient in a simple linear regression model is shown on the x-axis, and its coefficient estimate in the multiple linear regression model is shown on the y-axis."
   ]
  },
  {
   "cell_type": "code",
   "execution_count": null,
   "id": "b5844b3e",
   "metadata": {},
   "outputs": [],
   "source": []
  },
  {
   "cell_type": "markdown",
   "id": "d1c97002",
   "metadata": {},
   "source": [
    "D)"
   ]
  }
 ],
 "metadata": {
  "kernelspec": {
   "display_name": "Python 3 (ipykernel)",
   "language": "python",
   "name": "python3"
  },
  "language_info": {
   "codemirror_mode": {
    "name": "ipython",
    "version": 3
   },
   "file_extension": ".py",
   "mimetype": "text/x-python",
   "name": "python",
   "nbconvert_exporter": "python",
   "pygments_lexer": "ipython3",
   "version": "3.9.7"
  }
 },
 "nbformat": 4,
 "nbformat_minor": 5
}
