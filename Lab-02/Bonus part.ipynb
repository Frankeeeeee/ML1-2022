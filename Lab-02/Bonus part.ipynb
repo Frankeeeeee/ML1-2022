{
 "cells": [
  {
   "cell_type": "code",
   "execution_count": 1,
   "id": "aeffc22d",
   "metadata": {},
   "outputs": [
    {
     "data": {
      "text/plain": [
       "'C:\\\\Users\\\\91999'"
      ]
     },
     "execution_count": 1,
     "metadata": {},
     "output_type": "execute_result"
    }
   ],
   "source": [
    "import os\n",
    "os.getcwd()"
   ]
  },
  {
   "cell_type": "code",
   "execution_count": 2,
   "id": "841fceb8",
   "metadata": {},
   "outputs": [],
   "source": [
    "os.chdir('F:\\Data science course dataset')"
   ]
  },
  {
   "cell_type": "code",
   "execution_count": 3,
   "id": "7c050853",
   "metadata": {},
   "outputs": [],
   "source": [
    "import numpy as np\n",
    "import pandas as pd\n",
    "import matplotlib.pyplot as plt\n",
    "import seaborn as sns"
   ]
  },
  {
   "cell_type": "code",
   "execution_count": 4,
   "id": "22d4289a",
   "metadata": {},
   "outputs": [],
   "source": [
    "boston = pd.read_csv(\"boston.csv\")"
   ]
  },
  {
   "cell_type": "code",
   "execution_count": 5,
   "id": "9df706b0",
   "metadata": {},
   "outputs": [
    {
     "data": {
      "text/html": [
       "<div>\n",
       "<style scoped>\n",
       "    .dataframe tbody tr th:only-of-type {\n",
       "        vertical-align: middle;\n",
       "    }\n",
       "\n",
       "    .dataframe tbody tr th {\n",
       "        vertical-align: top;\n",
       "    }\n",
       "\n",
       "    .dataframe thead th {\n",
       "        text-align: right;\n",
       "    }\n",
       "</style>\n",
       "<table border=\"1\" class=\"dataframe\">\n",
       "  <thead>\n",
       "    <tr style=\"text-align: right;\">\n",
       "      <th></th>\n",
       "      <th>TOWN</th>\n",
       "      <th>TRACT</th>\n",
       "      <th>LON</th>\n",
       "      <th>LAT</th>\n",
       "      <th>MEDV</th>\n",
       "      <th>CRIM</th>\n",
       "      <th>ZN</th>\n",
       "      <th>INDUS</th>\n",
       "      <th>CHAS</th>\n",
       "      <th>NOX</th>\n",
       "      <th>RM</th>\n",
       "      <th>AGE</th>\n",
       "      <th>DIS</th>\n",
       "      <th>RAD</th>\n",
       "      <th>TAX</th>\n",
       "      <th>PTRATIO</th>\n",
       "    </tr>\n",
       "  </thead>\n",
       "  <tbody>\n",
       "    <tr>\n",
       "      <th>0</th>\n",
       "      <td>Nahant</td>\n",
       "      <td>2011</td>\n",
       "      <td>-70.955</td>\n",
       "      <td>42.2550</td>\n",
       "      <td>24.0</td>\n",
       "      <td>0.00632</td>\n",
       "      <td>18.0</td>\n",
       "      <td>2.31</td>\n",
       "      <td>0</td>\n",
       "      <td>0.538</td>\n",
       "      <td>6.575</td>\n",
       "      <td>65.2</td>\n",
       "      <td>4.0900</td>\n",
       "      <td>1</td>\n",
       "      <td>296</td>\n",
       "      <td>15.3</td>\n",
       "    </tr>\n",
       "    <tr>\n",
       "      <th>1</th>\n",
       "      <td>Swampscott</td>\n",
       "      <td>2021</td>\n",
       "      <td>-70.950</td>\n",
       "      <td>42.2875</td>\n",
       "      <td>21.6</td>\n",
       "      <td>0.02731</td>\n",
       "      <td>0.0</td>\n",
       "      <td>7.07</td>\n",
       "      <td>0</td>\n",
       "      <td>0.469</td>\n",
       "      <td>6.421</td>\n",
       "      <td>78.9</td>\n",
       "      <td>4.9671</td>\n",
       "      <td>2</td>\n",
       "      <td>242</td>\n",
       "      <td>17.8</td>\n",
       "    </tr>\n",
       "    <tr>\n",
       "      <th>2</th>\n",
       "      <td>Swampscott</td>\n",
       "      <td>2022</td>\n",
       "      <td>-70.936</td>\n",
       "      <td>42.2830</td>\n",
       "      <td>34.7</td>\n",
       "      <td>0.02729</td>\n",
       "      <td>0.0</td>\n",
       "      <td>7.07</td>\n",
       "      <td>0</td>\n",
       "      <td>0.469</td>\n",
       "      <td>7.185</td>\n",
       "      <td>61.1</td>\n",
       "      <td>4.9671</td>\n",
       "      <td>2</td>\n",
       "      <td>242</td>\n",
       "      <td>17.8</td>\n",
       "    </tr>\n",
       "    <tr>\n",
       "      <th>3</th>\n",
       "      <td>Marblehead</td>\n",
       "      <td>2031</td>\n",
       "      <td>-70.928</td>\n",
       "      <td>42.2930</td>\n",
       "      <td>33.4</td>\n",
       "      <td>0.03237</td>\n",
       "      <td>0.0</td>\n",
       "      <td>2.18</td>\n",
       "      <td>0</td>\n",
       "      <td>0.458</td>\n",
       "      <td>6.998</td>\n",
       "      <td>45.8</td>\n",
       "      <td>6.0622</td>\n",
       "      <td>3</td>\n",
       "      <td>222</td>\n",
       "      <td>18.7</td>\n",
       "    </tr>\n",
       "    <tr>\n",
       "      <th>4</th>\n",
       "      <td>Marblehead</td>\n",
       "      <td>2032</td>\n",
       "      <td>-70.922</td>\n",
       "      <td>42.2980</td>\n",
       "      <td>36.2</td>\n",
       "      <td>0.06905</td>\n",
       "      <td>0.0</td>\n",
       "      <td>2.18</td>\n",
       "      <td>0</td>\n",
       "      <td>0.458</td>\n",
       "      <td>7.147</td>\n",
       "      <td>54.2</td>\n",
       "      <td>6.0622</td>\n",
       "      <td>3</td>\n",
       "      <td>222</td>\n",
       "      <td>18.7</td>\n",
       "    </tr>\n",
       "  </tbody>\n",
       "</table>\n",
       "</div>"
      ],
      "text/plain": [
       "         TOWN  TRACT     LON      LAT  MEDV     CRIM    ZN  INDUS  CHAS  \\\n",
       "0      Nahant   2011 -70.955  42.2550  24.0  0.00632  18.0   2.31     0   \n",
       "1  Swampscott   2021 -70.950  42.2875  21.6  0.02731   0.0   7.07     0   \n",
       "2  Swampscott   2022 -70.936  42.2830  34.7  0.02729   0.0   7.07     0   \n",
       "3  Marblehead   2031 -70.928  42.2930  33.4  0.03237   0.0   2.18     0   \n",
       "4  Marblehead   2032 -70.922  42.2980  36.2  0.06905   0.0   2.18     0   \n",
       "\n",
       "     NOX     RM   AGE     DIS  RAD  TAX  PTRATIO  \n",
       "0  0.538  6.575  65.2  4.0900    1  296     15.3  \n",
       "1  0.469  6.421  78.9  4.9671    2  242     17.8  \n",
       "2  0.469  7.185  61.1  4.9671    2  242     17.8  \n",
       "3  0.458  6.998  45.8  6.0622    3  222     18.7  \n",
       "4  0.458  7.147  54.2  6.0622    3  222     18.7  "
      ]
     },
     "execution_count": 5,
     "metadata": {},
     "output_type": "execute_result"
    }
   ],
   "source": [
    "boston.head()"
   ]
  },
  {
   "cell_type": "code",
   "execution_count": 36,
   "id": "294cf230",
   "metadata": {},
   "outputs": [
    {
     "data": {
      "text/plain": [
       "(506, 16)"
      ]
     },
     "execution_count": 36,
     "metadata": {},
     "output_type": "execute_result"
    }
   ],
   "source": [
    "boston.shape"
   ]
  },
  {
   "cell_type": "code",
   "execution_count": 6,
   "id": "930bbb04",
   "metadata": {},
   "outputs": [
    {
     "data": {
      "text/plain": [
       "Index(['TOWN', 'TRACT', 'LON', 'LAT', 'MEDV', 'CRIM', 'ZN', 'INDUS', 'CHAS',\n",
       "       'NOX', 'RM', 'AGE', 'DIS', 'RAD', 'TAX', 'PTRATIO'],\n",
       "      dtype='object')"
      ]
     },
     "execution_count": 6,
     "metadata": {},
     "output_type": "execute_result"
    }
   ],
   "source": [
    "boston.columns"
   ]
  },
  {
   "cell_type": "code",
   "execution_count": 10,
   "id": "9ff93937",
   "metadata": {},
   "outputs": [],
   "source": [
    "from sklearn.linear_model import LinearRegression\n",
    "from sklearn.model_selection import train_test_split"
   ]
  },
  {
   "cell_type": "markdown",
   "id": "f91b6a97",
   "metadata": {},
   "source": [
    "#### 1) For each predictor, fit a simple linear regression model to predict the response. Describe your results. In which of the models is there a statistically significant association between the predictor and the response? Create some plots to back up your assertions."
   ]
  },
  {
   "cell_type": "markdown",
   "id": "ff6c3591",
   "metadata": {},
   "source": [
    "###### LON and LAT are the longitude and latitude of the center of the census tract."
   ]
  },
  {
   "cell_type": "code",
   "execution_count": 11,
   "id": "a6bf20ee",
   "metadata": {},
   "outputs": [
    {
     "data": {
      "text/plain": [
       "LinearRegression()"
      ]
     },
     "execution_count": 11,
     "metadata": {},
     "output_type": "execute_result"
    }
   ],
   "source": [
    "x = boston.LON\n",
    "y = boston.CRIM\n",
    "model = LinearRegression()\n",
    "model.fit(np.array(x).reshape(-1,1),y)"
   ]
  },
  {
   "cell_type": "code",
   "execution_count": 12,
   "id": "4ff6d639",
   "metadata": {},
   "outputs": [
    {
     "name": "stdout",
     "output_type": "stream",
     "text": [
      "intercept: 531.2836837336689\n",
      "slope: [7.42607624]\n",
      "coefficient of determination: 0.004238089845804094\n"
     ]
    }
   ],
   "source": [
    "intercept_ = model.intercept_ #b0\n",
    "print('intercept:', intercept_)\n",
    "model.coef_ = model.coef_ #b1\n",
    "print('slope:', model.coef_)\n",
    "r_sq = model.score(np.array(x).reshape(-1,1),y)\n",
    "print('coefficient of determination:', r_sq)"
   ]
  },
  {
   "cell_type": "code",
   "execution_count": 13,
   "id": "16905471",
   "metadata": {},
   "outputs": [
    {
     "data": {
      "text/plain": [
       "LinearRegression()"
      ]
     },
     "execution_count": 13,
     "metadata": {},
     "output_type": "execute_result"
    }
   ],
   "source": [
    "x = boston.LAT\n",
    "y = boston.CRIM\n",
    "model = LinearRegression()\n",
    "model.fit(np.array(x).reshape(-1,1),y)"
   ]
  },
  {
   "cell_type": "code",
   "execution_count": 14,
   "id": "034f2d8c",
   "metadata": {},
   "outputs": [
    {
     "name": "stdout",
     "output_type": "stream",
     "text": [
      "intercept: 499.08796090960624\n",
      "slope: [-11.73652808]\n",
      "coefficient of determination: 0.007105302284982629\n"
     ]
    }
   ],
   "source": [
    "intercept_ = model.intercept_ #b0\n",
    "print('intercept:', intercept_)\n",
    "model.coef_ = model.coef_ #b1\n",
    "print('slope:', model.coef_)\n",
    "r_sq = model.score(np.array(x).reshape(-1,1),y)\n",
    "print('coefficient of determination:', r_sq)"
   ]
  },
  {
   "cell_type": "markdown",
   "id": "055aa162",
   "metadata": {},
   "source": [
    "###### MEDV is the median value of owner-occupied homes, measured in thousands of dollars."
   ]
  },
  {
   "cell_type": "code",
   "execution_count": 15,
   "id": "35b274da",
   "metadata": {},
   "outputs": [
    {
     "name": "stdout",
     "output_type": "stream",
     "text": [
      "intercept: 11.835369475819368\n",
      "slope: [-0.36494737]\n",
      "coefficient of determination: 0.15177447807406852\n"
     ]
    }
   ],
   "source": [
    "x = boston.MEDV\n",
    "y = boston.CRIM\n",
    "model = LinearRegression()\n",
    "model.fit(np.array(x).reshape(-1,1),y)\n",
    "intercept_ = model.intercept_ #b0\n",
    "print('intercept:', intercept_)\n",
    "model.coef_ = model.coef_ #b1\n",
    "print('slope:', model.coef_)\n",
    "r_sq = model.score(np.array(x).reshape(-1,1),y)\n",
    "print('coefficient of determination:', r_sq)"
   ]
  },
  {
   "cell_type": "markdown",
   "id": "9ed65ad0",
   "metadata": {},
   "source": [
    "###### ZN is related to how much of the land is zoned for large residential properties.\n"
   ]
  },
  {
   "cell_type": "code",
   "execution_count": 16,
   "id": "c2e2247b",
   "metadata": {},
   "outputs": [
    {
     "name": "stdout",
     "output_type": "stream",
     "text": [
      "intercept: 4.453693755086385\n",
      "slope: [-0.07393498]\n",
      "coefficient of determination: 0.04018790803211081\n"
     ]
    }
   ],
   "source": [
    "x = boston.ZN\n",
    "y = boston.CRIM\n",
    "model = LinearRegression()\n",
    "model.fit(np.array(x).reshape(-1,1),y)\n",
    "intercept_ = model.intercept_ #b0\n",
    "print('intercept:', intercept_)\n",
    "model.coef_ = model.coef_ #b1\n",
    "print('slope:', model.coef_)\n",
    "r_sq = model.score(np.array(x).reshape(-1,1),y)\n",
    "print('coefficient of determination:', r_sq)"
   ]
  },
  {
   "cell_type": "markdown",
   "id": "1de1bb55",
   "metadata": {},
   "source": [
    "###### INDUS is the proportion of the area used for industry."
   ]
  },
  {
   "cell_type": "code",
   "execution_count": 17,
   "id": "d788804c",
   "metadata": {},
   "outputs": [
    {
     "name": "stdout",
     "output_type": "stream",
     "text": [
      "intercept: -2.063742606327817\n",
      "slope: [0.50977633]\n",
      "coefficient of determination: 0.16531007043075163\n"
     ]
    }
   ],
   "source": [
    "x = boston.INDUS\n",
    "y = boston.CRIM\n",
    "model = LinearRegression()\n",
    "model.fit(np.array(x).reshape(-1,1),y)\n",
    "intercept_ = model.intercept_ #b0\n",
    "print('intercept:', intercept_)\n",
    "model.coef_ = model.coef_ #b1\n",
    "print('slope:', model.coef_)\n",
    "r_sq = model.score(np.array(x).reshape(-1,1),y)\n",
    "print('coefficient of determination:', r_sq)"
   ]
  },
  {
   "cell_type": "markdown",
   "id": "ec8154d4",
   "metadata": {},
   "source": [
    "###### CHAS is 1 if a census tract is next to the Charles River else 0 "
   ]
  },
  {
   "cell_type": "code",
   "execution_count": 18,
   "id": "88583e88",
   "metadata": {},
   "outputs": [
    {
     "name": "stdout",
     "output_type": "stream",
     "text": [
      "intercept: 3.7444468365180477\n",
      "slope: [-1.89277655]\n",
      "coefficient of determination: 0.0031238689633057426\n"
     ]
    }
   ],
   "source": [
    "x = boston.CHAS\n",
    "y = boston.CRIM\n",
    "model = LinearRegression()\n",
    "model.fit(np.array(x).reshape(-1,1),y)\n",
    "intercept_ = model.intercept_ #b0\n",
    "print('intercept:', intercept_)\n",
    "model.coef_ = model.coef_ #b1\n",
    "print('slope:', model.coef_)\n",
    "r_sq = model.score(np.array(x).reshape(-1,1),y)\n",
    "print('coefficient of determination:', r_sq)"
   ]
  },
  {
   "cell_type": "markdown",
   "id": "d6a8d155",
   "metadata": {},
   "source": [
    "###### NOX is the concentration of nitrous oxides in the air, a measure of air pollution.\n"
   ]
  },
  {
   "cell_type": "code",
   "execution_count": 19,
   "id": "b848abb7",
   "metadata": {},
   "outputs": [
    {
     "name": "stdout",
     "output_type": "stream",
     "text": [
      "intercept: -13.719882309974336\n",
      "slope: [31.2485312]\n",
      "coefficient of determination: 0.17721718179269375\n"
     ]
    }
   ],
   "source": [
    "x = boston.NOX\n",
    "y = boston.CRIM\n",
    "model = LinearRegression()\n",
    "model.fit(np.array(x).reshape(-1,1),y)\n",
    "intercept_ = model.intercept_ #b0\n",
    "print('intercept:', intercept_)\n",
    "model.coef_ = model.coef_ #b1\n",
    "print('slope:', model.coef_)\n",
    "r_sq = model.score(np.array(x).reshape(-1,1),y)\n",
    "print('coefficient of determination:', r_sq)"
   ]
  },
  {
   "cell_type": "markdown",
   "id": "a76b171a",
   "metadata": {},
   "source": [
    "###### RM is the average number of rooms per dwelling.\n"
   ]
  },
  {
   "cell_type": "code",
   "execution_count": 20,
   "id": "f4a963ca",
   "metadata": {},
   "outputs": [
    {
     "name": "stdout",
     "output_type": "stream",
     "text": [
      "intercept: 20.481804177792405\n",
      "slope: [-2.68405122]\n",
      "coefficient of determination: 0.048069116716083604\n"
     ]
    }
   ],
   "source": [
    "x = boston.RM\n",
    "y = boston.CRIM\n",
    "model = LinearRegression()\n",
    "model.fit(np.array(x).reshape(-1,1),y)\n",
    "intercept_ = model.intercept_ #b0\n",
    "print('intercept:', intercept_)\n",
    "model.coef_ = model.coef_ #b1\n",
    "print('slope:', model.coef_)\n",
    "r_sq = model.score(np.array(x).reshape(-1,1),y)\n",
    "print('coefficient of determination:', r_sq)"
   ]
  },
  {
   "cell_type": "markdown",
   "id": "8ecfb454",
   "metadata": {},
   "source": [
    "###### AGE is the proportion of owner-occupied units built before 1940.\n"
   ]
  },
  {
   "cell_type": "code",
   "execution_count": 21,
   "id": "db9839db",
   "metadata": {},
   "outputs": [
    {
     "name": "stdout",
     "output_type": "stream",
     "text": [
      "intercept: -3.7779063179682684\n",
      "slope: [0.10778623]\n",
      "coefficient of determination: 0.12442145175894637\n"
     ]
    }
   ],
   "source": [
    "x = boston.AGE\n",
    "y = boston.CRIM\n",
    "model = LinearRegression()\n",
    "model.fit(np.array(x).reshape(-1,1),y)\n",
    "intercept_ = model.intercept_ #b0\n",
    "print('intercept:', intercept_)\n",
    "model.coef_ = model.coef_ #b1\n",
    "print('slope:', model.coef_)\n",
    "r_sq = model.score(np.array(x).reshape(-1,1),y)\n",
    "print('coefficient of determination:', r_sq)"
   ]
  },
  {
   "cell_type": "markdown",
   "id": "9661e864",
   "metadata": {},
   "source": [
    "###### DIS is a measure of how far the tract is from centres of employment in Boston.\n"
   ]
  },
  {
   "cell_type": "code",
   "execution_count": 22,
   "id": "01c0ad92",
   "metadata": {},
   "outputs": [
    {
     "name": "stdout",
     "output_type": "stream",
     "text": [
      "intercept: 9.499261646557276\n",
      "slope: [-1.55090168]\n",
      "coefficient of determination: 0.1441493749253987\n"
     ]
    }
   ],
   "source": [
    "x = boston.DIS\n",
    "y = boston.CRIM\n",
    "model = LinearRegression()\n",
    "model.fit(np.array(x).reshape(-1,1),y)\n",
    "intercept_ = model.intercept_ #b0\n",
    "print('intercept:', intercept_)\n",
    "model.coef_ = model.coef_ #b1\n",
    "print('slope:', model.coef_)\n",
    "r_sq = model.score(np.array(x).reshape(-1,1),y)\n",
    "print('coefficient of determination:', r_sq)"
   ]
  },
  {
   "cell_type": "markdown",
   "id": "14cb8206",
   "metadata": {},
   "source": [
    "###### RAD is a measure of closeness to important highways.\n"
   ]
  },
  {
   "cell_type": "code",
   "execution_count": 23,
   "id": "1ce28f52",
   "metadata": {},
   "outputs": [
    {
     "name": "stdout",
     "output_type": "stream",
     "text": [
      "intercept: -2.287159448310349\n",
      "slope: [0.61791093]\n",
      "coefficient of determination: 0.39125668674998915\n"
     ]
    }
   ],
   "source": [
    "x = boston.RAD\n",
    "y = boston.CRIM\n",
    "model = LinearRegression()\n",
    "model.fit(np.array(x).reshape(-1,1),y)\n",
    "intercept_ = model.intercept_ #b0\n",
    "print('intercept:', intercept_)\n",
    "model.coef_ = model.coef_ #b1\n",
    "print('slope:', model.coef_)\n",
    "r_sq = model.score(np.array(x).reshape(-1,1),y)\n",
    "print('coefficient of determination:', r_sq)"
   ]
  },
  {
   "cell_type": "markdown",
   "id": "5bf9cdb6",
   "metadata": {},
   "source": [
    "###### TAX is the property tax per $10,000 of value.\n"
   ]
  },
  {
   "cell_type": "code",
   "execution_count": 24,
   "id": "a97be90b",
   "metadata": {},
   "outputs": [
    {
     "name": "stdout",
     "output_type": "stream",
     "text": [
      "intercept: -8.52836909306916\n",
      "slope: [0.02974225]\n",
      "coefficient of determination: 0.3396142433788123\n"
     ]
    }
   ],
   "source": [
    "x = boston.TAX\n",
    "y = boston.CRIM\n",
    "model = LinearRegression()\n",
    "model.fit(np.array(x).reshape(-1,1),y)\n",
    "intercept_ = model.intercept_ #b0\n",
    "print('intercept:', intercept_)\n",
    "model.coef_ = model.coef_ #b1\n",
    "print('slope:', model.coef_)\n",
    "r_sq = model.score(np.array(x).reshape(-1,1),y)\n",
    "print('coefficient of determination:', r_sq)"
   ]
  },
  {
   "cell_type": "markdown",
   "id": "fb08981c",
   "metadata": {},
   "source": [
    "###### PTRATIO is the pupil to teacher ratio by town."
   ]
  },
  {
   "cell_type": "code",
   "execution_count": 25,
   "id": "49f9f5a1",
   "metadata": {},
   "outputs": [
    {
     "name": "stdout",
     "output_type": "stream",
     "text": [
      "intercept: -17.646933472447955\n",
      "slope: [1.15198279]\n",
      "coefficient of determination: 0.0840684389437365\n"
     ]
    }
   ],
   "source": [
    "x = boston.PTRATIO\n",
    "y = boston.CRIM\n",
    "model = LinearRegression()\n",
    "model.fit(np.array(x).reshape(-1,1),y)\n",
    "intercept_ = model.intercept_ #b0\n",
    "print('intercept:', intercept_)\n",
    "model.coef_ = model.coef_ #b1\n",
    "print('slope:', model.coef_)\n",
    "r_sq = model.score(np.array(x).reshape(-1,1),y)\n",
    "print('coefficient of determination:', r_sq)"
   ]
  },
  {
   "cell_type": "markdown",
   "id": "9e004b47",
   "metadata": {},
   "source": [
    "### 2)Fit a multiple regression model to predict the response using all of the predictors. Describe your results. For which predictors can we reject the null hypothesis H0 : βj = 0? "
   ]
  },
  {
   "cell_type": "code",
   "execution_count": 45,
   "id": "cb8aa8ee",
   "metadata": {},
   "outputs": [],
   "source": [
    "X = boston[['TRACT', 'LON', 'LAT', 'MEDV', 'ZN', 'INDUS', 'CHAS',\n",
    "       'NOX', 'RM', 'AGE', 'DIS', 'RAD', 'TAX', 'PTRATIO']]\n",
    "y = boston['CRIM']"
   ]
  },
  {
   "cell_type": "code",
   "execution_count": 46,
   "id": "7498d270",
   "metadata": {},
   "outputs": [
    {
     "name": "stdout",
     "output_type": "stream",
     "text": [
      "                                 OLS Regression Results                                \n",
      "=======================================================================================\n",
      "Dep. Variable:                   CRIM   R-squared (uncentered):                   0.530\n",
      "Model:                            OLS   Adj. R-squared (uncentered):              0.516\n",
      "Method:                 Least Squares   F-statistic:                              39.60\n",
      "Date:                Fri, 29 Apr 2022   Prob (F-statistic):                    1.83e-71\n",
      "Time:                        21:29:40   Log-Likelihood:                         -1656.7\n",
      "No. Observations:                 506   AIC:                                      3341.\n",
      "Df Residuals:                     492   BIC:                                      3400.\n",
      "Df Model:                          14                                                  \n",
      "Covariance Type:            nonrobust                                                  \n",
      "==============================================================================\n",
      "                 coef    std err          t      P>|t|      [0.025      0.975]\n",
      "------------------------------------------------------------------------------\n",
      "TRACT         -0.0002      0.001     -0.291      0.771      -0.001       0.001\n",
      "LON            1.4734      3.357      0.439      0.661      -5.123       8.069\n",
      "LAT            2.9496      5.612      0.526      0.599      -8.078      13.977\n",
      "MEDV          -0.2728      0.054     -5.083      0.000      -0.378      -0.167\n",
      "ZN             0.0517      0.019      2.728      0.007       0.014       0.089\n",
      "INDUS         -0.0374      0.084     -0.443      0.658      -0.203       0.128\n",
      "CHAS          -0.7005      1.199     -0.584      0.559      -3.057       1.656\n",
      "NOX          -10.4666      5.303     -1.974      0.049     -20.885      -0.048\n",
      "RM             0.4025      0.591      0.680      0.497      -0.760       1.565\n",
      "AGE            0.0063      0.017      0.361      0.718      -0.028       0.041\n",
      "DIS           -1.0792      0.283     -3.816      0.000      -1.635      -0.524\n",
      "RAD            0.6317      0.110      5.728      0.000       0.415       0.848\n",
      "TAX           -0.0048      0.005     -0.931      0.352      -0.015       0.005\n",
      "PTRATIO       -0.3713      0.190     -1.952      0.052      -0.745       0.002\n",
      "==============================================================================\n",
      "Omnibus:                      654.306   Durbin-Watson:                   1.484\n",
      "Prob(Omnibus):                  0.000   Jarque-Bera (JB):            75560.861\n",
      "Skew:                           6.434   Prob(JB):                         0.00\n",
      "Kurtosis:                      61.467   Cond. No.                     6.95e+04\n",
      "==============================================================================\n",
      "\n",
      "Notes:\n",
      "[1] R² is computed without centering (uncentered) since the model does not contain a constant.\n",
      "[2] Standard Errors assume that the covariance matrix of the errors is correctly specified.\n",
      "[3] The condition number is large, 6.95e+04. This might indicate that there are\n",
      "strong multicollinearity or other numerical problems.\n"
     ]
    }
   ],
   "source": [
    "import numpy as np\n",
    "\n",
    "import statsmodels.api as sm\n",
    "\n",
    "\n",
    "results = sm.OLS(y, X).fit()\n",
    "\n",
    "# Inspect the results\n",
    "print(results.summary())"
   ]
  },
  {
   "cell_type": "markdown",
   "id": "27665c54",
   "metadata": {},
   "source": [
    "#### We can reject the null hypothesis for MEDV, ZN, NOX, DIS, RAD\n",
    "#### So the model with these variables will be"
   ]
  },
  {
   "cell_type": "code",
   "execution_count": 39,
   "id": "9af13ad7",
   "metadata": {},
   "outputs": [],
   "source": [
    "X = boston[['MEDV', 'ZN', 'NOX','DIS', 'RAD']]\n",
    "y = boston['CRIM']"
   ]
  },
  {
   "cell_type": "code",
   "execution_count": 40,
   "id": "2d99b9fd",
   "metadata": {},
   "outputs": [
    {
     "name": "stdout",
     "output_type": "stream",
     "text": [
      "                                 OLS Regression Results                                \n",
      "=======================================================================================\n",
      "Dep. Variable:                   CRIM   R-squared (uncentered):                   0.512\n",
      "Model:                            OLS   Adj. R-squared (uncentered):              0.507\n",
      "Method:                 Least Squares   F-statistic:                              105.0\n",
      "Date:                Fri, 29 Apr 2022   Prob (F-statistic):                    1.15e-75\n",
      "Time:                        21:12:24   Log-Likelihood:                         -1666.2\n",
      "No. Observations:                 506   AIC:                                      3342.\n",
      "Df Residuals:                     501   BIC:                                      3364.\n",
      "Df Model:                           5                                                  \n",
      "Covariance Type:            nonrobust                                                  \n",
      "==============================================================================\n",
      "                 coef    std err          t      P>|t|      [0.025      0.975]\n",
      "------------------------------------------------------------------------------\n",
      "MEDV          -0.1462      0.032     -4.611      0.000      -0.208      -0.084\n",
      "ZN             0.0444      0.017      2.601      0.010       0.011       0.078\n",
      "NOX            5.0179      1.763      2.846      0.005       1.554       8.481\n",
      "DIS           -0.3756      0.164     -2.289      0.023      -0.698      -0.053\n",
      "RAD            0.5199      0.043     12.045      0.000       0.435       0.605\n",
      "==============================================================================\n",
      "Omnibus:                      659.528   Durbin-Watson:                   1.404\n",
      "Prob(Omnibus):                  0.000   Jarque-Bera (JB):            78428.834\n",
      "Skew:                           6.517   Prob(JB):                         0.00\n",
      "Kurtosis:                      62.582   Cond. No.                         193.\n",
      "==============================================================================\n",
      "\n",
      "Notes:\n",
      "[1] R² is computed without centering (uncentered) since the model does not contain a constant.\n",
      "[2] Standard Errors assume that the covariance matrix of the errors is correctly specified.\n"
     ]
    }
   ],
   "source": [
    "import numpy as np\n",
    "\n",
    "import statsmodels.api as sm\n",
    "\n",
    "\n",
    "results = sm.OLS(y, X).fit()\n",
    "\n",
    "# Inspect the results\n",
    "print(results.summary())"
   ]
  },
  {
   "cell_type": "markdown",
   "id": "64ae211d",
   "metadata": {},
   "source": [
    "### Even after rejecting the null hypothesis for some variable the r2 value is not affected much."
   ]
  },
  {
   "cell_type": "markdown",
   "id": "438f5162",
   "metadata": {},
   "source": [
    "### (c) How do your results from (a) compare to your results from (b)? Create a plot displaying the univariate regression coefficients from (a) on the x-axis, and the multiple regression coefficients from (b) on the y-axis. That is, each predictor is displayed as a single point in the plot. Its coefficient in a simple linear regression model is shown on the x-axis, and its coefficient estimate in the multiple linear regression model is shown on the y-axis. "
   ]
  },
  {
   "cell_type": "markdown",
   "id": "b96c3f11",
   "metadata": {},
   "source": [
    "##### Univariate and multiple regression coefficients have a distinct difference. This is because the slope of the simple regression model represents the average effect of an increase in the predictor ignoring the other predictors in the dataset. But multiple regression holds other predictors fixed, and its slope represents the average effect of an increase in the predictor.\n",
    "\n",
    "#### We have seen in the above-fitted models that multiple regression suggests no relationship between per capita crime rate and most of the predictors while for the simple regression it’s vice versa and this because there is some strong correlation between some predictors as shown in the correlation table below."
   ]
  },
  {
   "cell_type": "markdown",
   "id": "35c53c05",
   "metadata": {},
   "source": [
    "### (d) Is there evidence of non-linear association between any of the predictors and the response? To answer this question, for each predictor X, fit a model of the form Y = β0 + β1X + β2X2 + β3X3 + ϵ."
   ]
  },
  {
   "cell_type": "code",
   "execution_count": 43,
   "id": "2ee5830e",
   "metadata": {},
   "outputs": [
    {
     "data": {
      "text/html": [
       "<div>\n",
       "<style scoped>\n",
       "    .dataframe tbody tr th:only-of-type {\n",
       "        vertical-align: middle;\n",
       "    }\n",
       "\n",
       "    .dataframe tbody tr th {\n",
       "        vertical-align: top;\n",
       "    }\n",
       "\n",
       "    .dataframe thead th {\n",
       "        text-align: right;\n",
       "    }\n",
       "</style>\n",
       "<table border=\"1\" class=\"dataframe\">\n",
       "  <thead>\n",
       "    <tr style=\"text-align: right;\">\n",
       "      <th></th>\n",
       "      <th>TRACT</th>\n",
       "      <th>LON</th>\n",
       "      <th>LAT</th>\n",
       "      <th>MEDV</th>\n",
       "      <th>CRIM</th>\n",
       "      <th>ZN</th>\n",
       "      <th>INDUS</th>\n",
       "      <th>CHAS</th>\n",
       "      <th>NOX</th>\n",
       "      <th>RM</th>\n",
       "      <th>AGE</th>\n",
       "      <th>DIS</th>\n",
       "      <th>RAD</th>\n",
       "      <th>TAX</th>\n",
       "      <th>PTRATIO</th>\n",
       "    </tr>\n",
       "  </thead>\n",
       "  <tbody>\n",
       "    <tr>\n",
       "      <th>TRACT</th>\n",
       "      <td>1.000000</td>\n",
       "      <td>-0.220890</td>\n",
       "      <td>-0.225543</td>\n",
       "      <td>0.428252</td>\n",
       "      <td>-0.547165</td>\n",
       "      <td>0.367292</td>\n",
       "      <td>-0.575705</td>\n",
       "      <td>0.041356</td>\n",
       "      <td>-0.569807</td>\n",
       "      <td>0.305207</td>\n",
       "      <td>-0.487465</td>\n",
       "      <td>0.496841</td>\n",
       "      <td>-0.828829</td>\n",
       "      <td>-0.793602</td>\n",
       "      <td>-0.532678</td>\n",
       "    </tr>\n",
       "    <tr>\n",
       "      <th>LON</th>\n",
       "      <td>-0.220890</td>\n",
       "      <td>1.000000</td>\n",
       "      <td>0.143054</td>\n",
       "      <td>-0.322947</td>\n",
       "      <td>0.065101</td>\n",
       "      <td>-0.218081</td>\n",
       "      <td>0.062702</td>\n",
       "      <td>-0.175619</td>\n",
       "      <td>0.160871</td>\n",
       "      <td>-0.257110</td>\n",
       "      <td>0.204739</td>\n",
       "      <td>-0.011243</td>\n",
       "      <td>0.034067</td>\n",
       "      <td>0.050663</td>\n",
       "      <td>0.312602</td>\n",
       "    </tr>\n",
       "    <tr>\n",
       "      <th>LAT</th>\n",
       "      <td>-0.225543</td>\n",
       "      <td>0.143054</td>\n",
       "      <td>1.000000</td>\n",
       "      <td>0.006826</td>\n",
       "      <td>-0.084293</td>\n",
       "      <td>-0.129667</td>\n",
       "      <td>-0.041093</td>\n",
       "      <td>-0.044726</td>\n",
       "      <td>-0.068600</td>\n",
       "      <td>-0.069317</td>\n",
       "      <td>0.079035</td>\n",
       "      <td>-0.082981</td>\n",
       "      <td>-0.207013</td>\n",
       "      <td>-0.167718</td>\n",
       "      <td>-0.004527</td>\n",
       "    </tr>\n",
       "    <tr>\n",
       "      <th>MEDV</th>\n",
       "      <td>0.428252</td>\n",
       "      <td>-0.322947</td>\n",
       "      <td>0.006826</td>\n",
       "      <td>1.000000</td>\n",
       "      <td>-0.389582</td>\n",
       "      <td>0.360386</td>\n",
       "      <td>-0.484754</td>\n",
       "      <td>0.175663</td>\n",
       "      <td>-0.429300</td>\n",
       "      <td>0.696304</td>\n",
       "      <td>-0.377999</td>\n",
       "      <td>0.249315</td>\n",
       "      <td>-0.384766</td>\n",
       "      <td>-0.471979</td>\n",
       "      <td>-0.505655</td>\n",
       "    </tr>\n",
       "    <tr>\n",
       "      <th>CRIM</th>\n",
       "      <td>-0.547165</td>\n",
       "      <td>0.065101</td>\n",
       "      <td>-0.084293</td>\n",
       "      <td>-0.389582</td>\n",
       "      <td>1.000000</td>\n",
       "      <td>-0.200469</td>\n",
       "      <td>0.406583</td>\n",
       "      <td>-0.055892</td>\n",
       "      <td>0.420972</td>\n",
       "      <td>-0.219247</td>\n",
       "      <td>0.352734</td>\n",
       "      <td>-0.379670</td>\n",
       "      <td>0.625505</td>\n",
       "      <td>0.582764</td>\n",
       "      <td>0.289946</td>\n",
       "    </tr>\n",
       "    <tr>\n",
       "      <th>ZN</th>\n",
       "      <td>0.367292</td>\n",
       "      <td>-0.218081</td>\n",
       "      <td>-0.129667</td>\n",
       "      <td>0.360386</td>\n",
       "      <td>-0.200469</td>\n",
       "      <td>1.000000</td>\n",
       "      <td>-0.533828</td>\n",
       "      <td>-0.042697</td>\n",
       "      <td>-0.516604</td>\n",
       "      <td>0.311991</td>\n",
       "      <td>-0.569537</td>\n",
       "      <td>0.664408</td>\n",
       "      <td>-0.311948</td>\n",
       "      <td>-0.314563</td>\n",
       "      <td>-0.391679</td>\n",
       "    </tr>\n",
       "    <tr>\n",
       "      <th>INDUS</th>\n",
       "      <td>-0.575705</td>\n",
       "      <td>0.062702</td>\n",
       "      <td>-0.041093</td>\n",
       "      <td>-0.484754</td>\n",
       "      <td>0.406583</td>\n",
       "      <td>-0.533828</td>\n",
       "      <td>1.000000</td>\n",
       "      <td>0.062938</td>\n",
       "      <td>0.763651</td>\n",
       "      <td>-0.391676</td>\n",
       "      <td>0.644779</td>\n",
       "      <td>-0.708027</td>\n",
       "      <td>0.595129</td>\n",
       "      <td>0.720760</td>\n",
       "      <td>0.383248</td>\n",
       "    </tr>\n",
       "    <tr>\n",
       "      <th>CHAS</th>\n",
       "      <td>0.041356</td>\n",
       "      <td>-0.175619</td>\n",
       "      <td>-0.044726</td>\n",
       "      <td>0.175663</td>\n",
       "      <td>-0.055892</td>\n",
       "      <td>-0.042697</td>\n",
       "      <td>0.062938</td>\n",
       "      <td>1.000000</td>\n",
       "      <td>0.091203</td>\n",
       "      <td>0.091251</td>\n",
       "      <td>0.086518</td>\n",
       "      <td>-0.099176</td>\n",
       "      <td>-0.007368</td>\n",
       "      <td>-0.035587</td>\n",
       "      <td>-0.121515</td>\n",
       "    </tr>\n",
       "    <tr>\n",
       "      <th>NOX</th>\n",
       "      <td>-0.569807</td>\n",
       "      <td>0.160871</td>\n",
       "      <td>-0.068600</td>\n",
       "      <td>-0.429300</td>\n",
       "      <td>0.420972</td>\n",
       "      <td>-0.516604</td>\n",
       "      <td>0.763651</td>\n",
       "      <td>0.091203</td>\n",
       "      <td>1.000000</td>\n",
       "      <td>-0.302188</td>\n",
       "      <td>0.731470</td>\n",
       "      <td>-0.769230</td>\n",
       "      <td>0.611441</td>\n",
       "      <td>0.668023</td>\n",
       "      <td>0.188933</td>\n",
       "    </tr>\n",
       "    <tr>\n",
       "      <th>RM</th>\n",
       "      <td>0.305207</td>\n",
       "      <td>-0.257110</td>\n",
       "      <td>-0.069317</td>\n",
       "      <td>0.696304</td>\n",
       "      <td>-0.219247</td>\n",
       "      <td>0.311991</td>\n",
       "      <td>-0.391676</td>\n",
       "      <td>0.091251</td>\n",
       "      <td>-0.302188</td>\n",
       "      <td>1.000000</td>\n",
       "      <td>-0.240265</td>\n",
       "      <td>0.205246</td>\n",
       "      <td>-0.209847</td>\n",
       "      <td>-0.292048</td>\n",
       "      <td>-0.355501</td>\n",
       "    </tr>\n",
       "    <tr>\n",
       "      <th>AGE</th>\n",
       "      <td>-0.487465</td>\n",
       "      <td>0.204739</td>\n",
       "      <td>0.079035</td>\n",
       "      <td>-0.377999</td>\n",
       "      <td>0.352734</td>\n",
       "      <td>-0.569537</td>\n",
       "      <td>0.644779</td>\n",
       "      <td>0.086518</td>\n",
       "      <td>0.731470</td>\n",
       "      <td>-0.240265</td>\n",
       "      <td>1.000000</td>\n",
       "      <td>-0.747881</td>\n",
       "      <td>0.456022</td>\n",
       "      <td>0.506456</td>\n",
       "      <td>0.261515</td>\n",
       "    </tr>\n",
       "    <tr>\n",
       "      <th>DIS</th>\n",
       "      <td>0.496841</td>\n",
       "      <td>-0.011243</td>\n",
       "      <td>-0.082981</td>\n",
       "      <td>0.249315</td>\n",
       "      <td>-0.379670</td>\n",
       "      <td>0.664408</td>\n",
       "      <td>-0.708027</td>\n",
       "      <td>-0.099176</td>\n",
       "      <td>-0.769230</td>\n",
       "      <td>0.205246</td>\n",
       "      <td>-0.747881</td>\n",
       "      <td>1.000000</td>\n",
       "      <td>-0.494588</td>\n",
       "      <td>-0.534432</td>\n",
       "      <td>-0.232471</td>\n",
       "    </tr>\n",
       "    <tr>\n",
       "      <th>RAD</th>\n",
       "      <td>-0.828829</td>\n",
       "      <td>0.034067</td>\n",
       "      <td>-0.207013</td>\n",
       "      <td>-0.384766</td>\n",
       "      <td>0.625505</td>\n",
       "      <td>-0.311948</td>\n",
       "      <td>0.595129</td>\n",
       "      <td>-0.007368</td>\n",
       "      <td>0.611441</td>\n",
       "      <td>-0.209847</td>\n",
       "      <td>0.456022</td>\n",
       "      <td>-0.494588</td>\n",
       "      <td>1.000000</td>\n",
       "      <td>0.910228</td>\n",
       "      <td>0.464741</td>\n",
       "    </tr>\n",
       "    <tr>\n",
       "      <th>TAX</th>\n",
       "      <td>-0.793602</td>\n",
       "      <td>0.050663</td>\n",
       "      <td>-0.167718</td>\n",
       "      <td>-0.471979</td>\n",
       "      <td>0.582764</td>\n",
       "      <td>-0.314563</td>\n",
       "      <td>0.720760</td>\n",
       "      <td>-0.035587</td>\n",
       "      <td>0.668023</td>\n",
       "      <td>-0.292048</td>\n",
       "      <td>0.506456</td>\n",
       "      <td>-0.534432</td>\n",
       "      <td>0.910228</td>\n",
       "      <td>1.000000</td>\n",
       "      <td>0.460853</td>\n",
       "    </tr>\n",
       "    <tr>\n",
       "      <th>PTRATIO</th>\n",
       "      <td>-0.532678</td>\n",
       "      <td>0.312602</td>\n",
       "      <td>-0.004527</td>\n",
       "      <td>-0.505655</td>\n",
       "      <td>0.289946</td>\n",
       "      <td>-0.391679</td>\n",
       "      <td>0.383248</td>\n",
       "      <td>-0.121515</td>\n",
       "      <td>0.188933</td>\n",
       "      <td>-0.355501</td>\n",
       "      <td>0.261515</td>\n",
       "      <td>-0.232471</td>\n",
       "      <td>0.464741</td>\n",
       "      <td>0.460853</td>\n",
       "      <td>1.000000</td>\n",
       "    </tr>\n",
       "  </tbody>\n",
       "</table>\n",
       "</div>"
      ],
      "text/plain": [
       "            TRACT       LON       LAT      MEDV      CRIM        ZN     INDUS  \\\n",
       "TRACT    1.000000 -0.220890 -0.225543  0.428252 -0.547165  0.367292 -0.575705   \n",
       "LON     -0.220890  1.000000  0.143054 -0.322947  0.065101 -0.218081  0.062702   \n",
       "LAT     -0.225543  0.143054  1.000000  0.006826 -0.084293 -0.129667 -0.041093   \n",
       "MEDV     0.428252 -0.322947  0.006826  1.000000 -0.389582  0.360386 -0.484754   \n",
       "CRIM    -0.547165  0.065101 -0.084293 -0.389582  1.000000 -0.200469  0.406583   \n",
       "ZN       0.367292 -0.218081 -0.129667  0.360386 -0.200469  1.000000 -0.533828   \n",
       "INDUS   -0.575705  0.062702 -0.041093 -0.484754  0.406583 -0.533828  1.000000   \n",
       "CHAS     0.041356 -0.175619 -0.044726  0.175663 -0.055892 -0.042697  0.062938   \n",
       "NOX     -0.569807  0.160871 -0.068600 -0.429300  0.420972 -0.516604  0.763651   \n",
       "RM       0.305207 -0.257110 -0.069317  0.696304 -0.219247  0.311991 -0.391676   \n",
       "AGE     -0.487465  0.204739  0.079035 -0.377999  0.352734 -0.569537  0.644779   \n",
       "DIS      0.496841 -0.011243 -0.082981  0.249315 -0.379670  0.664408 -0.708027   \n",
       "RAD     -0.828829  0.034067 -0.207013 -0.384766  0.625505 -0.311948  0.595129   \n",
       "TAX     -0.793602  0.050663 -0.167718 -0.471979  0.582764 -0.314563  0.720760   \n",
       "PTRATIO -0.532678  0.312602 -0.004527 -0.505655  0.289946 -0.391679  0.383248   \n",
       "\n",
       "             CHAS       NOX        RM       AGE       DIS       RAD       TAX  \\\n",
       "TRACT    0.041356 -0.569807  0.305207 -0.487465  0.496841 -0.828829 -0.793602   \n",
       "LON     -0.175619  0.160871 -0.257110  0.204739 -0.011243  0.034067  0.050663   \n",
       "LAT     -0.044726 -0.068600 -0.069317  0.079035 -0.082981 -0.207013 -0.167718   \n",
       "MEDV     0.175663 -0.429300  0.696304 -0.377999  0.249315 -0.384766 -0.471979   \n",
       "CRIM    -0.055892  0.420972 -0.219247  0.352734 -0.379670  0.625505  0.582764   \n",
       "ZN      -0.042697 -0.516604  0.311991 -0.569537  0.664408 -0.311948 -0.314563   \n",
       "INDUS    0.062938  0.763651 -0.391676  0.644779 -0.708027  0.595129  0.720760   \n",
       "CHAS     1.000000  0.091203  0.091251  0.086518 -0.099176 -0.007368 -0.035587   \n",
       "NOX      0.091203  1.000000 -0.302188  0.731470 -0.769230  0.611441  0.668023   \n",
       "RM       0.091251 -0.302188  1.000000 -0.240265  0.205246 -0.209847 -0.292048   \n",
       "AGE      0.086518  0.731470 -0.240265  1.000000 -0.747881  0.456022  0.506456   \n",
       "DIS     -0.099176 -0.769230  0.205246 -0.747881  1.000000 -0.494588 -0.534432   \n",
       "RAD     -0.007368  0.611441 -0.209847  0.456022 -0.494588  1.000000  0.910228   \n",
       "TAX     -0.035587  0.668023 -0.292048  0.506456 -0.534432  0.910228  1.000000   \n",
       "PTRATIO -0.121515  0.188933 -0.355501  0.261515 -0.232471  0.464741  0.460853   \n",
       "\n",
       "          PTRATIO  \n",
       "TRACT   -0.532678  \n",
       "LON      0.312602  \n",
       "LAT     -0.004527  \n",
       "MEDV    -0.505655  \n",
       "CRIM     0.289946  \n",
       "ZN      -0.391679  \n",
       "INDUS    0.383248  \n",
       "CHAS    -0.121515  \n",
       "NOX      0.188933  \n",
       "RM      -0.355501  \n",
       "AGE      0.261515  \n",
       "DIS     -0.232471  \n",
       "RAD      0.464741  \n",
       "TAX      0.460853  \n",
       "PTRATIO  1.000000  "
      ]
     },
     "execution_count": 43,
     "metadata": {},
     "output_type": "execute_result"
    }
   ],
   "source": [
    "boston.corr()"
   ]
  },
  {
   "cell_type": "code",
   "execution_count": 44,
   "id": "551368ee",
   "metadata": {},
   "outputs": [
    {
     "data": {
      "text/plain": [
       "<AxesSubplot:>"
      ]
     },
     "execution_count": 44,
     "metadata": {},
     "output_type": "execute_result"
    },
    {
     "data": {
      "image/png": "[encoded data removed]",
      "text/plain": [
       "<Figure size 720x720 with 2 Axes>"
      ]
     },
     "metadata": {
      "needs_background": "light"
     },
     "output_type": "display_data"
    }
   ],
   "source": [
    "plt.figure(figsize=(10,10))\n",
    "sns.heatmap(boston.corr(), cbar=True, square=True, fmt = '.1f', annot = True, annot_kws={'size':8}, cmap = None)"
   ]
  },
  {
   "cell_type": "code",
   "execution_count": null,
   "id": "d417a307",
   "metadata": {},
   "outputs": [],
   "source": []
  }
 ],
 "metadata": {
  "kernelspec": {
   "display_name": "Python 3",
   "language": "python",
   "name": "python3"
  },
  "language_info": {
   "codemirror_mode": {
    "name": "ipython",
    "version": 3
   },
   "file_extension": ".py",
   "mimetype": "text/x-python",
   "name": "python",
   "nbconvert_exporter": "python",
   "pygments_lexer": "ipython3",
   "version": "3.8.8"
  }
 },
 "nbformat": 4,
 "nbformat_minor": 5
}
