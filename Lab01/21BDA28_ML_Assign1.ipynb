{
 "cells": [
  {
   "cell_type": "markdown",
   "id": "dcf948b2",
   "metadata": {},
   "source": [
    "### 1.Write a program that uses an if-else ladder."
   ]
  },
  {
   "cell_type": "code",
   "execution_count": 122,
   "id": "39217be2",
   "metadata": {},
   "outputs": [
    {
     "name": "stdout",
     "output_type": "stream",
     "text": [
      "enter marks obtained:67\n",
      "Your grade is C\n"
     ]
    }
   ],
   "source": [
    "marks = float(input(\"enter marks obtained:\"))\n",
    "if marks > 90:\n",
    "    print(\"Congratulation!,Your grade is A\")\n",
    "elif (marks > 80) & (marks <= 90):\n",
    "    print(\"Your grade is B\")\n",
    "elif (marks > 60) & (marks <= 80):\n",
    "    print(\"Your grade is C\")\n",
    "else:\n",
    "    print(\"Your grade is D\")"
   ]
  },
  {
   "cell_type": "markdown",
   "id": "f2b0a1aa",
   "metadata": {},
   "source": [
    "### 2. Write 5 different functions and call them in one program."
   ]
  },
  {
   "cell_type": "code",
   "execution_count": 124,
   "id": "62fe5d8e",
   "metadata": {},
   "outputs": [
    {
     "name": "stdout",
     "output_type": "stream",
     "text": [
      "Hi\n",
      "John\n",
      "Hi\n",
      "Harry\n"
     ]
    }
   ],
   "source": [
    "def f1():\n",
    "    print(\"Harry\")\n",
    "\n",
    "def f2():\n",
    "    f4()\n",
    "    print(\"John\")\n",
    "\n",
    "def f3():\n",
    "    f2()\n",
    "    print(\"Hi\")\n",
    "    f1()\n",
    "\n",
    "def f4():\n",
    "    print(\"Hi\")\n",
    "\n",
    "f3()"
   ]
  },
  {
   "cell_type": "code",
   "execution_count": null,
   "id": "93017f4e",
   "metadata": {},
   "outputs": [],
   "source": []
  },
  {
   "cell_type": "markdown",
   "id": "dd337991",
   "metadata": {},
   "source": [
    "### 3.Read any dataset from https://archive.ics.uci.edu/ml/index.phpand perform a missing value treatment, check for distribution of each variable, find the correlation matrix and write conclusions from the matrix."
   ]
  },
  {
   "cell_type": "code",
   "execution_count": 2,
   "id": "0c447464",
   "metadata": {},
   "outputs": [],
   "source": [
    "import pandas as pd"
   ]
  },
  {
   "cell_type": "code",
   "execution_count": 3,
   "id": "1c9502a6",
   "metadata": {},
   "outputs": [],
   "source": [
    "df = pd.read_csv(\"https://archive.ics.uci.edu/ml/machine-learning-databases/00235/household_power_consumption.zip\")"
   ]
  },
  {
   "cell_type": "code",
   "execution_count": 4,
   "id": "45b84f4f",
   "metadata": {},
   "outputs": [
    {
     "data": {
      "text/html": [
       "<div>\n",
       "<style scoped>\n",
       "    .dataframe tbody tr th:only-of-type {\n",
       "        vertical-align: middle;\n",
       "    }\n",
       "\n",
       "    .dataframe tbody tr th {\n",
       "        vertical-align: top;\n",
       "    }\n",
       "\n",
       "    .dataframe thead th {\n",
       "        text-align: right;\n",
       "    }\n",
       "</style>\n",
       "<table border=\"1\" class=\"dataframe\">\n",
       "  <thead>\n",
       "    <tr style=\"text-align: right;\">\n",
       "      <th></th>\n",
       "      <th>Date;Time;Global_active_power;Global_reactive_power;Voltage;Global_intensity;Sub_metering_1;Sub_metering_2;Sub_metering_3</th>\n",
       "    </tr>\n",
       "  </thead>\n",
       "  <tbody>\n",
       "    <tr>\n",
       "      <th>0</th>\n",
       "      <td>16/12/2006;17:24:00;4.216;0.418;234.840;18.400...</td>\n",
       "    </tr>\n",
       "    <tr>\n",
       "      <th>1</th>\n",
       "      <td>16/12/2006;17:25:00;5.360;0.436;233.630;23.000...</td>\n",
       "    </tr>\n",
       "    <tr>\n",
       "      <th>2</th>\n",
       "      <td>16/12/2006;17:26:00;5.374;0.498;233.290;23.000...</td>\n",
       "    </tr>\n",
       "    <tr>\n",
       "      <th>3</th>\n",
       "      <td>16/12/2006;17:27:00;5.388;0.502;233.740;23.000...</td>\n",
       "    </tr>\n",
       "    <tr>\n",
       "      <th>4</th>\n",
       "      <td>16/12/2006;17:28:00;3.666;0.528;235.680;15.800...</td>\n",
       "    </tr>\n",
       "    <tr>\n",
       "      <th>...</th>\n",
       "      <td>...</td>\n",
       "    </tr>\n",
       "    <tr>\n",
       "      <th>2075254</th>\n",
       "      <td>26/11/2010;20:58:00;0.946;0.000;240.430;4.000;...</td>\n",
       "    </tr>\n",
       "    <tr>\n",
       "      <th>2075255</th>\n",
       "      <td>26/11/2010;20:59:00;0.944;0.000;240.000;4.000;...</td>\n",
       "    </tr>\n",
       "    <tr>\n",
       "      <th>2075256</th>\n",
       "      <td>26/11/2010;21:00:00;0.938;0.000;239.820;3.800;...</td>\n",
       "    </tr>\n",
       "    <tr>\n",
       "      <th>2075257</th>\n",
       "      <td>26/11/2010;21:01:00;0.934;0.000;239.700;3.800;...</td>\n",
       "    </tr>\n",
       "    <tr>\n",
       "      <th>2075258</th>\n",
       "      <td>26/11/2010;21:02:00;0.932;0.000;239.550;3.800;...</td>\n",
       "    </tr>\n",
       "  </tbody>\n",
       "</table>\n",
       "<p>2075259 rows × 1 columns</p>\n",
       "</div>"
      ],
      "text/plain": [
       "        Date;Time;Global_active_power;Global_reactive_power;Voltage;Global_intensity;Sub_metering_1;Sub_metering_2;Sub_metering_3\n",
       "0        16/12/2006;17:24:00;4.216;0.418;234.840;18.400...                                                                       \n",
       "1        16/12/2006;17:25:00;5.360;0.436;233.630;23.000...                                                                       \n",
       "2        16/12/2006;17:26:00;5.374;0.498;233.290;23.000...                                                                       \n",
       "3        16/12/2006;17:27:00;5.388;0.502;233.740;23.000...                                                                       \n",
       "4        16/12/2006;17:28:00;3.666;0.528;235.680;15.800...                                                                       \n",
       "...                                                    ...                                                                       \n",
       "2075254  26/11/2010;20:58:00;0.946;0.000;240.430;4.000;...                                                                       \n",
       "2075255  26/11/2010;20:59:00;0.944;0.000;240.000;4.000;...                                                                       \n",
       "2075256  26/11/2010;21:00:00;0.938;0.000;239.820;3.800;...                                                                       \n",
       "2075257  26/11/2010;21:01:00;0.934;0.000;239.700;3.800;...                                                                       \n",
       "2075258  26/11/2010;21:02:00;0.932;0.000;239.550;3.800;...                                                                       \n",
       "\n",
       "[2075259 rows x 1 columns]"
      ]
     },
     "execution_count": 4,
     "metadata": {},
     "output_type": "execute_result"
    }
   ],
   "source": [
    "df"
   ]
  },
  {
   "cell_type": "code",
   "execution_count": 5,
   "id": "ff9ab1cf",
   "metadata": {},
   "outputs": [
    {
     "name": "stderr",
     "output_type": "stream",
     "text": [
      "C:\\Users\\HP\\anaconda3\\lib\\site-packages\\IPython\\core\\interactiveshell.py:3444: DtypeWarning: Columns (2,3,4,5,6,7) have mixed types.Specify dtype option on import or set low_memory=False.\n",
      "  exec(code_obj, self.user_global_ns, self.user_ns)\n"
     ]
    }
   ],
   "source": [
    "df = pd.read_csv(\"https://archive.ics.uci.edu/ml/machine-learning-databases/00235/household_power_consumption.zip\",delimiter = \";\")"
   ]
  },
  {
   "cell_type": "code",
   "execution_count": 6,
   "id": "b02f5bba",
   "metadata": {},
   "outputs": [
    {
     "data": {
      "text/html": [
       "<div>\n",
       "<style scoped>\n",
       "    .dataframe tbody tr th:only-of-type {\n",
       "        vertical-align: middle;\n",
       "    }\n",
       "\n",
       "    .dataframe tbody tr th {\n",
       "        vertical-align: top;\n",
       "    }\n",
       "\n",
       "    .dataframe thead th {\n",
       "        text-align: right;\n",
       "    }\n",
       "</style>\n",
       "<table border=\"1\" class=\"dataframe\">\n",
       "  <thead>\n",
       "    <tr style=\"text-align: right;\">\n",
       "      <th></th>\n",
       "      <th>Date</th>\n",
       "      <th>Time</th>\n",
       "      <th>Global_active_power</th>\n",
       "      <th>Global_reactive_power</th>\n",
       "      <th>Voltage</th>\n",
       "      <th>Global_intensity</th>\n",
       "      <th>Sub_metering_1</th>\n",
       "      <th>Sub_metering_2</th>\n",
       "      <th>Sub_metering_3</th>\n",
       "    </tr>\n",
       "  </thead>\n",
       "  <tbody>\n",
       "    <tr>\n",
       "      <th>0</th>\n",
       "      <td>16/12/2006</td>\n",
       "      <td>17:24:00</td>\n",
       "      <td>4.216</td>\n",
       "      <td>0.418</td>\n",
       "      <td>234.840</td>\n",
       "      <td>18.400</td>\n",
       "      <td>0.000</td>\n",
       "      <td>1.000</td>\n",
       "      <td>17.0</td>\n",
       "    </tr>\n",
       "    <tr>\n",
       "      <th>1</th>\n",
       "      <td>16/12/2006</td>\n",
       "      <td>17:25:00</td>\n",
       "      <td>5.360</td>\n",
       "      <td>0.436</td>\n",
       "      <td>233.630</td>\n",
       "      <td>23.000</td>\n",
       "      <td>0.000</td>\n",
       "      <td>1.000</td>\n",
       "      <td>16.0</td>\n",
       "    </tr>\n",
       "    <tr>\n",
       "      <th>2</th>\n",
       "      <td>16/12/2006</td>\n",
       "      <td>17:26:00</td>\n",
       "      <td>5.374</td>\n",
       "      <td>0.498</td>\n",
       "      <td>233.290</td>\n",
       "      <td>23.000</td>\n",
       "      <td>0.000</td>\n",
       "      <td>2.000</td>\n",
       "      <td>17.0</td>\n",
       "    </tr>\n",
       "    <tr>\n",
       "      <th>3</th>\n",
       "      <td>16/12/2006</td>\n",
       "      <td>17:27:00</td>\n",
       "      <td>5.388</td>\n",
       "      <td>0.502</td>\n",
       "      <td>233.740</td>\n",
       "      <td>23.000</td>\n",
       "      <td>0.000</td>\n",
       "      <td>1.000</td>\n",
       "      <td>17.0</td>\n",
       "    </tr>\n",
       "    <tr>\n",
       "      <th>4</th>\n",
       "      <td>16/12/2006</td>\n",
       "      <td>17:28:00</td>\n",
       "      <td>3.666</td>\n",
       "      <td>0.528</td>\n",
       "      <td>235.680</td>\n",
       "      <td>15.800</td>\n",
       "      <td>0.000</td>\n",
       "      <td>1.000</td>\n",
       "      <td>17.0</td>\n",
       "    </tr>\n",
       "    <tr>\n",
       "      <th>...</th>\n",
       "      <td>...</td>\n",
       "      <td>...</td>\n",
       "      <td>...</td>\n",
       "      <td>...</td>\n",
       "      <td>...</td>\n",
       "      <td>...</td>\n",
       "      <td>...</td>\n",
       "      <td>...</td>\n",
       "      <td>...</td>\n",
       "    </tr>\n",
       "    <tr>\n",
       "      <th>2075254</th>\n",
       "      <td>26/11/2010</td>\n",
       "      <td>20:58:00</td>\n",
       "      <td>0.946</td>\n",
       "      <td>0.0</td>\n",
       "      <td>240.43</td>\n",
       "      <td>4.0</td>\n",
       "      <td>0.0</td>\n",
       "      <td>0.0</td>\n",
       "      <td>0.0</td>\n",
       "    </tr>\n",
       "    <tr>\n",
       "      <th>2075255</th>\n",
       "      <td>26/11/2010</td>\n",
       "      <td>20:59:00</td>\n",
       "      <td>0.944</td>\n",
       "      <td>0.0</td>\n",
       "      <td>240.0</td>\n",
       "      <td>4.0</td>\n",
       "      <td>0.0</td>\n",
       "      <td>0.0</td>\n",
       "      <td>0.0</td>\n",
       "    </tr>\n",
       "    <tr>\n",
       "      <th>2075256</th>\n",
       "      <td>26/11/2010</td>\n",
       "      <td>21:00:00</td>\n",
       "      <td>0.938</td>\n",
       "      <td>0.0</td>\n",
       "      <td>239.82</td>\n",
       "      <td>3.8</td>\n",
       "      <td>0.0</td>\n",
       "      <td>0.0</td>\n",
       "      <td>0.0</td>\n",
       "    </tr>\n",
       "    <tr>\n",
       "      <th>2075257</th>\n",
       "      <td>26/11/2010</td>\n",
       "      <td>21:01:00</td>\n",
       "      <td>0.934</td>\n",
       "      <td>0.0</td>\n",
       "      <td>239.7</td>\n",
       "      <td>3.8</td>\n",
       "      <td>0.0</td>\n",
       "      <td>0.0</td>\n",
       "      <td>0.0</td>\n",
       "    </tr>\n",
       "    <tr>\n",
       "      <th>2075258</th>\n",
       "      <td>26/11/2010</td>\n",
       "      <td>21:02:00</td>\n",
       "      <td>0.932</td>\n",
       "      <td>0.0</td>\n",
       "      <td>239.55</td>\n",
       "      <td>3.8</td>\n",
       "      <td>0.0</td>\n",
       "      <td>0.0</td>\n",
       "      <td>0.0</td>\n",
       "    </tr>\n",
       "  </tbody>\n",
       "</table>\n",
       "<p>2075259 rows × 9 columns</p>\n",
       "</div>"
      ],
      "text/plain": [
       "               Date      Time Global_active_power Global_reactive_power  \\\n",
       "0        16/12/2006  17:24:00               4.216                 0.418   \n",
       "1        16/12/2006  17:25:00               5.360                 0.436   \n",
       "2        16/12/2006  17:26:00               5.374                 0.498   \n",
       "3        16/12/2006  17:27:00               5.388                 0.502   \n",
       "4        16/12/2006  17:28:00               3.666                 0.528   \n",
       "...             ...       ...                 ...                   ...   \n",
       "2075254  26/11/2010  20:58:00               0.946                   0.0   \n",
       "2075255  26/11/2010  20:59:00               0.944                   0.0   \n",
       "2075256  26/11/2010  21:00:00               0.938                   0.0   \n",
       "2075257  26/11/2010  21:01:00               0.934                   0.0   \n",
       "2075258  26/11/2010  21:02:00               0.932                   0.0   \n",
       "\n",
       "         Voltage Global_intensity Sub_metering_1 Sub_metering_2  \\\n",
       "0        234.840           18.400          0.000          1.000   \n",
       "1        233.630           23.000          0.000          1.000   \n",
       "2        233.290           23.000          0.000          2.000   \n",
       "3        233.740           23.000          0.000          1.000   \n",
       "4        235.680           15.800          0.000          1.000   \n",
       "...          ...              ...            ...            ...   \n",
       "2075254   240.43              4.0            0.0            0.0   \n",
       "2075255    240.0              4.0            0.0            0.0   \n",
       "2075256   239.82              3.8            0.0            0.0   \n",
       "2075257    239.7              3.8            0.0            0.0   \n",
       "2075258   239.55              3.8            0.0            0.0   \n",
       "\n",
       "         Sub_metering_3  \n",
       "0                  17.0  \n",
       "1                  16.0  \n",
       "2                  17.0  \n",
       "3                  17.0  \n",
       "4                  17.0  \n",
       "...                 ...  \n",
       "2075254             0.0  \n",
       "2075255             0.0  \n",
       "2075256             0.0  \n",
       "2075257             0.0  \n",
       "2075258             0.0  \n",
       "\n",
       "[2075259 rows x 9 columns]"
      ]
     },
     "execution_count": 6,
     "metadata": {},
     "output_type": "execute_result"
    }
   ],
   "source": [
    "df\n"
   ]
  },
  {
   "cell_type": "code",
   "execution_count": 7,
   "id": "5f3a35b9",
   "metadata": {},
   "outputs": [
    {
     "data": {
      "text/plain": [
       "Date                         0\n",
       "Time                         0\n",
       "Global_active_power          0\n",
       "Global_reactive_power        0\n",
       "Voltage                      0\n",
       "Global_intensity             0\n",
       "Sub_metering_1               0\n",
       "Sub_metering_2               0\n",
       "Sub_metering_3           25979\n",
       "dtype: int64"
      ]
     },
     "execution_count": 7,
     "metadata": {},
     "output_type": "execute_result"
    }
   ],
   "source": [
    "df.isnull().sum()"
   ]
  },
  {
   "cell_type": "code",
   "execution_count": 8,
   "id": "6dfe81fb",
   "metadata": {},
   "outputs": [
    {
     "data": {
      "text/plain": [
       "1.25"
      ]
     },
     "execution_count": 8,
     "metadata": {},
     "output_type": "execute_result"
    }
   ],
   "source": [
    "per_missing = (df['Sub_metering_3'].isnull().sum() / 2075259)*100\n",
    "per_missing.round(2)"
   ]
  },
  {
   "cell_type": "markdown",
   "id": "ae92b66c",
   "metadata": {},
   "source": [
    "#### A) Missing Value Treatment"
   ]
  },
  {
   "cell_type": "markdown",
   "id": "2488b5f4",
   "metadata": {},
   "source": [
    "##### We can either 'Fill' the missing values or 'Delete' them"
   ]
  },
  {
   "cell_type": "markdown",
   "id": "adf11532",
   "metadata": {},
   "source": [
    "#### Fill\n",
    "##### 1. Replace with mean"
   ]
  },
  {
   "cell_type": "code",
   "execution_count": 9,
   "id": "9bac1f45",
   "metadata": {},
   "outputs": [
    {
     "data": {
      "text/plain": [
       "0          17.0\n",
       "1          16.0\n",
       "2          17.0\n",
       "3          17.0\n",
       "4          17.0\n",
       "           ... \n",
       "2075254     0.0\n",
       "2075255     0.0\n",
       "2075256     0.0\n",
       "2075257     0.0\n",
       "2075258     0.0\n",
       "Name: Sub_metering_3, Length: 2075259, dtype: float64"
      ]
     },
     "execution_count": 9,
     "metadata": {},
     "output_type": "execute_result"
    }
   ],
   "source": [
    "mean = df['Sub_metering_3'].mean()\n",
    "df['Sub_metering_3'].fillna(mean)\n",
    "#--------------\n",
    "#In case of outliers this treatment would not be appropriate"
   ]
  },
  {
   "cell_type": "markdown",
   "id": "50577309",
   "metadata": {},
   "source": [
    "#####  2. Replace with mode"
   ]
  },
  {
   "cell_type": "code",
   "execution_count": 10,
   "id": "649a3b74",
   "metadata": {},
   "outputs": [
    {
     "data": {
      "text/plain": [
       "0          17.0\n",
       "1          16.0\n",
       "2          17.0\n",
       "3          17.0\n",
       "4          17.0\n",
       "           ... \n",
       "2075254     0.0\n",
       "2075255     0.0\n",
       "2075256     0.0\n",
       "2075257     0.0\n",
       "2075258     0.0\n",
       "Name: Sub_metering_3, Length: 2075259, dtype: float64"
      ]
     },
     "execution_count": 10,
     "metadata": {},
     "output_type": "execute_result"
    }
   ],
   "source": [
    "mode = df['Sub_metering_3'].mode()\n",
    "df['Sub_metering_3'].fillna(mode)\n",
    "#-----------------------------------\n",
    "#used in case of categorical data"
   ]
  },
  {
   "cell_type": "markdown",
   "id": "8699ef32",
   "metadata": {},
   "source": [
    "##### 3. Replace with median"
   ]
  },
  {
   "cell_type": "code",
   "execution_count": 11,
   "id": "605e639e",
   "metadata": {},
   "outputs": [
    {
     "data": {
      "text/plain": [
       "0          17.0\n",
       "1          16.0\n",
       "2          17.0\n",
       "3          17.0\n",
       "4          17.0\n",
       "           ... \n",
       "2075254     0.0\n",
       "2075255     0.0\n",
       "2075256     0.0\n",
       "2075257     0.0\n",
       "2075258     0.0\n",
       "Name: Sub_metering_3, Length: 2075259, dtype: float64"
      ]
     },
     "execution_count": 11,
     "metadata": {},
     "output_type": "execute_result"
    }
   ],
   "source": [
    "median = df['Sub_metering_3'].median()\n",
    "df['Sub_metering_3'].fillna(median)"
   ]
  },
  {
   "cell_type": "markdown",
   "id": "bb6d18b5",
   "metadata": {},
   "source": [
    "##### 4.Forward fill and Backward fill"
   ]
  },
  {
   "cell_type": "code",
   "execution_count": 12,
   "id": "784b7b58",
   "metadata": {},
   "outputs": [
    {
     "data": {
      "text/plain": [
       "0          17.0\n",
       "1          16.0\n",
       "2          17.0\n",
       "3          17.0\n",
       "4          17.0\n",
       "           ... \n",
       "2075254     0.0\n",
       "2075255     0.0\n",
       "2075256     0.0\n",
       "2075257     0.0\n",
       "2075258     0.0\n",
       "Name: Sub_metering_3, Length: 2075259, dtype: float64"
      ]
     },
     "execution_count": 12,
     "metadata": {},
     "output_type": "execute_result"
    }
   ],
   "source": [
    "df['Sub_metering_3'].fillna(method = 'ffill')"
   ]
  },
  {
   "cell_type": "code",
   "execution_count": 13,
   "id": "555ea121",
   "metadata": {},
   "outputs": [
    {
     "data": {
      "text/plain": [
       "0          17.0\n",
       "1          16.0\n",
       "2          17.0\n",
       "3          17.0\n",
       "4          17.0\n",
       "           ... \n",
       "2075254     0.0\n",
       "2075255     0.0\n",
       "2075256     0.0\n",
       "2075257     0.0\n",
       "2075258     0.0\n",
       "Name: Sub_metering_3, Length: 2075259, dtype: float64"
      ]
     },
     "execution_count": 13,
     "metadata": {},
     "output_type": "execute_result"
    }
   ],
   "source": [
    "df['Sub_metering_3'].fillna(method = 'bfill')"
   ]
  },
  {
   "cell_type": "code",
   "execution_count": 14,
   "id": "e02e0661",
   "metadata": {},
   "outputs": [],
   "source": [
    "#in all the above methods I havent stored the changes to a variable nr given \"inplace = True\" \n",
    "# So the missing values havent been filled yet"
   ]
  },
  {
   "cell_type": "markdown",
   "id": "a9d19ad8",
   "metadata": {},
   "source": [
    "#### Delete"
   ]
  },
  {
   "cell_type": "markdown",
   "id": "e303957e",
   "metadata": {},
   "source": [
    "##### Deleting the row, results in loss of data even if one of the columns have missing value."
   ]
  },
  {
   "cell_type": "code",
   "execution_count": 15,
   "id": "f3ae4e91",
   "metadata": {},
   "outputs": [],
   "source": [
    "df.dropna(inplace = True)"
   ]
  },
  {
   "cell_type": "code",
   "execution_count": 16,
   "id": "ed1a6563",
   "metadata": {},
   "outputs": [
    {
     "data": {
      "text/plain": [
       "Date                     0\n",
       "Time                     0\n",
       "Global_active_power      0\n",
       "Global_reactive_power    0\n",
       "Voltage                  0\n",
       "Global_intensity         0\n",
       "Sub_metering_1           0\n",
       "Sub_metering_2           0\n",
       "Sub_metering_3           0\n",
       "dtype: int64"
      ]
     },
     "execution_count": 16,
     "metadata": {},
     "output_type": "execute_result"
    }
   ],
   "source": [
    "df.isnull().sum()"
   ]
  },
  {
   "cell_type": "markdown",
   "id": "b9b7bac2",
   "metadata": {},
   "source": [
    "#### B)Check for distribution of each variable"
   ]
  },
  {
   "cell_type": "code",
   "execution_count": 17,
   "id": "8d82f5cd",
   "metadata": {},
   "outputs": [],
   "source": [
    "import matplotlib as plt"
   ]
  },
  {
   "cell_type": "code",
   "execution_count": 18,
   "id": "fe02facc",
   "metadata": {},
   "outputs": [
    {
     "data": {
      "text/html": [
       "<div>\n",
       "<style scoped>\n",
       "    .dataframe tbody tr th:only-of-type {\n",
       "        vertical-align: middle;\n",
       "    }\n",
       "\n",
       "    .dataframe tbody tr th {\n",
       "        vertical-align: top;\n",
       "    }\n",
       "\n",
       "    .dataframe thead th {\n",
       "        text-align: right;\n",
       "    }\n",
       "</style>\n",
       "<table border=\"1\" class=\"dataframe\">\n",
       "  <thead>\n",
       "    <tr style=\"text-align: right;\">\n",
       "      <th></th>\n",
       "      <th>Date</th>\n",
       "      <th>Time</th>\n",
       "      <th>Global_active_power</th>\n",
       "      <th>Global_reactive_power</th>\n",
       "      <th>Voltage</th>\n",
       "      <th>Global_intensity</th>\n",
       "      <th>Sub_metering_1</th>\n",
       "      <th>Sub_metering_2</th>\n",
       "      <th>Sub_metering_3</th>\n",
       "    </tr>\n",
       "  </thead>\n",
       "  <tbody>\n",
       "    <tr>\n",
       "      <th>0</th>\n",
       "      <td>16/12/2006</td>\n",
       "      <td>17:24:00</td>\n",
       "      <td>4.216</td>\n",
       "      <td>0.418</td>\n",
       "      <td>234.840</td>\n",
       "      <td>18.400</td>\n",
       "      <td>0.000</td>\n",
       "      <td>1.000</td>\n",
       "      <td>17.0</td>\n",
       "    </tr>\n",
       "    <tr>\n",
       "      <th>1</th>\n",
       "      <td>16/12/2006</td>\n",
       "      <td>17:25:00</td>\n",
       "      <td>5.360</td>\n",
       "      <td>0.436</td>\n",
       "      <td>233.630</td>\n",
       "      <td>23.000</td>\n",
       "      <td>0.000</td>\n",
       "      <td>1.000</td>\n",
       "      <td>16.0</td>\n",
       "    </tr>\n",
       "    <tr>\n",
       "      <th>2</th>\n",
       "      <td>16/12/2006</td>\n",
       "      <td>17:26:00</td>\n",
       "      <td>5.374</td>\n",
       "      <td>0.498</td>\n",
       "      <td>233.290</td>\n",
       "      <td>23.000</td>\n",
       "      <td>0.000</td>\n",
       "      <td>2.000</td>\n",
       "      <td>17.0</td>\n",
       "    </tr>\n",
       "    <tr>\n",
       "      <th>3</th>\n",
       "      <td>16/12/2006</td>\n",
       "      <td>17:27:00</td>\n",
       "      <td>5.388</td>\n",
       "      <td>0.502</td>\n",
       "      <td>233.740</td>\n",
       "      <td>23.000</td>\n",
       "      <td>0.000</td>\n",
       "      <td>1.000</td>\n",
       "      <td>17.0</td>\n",
       "    </tr>\n",
       "    <tr>\n",
       "      <th>4</th>\n",
       "      <td>16/12/2006</td>\n",
       "      <td>17:28:00</td>\n",
       "      <td>3.666</td>\n",
       "      <td>0.528</td>\n",
       "      <td>235.680</td>\n",
       "      <td>15.800</td>\n",
       "      <td>0.000</td>\n",
       "      <td>1.000</td>\n",
       "      <td>17.0</td>\n",
       "    </tr>\n",
       "    <tr>\n",
       "      <th>...</th>\n",
       "      <td>...</td>\n",
       "      <td>...</td>\n",
       "      <td>...</td>\n",
       "      <td>...</td>\n",
       "      <td>...</td>\n",
       "      <td>...</td>\n",
       "      <td>...</td>\n",
       "      <td>...</td>\n",
       "      <td>...</td>\n",
       "    </tr>\n",
       "    <tr>\n",
       "      <th>2075254</th>\n",
       "      <td>26/11/2010</td>\n",
       "      <td>20:58:00</td>\n",
       "      <td>0.946</td>\n",
       "      <td>0.0</td>\n",
       "      <td>240.43</td>\n",
       "      <td>4.0</td>\n",
       "      <td>0.0</td>\n",
       "      <td>0.0</td>\n",
       "      <td>0.0</td>\n",
       "    </tr>\n",
       "    <tr>\n",
       "      <th>2075255</th>\n",
       "      <td>26/11/2010</td>\n",
       "      <td>20:59:00</td>\n",
       "      <td>0.944</td>\n",
       "      <td>0.0</td>\n",
       "      <td>240.0</td>\n",
       "      <td>4.0</td>\n",
       "      <td>0.0</td>\n",
       "      <td>0.0</td>\n",
       "      <td>0.0</td>\n",
       "    </tr>\n",
       "    <tr>\n",
       "      <th>2075256</th>\n",
       "      <td>26/11/2010</td>\n",
       "      <td>21:00:00</td>\n",
       "      <td>0.938</td>\n",
       "      <td>0.0</td>\n",
       "      <td>239.82</td>\n",
       "      <td>3.8</td>\n",
       "      <td>0.0</td>\n",
       "      <td>0.0</td>\n",
       "      <td>0.0</td>\n",
       "    </tr>\n",
       "    <tr>\n",
       "      <th>2075257</th>\n",
       "      <td>26/11/2010</td>\n",
       "      <td>21:01:00</td>\n",
       "      <td>0.934</td>\n",
       "      <td>0.0</td>\n",
       "      <td>239.7</td>\n",
       "      <td>3.8</td>\n",
       "      <td>0.0</td>\n",
       "      <td>0.0</td>\n",
       "      <td>0.0</td>\n",
       "    </tr>\n",
       "    <tr>\n",
       "      <th>2075258</th>\n",
       "      <td>26/11/2010</td>\n",
       "      <td>21:02:00</td>\n",
       "      <td>0.932</td>\n",
       "      <td>0.0</td>\n",
       "      <td>239.55</td>\n",
       "      <td>3.8</td>\n",
       "      <td>0.0</td>\n",
       "      <td>0.0</td>\n",
       "      <td>0.0</td>\n",
       "    </tr>\n",
       "  </tbody>\n",
       "</table>\n",
       "<p>2049280 rows × 9 columns</p>\n",
       "</div>"
      ],
      "text/plain": [
       "               Date      Time Global_active_power Global_reactive_power  \\\n",
       "0        16/12/2006  17:24:00               4.216                 0.418   \n",
       "1        16/12/2006  17:25:00               5.360                 0.436   \n",
       "2        16/12/2006  17:26:00               5.374                 0.498   \n",
       "3        16/12/2006  17:27:00               5.388                 0.502   \n",
       "4        16/12/2006  17:28:00               3.666                 0.528   \n",
       "...             ...       ...                 ...                   ...   \n",
       "2075254  26/11/2010  20:58:00               0.946                   0.0   \n",
       "2075255  26/11/2010  20:59:00               0.944                   0.0   \n",
       "2075256  26/11/2010  21:00:00               0.938                   0.0   \n",
       "2075257  26/11/2010  21:01:00               0.934                   0.0   \n",
       "2075258  26/11/2010  21:02:00               0.932                   0.0   \n",
       "\n",
       "         Voltage Global_intensity Sub_metering_1 Sub_metering_2  \\\n",
       "0        234.840           18.400          0.000          1.000   \n",
       "1        233.630           23.000          0.000          1.000   \n",
       "2        233.290           23.000          0.000          2.000   \n",
       "3        233.740           23.000          0.000          1.000   \n",
       "4        235.680           15.800          0.000          1.000   \n",
       "...          ...              ...            ...            ...   \n",
       "2075254   240.43              4.0            0.0            0.0   \n",
       "2075255    240.0              4.0            0.0            0.0   \n",
       "2075256   239.82              3.8            0.0            0.0   \n",
       "2075257    239.7              3.8            0.0            0.0   \n",
       "2075258   239.55              3.8            0.0            0.0   \n",
       "\n",
       "         Sub_metering_3  \n",
       "0                  17.0  \n",
       "1                  16.0  \n",
       "2                  17.0  \n",
       "3                  17.0  \n",
       "4                  17.0  \n",
       "...                 ...  \n",
       "2075254             0.0  \n",
       "2075255             0.0  \n",
       "2075256             0.0  \n",
       "2075257             0.0  \n",
       "2075258             0.0  \n",
       "\n",
       "[2049280 rows x 9 columns]"
      ]
     },
     "execution_count": 18,
     "metadata": {},
     "output_type": "execute_result"
    }
   ],
   "source": [
    "df"
   ]
  },
  {
   "cell_type": "code",
   "execution_count": 20,
   "id": "6daecf1a",
   "metadata": {},
   "outputs": [
    {
     "name": "stdout",
     "output_type": "stream",
     "text": [
      "<class 'pandas.core.frame.DataFrame'>\n",
      "Int64Index: 2049280 entries, 0 to 2075258\n",
      "Data columns (total 9 columns):\n",
      " #   Column                 Dtype  \n",
      "---  ------                 -----  \n",
      " 0   Date                   object \n",
      " 1   Time                   object \n",
      " 2   Global_active_power    object \n",
      " 3   Global_reactive_power  object \n",
      " 4   Voltage                object \n",
      " 5   Global_intensity       object \n",
      " 6   Sub_metering_1         object \n",
      " 7   Sub_metering_2         object \n",
      " 8   Sub_metering_3         float64\n",
      "dtypes: float64(1), object(8)\n",
      "memory usage: 156.3+ MB\n"
     ]
    }
   ],
   "source": [
    "df.info()"
   ]
  },
  {
   "cell_type": "code",
   "execution_count": 26,
   "id": "2141be4e",
   "metadata": {},
   "outputs": [],
   "source": [
    "df['Global_active_power'] = df['Global_active_power'].astype('float64')\n",
    "df['Global_reactive_power'] = df['Global_reactive_power'].astype('float64')\n",
    "df['Voltage'] = df['Voltage'].astype('float64')\n",
    "df['Global_intensity'] = df['Global_intensity'].astype('float64')\n",
    "df['Sub_metering_1'] = df['Sub_metering_1'].astype('float64')\n",
    "df['Sub_metering_2'] = df['Sub_metering_2'].astype('float64')"
   ]
  },
  {
   "cell_type": "code",
   "execution_count": 27,
   "id": "532d83d5",
   "metadata": {},
   "outputs": [
    {
     "name": "stdout",
     "output_type": "stream",
     "text": [
      "<class 'pandas.core.frame.DataFrame'>\n",
      "Int64Index: 2049280 entries, 0 to 2075258\n",
      "Data columns (total 9 columns):\n",
      " #   Column                 Dtype  \n",
      "---  ------                 -----  \n",
      " 0   Date                   object \n",
      " 1   Time                   object \n",
      " 2   Global_active_power    float64\n",
      " 3   Global_reactive_power  float64\n",
      " 4   Voltage                float64\n",
      " 5   Global_intensity       float64\n",
      " 6   Sub_metering_1         float64\n",
      " 7   Sub_metering_2         float64\n",
      " 8   Sub_metering_3         float64\n",
      "dtypes: float64(7), object(2)\n",
      "memory usage: 156.3+ MB\n"
     ]
    }
   ],
   "source": [
    "df.info()"
   ]
  },
  {
   "cell_type": "code",
   "execution_count": 28,
   "id": "6c13fee3",
   "metadata": {},
   "outputs": [],
   "source": [
    "df['Date'] = df['Date'].astype('datetime64')\n",
    "df['Time'] = df['Time'].astype('datetime64')"
   ]
  },
  {
   "cell_type": "code",
   "execution_count": 29,
   "id": "4aad1d27",
   "metadata": {},
   "outputs": [
    {
     "name": "stdout",
     "output_type": "stream",
     "text": [
      "<class 'pandas.core.frame.DataFrame'>\n",
      "Int64Index: 2049280 entries, 0 to 2075258\n",
      "Data columns (total 9 columns):\n",
      " #   Column                 Dtype         \n",
      "---  ------                 -----         \n",
      " 0   Date                   datetime64[ns]\n",
      " 1   Time                   datetime64[ns]\n",
      " 2   Global_active_power    float64       \n",
      " 3   Global_reactive_power  float64       \n",
      " 4   Voltage                float64       \n",
      " 5   Global_intensity       float64       \n",
      " 6   Sub_metering_1         float64       \n",
      " 7   Sub_metering_2         float64       \n",
      " 8   Sub_metering_3         float64       \n",
      "dtypes: datetime64[ns](2), float64(7)\n",
      "memory usage: 156.3 MB\n"
     ]
    }
   ],
   "source": [
    "df.info()"
   ]
  },
  {
   "cell_type": "code",
   "execution_count": 33,
   "id": "cd89297c",
   "metadata": {},
   "outputs": [
    {
     "data": {
      "text/plain": [
       "array([[<AxesSubplot:title={'center':'Global_active_power'}>,\n",
       "        <AxesSubplot:title={'center':'Global_reactive_power'}>,\n",
       "        <AxesSubplot:title={'center':'Voltage'}>],\n",
       "       [<AxesSubplot:title={'center':'Global_intensity'}>,\n",
       "        <AxesSubplot:title={'center':'Sub_metering_1'}>,\n",
       "        <AxesSubplot:title={'center':'Sub_metering_2'}>],\n",
       "       [<AxesSubplot:title={'center':'Sub_metering_3'}>, <AxesSubplot:>,\n",
       "        <AxesSubplot:>]], dtype=object)"
      ]
     },
     "execution_count": 33,
     "metadata": {},
     "output_type": "execute_result"
    },
    {
     "data": {
      "image/png": "[encoded data removed]",
      "text/plain": [
       "<Figure size 648x576 with 9 Axes>"
      ]
     },
     "metadata": {
      "needs_background": "light"
     },
     "output_type": "display_data"
    }
   ],
   "source": [
    "df.hist(figsize = (9,8), column = ['Global_active_power','Global_reactive_power','Voltage',\n",
    "                                   'Global_intensity','Sub_metering_1','Sub_metering_2','Sub_metering_3'])"
   ]
  },
  {
   "cell_type": "markdown",
   "id": "36093b57",
   "metadata": {},
   "source": [
    "#### C) Find the correlation matrix and write conclusions from the matrix."
   ]
  },
  {
   "cell_type": "code",
   "execution_count": 43,
   "id": "02897e80",
   "metadata": {},
   "outputs": [
    {
     "data": {
      "text/html": [
       "<style type=\"text/css\">\n",
       "#T_38f07_row0_col0, #T_38f07_row0_col3, #T_38f07_row1_col1, #T_38f07_row2_col2, #T_38f07_row3_col0, #T_38f07_row3_col3, #T_38f07_row4_col4, #T_38f07_row5_col5, #T_38f07_row6_col6 {\n",
       "  background-color: #b40426;\n",
       "  color: #f1f1f1;\n",
       "}\n",
       "#T_38f07_row0_col1 {\n",
       "  background-color: #a7c5fe;\n",
       "  color: #000000;\n",
       "}\n",
       "#T_38f07_row0_col2 {\n",
       "  background-color: #3c4ec2;\n",
       "  color: #f1f1f1;\n",
       "}\n",
       "#T_38f07_row0_col4 {\n",
       "  background-color: #edd2c3;\n",
       "  color: #000000;\n",
       "}\n",
       "#T_38f07_row0_col5 {\n",
       "  background-color: #e0dbd8;\n",
       "  color: #000000;\n",
       "}\n",
       "#T_38f07_row0_col6 {\n",
       "  background-color: #f7a688;\n",
       "  color: #000000;\n",
       "}\n",
       "#T_38f07_row1_col0 {\n",
       "  background-color: #d3dbe7;\n",
       "  color: #000000;\n",
       "}\n",
       "#T_38f07_row1_col2, #T_38f07_row6_col5 {\n",
       "  background-color: #80a3fa;\n",
       "  color: #f1f1f1;\n",
       "}\n",
       "#T_38f07_row1_col3 {\n",
       "  background-color: #d8dce2;\n",
       "  color: #000000;\n",
       "}\n",
       "#T_38f07_row1_col4 {\n",
       "  background-color: #93b5fe;\n",
       "  color: #000000;\n",
       "}\n",
       "#T_38f07_row1_col5 {\n",
       "  background-color: #92b4fe;\n",
       "  color: #000000;\n",
       "}\n",
       "#T_38f07_row1_col6 {\n",
       "  background-color: #98b9ff;\n",
       "  color: #000000;\n",
       "}\n",
       "#T_38f07_row2_col0, #T_38f07_row2_col1, #T_38f07_row2_col3, #T_38f07_row2_col4, #T_38f07_row2_col5, #T_38f07_row2_col6, #T_38f07_row3_col2 {\n",
       "  background-color: #3b4cc0;\n",
       "  color: #f1f1f1;\n",
       "}\n",
       "#T_38f07_row3_col1 {\n",
       "  background-color: #adc9fd;\n",
       "  color: #000000;\n",
       "}\n",
       "#T_38f07_row3_col4 {\n",
       "  background-color: #eed0c0;\n",
       "  color: #000000;\n",
       "}\n",
       "#T_38f07_row3_col5 {\n",
       "  background-color: #e2dad5;\n",
       "  color: #000000;\n",
       "}\n",
       "#T_38f07_row3_col6 {\n",
       "  background-color: #f7a98b;\n",
       "  color: #000000;\n",
       "}\n",
       "#T_38f07_row4_col0 {\n",
       "  background-color: #f5c4ac;\n",
       "  color: #000000;\n",
       "}\n",
       "#T_38f07_row4_col1, #T_38f07_row5_col4 {\n",
       "  background-color: #7ea1fa;\n",
       "  color: #f1f1f1;\n",
       "}\n",
       "#T_38f07_row4_col2 {\n",
       "  background-color: #6a8bef;\n",
       "  color: #f1f1f1;\n",
       "}\n",
       "#T_38f07_row4_col3 {\n",
       "  background-color: #f5c0a7;\n",
       "  color: #000000;\n",
       "}\n",
       "#T_38f07_row4_col5 {\n",
       "  background-color: #779af7;\n",
       "  color: #f1f1f1;\n",
       "}\n",
       "#T_38f07_row4_col6 {\n",
       "  background-color: #9bbcff;\n",
       "  color: #000000;\n",
       "}\n",
       "#T_38f07_row5_col0 {\n",
       "  background-color: #f1cdba;\n",
       "  color: #000000;\n",
       "}\n",
       "#T_38f07_row5_col1 {\n",
       "  background-color: #84a7fc;\n",
       "  color: #f1f1f1;\n",
       "}\n",
       "#T_38f07_row5_col2 {\n",
       "  background-color: #7093f3;\n",
       "  color: #f1f1f1;\n",
       "}\n",
       "#T_38f07_row5_col3 {\n",
       "  background-color: #f2cab5;\n",
       "  color: #000000;\n",
       "}\n",
       "#T_38f07_row5_col6 {\n",
       "  background-color: #96b7ff;\n",
       "  color: #000000;\n",
       "}\n",
       "#T_38f07_row6_col0 {\n",
       "  background-color: #f59c7d;\n",
       "  color: #000000;\n",
       "}\n",
       "#T_38f07_row6_col1 {\n",
       "  background-color: #7597f6;\n",
       "  color: #f1f1f1;\n",
       "}\n",
       "#T_38f07_row6_col2 {\n",
       "  background-color: #5977e3;\n",
       "  color: #f1f1f1;\n",
       "}\n",
       "#T_38f07_row6_col3 {\n",
       "  background-color: #f59f80;\n",
       "  color: #000000;\n",
       "}\n",
       "#T_38f07_row6_col4 {\n",
       "  background-color: #8db0fe;\n",
       "  color: #000000;\n",
       "}\n",
       "</style>\n",
       "<table id=\"T_38f07_\">\n",
       "  <thead>\n",
       "    <tr>\n",
       "      <th class=\"blank level0\" >&nbsp;</th>\n",
       "      <th class=\"col_heading level0 col0\" >Global_active_power</th>\n",
       "      <th class=\"col_heading level0 col1\" >Global_reactive_power</th>\n",
       "      <th class=\"col_heading level0 col2\" >Voltage</th>\n",
       "      <th class=\"col_heading level0 col3\" >Global_intensity</th>\n",
       "      <th class=\"col_heading level0 col4\" >Sub_metering_1</th>\n",
       "      <th class=\"col_heading level0 col5\" >Sub_metering_2</th>\n",
       "      <th class=\"col_heading level0 col6\" >Sub_metering_3</th>\n",
       "    </tr>\n",
       "  </thead>\n",
       "  <tbody>\n",
       "    <tr>\n",
       "      <th id=\"T_38f07_level0_row0\" class=\"row_heading level0 row0\" >Global_active_power</th>\n",
       "      <td id=\"T_38f07_row0_col0\" class=\"data row0 col0\" >1.000000</td>\n",
       "      <td id=\"T_38f07_row0_col1\" class=\"data row0 col1\" >0.250000</td>\n",
       "      <td id=\"T_38f07_row0_col2\" class=\"data row0 col2\" >-0.400000</td>\n",
       "      <td id=\"T_38f07_row0_col3\" class=\"data row0 col3\" >1.000000</td>\n",
       "      <td id=\"T_38f07_row0_col4\" class=\"data row0 col4\" >0.480000</td>\n",
       "      <td id=\"T_38f07_row0_col5\" class=\"data row0 col5\" >0.430000</td>\n",
       "      <td id=\"T_38f07_row0_col6\" class=\"data row0 col6\" >0.640000</td>\n",
       "    </tr>\n",
       "    <tr>\n",
       "      <th id=\"T_38f07_level0_row1\" class=\"row_heading level0 row1\" >Global_reactive_power</th>\n",
       "      <td id=\"T_38f07_row1_col0\" class=\"data row1 col0\" >0.250000</td>\n",
       "      <td id=\"T_38f07_row1_col1\" class=\"data row1 col1\" >1.000000</td>\n",
       "      <td id=\"T_38f07_row1_col2\" class=\"data row1 col2\" >-0.110000</td>\n",
       "      <td id=\"T_38f07_row1_col3\" class=\"data row1 col3\" >0.270000</td>\n",
       "      <td id=\"T_38f07_row1_col4\" class=\"data row1 col4\" >0.120000</td>\n",
       "      <td id=\"T_38f07_row1_col5\" class=\"data row1 col5\" >0.140000</td>\n",
       "      <td id=\"T_38f07_row1_col6\" class=\"data row1 col6\" >0.090000</td>\n",
       "    </tr>\n",
       "    <tr>\n",
       "      <th id=\"T_38f07_level0_row2\" class=\"row_heading level0 row2\" >Voltage</th>\n",
       "      <td id=\"T_38f07_row2_col0\" class=\"data row2 col0\" >-0.400000</td>\n",
       "      <td id=\"T_38f07_row2_col1\" class=\"data row2 col1\" >-0.110000</td>\n",
       "      <td id=\"T_38f07_row2_col2\" class=\"data row2 col2\" >1.000000</td>\n",
       "      <td id=\"T_38f07_row2_col3\" class=\"data row2 col3\" >-0.410000</td>\n",
       "      <td id=\"T_38f07_row2_col4\" class=\"data row2 col4\" >-0.200000</td>\n",
       "      <td id=\"T_38f07_row2_col5\" class=\"data row2 col5\" >-0.170000</td>\n",
       "      <td id=\"T_38f07_row2_col6\" class=\"data row2 col6\" >-0.270000</td>\n",
       "    </tr>\n",
       "    <tr>\n",
       "      <th id=\"T_38f07_level0_row3\" class=\"row_heading level0 row3\" >Global_intensity</th>\n",
       "      <td id=\"T_38f07_row3_col0\" class=\"data row3 col0\" >1.000000</td>\n",
       "      <td id=\"T_38f07_row3_col1\" class=\"data row3 col1\" >0.270000</td>\n",
       "      <td id=\"T_38f07_row3_col2\" class=\"data row3 col2\" >-0.410000</td>\n",
       "      <td id=\"T_38f07_row3_col3\" class=\"data row3 col3\" >1.000000</td>\n",
       "      <td id=\"T_38f07_row3_col4\" class=\"data row3 col4\" >0.490000</td>\n",
       "      <td id=\"T_38f07_row3_col5\" class=\"data row3 col5\" >0.440000</td>\n",
       "      <td id=\"T_38f07_row3_col6\" class=\"data row3 col6\" >0.630000</td>\n",
       "    </tr>\n",
       "    <tr>\n",
       "      <th id=\"T_38f07_level0_row4\" class=\"row_heading level0 row4\" >Sub_metering_1</th>\n",
       "      <td id=\"T_38f07_row4_col0\" class=\"data row4 col0\" >0.480000</td>\n",
       "      <td id=\"T_38f07_row4_col1\" class=\"data row4 col1\" >0.120000</td>\n",
       "      <td id=\"T_38f07_row4_col2\" class=\"data row4 col2\" >-0.200000</td>\n",
       "      <td id=\"T_38f07_row4_col3\" class=\"data row4 col3\" >0.490000</td>\n",
       "      <td id=\"T_38f07_row4_col4\" class=\"data row4 col4\" >1.000000</td>\n",
       "      <td id=\"T_38f07_row4_col5\" class=\"data row4 col5\" >0.050000</td>\n",
       "      <td id=\"T_38f07_row4_col6\" class=\"data row4 col6\" >0.100000</td>\n",
       "    </tr>\n",
       "    <tr>\n",
       "      <th id=\"T_38f07_level0_row5\" class=\"row_heading level0 row5\" >Sub_metering_2</th>\n",
       "      <td id=\"T_38f07_row5_col0\" class=\"data row5 col0\" >0.430000</td>\n",
       "      <td id=\"T_38f07_row5_col1\" class=\"data row5 col1\" >0.140000</td>\n",
       "      <td id=\"T_38f07_row5_col2\" class=\"data row5 col2\" >-0.170000</td>\n",
       "      <td id=\"T_38f07_row5_col3\" class=\"data row5 col3\" >0.440000</td>\n",
       "      <td id=\"T_38f07_row5_col4\" class=\"data row5 col4\" >0.050000</td>\n",
       "      <td id=\"T_38f07_row5_col5\" class=\"data row5 col5\" >1.000000</td>\n",
       "      <td id=\"T_38f07_row5_col6\" class=\"data row5 col6\" >0.080000</td>\n",
       "    </tr>\n",
       "    <tr>\n",
       "      <th id=\"T_38f07_level0_row6\" class=\"row_heading level0 row6\" >Sub_metering_3</th>\n",
       "      <td id=\"T_38f07_row6_col0\" class=\"data row6 col0\" >0.640000</td>\n",
       "      <td id=\"T_38f07_row6_col1\" class=\"data row6 col1\" >0.090000</td>\n",
       "      <td id=\"T_38f07_row6_col2\" class=\"data row6 col2\" >-0.270000</td>\n",
       "      <td id=\"T_38f07_row6_col3\" class=\"data row6 col3\" >0.630000</td>\n",
       "      <td id=\"T_38f07_row6_col4\" class=\"data row6 col4\" >0.100000</td>\n",
       "      <td id=\"T_38f07_row6_col5\" class=\"data row6 col5\" >0.080000</td>\n",
       "      <td id=\"T_38f07_row6_col6\" class=\"data row6 col6\" >1.000000</td>\n",
       "    </tr>\n",
       "  </tbody>\n",
       "</table>\n"
      ],
      "text/plain": [
       "<pandas.io.formats.style.Styler at 0x2a429070760>"
      ]
     },
     "execution_count": 43,
     "metadata": {},
     "output_type": "execute_result"
    }
   ],
   "source": [
    "corr = df.corr().round(2)\n",
    "corr.style.background_gradient(cmap='coolwarm')\n"
   ]
  },
  {
   "cell_type": "markdown",
   "id": "d0847e9c",
   "metadata": {},
   "source": [
    "##### Attribute Information:\n",
    "\n",
    "##### 1.date: Date in format dd/mm/yyyy\n",
    "#####  2.time: time in format hh:mm:ss\n",
    "##### 3.global_active_power: household global minute-averaged active power (in kilowatt)\n",
    "##### 4.global_reactive_power: household global minute-averaged reactive power (in kilowatt)\n",
    "##### 5.voltage: minute-averaged voltage (in volt)\n",
    "##### 6.global_intensity: household global minute-averaged current intensity (in ampere)\n",
    "##### 7.sub_metering_1: energy sub-metering No. 1 (in watt-hour of active energy). It corresponds to the kitchen, containing mainly a dishwasher, an oven and a microwave (hot plates are not electric but gas powered).\n",
    "##### 8.sub_metering_2: energy sub-metering No. 2 (in watt-hour of active energy). It corresponds to the laundry room, containing a washing-machine, a tumble-drier, a refrigerator and a light.\n",
    "##### 9.sub_metering_3: energy sub-metering No. 3 (in watt-hour of active energy). It corresponds to an electric water-heater and an air-conditioner."
   ]
  },
  {
   "cell_type": "markdown",
   "id": "80adc664",
   "metadata": {},
   "source": [
    "##### The dark color shows the high correlation between the variables and the light colors shows less correlation between the variables."
   ]
  },
  {
   "cell_type": "markdown",
   "id": "6571588d",
   "metadata": {},
   "source": [
    "### Conclusions\n",
    "#### 1. The correlation is highest between 'gloabal active power' and 'sub_metering_3', as in the water heater and air conditioners contribute to the gloabal active power\n"
   ]
  },
  {
   "cell_type": "markdown",
   "id": "26996710",
   "metadata": {},
   "source": [
    "### 4.Read a dataset and perform slice it in different ways"
   ]
  },
  {
   "cell_type": "markdown",
   "id": "d9dbbce4",
   "metadata": {},
   "source": [
    "##### Slice row labels"
   ]
  },
  {
   "cell_type": "code",
   "execution_count": 44,
   "id": "268e7d83",
   "metadata": {},
   "outputs": [
    {
     "data": {
      "text/html": [
       "<div>\n",
       "<style scoped>\n",
       "    .dataframe tbody tr th:only-of-type {\n",
       "        vertical-align: middle;\n",
       "    }\n",
       "\n",
       "    .dataframe tbody tr th {\n",
       "        vertical-align: top;\n",
       "    }\n",
       "\n",
       "    .dataframe thead th {\n",
       "        text-align: right;\n",
       "    }\n",
       "</style>\n",
       "<table border=\"1\" class=\"dataframe\">\n",
       "  <thead>\n",
       "    <tr style=\"text-align: right;\">\n",
       "      <th></th>\n",
       "      <th>Date</th>\n",
       "      <th>Time</th>\n",
       "      <th>Global_active_power</th>\n",
       "      <th>Global_reactive_power</th>\n",
       "      <th>Voltage</th>\n",
       "      <th>Global_intensity</th>\n",
       "      <th>Sub_metering_1</th>\n",
       "      <th>Sub_metering_2</th>\n",
       "      <th>Sub_metering_3</th>\n",
       "    </tr>\n",
       "  </thead>\n",
       "  <tbody>\n",
       "    <tr>\n",
       "      <th>100</th>\n",
       "      <td>2006-12-16</td>\n",
       "      <td>2022-04-22 19:04:00</td>\n",
       "      <td>3.366</td>\n",
       "      <td>0.000</td>\n",
       "      <td>232.78</td>\n",
       "      <td>14.4</td>\n",
       "      <td>0.0</td>\n",
       "      <td>1.0</td>\n",
       "      <td>17.0</td>\n",
       "    </tr>\n",
       "    <tr>\n",
       "      <th>101</th>\n",
       "      <td>2006-12-16</td>\n",
       "      <td>2022-04-22 19:05:00</td>\n",
       "      <td>3.404</td>\n",
       "      <td>0.082</td>\n",
       "      <td>233.08</td>\n",
       "      <td>14.6</td>\n",
       "      <td>0.0</td>\n",
       "      <td>2.0</td>\n",
       "      <td>16.0</td>\n",
       "    </tr>\n",
       "    <tr>\n",
       "      <th>102</th>\n",
       "      <td>2006-12-16</td>\n",
       "      <td>2022-04-22 19:06:00</td>\n",
       "      <td>3.382</td>\n",
       "      <td>0.074</td>\n",
       "      <td>233.69</td>\n",
       "      <td>14.4</td>\n",
       "      <td>0.0</td>\n",
       "      <td>0.0</td>\n",
       "      <td>17.0</td>\n",
       "    </tr>\n",
       "    <tr>\n",
       "      <th>103</th>\n",
       "      <td>2006-12-16</td>\n",
       "      <td>2022-04-22 19:07:00</td>\n",
       "      <td>3.616</td>\n",
       "      <td>0.106</td>\n",
       "      <td>234.44</td>\n",
       "      <td>15.4</td>\n",
       "      <td>0.0</td>\n",
       "      <td>4.0</td>\n",
       "      <td>17.0</td>\n",
       "    </tr>\n",
       "    <tr>\n",
       "      <th>104</th>\n",
       "      <td>2006-12-16</td>\n",
       "      <td>2022-04-22 19:08:00</td>\n",
       "      <td>3.476</td>\n",
       "      <td>0.092</td>\n",
       "      <td>234.60</td>\n",
       "      <td>14.8</td>\n",
       "      <td>0.0</td>\n",
       "      <td>3.0</td>\n",
       "      <td>17.0</td>\n",
       "    </tr>\n",
       "    <tr>\n",
       "      <th>...</th>\n",
       "      <td>...</td>\n",
       "      <td>...</td>\n",
       "      <td>...</td>\n",
       "      <td>...</td>\n",
       "      <td>...</td>\n",
       "      <td>...</td>\n",
       "      <td>...</td>\n",
       "      <td>...</td>\n",
       "      <td>...</td>\n",
       "    </tr>\n",
       "    <tr>\n",
       "      <th>196</th>\n",
       "      <td>2006-12-16</td>\n",
       "      <td>2022-04-22 20:40:00</td>\n",
       "      <td>3.232</td>\n",
       "      <td>0.078</td>\n",
       "      <td>233.63</td>\n",
       "      <td>13.8</td>\n",
       "      <td>0.0</td>\n",
       "      <td>0.0</td>\n",
       "      <td>17.0</td>\n",
       "    </tr>\n",
       "    <tr>\n",
       "      <th>197</th>\n",
       "      <td>2006-12-16</td>\n",
       "      <td>2022-04-22 20:41:00</td>\n",
       "      <td>3.254</td>\n",
       "      <td>0.074</td>\n",
       "      <td>234.43</td>\n",
       "      <td>13.8</td>\n",
       "      <td>0.0</td>\n",
       "      <td>0.0</td>\n",
       "      <td>17.0</td>\n",
       "    </tr>\n",
       "    <tr>\n",
       "      <th>198</th>\n",
       "      <td>2006-12-16</td>\n",
       "      <td>2022-04-22 20:42:00</td>\n",
       "      <td>3.376</td>\n",
       "      <td>0.050</td>\n",
       "      <td>234.63</td>\n",
       "      <td>14.4</td>\n",
       "      <td>0.0</td>\n",
       "      <td>0.0</td>\n",
       "      <td>17.0</td>\n",
       "    </tr>\n",
       "    <tr>\n",
       "      <th>199</th>\n",
       "      <td>2006-12-16</td>\n",
       "      <td>2022-04-22 20:43:00</td>\n",
       "      <td>3.372</td>\n",
       "      <td>0.048</td>\n",
       "      <td>235.05</td>\n",
       "      <td>14.2</td>\n",
       "      <td>0.0</td>\n",
       "      <td>0.0</td>\n",
       "      <td>17.0</td>\n",
       "    </tr>\n",
       "    <tr>\n",
       "      <th>200</th>\n",
       "      <td>2006-12-16</td>\n",
       "      <td>2022-04-22 20:44:00</td>\n",
       "      <td>3.366</td>\n",
       "      <td>0.048</td>\n",
       "      <td>234.96</td>\n",
       "      <td>14.2</td>\n",
       "      <td>0.0</td>\n",
       "      <td>0.0</td>\n",
       "      <td>17.0</td>\n",
       "    </tr>\n",
       "  </tbody>\n",
       "</table>\n",
       "<p>101 rows × 9 columns</p>\n",
       "</div>"
      ],
      "text/plain": [
       "          Date                Time  Global_active_power  \\\n",
       "100 2006-12-16 2022-04-22 19:04:00                3.366   \n",
       "101 2006-12-16 2022-04-22 19:05:00                3.404   \n",
       "102 2006-12-16 2022-04-22 19:06:00                3.382   \n",
       "103 2006-12-16 2022-04-22 19:07:00                3.616   \n",
       "104 2006-12-16 2022-04-22 19:08:00                3.476   \n",
       "..         ...                 ...                  ...   \n",
       "196 2006-12-16 2022-04-22 20:40:00                3.232   \n",
       "197 2006-12-16 2022-04-22 20:41:00                3.254   \n",
       "198 2006-12-16 2022-04-22 20:42:00                3.376   \n",
       "199 2006-12-16 2022-04-22 20:43:00                3.372   \n",
       "200 2006-12-16 2022-04-22 20:44:00                3.366   \n",
       "\n",
       "     Global_reactive_power  Voltage  Global_intensity  Sub_metering_1  \\\n",
       "100                  0.000   232.78              14.4             0.0   \n",
       "101                  0.082   233.08              14.6             0.0   \n",
       "102                  0.074   233.69              14.4             0.0   \n",
       "103                  0.106   234.44              15.4             0.0   \n",
       "104                  0.092   234.60              14.8             0.0   \n",
       "..                     ...      ...               ...             ...   \n",
       "196                  0.078   233.63              13.8             0.0   \n",
       "197                  0.074   234.43              13.8             0.0   \n",
       "198                  0.050   234.63              14.4             0.0   \n",
       "199                  0.048   235.05              14.2             0.0   \n",
       "200                  0.048   234.96              14.2             0.0   \n",
       "\n",
       "     Sub_metering_2  Sub_metering_3  \n",
       "100             1.0            17.0  \n",
       "101             2.0            16.0  \n",
       "102             0.0            17.0  \n",
       "103             4.0            17.0  \n",
       "104             3.0            17.0  \n",
       "..              ...             ...  \n",
       "196             0.0            17.0  \n",
       "197             0.0            17.0  \n",
       "198             0.0            17.0  \n",
       "199             0.0            17.0  \n",
       "200             0.0            17.0  \n",
       "\n",
       "[101 rows x 9 columns]"
      ]
     },
     "execution_count": 44,
     "metadata": {},
     "output_type": "execute_result"
    }
   ],
   "source": [
    "df.loc[100:200]"
   ]
  },
  {
   "cell_type": "markdown",
   "id": "857ccd4a",
   "metadata": {},
   "source": [
    "##### Slice single column label"
   ]
  },
  {
   "cell_type": "code",
   "execution_count": 45,
   "id": "98f819f1",
   "metadata": {},
   "outputs": [
    {
     "data": {
      "text/plain": [
       "100    14.4\n",
       "101    14.6\n",
       "102    14.4\n",
       "103    15.4\n",
       "104    14.8\n",
       "105    14.4\n",
       "Name: Global_intensity, dtype: float64"
      ]
     },
     "execution_count": 45,
     "metadata": {},
     "output_type": "execute_result"
    }
   ],
   "source": [
    "df.loc[100:105,'Global_intensity']"
   ]
  },
  {
   "cell_type": "markdown",
   "id": "1ee07e89",
   "metadata": {},
   "source": [
    "##### Slice multiple column label"
   ]
  },
  {
   "cell_type": "code",
   "execution_count": 46,
   "id": "9de9f26e",
   "metadata": {},
   "outputs": [
    {
     "data": {
      "text/html": [
       "<div>\n",
       "<style scoped>\n",
       "    .dataframe tbody tr th:only-of-type {\n",
       "        vertical-align: middle;\n",
       "    }\n",
       "\n",
       "    .dataframe tbody tr th {\n",
       "        vertical-align: top;\n",
       "    }\n",
       "\n",
       "    .dataframe thead th {\n",
       "        text-align: right;\n",
       "    }\n",
       "</style>\n",
       "<table border=\"1\" class=\"dataframe\">\n",
       "  <thead>\n",
       "    <tr style=\"text-align: right;\">\n",
       "      <th></th>\n",
       "      <th>Global_intensity</th>\n",
       "      <th>Global_reactive_power</th>\n",
       "    </tr>\n",
       "  </thead>\n",
       "  <tbody>\n",
       "    <tr>\n",
       "      <th>100</th>\n",
       "      <td>14.4</td>\n",
       "      <td>0.000</td>\n",
       "    </tr>\n",
       "    <tr>\n",
       "      <th>101</th>\n",
       "      <td>14.6</td>\n",
       "      <td>0.082</td>\n",
       "    </tr>\n",
       "    <tr>\n",
       "      <th>102</th>\n",
       "      <td>14.4</td>\n",
       "      <td>0.074</td>\n",
       "    </tr>\n",
       "    <tr>\n",
       "      <th>103</th>\n",
       "      <td>15.4</td>\n",
       "      <td>0.106</td>\n",
       "    </tr>\n",
       "    <tr>\n",
       "      <th>104</th>\n",
       "      <td>14.8</td>\n",
       "      <td>0.092</td>\n",
       "    </tr>\n",
       "    <tr>\n",
       "      <th>105</th>\n",
       "      <td>14.4</td>\n",
       "      <td>0.064</td>\n",
       "    </tr>\n",
       "  </tbody>\n",
       "</table>\n",
       "</div>"
      ],
      "text/plain": [
       "     Global_intensity  Global_reactive_power\n",
       "100              14.4                  0.000\n",
       "101              14.6                  0.082\n",
       "102              14.4                  0.074\n",
       "103              15.4                  0.106\n",
       "104              14.8                  0.092\n",
       "105              14.4                  0.064"
      ]
     },
     "execution_count": 46,
     "metadata": {},
     "output_type": "execute_result"
    }
   ],
   "source": [
    "df.loc[100:105,['Global_intensity','Sub_metering_2']]"
   ]
  },
  {
   "cell_type": "code",
   "execution_count": 47,
   "id": "9c107000",
   "metadata": {},
   "outputs": [
    {
     "data": {
      "text/html": [
       "<div>\n",
       "<style scoped>\n",
       "    .dataframe tbody tr th:only-of-type {\n",
       "        vertical-align: middle;\n",
       "    }\n",
       "\n",
       "    .dataframe tbody tr th {\n",
       "        vertical-align: top;\n",
       "    }\n",
       "\n",
       "    .dataframe thead th {\n",
       "        text-align: right;\n",
       "    }\n",
       "</style>\n",
       "<table border=\"1\" class=\"dataframe\">\n",
       "  <thead>\n",
       "    <tr style=\"text-align: right;\">\n",
       "      <th></th>\n",
       "      <th>Time</th>\n",
       "      <th>Global_active_power</th>\n",
       "      <th>Global_reactive_power</th>\n",
       "    </tr>\n",
       "  </thead>\n",
       "  <tbody>\n",
       "    <tr>\n",
       "      <th>100</th>\n",
       "      <td>2022-04-22 19:04:00</td>\n",
       "      <td>3.366</td>\n",
       "      <td>0.000</td>\n",
       "    </tr>\n",
       "    <tr>\n",
       "      <th>101</th>\n",
       "      <td>2022-04-22 19:05:00</td>\n",
       "      <td>3.404</td>\n",
       "      <td>0.082</td>\n",
       "    </tr>\n",
       "    <tr>\n",
       "      <th>102</th>\n",
       "      <td>2022-04-22 19:06:00</td>\n",
       "      <td>3.382</td>\n",
       "      <td>0.074</td>\n",
       "    </tr>\n",
       "    <tr>\n",
       "      <th>103</th>\n",
       "      <td>2022-04-22 19:07:00</td>\n",
       "      <td>3.616</td>\n",
       "      <td>0.106</td>\n",
       "    </tr>\n",
       "    <tr>\n",
       "      <th>104</th>\n",
       "      <td>2022-04-22 19:08:00</td>\n",
       "      <td>3.476</td>\n",
       "      <td>0.092</td>\n",
       "    </tr>\n",
       "    <tr>\n",
       "      <th>105</th>\n",
       "      <td>2022-04-22 19:09:00</td>\n",
       "      <td>3.394</td>\n",
       "      <td>0.064</td>\n",
       "    </tr>\n",
       "  </tbody>\n",
       "</table>\n",
       "</div>"
      ],
      "text/plain": [
       "                   Time  Global_active_power  Global_reactive_power\n",
       "100 2022-04-22 19:04:00                3.366                  0.000\n",
       "101 2022-04-22 19:05:00                3.404                  0.082\n",
       "102 2022-04-22 19:06:00                3.382                  0.074\n",
       "103 2022-04-22 19:07:00                3.616                  0.106\n",
       "104 2022-04-22 19:08:00                3.476                  0.092\n",
       "105 2022-04-22 19:09:00                3.394                  0.064"
      ]
     },
     "execution_count": 47,
     "metadata": {},
     "output_type": "execute_result"
    }
   ],
   "source": [
    "df.loc[100:105,'Time':'Global_reactive_power']"
   ]
  },
  {
   "cell_type": "markdown",
   "id": "8252acb3",
   "metadata": {},
   "source": [
    "##### single row integer index"
   ]
  },
  {
   "cell_type": "code",
   "execution_count": 48,
   "id": "77d9f5e5",
   "metadata": {},
   "outputs": [
    {
     "data": {
      "text/plain": [
       "Date                     2006-12-16 00:00:00\n",
       "Time                     2022-04-22 17:24:00\n",
       "Global_active_power                    4.216\n",
       "Global_reactive_power                  0.418\n",
       "Voltage                               234.84\n",
       "Global_intensity                        18.4\n",
       "Sub_metering_1                           0.0\n",
       "Sub_metering_2                           1.0\n",
       "Sub_metering_3                          17.0\n",
       "Name: 0, dtype: object"
      ]
     },
     "execution_count": 48,
     "metadata": {},
     "output_type": "execute_result"
    }
   ],
   "source": [
    "df.iloc[0]"
   ]
  },
  {
   "cell_type": "code",
   "execution_count": 49,
   "id": "04207dd3",
   "metadata": {},
   "outputs": [
    {
     "data": {
      "text/plain": [
       "Date                     2010-11-26 00:00:00\n",
       "Time                     2022-04-22 21:02:00\n",
       "Global_active_power                    0.932\n",
       "Global_reactive_power                    0.0\n",
       "Voltage                               239.55\n",
       "Global_intensity                         3.8\n",
       "Sub_metering_1                           0.0\n",
       "Sub_metering_2                           0.0\n",
       "Sub_metering_3                           0.0\n",
       "Name: 2075258, dtype: object"
      ]
     },
     "execution_count": 49,
     "metadata": {},
     "output_type": "execute_result"
    }
   ],
   "source": [
    "df.iloc[-1]"
   ]
  },
  {
   "cell_type": "markdown",
   "id": "a19d249a",
   "metadata": {},
   "source": [
    "### Bonus - 5.Can we find correlation between two categorical variables? How?"
   ]
  },
  {
   "cell_type": "code",
   "execution_count": null,
   "id": "9c5f2f7a",
   "metadata": {},
   "outputs": [],
   "source": []
  }
 ],
 "metadata": {
  "kernelspec": {
   "display_name": "Python 3 (ipykernel)",
   "language": "python",
   "name": "python3"
  },
  "language_info": {
   "codemirror_mode": {
    "name": "ipython",
    "version": 3
   },
   "file_extension": ".py",
   "mimetype": "text/x-python",
   "name": "python",
   "nbconvert_exporter": "python",
   "pygments_lexer": "ipython3",
   "version": "3.9.7"
  }
 },
 "nbformat": 4,
 "nbformat_minor": 5
}
