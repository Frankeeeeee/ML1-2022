{
 "cells": [
  {
   "cell_type": "markdown",
   "id": "f9de9a38",
   "metadata": {},
   "source": [
    "## Basic Python"
   ]
  },
  {
   "cell_type": "code",
   "execution_count": 1,
   "id": "20b20a0a",
   "metadata": {},
   "outputs": [
    {
     "data": {
      "text/plain": [
       "35"
      ]
     },
     "execution_count": 1,
     "metadata": {},
     "output_type": "execute_result"
    }
   ],
   "source": [
    "35"
   ]
  },
  {
   "cell_type": "code",
   "execution_count": 2,
   "id": "35f627f0",
   "metadata": {},
   "outputs": [
    {
     "data": {
      "text/plain": [
       "int"
      ]
     },
     "execution_count": 2,
     "metadata": {},
     "output_type": "execute_result"
    }
   ],
   "source": [
    "type(35)"
   ]
  },
  {
   "cell_type": "code",
   "execution_count": 3,
   "id": "a69896af",
   "metadata": {},
   "outputs": [
    {
     "data": {
      "text/plain": [
       "2.5"
      ]
     },
     "execution_count": 3,
     "metadata": {},
     "output_type": "execute_result"
    }
   ],
   "source": [
    "2.5"
   ]
  },
  {
   "cell_type": "code",
   "execution_count": 4,
   "id": "ea9f659d",
   "metadata": {},
   "outputs": [
    {
     "data": {
      "text/plain": [
       "float"
      ]
     },
     "execution_count": 4,
     "metadata": {},
     "output_type": "execute_result"
    }
   ],
   "source": [
    "type(2.5)"
   ]
  },
  {
   "cell_type": "code",
   "execution_count": 5,
   "id": "82ed463f",
   "metadata": {},
   "outputs": [
    {
     "data": {
      "text/plain": [
       "'strings'"
      ]
     },
     "execution_count": 5,
     "metadata": {},
     "output_type": "execute_result"
    }
   ],
   "source": [
    "\"strings\""
   ]
  },
  {
   "cell_type": "code",
   "execution_count": 6,
   "id": "a3d1b7a9",
   "metadata": {},
   "outputs": [
    {
     "data": {
      "text/plain": [
       "True"
      ]
     },
     "execution_count": 6,
     "metadata": {},
     "output_type": "execute_result"
    }
   ],
   "source": [
    "True"
   ]
  },
  {
   "cell_type": "code",
   "execution_count": 7,
   "id": "05111f38",
   "metadata": {},
   "outputs": [
    {
     "data": {
      "text/plain": [
       "False"
      ]
     },
     "execution_count": 7,
     "metadata": {},
     "output_type": "execute_result"
    }
   ],
   "source": [
    "False"
   ]
  },
  {
   "cell_type": "code",
   "execution_count": 8,
   "id": "fbcf4154",
   "metadata": {},
   "outputs": [
    {
     "data": {
      "text/plain": [
       "0"
      ]
     },
     "execution_count": 8,
     "metadata": {},
     "output_type": "execute_result"
    }
   ],
   "source": [
    "0"
   ]
  },
  {
   "cell_type": "code",
   "execution_count": 11,
   "id": "d66a8061",
   "metadata": {},
   "outputs": [
    {
     "data": {
      "text/plain": [
       "True"
      ]
     },
     "execution_count": 11,
     "metadata": {},
     "output_type": "execute_result"
    }
   ],
   "source": [
    "a = 5\n",
    "a >= 0"
   ]
  },
  {
   "cell_type": "code",
   "execution_count": 12,
   "id": "45e43e54",
   "metadata": {},
   "outputs": [],
   "source": [
    "a = [2,4,5]"
   ]
  },
  {
   "cell_type": "code",
   "execution_count": 13,
   "id": "bdbe35f1",
   "metadata": {},
   "outputs": [
    {
     "data": {
      "text/plain": [
       "[2, 4, 5]"
      ]
     },
     "execution_count": 13,
     "metadata": {},
     "output_type": "execute_result"
    }
   ],
   "source": [
    "a"
   ]
  },
  {
   "cell_type": "code",
   "execution_count": 14,
   "id": "64f57028",
   "metadata": {},
   "outputs": [
    {
     "data": {
      "text/plain": [
       "list"
      ]
     },
     "execution_count": 14,
     "metadata": {},
     "output_type": "execute_result"
    }
   ],
   "source": [
    "type(a)"
   ]
  },
  {
   "cell_type": "code",
   "execution_count": 15,
   "id": "31f93c3f",
   "metadata": {},
   "outputs": [
    {
     "data": {
      "text/plain": [
       "[[2, 4, 5], [2, 4, 5]]"
      ]
     },
     "execution_count": 15,
     "metadata": {},
     "output_type": "execute_result"
    }
   ],
   "source": [
    "[a,a]"
   ]
  },
  {
   "cell_type": "code",
   "execution_count": 16,
   "id": "2fa3ecdb",
   "metadata": {},
   "outputs": [
    {
     "data": {
      "text/plain": [
       "list"
      ]
     },
     "execution_count": 16,
     "metadata": {},
     "output_type": "execute_result"
    }
   ],
   "source": [
    "type([a,a])"
   ]
  },
  {
   "cell_type": "code",
   "execution_count": 17,
   "id": "2d36904a",
   "metadata": {},
   "outputs": [
    {
     "data": {
      "text/plain": [
       "''"
      ]
     },
     "execution_count": 17,
     "metadata": {},
     "output_type": "execute_result"
    }
   ],
   "source": [
    "\"\""
   ]
  },
  {
   "cell_type": "code",
   "execution_count": 19,
   "id": "a0f6d57b",
   "metadata": {},
   "outputs": [],
   "source": [
    "None"
   ]
  },
  {
   "cell_type": "code",
   "execution_count": 21,
   "id": "7690471d",
   "metadata": {},
   "outputs": [],
   "source": [
    "# Operators"
   ]
  },
  {
   "cell_type": "code",
   "execution_count": 22,
   "id": "a772052c",
   "metadata": {},
   "outputs": [
    {
     "data": {
      "text/plain": [
       "4"
      ]
     },
     "execution_count": 22,
     "metadata": {},
     "output_type": "execute_result"
    }
   ],
   "source": [
    "1+3"
   ]
  },
  {
   "cell_type": "code",
   "execution_count": 23,
   "id": "492942d2",
   "metadata": {},
   "outputs": [
    {
     "data": {
      "text/plain": [
       "'12'"
      ]
     },
     "execution_count": 23,
     "metadata": {},
     "output_type": "execute_result"
    }
   ],
   "source": [
    "\"1\"+\"2\""
   ]
  },
  {
   "cell_type": "code",
   "execution_count": 24,
   "id": "9e16a827",
   "metadata": {},
   "outputs": [
    {
     "ename": "TypeError",
     "evalue": "can only concatenate str (not \"int\") to str",
     "output_type": "error",
     "traceback": [
      "\u001b[1;31m---------------------------------------------------------------------------\u001b[0m",
      "\u001b[1;31mTypeError\u001b[0m                                 Traceback (most recent call last)",
      "\u001b[1;32m~\\AppData\\Local\\Temp/ipykernel_3472/798516814.py\u001b[0m in \u001b[0;36m<module>\u001b[1;34m\u001b[0m\n\u001b[1;32m----> 1\u001b[1;33m \u001b[1;34m\"1\"\u001b[0m\u001b[1;33m+\u001b[0m\u001b[1;36m1\u001b[0m\u001b[1;33m\u001b[0m\u001b[1;33m\u001b[0m\u001b[0m\n\u001b[0m",
      "\u001b[1;31mTypeError\u001b[0m: can only concatenate str (not \"int\") to str"
     ]
    }
   ],
   "source": [
    "\"1\"+1"
   ]
  },
  {
   "cell_type": "code",
   "execution_count": 25,
   "id": "fe151a17",
   "metadata": {},
   "outputs": [
    {
     "data": {
      "text/plain": [
       "str"
      ]
     },
     "execution_count": 25,
     "metadata": {},
     "output_type": "execute_result"
    }
   ],
   "source": [
    "type(\"!\")"
   ]
  },
  {
   "cell_type": "code",
   "execution_count": 30,
   "id": "e30f3c10",
   "metadata": {},
   "outputs": [],
   "source": [
    "# Tuple\n",
    "a = (12,35)"
   ]
  },
  {
   "cell_type": "code",
   "execution_count": 27,
   "id": "ea88317f",
   "metadata": {},
   "outputs": [
    {
     "data": {
      "text/plain": [
       "(12, 35)"
      ]
     },
     "execution_count": 27,
     "metadata": {},
     "output_type": "execute_result"
    }
   ],
   "source": [
    "a"
   ]
  },
  {
   "cell_type": "code",
   "execution_count": 28,
   "id": "fd803746",
   "metadata": {},
   "outputs": [
    {
     "data": {
      "text/plain": [
       "tuple"
      ]
     },
     "execution_count": 28,
     "metadata": {},
     "output_type": "execute_result"
    }
   ],
   "source": [
    "type(a)"
   ]
  },
  {
   "cell_type": "code",
   "execution_count": 31,
   "id": "761f702d",
   "metadata": {},
   "outputs": [
    {
     "data": {
      "text/plain": [
       "12"
      ]
     },
     "execution_count": 31,
     "metadata": {},
     "output_type": "execute_result"
    }
   ],
   "source": [
    "a[0]"
   ]
  },
  {
   "cell_type": "code",
   "execution_count": 32,
   "id": "a7265601",
   "metadata": {},
   "outputs": [],
   "source": [
    "list1 = [3,4,5,6]"
   ]
  },
  {
   "cell_type": "code",
   "execution_count": 33,
   "id": "ec2a0096",
   "metadata": {},
   "outputs": [
    {
     "ename": "IndexError",
     "evalue": "list index out of range",
     "output_type": "error",
     "traceback": [
      "\u001b[1;31m---------------------------------------------------------------------------\u001b[0m",
      "\u001b[1;31mIndexError\u001b[0m                                Traceback (most recent call last)",
      "\u001b[1;32m~\\AppData\\Local\\Temp/ipykernel_3472/4289879289.py\u001b[0m in \u001b[0;36m<module>\u001b[1;34m\u001b[0m\n\u001b[1;32m----> 1\u001b[1;33m \u001b[0mlist1\u001b[0m\u001b[1;33m[\u001b[0m\u001b[1;36m4\u001b[0m\u001b[1;33m]\u001b[0m\u001b[1;33m\u001b[0m\u001b[1;33m\u001b[0m\u001b[0m\n\u001b[0m",
      "\u001b[1;31mIndexError\u001b[0m: list index out of range"
     ]
    }
   ],
   "source": [
    "list1[4]"
   ]
  },
  {
   "cell_type": "code",
   "execution_count": 34,
   "id": "73cf8cf3",
   "metadata": {},
   "outputs": [
    {
     "data": {
      "text/plain": [
       "5"
      ]
     },
     "execution_count": 34,
     "metadata": {},
     "output_type": "execute_result"
    }
   ],
   "source": [
    "list1[2]"
   ]
  },
  {
   "cell_type": "code",
   "execution_count": 35,
   "id": "7232dfca",
   "metadata": {},
   "outputs": [],
   "source": [
    "marks = [35,26,37,48,27]"
   ]
  },
  {
   "cell_type": "code",
   "execution_count": 36,
   "id": "09815f38",
   "metadata": {},
   "outputs": [],
   "source": [
    "passing_marks = 30"
   ]
  },
  {
   "cell_type": "code",
   "execution_count": 38,
   "id": "aa77aac9",
   "metadata": {},
   "outputs": [
    {
     "data": {
      "text/plain": [
       "True"
      ]
     },
     "execution_count": 38,
     "metadata": {},
     "output_type": "execute_result"
    }
   ],
   "source": [
    "# Comparison Operator\n",
    "marks[0] > passing_marks"
   ]
  },
  {
   "cell_type": "code",
   "execution_count": 43,
   "id": "a2d0f0a8",
   "metadata": {},
   "outputs": [
    {
     "name": "stdout",
     "output_type": "stream",
     "text": [
      "You passed Buddy!\n"
     ]
    }
   ],
   "source": [
    "if marks[0] > passing_marks:\n",
    "    print(\"You passed Buddy!\")"
   ]
  },
  {
   "cell_type": "code",
   "execution_count": 44,
   "id": "76487ca4",
   "metadata": {},
   "outputs": [
    {
     "name": "stdout",
     "output_type": "stream",
     "text": [
      "0\n",
      "1\n",
      "2\n",
      "3\n"
     ]
    }
   ],
   "source": [
    "for i in range(4):\n",
    "    print(i)"
   ]
  },
  {
   "cell_type": "code",
   "execution_count": 45,
   "id": "eb3a58bd",
   "metadata": {},
   "outputs": [
    {
     "name": "stdout",
     "output_type": "stream",
     "text": [
      "35\n",
      "26\n",
      "37\n",
      "48\n",
      "27\n"
     ]
    }
   ],
   "source": [
    "for i in range(len(marks)):\n",
    "    print(marks[i])"
   ]
  },
  {
   "cell_type": "code",
   "execution_count": 47,
   "id": "9d504dd3",
   "metadata": {},
   "outputs": [
    {
     "name": "stdout",
     "output_type": "stream",
     "text": [
      "35\n",
      "Pass!!!\n",
      "----------------\n",
      "26\n",
      "Fail!!!\n",
      "----------------\n",
      "37\n",
      "Pass!!!\n",
      "----------------\n",
      "48\n",
      "Pass!!!\n",
      "----------------\n",
      "27\n",
      "Fail!!!\n",
      "----------------\n"
     ]
    }
   ],
   "source": [
    "for mark in marks:\n",
    "    print(mark)\n",
    "    if mark < passing_marks:\n",
    "        print(\"Fail!!!\")\n",
    "    else:\n",
    "        print(\"Pass!!!\")\n",
    "    print(\"----------------\")"
   ]
  },
  {
   "cell_type": "code",
   "execution_count": 48,
   "id": "e4912c38",
   "metadata": {},
   "outputs": [
    {
     "data": {
      "text/plain": [
       "[35, 26, 37, 48, 27]"
      ]
     },
     "execution_count": 48,
     "metadata": {},
     "output_type": "execute_result"
    }
   ],
   "source": [
    "marks"
   ]
  },
  {
   "cell_type": "code",
   "execution_count": 50,
   "id": "0d8efaf6",
   "metadata": {},
   "outputs": [
    {
     "name": "stdout",
     "output_type": "stream",
     "text": [
      "35\n",
      "Pass\n",
      "-----------------\n",
      "26\n",
      "Grace\n",
      "-----------------\n",
      "37\n",
      "Pass\n",
      "-----------------\n",
      "48\n",
      "Pass\n",
      "-----------------\n",
      "27\n",
      "Grace\n",
      "-----------------\n"
     ]
    }
   ],
   "source": [
    "for mark in marks:\n",
    "    print(mark)\n",
    "    if(mark < passing_marks) & (mark > 25):\n",
    "        print(\"Grace\")\n",
    "    elif(mark < passing_marks) & (mark < 25):\n",
    "        print(\"Fail\")\n",
    "    else:\n",
    "        print(\"Pass\")\n",
    "    print(\"-----------------\")"
   ]
  },
  {
   "cell_type": "code",
   "execution_count": 51,
   "id": "972bf341",
   "metadata": {},
   "outputs": [
    {
     "data": {
      "text/plain": [
       "[35, 26, 37, 48, 27]"
      ]
     },
     "execution_count": 51,
     "metadata": {},
     "output_type": "execute_result"
    }
   ],
   "source": [
    "marks"
   ]
  },
  {
   "cell_type": "code",
   "execution_count": 55,
   "id": "130c726c",
   "metadata": {},
   "outputs": [
    {
     "data": {
      "text/plain": [
       "range(0, 15)"
      ]
     },
     "execution_count": 55,
     "metadata": {},
     "output_type": "execute_result"
    }
   ],
   "source": [
    "range(15)"
   ]
  },
  {
   "cell_type": "code",
   "execution_count": 56,
   "id": "0af51ad8",
   "metadata": {},
   "outputs": [
    {
     "data": {
      "text/plain": [
       "range(1, 15, 2)"
      ]
     },
     "execution_count": 56,
     "metadata": {},
     "output_type": "execute_result"
    }
   ],
   "source": [
    "x = range(1,15,2)\n",
    "x"
   ]
  },
  {
   "cell_type": "code",
   "execution_count": 57,
   "id": "a3a1a7c9",
   "metadata": {},
   "outputs": [
    {
     "name": "stdout",
     "output_type": "stream",
     "text": [
      "1\n",
      "3\n",
      "5\n",
      "7\n",
      "9\n",
      "11\n",
      "13\n"
     ]
    }
   ],
   "source": [
    "for i in x:\n",
    "    print(i)"
   ]
  },
  {
   "cell_type": "code",
   "execution_count": 65,
   "id": "0d63395a",
   "metadata": {},
   "outputs": [
    {
     "name": "stdout",
     "output_type": "stream",
     "text": [
      "Enter the number: 36\n",
      "Divided by 2.\n"
     ]
    }
   ],
   "source": [
    "x = int(input(\"Enter the number: \"))\n",
    "if(x%2 == 0):\n",
    "    print(\"Divided by 2.\")\n",
    "elif(x%3 == 0):\n",
    "    print(\"Divisible by 3.\")\n",
    "else:\n",
    "    print(\"Not divisible by 2 or 3.\")"
   ]
  },
  {
   "cell_type": "code",
   "execution_count": 66,
   "id": "c2d49323",
   "metadata": {},
   "outputs": [],
   "source": [
    "# Functions"
   ]
  },
  {
   "cell_type": "code",
   "execution_count": 67,
   "id": "7ddffd76",
   "metadata": {},
   "outputs": [],
   "source": [
    "def summ(a,b):\n",
    "    return a+b"
   ]
  },
  {
   "cell_type": "code",
   "execution_count": 68,
   "id": "3fba9321",
   "metadata": {},
   "outputs": [
    {
     "data": {
      "text/plain": [
       "9"
      ]
     },
     "execution_count": 68,
     "metadata": {},
     "output_type": "execute_result"
    }
   ],
   "source": [
    "summ(2,7)"
   ]
  },
  {
   "cell_type": "code",
   "execution_count": 75,
   "id": "7f2edd1b",
   "metadata": {},
   "outputs": [],
   "source": [
    "def diff(num1,num2):\n",
    "    print(num1)\n",
    "    for i in range(5):\n",
    "        print(num1 - num2)\n",
    "        num1 = num1 - num2"
   ]
  },
  {
   "cell_type": "code",
   "execution_count": 76,
   "id": "301ae57c",
   "metadata": {},
   "outputs": [
    {
     "name": "stdout",
     "output_type": "stream",
     "text": [
      "20\n",
      "17\n",
      "14\n",
      "11\n",
      "8\n",
      "5\n"
     ]
    }
   ],
   "source": [
    "diff(20,3)"
   ]
  },
  {
   "cell_type": "markdown",
   "id": "bab2a97d",
   "metadata": {},
   "source": [
    "## Python for DS"
   ]
  },
  {
   "cell_type": "code",
   "execution_count": 77,
   "id": "bf727794",
   "metadata": {},
   "outputs": [],
   "source": [
    "# Packages that will be used:\n",
    "# Pandas, NumPy, SciPy, Skilearn, Matplolib"
   ]
  },
  {
   "cell_type": "code",
   "execution_count": 78,
   "id": "a2d084a4",
   "metadata": {},
   "outputs": [],
   "source": [
    "import pandas as pd\n",
    "import numpy as np"
   ]
  },
  {
   "cell_type": "code",
   "execution_count": 82,
   "id": "f50b7233",
   "metadata": {},
   "outputs": [],
   "source": [
    "height = range(1,24,3)"
   ]
  },
  {
   "cell_type": "code",
   "execution_count": 83,
   "id": "90306e1d",
   "metadata": {},
   "outputs": [
    {
     "data": {
      "text/plain": [
       "range(1, 24, 3)"
      ]
     },
     "execution_count": 83,
     "metadata": {},
     "output_type": "execute_result"
    }
   ],
   "source": [
    "height"
   ]
  },
  {
   "cell_type": "code",
   "execution_count": 84,
   "id": "b3b3ee7d",
   "metadata": {},
   "outputs": [],
   "source": [
    "height_Series = pd.Series(height)"
   ]
  },
  {
   "cell_type": "code",
   "execution_count": 85,
   "id": "0dcfbfd4",
   "metadata": {},
   "outputs": [
    {
     "data": {
      "text/plain": [
       "0     1\n",
       "1     4\n",
       "2     7\n",
       "3    10\n",
       "4    13\n",
       "5    16\n",
       "6    19\n",
       "7    22\n",
       "dtype: int64"
      ]
     },
     "execution_count": 85,
     "metadata": {},
     "output_type": "execute_result"
    }
   ],
   "source": [
    "height_Series"
   ]
  },
  {
   "cell_type": "code",
   "execution_count": 86,
   "id": "7919215c",
   "metadata": {},
   "outputs": [],
   "source": [
    "# Series is a labelled data structure."
   ]
  },
  {
   "cell_type": "code",
   "execution_count": 87,
   "id": "b62b0fb0",
   "metadata": {},
   "outputs": [
    {
     "data": {
      "text/plain": [
       "RangeIndex(start=0, stop=8, step=1)"
      ]
     },
     "execution_count": 87,
     "metadata": {},
     "output_type": "execute_result"
    }
   ],
   "source": [
    "height_Series.index"
   ]
  },
  {
   "cell_type": "code",
   "execution_count": 90,
   "id": "547662f7",
   "metadata": {},
   "outputs": [
    {
     "data": {
      "text/plain": [
       "array([ 1,  4,  7, 10, 13, 16, 19, 22], dtype=int64)"
      ]
     },
     "execution_count": 90,
     "metadata": {},
     "output_type": "execute_result"
    }
   ],
   "source": [
    "height_Series.values"
   ]
  },
  {
   "cell_type": "code",
   "execution_count": 91,
   "id": "f0ca83b2",
   "metadata": {},
   "outputs": [
    {
     "data": {
      "text/plain": [
       "1     4\n",
       "2     7\n",
       "3    10\n",
       "dtype: int64"
      ]
     },
     "execution_count": 91,
     "metadata": {},
     "output_type": "execute_result"
    }
   ],
   "source": [
    "height_Series[1:4]"
   ]
  },
  {
   "cell_type": "code",
   "execution_count": 92,
   "id": "de16d20b",
   "metadata": {},
   "outputs": [
    {
     "data": {
      "text/plain": [
       "2     7\n",
       "3    10\n",
       "4    13\n",
       "5    16\n",
       "6    19\n",
       "7    22\n",
       "dtype: int64"
      ]
     },
     "execution_count": 92,
     "metadata": {},
     "output_type": "execute_result"
    }
   ],
   "source": [
    "height_Series[2:]"
   ]
  },
  {
   "cell_type": "code",
   "execution_count": 93,
   "id": "f0e672f2",
   "metadata": {},
   "outputs": [
    {
     "data": {
      "text/plain": [
       "0     1\n",
       "1     4\n",
       "2     7\n",
       "3    10\n",
       "4    13\n",
       "5    16\n",
       "6    19\n",
       "7    22\n",
       "dtype: int64"
      ]
     },
     "execution_count": 93,
     "metadata": {},
     "output_type": "execute_result"
    }
   ],
   "source": [
    "height_Series[:]"
   ]
  },
  {
   "cell_type": "code",
   "execution_count": 95,
   "id": "eb203fbc",
   "metadata": {},
   "outputs": [],
   "source": [
    "height_Series[2] = None"
   ]
  },
  {
   "cell_type": "code",
   "execution_count": 96,
   "id": "05d5a8e1",
   "metadata": {},
   "outputs": [
    {
     "data": {
      "text/plain": [
       "0     1.0\n",
       "1     4.0\n",
       "2     NaN\n",
       "3    10.0\n",
       "4    13.0\n",
       "5    16.0\n",
       "6    19.0\n",
       "7    22.0\n",
       "dtype: float64"
      ]
     },
     "execution_count": 96,
     "metadata": {},
     "output_type": "execute_result"
    }
   ],
   "source": [
    "height_Series"
   ]
  },
  {
   "cell_type": "code",
   "execution_count": 97,
   "id": "031c9739",
   "metadata": {},
   "outputs": [
    {
     "data": {
      "text/plain": [
       "1.0     1\n",
       "4.0     1\n",
       "10.0    1\n",
       "13.0    1\n",
       "16.0    1\n",
       "19.0    1\n",
       "22.0    1\n",
       "dtype: int64"
      ]
     },
     "execution_count": 97,
     "metadata": {},
     "output_type": "execute_result"
    }
   ],
   "source": [
    "height_Series.value_counts()"
   ]
  },
  {
   "cell_type": "code",
   "execution_count": 104,
   "id": "3393be21",
   "metadata": {},
   "outputs": [],
   "source": [
    "df = pd.DataFrame([height,height])"
   ]
  },
  {
   "cell_type": "code",
   "execution_count": 105,
   "id": "51db6b28",
   "metadata": {
    "scrolled": true
   },
   "outputs": [
    {
     "data": {
      "text/html": [
       "<div>\n",
       "<style scoped>\n",
       "    .dataframe tbody tr th:only-of-type {\n",
       "        vertical-align: middle;\n",
       "    }\n",
       "\n",
       "    .dataframe tbody tr th {\n",
       "        vertical-align: top;\n",
       "    }\n",
       "\n",
       "    .dataframe thead th {\n",
       "        text-align: right;\n",
       "    }\n",
       "</style>\n",
       "<table border=\"1\" class=\"dataframe\">\n",
       "  <thead>\n",
       "    <tr style=\"text-align: right;\">\n",
       "      <th></th>\n",
       "      <th>0</th>\n",
       "      <th>1</th>\n",
       "      <th>2</th>\n",
       "      <th>3</th>\n",
       "      <th>4</th>\n",
       "      <th>5</th>\n",
       "      <th>6</th>\n",
       "      <th>7</th>\n",
       "    </tr>\n",
       "  </thead>\n",
       "  <tbody>\n",
       "    <tr>\n",
       "      <th>0</th>\n",
       "      <td>1</td>\n",
       "      <td>4</td>\n",
       "      <td>7</td>\n",
       "      <td>10</td>\n",
       "      <td>13</td>\n",
       "      <td>16</td>\n",
       "      <td>19</td>\n",
       "      <td>22</td>\n",
       "    </tr>\n",
       "    <tr>\n",
       "      <th>1</th>\n",
       "      <td>1</td>\n",
       "      <td>4</td>\n",
       "      <td>7</td>\n",
       "      <td>10</td>\n",
       "      <td>13</td>\n",
       "      <td>16</td>\n",
       "      <td>19</td>\n",
       "      <td>22</td>\n",
       "    </tr>\n",
       "  </tbody>\n",
       "</table>\n",
       "</div>"
      ],
      "text/plain": [
       "   0  1  2   3   4   5   6   7\n",
       "0  1  4  7  10  13  16  19  22\n",
       "1  1  4  7  10  13  16  19  22"
      ]
     },
     "execution_count": 105,
     "metadata": {},
     "output_type": "execute_result"
    }
   ],
   "source": [
    "df"
   ]
  },
  {
   "cell_type": "code",
   "execution_count": 106,
   "id": "e94c3f95",
   "metadata": {},
   "outputs": [
    {
     "data": {
      "text/html": [
       "<div>\n",
       "<style scoped>\n",
       "    .dataframe tbody tr th:only-of-type {\n",
       "        vertical-align: middle;\n",
       "    }\n",
       "\n",
       "    .dataframe tbody tr th {\n",
       "        vertical-align: top;\n",
       "    }\n",
       "\n",
       "    .dataframe thead th {\n",
       "        text-align: right;\n",
       "    }\n",
       "</style>\n",
       "<table border=\"1\" class=\"dataframe\">\n",
       "  <thead>\n",
       "    <tr style=\"text-align: right;\">\n",
       "      <th></th>\n",
       "      <th>0</th>\n",
       "      <th>1</th>\n",
       "    </tr>\n",
       "  </thead>\n",
       "  <tbody>\n",
       "    <tr>\n",
       "      <th>0</th>\n",
       "      <td>1</td>\n",
       "      <td>1</td>\n",
       "    </tr>\n",
       "    <tr>\n",
       "      <th>1</th>\n",
       "      <td>4</td>\n",
       "      <td>4</td>\n",
       "    </tr>\n",
       "    <tr>\n",
       "      <th>2</th>\n",
       "      <td>7</td>\n",
       "      <td>7</td>\n",
       "    </tr>\n",
       "    <tr>\n",
       "      <th>3</th>\n",
       "      <td>10</td>\n",
       "      <td>10</td>\n",
       "    </tr>\n",
       "    <tr>\n",
       "      <th>4</th>\n",
       "      <td>13</td>\n",
       "      <td>13</td>\n",
       "    </tr>\n",
       "    <tr>\n",
       "      <th>5</th>\n",
       "      <td>16</td>\n",
       "      <td>16</td>\n",
       "    </tr>\n",
       "    <tr>\n",
       "      <th>6</th>\n",
       "      <td>19</td>\n",
       "      <td>19</td>\n",
       "    </tr>\n",
       "    <tr>\n",
       "      <th>7</th>\n",
       "      <td>22</td>\n",
       "      <td>22</td>\n",
       "    </tr>\n",
       "  </tbody>\n",
       "</table>\n",
       "</div>"
      ],
      "text/plain": [
       "    0   1\n",
       "0   1   1\n",
       "1   4   4\n",
       "2   7   7\n",
       "3  10  10\n",
       "4  13  13\n",
       "5  16  16\n",
       "6  19  19\n",
       "7  22  22"
      ]
     },
     "execution_count": 106,
     "metadata": {},
     "output_type": "execute_result"
    }
   ],
   "source": [
    "df.T"
   ]
  },
  {
   "cell_type": "code",
   "execution_count": 108,
   "id": "ba732bbe",
   "metadata": {},
   "outputs": [],
   "source": [
    "df[:1] = df[:1]+2"
   ]
  },
  {
   "cell_type": "code",
   "execution_count": 111,
   "id": "c12eb49d",
   "metadata": {},
   "outputs": [],
   "source": [
    "df = df.T"
   ]
  },
  {
   "cell_type": "code",
   "execution_count": 112,
   "id": "88677ae0",
   "metadata": {},
   "outputs": [
    {
     "data": {
      "text/html": [
       "<div>\n",
       "<style scoped>\n",
       "    .dataframe tbody tr th:only-of-type {\n",
       "        vertical-align: middle;\n",
       "    }\n",
       "\n",
       "    .dataframe tbody tr th {\n",
       "        vertical-align: top;\n",
       "    }\n",
       "\n",
       "    .dataframe thead th {\n",
       "        text-align: right;\n",
       "    }\n",
       "</style>\n",
       "<table border=\"1\" class=\"dataframe\">\n",
       "  <thead>\n",
       "    <tr style=\"text-align: right;\">\n",
       "      <th></th>\n",
       "      <th>0</th>\n",
       "      <th>1</th>\n",
       "    </tr>\n",
       "  </thead>\n",
       "  <tbody>\n",
       "    <tr>\n",
       "      <th>0</th>\n",
       "      <td>3</td>\n",
       "      <td>1</td>\n",
       "    </tr>\n",
       "    <tr>\n",
       "      <th>1</th>\n",
       "      <td>6</td>\n",
       "      <td>4</td>\n",
       "    </tr>\n",
       "    <tr>\n",
       "      <th>2</th>\n",
       "      <td>9</td>\n",
       "      <td>7</td>\n",
       "    </tr>\n",
       "    <tr>\n",
       "      <th>3</th>\n",
       "      <td>12</td>\n",
       "      <td>10</td>\n",
       "    </tr>\n",
       "    <tr>\n",
       "      <th>4</th>\n",
       "      <td>15</td>\n",
       "      <td>13</td>\n",
       "    </tr>\n",
       "    <tr>\n",
       "      <th>5</th>\n",
       "      <td>18</td>\n",
       "      <td>16</td>\n",
       "    </tr>\n",
       "    <tr>\n",
       "      <th>6</th>\n",
       "      <td>21</td>\n",
       "      <td>19</td>\n",
       "    </tr>\n",
       "    <tr>\n",
       "      <th>7</th>\n",
       "      <td>24</td>\n",
       "      <td>22</td>\n",
       "    </tr>\n",
       "  </tbody>\n",
       "</table>\n",
       "</div>"
      ],
      "text/plain": [
       "    0   1\n",
       "0   3   1\n",
       "1   6   4\n",
       "2   9   7\n",
       "3  12  10\n",
       "4  15  13\n",
       "5  18  16\n",
       "6  21  19\n",
       "7  24  22"
      ]
     },
     "execution_count": 112,
     "metadata": {},
     "output_type": "execute_result"
    }
   ],
   "source": [
    "df"
   ]
  },
  {
   "cell_type": "code",
   "execution_count": 115,
   "id": "5f9bcd36",
   "metadata": {},
   "outputs": [],
   "source": [
    "df.columns = ['class1','class2']"
   ]
  },
  {
   "cell_type": "code",
   "execution_count": 116,
   "id": "0a1c4d52",
   "metadata": {},
   "outputs": [
    {
     "data": {
      "text/html": [
       "<div>\n",
       "<style scoped>\n",
       "    .dataframe tbody tr th:only-of-type {\n",
       "        vertical-align: middle;\n",
       "    }\n",
       "\n",
       "    .dataframe tbody tr th {\n",
       "        vertical-align: top;\n",
       "    }\n",
       "\n",
       "    .dataframe thead th {\n",
       "        text-align: right;\n",
       "    }\n",
       "</style>\n",
       "<table border=\"1\" class=\"dataframe\">\n",
       "  <thead>\n",
       "    <tr style=\"text-align: right;\">\n",
       "      <th></th>\n",
       "      <th>class1</th>\n",
       "      <th>class2</th>\n",
       "    </tr>\n",
       "  </thead>\n",
       "  <tbody>\n",
       "    <tr>\n",
       "      <th>0</th>\n",
       "      <td>3</td>\n",
       "      <td>1</td>\n",
       "    </tr>\n",
       "    <tr>\n",
       "      <th>1</th>\n",
       "      <td>6</td>\n",
       "      <td>4</td>\n",
       "    </tr>\n",
       "    <tr>\n",
       "      <th>2</th>\n",
       "      <td>9</td>\n",
       "      <td>7</td>\n",
       "    </tr>\n",
       "    <tr>\n",
       "      <th>3</th>\n",
       "      <td>12</td>\n",
       "      <td>10</td>\n",
       "    </tr>\n",
       "    <tr>\n",
       "      <th>4</th>\n",
       "      <td>15</td>\n",
       "      <td>13</td>\n",
       "    </tr>\n",
       "    <tr>\n",
       "      <th>5</th>\n",
       "      <td>18</td>\n",
       "      <td>16</td>\n",
       "    </tr>\n",
       "    <tr>\n",
       "      <th>6</th>\n",
       "      <td>21</td>\n",
       "      <td>19</td>\n",
       "    </tr>\n",
       "    <tr>\n",
       "      <th>7</th>\n",
       "      <td>24</td>\n",
       "      <td>22</td>\n",
       "    </tr>\n",
       "  </tbody>\n",
       "</table>\n",
       "</div>"
      ],
      "text/plain": [
       "   class1  class2\n",
       "0       3       1\n",
       "1       6       4\n",
       "2       9       7\n",
       "3      12      10\n",
       "4      15      13\n",
       "5      18      16\n",
       "6      21      19\n",
       "7      24      22"
      ]
     },
     "execution_count": 116,
     "metadata": {},
     "output_type": "execute_result"
    }
   ],
   "source": [
    "df"
   ]
  },
  {
   "cell_type": "code",
   "execution_count": 120,
   "id": "77bf2397",
   "metadata": {},
   "outputs": [],
   "source": [
    "df1 = pd.read_csv(\"q3.csv\")"
   ]
  },
  {
   "cell_type": "code",
   "execution_count": 121,
   "id": "e8f42b2d",
   "metadata": {},
   "outputs": [
    {
     "data": {
      "text/html": [
       "<div>\n",
       "<style scoped>\n",
       "    .dataframe tbody tr th:only-of-type {\n",
       "        vertical-align: middle;\n",
       "    }\n",
       "\n",
       "    .dataframe tbody tr th {\n",
       "        vertical-align: top;\n",
       "    }\n",
       "\n",
       "    .dataframe thead th {\n",
       "        text-align: right;\n",
       "    }\n",
       "</style>\n",
       "<table border=\"1\" class=\"dataframe\">\n",
       "  <thead>\n",
       "    <tr style=\"text-align: right;\">\n",
       "      <th></th>\n",
       "      <th>locationid</th>\n",
       "      <th>year</th>\n",
       "      <th>month</th>\n",
       "      <th>temp</th>\n",
       "      <th>latitude</th>\n",
       "      <th>longitude</th>\n",
       "      <th>stnelev</th>\n",
       "      <th>station</th>\n",
       "      <th>countryid</th>\n",
       "      <th>country</th>\n",
       "    </tr>\n",
       "  </thead>\n",
       "  <tbody>\n",
       "    <tr>\n",
       "      <th>0</th>\n",
       "      <td>USS0010K01S</td>\n",
       "      <td>2000</td>\n",
       "      <td>4</td>\n",
       "      <td>5.27</td>\n",
       "      <td>39.9000</td>\n",
       "      <td>-110.7500</td>\n",
       "      <td>2773.7</td>\n",
       "      <td>INDIAN_CANYON</td>\n",
       "      <td>US</td>\n",
       "      <td>United States</td>\n",
       "    </tr>\n",
       "    <tr>\n",
       "      <th>1</th>\n",
       "      <td>CI000085406</td>\n",
       "      <td>1940</td>\n",
       "      <td>5</td>\n",
       "      <td>18.04</td>\n",
       "      <td>-18.3500</td>\n",
       "      <td>-70.3330</td>\n",
       "      <td>58.0</td>\n",
       "      <td>ARICA</td>\n",
       "      <td>CI</td>\n",
       "      <td>Chile</td>\n",
       "    </tr>\n",
       "    <tr>\n",
       "      <th>2</th>\n",
       "      <td>USC00036376</td>\n",
       "      <td>2013</td>\n",
       "      <td>12</td>\n",
       "      <td>6.22</td>\n",
       "      <td>34.3703</td>\n",
       "      <td>-91.1242</td>\n",
       "      <td>61.0</td>\n",
       "      <td>SAINT_CHARLES</td>\n",
       "      <td>US</td>\n",
       "      <td>United States</td>\n",
       "    </tr>\n",
       "    <tr>\n",
       "      <th>3</th>\n",
       "      <td>ASN00024002</td>\n",
       "      <td>1963</td>\n",
       "      <td>2</td>\n",
       "      <td>22.93</td>\n",
       "      <td>-34.2833</td>\n",
       "      <td>140.6000</td>\n",
       "      <td>65.5</td>\n",
       "      <td>BERRI_IRRIGATION</td>\n",
       "      <td>AS</td>\n",
       "      <td>Australia</td>\n",
       "    </tr>\n",
       "    <tr>\n",
       "      <th>4</th>\n",
       "      <td>ASN00028007</td>\n",
       "      <td>2001</td>\n",
       "      <td>11</td>\n",
       "      <td>NaN</td>\n",
       "      <td>-14.7803</td>\n",
       "      <td>143.5036</td>\n",
       "      <td>79.4</td>\n",
       "      <td>MUSGRAVE</td>\n",
       "      <td>AS</td>\n",
       "      <td>Australia</td>\n",
       "    </tr>\n",
       "    <tr>\n",
       "      <th>...</th>\n",
       "      <td>...</td>\n",
       "      <td>...</td>\n",
       "      <td>...</td>\n",
       "      <td>...</td>\n",
       "      <td>...</td>\n",
       "      <td>...</td>\n",
       "      <td>...</td>\n",
       "      <td>...</td>\n",
       "      <td>...</td>\n",
       "      <td>...</td>\n",
       "    </tr>\n",
       "    <tr>\n",
       "      <th>99995</th>\n",
       "      <td>MXXLT347415</td>\n",
       "      <td>1991</td>\n",
       "      <td>4</td>\n",
       "      <td>29.02</td>\n",
       "      <td>17.7800</td>\n",
       "      <td>-96.3100</td>\n",
       "      <td>65.0</td>\n",
       "      <td>VALLE_NACIONAL_VALLE</td>\n",
       "      <td>MX</td>\n",
       "      <td>Mexico</td>\n",
       "    </tr>\n",
       "    <tr>\n",
       "      <th>99996</th>\n",
       "      <td>RSM00032287</td>\n",
       "      <td>1991</td>\n",
       "      <td>11</td>\n",
       "      <td>-2.81</td>\n",
       "      <td>57.0800</td>\n",
       "      <td>156.7000</td>\n",
       "      <td>3.0</td>\n",
       "      <td>UST_HAIRYUZOVO</td>\n",
       "      <td>RS</td>\n",
       "      <td>Russia</td>\n",
       "    </tr>\n",
       "    <tr>\n",
       "      <th>99997</th>\n",
       "      <td>ARM00087166</td>\n",
       "      <td>1937</td>\n",
       "      <td>4</td>\n",
       "      <td>19.42</td>\n",
       "      <td>-27.4460</td>\n",
       "      <td>-58.7620</td>\n",
       "      <td>61.9</td>\n",
       "      <td>CORRIENTES</td>\n",
       "      <td>AR</td>\n",
       "      <td>Argentina</td>\n",
       "    </tr>\n",
       "    <tr>\n",
       "      <th>99998</th>\n",
       "      <td>CA006137361</td>\n",
       "      <td>1958</td>\n",
       "      <td>10</td>\n",
       "      <td>10.02</td>\n",
       "      <td>42.7833</td>\n",
       "      <td>-81.1667</td>\n",
       "      <td>236.0</td>\n",
       "      <td>ST_THOMAS</td>\n",
       "      <td>CA</td>\n",
       "      <td>Canada</td>\n",
       "    </tr>\n",
       "    <tr>\n",
       "      <th>99999</th>\n",
       "      <td>CA006137361</td>\n",
       "      <td>1966</td>\n",
       "      <td>1</td>\n",
       "      <td>-7.85</td>\n",
       "      <td>42.7833</td>\n",
       "      <td>-81.1667</td>\n",
       "      <td>236.0</td>\n",
       "      <td>ST_THOMAS</td>\n",
       "      <td>CA</td>\n",
       "      <td>Canada</td>\n",
       "    </tr>\n",
       "  </tbody>\n",
       "</table>\n",
       "<p>100000 rows × 10 columns</p>\n",
       "</div>"
      ],
      "text/plain": [
       "        locationid  year  month   temp  latitude  longitude  stnelev  \\\n",
       "0      USS0010K01S  2000      4   5.27   39.9000  -110.7500   2773.7   \n",
       "1      CI000085406  1940      5  18.04  -18.3500   -70.3330     58.0   \n",
       "2      USC00036376  2013     12   6.22   34.3703   -91.1242     61.0   \n",
       "3      ASN00024002  1963      2  22.93  -34.2833   140.6000     65.5   \n",
       "4      ASN00028007  2001     11    NaN  -14.7803   143.5036     79.4   \n",
       "...            ...   ...    ...    ...       ...        ...      ...   \n",
       "99995  MXXLT347415  1991      4  29.02   17.7800   -96.3100     65.0   \n",
       "99996  RSM00032287  1991     11  -2.81   57.0800   156.7000      3.0   \n",
       "99997  ARM00087166  1937      4  19.42  -27.4460   -58.7620     61.9   \n",
       "99998  CA006137361  1958     10  10.02   42.7833   -81.1667    236.0   \n",
       "99999  CA006137361  1966      1  -7.85   42.7833   -81.1667    236.0   \n",
       "\n",
       "                    station countryid        country  \n",
       "0             INDIAN_CANYON        US  United States  \n",
       "1                     ARICA        CI          Chile  \n",
       "2             SAINT_CHARLES        US  United States  \n",
       "3          BERRI_IRRIGATION        AS      Australia  \n",
       "4                  MUSGRAVE        AS      Australia  \n",
       "...                     ...       ...            ...  \n",
       "99995  VALLE_NACIONAL_VALLE        MX         Mexico  \n",
       "99996        UST_HAIRYUZOVO        RS         Russia  \n",
       "99997            CORRIENTES        AR      Argentina  \n",
       "99998             ST_THOMAS        CA         Canada  \n",
       "99999             ST_THOMAS        CA         Canada  \n",
       "\n",
       "[100000 rows x 10 columns]"
      ]
     },
     "execution_count": 121,
     "metadata": {},
     "output_type": "execute_result"
    }
   ],
   "source": [
    "df1"
   ]
  },
  {
   "cell_type": "code",
   "execution_count": 122,
   "id": "7dc933aa",
   "metadata": {},
   "outputs": [
    {
     "data": {
      "text/html": [
       "<div>\n",
       "<style scoped>\n",
       "    .dataframe tbody tr th:only-of-type {\n",
       "        vertical-align: middle;\n",
       "    }\n",
       "\n",
       "    .dataframe tbody tr th {\n",
       "        vertical-align: top;\n",
       "    }\n",
       "\n",
       "    .dataframe thead th {\n",
       "        text-align: right;\n",
       "    }\n",
       "</style>\n",
       "<table border=\"1\" class=\"dataframe\">\n",
       "  <thead>\n",
       "    <tr style=\"text-align: right;\">\n",
       "      <th></th>\n",
       "      <th>locationid</th>\n",
       "      <th>year</th>\n",
       "      <th>month</th>\n",
       "      <th>temp</th>\n",
       "      <th>latitude</th>\n",
       "      <th>longitude</th>\n",
       "      <th>stnelev</th>\n",
       "      <th>station</th>\n",
       "      <th>countryid</th>\n",
       "      <th>country</th>\n",
       "    </tr>\n",
       "  </thead>\n",
       "  <tbody>\n",
       "    <tr>\n",
       "      <th>0</th>\n",
       "      <td>USS0010K01S</td>\n",
       "      <td>2000</td>\n",
       "      <td>4</td>\n",
       "      <td>5.27</td>\n",
       "      <td>39.9000</td>\n",
       "      <td>-110.7500</td>\n",
       "      <td>2773.7</td>\n",
       "      <td>INDIAN_CANYON</td>\n",
       "      <td>US</td>\n",
       "      <td>United States</td>\n",
       "    </tr>\n",
       "    <tr>\n",
       "      <th>1</th>\n",
       "      <td>CI000085406</td>\n",
       "      <td>1940</td>\n",
       "      <td>5</td>\n",
       "      <td>18.04</td>\n",
       "      <td>-18.3500</td>\n",
       "      <td>-70.3330</td>\n",
       "      <td>58.0</td>\n",
       "      <td>ARICA</td>\n",
       "      <td>CI</td>\n",
       "      <td>Chile</td>\n",
       "    </tr>\n",
       "    <tr>\n",
       "      <th>2</th>\n",
       "      <td>USC00036376</td>\n",
       "      <td>2013</td>\n",
       "      <td>12</td>\n",
       "      <td>6.22</td>\n",
       "      <td>34.3703</td>\n",
       "      <td>-91.1242</td>\n",
       "      <td>61.0</td>\n",
       "      <td>SAINT_CHARLES</td>\n",
       "      <td>US</td>\n",
       "      <td>United States</td>\n",
       "    </tr>\n",
       "    <tr>\n",
       "      <th>3</th>\n",
       "      <td>ASN00024002</td>\n",
       "      <td>1963</td>\n",
       "      <td>2</td>\n",
       "      <td>22.93</td>\n",
       "      <td>-34.2833</td>\n",
       "      <td>140.6000</td>\n",
       "      <td>65.5</td>\n",
       "      <td>BERRI_IRRIGATION</td>\n",
       "      <td>AS</td>\n",
       "      <td>Australia</td>\n",
       "    </tr>\n",
       "    <tr>\n",
       "      <th>4</th>\n",
       "      <td>ASN00028007</td>\n",
       "      <td>2001</td>\n",
       "      <td>11</td>\n",
       "      <td>NaN</td>\n",
       "      <td>-14.7803</td>\n",
       "      <td>143.5036</td>\n",
       "      <td>79.4</td>\n",
       "      <td>MUSGRAVE</td>\n",
       "      <td>AS</td>\n",
       "      <td>Australia</td>\n",
       "    </tr>\n",
       "  </tbody>\n",
       "</table>\n",
       "</div>"
      ],
      "text/plain": [
       "    locationid  year  month   temp  latitude  longitude  stnelev  \\\n",
       "0  USS0010K01S  2000      4   5.27   39.9000  -110.7500   2773.7   \n",
       "1  CI000085406  1940      5  18.04  -18.3500   -70.3330     58.0   \n",
       "2  USC00036376  2013     12   6.22   34.3703   -91.1242     61.0   \n",
       "3  ASN00024002  1963      2  22.93  -34.2833   140.6000     65.5   \n",
       "4  ASN00028007  2001     11    NaN  -14.7803   143.5036     79.4   \n",
       "\n",
       "            station countryid        country  \n",
       "0     INDIAN_CANYON        US  United States  \n",
       "1             ARICA        CI          Chile  \n",
       "2     SAINT_CHARLES        US  United States  \n",
       "3  BERRI_IRRIGATION        AS      Australia  \n",
       "4          MUSGRAVE        AS      Australia  "
      ]
     },
     "execution_count": 122,
     "metadata": {},
     "output_type": "execute_result"
    }
   ],
   "source": [
    "df1.head()"
   ]
  },
  {
   "cell_type": "code",
   "execution_count": 123,
   "id": "3ea23ebd",
   "metadata": {},
   "outputs": [
    {
     "data": {
      "text/html": [
       "<div>\n",
       "<style scoped>\n",
       "    .dataframe tbody tr th:only-of-type {\n",
       "        vertical-align: middle;\n",
       "    }\n",
       "\n",
       "    .dataframe tbody tr th {\n",
       "        vertical-align: top;\n",
       "    }\n",
       "\n",
       "    .dataframe thead th {\n",
       "        text-align: right;\n",
       "    }\n",
       "</style>\n",
       "<table border=\"1\" class=\"dataframe\">\n",
       "  <thead>\n",
       "    <tr style=\"text-align: right;\">\n",
       "      <th></th>\n",
       "      <th>locationid</th>\n",
       "      <th>year</th>\n",
       "      <th>month</th>\n",
       "      <th>temp</th>\n",
       "      <th>latitude</th>\n",
       "      <th>longitude</th>\n",
       "      <th>stnelev</th>\n",
       "      <th>station</th>\n",
       "      <th>countryid</th>\n",
       "      <th>country</th>\n",
       "    </tr>\n",
       "  </thead>\n",
       "  <tbody>\n",
       "    <tr>\n",
       "      <th>99995</th>\n",
       "      <td>MXXLT347415</td>\n",
       "      <td>1991</td>\n",
       "      <td>4</td>\n",
       "      <td>29.02</td>\n",
       "      <td>17.7800</td>\n",
       "      <td>-96.3100</td>\n",
       "      <td>65.0</td>\n",
       "      <td>VALLE_NACIONAL_VALLE</td>\n",
       "      <td>MX</td>\n",
       "      <td>Mexico</td>\n",
       "    </tr>\n",
       "    <tr>\n",
       "      <th>99996</th>\n",
       "      <td>RSM00032287</td>\n",
       "      <td>1991</td>\n",
       "      <td>11</td>\n",
       "      <td>-2.81</td>\n",
       "      <td>57.0800</td>\n",
       "      <td>156.7000</td>\n",
       "      <td>3.0</td>\n",
       "      <td>UST_HAIRYUZOVO</td>\n",
       "      <td>RS</td>\n",
       "      <td>Russia</td>\n",
       "    </tr>\n",
       "    <tr>\n",
       "      <th>99997</th>\n",
       "      <td>ARM00087166</td>\n",
       "      <td>1937</td>\n",
       "      <td>4</td>\n",
       "      <td>19.42</td>\n",
       "      <td>-27.4460</td>\n",
       "      <td>-58.7620</td>\n",
       "      <td>61.9</td>\n",
       "      <td>CORRIENTES</td>\n",
       "      <td>AR</td>\n",
       "      <td>Argentina</td>\n",
       "    </tr>\n",
       "    <tr>\n",
       "      <th>99998</th>\n",
       "      <td>CA006137361</td>\n",
       "      <td>1958</td>\n",
       "      <td>10</td>\n",
       "      <td>10.02</td>\n",
       "      <td>42.7833</td>\n",
       "      <td>-81.1667</td>\n",
       "      <td>236.0</td>\n",
       "      <td>ST_THOMAS</td>\n",
       "      <td>CA</td>\n",
       "      <td>Canada</td>\n",
       "    </tr>\n",
       "    <tr>\n",
       "      <th>99999</th>\n",
       "      <td>CA006137361</td>\n",
       "      <td>1966</td>\n",
       "      <td>1</td>\n",
       "      <td>-7.85</td>\n",
       "      <td>42.7833</td>\n",
       "      <td>-81.1667</td>\n",
       "      <td>236.0</td>\n",
       "      <td>ST_THOMAS</td>\n",
       "      <td>CA</td>\n",
       "      <td>Canada</td>\n",
       "    </tr>\n",
       "  </tbody>\n",
       "</table>\n",
       "</div>"
      ],
      "text/plain": [
       "        locationid  year  month   temp  latitude  longitude  stnelev  \\\n",
       "99995  MXXLT347415  1991      4  29.02   17.7800   -96.3100     65.0   \n",
       "99996  RSM00032287  1991     11  -2.81   57.0800   156.7000      3.0   \n",
       "99997  ARM00087166  1937      4  19.42  -27.4460   -58.7620     61.9   \n",
       "99998  CA006137361  1958     10  10.02   42.7833   -81.1667    236.0   \n",
       "99999  CA006137361  1966      1  -7.85   42.7833   -81.1667    236.0   \n",
       "\n",
       "                    station countryid    country  \n",
       "99995  VALLE_NACIONAL_VALLE        MX     Mexico  \n",
       "99996        UST_HAIRYUZOVO        RS     Russia  \n",
       "99997            CORRIENTES        AR  Argentina  \n",
       "99998             ST_THOMAS        CA     Canada  \n",
       "99999             ST_THOMAS        CA     Canada  "
      ]
     },
     "execution_count": 123,
     "metadata": {},
     "output_type": "execute_result"
    }
   ],
   "source": [
    "df1.tail()"
   ]
  },
  {
   "cell_type": "code",
   "execution_count": 124,
   "id": "39c7c4ac",
   "metadata": {},
   "outputs": [
    {
     "data": {
      "text/plain": [
       "0        USS0010K01S\n",
       "1        CI000085406\n",
       "2        USC00036376\n",
       "3        ASN00024002\n",
       "4        ASN00028007\n",
       "            ...     \n",
       "99995    MXXLT347415\n",
       "99996    RSM00032287\n",
       "99997    ARM00087166\n",
       "99998    CA006137361\n",
       "99999    CA006137361\n",
       "Name: locationid, Length: 100000, dtype: object"
      ]
     },
     "execution_count": 124,
     "metadata": {},
     "output_type": "execute_result"
    }
   ],
   "source": [
    "df1['locationid']"
   ]
  },
  {
   "cell_type": "code",
   "execution_count": 125,
   "id": "a074a79d",
   "metadata": {},
   "outputs": [
    {
     "data": {
      "text/plain": [
       "pandas.core.frame.DataFrame"
      ]
     },
     "execution_count": 125,
     "metadata": {},
     "output_type": "execute_result"
    }
   ],
   "source": [
    "type(df1)"
   ]
  },
  {
   "cell_type": "code",
   "execution_count": 126,
   "id": "b5a5d51d",
   "metadata": {},
   "outputs": [
    {
     "data": {
      "text/plain": [
       "pandas.core.series.Series"
      ]
     },
     "execution_count": 126,
     "metadata": {},
     "output_type": "execute_result"
    }
   ],
   "source": [
    "type(df['locationid'])"
   ]
  },
  {
   "cell_type": "code",
   "execution_count": 127,
   "id": "e5738179",
   "metadata": {},
   "outputs": [
    {
     "data": {
      "text/plain": [
       "2004    1235\n",
       "2007    1226\n",
       "1974    1207\n",
       "1989    1206\n",
       "1998    1205\n",
       "        ... \n",
       "1728       1\n",
       "1736       1\n",
       "1741       1\n",
       "1749       1\n",
       "1766       1\n",
       "Name: year, Length: 270, dtype: int64"
      ]
     },
     "execution_count": 127,
     "metadata": {},
     "output_type": "execute_result"
    }
   ],
   "source": [
    "df1['year'].value_counts()"
   ]
  },
  {
   "cell_type": "code",
   "execution_count": 128,
   "id": "12e31c25",
   "metadata": {},
   "outputs": [
    {
     "data": {
      "text/plain": [
       "(100000, 10)"
      ]
     },
     "execution_count": 128,
     "metadata": {},
     "output_type": "execute_result"
    }
   ],
   "source": [
    "df1.shape"
   ]
  },
  {
   "cell_type": "code",
   "execution_count": 130,
   "id": "01f01030",
   "metadata": {},
   "outputs": [
    {
     "data": {
      "text/plain": [
       "locationid        0\n",
       "year              0\n",
       "month             0\n",
       "temp          14446\n",
       "latitude          0\n",
       "longitude         0\n",
       "stnelev           0\n",
       "station           0\n",
       "countryid         0\n",
       "country           5\n",
       "dtype: int64"
      ]
     },
     "execution_count": 130,
     "metadata": {},
     "output_type": "execute_result"
    }
   ],
   "source": [
    "df1.isna().sum()"
   ]
  },
  {
   "cell_type": "code",
   "execution_count": 133,
   "id": "89c7aa11",
   "metadata": {},
   "outputs": [
    {
     "data": {
      "text/html": [
       "<div>\n",
       "<style scoped>\n",
       "    .dataframe tbody tr th:only-of-type {\n",
       "        vertical-align: middle;\n",
       "    }\n",
       "\n",
       "    .dataframe tbody tr th {\n",
       "        vertical-align: top;\n",
       "    }\n",
       "\n",
       "    .dataframe thead th {\n",
       "        text-align: right;\n",
       "    }\n",
       "</style>\n",
       "<table border=\"1\" class=\"dataframe\">\n",
       "  <thead>\n",
       "    <tr style=\"text-align: right;\">\n",
       "      <th></th>\n",
       "      <th>locationid</th>\n",
       "      <th>year</th>\n",
       "      <th>month</th>\n",
       "      <th>temp</th>\n",
       "      <th>latitude</th>\n",
       "      <th>longitude</th>\n",
       "      <th>stnelev</th>\n",
       "      <th>station</th>\n",
       "      <th>countryid</th>\n",
       "      <th>country</th>\n",
       "    </tr>\n",
       "  </thead>\n",
       "  <tbody>\n",
       "    <tr>\n",
       "      <th>0</th>\n",
       "      <td>USS0010K01S</td>\n",
       "      <td>2000</td>\n",
       "      <td>4</td>\n",
       "      <td>5.27</td>\n",
       "      <td>39.9000</td>\n",
       "      <td>-110.7500</td>\n",
       "      <td>2773.7</td>\n",
       "      <td>INDIAN_CANYON</td>\n",
       "      <td>US</td>\n",
       "      <td>United States</td>\n",
       "    </tr>\n",
       "    <tr>\n",
       "      <th>1</th>\n",
       "      <td>CI000085406</td>\n",
       "      <td>1940</td>\n",
       "      <td>5</td>\n",
       "      <td>18.04</td>\n",
       "      <td>-18.3500</td>\n",
       "      <td>-70.3330</td>\n",
       "      <td>58.0</td>\n",
       "      <td>ARICA</td>\n",
       "      <td>CI</td>\n",
       "      <td>Chile</td>\n",
       "    </tr>\n",
       "    <tr>\n",
       "      <th>2</th>\n",
       "      <td>USC00036376</td>\n",
       "      <td>2013</td>\n",
       "      <td>12</td>\n",
       "      <td>6.22</td>\n",
       "      <td>34.3703</td>\n",
       "      <td>-91.1242</td>\n",
       "      <td>61.0</td>\n",
       "      <td>SAINT_CHARLES</td>\n",
       "      <td>US</td>\n",
       "      <td>United States</td>\n",
       "    </tr>\n",
       "    <tr>\n",
       "      <th>3</th>\n",
       "      <td>ASN00024002</td>\n",
       "      <td>1963</td>\n",
       "      <td>2</td>\n",
       "      <td>22.93</td>\n",
       "      <td>-34.2833</td>\n",
       "      <td>140.6000</td>\n",
       "      <td>65.5</td>\n",
       "      <td>BERRI_IRRIGATION</td>\n",
       "      <td>AS</td>\n",
       "      <td>Australia</td>\n",
       "    </tr>\n",
       "    <tr>\n",
       "      <th>4</th>\n",
       "      <td>ASN00028007</td>\n",
       "      <td>2001</td>\n",
       "      <td>11</td>\n",
       "      <td>0.00</td>\n",
       "      <td>-14.7803</td>\n",
       "      <td>143.5036</td>\n",
       "      <td>79.4</td>\n",
       "      <td>MUSGRAVE</td>\n",
       "      <td>AS</td>\n",
       "      <td>Australia</td>\n",
       "    </tr>\n",
       "    <tr>\n",
       "      <th>...</th>\n",
       "      <td>...</td>\n",
       "      <td>...</td>\n",
       "      <td>...</td>\n",
       "      <td>...</td>\n",
       "      <td>...</td>\n",
       "      <td>...</td>\n",
       "      <td>...</td>\n",
       "      <td>...</td>\n",
       "      <td>...</td>\n",
       "      <td>...</td>\n",
       "    </tr>\n",
       "    <tr>\n",
       "      <th>99995</th>\n",
       "      <td>MXXLT347415</td>\n",
       "      <td>1991</td>\n",
       "      <td>4</td>\n",
       "      <td>29.02</td>\n",
       "      <td>17.7800</td>\n",
       "      <td>-96.3100</td>\n",
       "      <td>65.0</td>\n",
       "      <td>VALLE_NACIONAL_VALLE</td>\n",
       "      <td>MX</td>\n",
       "      <td>Mexico</td>\n",
       "    </tr>\n",
       "    <tr>\n",
       "      <th>99996</th>\n",
       "      <td>RSM00032287</td>\n",
       "      <td>1991</td>\n",
       "      <td>11</td>\n",
       "      <td>-2.81</td>\n",
       "      <td>57.0800</td>\n",
       "      <td>156.7000</td>\n",
       "      <td>3.0</td>\n",
       "      <td>UST_HAIRYUZOVO</td>\n",
       "      <td>RS</td>\n",
       "      <td>Russia</td>\n",
       "    </tr>\n",
       "    <tr>\n",
       "      <th>99997</th>\n",
       "      <td>ARM00087166</td>\n",
       "      <td>1937</td>\n",
       "      <td>4</td>\n",
       "      <td>19.42</td>\n",
       "      <td>-27.4460</td>\n",
       "      <td>-58.7620</td>\n",
       "      <td>61.9</td>\n",
       "      <td>CORRIENTES</td>\n",
       "      <td>AR</td>\n",
       "      <td>Argentina</td>\n",
       "    </tr>\n",
       "    <tr>\n",
       "      <th>99998</th>\n",
       "      <td>CA006137361</td>\n",
       "      <td>1958</td>\n",
       "      <td>10</td>\n",
       "      <td>10.02</td>\n",
       "      <td>42.7833</td>\n",
       "      <td>-81.1667</td>\n",
       "      <td>236.0</td>\n",
       "      <td>ST_THOMAS</td>\n",
       "      <td>CA</td>\n",
       "      <td>Canada</td>\n",
       "    </tr>\n",
       "    <tr>\n",
       "      <th>99999</th>\n",
       "      <td>CA006137361</td>\n",
       "      <td>1966</td>\n",
       "      <td>1</td>\n",
       "      <td>-7.85</td>\n",
       "      <td>42.7833</td>\n",
       "      <td>-81.1667</td>\n",
       "      <td>236.0</td>\n",
       "      <td>ST_THOMAS</td>\n",
       "      <td>CA</td>\n",
       "      <td>Canada</td>\n",
       "    </tr>\n",
       "  </tbody>\n",
       "</table>\n",
       "<p>100000 rows × 10 columns</p>\n",
       "</div>"
      ],
      "text/plain": [
       "        locationid  year  month   temp  latitude  longitude  stnelev  \\\n",
       "0      USS0010K01S  2000      4   5.27   39.9000  -110.7500   2773.7   \n",
       "1      CI000085406  1940      5  18.04  -18.3500   -70.3330     58.0   \n",
       "2      USC00036376  2013     12   6.22   34.3703   -91.1242     61.0   \n",
       "3      ASN00024002  1963      2  22.93  -34.2833   140.6000     65.5   \n",
       "4      ASN00028007  2001     11   0.00  -14.7803   143.5036     79.4   \n",
       "...            ...   ...    ...    ...       ...        ...      ...   \n",
       "99995  MXXLT347415  1991      4  29.02   17.7800   -96.3100     65.0   \n",
       "99996  RSM00032287  1991     11  -2.81   57.0800   156.7000      3.0   \n",
       "99997  ARM00087166  1937      4  19.42  -27.4460   -58.7620     61.9   \n",
       "99998  CA006137361  1958     10  10.02   42.7833   -81.1667    236.0   \n",
       "99999  CA006137361  1966      1  -7.85   42.7833   -81.1667    236.0   \n",
       "\n",
       "                    station countryid        country  \n",
       "0             INDIAN_CANYON        US  United States  \n",
       "1                     ARICA        CI          Chile  \n",
       "2             SAINT_CHARLES        US  United States  \n",
       "3          BERRI_IRRIGATION        AS      Australia  \n",
       "4                  MUSGRAVE        AS      Australia  \n",
       "...                     ...       ...            ...  \n",
       "99995  VALLE_NACIONAL_VALLE        MX         Mexico  \n",
       "99996        UST_HAIRYUZOVO        RS         Russia  \n",
       "99997            CORRIENTES        AR      Argentina  \n",
       "99998             ST_THOMAS        CA         Canada  \n",
       "99999             ST_THOMAS        CA         Canada  \n",
       "\n",
       "[100000 rows x 10 columns]"
      ]
     },
     "execution_count": 133,
     "metadata": {},
     "output_type": "execute_result"
    }
   ],
   "source": [
    "df1.fillna(0)"
   ]
  },
  {
   "cell_type": "code",
   "execution_count": 134,
   "id": "2c1cf9e2",
   "metadata": {},
   "outputs": [
    {
     "data": {
      "text/plain": [
       "Index(['locationid', 'year', 'month', 'temp', 'latitude', 'longitude',\n",
       "       'stnelev', 'station', 'countryid', 'country'],\n",
       "      dtype='object')"
      ]
     },
     "execution_count": 134,
     "metadata": {},
     "output_type": "execute_result"
    }
   ],
   "source": [
    "df1.columns"
   ]
  },
  {
   "cell_type": "code",
   "execution_count": 135,
   "id": "926dbe63",
   "metadata": {},
   "outputs": [],
   "source": [
    "cols = ['year','temp']"
   ]
  },
  {
   "cell_type": "code",
   "execution_count": 137,
   "id": "9eadb42e",
   "metadata": {},
   "outputs": [
    {
     "data": {
      "text/html": [
       "<div>\n",
       "<style scoped>\n",
       "    .dataframe tbody tr th:only-of-type {\n",
       "        vertical-align: middle;\n",
       "    }\n",
       "\n",
       "    .dataframe tbody tr th {\n",
       "        vertical-align: top;\n",
       "    }\n",
       "\n",
       "    .dataframe thead th {\n",
       "        text-align: right;\n",
       "    }\n",
       "</style>\n",
       "<table border=\"1\" class=\"dataframe\">\n",
       "  <thead>\n",
       "    <tr style=\"text-align: right;\">\n",
       "      <th></th>\n",
       "      <th>year</th>\n",
       "      <th>temp</th>\n",
       "    </tr>\n",
       "  </thead>\n",
       "  <tbody>\n",
       "    <tr>\n",
       "      <th>0</th>\n",
       "      <td>2000</td>\n",
       "      <td>5.27</td>\n",
       "    </tr>\n",
       "    <tr>\n",
       "      <th>1</th>\n",
       "      <td>1940</td>\n",
       "      <td>18.04</td>\n",
       "    </tr>\n",
       "    <tr>\n",
       "      <th>2</th>\n",
       "      <td>2013</td>\n",
       "      <td>6.22</td>\n",
       "    </tr>\n",
       "    <tr>\n",
       "      <th>3</th>\n",
       "      <td>1963</td>\n",
       "      <td>22.93</td>\n",
       "    </tr>\n",
       "    <tr>\n",
       "      <th>4</th>\n",
       "      <td>2001</td>\n",
       "      <td>NaN</td>\n",
       "    </tr>\n",
       "    <tr>\n",
       "      <th>...</th>\n",
       "      <td>...</td>\n",
       "      <td>...</td>\n",
       "    </tr>\n",
       "    <tr>\n",
       "      <th>99995</th>\n",
       "      <td>1991</td>\n",
       "      <td>29.02</td>\n",
       "    </tr>\n",
       "    <tr>\n",
       "      <th>99996</th>\n",
       "      <td>1991</td>\n",
       "      <td>-2.81</td>\n",
       "    </tr>\n",
       "    <tr>\n",
       "      <th>99997</th>\n",
       "      <td>1937</td>\n",
       "      <td>19.42</td>\n",
       "    </tr>\n",
       "    <tr>\n",
       "      <th>99998</th>\n",
       "      <td>1958</td>\n",
       "      <td>10.02</td>\n",
       "    </tr>\n",
       "    <tr>\n",
       "      <th>99999</th>\n",
       "      <td>1966</td>\n",
       "      <td>-7.85</td>\n",
       "    </tr>\n",
       "  </tbody>\n",
       "</table>\n",
       "<p>100000 rows × 2 columns</p>\n",
       "</div>"
      ],
      "text/plain": [
       "       year   temp\n",
       "0      2000   5.27\n",
       "1      1940  18.04\n",
       "2      2013   6.22\n",
       "3      1963  22.93\n",
       "4      2001    NaN\n",
       "...     ...    ...\n",
       "99995  1991  29.02\n",
       "99996  1991  -2.81\n",
       "99997  1937  19.42\n",
       "99998  1958  10.02\n",
       "99999  1966  -7.85\n",
       "\n",
       "[100000 rows x 2 columns]"
      ]
     },
     "execution_count": 137,
     "metadata": {},
     "output_type": "execute_result"
    }
   ],
   "source": [
    "df[cols]"
   ]
  },
  {
   "cell_type": "code",
   "execution_count": 138,
   "id": "2c4163cf",
   "metadata": {},
   "outputs": [],
   "source": [
    "# Dictionaries"
   ]
  },
  {
   "cell_type": "code",
   "execution_count": 139,
   "id": "65a853b3",
   "metadata": {},
   "outputs": [
    {
     "data": {
      "text/plain": [
       "range(1, 24, 3)"
      ]
     },
     "execution_count": 139,
     "metadata": {},
     "output_type": "execute_result"
    }
   ],
   "source": [
    "height"
   ]
  },
  {
   "cell_type": "code",
   "execution_count": 140,
   "id": "feed82fb",
   "metadata": {},
   "outputs": [
    {
     "data": {
      "text/plain": [
       "8"
      ]
     },
     "execution_count": 140,
     "metadata": {},
     "output_type": "execute_result"
    }
   ],
   "source": [
    "len(height)"
   ]
  },
  {
   "cell_type": "code",
   "execution_count": 145,
   "id": "54e8bfa9",
   "metadata": {},
   "outputs": [],
   "source": [
    "sname = list('abcdefgh')"
   ]
  },
  {
   "cell_type": "code",
   "execution_count": 146,
   "id": "7a6416b5",
   "metadata": {},
   "outputs": [
    {
     "data": {
      "text/plain": [
       "['a', 'b', 'c', 'd', 'e', 'f', 'g', 'h']"
      ]
     },
     "execution_count": 146,
     "metadata": {},
     "output_type": "execute_result"
    }
   ],
   "source": [
    "sname"
   ]
  },
  {
   "cell_type": "code",
   "execution_count": 143,
   "id": "53d300e5",
   "metadata": {},
   "outputs": [
    {
     "data": {
      "text/plain": [
       "list"
      ]
     },
     "execution_count": 143,
     "metadata": {},
     "output_type": "execute_result"
    }
   ],
   "source": [
    "type(sname)"
   ]
  },
  {
   "cell_type": "code",
   "execution_count": 144,
   "id": "fc107ac8",
   "metadata": {},
   "outputs": [
    {
     "data": {
      "text/plain": [
       "8"
      ]
     },
     "execution_count": 144,
     "metadata": {},
     "output_type": "execute_result"
    }
   ],
   "source": [
    "len(height)"
   ]
  },
  {
   "cell_type": "code",
   "execution_count": 149,
   "id": "d1b033e4",
   "metadata": {},
   "outputs": [],
   "source": [
    "height = [46,23,45,24,35,37,76,45]"
   ]
  },
  {
   "cell_type": "code",
   "execution_count": 150,
   "id": "19a1c607",
   "metadata": {},
   "outputs": [],
   "source": [
    "dict1 = {'s.no':sname,'height':height}"
   ]
  },
  {
   "cell_type": "code",
   "execution_count": 151,
   "id": "76811fdc",
   "metadata": {},
   "outputs": [
    {
     "data": {
      "text/plain": [
       "{'s.no': ['a', 'b', 'c', 'd', 'e', 'f', 'g', 'h'],\n",
       " 'height': [46, 23, 45, 24, 35, 37, 76, 45]}"
      ]
     },
     "execution_count": 151,
     "metadata": {},
     "output_type": "execute_result"
    }
   ],
   "source": [
    "dict1"
   ]
  },
  {
   "cell_type": "code",
   "execution_count": 152,
   "id": "712580e6",
   "metadata": {},
   "outputs": [],
   "source": [
    "df2 = pd.DataFrame(dict1)"
   ]
  },
  {
   "cell_type": "code",
   "execution_count": 153,
   "id": "d06aedec",
   "metadata": {},
   "outputs": [
    {
     "data": {
      "text/html": [
       "<div>\n",
       "<style scoped>\n",
       "    .dataframe tbody tr th:only-of-type {\n",
       "        vertical-align: middle;\n",
       "    }\n",
       "\n",
       "    .dataframe tbody tr th {\n",
       "        vertical-align: top;\n",
       "    }\n",
       "\n",
       "    .dataframe thead th {\n",
       "        text-align: right;\n",
       "    }\n",
       "</style>\n",
       "<table border=\"1\" class=\"dataframe\">\n",
       "  <thead>\n",
       "    <tr style=\"text-align: right;\">\n",
       "      <th></th>\n",
       "      <th>s.no</th>\n",
       "      <th>height</th>\n",
       "    </tr>\n",
       "  </thead>\n",
       "  <tbody>\n",
       "    <tr>\n",
       "      <th>0</th>\n",
       "      <td>a</td>\n",
       "      <td>46</td>\n",
       "    </tr>\n",
       "    <tr>\n",
       "      <th>1</th>\n",
       "      <td>b</td>\n",
       "      <td>23</td>\n",
       "    </tr>\n",
       "    <tr>\n",
       "      <th>2</th>\n",
       "      <td>c</td>\n",
       "      <td>45</td>\n",
       "    </tr>\n",
       "    <tr>\n",
       "      <th>3</th>\n",
       "      <td>d</td>\n",
       "      <td>24</td>\n",
       "    </tr>\n",
       "    <tr>\n",
       "      <th>4</th>\n",
       "      <td>e</td>\n",
       "      <td>35</td>\n",
       "    </tr>\n",
       "    <tr>\n",
       "      <th>5</th>\n",
       "      <td>f</td>\n",
       "      <td>37</td>\n",
       "    </tr>\n",
       "    <tr>\n",
       "      <th>6</th>\n",
       "      <td>g</td>\n",
       "      <td>76</td>\n",
       "    </tr>\n",
       "    <tr>\n",
       "      <th>7</th>\n",
       "      <td>h</td>\n",
       "      <td>45</td>\n",
       "    </tr>\n",
       "  </tbody>\n",
       "</table>\n",
       "</div>"
      ],
      "text/plain": [
       "  s.no  height\n",
       "0    a      46\n",
       "1    b      23\n",
       "2    c      45\n",
       "3    d      24\n",
       "4    e      35\n",
       "5    f      37\n",
       "6    g      76\n",
       "7    h      45"
      ]
     },
     "execution_count": 153,
     "metadata": {},
     "output_type": "execute_result"
    }
   ],
   "source": [
    "df2"
   ]
  },
  {
   "cell_type": "code",
   "execution_count": 154,
   "id": "a5ed746a",
   "metadata": {},
   "outputs": [
    {
     "data": {
      "text/plain": [
       "2004    1235\n",
       "2007    1226\n",
       "1974    1207\n",
       "1989    1206\n",
       "1998    1205\n",
       "        ... \n",
       "1728       1\n",
       "1736       1\n",
       "1741       1\n",
       "1749       1\n",
       "1766       1\n",
       "Name: year, Length: 270, dtype: int64"
      ]
     },
     "execution_count": 154,
     "metadata": {},
     "output_type": "execute_result"
    }
   ],
   "source": [
    "df.year.value_counts()"
   ]
  },
  {
   "cell_type": "code",
   "execution_count": 155,
   "id": "efdbed3c",
   "metadata": {},
   "outputs": [
    {
     "data": {
      "text/html": [
       "<div>\n",
       "<style scoped>\n",
       "    .dataframe tbody tr th:only-of-type {\n",
       "        vertical-align: middle;\n",
       "    }\n",
       "\n",
       "    .dataframe tbody tr th {\n",
       "        vertical-align: top;\n",
       "    }\n",
       "\n",
       "    .dataframe thead th {\n",
       "        text-align: right;\n",
       "    }\n",
       "</style>\n",
       "<table border=\"1\" class=\"dataframe\">\n",
       "  <thead>\n",
       "    <tr style=\"text-align: right;\">\n",
       "      <th></th>\n",
       "      <th>locationid</th>\n",
       "      <th>year</th>\n",
       "      <th>month</th>\n",
       "      <th>temp</th>\n",
       "      <th>latitude</th>\n",
       "      <th>longitude</th>\n",
       "      <th>stnelev</th>\n",
       "      <th>station</th>\n",
       "      <th>countryid</th>\n",
       "      <th>country</th>\n",
       "    </tr>\n",
       "  </thead>\n",
       "  <tbody>\n",
       "    <tr>\n",
       "      <th>0</th>\n",
       "      <td>USS0010K01S</td>\n",
       "      <td>2000</td>\n",
       "      <td>4</td>\n",
       "      <td>5.27</td>\n",
       "      <td>39.9000</td>\n",
       "      <td>-110.7500</td>\n",
       "      <td>2773.7</td>\n",
       "      <td>INDIAN_CANYON</td>\n",
       "      <td>US</td>\n",
       "      <td>United States</td>\n",
       "    </tr>\n",
       "    <tr>\n",
       "      <th>1</th>\n",
       "      <td>CI000085406</td>\n",
       "      <td>1940</td>\n",
       "      <td>5</td>\n",
       "      <td>18.04</td>\n",
       "      <td>-18.3500</td>\n",
       "      <td>-70.3330</td>\n",
       "      <td>58.0</td>\n",
       "      <td>ARICA</td>\n",
       "      <td>CI</td>\n",
       "      <td>Chile</td>\n",
       "    </tr>\n",
       "    <tr>\n",
       "      <th>2</th>\n",
       "      <td>USC00036376</td>\n",
       "      <td>2013</td>\n",
       "      <td>12</td>\n",
       "      <td>6.22</td>\n",
       "      <td>34.3703</td>\n",
       "      <td>-91.1242</td>\n",
       "      <td>61.0</td>\n",
       "      <td>SAINT_CHARLES</td>\n",
       "      <td>US</td>\n",
       "      <td>United States</td>\n",
       "    </tr>\n",
       "    <tr>\n",
       "      <th>3</th>\n",
       "      <td>ASN00024002</td>\n",
       "      <td>1963</td>\n",
       "      <td>2</td>\n",
       "      <td>22.93</td>\n",
       "      <td>-34.2833</td>\n",
       "      <td>140.6000</td>\n",
       "      <td>65.5</td>\n",
       "      <td>BERRI_IRRIGATION</td>\n",
       "      <td>AS</td>\n",
       "      <td>Australia</td>\n",
       "    </tr>\n",
       "    <tr>\n",
       "      <th>4</th>\n",
       "      <td>ASN00028007</td>\n",
       "      <td>2001</td>\n",
       "      <td>11</td>\n",
       "      <td>NaN</td>\n",
       "      <td>-14.7803</td>\n",
       "      <td>143.5036</td>\n",
       "      <td>79.4</td>\n",
       "      <td>MUSGRAVE</td>\n",
       "      <td>AS</td>\n",
       "      <td>Australia</td>\n",
       "    </tr>\n",
       "    <tr>\n",
       "      <th>...</th>\n",
       "      <td>...</td>\n",
       "      <td>...</td>\n",
       "      <td>...</td>\n",
       "      <td>...</td>\n",
       "      <td>...</td>\n",
       "      <td>...</td>\n",
       "      <td>...</td>\n",
       "      <td>...</td>\n",
       "      <td>...</td>\n",
       "      <td>...</td>\n",
       "    </tr>\n",
       "    <tr>\n",
       "      <th>99995</th>\n",
       "      <td>MXXLT347415</td>\n",
       "      <td>1991</td>\n",
       "      <td>4</td>\n",
       "      <td>29.02</td>\n",
       "      <td>17.7800</td>\n",
       "      <td>-96.3100</td>\n",
       "      <td>65.0</td>\n",
       "      <td>VALLE_NACIONAL_VALLE</td>\n",
       "      <td>MX</td>\n",
       "      <td>Mexico</td>\n",
       "    </tr>\n",
       "    <tr>\n",
       "      <th>99996</th>\n",
       "      <td>RSM00032287</td>\n",
       "      <td>1991</td>\n",
       "      <td>11</td>\n",
       "      <td>-2.81</td>\n",
       "      <td>57.0800</td>\n",
       "      <td>156.7000</td>\n",
       "      <td>3.0</td>\n",
       "      <td>UST_HAIRYUZOVO</td>\n",
       "      <td>RS</td>\n",
       "      <td>Russia</td>\n",
       "    </tr>\n",
       "    <tr>\n",
       "      <th>99997</th>\n",
       "      <td>ARM00087166</td>\n",
       "      <td>1937</td>\n",
       "      <td>4</td>\n",
       "      <td>19.42</td>\n",
       "      <td>-27.4460</td>\n",
       "      <td>-58.7620</td>\n",
       "      <td>61.9</td>\n",
       "      <td>CORRIENTES</td>\n",
       "      <td>AR</td>\n",
       "      <td>Argentina</td>\n",
       "    </tr>\n",
       "    <tr>\n",
       "      <th>99998</th>\n",
       "      <td>CA006137361</td>\n",
       "      <td>1958</td>\n",
       "      <td>10</td>\n",
       "      <td>10.02</td>\n",
       "      <td>42.7833</td>\n",
       "      <td>-81.1667</td>\n",
       "      <td>236.0</td>\n",
       "      <td>ST_THOMAS</td>\n",
       "      <td>CA</td>\n",
       "      <td>Canada</td>\n",
       "    </tr>\n",
       "    <tr>\n",
       "      <th>99999</th>\n",
       "      <td>CA006137361</td>\n",
       "      <td>1966</td>\n",
       "      <td>1</td>\n",
       "      <td>-7.85</td>\n",
       "      <td>42.7833</td>\n",
       "      <td>-81.1667</td>\n",
       "      <td>236.0</td>\n",
       "      <td>ST_THOMAS</td>\n",
       "      <td>CA</td>\n",
       "      <td>Canada</td>\n",
       "    </tr>\n",
       "  </tbody>\n",
       "</table>\n",
       "<p>100000 rows × 10 columns</p>\n",
       "</div>"
      ],
      "text/plain": [
       "        locationid  year  month   temp  latitude  longitude  stnelev  \\\n",
       "0      USS0010K01S  2000      4   5.27   39.9000  -110.7500   2773.7   \n",
       "1      CI000085406  1940      5  18.04  -18.3500   -70.3330     58.0   \n",
       "2      USC00036376  2013     12   6.22   34.3703   -91.1242     61.0   \n",
       "3      ASN00024002  1963      2  22.93  -34.2833   140.6000     65.5   \n",
       "4      ASN00028007  2001     11    NaN  -14.7803   143.5036     79.4   \n",
       "...            ...   ...    ...    ...       ...        ...      ...   \n",
       "99995  MXXLT347415  1991      4  29.02   17.7800   -96.3100     65.0   \n",
       "99996  RSM00032287  1991     11  -2.81   57.0800   156.7000      3.0   \n",
       "99997  ARM00087166  1937      4  19.42  -27.4460   -58.7620     61.9   \n",
       "99998  CA006137361  1958     10  10.02   42.7833   -81.1667    236.0   \n",
       "99999  CA006137361  1966      1  -7.85   42.7833   -81.1667    236.0   \n",
       "\n",
       "                    station countryid        country  \n",
       "0             INDIAN_CANYON        US  United States  \n",
       "1                     ARICA        CI          Chile  \n",
       "2             SAINT_CHARLES        US  United States  \n",
       "3          BERRI_IRRIGATION        AS      Australia  \n",
       "4                  MUSGRAVE        AS      Australia  \n",
       "...                     ...       ...            ...  \n",
       "99995  VALLE_NACIONAL_VALLE        MX         Mexico  \n",
       "99996        UST_HAIRYUZOVO        RS         Russia  \n",
       "99997            CORRIENTES        AR      Argentina  \n",
       "99998             ST_THOMAS        CA         Canada  \n",
       "99999             ST_THOMAS        CA         Canada  \n",
       "\n",
       "[100000 rows x 10 columns]"
      ]
     },
     "execution_count": 155,
     "metadata": {},
     "output_type": "execute_result"
    }
   ],
   "source": [
    "df"
   ]
  },
  {
   "cell_type": "code",
   "execution_count": 156,
   "id": "35a96e5c",
   "metadata": {},
   "outputs": [
    {
     "data": {
      "text/plain": [
       "0        False\n",
       "1         True\n",
       "2         True\n",
       "3        False\n",
       "4         True\n",
       "         ...  \n",
       "99995    False\n",
       "99996     True\n",
       "99997    False\n",
       "99998     True\n",
       "99999    False\n",
       "Name: month, Length: 100000, dtype: bool"
      ]
     },
     "execution_count": 156,
     "metadata": {},
     "output_type": "execute_result"
    }
   ],
   "source": [
    "df['month']>4"
   ]
  },
  {
   "cell_type": "code",
   "execution_count": 158,
   "id": "0eaf043e",
   "metadata": {},
   "outputs": [
    {
     "data": {
      "text/plain": [
       "locationid    66653\n",
       "year          66653\n",
       "month         66653\n",
       "temp          56835\n",
       "latitude      66653\n",
       "longitude     66653\n",
       "stnelev       66653\n",
       "station       66653\n",
       "countryid     66653\n",
       "country       66649\n",
       "dtype: int64"
      ]
     },
     "execution_count": 158,
     "metadata": {},
     "output_type": "execute_result"
    }
   ],
   "source": [
    "df[df['month']>4].count()"
   ]
  },
  {
   "cell_type": "code",
   "execution_count": 159,
   "id": "ac85c112",
   "metadata": {},
   "outputs": [
    {
     "data": {
      "text/plain": [
       "(100000, 10)"
      ]
     },
     "execution_count": 159,
     "metadata": {},
     "output_type": "execute_result"
    }
   ],
   "source": [
    "df.shape"
   ]
  },
  {
   "cell_type": "code",
   "execution_count": 160,
   "id": "03a24bb9",
   "metadata": {},
   "outputs": [
    {
     "data": {
      "text/plain": [
       "(100000, 10)"
      ]
     },
     "execution_count": 160,
     "metadata": {},
     "output_type": "execute_result"
    }
   ],
   "source": [
    "df1.shape"
   ]
  },
  {
   "cell_type": "code",
   "execution_count": 161,
   "id": "da6a6bf8",
   "metadata": {},
   "outputs": [
    {
     "data": {
      "text/plain": [
       "(8, 2)"
      ]
     },
     "execution_count": 161,
     "metadata": {},
     "output_type": "execute_result"
    }
   ],
   "source": [
    "df2.shape"
   ]
  },
  {
   "cell_type": "code",
   "execution_count": 162,
   "id": "e971fab6",
   "metadata": {
    "scrolled": false
   },
   "outputs": [
    {
     "data": {
      "text/html": [
       "<div>\n",
       "<style scoped>\n",
       "    .dataframe tbody tr th:only-of-type {\n",
       "        vertical-align: middle;\n",
       "    }\n",
       "\n",
       "    .dataframe tbody tr th {\n",
       "        vertical-align: top;\n",
       "    }\n",
       "\n",
       "    .dataframe thead th {\n",
       "        text-align: right;\n",
       "    }\n",
       "</style>\n",
       "<table border=\"1\" class=\"dataframe\">\n",
       "  <thead>\n",
       "    <tr style=\"text-align: right;\">\n",
       "      <th></th>\n",
       "      <th>locationid</th>\n",
       "      <th>year</th>\n",
       "      <th>month</th>\n",
       "      <th>temp</th>\n",
       "      <th>latitude</th>\n",
       "      <th>longitude</th>\n",
       "      <th>stnelev</th>\n",
       "      <th>station</th>\n",
       "      <th>countryid</th>\n",
       "      <th>country</th>\n",
       "    </tr>\n",
       "  </thead>\n",
       "  <tbody>\n",
       "    <tr>\n",
       "      <th>8</th>\n",
       "      <td>FRM00007579</td>\n",
       "      <td>1996</td>\n",
       "      <td>8</td>\n",
       "      <td>21.87</td>\n",
       "      <td>44.1330</td>\n",
       "      <td>4.8330</td>\n",
       "      <td>55.0</td>\n",
       "      <td>ORANGE</td>\n",
       "      <td>FR</td>\n",
       "      <td>France</td>\n",
       "    </tr>\n",
       "    <tr>\n",
       "      <th>33</th>\n",
       "      <td>EG000062432</td>\n",
       "      <td>1970</td>\n",
       "      <td>7</td>\n",
       "      <td>30.92</td>\n",
       "      <td>25.4831</td>\n",
       "      <td>29.0000</td>\n",
       "      <td>107.0</td>\n",
       "      <td>DAKHLA</td>\n",
       "      <td>EG</td>\n",
       "      <td>Egypt</td>\n",
       "    </tr>\n",
       "    <tr>\n",
       "      <th>34</th>\n",
       "      <td>USC00040227</td>\n",
       "      <td>1950</td>\n",
       "      <td>6</td>\n",
       "      <td>20.27</td>\n",
       "      <td>38.0167</td>\n",
       "      <td>-121.7667</td>\n",
       "      <td>8.5</td>\n",
       "      <td>ANTIOCH_FIBREBRD_MILLS</td>\n",
       "      <td>US</td>\n",
       "      <td>United States</td>\n",
       "    </tr>\n",
       "    <tr>\n",
       "      <th>44</th>\n",
       "      <td>USC00344451</td>\n",
       "      <td>1995</td>\n",
       "      <td>9</td>\n",
       "      <td>21.88</td>\n",
       "      <td>33.9336</td>\n",
       "      <td>-94.8278</td>\n",
       "      <td>111.3</td>\n",
       "      <td>IDABEL</td>\n",
       "      <td>US</td>\n",
       "      <td>United States</td>\n",
       "    </tr>\n",
       "    <tr>\n",
       "      <th>47</th>\n",
       "      <td>ASN00033013</td>\n",
       "      <td>2008</td>\n",
       "      <td>12</td>\n",
       "      <td>29.77</td>\n",
       "      <td>-20.5534</td>\n",
       "      <td>147.8464</td>\n",
       "      <td>196.0</td>\n",
       "      <td>COLLINSVILLE_POST_OFFICE</td>\n",
       "      <td>AS</td>\n",
       "      <td>Australia</td>\n",
       "    </tr>\n",
       "    <tr>\n",
       "      <th>...</th>\n",
       "      <td>...</td>\n",
       "      <td>...</td>\n",
       "      <td>...</td>\n",
       "      <td>...</td>\n",
       "      <td>...</td>\n",
       "      <td>...</td>\n",
       "      <td>...</td>\n",
       "      <td>...</td>\n",
       "      <td>...</td>\n",
       "      <td>...</td>\n",
       "    </tr>\n",
       "    <tr>\n",
       "      <th>99967</th>\n",
       "      <td>MXM00076687</td>\n",
       "      <td>2005</td>\n",
       "      <td>7</td>\n",
       "      <td>20.90</td>\n",
       "      <td>19.5500</td>\n",
       "      <td>-96.9170</td>\n",
       "      <td>1389.0</td>\n",
       "      <td>JALAPAVER</td>\n",
       "      <td>MX</td>\n",
       "      <td>Mexico</td>\n",
       "    </tr>\n",
       "    <tr>\n",
       "      <th>99970</th>\n",
       "      <td>USC00127646</td>\n",
       "      <td>1894</td>\n",
       "      <td>7</td>\n",
       "      <td>23.43</td>\n",
       "      <td>39.6042</td>\n",
       "      <td>-85.4528</td>\n",
       "      <td>292.6</td>\n",
       "      <td>RUSHVILLE</td>\n",
       "      <td>US</td>\n",
       "      <td>United States</td>\n",
       "    </tr>\n",
       "    <tr>\n",
       "      <th>99975</th>\n",
       "      <td>JA000047615</td>\n",
       "      <td>1972</td>\n",
       "      <td>7</td>\n",
       "      <td>24.96</td>\n",
       "      <td>36.5500</td>\n",
       "      <td>139.8670</td>\n",
       "      <td>140.0</td>\n",
       "      <td>UTSUNOMIYA</td>\n",
       "      <td>JA</td>\n",
       "      <td>Japan</td>\n",
       "    </tr>\n",
       "    <tr>\n",
       "      <th>99978</th>\n",
       "      <td>USC00515864</td>\n",
       "      <td>1910</td>\n",
       "      <td>10</td>\n",
       "      <td>24.28</td>\n",
       "      <td>21.9189</td>\n",
       "      <td>-159.6278</td>\n",
       "      <td>42.7</td>\n",
       "      <td>MAKAWELI_965</td>\n",
       "      <td>US</td>\n",
       "      <td>United States</td>\n",
       "    </tr>\n",
       "    <tr>\n",
       "      <th>99986</th>\n",
       "      <td>MAXLT248119</td>\n",
       "      <td>1936</td>\n",
       "      <td>7</td>\n",
       "      <td>20.25</td>\n",
       "      <td>-12.3000</td>\n",
       "      <td>49.1800</td>\n",
       "      <td>30.0</td>\n",
       "      <td>DIEGO_SUAREZ</td>\n",
       "      <td>MA</td>\n",
       "      <td>Madagascar</td>\n",
       "    </tr>\n",
       "  </tbody>\n",
       "</table>\n",
       "<p>16715 rows × 10 columns</p>\n",
       "</div>"
      ],
      "text/plain": [
       "        locationid  year  month   temp  latitude  longitude  stnelev  \\\n",
       "8      FRM00007579  1996      8  21.87   44.1330     4.8330     55.0   \n",
       "33     EG000062432  1970      7  30.92   25.4831    29.0000    107.0   \n",
       "34     USC00040227  1950      6  20.27   38.0167  -121.7667      8.5   \n",
       "44     USC00344451  1995      9  21.88   33.9336   -94.8278    111.3   \n",
       "47     ASN00033013  2008     12  29.77  -20.5534   147.8464    196.0   \n",
       "...            ...   ...    ...    ...       ...        ...      ...   \n",
       "99967  MXM00076687  2005      7  20.90   19.5500   -96.9170   1389.0   \n",
       "99970  USC00127646  1894      7  23.43   39.6042   -85.4528    292.6   \n",
       "99975  JA000047615  1972      7  24.96   36.5500   139.8670    140.0   \n",
       "99978  USC00515864  1910     10  24.28   21.9189  -159.6278     42.7   \n",
       "99986  MAXLT248119  1936      7  20.25  -12.3000    49.1800     30.0   \n",
       "\n",
       "                        station countryid        country  \n",
       "8                        ORANGE        FR         France  \n",
       "33                       DAKHLA        EG          Egypt  \n",
       "34       ANTIOCH_FIBREBRD_MILLS        US  United States  \n",
       "44                       IDABEL        US  United States  \n",
       "47     COLLINSVILLE_POST_OFFICE        AS      Australia  \n",
       "...                         ...       ...            ...  \n",
       "99967                 JALAPAVER        MX         Mexico  \n",
       "99970                 RUSHVILLE        US  United States  \n",
       "99975                UTSUNOMIYA        JA          Japan  \n",
       "99978              MAKAWELI_965        US  United States  \n",
       "99986              DIEGO_SUAREZ        MA     Madagascar  \n",
       "\n",
       "[16715 rows x 10 columns]"
      ]
     },
     "execution_count": 162,
     "metadata": {},
     "output_type": "execute_result"
    }
   ],
   "source": [
    "df[(df['month']>4)&(df['temp']>20)]"
   ]
  },
  {
   "cell_type": "code",
   "execution_count": 163,
   "id": "0faae2fe",
   "metadata": {},
   "outputs": [
    {
     "data": {
      "text/plain": [
       "locationid    16715\n",
       "year          16715\n",
       "month         16715\n",
       "temp          16715\n",
       "latitude      16715\n",
       "longitude     16715\n",
       "stnelev       16715\n",
       "station       16715\n",
       "countryid     16715\n",
       "country       16715\n",
       "dtype: int64"
      ]
     },
     "execution_count": 163,
     "metadata": {},
     "output_type": "execute_result"
    }
   ],
   "source": [
    "df[(df['month']>4)&(df['temp']>20)].count()"
   ]
  },
  {
   "cell_type": "code",
   "execution_count": 164,
   "id": "4cc08dd7",
   "metadata": {},
   "outputs": [
    {
     "data": {
      "text/html": [
       "<div>\n",
       "<style scoped>\n",
       "    .dataframe tbody tr th:only-of-type {\n",
       "        vertical-align: middle;\n",
       "    }\n",
       "\n",
       "    .dataframe tbody tr th {\n",
       "        vertical-align: top;\n",
       "    }\n",
       "\n",
       "    .dataframe thead th {\n",
       "        text-align: right;\n",
       "    }\n",
       "</style>\n",
       "<table border=\"1\" class=\"dataframe\">\n",
       "  <thead>\n",
       "    <tr style=\"text-align: right;\">\n",
       "      <th></th>\n",
       "      <th>year</th>\n",
       "      <th>month</th>\n",
       "      <th>temp</th>\n",
       "      <th>latitude</th>\n",
       "      <th>longitude</th>\n",
       "      <th>stnelev</th>\n",
       "    </tr>\n",
       "  </thead>\n",
       "  <tbody>\n",
       "    <tr>\n",
       "      <th>year</th>\n",
       "      <td>1.000000</td>\n",
       "      <td>-0.000873</td>\n",
       "      <td>0.010263</td>\n",
       "      <td>-0.030330</td>\n",
       "      <td>0.017549</td>\n",
       "      <td>0.016371</td>\n",
       "    </tr>\n",
       "    <tr>\n",
       "      <th>month</th>\n",
       "      <td>-0.000873</td>\n",
       "      <td>1.000000</td>\n",
       "      <td>0.152352</td>\n",
       "      <td>0.003395</td>\n",
       "      <td>0.004964</td>\n",
       "      <td>-0.002225</td>\n",
       "    </tr>\n",
       "    <tr>\n",
       "      <th>temp</th>\n",
       "      <td>0.010263</td>\n",
       "      <td>0.152352</td>\n",
       "      <td>1.000000</td>\n",
       "      <td>-0.397717</td>\n",
       "      <td>0.071065</td>\n",
       "      <td>-0.060881</td>\n",
       "    </tr>\n",
       "    <tr>\n",
       "      <th>latitude</th>\n",
       "      <td>-0.030330</td>\n",
       "      <td>0.003395</td>\n",
       "      <td>-0.397717</td>\n",
       "      <td>1.000000</td>\n",
       "      <td>-0.338208</td>\n",
       "      <td>-0.050871</td>\n",
       "    </tr>\n",
       "    <tr>\n",
       "      <th>longitude</th>\n",
       "      <td>0.017549</td>\n",
       "      <td>0.004964</td>\n",
       "      <td>0.071065</td>\n",
       "      <td>-0.338208</td>\n",
       "      <td>1.000000</td>\n",
       "      <td>-0.092062</td>\n",
       "    </tr>\n",
       "    <tr>\n",
       "      <th>stnelev</th>\n",
       "      <td>0.016371</td>\n",
       "      <td>-0.002225</td>\n",
       "      <td>-0.060881</td>\n",
       "      <td>-0.050871</td>\n",
       "      <td>-0.092062</td>\n",
       "      <td>1.000000</td>\n",
       "    </tr>\n",
       "  </tbody>\n",
       "</table>\n",
       "</div>"
      ],
      "text/plain": [
       "               year     month      temp  latitude  longitude   stnelev\n",
       "year       1.000000 -0.000873  0.010263 -0.030330   0.017549  0.016371\n",
       "month     -0.000873  1.000000  0.152352  0.003395   0.004964 -0.002225\n",
       "temp       0.010263  0.152352  1.000000 -0.397717   0.071065 -0.060881\n",
       "latitude  -0.030330  0.003395 -0.397717  1.000000  -0.338208 -0.050871\n",
       "longitude  0.017549  0.004964  0.071065 -0.338208   1.000000 -0.092062\n",
       "stnelev    0.016371 -0.002225 -0.060881 -0.050871  -0.092062  1.000000"
      ]
     },
     "execution_count": 164,
     "metadata": {},
     "output_type": "execute_result"
    }
   ],
   "source": [
    "df.corr()"
   ]
  },
  {
   "cell_type": "code",
   "execution_count": 166,
   "id": "3782d868",
   "metadata": {},
   "outputs": [],
   "source": [
    "v1 = [1,2,4,5,6]"
   ]
  },
  {
   "cell_type": "code",
   "execution_count": 169,
   "id": "06dc5fea",
   "metadata": {},
   "outputs": [
    {
     "data": {
      "text/html": [
       "<div>\n",
       "<style scoped>\n",
       "    .dataframe tbody tr th:only-of-type {\n",
       "        vertical-align: middle;\n",
       "    }\n",
       "\n",
       "    .dataframe tbody tr th {\n",
       "        vertical-align: top;\n",
       "    }\n",
       "\n",
       "    .dataframe thead th {\n",
       "        text-align: right;\n",
       "    }\n",
       "</style>\n",
       "<table border=\"1\" class=\"dataframe\">\n",
       "  <thead>\n",
       "    <tr style=\"text-align: right;\">\n",
       "      <th></th>\n",
       "      <th>year</th>\n",
       "      <th>month</th>\n",
       "      <th>temp</th>\n",
       "      <th>latitude</th>\n",
       "      <th>longitude</th>\n",
       "      <th>stnelev</th>\n",
       "    </tr>\n",
       "  </thead>\n",
       "  <tbody>\n",
       "    <tr>\n",
       "      <th>count</th>\n",
       "      <td>100000.000000</td>\n",
       "      <td>100000.000000</td>\n",
       "      <td>85554.000000</td>\n",
       "      <td>100000.000000</td>\n",
       "      <td>100000.000000</td>\n",
       "      <td>100000.000000</td>\n",
       "    </tr>\n",
       "    <tr>\n",
       "      <th>mean</th>\n",
       "      <td>1969.458030</td>\n",
       "      <td>6.494640</td>\n",
       "      <td>10.920770</td>\n",
       "      <td>35.075456</td>\n",
       "      <td>-38.123732</td>\n",
       "      <td>565.562545</td>\n",
       "    </tr>\n",
       "    <tr>\n",
       "      <th>std</th>\n",
       "      <td>35.836832</td>\n",
       "      <td>3.446463</td>\n",
       "      <td>11.522444</td>\n",
       "      <td>23.545646</td>\n",
       "      <td>84.297049</td>\n",
       "      <td>1073.647214</td>\n",
       "    </tr>\n",
       "    <tr>\n",
       "      <th>min</th>\n",
       "      <td>1720.000000</td>\n",
       "      <td>1.000000</td>\n",
       "      <td>-70.700000</td>\n",
       "      <td>-90.000000</td>\n",
       "      <td>-179.983000</td>\n",
       "      <td>-350.000000</td>\n",
       "    </tr>\n",
       "    <tr>\n",
       "      <th>25%</th>\n",
       "      <td>1949.000000</td>\n",
       "      <td>3.000000</td>\n",
       "      <td>3.460000</td>\n",
       "      <td>33.190675</td>\n",
       "      <td>-101.657925</td>\n",
       "      <td>64.000000</td>\n",
       "    </tr>\n",
       "    <tr>\n",
       "      <th>50%</th>\n",
       "      <td>1975.000000</td>\n",
       "      <td>6.000000</td>\n",
       "      <td>12.220000</td>\n",
       "      <td>40.793050</td>\n",
       "      <td>-79.568300</td>\n",
       "      <td>240.800000</td>\n",
       "    </tr>\n",
       "    <tr>\n",
       "      <th>75%</th>\n",
       "      <td>1998.000000</td>\n",
       "      <td>9.000000</td>\n",
       "      <td>19.570000</td>\n",
       "      <td>47.424700</td>\n",
       "      <td>17.533100</td>\n",
       "      <td>644.700000</td>\n",
       "    </tr>\n",
       "    <tr>\n",
       "      <th>max</th>\n",
       "      <td>2020.000000</td>\n",
       "      <td>12.000000</td>\n",
       "      <td>39.950000</td>\n",
       "      <td>82.516700</td>\n",
       "      <td>179.750000</td>\n",
       "      <td>9999.000000</td>\n",
       "    </tr>\n",
       "  </tbody>\n",
       "</table>\n",
       "</div>"
      ],
      "text/plain": [
       "                year          month          temp       latitude  \\\n",
       "count  100000.000000  100000.000000  85554.000000  100000.000000   \n",
       "mean     1969.458030       6.494640     10.920770      35.075456   \n",
       "std        35.836832       3.446463     11.522444      23.545646   \n",
       "min      1720.000000       1.000000    -70.700000     -90.000000   \n",
       "25%      1949.000000       3.000000      3.460000      33.190675   \n",
       "50%      1975.000000       6.000000     12.220000      40.793050   \n",
       "75%      1998.000000       9.000000     19.570000      47.424700   \n",
       "max      2020.000000      12.000000     39.950000      82.516700   \n",
       "\n",
       "           longitude        stnelev  \n",
       "count  100000.000000  100000.000000  \n",
       "mean      -38.123732     565.562545  \n",
       "std        84.297049    1073.647214  \n",
       "min      -179.983000    -350.000000  \n",
       "25%      -101.657925      64.000000  \n",
       "50%       -79.568300     240.800000  \n",
       "75%        17.533100     644.700000  \n",
       "max       179.750000    9999.000000  "
      ]
     },
     "execution_count": 169,
     "metadata": {},
     "output_type": "execute_result"
    }
   ],
   "source": [
    "df.describe()"
   ]
  },
  {
   "cell_type": "code",
   "execution_count": null,
   "id": "1483c563",
   "metadata": {},
   "outputs": [],
   "source": []
  }
 ],
 "metadata": {
  "kernelspec": {
   "display_name": "Python 3 (ipykernel)",
   "language": "python",
   "name": "python3"
  },
  "language_info": {
   "codemirror_mode": {
    "name": "ipython",
    "version": 3
   },
   "file_extension": ".py",
   "mimetype": "text/x-python",
   "name": "python",
   "nbconvert_exporter": "python",
   "pygments_lexer": "ipython3",
   "version": "3.9.7"
  }
 },
 "nbformat": 4,
 "nbformat_minor": 5
}
