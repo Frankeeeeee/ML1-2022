{
 "cells": [
  {
   "cell_type": "markdown",
   "id": "0a350a33",
   "metadata": {},
   "source": [
    "## 21BDA59\n",
    "## Purva Singh\n",
    "## Class1_ML_Notebook"
   ]
  },
  {
   "cell_type": "markdown",
   "id": "0abd1f9d",
   "metadata": {},
   "source": [
    "### integer"
   ]
  },
  {
   "cell_type": "code",
   "execution_count": 1,
   "id": "2b4082c1",
   "metadata": {},
   "outputs": [
    {
     "data": {
      "text/plain": [
       "67"
      ]
     },
     "execution_count": 1,
     "metadata": {},
     "output_type": "execute_result"
    }
   ],
   "source": [
    "67\n"
   ]
  },
  {
   "cell_type": "markdown",
   "id": "55a1be99",
   "metadata": {},
   "source": [
    "### float"
   ]
  },
  {
   "cell_type": "code",
   "execution_count": 2,
   "id": "e84f4cde",
   "metadata": {},
   "outputs": [
    {
     "data": {
      "text/plain": [
       "6.7"
      ]
     },
     "execution_count": 2,
     "metadata": {},
     "output_type": "execute_result"
    }
   ],
   "source": [
    "6.7"
   ]
  },
  {
   "cell_type": "markdown",
   "id": "2d2480c8",
   "metadata": {},
   "source": [
    "### boolean"
   ]
  },
  {
   "cell_type": "code",
   "execution_count": 4,
   "id": "c22499f6",
   "metadata": {},
   "outputs": [
    {
     "data": {
      "text/plain": [
       "True"
      ]
     },
     "execution_count": 4,
     "metadata": {},
     "output_type": "execute_result"
    }
   ],
   "source": [
    "True"
   ]
  },
  {
   "cell_type": "code",
   "execution_count": 5,
   "id": "23332305",
   "metadata": {},
   "outputs": [
    {
     "data": {
      "text/plain": [
       "False"
      ]
     },
     "execution_count": 5,
     "metadata": {},
     "output_type": "execute_result"
    }
   ],
   "source": [
    "False"
   ]
  },
  {
   "cell_type": "markdown",
   "id": "56a4c9a2",
   "metadata": {},
   "source": [
    "### strings"
   ]
  },
  {
   "cell_type": "code",
   "execution_count": 6,
   "id": "1f19b105",
   "metadata": {},
   "outputs": [
    {
     "data": {
      "text/plain": [
       "'github'"
      ]
     },
     "execution_count": 6,
     "metadata": {},
     "output_type": "execute_result"
    }
   ],
   "source": [
    "'github'"
   ]
  },
  {
   "cell_type": "markdown",
   "id": "d22817bf",
   "metadata": {},
   "source": [
    "### Operators"
   ]
  },
  {
   "cell_type": "code",
   "execution_count": 7,
   "id": "efea0862",
   "metadata": {},
   "outputs": [
    {
     "data": {
      "text/plain": [
       "'concatemerge'"
      ]
     },
     "execution_count": 7,
     "metadata": {},
     "output_type": "execute_result"
    }
   ],
   "source": [
    "'concate'+'merge'"
   ]
  },
  {
   "cell_type": "code",
   "execution_count": 9,
   "id": "fa3bd557",
   "metadata": {},
   "outputs": [
    {
     "data": {
      "text/plain": [
       "'multiplymultiplymultiplymultiply'"
      ]
     },
     "execution_count": 9,
     "metadata": {},
     "output_type": "execute_result"
    }
   ],
   "source": [
    "'multiply'*4"
   ]
  },
  {
   "cell_type": "markdown",
   "id": "b761a2e8",
   "metadata": {},
   "source": [
    "### type"
   ]
  },
  {
   "cell_type": "code",
   "execution_count": 12,
   "id": "64f03930",
   "metadata": {},
   "outputs": [
    {
     "data": {
      "text/plain": [
       "list"
      ]
     },
     "execution_count": 12,
     "metadata": {},
     "output_type": "execute_result"
    }
   ],
   "source": [
    "type([1,1])"
   ]
  },
  {
   "cell_type": "code",
   "execution_count": 13,
   "id": "4c24a65e",
   "metadata": {},
   "outputs": [
    {
     "data": {
      "text/plain": [
       "tuple"
      ]
     },
     "execution_count": 13,
     "metadata": {},
     "output_type": "execute_result"
    }
   ],
   "source": [
    "type((4,6,7))"
   ]
  },
  {
   "cell_type": "code",
   "execution_count": 14,
   "id": "238e8054",
   "metadata": {},
   "outputs": [
    {
     "data": {
      "text/plain": [
       "float"
      ]
     },
     "execution_count": 14,
     "metadata": {},
     "output_type": "execute_result"
    }
   ],
   "source": [
    "type(8.7)"
   ]
  },
  {
   "cell_type": "markdown",
   "id": "50ee640b",
   "metadata": {},
   "source": [
    "### difference between list and tuple"
   ]
  },
  {
   "cell_type": "code",
   "execution_count": 2,
   "id": "a9ec7080",
   "metadata": {},
   "outputs": [],
   "source": [
    "## list are mutuable means they can be changed , example slicing and indexing can be done whereas tuples are not"
   ]
  },
  {
   "cell_type": "code",
   "execution_count": 3,
   "id": "5d3556fa",
   "metadata": {},
   "outputs": [
    {
     "data": {
      "text/plain": [
       "[1, 2, 3]"
      ]
     },
     "execution_count": 3,
     "metadata": {},
     "output_type": "execute_result"
    }
   ],
   "source": [
    "[1,2,3]"
   ]
  },
  {
   "cell_type": "code",
   "execution_count": 4,
   "id": "42f0219a",
   "metadata": {},
   "outputs": [
    {
     "data": {
      "text/plain": [
       "(7, 7, 6)"
      ]
     },
     "execution_count": 4,
     "metadata": {},
     "output_type": "execute_result"
    }
   ],
   "source": [
    "(7,7,6)"
   ]
  },
  {
   "cell_type": "markdown",
   "id": "ecfca30b",
   "metadata": {},
   "source": [
    "### dataframe"
   ]
  },
  {
   "cell_type": "code",
   "execution_count": 7,
   "id": "9e2dbf14",
   "metadata": {},
   "outputs": [],
   "source": [
    "import pandas as pd"
   ]
  },
  {
   "cell_type": "code",
   "execution_count": 8,
   "id": "40cefd6d",
   "metadata": {},
   "outputs": [],
   "source": [
    "import numpy as np"
   ]
  },
  {
   "cell_type": "code",
   "execution_count": 9,
   "id": "99faf184",
   "metadata": {},
   "outputs": [],
   "source": [
    "P_Dict_Sales = {\"Chocolate\":[30,40,45],\"Biscuits\":[150,90,153],\"Potatoes\":[45,67,38],\"Carrots\":[20,55,85],\"Chips\":[67,0,34]}"
   ]
  },
  {
   "cell_type": "code",
   "execution_count": 10,
   "id": "1ecf034a",
   "metadata": {},
   "outputs": [],
   "source": [
    "P_DataFrames = pd.DataFrame(P_Dict_Sales)"
   ]
  },
  {
   "cell_type": "code",
   "execution_count": 14,
   "id": "2dcf1985",
   "metadata": {},
   "outputs": [
    {
     "data": {
      "text/html": [
       "<div>\n",
       "<style scoped>\n",
       "    .dataframe tbody tr th:only-of-type {\n",
       "        vertical-align: middle;\n",
       "    }\n",
       "\n",
       "    .dataframe tbody tr th {\n",
       "        vertical-align: top;\n",
       "    }\n",
       "\n",
       "    .dataframe thead th {\n",
       "        text-align: right;\n",
       "    }\n",
       "</style>\n",
       "<table border=\"1\" class=\"dataframe\">\n",
       "  <thead>\n",
       "    <tr style=\"text-align: right;\">\n",
       "      <th></th>\n",
       "      <th>Chocolate</th>\n",
       "      <th>Biscuits</th>\n",
       "      <th>Potatoes</th>\n",
       "      <th>Carrots</th>\n",
       "      <th>Chips</th>\n",
       "    </tr>\n",
       "  </thead>\n",
       "  <tbody>\n",
       "    <tr>\n",
       "      <th>Week1</th>\n",
       "      <td>30</td>\n",
       "      <td>150</td>\n",
       "      <td>45</td>\n",
       "      <td>20</td>\n",
       "      <td>67</td>\n",
       "    </tr>\n",
       "    <tr>\n",
       "      <th>week2</th>\n",
       "      <td>40</td>\n",
       "      <td>90</td>\n",
       "      <td>67</td>\n",
       "      <td>55</td>\n",
       "      <td>0</td>\n",
       "    </tr>\n",
       "    <tr>\n",
       "      <th>week3</th>\n",
       "      <td>45</td>\n",
       "      <td>153</td>\n",
       "      <td>38</td>\n",
       "      <td>85</td>\n",
       "      <td>34</td>\n",
       "    </tr>\n",
       "  </tbody>\n",
       "</table>\n",
       "</div>"
      ],
      "text/plain": [
       "       Chocolate  Biscuits  Potatoes  Carrots  Chips\n",
       "Week1         30       150        45       20     67\n",
       "week2         40        90        67       55      0\n",
       "week3         45       153        38       85     34"
      ]
     },
     "execution_count": 14,
     "metadata": {},
     "output_type": "execute_result"
    }
   ],
   "source": [
    "P_DataFrames.head()"
   ]
  },
  {
   "cell_type": "code",
   "execution_count": 15,
   "id": "21da3884",
   "metadata": {},
   "outputs": [
    {
     "data": {
      "text/html": [
       "<div>\n",
       "<style scoped>\n",
       "    .dataframe tbody tr th:only-of-type {\n",
       "        vertical-align: middle;\n",
       "    }\n",
       "\n",
       "    .dataframe tbody tr th {\n",
       "        vertical-align: top;\n",
       "    }\n",
       "\n",
       "    .dataframe thead th {\n",
       "        text-align: right;\n",
       "    }\n",
       "</style>\n",
       "<table border=\"1\" class=\"dataframe\">\n",
       "  <thead>\n",
       "    <tr style=\"text-align: right;\">\n",
       "      <th></th>\n",
       "      <th>Chocolate</th>\n",
       "      <th>Biscuits</th>\n",
       "      <th>Potatoes</th>\n",
       "      <th>Carrots</th>\n",
       "      <th>Chips</th>\n",
       "    </tr>\n",
       "  </thead>\n",
       "  <tbody>\n",
       "    <tr>\n",
       "      <th>Week1</th>\n",
       "      <td>30</td>\n",
       "      <td>150</td>\n",
       "      <td>45</td>\n",
       "      <td>20</td>\n",
       "      <td>67</td>\n",
       "    </tr>\n",
       "    <tr>\n",
       "      <th>week2</th>\n",
       "      <td>40</td>\n",
       "      <td>90</td>\n",
       "      <td>67</td>\n",
       "      <td>55</td>\n",
       "      <td>0</td>\n",
       "    </tr>\n",
       "  </tbody>\n",
       "</table>\n",
       "</div>"
      ],
      "text/plain": [
       "       Chocolate  Biscuits  Potatoes  Carrots  Chips\n",
       "Week1         30       150        45       20     67\n",
       "week2         40        90        67       55      0"
      ]
     },
     "execution_count": 15,
     "metadata": {},
     "output_type": "execute_result"
    }
   ],
   "source": [
    "P_DataFrames.head(2)"
   ]
  },
  {
   "cell_type": "code",
   "execution_count": 16,
   "id": "cef866e2",
   "metadata": {},
   "outputs": [
    {
     "data": {
      "text/html": [
       "<div>\n",
       "<style scoped>\n",
       "    .dataframe tbody tr th:only-of-type {\n",
       "        vertical-align: middle;\n",
       "    }\n",
       "\n",
       "    .dataframe tbody tr th {\n",
       "        vertical-align: top;\n",
       "    }\n",
       "\n",
       "    .dataframe thead th {\n",
       "        text-align: right;\n",
       "    }\n",
       "</style>\n",
       "<table border=\"1\" class=\"dataframe\">\n",
       "  <thead>\n",
       "    <tr style=\"text-align: right;\">\n",
       "      <th></th>\n",
       "      <th>Chocolate</th>\n",
       "      <th>Biscuits</th>\n",
       "      <th>Potatoes</th>\n",
       "      <th>Carrots</th>\n",
       "      <th>Chips</th>\n",
       "    </tr>\n",
       "  </thead>\n",
       "  <tbody>\n",
       "    <tr>\n",
       "      <th>Week1</th>\n",
       "      <td>30</td>\n",
       "      <td>150</td>\n",
       "      <td>45</td>\n",
       "      <td>20</td>\n",
       "      <td>67</td>\n",
       "    </tr>\n",
       "    <tr>\n",
       "      <th>week2</th>\n",
       "      <td>40</td>\n",
       "      <td>90</td>\n",
       "      <td>67</td>\n",
       "      <td>55</td>\n",
       "      <td>0</td>\n",
       "    </tr>\n",
       "    <tr>\n",
       "      <th>week3</th>\n",
       "      <td>45</td>\n",
       "      <td>153</td>\n",
       "      <td>38</td>\n",
       "      <td>85</td>\n",
       "      <td>34</td>\n",
       "    </tr>\n",
       "  </tbody>\n",
       "</table>\n",
       "</div>"
      ],
      "text/plain": [
       "       Chocolate  Biscuits  Potatoes  Carrots  Chips\n",
       "Week1         30       150        45       20     67\n",
       "week2         40        90        67       55      0\n",
       "week3         45       153        38       85     34"
      ]
     },
     "execution_count": 16,
     "metadata": {},
     "output_type": "execute_result"
    }
   ],
   "source": [
    "P_DataFrames.tail()"
   ]
  },
  {
   "cell_type": "code",
   "execution_count": 17,
   "id": "7d0413b8",
   "metadata": {},
   "outputs": [
    {
     "data": {
      "text/html": [
       "<div>\n",
       "<style scoped>\n",
       "    .dataframe tbody tr th:only-of-type {\n",
       "        vertical-align: middle;\n",
       "    }\n",
       "\n",
       "    .dataframe tbody tr th {\n",
       "        vertical-align: top;\n",
       "    }\n",
       "\n",
       "    .dataframe thead th {\n",
       "        text-align: right;\n",
       "    }\n",
       "</style>\n",
       "<table border=\"1\" class=\"dataframe\">\n",
       "  <thead>\n",
       "    <tr style=\"text-align: right;\">\n",
       "      <th></th>\n",
       "      <th>Chocolate</th>\n",
       "      <th>Biscuits</th>\n",
       "      <th>Potatoes</th>\n",
       "      <th>Carrots</th>\n",
       "      <th>Chips</th>\n",
       "    </tr>\n",
       "  </thead>\n",
       "  <tbody>\n",
       "    <tr>\n",
       "      <th>Week1</th>\n",
       "      <td>30</td>\n",
       "      <td>150</td>\n",
       "      <td>45</td>\n",
       "      <td>20</td>\n",
       "      <td>67</td>\n",
       "    </tr>\n",
       "    <tr>\n",
       "      <th>week2</th>\n",
       "      <td>40</td>\n",
       "      <td>90</td>\n",
       "      <td>67</td>\n",
       "      <td>55</td>\n",
       "      <td>0</td>\n",
       "    </tr>\n",
       "    <tr>\n",
       "      <th>week3</th>\n",
       "      <td>45</td>\n",
       "      <td>153</td>\n",
       "      <td>38</td>\n",
       "      <td>85</td>\n",
       "      <td>34</td>\n",
       "    </tr>\n",
       "  </tbody>\n",
       "</table>\n",
       "</div>"
      ],
      "text/plain": [
       "       Chocolate  Biscuits  Potatoes  Carrots  Chips\n",
       "Week1         30       150        45       20     67\n",
       "week2         40        90        67       55      0\n",
       "week3         45       153        38       85     34"
      ]
     },
     "execution_count": 17,
     "metadata": {},
     "output_type": "execute_result"
    }
   ],
   "source": [
    "P_DataFrames.tail(4)"
   ]
  },
  {
   "cell_type": "markdown",
   "id": "8744258c",
   "metadata": {},
   "source": [
    "### insert "
   ]
  },
  {
   "cell_type": "code",
   "execution_count": 18,
   "id": "ec793bac",
   "metadata": {},
   "outputs": [],
   "source": [
    "P_DataFrames.insert(3,\"papaya\",[88,67,54])"
   ]
  },
  {
   "cell_type": "code",
   "execution_count": 19,
   "id": "307280e4",
   "metadata": {},
   "outputs": [
    {
     "data": {
      "text/html": [
       "<div>\n",
       "<style scoped>\n",
       "    .dataframe tbody tr th:only-of-type {\n",
       "        vertical-align: middle;\n",
       "    }\n",
       "\n",
       "    .dataframe tbody tr th {\n",
       "        vertical-align: top;\n",
       "    }\n",
       "\n",
       "    .dataframe thead th {\n",
       "        text-align: right;\n",
       "    }\n",
       "</style>\n",
       "<table border=\"1\" class=\"dataframe\">\n",
       "  <thead>\n",
       "    <tr style=\"text-align: right;\">\n",
       "      <th></th>\n",
       "      <th>Chocolate</th>\n",
       "      <th>Biscuits</th>\n",
       "      <th>Potatoes</th>\n",
       "      <th>papaya</th>\n",
       "      <th>Carrots</th>\n",
       "      <th>Chips</th>\n",
       "    </tr>\n",
       "  </thead>\n",
       "  <tbody>\n",
       "    <tr>\n",
       "      <th>Week1</th>\n",
       "      <td>30</td>\n",
       "      <td>150</td>\n",
       "      <td>45</td>\n",
       "      <td>88</td>\n",
       "      <td>20</td>\n",
       "      <td>67</td>\n",
       "    </tr>\n",
       "    <tr>\n",
       "      <th>week2</th>\n",
       "      <td>40</td>\n",
       "      <td>90</td>\n",
       "      <td>67</td>\n",
       "      <td>67</td>\n",
       "      <td>55</td>\n",
       "      <td>0</td>\n",
       "    </tr>\n",
       "    <tr>\n",
       "      <th>week3</th>\n",
       "      <td>45</td>\n",
       "      <td>153</td>\n",
       "      <td>38</td>\n",
       "      <td>54</td>\n",
       "      <td>85</td>\n",
       "      <td>34</td>\n",
       "    </tr>\n",
       "  </tbody>\n",
       "</table>\n",
       "</div>"
      ],
      "text/plain": [
       "       Chocolate  Biscuits  Potatoes  papaya  Carrots  Chips\n",
       "Week1         30       150        45      88       20     67\n",
       "week2         40        90        67      67       55      0\n",
       "week3         45       153        38      54       85     34"
      ]
     },
     "execution_count": 19,
     "metadata": {},
     "output_type": "execute_result"
    }
   ],
   "source": [
    "P_DataFrames"
   ]
  },
  {
   "cell_type": "markdown",
   "id": "040f3302",
   "metadata": {},
   "source": [
    "### count"
   ]
  },
  {
   "cell_type": "code",
   "execution_count": 20,
   "id": "f1d01ef2",
   "metadata": {},
   "outputs": [
    {
     "data": {
      "text/plain": [
       "153    1\n",
       "90     1\n",
       "150    1\n",
       "Name: Biscuits, dtype: int64"
      ]
     },
     "execution_count": 20,
     "metadata": {},
     "output_type": "execute_result"
    }
   ],
   "source": [
    "P_DataFrames[\"Biscuits\"].value_counts()"
   ]
  },
  {
   "cell_type": "markdown",
   "id": "c8ba8419",
   "metadata": {},
   "source": [
    "### indexing"
   ]
  },
  {
   "cell_type": "code",
   "execution_count": 21,
   "id": "6808740a",
   "metadata": {},
   "outputs": [
    {
     "data": {
      "text/plain": [
       "Chocolate     30\n",
       "Biscuits     150\n",
       "Potatoes      45\n",
       "papaya        88\n",
       "Carrots       20\n",
       "Chips         67\n",
       "Name: Week1, dtype: int64"
      ]
     },
     "execution_count": 21,
     "metadata": {},
     "output_type": "execute_result"
    }
   ],
   "source": [
    "P_DataFrames.loc[\"Week1\"]"
   ]
  },
  {
   "cell_type": "code",
   "execution_count": 22,
   "id": "54012d32",
   "metadata": {},
   "outputs": [
    {
     "data": {
      "text/plain": [
       "Chocolate    40\n",
       "Biscuits     90\n",
       "Potatoes     67\n",
       "papaya       67\n",
       "Carrots      55\n",
       "Chips         0\n",
       "Name: week2, dtype: int64"
      ]
     },
     "execution_count": 22,
     "metadata": {},
     "output_type": "execute_result"
    }
   ],
   "source": [
    "P_DataFrames.iloc[1]"
   ]
  },
  {
   "cell_type": "code",
   "execution_count": 23,
   "id": "f2325093",
   "metadata": {},
   "outputs": [
    {
     "data": {
      "text/html": [
       "<div>\n",
       "<style scoped>\n",
       "    .dataframe tbody tr th:only-of-type {\n",
       "        vertical-align: middle;\n",
       "    }\n",
       "\n",
       "    .dataframe tbody tr th {\n",
       "        vertical-align: top;\n",
       "    }\n",
       "\n",
       "    .dataframe thead th {\n",
       "        text-align: right;\n",
       "    }\n",
       "</style>\n",
       "<table border=\"1\" class=\"dataframe\">\n",
       "  <thead>\n",
       "    <tr style=\"text-align: right;\">\n",
       "      <th></th>\n",
       "      <th>Chocolate</th>\n",
       "      <th>Biscuits</th>\n",
       "      <th>Potatoes</th>\n",
       "      <th>papaya</th>\n",
       "      <th>Carrots</th>\n",
       "      <th>Chips</th>\n",
       "    </tr>\n",
       "  </thead>\n",
       "  <tbody>\n",
       "    <tr>\n",
       "      <th>Week1</th>\n",
       "      <td>30</td>\n",
       "      <td>150</td>\n",
       "      <td>45</td>\n",
       "      <td>88</td>\n",
       "      <td>20</td>\n",
       "      <td>67</td>\n",
       "    </tr>\n",
       "    <tr>\n",
       "      <th>week2</th>\n",
       "      <td>40</td>\n",
       "      <td>90</td>\n",
       "      <td>67</td>\n",
       "      <td>67</td>\n",
       "      <td>55</td>\n",
       "      <td>0</td>\n",
       "    </tr>\n",
       "    <tr>\n",
       "      <th>week3</th>\n",
       "      <td>45</td>\n",
       "      <td>153</td>\n",
       "      <td>38</td>\n",
       "      <td>54</td>\n",
       "      <td>85</td>\n",
       "      <td>34</td>\n",
       "    </tr>\n",
       "  </tbody>\n",
       "</table>\n",
       "</div>"
      ],
      "text/plain": [
       "       Chocolate  Biscuits  Potatoes  papaya  Carrots  Chips\n",
       "Week1         30       150        45      88       20     67\n",
       "week2         40        90        67      67       55      0\n",
       "week3         45       153        38      54       85     34"
      ]
     },
     "execution_count": 23,
     "metadata": {},
     "output_type": "execute_result"
    }
   ],
   "source": [
    "P_DataFrames"
   ]
  },
  {
   "cell_type": "markdown",
   "id": "b575d72e",
   "metadata": {},
   "source": [
    "### operators"
   ]
  },
  {
   "cell_type": "code",
   "execution_count": 24,
   "id": "cc3b0034",
   "metadata": {},
   "outputs": [
    {
     "data": {
      "text/html": [
       "<div>\n",
       "<style scoped>\n",
       "    .dataframe tbody tr th:only-of-type {\n",
       "        vertical-align: middle;\n",
       "    }\n",
       "\n",
       "    .dataframe tbody tr th {\n",
       "        vertical-align: top;\n",
       "    }\n",
       "\n",
       "    .dataframe thead th {\n",
       "        text-align: right;\n",
       "    }\n",
       "</style>\n",
       "<table border=\"1\" class=\"dataframe\">\n",
       "  <thead>\n",
       "    <tr style=\"text-align: right;\">\n",
       "      <th></th>\n",
       "      <th>Chocolate</th>\n",
       "      <th>Biscuits</th>\n",
       "      <th>Potatoes</th>\n",
       "      <th>papaya</th>\n",
       "      <th>Carrots</th>\n",
       "      <th>Chips</th>\n",
       "    </tr>\n",
       "  </thead>\n",
       "  <tbody>\n",
       "    <tr>\n",
       "      <th>Week1</th>\n",
       "      <td>NaN</td>\n",
       "      <td>150</td>\n",
       "      <td>NaN</td>\n",
       "      <td>88</td>\n",
       "      <td>NaN</td>\n",
       "      <td>67.0</td>\n",
       "    </tr>\n",
       "    <tr>\n",
       "      <th>week2</th>\n",
       "      <td>NaN</td>\n",
       "      <td>90</td>\n",
       "      <td>67.0</td>\n",
       "      <td>67</td>\n",
       "      <td>55.0</td>\n",
       "      <td>NaN</td>\n",
       "    </tr>\n",
       "    <tr>\n",
       "      <th>week3</th>\n",
       "      <td>NaN</td>\n",
       "      <td>153</td>\n",
       "      <td>NaN</td>\n",
       "      <td>54</td>\n",
       "      <td>85.0</td>\n",
       "      <td>NaN</td>\n",
       "    </tr>\n",
       "  </tbody>\n",
       "</table>\n",
       "</div>"
      ],
      "text/plain": [
       "       Chocolate  Biscuits  Potatoes  papaya  Carrots  Chips\n",
       "Week1        NaN       150       NaN      88      NaN   67.0\n",
       "week2        NaN        90      67.0      67     55.0    NaN\n",
       "week3        NaN       153       NaN      54     85.0    NaN"
      ]
     },
     "execution_count": 24,
     "metadata": {},
     "output_type": "execute_result"
    }
   ],
   "source": [
    "P_DataFrames[P_DataFrames >= 50]"
   ]
  },
  {
   "cell_type": "code",
   "execution_count": 25,
   "id": "825ee712",
   "metadata": {},
   "outputs": [
    {
     "data": {
      "text/html": [
       "<div>\n",
       "<style scoped>\n",
       "    .dataframe tbody tr th:only-of-type {\n",
       "        vertical-align: middle;\n",
       "    }\n",
       "\n",
       "    .dataframe tbody tr th {\n",
       "        vertical-align: top;\n",
       "    }\n",
       "\n",
       "    .dataframe thead th {\n",
       "        text-align: right;\n",
       "    }\n",
       "</style>\n",
       "<table border=\"1\" class=\"dataframe\">\n",
       "  <thead>\n",
       "    <tr style=\"text-align: right;\">\n",
       "      <th></th>\n",
       "      <th>Chocolate</th>\n",
       "      <th>Biscuits</th>\n",
       "      <th>Potatoes</th>\n",
       "      <th>papaya</th>\n",
       "      <th>Carrots</th>\n",
       "      <th>Chips</th>\n",
       "    </tr>\n",
       "  </thead>\n",
       "  <tbody>\n",
       "    <tr>\n",
       "      <th>Week1</th>\n",
       "      <td>30</td>\n",
       "      <td>NaN</td>\n",
       "      <td>45.0</td>\n",
       "      <td>NaN</td>\n",
       "      <td>20.0</td>\n",
       "      <td>NaN</td>\n",
       "    </tr>\n",
       "    <tr>\n",
       "      <th>week2</th>\n",
       "      <td>40</td>\n",
       "      <td>NaN</td>\n",
       "      <td>NaN</td>\n",
       "      <td>NaN</td>\n",
       "      <td>NaN</td>\n",
       "      <td>0.0</td>\n",
       "    </tr>\n",
       "    <tr>\n",
       "      <th>week3</th>\n",
       "      <td>45</td>\n",
       "      <td>NaN</td>\n",
       "      <td>38.0</td>\n",
       "      <td>NaN</td>\n",
       "      <td>NaN</td>\n",
       "      <td>34.0</td>\n",
       "    </tr>\n",
       "  </tbody>\n",
       "</table>\n",
       "</div>"
      ],
      "text/plain": [
       "       Chocolate  Biscuits  Potatoes  papaya  Carrots  Chips\n",
       "Week1         30       NaN      45.0     NaN     20.0    NaN\n",
       "week2         40       NaN       NaN     NaN      NaN    0.0\n",
       "week3         45       NaN      38.0     NaN      NaN   34.0"
      ]
     },
     "execution_count": 25,
     "metadata": {},
     "output_type": "execute_result"
    }
   ],
   "source": [
    "P_DataFrames[(P_DataFrames>=0)&(P_DataFrames<50)]"
   ]
  },
  {
   "cell_type": "markdown",
   "id": "9eb08340",
   "metadata": {},
   "source": [
    "### decribe()"
   ]
  },
  {
   "cell_type": "code",
   "execution_count": 26,
   "id": "ee4e5b4b",
   "metadata": {},
   "outputs": [
    {
     "data": {
      "text/html": [
       "<div>\n",
       "<style scoped>\n",
       "    .dataframe tbody tr th:only-of-type {\n",
       "        vertical-align: middle;\n",
       "    }\n",
       "\n",
       "    .dataframe tbody tr th {\n",
       "        vertical-align: top;\n",
       "    }\n",
       "\n",
       "    .dataframe thead th {\n",
       "        text-align: right;\n",
       "    }\n",
       "</style>\n",
       "<table border=\"1\" class=\"dataframe\">\n",
       "  <thead>\n",
       "    <tr style=\"text-align: right;\">\n",
       "      <th></th>\n",
       "      <th>Chocolate</th>\n",
       "      <th>Biscuits</th>\n",
       "      <th>Potatoes</th>\n",
       "      <th>papaya</th>\n",
       "      <th>Carrots</th>\n",
       "      <th>Chips</th>\n",
       "    </tr>\n",
       "  </thead>\n",
       "  <tbody>\n",
       "    <tr>\n",
       "      <th>count</th>\n",
       "      <td>3.000000</td>\n",
       "      <td>3.000000</td>\n",
       "      <td>3.000000</td>\n",
       "      <td>3.000000</td>\n",
       "      <td>3.000000</td>\n",
       "      <td>3.000000</td>\n",
       "    </tr>\n",
       "    <tr>\n",
       "      <th>mean</th>\n",
       "      <td>38.333333</td>\n",
       "      <td>131.000000</td>\n",
       "      <td>50.000000</td>\n",
       "      <td>69.666667</td>\n",
       "      <td>53.333333</td>\n",
       "      <td>33.666667</td>\n",
       "    </tr>\n",
       "    <tr>\n",
       "      <th>std</th>\n",
       "      <td>7.637626</td>\n",
       "      <td>35.538711</td>\n",
       "      <td>15.132746</td>\n",
       "      <td>17.156146</td>\n",
       "      <td>32.532035</td>\n",
       "      <td>33.501244</td>\n",
       "    </tr>\n",
       "    <tr>\n",
       "      <th>min</th>\n",
       "      <td>30.000000</td>\n",
       "      <td>90.000000</td>\n",
       "      <td>38.000000</td>\n",
       "      <td>54.000000</td>\n",
       "      <td>20.000000</td>\n",
       "      <td>0.000000</td>\n",
       "    </tr>\n",
       "    <tr>\n",
       "      <th>25%</th>\n",
       "      <td>35.000000</td>\n",
       "      <td>120.000000</td>\n",
       "      <td>41.500000</td>\n",
       "      <td>60.500000</td>\n",
       "      <td>37.500000</td>\n",
       "      <td>17.000000</td>\n",
       "    </tr>\n",
       "    <tr>\n",
       "      <th>50%</th>\n",
       "      <td>40.000000</td>\n",
       "      <td>150.000000</td>\n",
       "      <td>45.000000</td>\n",
       "      <td>67.000000</td>\n",
       "      <td>55.000000</td>\n",
       "      <td>34.000000</td>\n",
       "    </tr>\n",
       "    <tr>\n",
       "      <th>75%</th>\n",
       "      <td>42.500000</td>\n",
       "      <td>151.500000</td>\n",
       "      <td>56.000000</td>\n",
       "      <td>77.500000</td>\n",
       "      <td>70.000000</td>\n",
       "      <td>50.500000</td>\n",
       "    </tr>\n",
       "    <tr>\n",
       "      <th>max</th>\n",
       "      <td>45.000000</td>\n",
       "      <td>153.000000</td>\n",
       "      <td>67.000000</td>\n",
       "      <td>88.000000</td>\n",
       "      <td>85.000000</td>\n",
       "      <td>67.000000</td>\n",
       "    </tr>\n",
       "  </tbody>\n",
       "</table>\n",
       "</div>"
      ],
      "text/plain": [
       "       Chocolate    Biscuits   Potatoes     papaya    Carrots      Chips\n",
       "count   3.000000    3.000000   3.000000   3.000000   3.000000   3.000000\n",
       "mean   38.333333  131.000000  50.000000  69.666667  53.333333  33.666667\n",
       "std     7.637626   35.538711  15.132746  17.156146  32.532035  33.501244\n",
       "min    30.000000   90.000000  38.000000  54.000000  20.000000   0.000000\n",
       "25%    35.000000  120.000000  41.500000  60.500000  37.500000  17.000000\n",
       "50%    40.000000  150.000000  45.000000  67.000000  55.000000  34.000000\n",
       "75%    42.500000  151.500000  56.000000  77.500000  70.000000  50.500000\n",
       "max    45.000000  153.000000  67.000000  88.000000  85.000000  67.000000"
      ]
     },
     "execution_count": 26,
     "metadata": {},
     "output_type": "execute_result"
    }
   ],
   "source": [
    "P_DataFrames.describe()"
   ]
  },
  {
   "cell_type": "markdown",
   "id": "16298636",
   "metadata": {},
   "source": [
    "### info()"
   ]
  },
  {
   "cell_type": "code",
   "execution_count": 35,
   "id": "ae3969a2",
   "metadata": {},
   "outputs": [
    {
     "name": "stdout",
     "output_type": "stream",
     "text": [
      "<class 'pandas.core.frame.DataFrame'>\n",
      "Index: 3 entries, Week1 to week3\n",
      "Data columns (total 5 columns):\n",
      " #   Column     Non-Null Count  Dtype\n",
      "---  ------     --------------  -----\n",
      " 0   Chocolate  3 non-null      int64\n",
      " 1   Biscuits   3 non-null      int64\n",
      " 2   Potatoes   3 non-null      int64\n",
      " 3   Carrots    3 non-null      int64\n",
      " 4   Chips      3 non-null      int64\n",
      "dtypes: int64(5)\n",
      "memory usage: 144.0+ bytes\n"
     ]
    }
   ],
   "source": [
    "P_DataFrames.info()"
   ]
  },
  {
   "cell_type": "markdown",
   "id": "46c3791d",
   "metadata": {},
   "source": []
  },
  {
   "cell_type": "code",
   "execution_count": null,
   "id": "b921033c",
   "metadata": {},
   "outputs": [],
   "source": []
  },
  {
   "cell_type": "markdown",
   "id": "29f41223",
   "metadata": {},
   "source": [
    "### adding column"
   ]
  },
  {
   "cell_type": "code",
   "execution_count": 28,
   "id": "90f8c866",
   "metadata": {},
   "outputs": [],
   "source": [
    "P_DataFrames[\"Onion\"]=[36,45,78]"
   ]
  },
  {
   "cell_type": "code",
   "execution_count": 29,
   "id": "47c380be",
   "metadata": {},
   "outputs": [
    {
     "data": {
      "text/html": [
       "<div>\n",
       "<style scoped>\n",
       "    .dataframe tbody tr th:only-of-type {\n",
       "        vertical-align: middle;\n",
       "    }\n",
       "\n",
       "    .dataframe tbody tr th {\n",
       "        vertical-align: top;\n",
       "    }\n",
       "\n",
       "    .dataframe thead th {\n",
       "        text-align: right;\n",
       "    }\n",
       "</style>\n",
       "<table border=\"1\" class=\"dataframe\">\n",
       "  <thead>\n",
       "    <tr style=\"text-align: right;\">\n",
       "      <th></th>\n",
       "      <th>Chocolate</th>\n",
       "      <th>Biscuits</th>\n",
       "      <th>Potatoes</th>\n",
       "      <th>papaya</th>\n",
       "      <th>Carrots</th>\n",
       "      <th>Chips</th>\n",
       "      <th>Onion</th>\n",
       "    </tr>\n",
       "  </thead>\n",
       "  <tbody>\n",
       "    <tr>\n",
       "      <th>Week1</th>\n",
       "      <td>30</td>\n",
       "      <td>150</td>\n",
       "      <td>45</td>\n",
       "      <td>88</td>\n",
       "      <td>20</td>\n",
       "      <td>67</td>\n",
       "      <td>36</td>\n",
       "    </tr>\n",
       "    <tr>\n",
       "      <th>week2</th>\n",
       "      <td>40</td>\n",
       "      <td>90</td>\n",
       "      <td>67</td>\n",
       "      <td>67</td>\n",
       "      <td>55</td>\n",
       "      <td>0</td>\n",
       "      <td>45</td>\n",
       "    </tr>\n",
       "    <tr>\n",
       "      <th>week3</th>\n",
       "      <td>45</td>\n",
       "      <td>153</td>\n",
       "      <td>38</td>\n",
       "      <td>54</td>\n",
       "      <td>85</td>\n",
       "      <td>34</td>\n",
       "      <td>78</td>\n",
       "    </tr>\n",
       "  </tbody>\n",
       "</table>\n",
       "</div>"
      ],
      "text/plain": [
       "       Chocolate  Biscuits  Potatoes  papaya  Carrots  Chips  Onion\n",
       "Week1         30       150        45      88       20     67     36\n",
       "week2         40        90        67      67       55      0     45\n",
       "week3         45       153        38      54       85     34     78"
      ]
     },
     "execution_count": 29,
     "metadata": {},
     "output_type": "execute_result"
    }
   ],
   "source": [
    "P_DataFrames"
   ]
  },
  {
   "cell_type": "markdown",
   "id": "6b8756a4",
   "metadata": {},
   "source": [
    "### adding new row (append)"
   ]
  },
  {
   "cell_type": "code",
   "execution_count": 30,
   "id": "e47fea52",
   "metadata": {},
   "outputs": [],
   "source": [
    "New_Row = {\"Chocolate\":67,\"Biscuits\":56,\"Potatoes\":89,\"Carrots\":54,\"Chips\":98,\"Onion\":87}"
   ]
  },
  {
   "cell_type": "code",
   "execution_count": 31,
   "id": "b2d88418",
   "metadata": {},
   "outputs": [
    {
     "data": {
      "text/html": [
       "<div>\n",
       "<style scoped>\n",
       "    .dataframe tbody tr th:only-of-type {\n",
       "        vertical-align: middle;\n",
       "    }\n",
       "\n",
       "    .dataframe tbody tr th {\n",
       "        vertical-align: top;\n",
       "    }\n",
       "\n",
       "    .dataframe thead th {\n",
       "        text-align: right;\n",
       "    }\n",
       "</style>\n",
       "<table border=\"1\" class=\"dataframe\">\n",
       "  <thead>\n",
       "    <tr style=\"text-align: right;\">\n",
       "      <th></th>\n",
       "      <th>Chocolate</th>\n",
       "      <th>Biscuits</th>\n",
       "      <th>Potatoes</th>\n",
       "      <th>papaya</th>\n",
       "      <th>Carrots</th>\n",
       "      <th>Chips</th>\n",
       "      <th>Onion</th>\n",
       "    </tr>\n",
       "  </thead>\n",
       "  <tbody>\n",
       "    <tr>\n",
       "      <th>0</th>\n",
       "      <td>30.0</td>\n",
       "      <td>150.0</td>\n",
       "      <td>45.0</td>\n",
       "      <td>88.0</td>\n",
       "      <td>20.0</td>\n",
       "      <td>67.0</td>\n",
       "      <td>36.0</td>\n",
       "    </tr>\n",
       "    <tr>\n",
       "      <th>1</th>\n",
       "      <td>40.0</td>\n",
       "      <td>90.0</td>\n",
       "      <td>67.0</td>\n",
       "      <td>67.0</td>\n",
       "      <td>55.0</td>\n",
       "      <td>0.0</td>\n",
       "      <td>45.0</td>\n",
       "    </tr>\n",
       "    <tr>\n",
       "      <th>2</th>\n",
       "      <td>45.0</td>\n",
       "      <td>153.0</td>\n",
       "      <td>38.0</td>\n",
       "      <td>54.0</td>\n",
       "      <td>85.0</td>\n",
       "      <td>34.0</td>\n",
       "      <td>78.0</td>\n",
       "    </tr>\n",
       "    <tr>\n",
       "      <th>3</th>\n",
       "      <td>67.0</td>\n",
       "      <td>56.0</td>\n",
       "      <td>89.0</td>\n",
       "      <td>NaN</td>\n",
       "      <td>54.0</td>\n",
       "      <td>98.0</td>\n",
       "      <td>87.0</td>\n",
       "    </tr>\n",
       "  </tbody>\n",
       "</table>\n",
       "</div>"
      ],
      "text/plain": [
       "   Chocolate  Biscuits  Potatoes  papaya  Carrots  Chips  Onion\n",
       "0       30.0     150.0      45.0    88.0     20.0   67.0   36.0\n",
       "1       40.0      90.0      67.0    67.0     55.0    0.0   45.0\n",
       "2       45.0     153.0      38.0    54.0     85.0   34.0   78.0\n",
       "3       67.0      56.0      89.0     NaN     54.0   98.0   87.0"
      ]
     },
     "execution_count": 31,
     "metadata": {},
     "output_type": "execute_result"
    }
   ],
   "source": [
    "P_DataFrames.append(New_Row, ignore_index= True)"
   ]
  },
  {
   "cell_type": "code",
   "execution_count": 32,
   "id": "e27c855b",
   "metadata": {},
   "outputs": [],
   "source": [
    "P_DataFrames = pd.DataFrame(P_Dict_Sales, index =[\"Week1\",\"week2\",\"week3\"])"
   ]
  },
  {
   "cell_type": "code",
   "execution_count": 33,
   "id": "f3e526ee",
   "metadata": {},
   "outputs": [
    {
     "data": {
      "text/html": [
       "<div>\n",
       "<style scoped>\n",
       "    .dataframe tbody tr th:only-of-type {\n",
       "        vertical-align: middle;\n",
       "    }\n",
       "\n",
       "    .dataframe tbody tr th {\n",
       "        vertical-align: top;\n",
       "    }\n",
       "\n",
       "    .dataframe thead th {\n",
       "        text-align: right;\n",
       "    }\n",
       "</style>\n",
       "<table border=\"1\" class=\"dataframe\">\n",
       "  <thead>\n",
       "    <tr style=\"text-align: right;\">\n",
       "      <th></th>\n",
       "      <th>Chocolate</th>\n",
       "      <th>Biscuits</th>\n",
       "      <th>Potatoes</th>\n",
       "      <th>Carrots</th>\n",
       "      <th>Chips</th>\n",
       "    </tr>\n",
       "  </thead>\n",
       "  <tbody>\n",
       "    <tr>\n",
       "      <th>Week1</th>\n",
       "      <td>30</td>\n",
       "      <td>150</td>\n",
       "      <td>45</td>\n",
       "      <td>20</td>\n",
       "      <td>67</td>\n",
       "    </tr>\n",
       "    <tr>\n",
       "      <th>week2</th>\n",
       "      <td>40</td>\n",
       "      <td>90</td>\n",
       "      <td>67</td>\n",
       "      <td>55</td>\n",
       "      <td>0</td>\n",
       "    </tr>\n",
       "    <tr>\n",
       "      <th>week3</th>\n",
       "      <td>45</td>\n",
       "      <td>153</td>\n",
       "      <td>38</td>\n",
       "      <td>85</td>\n",
       "      <td>34</td>\n",
       "    </tr>\n",
       "  </tbody>\n",
       "</table>\n",
       "</div>"
      ],
      "text/plain": [
       "       Chocolate  Biscuits  Potatoes  Carrots  Chips\n",
       "Week1         30       150        45       20     67\n",
       "week2         40        90        67       55      0\n",
       "week3         45       153        38       85     34"
      ]
     },
     "execution_count": 33,
     "metadata": {},
     "output_type": "execute_result"
    }
   ],
   "source": [
    "P_DataFrames"
   ]
  },
  {
   "cell_type": "code",
   "execution_count": null,
   "id": "fb22d92b",
   "metadata": {},
   "outputs": [],
   "source": []
  }
 ],
 "metadata": {
  "kernelspec": {
   "display_name": "Python 3",
   "language": "python",
   "name": "python3"
  },
  "language_info": {
   "codemirror_mode": {
    "name": "ipython",
    "version": 3
   },
   "file_extension": ".py",
   "mimetype": "text/x-python",
   "name": "python",
   "nbconvert_exporter": "python",
   "pygments_lexer": "ipython3",
   "version": "3.8.8"
  }
 },
 "nbformat": 4,
 "nbformat_minor": 5
}
