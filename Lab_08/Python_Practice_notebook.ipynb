{
 "cells": [
  {
   "cell_type": "markdown",
   "id": "f78a9ddd",
   "metadata": {},
   "source": [
    "# Python Basic Codes"
   ]
  },
  {
   "cell_type": "code",
   "execution_count": 1,
   "id": "f506e8a9",
   "metadata": {},
   "outputs": [],
   "source": [
    "a = 33"
   ]
  },
  {
   "cell_type": "code",
   "execution_count": 2,
   "id": "404348a1",
   "metadata": {},
   "outputs": [
    {
     "data": {
      "text/plain": [
       "33"
      ]
     },
     "execution_count": 2,
     "metadata": {},
     "output_type": "execute_result"
    }
   ],
   "source": [
    "a"
   ]
  },
  {
   "cell_type": "code",
   "execution_count": 3,
   "id": "ba52fd69",
   "metadata": {},
   "outputs": [
    {
     "data": {
      "text/plain": [
       "'Hello World'"
      ]
     },
     "execution_count": 3,
     "metadata": {},
     "output_type": "execute_result"
    }
   ],
   "source": [
    "\"Hello \" + \"World\""
   ]
  },
  {
   "cell_type": "code",
   "execution_count": 8,
   "id": "1213f882",
   "metadata": {},
   "outputs": [],
   "source": [
    "b = \"python \""
   ]
  },
  {
   "cell_type": "code",
   "execution_count": 9,
   "id": "cee0b368",
   "metadata": {},
   "outputs": [
    {
     "data": {
      "text/plain": [
       "'python python '"
      ]
     },
     "execution_count": 9,
     "metadata": {},
     "output_type": "execute_result"
    }
   ],
   "source": [
    "b+b"
   ]
  },
  {
   "cell_type": "code",
   "execution_count": 10,
   "id": "caf7346a",
   "metadata": {},
   "outputs": [
    {
     "data": {
      "text/plain": [
       "'python python python '"
      ]
     },
     "execution_count": 10,
     "metadata": {},
     "output_type": "execute_result"
    }
   ],
   "source": [
    "b*3"
   ]
  },
  {
   "cell_type": "code",
   "execution_count": 11,
   "id": "37f266ee",
   "metadata": {},
   "outputs": [],
   "source": [
    "x = [1,2,4,5]\n",
    "y = [4.5,3.2,2.1,1.9]\n",
    "z = [\"apple\",\"mangoes\",\"banana\"]"
   ]
  },
  {
   "cell_type": "code",
   "execution_count": 12,
   "id": "dbbfce62",
   "metadata": {},
   "outputs": [
    {
     "data": {
      "text/plain": [
       "[[1, 2, 4, 5], [4.5, 3.2, 2.1, 1.9], ['apple', 'mangoes', 'banana']]"
      ]
     },
     "execution_count": 12,
     "metadata": {},
     "output_type": "execute_result"
    }
   ],
   "source": [
    "[x,y,z]"
   ]
  },
  {
   "cell_type": "code",
   "execution_count": 13,
   "id": "115ebce9",
   "metadata": {},
   "outputs": [],
   "source": [
    "c = 73"
   ]
  },
  {
   "cell_type": "code",
   "execution_count": 15,
   "id": "c1e7f5bc",
   "metadata": {},
   "outputs": [
    {
     "data": {
      "text/plain": [
       "False"
      ]
     },
     "execution_count": 15,
     "metadata": {},
     "output_type": "execute_result"
    }
   ],
   "source": [
    "c == 72"
   ]
  },
  {
   "cell_type": "code",
   "execution_count": 16,
   "id": "190ecda2",
   "metadata": {},
   "outputs": [],
   "source": [
    "list1 = [3,6,7,4,3,55,6]"
   ]
  },
  {
   "cell_type": "code",
   "execution_count": 17,
   "id": "5217ce82",
   "metadata": {},
   "outputs": [
    {
     "data": {
      "text/plain": [
       "3"
      ]
     },
     "execution_count": 17,
     "metadata": {},
     "output_type": "execute_result"
    }
   ],
   "source": [
    "list1[0]"
   ]
  },
  {
   "cell_type": "code",
   "execution_count": 18,
   "id": "7628e9f8",
   "metadata": {},
   "outputs": [
    {
     "data": {
      "text/plain": [
       "3"
      ]
     },
     "execution_count": 18,
     "metadata": {},
     "output_type": "execute_result"
    }
   ],
   "source": [
    "list1[4]"
   ]
  },
  {
   "cell_type": "code",
   "execution_count": 19,
   "id": "4f1b21cc",
   "metadata": {},
   "outputs": [
    {
     "data": {
      "text/plain": [
       "6"
      ]
     },
     "execution_count": 19,
     "metadata": {},
     "output_type": "execute_result"
    }
   ],
   "source": [
    "list1[-1]"
   ]
  },
  {
   "cell_type": "code",
   "execution_count": 20,
   "id": "cbb17962",
   "metadata": {},
   "outputs": [
    {
     "data": {
      "text/plain": [
       "[4, 3, 55, 6]"
      ]
     },
     "execution_count": 20,
     "metadata": {},
     "output_type": "execute_result"
    }
   ],
   "source": [
    "list1[3:]"
   ]
  },
  {
   "cell_type": "code",
   "execution_count": 22,
   "id": "440afdbc",
   "metadata": {},
   "outputs": [
    {
     "data": {
      "text/plain": [
       "[6, 55, 3, 4, 7, 6, 3]"
      ]
     },
     "execution_count": 22,
     "metadata": {},
     "output_type": "execute_result"
    }
   ],
   "source": [
    "list1[::-1]"
   ]
  },
  {
   "cell_type": "code",
   "execution_count": 24,
   "id": "4336b668",
   "metadata": {},
   "outputs": [
    {
     "name": "stdout",
     "output_type": "stream",
     "text": [
      "The first element in the list is 3\n"
     ]
    }
   ],
   "source": [
    "if list1[0] == 3:\n",
    "    print(\"The first element in the list is 3\")\n",
    "else:\n",
    "    print(\"The first element in the list is not 3\")"
   ]
  },
  {
   "cell_type": "code",
   "execution_count": 25,
   "id": "258629c8",
   "metadata": {},
   "outputs": [
    {
     "name": "stdout",
     "output_type": "stream",
     "text": [
      "The sum of squares of the elements in the list is =  3180\n"
     ]
    }
   ],
   "source": [
    "sum_of_squares = 0\n",
    "for i in list1:\n",
    "    sum_of_squares = sum_of_squares + (i**2)\n",
    "print(\"The sum of squares of the elements in the list is = \",sum_of_squares)"
   ]
  },
  {
   "cell_type": "code",
   "execution_count": 3,
   "id": "e7526a70",
   "metadata": {},
   "outputs": [],
   "source": [
    "age = [42,57,15,14,22,74,66]"
   ]
  },
  {
   "cell_type": "code",
   "execution_count": 8,
   "id": "c3e2d7eb",
   "metadata": {},
   "outputs": [
    {
     "name": "stdout",
     "output_type": "stream",
     "text": [
      "42\n",
      "Adult\n",
      "---------------\n",
      "57\n",
      "Adult\n",
      "---------------\n",
      "15\n",
      "Not adult\n",
      "---------------\n",
      "14\n",
      "Not adult\n",
      "---------------\n",
      "22\n",
      "Adult\n",
      "---------------\n",
      "74\n",
      "Adult\n",
      "---------------\n",
      "66\n",
      "Adult\n",
      "---------------\n"
     ]
    }
   ],
   "source": [
    "for a in age:\n",
    "    print(a)\n",
    "    if a >= 18:\n",
    "        print(\"Adult\")\n",
    "    else:\n",
    "        print(\"Not adult\")\n",
    "    print(\"---------------\")"
   ]
  },
  {
   "cell_type": "code",
   "execution_count": 2,
   "id": "1550c2cd",
   "metadata": {},
   "outputs": [
    {
     "name": "stdout",
     "output_type": "stream",
     "text": [
      "1\n",
      "4\n",
      "7\n",
      "10\n",
      "13\n",
      "16\n",
      "19\n",
      "22\n",
      "25\n",
      "28\n"
     ]
    }
   ],
   "source": [
    "for i in range(1,30,3):\n",
    "    print(i)"
   ]
  },
  {
   "cell_type": "code",
   "execution_count": 5,
   "id": "3053ccb2",
   "metadata": {},
   "outputs": [
    {
     "data": {
      "text/plain": [
       "61"
      ]
     },
     "execution_count": 5,
     "metadata": {},
     "output_type": "execute_result"
    }
   ],
   "source": [
    "def sq_sum(a,b):\n",
    "    return (a**2)+(b**2)\n",
    "x = 5\n",
    "y = 6\n",
    "sq_sum(x,y)"
   ]
  },
  {
   "cell_type": "code",
   "execution_count": 15,
   "id": "033907c9",
   "metadata": {},
   "outputs": [
    {
     "name": "stdout",
     "output_type": "stream",
     "text": [
      "2, 5, 10, 17, 5, 8, 13, 20, 10, 13, 18, 25, 17, 20, 25, 32, "
     ]
    }
   ],
   "source": [
    "list1=[]\n",
    "for i in range(1,5):\n",
    "    for j in range(1,5):\n",
    "        n = sq_sum(i,j)\n",
    "        list1.append(n)\n",
    "        print(n,end=', ')"
   ]
  },
  {
   "cell_type": "markdown",
   "id": "48d9ab7c",
   "metadata": {},
   "source": [
    "## Python for DS"
   ]
  },
  {
   "cell_type": "code",
   "execution_count": 14,
   "id": "b1486793",
   "metadata": {},
   "outputs": [],
   "source": [
    "import pandas as pd\n",
    "import numpy as np"
   ]
  },
  {
   "cell_type": "code",
   "execution_count": 16,
   "id": "74043a24",
   "metadata": {},
   "outputs": [
    {
     "data": {
      "text/plain": [
       "[2, 5, 10, 17, 5, 8, 13, 20, 10, 13, 18, 25, 17, 20, 25, 32]"
      ]
     },
     "execution_count": 16,
     "metadata": {},
     "output_type": "execute_result"
    }
   ],
   "source": [
    "list1"
   ]
  },
  {
   "cell_type": "code",
   "execution_count": 17,
   "id": "785891d4",
   "metadata": {},
   "outputs": [],
   "source": [
    "s1 = pd.Series(list1)"
   ]
  },
  {
   "cell_type": "code",
   "execution_count": 18,
   "id": "e10f5d6d",
   "metadata": {},
   "outputs": [
    {
     "data": {
      "text/plain": [
       "0      2\n",
       "1      5\n",
       "2     10\n",
       "3     17\n",
       "4      5\n",
       "5      8\n",
       "6     13\n",
       "7     20\n",
       "8     10\n",
       "9     13\n",
       "10    18\n",
       "11    25\n",
       "12    17\n",
       "13    20\n",
       "14    25\n",
       "15    32\n",
       "dtype: int64"
      ]
     },
     "execution_count": 18,
     "metadata": {},
     "output_type": "execute_result"
    }
   ],
   "source": [
    "s1"
   ]
  },
  {
   "cell_type": "code",
   "execution_count": 19,
   "id": "8ff89918",
   "metadata": {},
   "outputs": [
    {
     "data": {
      "text/plain": [
       "RangeIndex(start=0, stop=16, step=1)"
      ]
     },
     "execution_count": 19,
     "metadata": {},
     "output_type": "execute_result"
    }
   ],
   "source": [
    "s1.index"
   ]
  },
  {
   "cell_type": "code",
   "execution_count": 20,
   "id": "47d2b793",
   "metadata": {},
   "outputs": [
    {
     "data": {
      "text/plain": [
       "array([ 2,  5, 10, 17,  5,  8, 13, 20, 10, 13, 18, 25, 17, 20, 25, 32],\n",
       "      dtype=int64)"
      ]
     },
     "execution_count": 20,
     "metadata": {},
     "output_type": "execute_result"
    }
   ],
   "source": [
    "s1.values"
   ]
  },
  {
   "cell_type": "code",
   "execution_count": 22,
   "id": "2a0ac8cf",
   "metadata": {},
   "outputs": [
    {
     "data": {
      "text/plain": [
       "9     13\n",
       "10    18\n",
       "11    25\n",
       "12    17\n",
       "13    20\n",
       "14    25\n",
       "15    32\n",
       "dtype: int64"
      ]
     },
     "execution_count": 22,
     "metadata": {},
     "output_type": "execute_result"
    }
   ],
   "source": [
    "s1[9:]"
   ]
  },
  {
   "cell_type": "code",
   "execution_count": 23,
   "id": "ec73d46c",
   "metadata": {},
   "outputs": [
    {
     "data": {
      "text/plain": [
       "3    17\n",
       "4     5\n",
       "5     8\n",
       "dtype: int64"
      ]
     },
     "execution_count": 23,
     "metadata": {},
     "output_type": "execute_result"
    }
   ],
   "source": [
    "s1[3:6]"
   ]
  },
  {
   "cell_type": "code",
   "execution_count": 24,
   "id": "ad91c83c",
   "metadata": {},
   "outputs": [
    {
     "data": {
      "text/plain": [
       "15    32\n",
       "14    25\n",
       "13    20\n",
       "12    17\n",
       "11    25\n",
       "10    18\n",
       "9     13\n",
       "8     10\n",
       "7     20\n",
       "6     13\n",
       "5      8\n",
       "4      5\n",
       "3     17\n",
       "2     10\n",
       "1      5\n",
       "0      2\n",
       "dtype: int64"
      ]
     },
     "execution_count": 24,
     "metadata": {},
     "output_type": "execute_result"
    }
   ],
   "source": [
    "s1[::-1]"
   ]
  },
  {
   "cell_type": "code",
   "execution_count": 25,
   "id": "9fdd637b",
   "metadata": {},
   "outputs": [
    {
     "data": {
      "text/plain": [
       "0     2\n",
       "1     5\n",
       "2    10\n",
       "3    17\n",
       "4     5\n",
       "5     8\n",
       "6    13\n",
       "7    20\n",
       "8    10\n",
       "dtype: int64"
      ]
     },
     "execution_count": 25,
     "metadata": {},
     "output_type": "execute_result"
    }
   ],
   "source": [
    "s1[:9]"
   ]
  },
  {
   "cell_type": "code",
   "execution_count": 33,
   "id": "be5adae4",
   "metadata": {},
   "outputs": [],
   "source": [
    "dset = {'Name':['Rahul','Daniel','Rohit','Michael'],'Age':[21,14,19,30]}"
   ]
  },
  {
   "cell_type": "code",
   "execution_count": 34,
   "id": "9b77452d",
   "metadata": {},
   "outputs": [],
   "source": [
    "df = pd.DataFrame(data = dset)"
   ]
  },
  {
   "cell_type": "code",
   "execution_count": 35,
   "id": "054a7915",
   "metadata": {},
   "outputs": [
    {
     "data": {
      "text/html": [
       "<div>\n",
       "<style scoped>\n",
       "    .dataframe tbody tr th:only-of-type {\n",
       "        vertical-align: middle;\n",
       "    }\n",
       "\n",
       "    .dataframe tbody tr th {\n",
       "        vertical-align: top;\n",
       "    }\n",
       "\n",
       "    .dataframe thead th {\n",
       "        text-align: right;\n",
       "    }\n",
       "</style>\n",
       "<table border=\"1\" class=\"dataframe\">\n",
       "  <thead>\n",
       "    <tr style=\"text-align: right;\">\n",
       "      <th></th>\n",
       "      <th>Name</th>\n",
       "      <th>Age</th>\n",
       "    </tr>\n",
       "  </thead>\n",
       "  <tbody>\n",
       "    <tr>\n",
       "      <th>0</th>\n",
       "      <td>Rahul</td>\n",
       "      <td>21</td>\n",
       "    </tr>\n",
       "    <tr>\n",
       "      <th>1</th>\n",
       "      <td>Daniel</td>\n",
       "      <td>14</td>\n",
       "    </tr>\n",
       "    <tr>\n",
       "      <th>2</th>\n",
       "      <td>Rohit</td>\n",
       "      <td>19</td>\n",
       "    </tr>\n",
       "    <tr>\n",
       "      <th>3</th>\n",
       "      <td>Michael</td>\n",
       "      <td>30</td>\n",
       "    </tr>\n",
       "  </tbody>\n",
       "</table>\n",
       "</div>"
      ],
      "text/plain": [
       "      Name  Age\n",
       "0    Rahul   21\n",
       "1   Daniel   14\n",
       "2    Rohit   19\n",
       "3  Michael   30"
      ]
     },
     "execution_count": 35,
     "metadata": {},
     "output_type": "execute_result"
    }
   ],
   "source": [
    "df"
   ]
  },
  {
   "cell_type": "code",
   "execution_count": 36,
   "id": "405ef59d",
   "metadata": {},
   "outputs": [
    {
     "data": {
      "text/plain": [
       "Index(['Name', 'Age'], dtype='object')"
      ]
     },
     "execution_count": 36,
     "metadata": {},
     "output_type": "execute_result"
    }
   ],
   "source": [
    "df.columns"
   ]
  },
  {
   "cell_type": "code",
   "execution_count": 37,
   "id": "967a7d61",
   "metadata": {},
   "outputs": [
    {
     "data": {
      "text/plain": [
       "(4, 2)"
      ]
     },
     "execution_count": 37,
     "metadata": {},
     "output_type": "execute_result"
    }
   ],
   "source": [
    "df.shape"
   ]
  },
  {
   "cell_type": "code",
   "execution_count": 38,
   "id": "7d00cb1f",
   "metadata": {},
   "outputs": [],
   "source": [
    "df2 = pd.read_csv('temperature.csv')"
   ]
  },
  {
   "cell_type": "code",
   "execution_count": 39,
   "id": "21d1b210",
   "metadata": {},
   "outputs": [
    {
     "data": {
      "text/html": [
       "<div>\n",
       "<style scoped>\n",
       "    .dataframe tbody tr th:only-of-type {\n",
       "        vertical-align: middle;\n",
       "    }\n",
       "\n",
       "    .dataframe tbody tr th {\n",
       "        vertical-align: top;\n",
       "    }\n",
       "\n",
       "    .dataframe thead th {\n",
       "        text-align: right;\n",
       "    }\n",
       "</style>\n",
       "<table border=\"1\" class=\"dataframe\">\n",
       "  <thead>\n",
       "    <tr style=\"text-align: right;\">\n",
       "      <th></th>\n",
       "      <th>locationid</th>\n",
       "      <th>year</th>\n",
       "      <th>month</th>\n",
       "      <th>temp</th>\n",
       "      <th>latitude</th>\n",
       "      <th>longitude</th>\n",
       "      <th>stnelev</th>\n",
       "      <th>station</th>\n",
       "      <th>countryid</th>\n",
       "      <th>country</th>\n",
       "    </tr>\n",
       "  </thead>\n",
       "  <tbody>\n",
       "    <tr>\n",
       "      <th>0</th>\n",
       "      <td>USS0010K01S</td>\n",
       "      <td>2000</td>\n",
       "      <td>4</td>\n",
       "      <td>5.27</td>\n",
       "      <td>39.9000</td>\n",
       "      <td>-110.7500</td>\n",
       "      <td>2773.7</td>\n",
       "      <td>INDIAN_CANYON</td>\n",
       "      <td>US</td>\n",
       "      <td>United States</td>\n",
       "    </tr>\n",
       "    <tr>\n",
       "      <th>1</th>\n",
       "      <td>CI000085406</td>\n",
       "      <td>1940</td>\n",
       "      <td>5</td>\n",
       "      <td>18.04</td>\n",
       "      <td>-18.3500</td>\n",
       "      <td>-70.3330</td>\n",
       "      <td>58.0</td>\n",
       "      <td>ARICA</td>\n",
       "      <td>CI</td>\n",
       "      <td>Chile</td>\n",
       "    </tr>\n",
       "    <tr>\n",
       "      <th>2</th>\n",
       "      <td>USC00036376</td>\n",
       "      <td>2013</td>\n",
       "      <td>12</td>\n",
       "      <td>6.22</td>\n",
       "      <td>34.3703</td>\n",
       "      <td>-91.1242</td>\n",
       "      <td>61.0</td>\n",
       "      <td>SAINT_CHARLES</td>\n",
       "      <td>US</td>\n",
       "      <td>United States</td>\n",
       "    </tr>\n",
       "    <tr>\n",
       "      <th>3</th>\n",
       "      <td>ASN00024002</td>\n",
       "      <td>1963</td>\n",
       "      <td>2</td>\n",
       "      <td>22.93</td>\n",
       "      <td>-34.2833</td>\n",
       "      <td>140.6000</td>\n",
       "      <td>65.5</td>\n",
       "      <td>BERRI_IRRIGATION</td>\n",
       "      <td>AS</td>\n",
       "      <td>Australia</td>\n",
       "    </tr>\n",
       "    <tr>\n",
       "      <th>4</th>\n",
       "      <td>ASN00028007</td>\n",
       "      <td>2001</td>\n",
       "      <td>11</td>\n",
       "      <td>NaN</td>\n",
       "      <td>-14.7803</td>\n",
       "      <td>143.5036</td>\n",
       "      <td>79.4</td>\n",
       "      <td>MUSGRAVE</td>\n",
       "      <td>AS</td>\n",
       "      <td>Australia</td>\n",
       "    </tr>\n",
       "  </tbody>\n",
       "</table>\n",
       "</div>"
      ],
      "text/plain": [
       "    locationid  year  month   temp  latitude  longitude  stnelev  \\\n",
       "0  USS0010K01S  2000      4   5.27   39.9000  -110.7500   2773.7   \n",
       "1  CI000085406  1940      5  18.04  -18.3500   -70.3330     58.0   \n",
       "2  USC00036376  2013     12   6.22   34.3703   -91.1242     61.0   \n",
       "3  ASN00024002  1963      2  22.93  -34.2833   140.6000     65.5   \n",
       "4  ASN00028007  2001     11    NaN  -14.7803   143.5036     79.4   \n",
       "\n",
       "            station countryid        country  \n",
       "0     INDIAN_CANYON        US  United States  \n",
       "1             ARICA        CI          Chile  \n",
       "2     SAINT_CHARLES        US  United States  \n",
       "3  BERRI_IRRIGATION        AS      Australia  \n",
       "4          MUSGRAVE        AS      Australia  "
      ]
     },
     "execution_count": 39,
     "metadata": {},
     "output_type": "execute_result"
    }
   ],
   "source": [
    "df2.head()"
   ]
  },
  {
   "cell_type": "code",
   "execution_count": 40,
   "id": "571b92d8",
   "metadata": {},
   "outputs": [
    {
     "data": {
      "text/plain": [
       "(100000, 10)"
      ]
     },
     "execution_count": 40,
     "metadata": {},
     "output_type": "execute_result"
    }
   ],
   "source": [
    "df2.shape"
   ]
  },
  {
   "cell_type": "code",
   "execution_count": 41,
   "id": "034a5b5b",
   "metadata": {},
   "outputs": [
    {
     "name": "stdout",
     "output_type": "stream",
     "text": [
      "<class 'pandas.core.frame.DataFrame'>\n",
      "RangeIndex: 100000 entries, 0 to 99999\n",
      "Data columns (total 10 columns):\n",
      " #   Column      Non-Null Count   Dtype  \n",
      "---  ------      --------------   -----  \n",
      " 0   locationid  100000 non-null  object \n",
      " 1   year        100000 non-null  int64  \n",
      " 2   month       100000 non-null  int64  \n",
      " 3   temp        85554 non-null   float64\n",
      " 4   latitude    100000 non-null  float64\n",
      " 5   longitude   100000 non-null  float64\n",
      " 6   stnelev     100000 non-null  float64\n",
      " 7   station     100000 non-null  object \n",
      " 8   countryid   100000 non-null  object \n",
      " 9   country     99995 non-null   object \n",
      "dtypes: float64(4), int64(2), object(4)\n",
      "memory usage: 7.6+ MB\n"
     ]
    }
   ],
   "source": [
    "df2.info()"
   ]
  },
  {
   "cell_type": "code",
   "execution_count": 42,
   "id": "8d276e46",
   "metadata": {},
   "outputs": [
    {
     "data": {
      "text/plain": [
       "locationid        0\n",
       "year              0\n",
       "month             0\n",
       "temp          14446\n",
       "latitude          0\n",
       "longitude         0\n",
       "stnelev           0\n",
       "station           0\n",
       "countryid         0\n",
       "country           5\n",
       "dtype: int64"
      ]
     },
     "execution_count": 42,
     "metadata": {},
     "output_type": "execute_result"
    }
   ],
   "source": [
    "df2.isnull().sum()"
   ]
  },
  {
   "cell_type": "code",
   "execution_count": 43,
   "id": "e4200b33",
   "metadata": {},
   "outputs": [
    {
     "data": {
      "text/plain": [
       "locationid    24528\n",
       "year            270\n",
       "month            12\n",
       "temp           6026\n",
       "latitude      16110\n",
       "longitude     19233\n",
       "stnelev        5424\n",
       "station       23167\n",
       "countryid       237\n",
       "country         236\n",
       "dtype: int64"
      ]
     },
     "execution_count": 43,
     "metadata": {},
     "output_type": "execute_result"
    }
   ],
   "source": [
    "df2.nunique()"
   ]
  },
  {
   "cell_type": "code",
   "execution_count": 49,
   "id": "046885a0",
   "metadata": {},
   "outputs": [
    {
     "data": {
      "text/html": [
       "<div>\n",
       "<style scoped>\n",
       "    .dataframe tbody tr th:only-of-type {\n",
       "        vertical-align: middle;\n",
       "    }\n",
       "\n",
       "    .dataframe tbody tr th {\n",
       "        vertical-align: top;\n",
       "    }\n",
       "\n",
       "    .dataframe thead th {\n",
       "        text-align: right;\n",
       "    }\n",
       "</style>\n",
       "<table border=\"1\" class=\"dataframe\">\n",
       "  <thead>\n",
       "    <tr style=\"text-align: right;\">\n",
       "      <th></th>\n",
       "      <th>locationid</th>\n",
       "      <th>year</th>\n",
       "      <th>month</th>\n",
       "      <th>temp</th>\n",
       "      <th>latitude</th>\n",
       "      <th>longitude</th>\n",
       "      <th>stnelev</th>\n",
       "      <th>station</th>\n",
       "      <th>countryid</th>\n",
       "      <th>country</th>\n",
       "    </tr>\n",
       "  </thead>\n",
       "  <tbody>\n",
       "    <tr>\n",
       "      <th>12</th>\n",
       "      <td>IN001111200</td>\n",
       "      <td>1941</td>\n",
       "      <td>12</td>\n",
       "      <td>NaN</td>\n",
       "      <td>16.200</td>\n",
       "      <td>81.150</td>\n",
       "      <td>3.0</td>\n",
       "      <td>MACHILIPATNAM</td>\n",
       "      <td>IN</td>\n",
       "      <td>India</td>\n",
       "    </tr>\n",
       "    <tr>\n",
       "      <th>90</th>\n",
       "      <td>IN012141800</td>\n",
       "      <td>1956</td>\n",
       "      <td>5</td>\n",
       "      <td>35.65</td>\n",
       "      <td>21.100</td>\n",
       "      <td>79.050</td>\n",
       "      <td>310.0</td>\n",
       "      <td>NAGPUR_SONEGAON</td>\n",
       "      <td>IN</td>\n",
       "      <td>India</td>\n",
       "    </tr>\n",
       "    <tr>\n",
       "      <th>304</th>\n",
       "      <td>IN020040900</td>\n",
       "      <td>1879</td>\n",
       "      <td>10</td>\n",
       "      <td>28.17</td>\n",
       "      <td>13.000</td>\n",
       "      <td>80.183</td>\n",
       "      <td>16.0</td>\n",
       "      <td>MADRAS_MINAMBAKKAM</td>\n",
       "      <td>IN</td>\n",
       "      <td>India</td>\n",
       "    </tr>\n",
       "    <tr>\n",
       "      <th>430</th>\n",
       "      <td>IN012020100</td>\n",
       "      <td>1891</td>\n",
       "      <td>10</td>\n",
       "      <td>25.40</td>\n",
       "      <td>20.700</td>\n",
       "      <td>77.033</td>\n",
       "      <td>282.0</td>\n",
       "      <td>AKOLA</td>\n",
       "      <td>IN</td>\n",
       "      <td>India</td>\n",
       "    </tr>\n",
       "    <tr>\n",
       "      <th>450</th>\n",
       "      <td>IN011020300</td>\n",
       "      <td>1928</td>\n",
       "      <td>10</td>\n",
       "      <td>25.24</td>\n",
       "      <td>19.083</td>\n",
       "      <td>82.033</td>\n",
       "      <td>553.0</td>\n",
       "      <td>JAGDALPUR</td>\n",
       "      <td>IN</td>\n",
       "      <td>India</td>\n",
       "    </tr>\n",
       "    <tr>\n",
       "      <th>...</th>\n",
       "      <td>...</td>\n",
       "      <td>...</td>\n",
       "      <td>...</td>\n",
       "      <td>...</td>\n",
       "      <td>...</td>\n",
       "      <td>...</td>\n",
       "      <td>...</td>\n",
       "      <td>...</td>\n",
       "      <td>...</td>\n",
       "      <td>...</td>\n",
       "    </tr>\n",
       "    <tr>\n",
       "      <th>99048</th>\n",
       "      <td>IN001090500</td>\n",
       "      <td>1978</td>\n",
       "      <td>1</td>\n",
       "      <td>22.06</td>\n",
       "      <td>18.767</td>\n",
       "      <td>79.433</td>\n",
       "      <td>156.0</td>\n",
       "      <td>RAMGUNDAM</td>\n",
       "      <td>IN</td>\n",
       "      <td>India</td>\n",
       "    </tr>\n",
       "    <tr>\n",
       "      <th>99689</th>\n",
       "      <td>IN009010100</td>\n",
       "      <td>1913</td>\n",
       "      <td>11</td>\n",
       "      <td>21.88</td>\n",
       "      <td>12.967</td>\n",
       "      <td>77.583</td>\n",
       "      <td>921.0</td>\n",
       "      <td>BANGALORE</td>\n",
       "      <td>IN</td>\n",
       "      <td>India</td>\n",
       "    </tr>\n",
       "    <tr>\n",
       "      <th>99718</th>\n",
       "      <td>IN001111200</td>\n",
       "      <td>1953</td>\n",
       "      <td>8</td>\n",
       "      <td>29.69</td>\n",
       "      <td>16.200</td>\n",
       "      <td>81.150</td>\n",
       "      <td>3.0</td>\n",
       "      <td>MACHILIPATNAM</td>\n",
       "      <td>IN</td>\n",
       "      <td>India</td>\n",
       "    </tr>\n",
       "    <tr>\n",
       "      <th>99769</th>\n",
       "      <td>INXLT811965</td>\n",
       "      <td>1904</td>\n",
       "      <td>2</td>\n",
       "      <td>7.44</td>\n",
       "      <td>27.050</td>\n",
       "      <td>88.270</td>\n",
       "      <td>9999.0</td>\n",
       "      <td>DARJEELING</td>\n",
       "      <td>IN</td>\n",
       "      <td>India</td>\n",
       "    </tr>\n",
       "    <tr>\n",
       "      <th>99909</th>\n",
       "      <td>IN023261300</td>\n",
       "      <td>1952</td>\n",
       "      <td>9</td>\n",
       "      <td>NaN</td>\n",
       "      <td>26.750</td>\n",
       "      <td>83.367</td>\n",
       "      <td>77.0</td>\n",
       "      <td>GORAKHPUR</td>\n",
       "      <td>IN</td>\n",
       "      <td>India</td>\n",
       "    </tr>\n",
       "  </tbody>\n",
       "</table>\n",
       "<p>653 rows × 10 columns</p>\n",
       "</div>"
      ],
      "text/plain": [
       "        locationid  year  month   temp  latitude  longitude  stnelev  \\\n",
       "12     IN001111200  1941     12    NaN    16.200     81.150      3.0   \n",
       "90     IN012141800  1956      5  35.65    21.100     79.050    310.0   \n",
       "304    IN020040900  1879     10  28.17    13.000     80.183     16.0   \n",
       "430    IN012020100  1891     10  25.40    20.700     77.033    282.0   \n",
       "450    IN011020300  1928     10  25.24    19.083     82.033    553.0   \n",
       "...            ...   ...    ...    ...       ...        ...      ...   \n",
       "99048  IN001090500  1978      1  22.06    18.767     79.433    156.0   \n",
       "99689  IN009010100  1913     11  21.88    12.967     77.583    921.0   \n",
       "99718  IN001111200  1953      8  29.69    16.200     81.150      3.0   \n",
       "99769  INXLT811965  1904      2   7.44    27.050     88.270   9999.0   \n",
       "99909  IN023261300  1952      9    NaN    26.750     83.367     77.0   \n",
       "\n",
       "                  station countryid country  \n",
       "12          MACHILIPATNAM        IN   India  \n",
       "90        NAGPUR_SONEGAON        IN   India  \n",
       "304    MADRAS_MINAMBAKKAM        IN   India  \n",
       "430                 AKOLA        IN   India  \n",
       "450             JAGDALPUR        IN   India  \n",
       "...                   ...       ...     ...  \n",
       "99048           RAMGUNDAM        IN   India  \n",
       "99689           BANGALORE        IN   India  \n",
       "99718       MACHILIPATNAM        IN   India  \n",
       "99769          DARJEELING        IN   India  \n",
       "99909           GORAKHPUR        IN   India  \n",
       "\n",
       "[653 rows x 10 columns]"
      ]
     },
     "execution_count": 49,
     "metadata": {},
     "output_type": "execute_result"
    }
   ],
   "source": [
    "df2[(df2['country']=='India')]"
   ]
  },
  {
   "cell_type": "code",
   "execution_count": 44,
   "id": "22ff1627",
   "metadata": {},
   "outputs": [
    {
     "data": {
      "text/plain": [
       "United States                       47159\n",
       "Canada                               9668\n",
       "Russia                               4724\n",
       "Australia                            4672\n",
       "Germany                              2951\n",
       "                                    ...  \n",
       "Brunei                                  1\n",
       "Saint Vincent and the Grenadines        1\n",
       "Montserrat                              1\n",
       "Equatorial Guinea                       1\n",
       "Hong Kong                               1\n",
       "Name: country, Length: 236, dtype: int64"
      ]
     },
     "execution_count": 44,
     "metadata": {},
     "output_type": "execute_result"
    }
   ],
   "source": [
    "df2['country'].value_counts()"
   ]
  },
  {
   "cell_type": "code",
   "execution_count": 53,
   "id": "48b9a248",
   "metadata": {},
   "outputs": [],
   "source": [
    "country_temp = df2.groupby('country')['temp'].mean().sort_values(ascending=False).head(10)\n",
    "country_temp = country_temp.reset_index()\n"
   ]
  },
  {
   "cell_type": "code",
   "execution_count": 54,
   "id": "38aab050",
   "metadata": {},
   "outputs": [
    {
     "data": {
      "text/html": [
       "<div>\n",
       "<style scoped>\n",
       "    .dataframe tbody tr th:only-of-type {\n",
       "        vertical-align: middle;\n",
       "    }\n",
       "\n",
       "    .dataframe tbody tr th {\n",
       "        vertical-align: top;\n",
       "    }\n",
       "\n",
       "    .dataframe thead th {\n",
       "        text-align: right;\n",
       "    }\n",
       "</style>\n",
       "<table border=\"1\" class=\"dataframe\">\n",
       "  <thead>\n",
       "    <tr style=\"text-align: right;\">\n",
       "      <th></th>\n",
       "      <th>country</th>\n",
       "      <th>temp</th>\n",
       "    </tr>\n",
       "  </thead>\n",
       "  <tbody>\n",
       "    <tr>\n",
       "      <th>0</th>\n",
       "      <td>Mali</td>\n",
       "      <td>29.371772</td>\n",
       "    </tr>\n",
       "    <tr>\n",
       "      <th>1</th>\n",
       "      <td>Niger</td>\n",
       "      <td>29.190250</td>\n",
       "    </tr>\n",
       "    <tr>\n",
       "      <th>2</th>\n",
       "      <td>Dijibouti</td>\n",
       "      <td>29.150000</td>\n",
       "    </tr>\n",
       "    <tr>\n",
       "      <th>3</th>\n",
       "      <td>Yemen</td>\n",
       "      <td>28.934286</td>\n",
       "    </tr>\n",
       "    <tr>\n",
       "      <th>4</th>\n",
       "      <td>Maldives</td>\n",
       "      <td>28.553333</td>\n",
       "    </tr>\n",
       "    <tr>\n",
       "      <th>5</th>\n",
       "      <td>Chad</td>\n",
       "      <td>28.507353</td>\n",
       "    </tr>\n",
       "    <tr>\n",
       "      <th>6</th>\n",
       "      <td>Dominica</td>\n",
       "      <td>28.385000</td>\n",
       "    </tr>\n",
       "    <tr>\n",
       "      <th>7</th>\n",
       "      <td>Nauru</td>\n",
       "      <td>28.330000</td>\n",
       "    </tr>\n",
       "    <tr>\n",
       "      <th>8</th>\n",
       "      <td>Tuvalu</td>\n",
       "      <td>28.151538</td>\n",
       "    </tr>\n",
       "    <tr>\n",
       "      <th>9</th>\n",
       "      <td>Sudan</td>\n",
       "      <td>27.973118</td>\n",
       "    </tr>\n",
       "  </tbody>\n",
       "</table>\n",
       "</div>"
      ],
      "text/plain": [
       "     country       temp\n",
       "0       Mali  29.371772\n",
       "1      Niger  29.190250\n",
       "2  Dijibouti  29.150000\n",
       "3      Yemen  28.934286\n",
       "4   Maldives  28.553333\n",
       "5       Chad  28.507353\n",
       "6   Dominica  28.385000\n",
       "7      Nauru  28.330000\n",
       "8     Tuvalu  28.151538\n",
       "9      Sudan  27.973118"
      ]
     },
     "execution_count": 54,
     "metadata": {},
     "output_type": "execute_result"
    }
   ],
   "source": [
    "country_temp"
   ]
  },
  {
   "cell_type": "code",
   "execution_count": null,
   "id": "5fbf89c8",
   "metadata": {},
   "outputs": [],
   "source": []
  }
 ],
 "metadata": {
  "kernelspec": {
   "display_name": "Python 3",
   "language": "python",
   "name": "python3"
  },
  "language_info": {
   "codemirror_mode": {
    "name": "ipython",
    "version": 3
   },
   "file_extension": ".py",
   "mimetype": "text/x-python",
   "name": "python",
   "nbconvert_exporter": "python",
   "pygments_lexer": "ipython3",
   "version": "3.8.8"
  }
 },
 "nbformat": 4,
 "nbformat_minor": 5
}
