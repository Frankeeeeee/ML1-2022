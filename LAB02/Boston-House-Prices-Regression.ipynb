{
 "cells": [
  {
   "cell_type": "code",
   "execution_count": 1,
   "metadata": {},
   "outputs": [],
   "source": [
    "import pandas as pd\n",
    "import numpy as np\n",
    "\n",
    "import matplotlib.pyplot as plt\n",
    "import seaborn as sns\n",
    "\n",
    "from sklearn.linear_model import LinearRegression\n",
    "from sklearn.model_selection import train_test_split\n",
    "from sklearn.metrics import mean_squared_error\n",
    "\n",
    "sns.set_theme()"
   ]
  },
  {
   "cell_type": "code",
   "execution_count": 2,
   "metadata": {},
   "outputs": [
    {
     "data": {
      "text/html": [
       "<div>\n",
       "<style scoped>\n",
       "    .dataframe tbody tr th:only-of-type {\n",
       "        vertical-align: middle;\n",
       "    }\n",
       "\n",
       "    .dataframe tbody tr th {\n",
       "        vertical-align: top;\n",
       "    }\n",
       "\n",
       "    .dataframe thead th {\n",
       "        text-align: right;\n",
       "    }\n",
       "</style>\n",
       "<table border=\"1\" class=\"dataframe\">\n",
       "  <thead>\n",
       "    <tr style=\"text-align: right;\">\n",
       "      <th></th>\n",
       "      <th>CRIM</th>\n",
       "      <th>ZN</th>\n",
       "      <th>INDUS</th>\n",
       "      <th>CHAS</th>\n",
       "      <th>NOX</th>\n",
       "      <th>RM</th>\n",
       "      <th>AGE</th>\n",
       "      <th>DIS</th>\n",
       "      <th>RAD</th>\n",
       "      <th>TAX</th>\n",
       "      <th>PTRATIO</th>\n",
       "      <th>B</th>\n",
       "      <th>LSTAT</th>\n",
       "      <th>MEDV</th>\n",
       "    </tr>\n",
       "  </thead>\n",
       "  <tbody>\n",
       "    <tr>\n",
       "      <th>0</th>\n",
       "      <td>0.00632</td>\n",
       "      <td>18.0</td>\n",
       "      <td>2.31</td>\n",
       "      <td>0</td>\n",
       "      <td>0.538</td>\n",
       "      <td>6.575</td>\n",
       "      <td>65.2</td>\n",
       "      <td>4.0900</td>\n",
       "      <td>1</td>\n",
       "      <td>296</td>\n",
       "      <td>15.3</td>\n",
       "      <td>396.90</td>\n",
       "      <td>4.98</td>\n",
       "      <td>24.0</td>\n",
       "    </tr>\n",
       "    <tr>\n",
       "      <th>1</th>\n",
       "      <td>0.02731</td>\n",
       "      <td>0.0</td>\n",
       "      <td>7.07</td>\n",
       "      <td>0</td>\n",
       "      <td>0.469</td>\n",
       "      <td>6.421</td>\n",
       "      <td>78.9</td>\n",
       "      <td>4.9671</td>\n",
       "      <td>2</td>\n",
       "      <td>242</td>\n",
       "      <td>17.8</td>\n",
       "      <td>396.90</td>\n",
       "      <td>9.14</td>\n",
       "      <td>21.6</td>\n",
       "    </tr>\n",
       "    <tr>\n",
       "      <th>2</th>\n",
       "      <td>0.02729</td>\n",
       "      <td>0.0</td>\n",
       "      <td>7.07</td>\n",
       "      <td>0</td>\n",
       "      <td>0.469</td>\n",
       "      <td>7.185</td>\n",
       "      <td>61.1</td>\n",
       "      <td>4.9671</td>\n",
       "      <td>2</td>\n",
       "      <td>242</td>\n",
       "      <td>17.8</td>\n",
       "      <td>392.83</td>\n",
       "      <td>4.03</td>\n",
       "      <td>34.7</td>\n",
       "    </tr>\n",
       "    <tr>\n",
       "      <th>3</th>\n",
       "      <td>0.03237</td>\n",
       "      <td>0.0</td>\n",
       "      <td>2.18</td>\n",
       "      <td>0</td>\n",
       "      <td>0.458</td>\n",
       "      <td>6.998</td>\n",
       "      <td>45.8</td>\n",
       "      <td>6.0622</td>\n",
       "      <td>3</td>\n",
       "      <td>222</td>\n",
       "      <td>18.7</td>\n",
       "      <td>394.63</td>\n",
       "      <td>2.94</td>\n",
       "      <td>33.4</td>\n",
       "    </tr>\n",
       "    <tr>\n",
       "      <th>4</th>\n",
       "      <td>0.06905</td>\n",
       "      <td>0.0</td>\n",
       "      <td>2.18</td>\n",
       "      <td>0</td>\n",
       "      <td>0.458</td>\n",
       "      <td>7.147</td>\n",
       "      <td>54.2</td>\n",
       "      <td>6.0622</td>\n",
       "      <td>3</td>\n",
       "      <td>222</td>\n",
       "      <td>18.7</td>\n",
       "      <td>396.90</td>\n",
       "      <td>5.33</td>\n",
       "      <td>36.2</td>\n",
       "    </tr>\n",
       "  </tbody>\n",
       "</table>\n",
       "</div>"
      ],
      "text/plain": [
       "      CRIM    ZN  INDUS  CHAS    NOX     RM   AGE     DIS  RAD  TAX  PTRATIO  \\\n",
       "0  0.00632  18.0   2.31     0  0.538  6.575  65.2  4.0900    1  296     15.3   \n",
       "1  0.02731   0.0   7.07     0  0.469  6.421  78.9  4.9671    2  242     17.8   \n",
       "2  0.02729   0.0   7.07     0  0.469  7.185  61.1  4.9671    2  242     17.8   \n",
       "3  0.03237   0.0   2.18     0  0.458  6.998  45.8  6.0622    3  222     18.7   \n",
       "4  0.06905   0.0   2.18     0  0.458  7.147  54.2  6.0622    3  222     18.7   \n",
       "\n",
       "        B  LSTAT  MEDV  \n",
       "0  396.90   4.98  24.0  \n",
       "1  396.90   9.14  21.6  \n",
       "2  392.83   4.03  34.7  \n",
       "3  394.63   2.94  33.4  \n",
       "4  396.90   5.33  36.2  "
      ]
     },
     "execution_count": 2,
     "metadata": {},
     "output_type": "execute_result"
    }
   ],
   "source": [
    "data = pd.read_csv(r'C:\\Users\\hp\\Desktop\\2BDA Notes\\Practical\\BD2P3(Machine Learning 1)\\Assignment 02\\boston.csv')\n",
    "data.head()"
   ]
  },
  {
   "cell_type": "code",
   "execution_count": 3,
   "metadata": {},
   "outputs": [
    {
     "data": {
      "text/plain": [
       "CRIM       float64\n",
       "ZN         float64\n",
       "INDUS      float64\n",
       "CHAS         int64\n",
       "NOX        float64\n",
       "RM         float64\n",
       "AGE        float64\n",
       "DIS        float64\n",
       "RAD          int64\n",
       "TAX          int64\n",
       "PTRATIO    float64\n",
       "B          float64\n",
       "LSTAT      float64\n",
       "MEDV       float64\n",
       "dtype: object"
      ]
     },
     "execution_count": 3,
     "metadata": {},
     "output_type": "execute_result"
    }
   ],
   "source": [
    "data.dtypes"
   ]
  },
  {
   "cell_type": "code",
   "execution_count": 4,
   "metadata": {},
   "outputs": [
    {
     "data": {
      "text/plain": [
       "CRIM       0\n",
       "ZN         0\n",
       "INDUS      0\n",
       "CHAS       0\n",
       "NOX        0\n",
       "RM         0\n",
       "AGE        0\n",
       "DIS        0\n",
       "RAD        0\n",
       "TAX        0\n",
       "PTRATIO    0\n",
       "B          0\n",
       "LSTAT      0\n",
       "MEDV       0\n",
       "dtype: int64"
      ]
     },
     "execution_count": 4,
     "metadata": {},
     "output_type": "execute_result"
    }
   ],
   "source": [
    "data.isnull().sum()"
   ]
  },
  {
   "cell_type": "code",
   "execution_count": 5,
   "metadata": {},
   "outputs": [
    {
     "data": {
      "text/html": [
       "<div>\n",
       "<style scoped>\n",
       "    .dataframe tbody tr th:only-of-type {\n",
       "        vertical-align: middle;\n",
       "    }\n",
       "\n",
       "    .dataframe tbody tr th {\n",
       "        vertical-align: top;\n",
       "    }\n",
       "\n",
       "    .dataframe thead th {\n",
       "        text-align: right;\n",
       "    }\n",
       "</style>\n",
       "<table border=\"1\" class=\"dataframe\">\n",
       "  <thead>\n",
       "    <tr style=\"text-align: right;\">\n",
       "      <th></th>\n",
       "      <th>CRIM</th>\n",
       "      <th>ZN</th>\n",
       "      <th>INDUS</th>\n",
       "      <th>CHAS</th>\n",
       "      <th>NOX</th>\n",
       "      <th>RM</th>\n",
       "      <th>AGE</th>\n",
       "      <th>DIS</th>\n",
       "      <th>RAD</th>\n",
       "      <th>TAX</th>\n",
       "      <th>PTRATIO</th>\n",
       "      <th>B</th>\n",
       "      <th>LSTAT</th>\n",
       "      <th>MEDV</th>\n",
       "    </tr>\n",
       "  </thead>\n",
       "  <tbody>\n",
       "    <tr>\n",
       "      <th>Column Data Type</th>\n",
       "      <td>float64</td>\n",
       "      <td>float64</td>\n",
       "      <td>float64</td>\n",
       "      <td>int64</td>\n",
       "      <td>float64</td>\n",
       "      <td>float64</td>\n",
       "      <td>float64</td>\n",
       "      <td>float64</td>\n",
       "      <td>int64</td>\n",
       "      <td>int64</td>\n",
       "      <td>float64</td>\n",
       "      <td>float64</td>\n",
       "      <td>float64</td>\n",
       "      <td>float64</td>\n",
       "    </tr>\n",
       "    <tr>\n",
       "      <th>Null Values</th>\n",
       "      <td>0</td>\n",
       "      <td>0</td>\n",
       "      <td>0</td>\n",
       "      <td>0</td>\n",
       "      <td>0</td>\n",
       "      <td>0</td>\n",
       "      <td>0</td>\n",
       "      <td>0</td>\n",
       "      <td>0</td>\n",
       "      <td>0</td>\n",
       "      <td>0</td>\n",
       "      <td>0</td>\n",
       "      <td>0</td>\n",
       "      <td>0</td>\n",
       "    </tr>\n",
       "  </tbody>\n",
       "</table>\n",
       "</div>"
      ],
      "text/plain": [
       "                     CRIM       ZN    INDUS   CHAS      NOX       RM      AGE  \\\n",
       "Column Data Type  float64  float64  float64  int64  float64  float64  float64   \n",
       "Null Values             0        0        0      0        0        0        0   \n",
       "\n",
       "                      DIS    RAD    TAX  PTRATIO        B    LSTAT     MEDV  \n",
       "Column Data Type  float64  int64  int64  float64  float64  float64  float64  \n",
       "Null Values             0      0      0        0        0        0        0  "
      ]
     },
     "execution_count": 5,
     "metadata": {},
     "output_type": "execute_result"
    }
   ],
   "source": [
    "data_type = pd.DataFrame(data.dtypes).T.rename({0:'Column Data Type'})\n",
    "null_value = pd.DataFrame(data.isnull().sum()).T.rename({0:'Null Values'})\n",
    "\n",
    "data_info = data_type.append(null_value)\n",
    "data_info"
   ]
  },
  {
   "cell_type": "code",
   "execution_count": 6,
   "metadata": {},
   "outputs": [
    {
     "data": {
      "text/html": [
       "<div>\n",
       "<style scoped>\n",
       "    .dataframe tbody tr th:only-of-type {\n",
       "        vertical-align: middle;\n",
       "    }\n",
       "\n",
       "    .dataframe tbody tr th {\n",
       "        vertical-align: top;\n",
       "    }\n",
       "\n",
       "    .dataframe thead th {\n",
       "        text-align: right;\n",
       "    }\n",
       "</style>\n",
       "<table border=\"1\" class=\"dataframe\">\n",
       "  <thead>\n",
       "    <tr style=\"text-align: right;\">\n",
       "      <th></th>\n",
       "      <th>CRIM</th>\n",
       "      <th>ZN</th>\n",
       "      <th>INDUS</th>\n",
       "      <th>CHAS</th>\n",
       "      <th>NOX</th>\n",
       "      <th>RM</th>\n",
       "      <th>AGE</th>\n",
       "      <th>DIS</th>\n",
       "      <th>RAD</th>\n",
       "      <th>TAX</th>\n",
       "      <th>PTRATIO</th>\n",
       "      <th>B</th>\n",
       "      <th>LSTAT</th>\n",
       "      <th>MEDV</th>\n",
       "    </tr>\n",
       "  </thead>\n",
       "  <tbody>\n",
       "    <tr>\n",
       "      <th>Column Data Type</th>\n",
       "      <td>float64</td>\n",
       "      <td>float64</td>\n",
       "      <td>float64</td>\n",
       "      <td>int64</td>\n",
       "      <td>float64</td>\n",
       "      <td>float64</td>\n",
       "      <td>float64</td>\n",
       "      <td>float64</td>\n",
       "      <td>int64</td>\n",
       "      <td>int64</td>\n",
       "      <td>float64</td>\n",
       "      <td>float64</td>\n",
       "      <td>float64</td>\n",
       "      <td>float64</td>\n",
       "    </tr>\n",
       "    <tr>\n",
       "      <th>Null Values</th>\n",
       "      <td>0</td>\n",
       "      <td>0</td>\n",
       "      <td>0</td>\n",
       "      <td>0</td>\n",
       "      <td>0</td>\n",
       "      <td>0</td>\n",
       "      <td>0</td>\n",
       "      <td>0</td>\n",
       "      <td>0</td>\n",
       "      <td>0</td>\n",
       "      <td>0</td>\n",
       "      <td>0</td>\n",
       "      <td>0</td>\n",
       "      <td>0</td>\n",
       "    </tr>\n",
       "    <tr>\n",
       "      <th>Percentage of Null Values</th>\n",
       "      <td>0</td>\n",
       "      <td>0</td>\n",
       "      <td>0</td>\n",
       "      <td>0</td>\n",
       "      <td>0</td>\n",
       "      <td>0</td>\n",
       "      <td>0</td>\n",
       "      <td>0</td>\n",
       "      <td>0</td>\n",
       "      <td>0</td>\n",
       "      <td>0</td>\n",
       "      <td>0</td>\n",
       "      <td>0</td>\n",
       "      <td>0</td>\n",
       "    </tr>\n",
       "  </tbody>\n",
       "</table>\n",
       "</div>"
      ],
      "text/plain": [
       "                              CRIM       ZN    INDUS   CHAS      NOX       RM  \\\n",
       "Column Data Type           float64  float64  float64  int64  float64  float64   \n",
       "Null Values                      0        0        0      0        0        0   \n",
       "Percentage of Null Values        0        0        0      0        0        0   \n",
       "\n",
       "                               AGE      DIS    RAD    TAX  PTRATIO        B  \\\n",
       "Column Data Type           float64  float64  int64  int64  float64  float64   \n",
       "Null Values                      0        0      0      0        0        0   \n",
       "Percentage of Null Values        0        0      0      0        0        0   \n",
       "\n",
       "                             LSTAT     MEDV  \n",
       "Column Data Type           float64  float64  \n",
       "Null Values                      0        0  \n",
       "Percentage of Null Values        0        0  "
      ]
     },
     "execution_count": 6,
     "metadata": {},
     "output_type": "execute_result"
    }
   ],
   "source": [
    "null_percentage = pd.DataFrame(data.isnull().sum()/data.shape[0]*100).T.rename({0:'Percentage of Null Values'}).round(2)\n",
    "\n",
    "data_info = data_info.append(null_percentage)\n",
    "data_info"
   ]
  },
  {
   "cell_type": "markdown",
   "metadata": {
    "papermill": {
     "duration": 0.084863,
     "end_time": "2022-03-09T02:41:57.064651",
     "exception": false,
     "start_time": "2022-03-09T02:41:56.979788",
     "status": "completed"
    },
    "tags": []
   },
   "source": [
    "# Univariate Linear Regression\n",
    "Univariate Linear Regression means I will do Linear Regression but only use 1 attribute to predict the output.\n",
    "\n",
    "From a mathematic point of view, univariate linear regression is a way to find parameters for the linear equation:\n",
    "\n",
    "$Y = a*X + b$\n",
    "\n",
    "Where,\n",
    "- $Y$ = output\n",
    "- $X$ = input\n",
    "- $a$ = slope of the line (gradient) aka regression coefficient\n",
    "- $b$ = intercept\n",
    "\n",
    "We already have $X$ and $Y$ values, the linear regression algorithm will find the best $a$ and $b$ parameters for us."
   ]
  },
  {
   "cell_type": "markdown",
   "metadata": {
    "papermill": {
     "duration": 0.080701,
     "end_time": "2022-03-09T02:41:57.228352",
     "exception": false,
     "start_time": "2022-03-09T02:41:57.147651",
     "status": "completed"
    },
    "tags": []
   },
   "source": [
    "## Feature Selection\n",
    "Since `RM` has the highest correlation to `MEDV`, I will use this attribute to make univariate linear regression."
   ]
  },
  {
   "cell_type": "code",
   "execution_count": 7,
   "metadata": {
    "execution": {
     "iopub.execute_input": "2022-03-09T02:41:57.406823Z",
     "iopub.status.busy": "2022-03-09T02:41:57.406198Z",
     "iopub.status.idle": "2022-03-09T02:41:57.408838Z",
     "shell.execute_reply": "2022-03-09T02:41:57.409327Z"
    },
    "papermill": {
     "duration": 0.096534,
     "end_time": "2022-03-09T02:41:57.409472",
     "exception": false,
     "start_time": "2022-03-09T02:41:57.312938",
     "status": "completed"
    },
    "tags": []
   },
   "outputs": [
    {
     "data": {
      "text/html": [
       "<div>\n",
       "<style scoped>\n",
       "    .dataframe tbody tr th:only-of-type {\n",
       "        vertical-align: middle;\n",
       "    }\n",
       "\n",
       "    .dataframe tbody tr th {\n",
       "        vertical-align: top;\n",
       "    }\n",
       "\n",
       "    .dataframe thead th {\n",
       "        text-align: right;\n",
       "    }\n",
       "</style>\n",
       "<table border=\"1\" class=\"dataframe\">\n",
       "  <thead>\n",
       "    <tr style=\"text-align: right;\">\n",
       "      <th></th>\n",
       "      <th>RM</th>\n",
       "    </tr>\n",
       "  </thead>\n",
       "  <tbody>\n",
       "    <tr>\n",
       "      <th>0</th>\n",
       "      <td>6.575</td>\n",
       "    </tr>\n",
       "    <tr>\n",
       "      <th>1</th>\n",
       "      <td>6.421</td>\n",
       "    </tr>\n",
       "    <tr>\n",
       "      <th>2</th>\n",
       "      <td>7.185</td>\n",
       "    </tr>\n",
       "    <tr>\n",
       "      <th>3</th>\n",
       "      <td>6.998</td>\n",
       "    </tr>\n",
       "    <tr>\n",
       "      <th>4</th>\n",
       "      <td>7.147</td>\n",
       "    </tr>\n",
       "  </tbody>\n",
       "</table>\n",
       "</div>"
      ],
      "text/plain": [
       "      RM\n",
       "0  6.575\n",
       "1  6.421\n",
       "2  7.185\n",
       "3  6.998\n",
       "4  7.147"
      ]
     },
     "execution_count": 7,
     "metadata": {},
     "output_type": "execute_result"
    }
   ],
   "source": [
    "# I use [[]] to create a dataframe\n",
    "# if you use [], it will create a series\n",
    "\n",
    "X = data[['RM']]\n",
    "X.head()"
   ]
  },
  {
   "cell_type": "code",
   "execution_count": 8,
   "metadata": {
    "execution": {
     "iopub.execute_input": "2022-03-09T02:41:57.578457Z",
     "iopub.status.busy": "2022-03-09T02:41:57.577884Z",
     "iopub.status.idle": "2022-03-09T02:41:57.586085Z",
     "shell.execute_reply": "2022-03-09T02:41:57.586685Z"
    },
    "papermill": {
     "duration": 0.094324,
     "end_time": "2022-03-09T02:41:57.586848",
     "exception": false,
     "start_time": "2022-03-09T02:41:57.492524",
     "status": "completed"
    },
    "tags": []
   },
   "outputs": [
    {
     "data": {
      "text/html": [
       "<div>\n",
       "<style scoped>\n",
       "    .dataframe tbody tr th:only-of-type {\n",
       "        vertical-align: middle;\n",
       "    }\n",
       "\n",
       "    .dataframe tbody tr th {\n",
       "        vertical-align: top;\n",
       "    }\n",
       "\n",
       "    .dataframe thead th {\n",
       "        text-align: right;\n",
       "    }\n",
       "</style>\n",
       "<table border=\"1\" class=\"dataframe\">\n",
       "  <thead>\n",
       "    <tr style=\"text-align: right;\">\n",
       "      <th></th>\n",
       "      <th>MEDV</th>\n",
       "    </tr>\n",
       "  </thead>\n",
       "  <tbody>\n",
       "    <tr>\n",
       "      <th>0</th>\n",
       "      <td>24.0</td>\n",
       "    </tr>\n",
       "    <tr>\n",
       "      <th>1</th>\n",
       "      <td>21.6</td>\n",
       "    </tr>\n",
       "    <tr>\n",
       "      <th>2</th>\n",
       "      <td>34.7</td>\n",
       "    </tr>\n",
       "    <tr>\n",
       "      <th>3</th>\n",
       "      <td>33.4</td>\n",
       "    </tr>\n",
       "    <tr>\n",
       "      <th>4</th>\n",
       "      <td>36.2</td>\n",
       "    </tr>\n",
       "  </tbody>\n",
       "</table>\n",
       "</div>"
      ],
      "text/plain": [
       "   MEDV\n",
       "0  24.0\n",
       "1  21.6\n",
       "2  34.7\n",
       "3  33.4\n",
       "4  36.2"
      ]
     },
     "execution_count": 8,
     "metadata": {},
     "output_type": "execute_result"
    }
   ],
   "source": [
    "Y = data[['MEDV']]\n",
    "Y.head()"
   ]
  },
  {
   "cell_type": "markdown",
   "metadata": {
    "papermill": {
     "duration": 0.082771,
     "end_time": "2022-03-09T02:41:57.752009",
     "exception": false,
     "start_time": "2022-03-09T02:41:57.669238",
     "status": "completed"
    },
    "tags": []
   },
   "source": [
    "## Instantiating the Model\n",
    "For this project, I will use the Scikit-learn library to make linear regression. But there are some notes when using this library:\n",
    "- Every model inside scikit-learn is saved as a class, not an instance\n",
    "- We need to create an instance using the class of the model we want to use\n",
    "- We can say that an instance of a class is an object of a class"
   ]
  },
  {
   "cell_type": "code",
   "execution_count": 9,
   "metadata": {
    "execution": {
     "iopub.execute_input": "2022-03-09T02:41:57.928484Z",
     "iopub.status.busy": "2022-03-09T02:41:57.927879Z",
     "iopub.status.idle": "2022-03-09T02:41:57.931440Z",
     "shell.execute_reply": "2022-03-09T02:41:57.932027Z"
    },
    "papermill": {
     "duration": 0.093369,
     "end_time": "2022-03-09T02:41:57.932180",
     "exception": false,
     "start_time": "2022-03-09T02:41:57.838811",
     "status": "completed"
    },
    "tags": []
   },
   "outputs": [],
   "source": [
    "# import linear regression library\n",
    "from sklearn.linear_model import LinearRegression\n",
    "\n",
    "# instantiating the model\n",
    "model = LinearRegression()"
   ]
  },
  {
   "cell_type": "markdown",
   "metadata": {
    "papermill": {
     "duration": 0.098198,
     "end_time": "2022-03-09T02:41:58.119343",
     "exception": false,
     "start_time": "2022-03-09T02:41:58.021145",
     "status": "completed"
    },
    "tags": []
   },
   "source": [
    "## Train - Test Split\n",
    "We need to split our dataset into 2 datasets:\n",
    "- Train dataset, used to train our model. The machine will try to capture the pattern of our dataset. And that's what we called a model.\n",
    "- Test dataset, used to test our model\n",
    "\n",
    "The rule of thumb for splitting datasets is 70% for train dataset and 30% for the test dataset."
   ]
  },
  {
   "cell_type": "code",
   "execution_count": 10,
   "metadata": {
    "execution": {
     "iopub.execute_input": "2022-03-09T02:41:58.291200Z",
     "iopub.status.busy": "2022-03-09T02:41:58.290604Z",
     "iopub.status.idle": "2022-03-09T02:41:58.295615Z",
     "shell.execute_reply": "2022-03-09T02:41:58.296116Z"
    },
    "papermill": {
     "duration": 0.090481,
     "end_time": "2022-03-09T02:41:58.296321",
     "exception": false,
     "start_time": "2022-03-09T02:41:58.205840",
     "status": "completed"
    },
    "tags": []
   },
   "outputs": [],
   "source": [
    "from sklearn.model_selection import train_test_split\n",
    "\n",
    "X_train, X_test, Y_train, Y_test = train_test_split(X, Y, train_size=0.7, random_state=1)"
   ]
  },
  {
   "cell_type": "code",
   "execution_count": 11,
   "metadata": {
    "execution": {
     "iopub.execute_input": "2022-03-09T02:41:58.469030Z",
     "iopub.status.busy": "2022-03-09T02:41:58.468517Z",
     "iopub.status.idle": "2022-03-09T02:41:58.479747Z",
     "shell.execute_reply": "2022-03-09T02:41:58.480169Z"
    },
    "papermill": {
     "duration": 0.099748,
     "end_time": "2022-03-09T02:41:58.480314",
     "exception": false,
     "start_time": "2022-03-09T02:41:58.380566",
     "status": "completed"
    },
    "tags": []
   },
   "outputs": [
    {
     "name": "stdout",
     "output_type": "stream",
     "text": [
      "(506, 1)\n",
      "(506, 1)\n",
      "\n",
      "(354, 1)\n",
      "(354, 1)\n",
      "\n",
      "(152, 1)\n",
      "(152, 1)\n"
     ]
    }
   ],
   "source": [
    "# let's see the shape of each dataset\n",
    "\n",
    "print(X.shape)\n",
    "print(Y.shape)\n",
    "print()\n",
    "print(X_train.shape)\n",
    "print(Y_train.shape)\n",
    "print()\n",
    "print(X_test.shape)\n",
    "print(Y_test.shape)"
   ]
  },
  {
   "cell_type": "markdown",
   "metadata": {
    "papermill": {
     "duration": 0.083206,
     "end_time": "2022-03-09T02:41:58.647348",
     "exception": false,
     "start_time": "2022-03-09T02:41:58.564142",
     "status": "completed"
    },
    "tags": []
   },
   "source": [
    "## Fitting the Model\n",
    "Fitting means we sent our dataset to the machine for learning the pattern."
   ]
  },
  {
   "cell_type": "code",
   "execution_count": 12,
   "metadata": {
    "execution": {
     "iopub.execute_input": "2022-03-09T02:41:58.832056Z",
     "iopub.status.busy": "2022-03-09T02:41:58.831172Z",
     "iopub.status.idle": "2022-03-09T02:41:58.836672Z",
     "shell.execute_reply": "2022-03-09T02:41:58.837153Z"
    },
    "papermill": {
     "duration": 0.10729,
     "end_time": "2022-03-09T02:41:58.837314",
     "exception": false,
     "start_time": "2022-03-09T02:41:58.730024",
     "status": "completed"
    },
    "tags": []
   },
   "outputs": [
    {
     "data": {
      "text/plain": [
       "LinearRegression()"
      ]
     },
     "execution_count": 12,
     "metadata": {},
     "output_type": "execute_result"
    }
   ],
   "source": [
    "model.fit(X_train, Y_train)"
   ]
  },
  {
   "cell_type": "markdown",
   "metadata": {
    "papermill": {
     "duration": 0.085848,
     "end_time": "2022-03-09T02:41:59.007695",
     "exception": false,
     "start_time": "2022-03-09T02:41:58.921847",
     "status": "completed"
    },
    "tags": []
   },
   "source": [
    "## Parameter Estimates\n",
    "- After training the model, sklearn's parameters are saved inside the model's object\n",
    "- The name of that parameter is always followed by underscore symbol (\\_)"
   ]
  },
  {
   "cell_type": "code",
   "execution_count": 13,
   "metadata": {
    "execution": {
     "iopub.execute_input": "2022-03-09T02:41:59.183897Z",
     "iopub.status.busy": "2022-03-09T02:41:59.182828Z",
     "iopub.status.idle": "2022-03-09T02:41:59.188894Z",
     "shell.execute_reply": "2022-03-09T02:41:59.189492Z"
    },
    "papermill": {
     "duration": 0.094549,
     "end_time": "2022-03-09T02:41:59.189667",
     "exception": false,
     "start_time": "2022-03-09T02:41:59.095118",
     "status": "completed"
    },
    "tags": []
   },
   "outputs": [
    {
     "data": {
      "text/plain": [
       "array([[8.46]])"
      ]
     },
     "execution_count": 13,
     "metadata": {},
     "output_type": "execute_result"
    }
   ],
   "source": [
    "# first, let's see the coefficient value (a)\n",
    "model_coef = model.coef_\n",
    "model_coef.round(2)"
   ]
  },
  {
   "cell_type": "code",
   "execution_count": 14,
   "metadata": {
    "execution": {
     "iopub.execute_input": "2022-03-09T02:41:59.361322Z",
     "iopub.status.busy": "2022-03-09T02:41:59.360323Z",
     "iopub.status.idle": "2022-03-09T02:41:59.366209Z",
     "shell.execute_reply": "2022-03-09T02:41:59.366771Z"
    },
    "papermill": {
     "duration": 0.093729,
     "end_time": "2022-03-09T02:41:59.366920",
     "exception": false,
     "start_time": "2022-03-09T02:41:59.273191",
     "status": "completed"
    },
    "tags": []
   },
   "outputs": [
    {
     "data": {
      "text/plain": [
       "array([-30.57])"
      ]
     },
     "execution_count": 14,
     "metadata": {},
     "output_type": "execute_result"
    }
   ],
   "source": [
    "# model intercept (b)\n",
    "model_intercept = model.intercept_\n",
    "model_intercept.round(2)"
   ]
  },
  {
   "cell_type": "markdown",
   "metadata": {
    "papermill": {
     "duration": 0.085909,
     "end_time": "2022-03-09T02:41:59.538010",
     "exception": false,
     "start_time": "2022-03-09T02:41:59.452101",
     "status": "completed"
    },
    "tags": []
   },
   "source": [
    "## Prediction\n",
    "From these parameters, we can form our equation:\n",
    "\n",
    "$Y = a * X + b$\n",
    "\n",
    "$Y = 8.46 * X + (-30.57)$\n",
    "\n",
    "Hence,\n",
    "\n",
    "$MEDV = 8.46 * RM - 30.57$\n",
    "\n",
    "Let's try to predict `MEDV` with new `RM` data. Make sure our input is a 2D array. We can use `reshape(-1,1)` to transform our data into 2D."
   ]
  },
  {
   "cell_type": "code",
   "execution_count": 15,
   "metadata": {
    "execution": {
     "iopub.execute_input": "2022-03-09T02:41:59.714352Z",
     "iopub.status.busy": "2022-03-09T02:41:59.713367Z",
     "iopub.status.idle": "2022-03-09T02:41:59.719734Z",
     "shell.execute_reply": "2022-03-09T02:41:59.720248Z"
    },
    "papermill": {
     "duration": 0.096025,
     "end_time": "2022-03-09T02:41:59.720388",
     "exception": false,
     "start_time": "2022-03-09T02:41:59.624363",
     "status": "completed"
    },
    "tags": []
   },
   "outputs": [
    {
     "data": {
      "text/plain": [
       "array([[24.43]])"
      ]
     },
     "execution_count": 15,
     "metadata": {},
     "output_type": "execute_result"
    }
   ],
   "source": [
    "# using built-in predict\n",
    "new_RM = np.array([6.5]).reshape(-1,1)\n",
    "model.predict(new_RM).round(2)"
   ]
  },
  {
   "cell_type": "code",
   "execution_count": 16,
   "metadata": {
    "execution": {
     "iopub.execute_input": "2022-03-09T02:41:59.896638Z",
     "iopub.status.busy": "2022-03-09T02:41:59.895779Z",
     "iopub.status.idle": "2022-03-09T02:41:59.901060Z",
     "shell.execute_reply": "2022-03-09T02:41:59.901616Z"
    },
    "papermill": {
     "duration": 0.093492,
     "end_time": "2022-03-09T02:41:59.901760",
     "exception": false,
     "start_time": "2022-03-09T02:41:59.808268",
     "status": "completed"
    },
    "tags": []
   },
   "outputs": [
    {
     "data": {
      "text/plain": [
       "array([[24.43]])"
      ]
     },
     "execution_count": 16,
     "metadata": {},
     "output_type": "execute_result"
    }
   ],
   "source": [
    "# using equation\n",
    "equation_predict = (model_coef * new_RM) + model_intercept\n",
    "equation_predict.round(2)"
   ]
  },
  {
   "cell_type": "markdown",
   "metadata": {
    "papermill": {
     "duration": 0.088626,
     "end_time": "2022-03-09T02:42:00.076390",
     "exception": false,
     "start_time": "2022-03-09T02:41:59.987764",
     "status": "completed"
    },
    "tags": []
   },
   "source": [
    "Using built-in `predict` or calculating it using an equation gives the same result. Then, how about predicting the test dataset?"
   ]
  },
  {
   "cell_type": "code",
   "execution_count": 17,
   "metadata": {
    "execution": {
     "iopub.execute_input": "2022-03-09T02:42:00.255793Z",
     "iopub.status.busy": "2022-03-09T02:42:00.254866Z",
     "iopub.status.idle": "2022-03-09T02:42:00.259454Z",
     "shell.execute_reply": "2022-03-09T02:42:00.258955Z"
    },
    "papermill": {
     "duration": 0.096341,
     "end_time": "2022-03-09T02:42:00.259604",
     "exception": false,
     "start_time": "2022-03-09T02:42:00.163263",
     "status": "completed"
    },
    "tags": []
   },
   "outputs": [
    {
     "name": "stdout",
     "output_type": "stream",
     "text": [
      "[[28.2]\n",
      " [23.9]\n",
      " [16.6]\n",
      " [22. ]\n",
      " [20.8]]\n",
      "\n",
      "[[27.38]\n",
      " [26.08]\n",
      " [20.45]\n",
      " [19.16]\n",
      " [14.8 ]]\n"
     ]
    }
   ],
   "source": [
    "# predict test dataset\n",
    "y_test_pred = model.predict(X_test)\n",
    "\n",
    "# let's check the prediction and the actual value\n",
    "print(Y_test[:5].values)\n",
    "print()\n",
    "print(y_test_pred[:5].round(2))"
   ]
  },
  {
   "cell_type": "markdown",
   "metadata": {
    "papermill": {
     "duration": 0.087406,
     "end_time": "2022-03-09T02:42:00.436209",
     "exception": false,
     "start_time": "2022-03-09T02:42:00.348803",
     "status": "completed"
    },
    "tags": []
   },
   "source": [
    "## Model Evaluation\n",
    "Used to evaluate the performance of our model"
   ]
  },
  {
   "cell_type": "code",
   "execution_count": 18,
   "metadata": {
    "execution": {
     "iopub.execute_input": "2022-03-09T02:42:00.634237Z",
     "iopub.status.busy": "2022-03-09T02:42:00.615874Z",
     "iopub.status.idle": "2022-03-09T02:42:00.857084Z",
     "shell.execute_reply": "2022-03-09T02:42:00.856467Z"
    },
    "papermill": {
     "duration": 0.332977,
     "end_time": "2022-03-09T02:42:00.857224",
     "exception": false,
     "start_time": "2022-03-09T02:42:00.524247",
     "status": "completed"
    },
    "tags": []
   },
   "outputs": [
    {
     "data": {
      "image/png": "[encoded data removed]",
      "text/plain": [
       "<Figure size 432x288 with 1 Axes>"
      ]
     },
     "metadata": {},
     "output_type": "display_data"
    }
   ],
   "source": [
    "plt.scatter(X_test, Y_test, label='test data', color='k')\n",
    "plt.plot(X_test, y_test_pred, label='pred data', color='b', linewidth=3)\n",
    "plt.xlabel('RM')\n",
    "plt.ylabel('MEDV')\n",
    "plt.title('Model Evaluation')\n",
    "plt.legend(loc='upper left')\n",
    "\n",
    "# plt.savefig('./output/linear-regression.png')\n",
    "plt.show()"
   ]
  },
  {
   "cell_type": "markdown",
   "metadata": {
    "papermill": {
     "duration": 0.102987,
     "end_time": "2022-03-09T02:42:01.051269",
     "exception": false,
     "start_time": "2022-03-09T02:42:00.948282",
     "status": "completed"
    },
    "tags": []
   },
   "source": [
    "### Residual\n",
    "- It is the difference between the prediction results and the test data\n",
    "- So we can call it as a prediction error\n",
    "- If residual is in random form, not patterned, it means the model 'works'\n",
    "- If residual = patterned (linear/nonlinear), there is a possibility for improvement\n",
    "- Ideal residual = symmetrical and random"
   ]
  },
  {
   "cell_type": "code",
   "execution_count": 19,
   "metadata": {
    "execution": {
     "iopub.execute_input": "2022-03-09T02:42:01.230605Z",
     "iopub.status.busy": "2022-03-09T02:42:01.230010Z",
     "iopub.status.idle": "2022-03-09T02:42:01.460938Z",
     "shell.execute_reply": "2022-03-09T02:42:01.461426Z"
    },
    "papermill": {
     "duration": 0.321613,
     "end_time": "2022-03-09T02:42:01.461605",
     "exception": false,
     "start_time": "2022-03-09T02:42:01.139992",
     "status": "completed"
    },
    "tags": []
   },
   "outputs": [
    {
     "data": {
      "image/png": "[encoded data removed]",
      "text/plain": [
       "<Figure size 432x288 with 1 Axes>"
      ]
     },
     "metadata": {},
     "output_type": "display_data"
    }
   ],
   "source": [
    "residual = Y_test - y_test_pred\n",
    "\n",
    "plt.scatter(X_test, residual, color='k')\n",
    "plt.hlines(y=0, xmin=X_test.min(), xmax=X_test.max(), linestyle='--', linewidth=3)\n",
    "plt.xlim((4,9))\n",
    "plt.xlabel('RM')\n",
    "plt.ylabel('residual')\n",
    "plt.title('Residual')\n",
    "plt.show()"
   ]
  },
  {
   "cell_type": "markdown",
   "metadata": {
    "papermill": {
     "duration": 0.090149,
     "end_time": "2022-03-09T02:42:01.641342",
     "exception": false,
     "start_time": "2022-03-09T02:42:01.551193",
     "status": "completed"
    },
    "tags": []
   },
   "source": [
    "### Mean Squared Error\n",
    "How to define our model performance? We can use the residual (error) value and calculate the average. So, we get the average of residuals."
   ]
  },
  {
   "cell_type": "code",
   "execution_count": 20,
   "metadata": {
    "execution": {
     "iopub.execute_input": "2022-03-09T02:42:01.823990Z",
     "iopub.status.busy": "2022-03-09T02:42:01.823335Z",
     "iopub.status.idle": "2022-03-09T02:42:01.828269Z",
     "shell.execute_reply": "2022-03-09T02:42:01.828688Z"
    },
    "papermill": {
     "duration": 0.097991,
     "end_time": "2022-03-09T02:42:01.828823",
     "exception": false,
     "start_time": "2022-03-09T02:42:01.730832",
     "status": "completed"
    },
    "tags": []
   },
   "outputs": [
    {
     "data": {
      "text/plain": [
       "MEDV   -0.24\n",
       "dtype: float64"
      ]
     },
     "execution_count": 20,
     "metadata": {},
     "output_type": "execute_result"
    }
   ],
   "source": [
    "residual.mean().round(2)"
   ]
  },
  {
   "cell_type": "markdown",
   "metadata": {
    "papermill": {
     "duration": 0.09025,
     "end_time": "2022-03-09T02:42:02.008161",
     "exception": false,
     "start_time": "2022-03-09T02:42:01.917911",
     "status": "completed"
    },
    "tags": []
   },
   "source": [
    "- The average residual is -0.24, it's close to 0\n",
    "- But there is a problem: residuals can be positive or negative\n",
    "- Averaging 'canceled' the value, so it's not accurate\n",
    "- Solution: make a square for each residual, then do the average (mean squared error)\n",
    "\n",
    "We can calculate the MSE manually, or using a built-in function from Scikit-learn."
   ]
  },
  {
   "cell_type": "code",
   "execution_count": 21,
   "metadata": {
    "execution": {
     "iopub.execute_input": "2022-03-09T02:42:02.199898Z",
     "iopub.status.busy": "2022-03-09T02:42:02.199288Z",
     "iopub.status.idle": "2022-03-09T02:42:02.205361Z",
     "shell.execute_reply": "2022-03-09T02:42:02.205862Z"
    },
    "papermill": {
     "duration": 0.102576,
     "end_time": "2022-03-09T02:42:02.206034",
     "exception": false,
     "start_time": "2022-03-09T02:42:02.103458",
     "status": "completed"
    },
    "tags": []
   },
   "outputs": [
    {
     "data": {
      "text/plain": [
       "MEDV    36.52\n",
       "dtype: float64"
      ]
     },
     "execution_count": 21,
     "metadata": {},
     "output_type": "execute_result"
    }
   ],
   "source": [
    "# manual calculation\n",
    "(residual**2).mean().round(2)"
   ]
  },
  {
   "cell_type": "code",
   "execution_count": 22,
   "metadata": {
    "execution": {
     "iopub.execute_input": "2022-03-09T02:42:02.391713Z",
     "iopub.status.busy": "2022-03-09T02:42:02.391001Z",
     "iopub.status.idle": "2022-03-09T02:42:02.397920Z",
     "shell.execute_reply": "2022-03-09T02:42:02.397446Z"
    },
    "papermill": {
     "duration": 0.099367,
     "end_time": "2022-03-09T02:42:02.398039",
     "exception": false,
     "start_time": "2022-03-09T02:42:02.298672",
     "status": "completed"
    },
    "tags": []
   },
   "outputs": [
    {
     "data": {
      "text/plain": [
       "36.52"
      ]
     },
     "execution_count": 22,
     "metadata": {},
     "output_type": "execute_result"
    }
   ],
   "source": [
    "# using function from scikit-learn\n",
    "from sklearn.metrics import mean_squared_error\n",
    "\n",
    "mean_squared_error(Y_test, y_test_pred).round(2)"
   ]
  },
  {
   "cell_type": "markdown",
   "metadata": {
    "papermill": {
     "duration": 0.091229,
     "end_time": "2022-03-09T02:42:02.580562",
     "exception": false,
     "start_time": "2022-03-09T02:42:02.489333",
     "status": "completed"
    },
    "tags": []
   },
   "source": [
    "- In general, the smaller the MSE, the better, yet there is no absolute good or bad threshold.\n",
    "- We can define it based on the dependent variable, i.e., MEDV in the test set.\n",
    "- To make the scale of errors to be the same as the scale of targets, root mean squared error (RMSE) is often used. It is the square root of MSE."
   ]
  },
  {
   "cell_type": "code",
   "execution_count": 23,
   "metadata": {
    "execution": {
     "iopub.execute_input": "2022-03-09T02:42:02.769781Z",
     "iopub.status.busy": "2022-03-09T02:42:02.769128Z",
     "iopub.status.idle": "2022-03-09T02:42:02.775585Z",
     "shell.execute_reply": "2022-03-09T02:42:02.776029Z"
    },
    "papermill": {
     "duration": 0.103,
     "end_time": "2022-03-09T02:42:02.776182",
     "exception": false,
     "start_time": "2022-03-09T02:42:02.673182",
     "status": "completed"
    },
    "tags": []
   },
   "outputs": [
    {
     "data": {
      "text/plain": [
       "6.04"
      ]
     },
     "execution_count": 23,
     "metadata": {},
     "output_type": "execute_result"
    }
   ],
   "source": [
    "np.sqrt(mean_squared_error(Y_test, y_test_pred)).round(2)"
   ]
  },
  {
   "cell_type": "markdown",
   "metadata": {
    "papermill": {
     "duration": 0.090697,
     "end_time": "2022-03-09T02:42:02.957611",
     "exception": false,
     "start_time": "2022-03-09T02:42:02.866914",
     "status": "completed"
    },
    "tags": []
   },
   "source": [
    "### R-Squared\n",
    "It is the proportion of total variation explained by the model. We can use `score()` to obtain the R-squared value."
   ]
  },
  {
   "cell_type": "code",
   "execution_count": 24,
   "metadata": {
    "execution": {
     "iopub.execute_input": "2022-03-09T02:42:03.142810Z",
     "iopub.status.busy": "2022-03-09T02:42:03.142140Z",
     "iopub.status.idle": "2022-03-09T02:42:03.149294Z",
     "shell.execute_reply": "2022-03-09T02:42:03.149742Z"
    },
    "papermill": {
     "duration": 0.101017,
     "end_time": "2022-03-09T02:42:03.149885",
     "exception": false,
     "start_time": "2022-03-09T02:42:03.048868",
     "status": "completed"
    },
    "tags": []
   },
   "outputs": [
    {
     "data": {
      "text/plain": [
       "0.602"
      ]
     },
     "execution_count": 24,
     "metadata": {},
     "output_type": "execute_result"
    }
   ],
   "source": [
    "model.score(X_test, Y_test).round(3)"
   ]
  },
  {
   "cell_type": "markdown",
   "metadata": {
    "papermill": {
     "duration": 0.09273,
     "end_time": "2022-03-09T02:42:03.337657",
     "exception": false,
     "start_time": "2022-03-09T02:42:03.244927",
     "status": "completed"
    },
    "tags": []
   },
   "source": [
    "Here, around 60% of the variability in the testing data is explained by our model."
   ]
  },
  {
   "cell_type": "markdown",
   "metadata": {
    "papermill": {
     "duration": 0.091543,
     "end_time": "2022-03-09T02:42:03.523743",
     "exception": false,
     "start_time": "2022-03-09T02:42:03.432200",
     "status": "completed"
    },
    "tags": []
   },
   "source": [
    "If you want to manually calculate R-squared, you need to calculate the variance of the test dataset and residual.\n",
    "\n",
    "Step to calculate variance:\n",
    "- Calculate the difference between each datapoint with the average\n",
    "- Calculate the squared of difference\n",
    "- Sum all of the squared roots, it's called variance"
   ]
  },
  {
   "cell_type": "markdown",
   "metadata": {
    "papermill": {
     "duration": 0.091014,
     "end_time": "2022-03-09T02:42:03.707423",
     "exception": false,
     "start_time": "2022-03-09T02:42:03.616409",
     "status": "completed"
    },
    "tags": []
   },
   "source": [
    "#### Total Variance of Test Set"
   ]
  },
  {
   "cell_type": "code",
   "execution_count": 25,
   "metadata": {
    "execution": {
     "iopub.execute_input": "2022-03-09T02:42:03.896587Z",
     "iopub.status.busy": "2022-03-09T02:42:03.895970Z",
     "iopub.status.idle": "2022-03-09T02:42:03.906116Z",
     "shell.execute_reply": "2022-03-09T02:42:03.905511Z"
    },
    "papermill": {
     "duration": 0.103679,
     "end_time": "2022-03-09T02:42:03.906256",
     "exception": false,
     "start_time": "2022-03-09T02:42:03.802577",
     "status": "completed"
    },
    "tags": []
   },
   "outputs": [
    {
     "data": {
      "text/html": [
       "<div>\n",
       "<style scoped>\n",
       "    .dataframe tbody tr th:only-of-type {\n",
       "        vertical-align: middle;\n",
       "    }\n",
       "\n",
       "    .dataframe tbody tr th {\n",
       "        vertical-align: top;\n",
       "    }\n",
       "\n",
       "    .dataframe thead th {\n",
       "        text-align: right;\n",
       "    }\n",
       "</style>\n",
       "<table border=\"1\" class=\"dataframe\">\n",
       "  <thead>\n",
       "    <tr style=\"text-align: right;\">\n",
       "      <th></th>\n",
       "      <th>MEDV</th>\n",
       "    </tr>\n",
       "  </thead>\n",
       "  <tbody>\n",
       "    <tr>\n",
       "      <th>307</th>\n",
       "      <td>5.217763</td>\n",
       "    </tr>\n",
       "    <tr>\n",
       "      <th>343</th>\n",
       "      <td>0.917763</td>\n",
       "    </tr>\n",
       "    <tr>\n",
       "      <th>47</th>\n",
       "      <td>-6.382237</td>\n",
       "    </tr>\n",
       "    <tr>\n",
       "      <th>67</th>\n",
       "      <td>-0.982237</td>\n",
       "    </tr>\n",
       "    <tr>\n",
       "      <th>362</th>\n",
       "      <td>-2.182237</td>\n",
       "    </tr>\n",
       "  </tbody>\n",
       "</table>\n",
       "</div>"
      ],
      "text/plain": [
       "         MEDV\n",
       "307  5.217763\n",
       "343  0.917763\n",
       "47  -6.382237\n",
       "67  -0.982237\n",
       "362 -2.182237"
      ]
     },
     "execution_count": 25,
     "metadata": {},
     "output_type": "execute_result"
    }
   ],
   "source": [
    "# step 1, calculate the difference\n",
    "diff = (Y_test - Y_test.mean())\n",
    "diff.head()"
   ]
  },
  {
   "cell_type": "code",
   "execution_count": 26,
   "metadata": {
    "execution": {
     "iopub.execute_input": "2022-03-09T02:42:04.107909Z",
     "iopub.status.busy": "2022-03-09T02:42:04.107243Z",
     "iopub.status.idle": "2022-03-09T02:42:04.109857Z",
     "shell.execute_reply": "2022-03-09T02:42:04.110380Z"
    },
    "papermill": {
     "duration": 0.110084,
     "end_time": "2022-03-09T02:42:04.110540",
     "exception": false,
     "start_time": "2022-03-09T02:42:04.000456",
     "status": "completed"
    },
    "tags": []
   },
   "outputs": [
    {
     "data": {
      "text/html": [
       "<div>\n",
       "<style scoped>\n",
       "    .dataframe tbody tr th:only-of-type {\n",
       "        vertical-align: middle;\n",
       "    }\n",
       "\n",
       "    .dataframe tbody tr th {\n",
       "        vertical-align: top;\n",
       "    }\n",
       "\n",
       "    .dataframe thead th {\n",
       "        text-align: right;\n",
       "    }\n",
       "</style>\n",
       "<table border=\"1\" class=\"dataframe\">\n",
       "  <thead>\n",
       "    <tr style=\"text-align: right;\">\n",
       "      <th></th>\n",
       "      <th>MEDV</th>\n",
       "    </tr>\n",
       "  </thead>\n",
       "  <tbody>\n",
       "    <tr>\n",
       "      <th>307</th>\n",
       "      <td>27.225052</td>\n",
       "    </tr>\n",
       "    <tr>\n",
       "      <th>343</th>\n",
       "      <td>0.842289</td>\n",
       "    </tr>\n",
       "    <tr>\n",
       "      <th>47</th>\n",
       "      <td>40.732947</td>\n",
       "    </tr>\n",
       "    <tr>\n",
       "      <th>67</th>\n",
       "      <td>0.964789</td>\n",
       "    </tr>\n",
       "    <tr>\n",
       "      <th>362</th>\n",
       "      <td>4.762158</td>\n",
       "    </tr>\n",
       "  </tbody>\n",
       "</table>\n",
       "</div>"
      ],
      "text/plain": [
       "          MEDV\n",
       "307  27.225052\n",
       "343   0.842289\n",
       "47   40.732947\n",
       "67    0.964789\n",
       "362   4.762158"
      ]
     },
     "execution_count": 26,
     "metadata": {},
     "output_type": "execute_result"
    }
   ],
   "source": [
    "# step 2, calculate the squared of difference\n",
    "squared = diff**2\n",
    "squared.head()"
   ]
  },
  {
   "cell_type": "code",
   "execution_count": 27,
   "metadata": {
    "execution": {
     "iopub.execute_input": "2022-03-09T02:42:04.307475Z",
     "iopub.status.busy": "2022-03-09T02:42:04.306825Z",
     "iopub.status.idle": "2022-03-09T02:42:04.309595Z",
     "shell.execute_reply": "2022-03-09T02:42:04.310012Z"
    },
    "papermill": {
     "duration": 0.10336,
     "end_time": "2022-03-09T02:42:04.310165",
     "exception": false,
     "start_time": "2022-03-09T02:42:04.206805",
     "status": "completed"
    },
    "tags": []
   },
   "outputs": [
    {
     "data": {
      "text/plain": [
       "MEDV    13931.48\n",
       "dtype: float64"
      ]
     },
     "execution_count": 27,
     "metadata": {},
     "output_type": "execute_result"
    }
   ],
   "source": [
    "# step 3, sum all the squared root\n",
    "variance_test = squared.sum()\n",
    "variance_test.round(2)"
   ]
  },
  {
   "cell_type": "markdown",
   "metadata": {
    "papermill": {
     "duration": 0.094034,
     "end_time": "2022-03-09T02:42:04.499284",
     "exception": false,
     "start_time": "2022-03-09T02:42:04.405250",
     "status": "completed"
    },
    "tags": []
   },
   "source": [
    "#### Total Variance of Residual\n",
    "- Since residual = Y_test - y_test_pred, we can say residual = diff\n",
    "- I will calculate the variance in 1 line of code to make it simple"
   ]
  },
  {
   "cell_type": "code",
   "execution_count": 28,
   "metadata": {
    "execution": {
     "iopub.execute_input": "2022-03-09T02:42:04.694691Z",
     "iopub.status.busy": "2022-03-09T02:42:04.693984Z",
     "iopub.status.idle": "2022-03-09T02:42:04.696401Z",
     "shell.execute_reply": "2022-03-09T02:42:04.696952Z"
    },
    "papermill": {
     "duration": 0.102739,
     "end_time": "2022-03-09T02:42:04.697108",
     "exception": false,
     "start_time": "2022-03-09T02:42:04.594369",
     "status": "completed"
    },
    "tags": []
   },
   "outputs": [
    {
     "data": {
      "text/plain": [
       "MEDV    5550.62\n",
       "dtype: float64"
      ]
     },
     "execution_count": 28,
     "metadata": {},
     "output_type": "execute_result"
    }
   ],
   "source": [
    "variance_residual = (residual**2).sum()\n",
    "variance_residual.round(2)"
   ]
  },
  {
   "cell_type": "markdown",
   "metadata": {
    "papermill": {
     "duration": 0.096133,
     "end_time": "2022-03-09T02:42:04.890737",
     "exception": false,
     "start_time": "2022-03-09T02:42:04.794604",
     "status": "completed"
    },
    "tags": []
   },
   "source": [
    "#### Proportion of Total Variation\n",
    "It's R-squared."
   ]
  },
  {
   "cell_type": "code",
   "execution_count": 29,
   "metadata": {
    "execution": {
     "iopub.execute_input": "2022-03-09T02:42:05.080637Z",
     "iopub.status.busy": "2022-03-09T02:42:05.080038Z",
     "iopub.status.idle": "2022-03-09T02:42:05.086870Z",
     "shell.execute_reply": "2022-03-09T02:42:05.086391Z"
    },
    "papermill": {
     "duration": 0.103297,
     "end_time": "2022-03-09T02:42:05.087005",
     "exception": false,
     "start_time": "2022-03-09T02:42:04.983708",
     "status": "completed"
    },
    "tags": []
   },
   "outputs": [
    {
     "data": {
      "text/plain": [
       "MEDV    0.602\n",
       "dtype: float64"
      ]
     },
     "execution_count": 29,
     "metadata": {},
     "output_type": "execute_result"
    }
   ],
   "source": [
    "R_sqr = 1 - (variance_residual)/(variance_test)\n",
    "R_sqr.round(3)"
   ]
  },
  {
   "cell_type": "markdown",
   "metadata": {
    "papermill": {
     "duration": 0.095428,
     "end_time": "2022-03-09T02:42:05.276127",
     "exception": false,
     "start_time": "2022-03-09T02:42:05.180699",
     "status": "completed"
    },
    "tags": []
   },
   "source": [
    "It has the same value as `score()`, right?\n",
    "- A perfect model explains all the variations in the data\n",
    "- Note R-squared is between 0% and 100%\n",
    "    - 0% indicates that the model explains none of the variability of the response data around its mean.\n",
    "    - 100% indicates that the model explains all of it."
   ]
  },
  {
   "cell_type": "markdown",
   "metadata": {
    "papermill": {
     "duration": 0.094458,
     "end_time": "2022-03-09T02:42:05.468801",
     "exception": false,
     "start_time": "2022-03-09T02:42:05.374343",
     "status": "completed"
    },
    "tags": []
   },
   "source": [
    "# Multivariate Linear Regression\n",
    "Multivariate Linear Regression means I will do Linear Regression with more than 1 attribute to predict the output.\n",
    "\n",
    "From a mathematic point of view, multivariate linear regression is similar to univariate linear regression, it's a way to find parameters for the linear equation:\n",
    "\n",
    "$Y = a_1*X_1 + a_2*X_2 + ... + a_n * X_n + b$\n",
    "\n",
    "Where,\n",
    "- $Y$ = output\n",
    "- $X$ = input\n",
    "- $a$ = slope of the line (gradient) aka regression coefficient\n",
    "- $b$ = intercept\n",
    "\n",
    "We already have $X$ and $Y$ values, the linear regression algorithm will find the best $a$ and $b$ parameters for us. But, this time we need to find more than 1 coefficient. For multivariate linear regression, I will use `RM` and `LSTAT` to predict `MEDV` those have the highest correlation to `MEDV`.\n",
    "\n",
    "The steps are the same as univariate regression, so I'll straight to coding without many explanations."
   ]
  },
  {
   "cell_type": "markdown",
   "metadata": {
    "papermill": {
     "duration": 0.093215,
     "end_time": "2022-03-09T02:42:05.655099",
     "exception": false,
     "start_time": "2022-03-09T02:42:05.561884",
     "status": "completed"
    },
    "tags": []
   },
   "source": [
    "## Building the Model"
   ]
  },
  {
   "cell_type": "code",
   "execution_count": 30,
   "metadata": {
    "execution": {
     "iopub.execute_input": "2022-03-09T02:42:06.047664Z",
     "iopub.status.busy": "2022-03-09T02:42:06.046942Z",
     "iopub.status.idle": "2022-03-09T02:42:06.050472Z",
     "shell.execute_reply": "2022-03-09T02:42:06.051054Z"
    },
    "papermill": {
     "duration": 0.301253,
     "end_time": "2022-03-09T02:42:06.051216",
     "exception": false,
     "start_time": "2022-03-09T02:42:05.749963",
     "status": "completed"
    },
    "tags": []
   },
   "outputs": [
    {
     "data": {
      "text/plain": [
       "LinearRegression()"
      ]
     },
     "execution_count": 30,
     "metadata": {},
     "output_type": "execute_result"
    }
   ],
   "source": [
    "# feature selection\n",
    "X2 = data[['RM','LSTAT']]\n",
    "Y = data[['MEDV']]\n",
    "\n",
    "# train - test split\n",
    "X2_train, X2_test, Y_train, Y_test = train_test_split(X2, Y, test_size=0.3, random_state=1)\n",
    "\n",
    "# instantiating the model\n",
    "model_2 = LinearRegression()\n",
    "\n",
    "# fitting the model\n",
    "model_2.fit(X2_train, Y_train)"
   ]
  },
  {
   "cell_type": "code",
   "execution_count": 31,
   "metadata": {
    "execution": {
     "iopub.execute_input": "2022-03-09T02:42:06.260377Z",
     "iopub.status.busy": "2022-03-09T02:42:06.257635Z",
     "iopub.status.idle": "2022-03-09T02:42:06.263329Z",
     "shell.execute_reply": "2022-03-09T02:42:06.263928Z"
    },
    "papermill": {
     "duration": 0.11295,
     "end_time": "2022-03-09T02:42:06.264093",
     "exception": false,
     "start_time": "2022-03-09T02:42:06.151143",
     "status": "completed"
    },
    "tags": []
   },
   "outputs": [
    {
     "data": {
      "text/plain": [
       "array([[ 4.13, -0.68]])"
      ]
     },
     "execution_count": 31,
     "metadata": {},
     "output_type": "execute_result"
    }
   ],
   "source": [
    "model_2_coef = model_2.coef_.round(2)\n",
    "model_2_coef"
   ]
  },
  {
   "cell_type": "code",
   "execution_count": 32,
   "metadata": {
    "execution": {
     "iopub.execute_input": "2022-03-09T02:42:06.466028Z",
     "iopub.status.busy": "2022-03-09T02:42:06.465286Z",
     "iopub.status.idle": "2022-03-09T02:42:06.468302Z",
     "shell.execute_reply": "2022-03-09T02:42:06.468825Z"
    },
    "papermill": {
     "duration": 0.106352,
     "end_time": "2022-03-09T02:42:06.469003",
     "exception": false,
     "start_time": "2022-03-09T02:42:06.362651",
     "status": "completed"
    },
    "tags": []
   },
   "outputs": [
    {
     "data": {
      "text/plain": [
       "array([5.32])"
      ]
     },
     "execution_count": 32,
     "metadata": {},
     "output_type": "execute_result"
    }
   ],
   "source": [
    "model_2_intercept = model_2.intercept_.round(2)\n",
    "model_2_intercept"
   ]
  },
  {
   "cell_type": "markdown",
   "metadata": {
    "papermill": {
     "duration": 0.097991,
     "end_time": "2022-03-09T02:42:06.664287",
     "exception": false,
     "start_time": "2022-03-09T02:42:06.566296",
     "status": "completed"
    },
    "tags": []
   },
   "source": [
    "From the above values, we can rewrite our equation:\n",
    "\n",
    "$Y = a_1*X_1 + a_2*X_2 + b$\n",
    "\n",
    "$Y = 4.13*X_1 + (-0.68)*X_2 + 5.32$\n",
    "\n",
    "Hence,\n",
    "\n",
    "$MEDV = 4.13*RM - 0.68*LSTAT + 5.32$"
   ]
  },
  {
   "cell_type": "code",
   "execution_count": 33,
   "metadata": {
    "execution": {
     "iopub.execute_input": "2022-03-09T02:42:06.859817Z",
     "iopub.status.busy": "2022-03-09T02:42:06.858901Z",
     "iopub.status.idle": "2022-03-09T02:42:06.863894Z",
     "shell.execute_reply": "2022-03-09T02:42:06.864466Z"
    },
    "papermill": {
     "duration": 0.1038,
     "end_time": "2022-03-09T02:42:06.864663",
     "exception": false,
     "start_time": "2022-03-09T02:42:06.760863",
     "status": "completed"
    },
    "tags": []
   },
   "outputs": [],
   "source": [
    "# predict\n",
    "y_test_pred_2 = model_2.predict(X2_test)"
   ]
  },
  {
   "cell_type": "markdown",
   "metadata": {
    "papermill": {
     "duration": 0.098975,
     "end_time": "2022-03-09T02:42:07.060607",
     "exception": false,
     "start_time": "2022-03-09T02:42:06.961632",
     "status": "completed"
    },
    "tags": []
   },
   "source": [
    "## Visualizing the Data"
   ]
  },
  {
   "cell_type": "code",
   "execution_count": 34,
   "metadata": {
    "execution": {
     "iopub.execute_input": "2022-03-09T02:42:07.258044Z",
     "iopub.status.busy": "2022-03-09T02:42:07.257202Z",
     "iopub.status.idle": "2022-03-09T02:42:07.425683Z",
     "shell.execute_reply": "2022-03-09T02:42:07.426178Z"
    },
    "papermill": {
     "duration": 0.268291,
     "end_time": "2022-03-09T02:42:07.426360",
     "exception": false,
     "start_time": "2022-03-09T02:42:07.158069",
     "status": "completed"
    },
    "tags": []
   },
   "outputs": [
    {
     "data": {
      "image/png": "[encoded data removed]",
      "text/plain": [
       "<Figure size 432x288 with 1 Axes>"
      ]
     },
     "metadata": {
      "needs_background": "light"
     },
     "output_type": "display_data"
    }
   ],
   "source": [
    "# I'm resetting the seaborn theme\n",
    "# because the surface can't be transparent\n",
    "sns.reset_orig()\n",
    "\n",
    "# visualize the data in 3D\n",
    "fig = plt.figure()\n",
    "ax = fig.add_subplot(111, projection='3d')\n",
    "\n",
    "# X_viz = X2.values.reshape(-1,2)\n",
    "# x1 = X_viz[:,0]\n",
    "# x2 = X_viz[:,1]\n",
    "x1 = X2['RM']\n",
    "x2 = X2['LSTAT']\n",
    "x3 = Y['MEDV']\n",
    "\n",
    "ax.scatter3D(x1, x2, x3, c=x3, cmap='viridis');\n",
    "\n",
    "plt.show()"
   ]
  },
  {
   "cell_type": "code",
   "execution_count": 35,
   "metadata": {
    "execution": {
     "iopub.execute_input": "2022-03-09T02:42:07.627999Z",
     "iopub.status.busy": "2022-03-09T02:42:07.627006Z",
     "iopub.status.idle": "2022-03-09T02:42:08.292041Z",
     "shell.execute_reply": "2022-03-09T02:42:08.291554Z"
    },
    "papermill": {
     "duration": 0.766127,
     "end_time": "2022-03-09T02:42:08.292178",
     "exception": false,
     "start_time": "2022-03-09T02:42:07.526051",
     "status": "completed"
    },
    "tags": []
   },
   "outputs": [
    {
     "data": {
      "image/png": "[encoded data removed]",
      "text/plain": [
       "<Figure size 864x288 with 1 Axes>"
      ]
     },
     "metadata": {
      "needs_background": "light"
     },
     "output_type": "display_data"
    }
   ],
   "source": [
    "# adding a meshgrid\n",
    "x_surf, y_surf = np.meshgrid(np.linspace(x1.min(), x1.max(), 100), np.linspace(x2.min(), x2.max(), 100))\n",
    "onlyX = pd.DataFrame({\n",
    "        'RM':x_surf.ravel(),\n",
    "        'LSTAT':y_surf.ravel()})\n",
    "fittedY = model_2.predict(onlyX)\n",
    "fittedY = np.array(fittedY)\n",
    "\n",
    "fig = plt.figure(figsize=(12,4))\n",
    "ax = fig.add_subplot(111, projection='3d')\n",
    "ax.scatter(x1, x2, x3, c=x3, cmap='viridis', marker='o', alpha=0.5)\n",
    "ax.plot_surface(x_surf, y_surf, fittedY.reshape(x_surf.shape), color='None', alpha=0.3)\n",
    "ax.set_xlabel('RM')\n",
    "ax.set_ylabel('LSTAT')\n",
    "ax.set_zlabel('MEDV')\n",
    "ax.view_init(elev=15, azim=30)\n",
    "plt.show()"
   ]
  },
  {
   "cell_type": "code",
   "execution_count": 36,
   "metadata": {
    "execution": {
     "iopub.execute_input": "2022-03-09T02:42:08.511667Z",
     "iopub.status.busy": "2022-03-09T02:42:08.510613Z",
     "iopub.status.idle": "2022-03-09T02:42:10.511350Z",
     "shell.execute_reply": "2022-03-09T02:42:10.511836Z"
    },
    "papermill": {
     "duration": 2.113154,
     "end_time": "2022-03-09T02:42:10.511998",
     "exception": false,
     "start_time": "2022-03-09T02:42:08.398844",
     "status": "completed"
    },
    "tags": []
   },
   "outputs": [
    {
     "data": {
      "image/png": "[encoded data removed]",
      "text/plain": [
       "<Figure size 864x288 with 3 Axes>"
      ]
     },
     "metadata": {
      "needs_background": "light"
     },
     "output_type": "display_data"
    }
   ],
   "source": [
    "# plot with different point of view\n",
    "fig = plt.figure(figsize=(12,4))\n",
    "\n",
    "ax1 = fig.add_subplot(131, projection='3d')\n",
    "ax2 = fig.add_subplot(132, projection='3d')\n",
    "ax3 = fig.add_subplot(133, projection='3d')\n",
    "axes = [ax1, ax2, ax3]\n",
    "\n",
    "for ax in axes:\n",
    "    ax.scatter(x1, x2, x3, c=x3, cmap='viridis', marker='o', alpha=0.5)\n",
    "    ax.plot_surface(x_surf, y_surf, fittedY.reshape(x_surf.shape), color='None', alpha=0.3)\n",
    "    ax.set_xlabel('RM')\n",
    "    ax.set_ylabel('LSTAT')\n",
    "    ax.set_zlabel('MEDV')\n",
    "\n",
    "ax1.view_init(elev=15, azim=30)\n",
    "ax2.view_init(elev=15, azim=-120)\n",
    "ax3.view_init(elev=30, azim=45)\n",
    "fig.tight_layout()\n",
    "plt.show()"
   ]
  },
  {
   "cell_type": "markdown",
   "metadata": {
    "papermill": {
     "duration": 0.10633,
     "end_time": "2022-03-09T02:42:10.739245",
     "exception": false,
     "start_time": "2022-03-09T02:42:10.632915",
     "status": "completed"
    },
    "tags": []
   },
   "source": [
    "# Comparing Model"
   ]
  },
  {
   "cell_type": "markdown",
   "metadata": {
    "papermill": {
     "duration": 0.102664,
     "end_time": "2022-03-09T02:42:10.946753",
     "exception": false,
     "start_time": "2022-03-09T02:42:10.844089",
     "status": "completed"
    },
    "tags": []
   },
   "source": [
    "## Mean Squared Error\n",
    "- An easy metric for linear regression is the mean squared error (MSE) on the testing data\n",
    "- Better models have lower MSE"
   ]
  },
  {
   "cell_type": "code",
   "execution_count": 37,
   "metadata": {
    "execution": {
     "iopub.execute_input": "2022-03-09T02:42:11.162436Z",
     "iopub.status.busy": "2022-03-09T02:42:11.161774Z",
     "iopub.status.idle": "2022-03-09T02:42:11.170525Z",
     "shell.execute_reply": "2022-03-09T02:42:11.171544Z"
    },
    "papermill": {
     "duration": 0.122374,
     "end_time": "2022-03-09T02:42:11.171835",
     "exception": false,
     "start_time": "2022-03-09T02:42:11.049461",
     "status": "completed"
    },
    "tags": []
   },
   "outputs": [
    {
     "name": "stdout",
     "output_type": "stream",
     "text": [
      "Univariate Linear Regression MSE: 36.52\n",
      "Multivariate Linear Regression MSE: 28.93\n"
     ]
    }
   ],
   "source": [
    "mse_1 = mean_squared_error(Y_test, y_test_pred)\n",
    "mse_2 = mean_squared_error(Y_test, y_test_pred_2)\n",
    "\n",
    "print('Univariate Linear Regression MSE:', mse_1.round(2))\n",
    "print('Multivariate Linear Regression MSE:', mse_2.round(2))"
   ]
  },
  {
   "cell_type": "code",
   "execution_count": 38,
   "metadata": {
    "execution": {
     "iopub.execute_input": "2022-03-09T02:42:11.393174Z",
     "iopub.status.busy": "2022-03-09T02:42:11.392592Z",
     "iopub.status.idle": "2022-03-09T02:42:11.395309Z",
     "shell.execute_reply": "2022-03-09T02:42:11.395979Z"
    },
    "papermill": {
     "duration": 0.113477,
     "end_time": "2022-03-09T02:42:11.396187",
     "exception": false,
     "start_time": "2022-03-09T02:42:11.282710",
     "status": "completed"
    },
    "tags": []
   },
   "outputs": [
    {
     "name": "stdout",
     "output_type": "stream",
     "text": [
      "Improvement: 20.76% reduction\n"
     ]
    }
   ],
   "source": [
    "# calculate improvement of MSE\n",
    "mse_percentage = (mse_1-mse_2)/mse_1 * 100\n",
    "\n",
    "print(f'Improvement: {mse_percentage.round(2)}% reduction')"
   ]
  },
  {
   "cell_type": "markdown",
   "metadata": {
    "papermill": {
     "duration": 0.108911,
     "end_time": "2022-03-09T02:42:11.613049",
     "exception": false,
     "start_time": "2022-03-09T02:42:11.504138",
     "status": "completed"
    },
    "tags": []
   },
   "source": [
    "## R-Squared\n",
    "- Another scoring method, we can use R-squared\n",
    "- The score is represented in percentage value, ranging from 0% to 100%\n",
    "- Better models have higher R-squared"
   ]
  },
  {
   "cell_type": "code",
   "execution_count": 39,
   "metadata": {
    "execution": {
     "iopub.execute_input": "2022-03-09T02:42:11.831600Z",
     "iopub.status.busy": "2022-03-09T02:42:11.830956Z",
     "iopub.status.idle": "2022-03-09T02:42:11.841655Z",
     "shell.execute_reply": "2022-03-09T02:42:11.842225Z"
    },
    "papermill": {
     "duration": 0.123109,
     "end_time": "2022-03-09T02:42:11.842395",
     "exception": false,
     "start_time": "2022-03-09T02:42:11.719286",
     "status": "completed"
    },
    "tags": []
   },
   "outputs": [
    {
     "name": "stdout",
     "output_type": "stream",
     "text": [
      "Univariate Linear Regression R-Squared: 0.602\n",
      "Multivariate Linear Regression R-Squared: 0.684\n"
     ]
    }
   ],
   "source": [
    "R_sqr_1 = model.score(X_test, Y_test)\n",
    "R_sqr_2 = model_2.score(X2_test, Y_test)\n",
    "\n",
    "print('Univariate Linear Regression R-Squared:', R_sqr_1.round(3))\n",
    "print('Multivariate Linear Regression R-Squared:', R_sqr_2.round(3))"
   ]
  },
  {
   "cell_type": "code",
   "execution_count": 40,
   "metadata": {
    "execution": {
     "iopub.execute_input": "2022-03-09T02:42:12.063442Z",
     "iopub.status.busy": "2022-03-09T02:42:12.062739Z",
     "iopub.status.idle": "2022-03-09T02:42:12.066565Z",
     "shell.execute_reply": "2022-03-09T02:42:12.067317Z"
    },
    "papermill": {
     "duration": 0.116916,
     "end_time": "2022-03-09T02:42:12.067724",
     "exception": false,
     "start_time": "2022-03-09T02:42:11.950808",
     "status": "completed"
    },
    "tags": []
   },
   "outputs": [
    {
     "name": "stdout",
     "output_type": "stream",
     "text": [
      "Improvement: 13.75% adjustment\n"
     ]
    }
   ],
   "source": [
    "# calculate improvement of MSE\n",
    "R_sqr_percentage = (R_sqr_2-R_sqr_1)/R_sqr_1 * 100\n",
    "\n",
    "print(f'Improvement: {R_sqr_percentage.round(2)}% adjustment')"
   ]
  },
  {
   "cell_type": "markdown",
   "metadata": {
    "papermill": {
     "duration": 0.107788,
     "end_time": "2022-03-09T02:42:12.287742",
     "exception": false,
     "start_time": "2022-03-09T02:42:12.179954",
     "status": "completed"
    },
    "tags": []
   },
   "source": [
    "# Conclusion\n",
    "Using multivariate linear regression, we can see some improvement. But, the R-square score is still under 70%. So, this project has a possibility for improvement. Such as handling the imbalance (skewed) data, feature selection, etc."
   ]
  }
 ],
 "metadata": {
  "kernelspec": {
   "display_name": "Python 3",
   "language": "python",
   "name": "python3"
  },
  "language_info": {
   "codemirror_mode": {
    "name": "ipython",
    "version": 3
   },
   "file_extension": ".py",
   "mimetype": "text/x-python",
   "name": "python",
   "nbconvert_exporter": "python",
   "pygments_lexer": "ipython3",
   "version": "3.8.5"
  },
  "papermill": {
   "default_parameters": {},
   "duration": 46.920762,
   "end_time": "2022-03-09T02:42:13.207726",
   "environment_variables": {},
   "exception": null,
   "input_path": "__notebook__.ipynb",
   "output_path": "__notebook__.ipynb",
   "parameters": {},
   "start_time": "2022-03-09T02:41:26.286964",
   "version": "2.3.3"
  }
 },
 "nbformat": 4,
 "nbformat_minor": 5
}
