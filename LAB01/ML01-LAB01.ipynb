{
 "cells": [
  {
   "cell_type": "code",
   "execution_count": 1,
   "id": "5318e1e9",
   "metadata": {},
   "outputs": [
    {
     "data": {
      "text/plain": [
       "2"
      ]
     },
     "execution_count": 1,
     "metadata": {},
     "output_type": "execute_result"
    }
   ],
   "source": [
    "2"
   ]
  },
  {
   "cell_type": "code",
   "execution_count": 2,
   "id": "16a85552",
   "metadata": {},
   "outputs": [
    {
     "data": {
      "text/plain": [
       "int"
      ]
     },
     "execution_count": 2,
     "metadata": {},
     "output_type": "execute_result"
    }
   ],
   "source": [
    "type(3)"
   ]
  },
  {
   "cell_type": "code",
   "execution_count": 3,
   "id": "a89c3538",
   "metadata": {},
   "outputs": [
    {
     "data": {
      "text/plain": [
       "True"
      ]
     },
     "execution_count": 3,
     "metadata": {},
     "output_type": "execute_result"
    }
   ],
   "source": [
    "True "
   ]
  },
  {
   "cell_type": "code",
   "execution_count": 4,
   "id": "b7d4c971",
   "metadata": {},
   "outputs": [
    {
     "data": {
      "text/plain": [
       "bool"
      ]
     },
     "execution_count": 4,
     "metadata": {},
     "output_type": "execute_result"
    }
   ],
   "source": [
    "type(True)"
   ]
  },
  {
   "cell_type": "code",
   "execution_count": 5,
   "id": "1a4b6f1b",
   "metadata": {},
   "outputs": [
    {
     "data": {
      "text/plain": [
       "2.5"
      ]
     },
     "execution_count": 5,
     "metadata": {},
     "output_type": "execute_result"
    }
   ],
   "source": [
    "2.5 #float dtype"
   ]
  },
  {
   "cell_type": "code",
   "execution_count": 6,
   "id": "93ff17d0",
   "metadata": {},
   "outputs": [
    {
     "data": {
      "text/plain": [
       "'Hello'"
      ]
     },
     "execution_count": 6,
     "metadata": {},
     "output_type": "execute_result"
    }
   ],
   "source": [
    "\"Hello\" #String dtype"
   ]
  },
  {
   "cell_type": "markdown",
   "id": "0e0b3021",
   "metadata": {},
   "source": [
    "**Operators**"
   ]
  },
  {
   "cell_type": "code",
   "execution_count": 7,
   "id": "cdcee53e",
   "metadata": {},
   "outputs": [
    {
     "data": {
      "text/plain": [
       "4"
      ]
     },
     "execution_count": 7,
     "metadata": {},
     "output_type": "execute_result"
    }
   ],
   "source": [
    "2 + 2"
   ]
  },
  {
   "cell_type": "code",
   "execution_count": 9,
   "id": "0bd953bd",
   "metadata": {},
   "outputs": [
    {
     "data": {
      "text/plain": [
       "'63'"
      ]
     },
     "execution_count": 9,
     "metadata": {},
     "output_type": "execute_result"
    }
   ],
   "source": [
    "a = \"6\" + \"3\"\n",
    "a"
   ]
  },
  {
   "cell_type": "code",
   "execution_count": 10,
   "id": "5903cc97",
   "metadata": {},
   "outputs": [
    {
     "data": {
      "text/plain": [
       "str"
      ]
     },
     "execution_count": 10,
     "metadata": {},
     "output_type": "execute_result"
    }
   ],
   "source": [
    "type(a)"
   ]
  },
  {
   "cell_type": "code",
   "execution_count": 11,
   "id": "69c799f5",
   "metadata": {},
   "outputs": [],
   "source": [
    "a = (5,9)"
   ]
  },
  {
   "cell_type": "code",
   "execution_count": 12,
   "id": "88ee80a1",
   "metadata": {},
   "outputs": [
    {
     "data": {
      "text/plain": [
       "tuple"
      ]
     },
     "execution_count": 12,
     "metadata": {},
     "output_type": "execute_result"
    }
   ],
   "source": [
    "type (a)"
   ]
  },
  {
   "cell_type": "code",
   "execution_count": 14,
   "id": "cc9a0f73",
   "metadata": {},
   "outputs": [
    {
     "data": {
      "text/plain": [
       "dict"
      ]
     },
     "execution_count": 14,
     "metadata": {},
     "output_type": "execute_result"
    }
   ],
   "source": [
    "type({'a':1,'b':2})"
   ]
  },
  {
   "cell_type": "markdown",
   "id": "22c4e72f",
   "metadata": {},
   "source": [
    "**Loop**"
   ]
  },
  {
   "cell_type": "code",
   "execution_count": 15,
   "id": "3a257ec4",
   "metadata": {},
   "outputs": [
    {
     "name": "stdout",
     "output_type": "stream",
     "text": [
      "0\n",
      "2\n",
      "4\n",
      "6\n",
      "8\n",
      "10\n",
      "12\n",
      "14\n",
      "16\n",
      "18\n"
     ]
    }
   ],
   "source": [
    "for i in range(0,10):\n",
    "    print(i*2)"
   ]
  },
  {
   "cell_type": "code",
   "execution_count": 16,
   "id": "069f8beb",
   "metadata": {},
   "outputs": [
    {
     "data": {
      "text/plain": [
       "['Monday', 'Tuesday', 'Wednesday', 'Thursday', 'Friday', 'Saturday', 'Sunday']"
      ]
     },
     "execution_count": 16,
     "metadata": {},
     "output_type": "execute_result"
    }
   ],
   "source": [
    "Days=[\"Monday\",\"Tuesday\",\"Wednesday\",\"Thursday\",\"Friday\",\"Saturday\",\"Sunday\"]\n",
    "Days"
   ]
  },
  {
   "cell_type": "code",
   "execution_count": 18,
   "id": "e8e7734c",
   "metadata": {},
   "outputs": [
    {
     "name": "stdout",
     "output_type": "stream",
     "text": [
      "Monday\n",
      "Tuesday\n",
      "Wednesday\n",
      "Thursday\n",
      "Friday\n",
      "Saturday\n",
      "Sunday\n"
     ]
    }
   ],
   "source": [
    "for Day in Days:\n",
    "    print(Day)"
   ]
  },
  {
   "cell_type": "code",
   "execution_count": 19,
   "id": "b6f651b9",
   "metadata": {},
   "outputs": [
    {
     "name": "stdout",
     "output_type": "stream",
     "text": [
      "Yes\n"
     ]
    }
   ],
   "source": [
    "n = 20\n",
    "if n>10:\n",
    "    print(\"Yes\")\n",
    "else:\n",
    "    print(\"No\")"
   ]
  },
  {
   "cell_type": "markdown",
   "id": "7dc26ffe",
   "metadata": {},
   "source": [
    "**Functions**"
   ]
  },
  {
   "cell_type": "code",
   "execution_count": 20,
   "id": "dc6c467f",
   "metadata": {},
   "outputs": [
    {
     "name": "stdout",
     "output_type": "stream",
     "text": [
      "Triangle\n",
      "Circle\n"
     ]
    }
   ],
   "source": [
    "def Shape(type):\n",
    "    print(type)\n",
    "Shape(\"Triangle\")\n",
    "Shape(\"Circle\")"
   ]
  },
  {
   "cell_type": "markdown",
   "id": "4d4f9e4f",
   "metadata": {},
   "source": [
    "**Python for DataScience**"
   ]
  },
  {
   "cell_type": "code",
   "execution_count": 21,
   "id": "971b89de",
   "metadata": {},
   "outputs": [],
   "source": [
    "import pandas as pd"
   ]
  },
  {
   "cell_type": "code",
   "execution_count": 22,
   "id": "c8ecc272",
   "metadata": {},
   "outputs": [],
   "source": [
    "import numpy as np"
   ]
  },
  {
   "cell_type": "code",
   "execution_count": 23,
   "id": "1a95a8c9",
   "metadata": {},
   "outputs": [
    {
     "data": {
      "text/plain": [
       "[1, 2, 3, 4, 5, 6, 7, 8]"
      ]
     },
     "execution_count": 23,
     "metadata": {},
     "output_type": "execute_result"
    }
   ],
   "source": [
    "num = [1,2,3,4,5,6,7,8]\n",
    "num"
   ]
  },
  {
   "cell_type": "code",
   "execution_count": 24,
   "id": "8476842f",
   "metadata": {},
   "outputs": [],
   "source": [
    "num_series = pd.Series(num)"
   ]
  },
  {
   "cell_type": "code",
   "execution_count": 25,
   "id": "f9a3c5e2",
   "metadata": {},
   "outputs": [
    {
     "data": {
      "text/plain": [
       "0    1\n",
       "1    2\n",
       "2    3\n",
       "3    4\n",
       "4    5\n",
       "5    6\n",
       "6    7\n",
       "7    8\n",
       "dtype: int64"
      ]
     },
     "execution_count": 25,
     "metadata": {},
     "output_type": "execute_result"
    }
   ],
   "source": [
    "num_series"
   ]
  },
  {
   "cell_type": "code",
   "execution_count": 26,
   "id": "2eda7a8d",
   "metadata": {},
   "outputs": [
    {
     "data": {
      "text/plain": [
       "1    2\n",
       "2    3\n",
       "3    4\n",
       "4    5\n",
       "dtype: int64"
      ]
     },
     "execution_count": 26,
     "metadata": {},
     "output_type": "execute_result"
    }
   ],
   "source": [
    "num_series[1:5]"
   ]
  },
  {
   "cell_type": "code",
   "execution_count": 27,
   "id": "ef6b8724",
   "metadata": {},
   "outputs": [
    {
     "data": {
      "text/plain": [
       "1    1\n",
       "2    1\n",
       "3    1\n",
       "4    1\n",
       "5    1\n",
       "6    1\n",
       "7    1\n",
       "8    1\n",
       "dtype: int64"
      ]
     },
     "execution_count": 27,
     "metadata": {},
     "output_type": "execute_result"
    }
   ],
   "source": [
    "num_series.value_counts()"
   ]
  },
  {
   "cell_type": "code",
   "execution_count": 28,
   "id": "66855d97",
   "metadata": {},
   "outputs": [
    {
     "data": {
      "text/html": [
       "<div>\n",
       "<style scoped>\n",
       "    .dataframe tbody tr th:only-of-type {\n",
       "        vertical-align: middle;\n",
       "    }\n",
       "\n",
       "    .dataframe tbody tr th {\n",
       "        vertical-align: top;\n",
       "    }\n",
       "\n",
       "    .dataframe thead th {\n",
       "        text-align: right;\n",
       "    }\n",
       "</style>\n",
       "<table border=\"1\" class=\"dataframe\">\n",
       "  <thead>\n",
       "    <tr style=\"text-align: right;\">\n",
       "      <th></th>\n",
       "      <th>Unnamed: 0</th>\n",
       "      <th>Sale_ID</th>\n",
       "      <th>Date</th>\n",
       "      <th>Store_Name</th>\n",
       "      <th>Store_City</th>\n",
       "      <th>Store_Location</th>\n",
       "      <th>Store_Open_Date</th>\n",
       "      <th>Product_Name</th>\n",
       "      <th>Product_Category</th>\n",
       "      <th>Product_Cost</th>\n",
       "      <th>Product_Price</th>\n",
       "      <th>Stock_On_Hand</th>\n",
       "    </tr>\n",
       "  </thead>\n",
       "  <tbody>\n",
       "    <tr>\n",
       "      <th>0</th>\n",
       "      <td>0</td>\n",
       "      <td>1</td>\n",
       "      <td>2017-01-01</td>\n",
       "      <td>Maven Toys Aguascalientes 1</td>\n",
       "      <td>Aguascalientes</td>\n",
       "      <td>Downtown</td>\n",
       "      <td>2010-07-31</td>\n",
       "      <td>Chutes &amp; Ladders</td>\n",
       "      <td>Games</td>\n",
       "      <td>10</td>\n",
       "      <td>13</td>\n",
       "      <td>1</td>\n",
       "    </tr>\n",
       "    <tr>\n",
       "      <th>1</th>\n",
       "      <td>1</td>\n",
       "      <td>2</td>\n",
       "      <td>2017-01-01</td>\n",
       "      <td>Maven Toys Puebla 2</td>\n",
       "      <td>Puebla</td>\n",
       "      <td>Downtown</td>\n",
       "      <td>2011-04-01</td>\n",
       "      <td>Action Figure</td>\n",
       "      <td>Toys</td>\n",
       "      <td>10</td>\n",
       "      <td>16</td>\n",
       "      <td>6</td>\n",
       "    </tr>\n",
       "    <tr>\n",
       "      <th>2</th>\n",
       "      <td>2</td>\n",
       "      <td>3</td>\n",
       "      <td>2017-01-01</td>\n",
       "      <td>Maven Toys Mexicali 1</td>\n",
       "      <td>Mexicali</td>\n",
       "      <td>Commercial</td>\n",
       "      <td>2003-12-13</td>\n",
       "      <td>Deck Of Cards</td>\n",
       "      <td>Games</td>\n",
       "      <td>4</td>\n",
       "      <td>7</td>\n",
       "      <td>50</td>\n",
       "    </tr>\n",
       "    <tr>\n",
       "      <th>3</th>\n",
       "      <td>3</td>\n",
       "      <td>4</td>\n",
       "      <td>2017-01-01</td>\n",
       "      <td>Maven Toys Saltillo 2</td>\n",
       "      <td>Saltillo</td>\n",
       "      <td>Commercial</td>\n",
       "      <td>2016-03-23</td>\n",
       "      <td>Dart Gun</td>\n",
       "      <td>Sports &amp; Outdoors</td>\n",
       "      <td>12</td>\n",
       "      <td>16</td>\n",
       "      <td>28</td>\n",
       "    </tr>\n",
       "    <tr>\n",
       "      <th>4</th>\n",
       "      <td>4</td>\n",
       "      <td>5</td>\n",
       "      <td>2017-01-01</td>\n",
       "      <td>Maven Toys Puebla 3</td>\n",
       "      <td>Puebla</td>\n",
       "      <td>Residential</td>\n",
       "      <td>2014-12-27</td>\n",
       "      <td>Lego Bricks</td>\n",
       "      <td>Toys</td>\n",
       "      <td>35</td>\n",
       "      <td>40</td>\n",
       "      <td>117</td>\n",
       "    </tr>\n",
       "    <tr>\n",
       "      <th>...</th>\n",
       "      <td>...</td>\n",
       "      <td>...</td>\n",
       "      <td>...</td>\n",
       "      <td>...</td>\n",
       "      <td>...</td>\n",
       "      <td>...</td>\n",
       "      <td>...</td>\n",
       "      <td>...</td>\n",
       "      <td>...</td>\n",
       "      <td>...</td>\n",
       "      <td>...</td>\n",
       "      <td>...</td>\n",
       "    </tr>\n",
       "    <tr>\n",
       "      <th>829257</th>\n",
       "      <td>829257</td>\n",
       "      <td>829258</td>\n",
       "      <td>2018-09-30</td>\n",
       "      <td>Maven Toys Aguascalientes 1</td>\n",
       "      <td>Aguascalientes</td>\n",
       "      <td>Downtown</td>\n",
       "      <td>2010-07-31</td>\n",
       "      <td>Magic Sand</td>\n",
       "      <td>Art &amp; Crafts</td>\n",
       "      <td>14</td>\n",
       "      <td>16</td>\n",
       "      <td>67</td>\n",
       "    </tr>\n",
       "    <tr>\n",
       "      <th>829258</th>\n",
       "      <td>829258</td>\n",
       "      <td>829259</td>\n",
       "      <td>2018-09-30</td>\n",
       "      <td>Maven Toys San Luis Potosi 1</td>\n",
       "      <td>San Luis Potosi</td>\n",
       "      <td>Downtown</td>\n",
       "      <td>2007-05-19</td>\n",
       "      <td>Uno Card Game</td>\n",
       "      <td>Games</td>\n",
       "      <td>4</td>\n",
       "      <td>8</td>\n",
       "      <td>6</td>\n",
       "    </tr>\n",
       "    <tr>\n",
       "      <th>829259</th>\n",
       "      <td>829259</td>\n",
       "      <td>829260</td>\n",
       "      <td>2018-09-30</td>\n",
       "      <td>Maven Toys Guanajuato 2</td>\n",
       "      <td>Guanajuato</td>\n",
       "      <td>Commercial</td>\n",
       "      <td>2010-03-29</td>\n",
       "      <td>Magic Sand</td>\n",
       "      <td>Art &amp; Crafts</td>\n",
       "      <td>14</td>\n",
       "      <td>16</td>\n",
       "      <td>17</td>\n",
       "    </tr>\n",
       "    <tr>\n",
       "      <th>829260</th>\n",
       "      <td>829260</td>\n",
       "      <td>829261</td>\n",
       "      <td>2018-09-30</td>\n",
       "      <td>Maven Toys Mexicali 2</td>\n",
       "      <td>Mexicali</td>\n",
       "      <td>Downtown</td>\n",
       "      <td>2006-08-30</td>\n",
       "      <td>Animal Figures</td>\n",
       "      <td>Toys</td>\n",
       "      <td>10</td>\n",
       "      <td>13</td>\n",
       "      <td>2</td>\n",
       "    </tr>\n",
       "    <tr>\n",
       "      <th>829261</th>\n",
       "      <td>829261</td>\n",
       "      <td>829262</td>\n",
       "      <td>2018-09-30</td>\n",
       "      <td>Maven Toys Hermosillo 1</td>\n",
       "      <td>Hermosillo</td>\n",
       "      <td>Residential</td>\n",
       "      <td>2012-08-31</td>\n",
       "      <td>Colorbuds</td>\n",
       "      <td>Electronics</td>\n",
       "      <td>7</td>\n",
       "      <td>15</td>\n",
       "      <td>65</td>\n",
       "    </tr>\n",
       "  </tbody>\n",
       "</table>\n",
       "<p>829262 rows × 12 columns</p>\n",
       "</div>"
      ],
      "text/plain": [
       "        Unnamed: 0  Sale_ID        Date                    Store_Name  \\\n",
       "0                0        1  2017-01-01   Maven Toys Aguascalientes 1   \n",
       "1                1        2  2017-01-01           Maven Toys Puebla 2   \n",
       "2                2        3  2017-01-01         Maven Toys Mexicali 1   \n",
       "3                3        4  2017-01-01         Maven Toys Saltillo 2   \n",
       "4                4        5  2017-01-01           Maven Toys Puebla 3   \n",
       "...            ...      ...         ...                           ...   \n",
       "829257      829257   829258  2018-09-30   Maven Toys Aguascalientes 1   \n",
       "829258      829258   829259  2018-09-30  Maven Toys San Luis Potosi 1   \n",
       "829259      829259   829260  2018-09-30       Maven Toys Guanajuato 2   \n",
       "829260      829260   829261  2018-09-30         Maven Toys Mexicali 2   \n",
       "829261      829261   829262  2018-09-30       Maven Toys Hermosillo 1   \n",
       "\n",
       "             Store_City Store_Location Store_Open_Date      Product_Name  \\\n",
       "0        Aguascalientes       Downtown      2010-07-31  Chutes & Ladders   \n",
       "1                Puebla       Downtown      2011-04-01     Action Figure   \n",
       "2              Mexicali     Commercial      2003-12-13     Deck Of Cards   \n",
       "3              Saltillo     Commercial      2016-03-23          Dart Gun   \n",
       "4                Puebla    Residential      2014-12-27       Lego Bricks   \n",
       "...                 ...            ...             ...               ...   \n",
       "829257   Aguascalientes       Downtown      2010-07-31        Magic Sand   \n",
       "829258  San Luis Potosi       Downtown      2007-05-19     Uno Card Game   \n",
       "829259       Guanajuato     Commercial      2010-03-29        Magic Sand   \n",
       "829260         Mexicali       Downtown      2006-08-30    Animal Figures   \n",
       "829261       Hermosillo    Residential      2012-08-31         Colorbuds   \n",
       "\n",
       "         Product_Category  Product_Cost  Product_Price  Stock_On_Hand  \n",
       "0                   Games            10             13              1  \n",
       "1                    Toys            10             16              6  \n",
       "2                   Games             4              7             50  \n",
       "3       Sports & Outdoors            12             16             28  \n",
       "4                    Toys            35             40            117  \n",
       "...                   ...           ...            ...            ...  \n",
       "829257       Art & Crafts            14             16             67  \n",
       "829258              Games             4              8              6  \n",
       "829259       Art & Crafts            14             16             17  \n",
       "829260               Toys            10             13              2  \n",
       "829261        Electronics             7             15             65  \n",
       "\n",
       "[829262 rows x 12 columns]"
      ]
     },
     "execution_count": 28,
     "metadata": {},
     "output_type": "execute_result"
    }
   ],
   "source": [
    "df = pd.read_csv(\"toys.csv\")\n",
    "df"
   ]
  },
  {
   "cell_type": "code",
   "execution_count": 29,
   "id": "380c4edc",
   "metadata": {},
   "outputs": [
    {
     "data": {
      "text/plain": [
       "Index(['Unnamed: 0', 'Sale_ID', 'Date', 'Store_Name', 'Store_City',\n",
       "       'Store_Location', 'Store_Open_Date', 'Product_Name', 'Product_Category',\n",
       "       'Product_Cost', 'Product_Price', 'Stock_On_Hand'],\n",
       "      dtype='object')"
      ]
     },
     "execution_count": 29,
     "metadata": {},
     "output_type": "execute_result"
    }
   ],
   "source": [
    "df.columns"
   ]
  },
  {
   "cell_type": "code",
   "execution_count": 31,
   "id": "20a4bb60",
   "metadata": {},
   "outputs": [
    {
     "data": {
      "text/html": [
       "<div>\n",
       "<style scoped>\n",
       "    .dataframe tbody tr th:only-of-type {\n",
       "        vertical-align: middle;\n",
       "    }\n",
       "\n",
       "    .dataframe tbody tr th {\n",
       "        vertical-align: top;\n",
       "    }\n",
       "\n",
       "    .dataframe thead th {\n",
       "        text-align: right;\n",
       "    }\n",
       "</style>\n",
       "<table border=\"1\" class=\"dataframe\">\n",
       "  <thead>\n",
       "    <tr style=\"text-align: right;\">\n",
       "      <th></th>\n",
       "      <th>Unnamed: 0</th>\n",
       "      <th>Sale_ID</th>\n",
       "      <th>Date</th>\n",
       "      <th>Store_Name</th>\n",
       "      <th>Store_City</th>\n",
       "      <th>Store_Location</th>\n",
       "      <th>Store_Open_Date</th>\n",
       "      <th>Product_Name</th>\n",
       "      <th>Product_Category</th>\n",
       "      <th>Product_Cost</th>\n",
       "      <th>Product_Price</th>\n",
       "      <th>Stock_On_Hand</th>\n",
       "    </tr>\n",
       "  </thead>\n",
       "  <tbody>\n",
       "    <tr>\n",
       "      <th>0</th>\n",
       "      <td>0</td>\n",
       "      <td>1</td>\n",
       "      <td>2017-01-01</td>\n",
       "      <td>Maven Toys Aguascalientes 1</td>\n",
       "      <td>Aguascalientes</td>\n",
       "      <td>Downtown</td>\n",
       "      <td>2010-07-31</td>\n",
       "      <td>Chutes &amp; Ladders</td>\n",
       "      <td>Games</td>\n",
       "      <td>10</td>\n",
       "      <td>13</td>\n",
       "      <td>1</td>\n",
       "    </tr>\n",
       "    <tr>\n",
       "      <th>1</th>\n",
       "      <td>1</td>\n",
       "      <td>2</td>\n",
       "      <td>2017-01-01</td>\n",
       "      <td>Maven Toys Puebla 2</td>\n",
       "      <td>Puebla</td>\n",
       "      <td>Downtown</td>\n",
       "      <td>2011-04-01</td>\n",
       "      <td>Action Figure</td>\n",
       "      <td>Toys</td>\n",
       "      <td>10</td>\n",
       "      <td>16</td>\n",
       "      <td>6</td>\n",
       "    </tr>\n",
       "    <tr>\n",
       "      <th>2</th>\n",
       "      <td>2</td>\n",
       "      <td>3</td>\n",
       "      <td>2017-01-01</td>\n",
       "      <td>Maven Toys Mexicali 1</td>\n",
       "      <td>Mexicali</td>\n",
       "      <td>Commercial</td>\n",
       "      <td>2003-12-13</td>\n",
       "      <td>Deck Of Cards</td>\n",
       "      <td>Games</td>\n",
       "      <td>4</td>\n",
       "      <td>7</td>\n",
       "      <td>50</td>\n",
       "    </tr>\n",
       "    <tr>\n",
       "      <th>3</th>\n",
       "      <td>3</td>\n",
       "      <td>4</td>\n",
       "      <td>2017-01-01</td>\n",
       "      <td>Maven Toys Saltillo 2</td>\n",
       "      <td>Saltillo</td>\n",
       "      <td>Commercial</td>\n",
       "      <td>2016-03-23</td>\n",
       "      <td>Dart Gun</td>\n",
       "      <td>Sports &amp; Outdoors</td>\n",
       "      <td>12</td>\n",
       "      <td>16</td>\n",
       "      <td>28</td>\n",
       "    </tr>\n",
       "    <tr>\n",
       "      <th>4</th>\n",
       "      <td>4</td>\n",
       "      <td>5</td>\n",
       "      <td>2017-01-01</td>\n",
       "      <td>Maven Toys Puebla 3</td>\n",
       "      <td>Puebla</td>\n",
       "      <td>Residential</td>\n",
       "      <td>2014-12-27</td>\n",
       "      <td>Lego Bricks</td>\n",
       "      <td>Toys</td>\n",
       "      <td>35</td>\n",
       "      <td>40</td>\n",
       "      <td>117</td>\n",
       "    </tr>\n",
       "  </tbody>\n",
       "</table>\n",
       "</div>"
      ],
      "text/plain": [
       "   Unnamed: 0  Sale_ID        Date                   Store_Name  \\\n",
       "0           0        1  2017-01-01  Maven Toys Aguascalientes 1   \n",
       "1           1        2  2017-01-01          Maven Toys Puebla 2   \n",
       "2           2        3  2017-01-01        Maven Toys Mexicali 1   \n",
       "3           3        4  2017-01-01        Maven Toys Saltillo 2   \n",
       "4           4        5  2017-01-01          Maven Toys Puebla 3   \n",
       "\n",
       "       Store_City Store_Location Store_Open_Date      Product_Name  \\\n",
       "0  Aguascalientes       Downtown      2010-07-31  Chutes & Ladders   \n",
       "1          Puebla       Downtown      2011-04-01     Action Figure   \n",
       "2        Mexicali     Commercial      2003-12-13     Deck Of Cards   \n",
       "3        Saltillo     Commercial      2016-03-23          Dart Gun   \n",
       "4          Puebla    Residential      2014-12-27       Lego Bricks   \n",
       "\n",
       "    Product_Category  Product_Cost  Product_Price  Stock_On_Hand  \n",
       "0              Games            10             13              1  \n",
       "1               Toys            10             16              6  \n",
       "2              Games             4              7             50  \n",
       "3  Sports & Outdoors            12             16             28  \n",
       "4               Toys            35             40            117  "
      ]
     },
     "execution_count": 31,
     "metadata": {},
     "output_type": "execute_result"
    }
   ],
   "source": [
    "df.head()"
   ]
  },
  {
   "cell_type": "code",
   "execution_count": 33,
   "id": "b506be80",
   "metadata": {},
   "outputs": [
    {
     "data": {
      "text/plain": [
       "(829262, 12)"
      ]
     },
     "execution_count": 33,
     "metadata": {},
     "output_type": "execute_result"
    }
   ],
   "source": [
    "df.shape"
   ]
  },
  {
   "cell_type": "code",
   "execution_count": 34,
   "id": "ea2c9205",
   "metadata": {},
   "outputs": [
    {
     "data": {
      "text/html": [
       "<div>\n",
       "<style scoped>\n",
       "    .dataframe tbody tr th:only-of-type {\n",
       "        vertical-align: middle;\n",
       "    }\n",
       "\n",
       "    .dataframe tbody tr th {\n",
       "        vertical-align: top;\n",
       "    }\n",
       "\n",
       "    .dataframe thead th {\n",
       "        text-align: right;\n",
       "    }\n",
       "</style>\n",
       "<table border=\"1\" class=\"dataframe\">\n",
       "  <thead>\n",
       "    <tr style=\"text-align: right;\">\n",
       "      <th></th>\n",
       "      <th>Unnamed: 0</th>\n",
       "      <th>Sale_ID</th>\n",
       "      <th>Date</th>\n",
       "      <th>Store_Name</th>\n",
       "      <th>Store_City</th>\n",
       "      <th>Store_Location</th>\n",
       "      <th>Store_Open_Date</th>\n",
       "      <th>Product_Name</th>\n",
       "      <th>Product_Category</th>\n",
       "      <th>Product_Cost</th>\n",
       "      <th>Product_Price</th>\n",
       "      <th>Stock_On_Hand</th>\n",
       "    </tr>\n",
       "  </thead>\n",
       "  <tbody>\n",
       "    <tr>\n",
       "      <th>829257</th>\n",
       "      <td>829257</td>\n",
       "      <td>829258</td>\n",
       "      <td>2018-09-30</td>\n",
       "      <td>Maven Toys Aguascalientes 1</td>\n",
       "      <td>Aguascalientes</td>\n",
       "      <td>Downtown</td>\n",
       "      <td>2010-07-31</td>\n",
       "      <td>Magic Sand</td>\n",
       "      <td>Art &amp; Crafts</td>\n",
       "      <td>14</td>\n",
       "      <td>16</td>\n",
       "      <td>67</td>\n",
       "    </tr>\n",
       "    <tr>\n",
       "      <th>829258</th>\n",
       "      <td>829258</td>\n",
       "      <td>829259</td>\n",
       "      <td>2018-09-30</td>\n",
       "      <td>Maven Toys San Luis Potosi 1</td>\n",
       "      <td>San Luis Potosi</td>\n",
       "      <td>Downtown</td>\n",
       "      <td>2007-05-19</td>\n",
       "      <td>Uno Card Game</td>\n",
       "      <td>Games</td>\n",
       "      <td>4</td>\n",
       "      <td>8</td>\n",
       "      <td>6</td>\n",
       "    </tr>\n",
       "    <tr>\n",
       "      <th>829259</th>\n",
       "      <td>829259</td>\n",
       "      <td>829260</td>\n",
       "      <td>2018-09-30</td>\n",
       "      <td>Maven Toys Guanajuato 2</td>\n",
       "      <td>Guanajuato</td>\n",
       "      <td>Commercial</td>\n",
       "      <td>2010-03-29</td>\n",
       "      <td>Magic Sand</td>\n",
       "      <td>Art &amp; Crafts</td>\n",
       "      <td>14</td>\n",
       "      <td>16</td>\n",
       "      <td>17</td>\n",
       "    </tr>\n",
       "    <tr>\n",
       "      <th>829260</th>\n",
       "      <td>829260</td>\n",
       "      <td>829261</td>\n",
       "      <td>2018-09-30</td>\n",
       "      <td>Maven Toys Mexicali 2</td>\n",
       "      <td>Mexicali</td>\n",
       "      <td>Downtown</td>\n",
       "      <td>2006-08-30</td>\n",
       "      <td>Animal Figures</td>\n",
       "      <td>Toys</td>\n",
       "      <td>10</td>\n",
       "      <td>13</td>\n",
       "      <td>2</td>\n",
       "    </tr>\n",
       "    <tr>\n",
       "      <th>829261</th>\n",
       "      <td>829261</td>\n",
       "      <td>829262</td>\n",
       "      <td>2018-09-30</td>\n",
       "      <td>Maven Toys Hermosillo 1</td>\n",
       "      <td>Hermosillo</td>\n",
       "      <td>Residential</td>\n",
       "      <td>2012-08-31</td>\n",
       "      <td>Colorbuds</td>\n",
       "      <td>Electronics</td>\n",
       "      <td>7</td>\n",
       "      <td>15</td>\n",
       "      <td>65</td>\n",
       "    </tr>\n",
       "  </tbody>\n",
       "</table>\n",
       "</div>"
      ],
      "text/plain": [
       "        Unnamed: 0  Sale_ID        Date                    Store_Name  \\\n",
       "829257      829257   829258  2018-09-30   Maven Toys Aguascalientes 1   \n",
       "829258      829258   829259  2018-09-30  Maven Toys San Luis Potosi 1   \n",
       "829259      829259   829260  2018-09-30       Maven Toys Guanajuato 2   \n",
       "829260      829260   829261  2018-09-30         Maven Toys Mexicali 2   \n",
       "829261      829261   829262  2018-09-30       Maven Toys Hermosillo 1   \n",
       "\n",
       "             Store_City Store_Location Store_Open_Date    Product_Name  \\\n",
       "829257   Aguascalientes       Downtown      2010-07-31      Magic Sand   \n",
       "829258  San Luis Potosi       Downtown      2007-05-19   Uno Card Game   \n",
       "829259       Guanajuato     Commercial      2010-03-29      Magic Sand   \n",
       "829260         Mexicali       Downtown      2006-08-30  Animal Figures   \n",
       "829261       Hermosillo    Residential      2012-08-31       Colorbuds   \n",
       "\n",
       "       Product_Category  Product_Cost  Product_Price  Stock_On_Hand  \n",
       "829257     Art & Crafts            14             16             67  \n",
       "829258            Games             4              8              6  \n",
       "829259     Art & Crafts            14             16             17  \n",
       "829260             Toys            10             13              2  \n",
       "829261      Electronics             7             15             65  "
      ]
     },
     "execution_count": 34,
     "metadata": {},
     "output_type": "execute_result"
    }
   ],
   "source": [
    "df.tail()"
   ]
  },
  {
   "cell_type": "code",
   "execution_count": 35,
   "id": "6b806d78",
   "metadata": {},
   "outputs": [
    {
     "data": {
      "text/plain": [
       "0            Downtown\n",
       "1            Downtown\n",
       "2          Commercial\n",
       "3          Commercial\n",
       "4         Residential\n",
       "             ...     \n",
       "829257       Downtown\n",
       "829258       Downtown\n",
       "829259     Commercial\n",
       "829260       Downtown\n",
       "829261    Residential\n",
       "Name: Store_Location, Length: 829262, dtype: object"
      ]
     },
     "execution_count": 35,
     "metadata": {},
     "output_type": "execute_result"
    }
   ],
   "source": [
    "df['Store_Location']"
   ]
  },
  {
   "cell_type": "code",
   "execution_count": 36,
   "id": "d055abad",
   "metadata": {},
   "outputs": [
    {
     "data": {
      "text/plain": [
       "Downtown       480224\n",
       "Commercial     184705\n",
       "Residential     95876\n",
       "Airport         68457\n",
       "Name: Store_Location, dtype: int64"
      ]
     },
     "execution_count": 36,
     "metadata": {},
     "output_type": "execute_result"
    }
   ],
   "source": [
    "df['Store_Location'].value_counts()"
   ]
  },
  {
   "cell_type": "code",
   "execution_count": 37,
   "id": "4be679a6",
   "metadata": {},
   "outputs": [
    {
     "data": {
      "text/plain": [
       "Unnamed: 0          0\n",
       "Sale_ID             0\n",
       "Date                0\n",
       "Store_Name          0\n",
       "Store_City          0\n",
       "Store_Location      0\n",
       "Store_Open_Date     0\n",
       "Product_Name        0\n",
       "Product_Category    0\n",
       "Product_Cost        0\n",
       "Product_Price       0\n",
       "Stock_On_Hand       0\n",
       "dtype: int64"
      ]
     },
     "execution_count": 37,
     "metadata": {},
     "output_type": "execute_result"
    }
   ],
   "source": [
    "df.isna().sum()"
   ]
  },
  {
   "cell_type": "code",
   "execution_count": 38,
   "id": "07d0f30a",
   "metadata": {},
   "outputs": [
    {
     "data": {
      "text/plain": [
       "0         False\n",
       "1         False\n",
       "2         False\n",
       "3         False\n",
       "4         False\n",
       "          ...  \n",
       "829257    False\n",
       "829258     True\n",
       "829259     True\n",
       "829260     True\n",
       "829261     True\n",
       "Name: Sale_ID, Length: 829262, dtype: bool"
      ]
     },
     "execution_count": 38,
     "metadata": {},
     "output_type": "execute_result"
    }
   ],
   "source": [
    "df['Sale_ID']>829258"
   ]
  },
  {
   "cell_type": "code",
   "execution_count": null,
   "id": "34fdde44",
   "metadata": {},
   "outputs": [],
   "source": []
  }
 ],
 "metadata": {
  "kernelspec": {
   "display_name": "Python 3",
   "language": "python",
   "name": "python3"
  },
  "language_info": {
   "codemirror_mode": {
    "name": "ipython",
    "version": 3
   },
   "file_extension": ".py",
   "mimetype": "text/x-python",
   "name": "python",
   "nbconvert_exporter": "python",
   "pygments_lexer": "ipython3",
   "version": "3.8.8"
  }
 },
 "nbformat": 4,
 "nbformat_minor": 5
}
