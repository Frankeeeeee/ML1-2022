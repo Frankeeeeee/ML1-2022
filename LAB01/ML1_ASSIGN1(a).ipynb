{
 "cells": [
  {
   "cell_type": "code",
   "execution_count": 1,
   "id": "adccd5e0",
   "metadata": {},
   "outputs": [],
   "source": [
    "#BASICS\n",
    "a=(30,23)"
   ]
  },
  {
   "cell_type": "code",
   "execution_count": 2,
   "id": "7bb52c0a",
   "metadata": {},
   "outputs": [
    {
     "data": {
      "text/plain": [
       "tuple"
      ]
     },
     "execution_count": 2,
     "metadata": {},
     "output_type": "execute_result"
    }
   ],
   "source": [
    "type(a)"
   ]
  },
  {
   "cell_type": "code",
   "execution_count": 3,
   "id": "0b5e532d",
   "metadata": {},
   "outputs": [],
   "source": [
    "list=[2,5,7,9]"
   ]
  },
  {
   "cell_type": "code",
   "execution_count": 4,
   "id": "b439a0ee",
   "metadata": {},
   "outputs": [
    {
     "data": {
      "text/plain": [
       "9"
      ]
     },
     "execution_count": 4,
     "metadata": {},
     "output_type": "execute_result"
    }
   ],
   "source": [
    "list[3]"
   ]
  },
  {
   "cell_type": "code",
   "execution_count": 5,
   "id": "a2c90515",
   "metadata": {},
   "outputs": [],
   "source": [
    "marks=[90,55,34,89,67,23]"
   ]
  },
  {
   "cell_type": "code",
   "execution_count": 6,
   "id": "1cba5fe0",
   "metadata": {},
   "outputs": [],
   "source": [
    "pass_mark=35"
   ]
  },
  {
   "cell_type": "code",
   "execution_count": 7,
   "id": "bf7e1b82",
   "metadata": {},
   "outputs": [
    {
     "data": {
      "text/plain": [
       "False"
      ]
     },
     "execution_count": 7,
     "metadata": {},
     "output_type": "execute_result"
    }
   ],
   "source": [
    "marks[1]<pass_mark"
   ]
  },
  {
   "cell_type": "code",
   "execution_count": 8,
   "id": "103249bd",
   "metadata": {},
   "outputs": [
    {
     "name": "stdout",
     "output_type": "stream",
     "text": [
      "90\n",
      "pass\n",
      "*********************\n",
      "55\n",
      "pass\n",
      "*********************\n",
      "34\n",
      "fail\n",
      "*********************\n",
      "89\n",
      "pass\n",
      "*********************\n",
      "67\n",
      "pass\n",
      "*********************\n",
      "23\n",
      "fail\n",
      "*********************\n"
     ]
    }
   ],
   "source": [
    "for mark in marks:\n",
    "    print(mark)\n",
    "    if mark<pass_mark:\n",
    "        print(\"fail\")\n",
    "    else:\n",
    "        print(\"pass\")\n",
    "    print(\"*********************\")"
   ]
  },
  {
   "cell_type": "code",
   "execution_count": 9,
   "id": "4a6c101c",
   "metadata": {},
   "outputs": [
    {
     "data": {
      "text/plain": [
       "range(0, 5)"
      ]
     },
     "execution_count": 9,
     "metadata": {},
     "output_type": "execute_result"
    }
   ],
   "source": [
    "range(5)"
   ]
  },
  {
   "cell_type": "code",
   "execution_count": 10,
   "id": "556ee30e",
   "metadata": {},
   "outputs": [
    {
     "name": "stdout",
     "output_type": "stream",
     "text": [
      "2\n",
      "6\n",
      "10\n",
      "14\n"
     ]
    }
   ],
   "source": [
    "x=range(2,15,4)\n",
    "for i in x:\n",
    "    print(i)"
   ]
  },
  {
   "cell_type": "code",
   "execution_count": 11,
   "id": "b8f4486a",
   "metadata": {},
   "outputs": [],
   "source": [
    "def foo_sum(a,b):\n",
    "    return a+b"
   ]
  },
  {
   "cell_type": "code",
   "execution_count": 12,
   "id": "b424784c",
   "metadata": {},
   "outputs": [
    {
     "data": {
      "text/plain": [
       "13"
      ]
     },
     "execution_count": 12,
     "metadata": {},
     "output_type": "execute_result"
    }
   ],
   "source": [
    "foo_sum(9,4)"
   ]
  },
  {
   "cell_type": "code",
   "execution_count": 13,
   "id": "f4ab547d",
   "metadata": {},
   "outputs": [],
   "source": [
    "def foo_diff(a,b):\n",
    "    print(a)\n",
    "    return a-b"
   ]
  },
  {
   "cell_type": "code",
   "execution_count": 14,
   "id": "68798445",
   "metadata": {},
   "outputs": [
    {
     "name": "stdout",
     "output_type": "stream",
     "text": [
      "50\n"
     ]
    },
    {
     "data": {
      "text/plain": [
       "20"
      ]
     },
     "execution_count": 14,
     "metadata": {},
     "output_type": "execute_result"
    }
   ],
   "source": [
    "foo_diff(50,30)"
   ]
  },
  {
   "cell_type": "code",
   "execution_count": null,
   "id": "42044ad4",
   "metadata": {},
   "outputs": [],
   "source": [
    "#PYTHON FOR DS\n"
   ]
  },
  {
   "cell_type": "code",
   "execution_count": 25,
   "id": "d00aafbb",
   "metadata": {},
   "outputs": [],
   "source": [
    "import pandas as pd\n",
    "import numpy as np"
   ]
  },
  {
   "cell_type": "code",
   "execution_count": 26,
   "id": "dc74bef6",
   "metadata": {},
   "outputs": [
    {
     "data": {
      "text/plain": [
       "[90, 55, 34, 89, 67, 23]"
      ]
     },
     "execution_count": 26,
     "metadata": {},
     "output_type": "execute_result"
    }
   ],
   "source": [
    "marks"
   ]
  },
  {
   "cell_type": "code",
   "execution_count": 28,
   "id": "b0e65daa",
   "metadata": {},
   "outputs": [],
   "source": [
    "marks_series=pd.Series(marks)"
   ]
  },
  {
   "cell_type": "code",
   "execution_count": 29,
   "id": "4cd4c8e2",
   "metadata": {},
   "outputs": [
    {
     "data": {
      "text/plain": [
       "0    90\n",
       "1    55\n",
       "2    34\n",
       "3    89\n",
       "4    67\n",
       "5    23\n",
       "dtype: int64"
      ]
     },
     "execution_count": 29,
     "metadata": {},
     "output_type": "execute_result"
    }
   ],
   "source": [
    "marks_series"
   ]
  },
  {
   "cell_type": "code",
   "execution_count": 30,
   "id": "253e8b2f",
   "metadata": {},
   "outputs": [
    {
     "data": {
      "text/plain": [
       "0    90\n",
       "1    55\n",
       "2    34\n",
       "3    89\n",
       "dtype: int64"
      ]
     },
     "execution_count": 30,
     "metadata": {},
     "output_type": "execute_result"
    }
   ],
   "source": [
    "marks_series[:4]"
   ]
  },
  {
   "cell_type": "code",
   "execution_count": 31,
   "id": "2c9a3a71",
   "metadata": {},
   "outputs": [
    {
     "data": {
      "text/plain": [
       "34    1\n",
       "90    1\n",
       "67    1\n",
       "23    1\n",
       "89    1\n",
       "55    1\n",
       "dtype: int64"
      ]
     },
     "execution_count": 31,
     "metadata": {},
     "output_type": "execute_result"
    }
   ],
   "source": [
    "marks_series.value_counts()"
   ]
  },
  {
   "cell_type": "code",
   "execution_count": 33,
   "id": "06511a8b",
   "metadata": {},
   "outputs": [],
   "source": [
    "sample_df = pd.DataFrame([marks,marks]).T"
   ]
  },
  {
   "cell_type": "code",
   "execution_count": 34,
   "id": "e6234752",
   "metadata": {},
   "outputs": [
    {
     "data": {
      "text/html": [
       "<div>\n",
       "<style scoped>\n",
       "    .dataframe tbody tr th:only-of-type {\n",
       "        vertical-align: middle;\n",
       "    }\n",
       "\n",
       "    .dataframe tbody tr th {\n",
       "        vertical-align: top;\n",
       "    }\n",
       "\n",
       "    .dataframe thead th {\n",
       "        text-align: right;\n",
       "    }\n",
       "</style>\n",
       "<table border=\"1\" class=\"dataframe\">\n",
       "  <thead>\n",
       "    <tr style=\"text-align: right;\">\n",
       "      <th></th>\n",
       "      <th>0</th>\n",
       "      <th>1</th>\n",
       "    </tr>\n",
       "  </thead>\n",
       "  <tbody>\n",
       "    <tr>\n",
       "      <th>0</th>\n",
       "      <td>90</td>\n",
       "      <td>90</td>\n",
       "    </tr>\n",
       "    <tr>\n",
       "      <th>1</th>\n",
       "      <td>55</td>\n",
       "      <td>55</td>\n",
       "    </tr>\n",
       "    <tr>\n",
       "      <th>2</th>\n",
       "      <td>34</td>\n",
       "      <td>34</td>\n",
       "    </tr>\n",
       "    <tr>\n",
       "      <th>3</th>\n",
       "      <td>89</td>\n",
       "      <td>89</td>\n",
       "    </tr>\n",
       "    <tr>\n",
       "      <th>4</th>\n",
       "      <td>67</td>\n",
       "      <td>67</td>\n",
       "    </tr>\n",
       "    <tr>\n",
       "      <th>5</th>\n",
       "      <td>23</td>\n",
       "      <td>23</td>\n",
       "    </tr>\n",
       "  </tbody>\n",
       "</table>\n",
       "</div>"
      ],
      "text/plain": [
       "    0   1\n",
       "0  90  90\n",
       "1  55  55\n",
       "2  34  34\n",
       "3  89  89\n",
       "4  67  67\n",
       "5  23  23"
      ]
     },
     "execution_count": 34,
     "metadata": {},
     "output_type": "execute_result"
    }
   ],
   "source": [
    "sample_df"
   ]
  },
  {
   "cell_type": "code",
   "execution_count": 35,
   "id": "9f43148e",
   "metadata": {},
   "outputs": [],
   "source": [
    "sample_df.columns=['marks1','marks2']"
   ]
  },
  {
   "cell_type": "code",
   "execution_count": 36,
   "id": "62333f17",
   "metadata": {},
   "outputs": [
    {
     "data": {
      "text/html": [
       "<div>\n",
       "<style scoped>\n",
       "    .dataframe tbody tr th:only-of-type {\n",
       "        vertical-align: middle;\n",
       "    }\n",
       "\n",
       "    .dataframe tbody tr th {\n",
       "        vertical-align: top;\n",
       "    }\n",
       "\n",
       "    .dataframe thead th {\n",
       "        text-align: right;\n",
       "    }\n",
       "</style>\n",
       "<table border=\"1\" class=\"dataframe\">\n",
       "  <thead>\n",
       "    <tr style=\"text-align: right;\">\n",
       "      <th></th>\n",
       "      <th>marks1</th>\n",
       "      <th>marks2</th>\n",
       "    </tr>\n",
       "  </thead>\n",
       "  <tbody>\n",
       "    <tr>\n",
       "      <th>0</th>\n",
       "      <td>90</td>\n",
       "      <td>90</td>\n",
       "    </tr>\n",
       "    <tr>\n",
       "      <th>1</th>\n",
       "      <td>55</td>\n",
       "      <td>55</td>\n",
       "    </tr>\n",
       "    <tr>\n",
       "      <th>2</th>\n",
       "      <td>34</td>\n",
       "      <td>34</td>\n",
       "    </tr>\n",
       "    <tr>\n",
       "      <th>3</th>\n",
       "      <td>89</td>\n",
       "      <td>89</td>\n",
       "    </tr>\n",
       "    <tr>\n",
       "      <th>4</th>\n",
       "      <td>67</td>\n",
       "      <td>67</td>\n",
       "    </tr>\n",
       "    <tr>\n",
       "      <th>5</th>\n",
       "      <td>23</td>\n",
       "      <td>23</td>\n",
       "    </tr>\n",
       "  </tbody>\n",
       "</table>\n",
       "</div>"
      ],
      "text/plain": [
       "   marks1  marks2\n",
       "0      90      90\n",
       "1      55      55\n",
       "2      34      34\n",
       "3      89      89\n",
       "4      67      67\n",
       "5      23      23"
      ]
     },
     "execution_count": 36,
     "metadata": {},
     "output_type": "execute_result"
    }
   ],
   "source": [
    "sample_df"
   ]
  },
  {
   "cell_type": "code",
   "execution_count": 38,
   "id": "c4dccb52",
   "metadata": {},
   "outputs": [],
   "source": [
    "df=pd.read_excel(r\"C:\\Users\\DELL\\Documents\\q2.xlsx\",sheet_name=\"expected_output\")"
   ]
  },
  {
   "cell_type": "code",
   "execution_count": 39,
   "id": "ac035295",
   "metadata": {},
   "outputs": [
    {
     "data": {
      "text/html": [
       "<div>\n",
       "<style scoped>\n",
       "    .dataframe tbody tr th:only-of-type {\n",
       "        vertical-align: middle;\n",
       "    }\n",
       "\n",
       "    .dataframe tbody tr th {\n",
       "        vertical-align: top;\n",
       "    }\n",
       "\n",
       "    .dataframe thead th {\n",
       "        text-align: right;\n",
       "    }\n",
       "</style>\n",
       "<table border=\"1\" class=\"dataframe\">\n",
       "  <thead>\n",
       "    <tr style=\"text-align: right;\">\n",
       "      <th></th>\n",
       "      <th>Order_Number</th>\n",
       "      <th>Friend_Id</th>\n",
       "      <th>Salary_($/PM)</th>\n",
       "      <th>Total_Salary</th>\n",
       "      <th>Salary_Proportion</th>\n",
       "      <th>Total_Bill_Value_($)</th>\n",
       "      <th>Bill_Contribution</th>\n",
       "    </tr>\n",
       "  </thead>\n",
       "  <tbody>\n",
       "    <tr>\n",
       "      <th>0</th>\n",
       "      <td>1</td>\n",
       "      <td>1</td>\n",
       "      <td>4000</td>\n",
       "      <td>10000</td>\n",
       "      <td>0.400000</td>\n",
       "      <td>100</td>\n",
       "      <td>40.000000</td>\n",
       "    </tr>\n",
       "    <tr>\n",
       "      <th>1</th>\n",
       "      <td>1</td>\n",
       "      <td>2</td>\n",
       "      <td>6000</td>\n",
       "      <td>10000</td>\n",
       "      <td>0.600000</td>\n",
       "      <td>100</td>\n",
       "      <td>60.000000</td>\n",
       "    </tr>\n",
       "    <tr>\n",
       "      <th>2</th>\n",
       "      <td>2</td>\n",
       "      <td>1</td>\n",
       "      <td>3000</td>\n",
       "      <td>17500</td>\n",
       "      <td>0.171429</td>\n",
       "      <td>200</td>\n",
       "      <td>34.285714</td>\n",
       "    </tr>\n",
       "    <tr>\n",
       "      <th>3</th>\n",
       "      <td>2</td>\n",
       "      <td>2</td>\n",
       "      <td>5000</td>\n",
       "      <td>17500</td>\n",
       "      <td>0.285714</td>\n",
       "      <td>200</td>\n",
       "      <td>57.142857</td>\n",
       "    </tr>\n",
       "    <tr>\n",
       "      <th>4</th>\n",
       "      <td>2</td>\n",
       "      <td>3</td>\n",
       "      <td>8000</td>\n",
       "      <td>17500</td>\n",
       "      <td>0.457143</td>\n",
       "      <td>200</td>\n",
       "      <td>91.428571</td>\n",
       "    </tr>\n",
       "    <tr>\n",
       "      <th>5</th>\n",
       "      <td>2</td>\n",
       "      <td>4</td>\n",
       "      <td>1000</td>\n",
       "      <td>17500</td>\n",
       "      <td>0.057143</td>\n",
       "      <td>200</td>\n",
       "      <td>11.428571</td>\n",
       "    </tr>\n",
       "    <tr>\n",
       "      <th>6</th>\n",
       "      <td>2</td>\n",
       "      <td>5</td>\n",
       "      <td>500</td>\n",
       "      <td>17500</td>\n",
       "      <td>0.028571</td>\n",
       "      <td>200</td>\n",
       "      <td>5.714286</td>\n",
       "    </tr>\n",
       "    <tr>\n",
       "      <th>7</th>\n",
       "      <td>3</td>\n",
       "      <td>1</td>\n",
       "      <td>3500</td>\n",
       "      <td>3500</td>\n",
       "      <td>1.000000</td>\n",
       "      <td>150</td>\n",
       "      <td>150.000000</td>\n",
       "    </tr>\n",
       "    <tr>\n",
       "      <th>8</th>\n",
       "      <td>3</td>\n",
       "      <td>2</td>\n",
       "      <td>0</td>\n",
       "      <td>3500</td>\n",
       "      <td>0.000000</td>\n",
       "      <td>150</td>\n",
       "      <td>0.000000</td>\n",
       "    </tr>\n",
       "    <tr>\n",
       "      <th>9</th>\n",
       "      <td>3</td>\n",
       "      <td>3</td>\n",
       "      <td>0</td>\n",
       "      <td>3500</td>\n",
       "      <td>0.000000</td>\n",
       "      <td>150</td>\n",
       "      <td>0.000000</td>\n",
       "    </tr>\n",
       "  </tbody>\n",
       "</table>\n",
       "</div>"
      ],
      "text/plain": [
       "   Order_Number  Friend_Id  Salary_($/PM)  Total_Salary  Salary_Proportion  \\\n",
       "0             1          1           4000         10000           0.400000   \n",
       "1             1          2           6000         10000           0.600000   \n",
       "2             2          1           3000         17500           0.171429   \n",
       "3             2          2           5000         17500           0.285714   \n",
       "4             2          3           8000         17500           0.457143   \n",
       "5             2          4           1000         17500           0.057143   \n",
       "6             2          5            500         17500           0.028571   \n",
       "7             3          1           3500          3500           1.000000   \n",
       "8             3          2              0          3500           0.000000   \n",
       "9             3          3              0          3500           0.000000   \n",
       "\n",
       "   Total_Bill_Value_($)  Bill_Contribution  \n",
       "0                   100          40.000000  \n",
       "1                   100          60.000000  \n",
       "2                   200          34.285714  \n",
       "3                   200          57.142857  \n",
       "4                   200          91.428571  \n",
       "5                   200          11.428571  \n",
       "6                   200           5.714286  \n",
       "7                   150         150.000000  \n",
       "8                   150           0.000000  \n",
       "9                   150           0.000000  "
      ]
     },
     "execution_count": 39,
     "metadata": {},
     "output_type": "execute_result"
    }
   ],
   "source": [
    "df"
   ]
  },
  {
   "cell_type": "code",
   "execution_count": 40,
   "id": "9126e27c",
   "metadata": {},
   "outputs": [
    {
     "data": {
      "text/html": [
       "<div>\n",
       "<style scoped>\n",
       "    .dataframe tbody tr th:only-of-type {\n",
       "        vertical-align: middle;\n",
       "    }\n",
       "\n",
       "    .dataframe tbody tr th {\n",
       "        vertical-align: top;\n",
       "    }\n",
       "\n",
       "    .dataframe thead th {\n",
       "        text-align: right;\n",
       "    }\n",
       "</style>\n",
       "<table border=\"1\" class=\"dataframe\">\n",
       "  <thead>\n",
       "    <tr style=\"text-align: right;\">\n",
       "      <th></th>\n",
       "      <th>Order_Number</th>\n",
       "      <th>Friend_Id</th>\n",
       "      <th>Salary_($/PM)</th>\n",
       "      <th>Total_Salary</th>\n",
       "      <th>Salary_Proportion</th>\n",
       "      <th>Total_Bill_Value_($)</th>\n",
       "      <th>Bill_Contribution</th>\n",
       "    </tr>\n",
       "  </thead>\n",
       "  <tbody>\n",
       "    <tr>\n",
       "      <th>0</th>\n",
       "      <td>1</td>\n",
       "      <td>1</td>\n",
       "      <td>4000</td>\n",
       "      <td>10000</td>\n",
       "      <td>0.400000</td>\n",
       "      <td>100</td>\n",
       "      <td>40.000000</td>\n",
       "    </tr>\n",
       "    <tr>\n",
       "      <th>1</th>\n",
       "      <td>1</td>\n",
       "      <td>2</td>\n",
       "      <td>6000</td>\n",
       "      <td>10000</td>\n",
       "      <td>0.600000</td>\n",
       "      <td>100</td>\n",
       "      <td>60.000000</td>\n",
       "    </tr>\n",
       "    <tr>\n",
       "      <th>2</th>\n",
       "      <td>2</td>\n",
       "      <td>1</td>\n",
       "      <td>3000</td>\n",
       "      <td>17500</td>\n",
       "      <td>0.171429</td>\n",
       "      <td>200</td>\n",
       "      <td>34.285714</td>\n",
       "    </tr>\n",
       "    <tr>\n",
       "      <th>3</th>\n",
       "      <td>2</td>\n",
       "      <td>2</td>\n",
       "      <td>5000</td>\n",
       "      <td>17500</td>\n",
       "      <td>0.285714</td>\n",
       "      <td>200</td>\n",
       "      <td>57.142857</td>\n",
       "    </tr>\n",
       "    <tr>\n",
       "      <th>4</th>\n",
       "      <td>2</td>\n",
       "      <td>3</td>\n",
       "      <td>8000</td>\n",
       "      <td>17500</td>\n",
       "      <td>0.457143</td>\n",
       "      <td>200</td>\n",
       "      <td>91.428571</td>\n",
       "    </tr>\n",
       "  </tbody>\n",
       "</table>\n",
       "</div>"
      ],
      "text/plain": [
       "   Order_Number  Friend_Id  Salary_($/PM)  Total_Salary  Salary_Proportion  \\\n",
       "0             1          1           4000         10000           0.400000   \n",
       "1             1          2           6000         10000           0.600000   \n",
       "2             2          1           3000         17500           0.171429   \n",
       "3             2          2           5000         17500           0.285714   \n",
       "4             2          3           8000         17500           0.457143   \n",
       "\n",
       "   Total_Bill_Value_($)  Bill_Contribution  \n",
       "0                   100          40.000000  \n",
       "1                   100          60.000000  \n",
       "2                   200          34.285714  \n",
       "3                   200          57.142857  \n",
       "4                   200          91.428571  "
      ]
     },
     "execution_count": 40,
     "metadata": {},
     "output_type": "execute_result"
    }
   ],
   "source": [
    "df.head()"
   ]
  },
  {
   "cell_type": "code",
   "execution_count": 41,
   "id": "9c8341c2",
   "metadata": {},
   "outputs": [
    {
     "data": {
      "text/html": [
       "<div>\n",
       "<style scoped>\n",
       "    .dataframe tbody tr th:only-of-type {\n",
       "        vertical-align: middle;\n",
       "    }\n",
       "\n",
       "    .dataframe tbody tr th {\n",
       "        vertical-align: top;\n",
       "    }\n",
       "\n",
       "    .dataframe thead th {\n",
       "        text-align: right;\n",
       "    }\n",
       "</style>\n",
       "<table border=\"1\" class=\"dataframe\">\n",
       "  <thead>\n",
       "    <tr style=\"text-align: right;\">\n",
       "      <th></th>\n",
       "      <th>Order_Number</th>\n",
       "      <th>Friend_Id</th>\n",
       "      <th>Salary_($/PM)</th>\n",
       "      <th>Total_Salary</th>\n",
       "      <th>Salary_Proportion</th>\n",
       "      <th>Total_Bill_Value_($)</th>\n",
       "      <th>Bill_Contribution</th>\n",
       "    </tr>\n",
       "  </thead>\n",
       "  <tbody>\n",
       "    <tr>\n",
       "      <th>5</th>\n",
       "      <td>2</td>\n",
       "      <td>4</td>\n",
       "      <td>1000</td>\n",
       "      <td>17500</td>\n",
       "      <td>0.057143</td>\n",
       "      <td>200</td>\n",
       "      <td>11.428571</td>\n",
       "    </tr>\n",
       "    <tr>\n",
       "      <th>6</th>\n",
       "      <td>2</td>\n",
       "      <td>5</td>\n",
       "      <td>500</td>\n",
       "      <td>17500</td>\n",
       "      <td>0.028571</td>\n",
       "      <td>200</td>\n",
       "      <td>5.714286</td>\n",
       "    </tr>\n",
       "    <tr>\n",
       "      <th>7</th>\n",
       "      <td>3</td>\n",
       "      <td>1</td>\n",
       "      <td>3500</td>\n",
       "      <td>3500</td>\n",
       "      <td>1.000000</td>\n",
       "      <td>150</td>\n",
       "      <td>150.000000</td>\n",
       "    </tr>\n",
       "    <tr>\n",
       "      <th>8</th>\n",
       "      <td>3</td>\n",
       "      <td>2</td>\n",
       "      <td>0</td>\n",
       "      <td>3500</td>\n",
       "      <td>0.000000</td>\n",
       "      <td>150</td>\n",
       "      <td>0.000000</td>\n",
       "    </tr>\n",
       "    <tr>\n",
       "      <th>9</th>\n",
       "      <td>3</td>\n",
       "      <td>3</td>\n",
       "      <td>0</td>\n",
       "      <td>3500</td>\n",
       "      <td>0.000000</td>\n",
       "      <td>150</td>\n",
       "      <td>0.000000</td>\n",
       "    </tr>\n",
       "  </tbody>\n",
       "</table>\n",
       "</div>"
      ],
      "text/plain": [
       "   Order_Number  Friend_Id  Salary_($/PM)  Total_Salary  Salary_Proportion  \\\n",
       "5             2          4           1000         17500           0.057143   \n",
       "6             2          5            500         17500           0.028571   \n",
       "7             3          1           3500          3500           1.000000   \n",
       "8             3          2              0          3500           0.000000   \n",
       "9             3          3              0          3500           0.000000   \n",
       "\n",
       "   Total_Bill_Value_($)  Bill_Contribution  \n",
       "5                   200          11.428571  \n",
       "6                   200           5.714286  \n",
       "7                   150         150.000000  \n",
       "8                   150           0.000000  \n",
       "9                   150           0.000000  "
      ]
     },
     "execution_count": 41,
     "metadata": {},
     "output_type": "execute_result"
    }
   ],
   "source": [
    "df.tail()"
   ]
  },
  {
   "cell_type": "code",
   "execution_count": 43,
   "id": "4c0010e6",
   "metadata": {},
   "outputs": [
    {
     "data": {
      "text/plain": [
       "pandas.core.frame.DataFrame"
      ]
     },
     "execution_count": 43,
     "metadata": {},
     "output_type": "execute_result"
    }
   ],
   "source": [
    "type(df)"
   ]
  },
  {
   "cell_type": "code",
   "execution_count": 45,
   "id": "1ace4bed",
   "metadata": {},
   "outputs": [
    {
     "data": {
      "text/plain": [
       "1    3\n",
       "2    3\n",
       "3    2\n",
       "4    1\n",
       "5    1\n",
       "Name: Friend_Id, dtype: int64"
      ]
     },
     "execution_count": 45,
     "metadata": {},
     "output_type": "execute_result"
    }
   ],
   "source": [
    "df['Friend_Id'].value_counts()"
   ]
  },
  {
   "cell_type": "code",
   "execution_count": 46,
   "id": "bef5c138",
   "metadata": {},
   "outputs": [
    {
     "data": {
      "text/plain": [
       "Order_Number            0\n",
       "Friend_Id               0\n",
       "Salary_($/PM)           0\n",
       "Total_Salary            0\n",
       "Salary_Proportion       0\n",
       "Total_Bill_Value_($)    0\n",
       "Bill_Contribution       0\n",
       "dtype: int64"
      ]
     },
     "execution_count": 46,
     "metadata": {},
     "output_type": "execute_result"
    }
   ],
   "source": [
    "df.isna().sum()"
   ]
  },
  {
   "cell_type": "code",
   "execution_count": 47,
   "id": "2f3de216",
   "metadata": {},
   "outputs": [
    {
     "data": {
      "text/plain": [
       "Index(['Order_Number', 'Friend_Id', 'Salary_($/PM)', 'Total_Salary',\n",
       "       'Salary_Proportion', 'Total_Bill_Value_($)', 'Bill_Contribution'],\n",
       "      dtype='object')"
      ]
     },
     "execution_count": 47,
     "metadata": {},
     "output_type": "execute_result"
    }
   ],
   "source": [
    "df.columns"
   ]
  },
  {
   "cell_type": "code",
   "execution_count": 48,
   "id": "deba2d46",
   "metadata": {},
   "outputs": [
    {
     "data": {
      "text/plain": [
       "[90, 55, 34, 89, 67, 23]"
      ]
     },
     "execution_count": 48,
     "metadata": {},
     "output_type": "execute_result"
    }
   ],
   "source": [
    "marks"
   ]
  },
  {
   "cell_type": "code",
   "execution_count": 54,
   "id": "3ea5808d",
   "metadata": {},
   "outputs": [],
   "source": [
    "sname = pd.Series(['aaa','bbb','ccc','ddd'])\n",
    "marks = pd.Series([90,55,47,10,34])\n",
    "dic={'sno':sname, 'marksobtained':marks}\n"
   ]
  },
  {
   "cell_type": "code",
   "execution_count": 55,
   "id": "c973e7a1",
   "metadata": {},
   "outputs": [],
   "source": [
    "df1=pd.DataFrame(dic)"
   ]
  },
  {
   "cell_type": "code",
   "execution_count": 56,
   "id": "e43b2712",
   "metadata": {},
   "outputs": [
    {
     "data": {
      "text/html": [
       "<div>\n",
       "<style scoped>\n",
       "    .dataframe tbody tr th:only-of-type {\n",
       "        vertical-align: middle;\n",
       "    }\n",
       "\n",
       "    .dataframe tbody tr th {\n",
       "        vertical-align: top;\n",
       "    }\n",
       "\n",
       "    .dataframe thead th {\n",
       "        text-align: right;\n",
       "    }\n",
       "</style>\n",
       "<table border=\"1\" class=\"dataframe\">\n",
       "  <thead>\n",
       "    <tr style=\"text-align: right;\">\n",
       "      <th></th>\n",
       "      <th>sno</th>\n",
       "      <th>marksobtained</th>\n",
       "    </tr>\n",
       "  </thead>\n",
       "  <tbody>\n",
       "    <tr>\n",
       "      <th>0</th>\n",
       "      <td>aaa</td>\n",
       "      <td>90</td>\n",
       "    </tr>\n",
       "    <tr>\n",
       "      <th>1</th>\n",
       "      <td>bbb</td>\n",
       "      <td>55</td>\n",
       "    </tr>\n",
       "    <tr>\n",
       "      <th>2</th>\n",
       "      <td>ccc</td>\n",
       "      <td>47</td>\n",
       "    </tr>\n",
       "    <tr>\n",
       "      <th>3</th>\n",
       "      <td>ddd</td>\n",
       "      <td>10</td>\n",
       "    </tr>\n",
       "    <tr>\n",
       "      <th>4</th>\n",
       "      <td>NaN</td>\n",
       "      <td>34</td>\n",
       "    </tr>\n",
       "  </tbody>\n",
       "</table>\n",
       "</div>"
      ],
      "text/plain": [
       "   sno  marksobtained\n",
       "0  aaa             90\n",
       "1  bbb             55\n",
       "2  ccc             47\n",
       "3  ddd             10\n",
       "4  NaN             34"
      ]
     },
     "execution_count": 56,
     "metadata": {},
     "output_type": "execute_result"
    }
   ],
   "source": [
    "df1"
   ]
  },
  {
   "cell_type": "code",
   "execution_count": 59,
   "id": "672949dc",
   "metadata": {},
   "outputs": [
    {
     "data": {
      "text/html": [
       "<div>\n",
       "<style scoped>\n",
       "    .dataframe tbody tr th:only-of-type {\n",
       "        vertical-align: middle;\n",
       "    }\n",
       "\n",
       "    .dataframe tbody tr th {\n",
       "        vertical-align: top;\n",
       "    }\n",
       "\n",
       "    .dataframe thead th {\n",
       "        text-align: right;\n",
       "    }\n",
       "</style>\n",
       "<table border=\"1\" class=\"dataframe\">\n",
       "  <thead>\n",
       "    <tr style=\"text-align: right;\">\n",
       "      <th></th>\n",
       "      <th>marksobtained</th>\n",
       "    </tr>\n",
       "  </thead>\n",
       "  <tbody>\n",
       "    <tr>\n",
       "      <th>marksobtained</th>\n",
       "      <td>1.0</td>\n",
       "    </tr>\n",
       "  </tbody>\n",
       "</table>\n",
       "</div>"
      ],
      "text/plain": [
       "               marksobtained\n",
       "marksobtained            1.0"
      ]
     },
     "execution_count": 59,
     "metadata": {},
     "output_type": "execute_result"
    }
   ],
   "source": [
    "df1.corr()"
   ]
  },
  {
   "cell_type": "code",
   "execution_count": null,
   "id": "6fd53515",
   "metadata": {},
   "outputs": [],
   "source": []
  }
 ],
 "metadata": {
  "kernelspec": {
   "display_name": "Python 3",
   "language": "python",
   "name": "python3"
  },
  "language_info": {
   "codemirror_mode": {
    "name": "ipython",
    "version": 3
   },
   "file_extension": ".py",
   "mimetype": "text/x-python",
   "name": "python",
   "nbconvert_exporter": "python",
   "pygments_lexer": "ipython3",
   "version": "3.8.8"
  }
 },
 "nbformat": 4,
 "nbformat_minor": 5
}
