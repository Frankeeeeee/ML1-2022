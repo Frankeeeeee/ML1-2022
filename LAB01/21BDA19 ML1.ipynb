{
 "cells": [
  {
   "cell_type": "markdown",
   "id": "d240f4c7",
   "metadata": {},
   "source": [
    "#### Ashly Thampi 21BDA19"
   ]
  },
  {
   "cell_type": "markdown",
   "id": "ad5b75b8",
   "metadata": {},
   "source": [
    "PYTHON REVISION NOTEBOOK"
   ]
  },
  {
   "cell_type": "code",
   "execution_count": 122,
   "id": "9d83a58d",
   "metadata": {},
   "outputs": [
    {
     "data": {
      "text/plain": [
       "67"
      ]
     },
     "execution_count": 122,
     "metadata": {},
     "output_type": "execute_result"
    }
   ],
   "source": [
    "67"
   ]
  },
  {
   "cell_type": "code",
   "execution_count": 2,
   "id": "d0b8d2dd",
   "metadata": {},
   "outputs": [
    {
     "data": {
      "text/plain": [
       "'Paris'"
      ]
     },
     "execution_count": 2,
     "metadata": {},
     "output_type": "execute_result"
    }
   ],
   "source": [
    "'Paris'"
   ]
  },
  {
   "cell_type": "code",
   "execution_count": 3,
   "id": "fdb60c00",
   "metadata": {},
   "outputs": [],
   "source": [
    "x=[6,8]"
   ]
  },
  {
   "cell_type": "code",
   "execution_count": 4,
   "id": "063e3fd3",
   "metadata": {},
   "outputs": [
    {
     "data": {
      "text/plain": [
       "[[6, 8], [6, 8]]"
      ]
     },
     "execution_count": 4,
     "metadata": {},
     "output_type": "execute_result"
    }
   ],
   "source": [
    "[x,x]"
   ]
  },
  {
   "cell_type": "code",
   "execution_count": 5,
   "id": "864676b7",
   "metadata": {},
   "outputs": [
    {
     "data": {
      "text/plain": [
       "2"
      ]
     },
     "execution_count": 5,
     "metadata": {},
     "output_type": "execute_result"
    }
   ],
   "source": [
    "1+1"
   ]
  },
  {
   "cell_type": "code",
   "execution_count": 6,
   "id": "b6f8e6d6",
   "metadata": {},
   "outputs": [
    {
     "data": {
      "text/plain": [
       "'33'"
      ]
     },
     "execution_count": 6,
     "metadata": {},
     "output_type": "execute_result"
    }
   ],
   "source": [
    "'3'+'3'"
   ]
  },
  {
   "cell_type": "code",
   "execution_count": 8,
   "id": "f5e8bbe5",
   "metadata": {},
   "outputs": [
    {
     "data": {
      "text/plain": [
       "str"
      ]
     },
     "execution_count": 8,
     "metadata": {},
     "output_type": "execute_result"
    }
   ],
   "source": [
    "type('@')"
   ]
  },
  {
   "cell_type": "code",
   "execution_count": 10,
   "id": "ce2c83aa",
   "metadata": {},
   "outputs": [
    {
     "data": {
      "text/plain": [
       "float"
      ]
     },
     "execution_count": 10,
     "metadata": {},
     "output_type": "execute_result"
    }
   ],
   "source": [
    "type(4.0)"
   ]
  },
  {
   "cell_type": "code",
   "execution_count": 11,
   "id": "8ec967f8",
   "metadata": {},
   "outputs": [],
   "source": [
    "j=2"
   ]
  },
  {
   "cell_type": "code",
   "execution_count": 12,
   "id": "693d7b1d",
   "metadata": {},
   "outputs": [
    {
     "data": {
      "text/plain": [
       "False"
      ]
     },
     "execution_count": 12,
     "metadata": {},
     "output_type": "execute_result"
    }
   ],
   "source": [
    "j==3"
   ]
  },
  {
   "cell_type": "code",
   "execution_count": 13,
   "id": "7e04856a",
   "metadata": {},
   "outputs": [
    {
     "data": {
      "text/plain": [
       "True"
      ]
     },
     "execution_count": 13,
     "metadata": {},
     "output_type": "execute_result"
    }
   ],
   "source": [
    "j==2"
   ]
  },
  {
   "cell_type": "code",
   "execution_count": 14,
   "id": "1a52c920",
   "metadata": {},
   "outputs": [],
   "source": [
    "t=(5,9)"
   ]
  },
  {
   "cell_type": "code",
   "execution_count": 15,
   "id": "1ae34685",
   "metadata": {},
   "outputs": [
    {
     "data": {
      "text/plain": [
       "tuple"
      ]
     },
     "execution_count": 15,
     "metadata": {},
     "output_type": "execute_result"
    }
   ],
   "source": [
    "type(t)"
   ]
  },
  {
   "cell_type": "code",
   "execution_count": 16,
   "id": "09dd4add",
   "metadata": {},
   "outputs": [],
   "source": [
    "l=[5,7]"
   ]
  },
  {
   "cell_type": "code",
   "execution_count": 17,
   "id": "9502d325",
   "metadata": {},
   "outputs": [
    {
     "data": {
      "text/plain": [
       "list"
      ]
     },
     "execution_count": 17,
     "metadata": {},
     "output_type": "execute_result"
    }
   ],
   "source": [
    "type(l)"
   ]
  },
  {
   "cell_type": "code",
   "execution_count": 90,
   "id": "a01b0387",
   "metadata": {},
   "outputs": [],
   "source": [
    "weight=[55,56,57,58,59]"
   ]
  },
  {
   "cell_type": "code",
   "execution_count": 91,
   "id": "cc4494b5",
   "metadata": {},
   "outputs": [],
   "source": [
    "ideal_weight = 57"
   ]
  },
  {
   "cell_type": "code",
   "execution_count": 92,
   "id": "70dcf8fb",
   "metadata": {},
   "outputs": [
    {
     "data": {
      "text/plain": [
       "True"
      ]
     },
     "execution_count": 92,
     "metadata": {},
     "output_type": "execute_result"
    }
   ],
   "source": [
    "weight[0]<ideal_weight"
   ]
  },
  {
   "cell_type": "code",
   "execution_count": 93,
   "id": "d75214af",
   "metadata": {},
   "outputs": [
    {
     "name": "stdout",
     "output_type": "stream",
     "text": [
      "Healthy\n"
     ]
    }
   ],
   "source": [
    "if weight[0]<ideal_weight:\n",
    "    print(\"Healthy\") "
   ]
  },
  {
   "cell_type": "code",
   "execution_count": 94,
   "id": "bd7b0b5a",
   "metadata": {},
   "outputs": [
    {
     "data": {
      "text/plain": [
       "57"
      ]
     },
     "execution_count": 94,
     "metadata": {},
     "output_type": "execute_result"
    }
   ],
   "source": [
    "weight[-3]"
   ]
  },
  {
   "cell_type": "code",
   "execution_count": 95,
   "id": "c0e3ca38",
   "metadata": {},
   "outputs": [
    {
     "name": "stdout",
     "output_type": "stream",
     "text": [
      "Pasta\n",
      "Pasta\n",
      "Pasta\n"
     ]
    }
   ],
   "source": [
    "for i in range(3):\n",
    "    print(\"Pasta\")"
   ]
  },
  {
   "cell_type": "code",
   "execution_count": 96,
   "id": "78dd0284",
   "metadata": {},
   "outputs": [
    {
     "name": "stdout",
     "output_type": "stream",
     "text": [
      "60\n",
      "61\n",
      "62\n",
      "63\n",
      "64\n"
     ]
    }
   ],
   "source": [
    "for i in range(len(weight)):\n",
    "    print(weight[i]+5)"
   ]
  },
  {
   "cell_type": "code",
   "execution_count": 97,
   "id": "4cc1bf0e",
   "metadata": {},
   "outputs": [
    {
     "name": "stdout",
     "output_type": "stream",
     "text": [
      "55\n",
      "Healthy\n",
      "------------------\n",
      "56\n",
      "Healthy\n",
      "------------------\n",
      "57\n",
      "Obes\n",
      "------------------\n",
      "58\n",
      "Obes\n",
      "------------------\n",
      "59\n",
      "Obes\n",
      "------------------\n"
     ]
    }
   ],
   "source": [
    "for weight in weight:\n",
    "    print(weight)  \n",
    "    if weight<ideal_weight:\n",
    "        print(\"Healthy\")\n",
    "    else: \n",
    "        print(\"Obes\")\n",
    "    print(\"------------------\")"
   ]
  },
  {
   "cell_type": "code",
   "execution_count": 98,
   "id": "b0f06093",
   "metadata": {},
   "outputs": [
    {
     "data": {
      "text/plain": [
       "range(0, 9)"
      ]
     },
     "execution_count": 98,
     "metadata": {},
     "output_type": "execute_result"
    }
   ],
   "source": [
    "range(9)"
   ]
  },
  {
   "cell_type": "code",
   "execution_count": 99,
   "id": "af207479",
   "metadata": {},
   "outputs": [
    {
     "name": "stdout",
     "output_type": "stream",
     "text": [
      "0\n",
      "10\n",
      "20\n",
      "30\n",
      "40\n"
     ]
    }
   ],
   "source": [
    "x = range(0, 50, 10)\n",
    "for n in x:\n",
    "    print(n)"
   ]
  },
  {
   "cell_type": "code",
   "execution_count": 100,
   "id": "f773edf7",
   "metadata": {},
   "outputs": [],
   "source": [
    "def fsum(a, b):\n",
    "    return a+b"
   ]
  },
  {
   "cell_type": "code",
   "execution_count": 101,
   "id": "52c6423d",
   "metadata": {},
   "outputs": [
    {
     "data": {
      "text/plain": [
       "60"
      ]
     },
     "execution_count": 101,
     "metadata": {},
     "output_type": "execute_result"
    }
   ],
   "source": [
    "fsum(10,50)"
   ]
  },
  {
   "cell_type": "code",
   "execution_count": 102,
   "id": "4b04d912",
   "metadata": {},
   "outputs": [],
   "source": [
    "import pandas as pd\n",
    "import numpy as np"
   ]
  },
  {
   "cell_type": "code",
   "execution_count": 104,
   "id": "62c02a37",
   "metadata": {},
   "outputs": [],
   "source": [
    "weight=[55,56,57,58,59]"
   ]
  },
  {
   "cell_type": "code",
   "execution_count": 105,
   "id": "5ae80148",
   "metadata": {},
   "outputs": [
    {
     "data": {
      "text/plain": [
       "[55, 56, 57, 58, 59]"
      ]
     },
     "execution_count": 105,
     "metadata": {},
     "output_type": "execute_result"
    }
   ],
   "source": [
    "weight"
   ]
  },
  {
   "cell_type": "code",
   "execution_count": 107,
   "id": "cad43646",
   "metadata": {},
   "outputs": [
    {
     "data": {
      "text/plain": [
       "0    55\n",
       "1    56\n",
       "2    57\n",
       "3    58\n",
       "4    59\n",
       "dtype: int64"
      ]
     },
     "execution_count": 107,
     "metadata": {},
     "output_type": "execute_result"
    }
   ],
   "source": [
    "weight_series = pd.Series(weight)\n",
    "weight_series"
   ]
  },
  {
   "cell_type": "code",
   "execution_count": 108,
   "id": "fa1ab1bf",
   "metadata": {},
   "outputs": [
    {
     "data": {
      "text/plain": [
       "pandas.core.series.Series"
      ]
     },
     "execution_count": 108,
     "metadata": {},
     "output_type": "execute_result"
    }
   ],
   "source": [
    "type(weight_series)"
   ]
  },
  {
   "cell_type": "code",
   "execution_count": 109,
   "id": "e650186a",
   "metadata": {},
   "outputs": [
    {
     "data": {
      "text/plain": [
       "RangeIndex(start=0, stop=5, step=1)"
      ]
     },
     "execution_count": 109,
     "metadata": {},
     "output_type": "execute_result"
    }
   ],
   "source": [
    "weight_series.index"
   ]
  },
  {
   "cell_type": "code",
   "execution_count": 110,
   "id": "cd9cf1a7",
   "metadata": {},
   "outputs": [
    {
     "data": {
      "text/plain": [
       "array([55, 56, 57, 58, 59])"
      ]
     },
     "execution_count": 110,
     "metadata": {},
     "output_type": "execute_result"
    }
   ],
   "source": [
    "weight_series.values"
   ]
  },
  {
   "cell_type": "code",
   "execution_count": 111,
   "id": "c4d0ce4a",
   "metadata": {},
   "outputs": [
    {
     "data": {
      "text/plain": [
       "4    59\n",
       "dtype: int64"
      ]
     },
     "execution_count": 111,
     "metadata": {},
     "output_type": "execute_result"
    }
   ],
   "source": [
    "weight_series[4:]"
   ]
  },
  {
   "cell_type": "code",
   "execution_count": 112,
   "id": "426a4c16",
   "metadata": {},
   "outputs": [],
   "source": [
    "weight_series[3]=None"
   ]
  },
  {
   "cell_type": "code",
   "execution_count": 113,
   "id": "17bf1aa9",
   "metadata": {},
   "outputs": [
    {
     "data": {
      "text/plain": [
       "0    55.0\n",
       "1    56.0\n",
       "2    57.0\n",
       "3     NaN\n",
       "4    59.0\n",
       "dtype: float64"
      ]
     },
     "execution_count": 113,
     "metadata": {},
     "output_type": "execute_result"
    }
   ],
   "source": [
    "weight_series"
   ]
  },
  {
   "cell_type": "code",
   "execution_count": 116,
   "id": "a46b24df",
   "metadata": {},
   "outputs": [
    {
     "data": {
      "text/plain": [
       "55.0    1\n",
       "56.0    1\n",
       "57.0    1\n",
       "59.0    1\n",
       "dtype: int64"
      ]
     },
     "execution_count": 116,
     "metadata": {},
     "output_type": "execute_result"
    }
   ],
   "source": [
    "weight_series.value_counts()"
   ]
  },
  {
   "cell_type": "code",
   "execution_count": 117,
   "id": "6da249ee",
   "metadata": {},
   "outputs": [
    {
     "data": {
      "text/plain": [
       "0    False\n",
       "1    False\n",
       "2    False\n",
       "3     True\n",
       "4    False\n",
       "dtype: bool"
      ]
     },
     "execution_count": 117,
     "metadata": {},
     "output_type": "execute_result"
    }
   ],
   "source": [
    "weight_series.isnull()"
   ]
  },
  {
   "cell_type": "code",
   "execution_count": 119,
   "id": "e8f4afed",
   "metadata": {},
   "outputs": [
    {
     "data": {
      "text/html": [
       "<div>\n",
       "<style scoped>\n",
       "    .dataframe tbody tr th:only-of-type {\n",
       "        vertical-align: middle;\n",
       "    }\n",
       "\n",
       "    .dataframe tbody tr th {\n",
       "        vertical-align: top;\n",
       "    }\n",
       "\n",
       "    .dataframe thead th {\n",
       "        text-align: right;\n",
       "    }\n",
       "</style>\n",
       "<table border=\"1\" class=\"dataframe\">\n",
       "  <thead>\n",
       "    <tr style=\"text-align: right;\">\n",
       "      <th></th>\n",
       "      <th>0</th>\n",
       "      <th>1</th>\n",
       "      <th>2</th>\n",
       "      <th>3</th>\n",
       "      <th>4</th>\n",
       "    </tr>\n",
       "  </thead>\n",
       "  <tbody>\n",
       "    <tr>\n",
       "      <th>0</th>\n",
       "      <td>55</td>\n",
       "      <td>56</td>\n",
       "      <td>57</td>\n",
       "      <td>58</td>\n",
       "      <td>59</td>\n",
       "    </tr>\n",
       "    <tr>\n",
       "      <th>1</th>\n",
       "      <td>55</td>\n",
       "      <td>56</td>\n",
       "      <td>57</td>\n",
       "      <td>58</td>\n",
       "      <td>59</td>\n",
       "    </tr>\n",
       "  </tbody>\n",
       "</table>\n",
       "</div>"
      ],
      "text/plain": [
       "    0   1   2   3   4\n",
       "0  55  56  57  58  59\n",
       "1  55  56  57  58  59"
      ]
     },
     "execution_count": 119,
     "metadata": {},
     "output_type": "execute_result"
    }
   ],
   "source": [
    "df = pd.DataFrame([weight, weight])\n",
    "df"
   ]
  },
  {
   "cell_type": "code",
   "execution_count": 120,
   "id": "1b7dcfab",
   "metadata": {},
   "outputs": [
    {
     "data": {
      "text/html": [
       "<div>\n",
       "<style scoped>\n",
       "    .dataframe tbody tr th:only-of-type {\n",
       "        vertical-align: middle;\n",
       "    }\n",
       "\n",
       "    .dataframe tbody tr th {\n",
       "        vertical-align: top;\n",
       "    }\n",
       "\n",
       "    .dataframe thead th {\n",
       "        text-align: right;\n",
       "    }\n",
       "</style>\n",
       "<table border=\"1\" class=\"dataframe\">\n",
       "  <thead>\n",
       "    <tr style=\"text-align: right;\">\n",
       "      <th></th>\n",
       "      <th>0</th>\n",
       "      <th>1</th>\n",
       "    </tr>\n",
       "  </thead>\n",
       "  <tbody>\n",
       "    <tr>\n",
       "      <th>0</th>\n",
       "      <td>55</td>\n",
       "      <td>55</td>\n",
       "    </tr>\n",
       "    <tr>\n",
       "      <th>1</th>\n",
       "      <td>56</td>\n",
       "      <td>56</td>\n",
       "    </tr>\n",
       "    <tr>\n",
       "      <th>2</th>\n",
       "      <td>57</td>\n",
       "      <td>57</td>\n",
       "    </tr>\n",
       "    <tr>\n",
       "      <th>3</th>\n",
       "      <td>58</td>\n",
       "      <td>58</td>\n",
       "    </tr>\n",
       "    <tr>\n",
       "      <th>4</th>\n",
       "      <td>59</td>\n",
       "      <td>59</td>\n",
       "    </tr>\n",
       "  </tbody>\n",
       "</table>\n",
       "</div>"
      ],
      "text/plain": [
       "    0   1\n",
       "0  55  55\n",
       "1  56  56\n",
       "2  57  57\n",
       "3  58  58\n",
       "4  59  59"
      ]
     },
     "execution_count": 120,
     "metadata": {},
     "output_type": "execute_result"
    }
   ],
   "source": [
    "df1 = pd.DataFrame([weight, weight]).T\n",
    "df1"
   ]
  },
  {
   "cell_type": "code",
   "execution_count": 121,
   "id": "fb52ce8b",
   "metadata": {},
   "outputs": [
    {
     "data": {
      "text/html": [
       "<div>\n",
       "<style scoped>\n",
       "    .dataframe tbody tr th:only-of-type {\n",
       "        vertical-align: middle;\n",
       "    }\n",
       "\n",
       "    .dataframe tbody tr th {\n",
       "        vertical-align: top;\n",
       "    }\n",
       "\n",
       "    .dataframe thead th {\n",
       "        text-align: right;\n",
       "    }\n",
       "</style>\n",
       "<table border=\"1\" class=\"dataframe\">\n",
       "  <thead>\n",
       "    <tr style=\"text-align: right;\">\n",
       "      <th></th>\n",
       "      <th>weight1</th>\n",
       "      <th>weight2</th>\n",
       "    </tr>\n",
       "  </thead>\n",
       "  <tbody>\n",
       "    <tr>\n",
       "      <th>0</th>\n",
       "      <td>55</td>\n",
       "      <td>55</td>\n",
       "    </tr>\n",
       "    <tr>\n",
       "      <th>1</th>\n",
       "      <td>56</td>\n",
       "      <td>56</td>\n",
       "    </tr>\n",
       "    <tr>\n",
       "      <th>2</th>\n",
       "      <td>57</td>\n",
       "      <td>57</td>\n",
       "    </tr>\n",
       "    <tr>\n",
       "      <th>3</th>\n",
       "      <td>58</td>\n",
       "      <td>58</td>\n",
       "    </tr>\n",
       "    <tr>\n",
       "      <th>4</th>\n",
       "      <td>59</td>\n",
       "      <td>59</td>\n",
       "    </tr>\n",
       "  </tbody>\n",
       "</table>\n",
       "</div>"
      ],
      "text/plain": [
       "   weight1  weight2\n",
       "0       55       55\n",
       "1       56       56\n",
       "2       57       57\n",
       "3       58       58\n",
       "4       59       59"
      ]
     },
     "execution_count": 121,
     "metadata": {},
     "output_type": "execute_result"
    }
   ],
   "source": [
    "df1.columns = ['weight1', 'weight2']\n",
    "df1"
   ]
  },
  {
   "cell_type": "code",
   "execution_count": null,
   "id": "3dc9c662",
   "metadata": {},
   "outputs": [],
   "source": []
  }
 ],
 "metadata": {
  "kernelspec": {
   "display_name": "Python 3 (ipykernel)",
   "language": "python",
   "name": "python3"
  },
  "language_info": {
   "codemirror_mode": {
    "name": "ipython",
    "version": 3
   },
   "file_extension": ".py",
   "mimetype": "text/x-python",
   "name": "python",
   "nbconvert_exporter": "python",
   "pygments_lexer": "ipython3",
   "version": "3.9.7"
  }
 },
 "nbformat": 4,
 "nbformat_minor": 5
}
