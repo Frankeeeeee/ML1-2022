{
 "cells": [
  {
   "cell_type": "markdown",
   "id": "f1ad167e",
   "metadata": {},
   "source": [
    "# (A)"
   ]
  },
  {
   "cell_type": "code",
   "execution_count": 1,
   "id": "a1945471",
   "metadata": {},
   "outputs": [
    {
     "data": {
      "text/plain": [
       "int"
      ]
     },
     "execution_count": 1,
     "metadata": {},
     "output_type": "execute_result"
    }
   ],
   "source": [
    "type(5)"
   ]
  },
  {
   "cell_type": "code",
   "execution_count": 2,
   "id": "345f7b73",
   "metadata": {},
   "outputs": [
    {
     "data": {
      "text/plain": [
       "float"
      ]
     },
     "execution_count": 2,
     "metadata": {},
     "output_type": "execute_result"
    }
   ],
   "source": [
    "type(11.8)"
   ]
  },
  {
   "cell_type": "code",
   "execution_count": 3,
   "id": "49c6a952",
   "metadata": {},
   "outputs": [
    {
     "data": {
      "text/plain": [
       "str"
      ]
     },
     "execution_count": 3,
     "metadata": {},
     "output_type": "execute_result"
    }
   ],
   "source": [
    "type(\"HeLLO World\")"
   ]
  },
  {
   "cell_type": "code",
   "execution_count": 4,
   "id": "dda01372",
   "metadata": {},
   "outputs": [
    {
     "data": {
      "text/plain": [
       "bool"
      ]
     },
     "execution_count": 4,
     "metadata": {},
     "output_type": "execute_result"
    }
   ],
   "source": [
    "type(True)"
   ]
  },
  {
   "cell_type": "code",
   "execution_count": 7,
   "id": "9c78ba36",
   "metadata": {},
   "outputs": [
    {
     "data": {
      "text/plain": [
       "complex"
      ]
     },
     "execution_count": 7,
     "metadata": {},
     "output_type": "execute_result"
    }
   ],
   "source": [
    "type(5j)"
   ]
  },
  {
   "cell_type": "code",
   "execution_count": 8,
   "id": "0be57abc",
   "metadata": {},
   "outputs": [
    {
     "data": {
      "text/plain": [
       "list"
      ]
     },
     "execution_count": 8,
     "metadata": {},
     "output_type": "execute_result"
    }
   ],
   "source": [
    "type([1,2,3,4,5])"
   ]
  },
  {
   "cell_type": "code",
   "execution_count": 9,
   "id": "1d54c32f",
   "metadata": {},
   "outputs": [
    {
     "data": {
      "text/plain": [
       "dict"
      ]
     },
     "execution_count": 9,
     "metadata": {},
     "output_type": "execute_result"
    }
   ],
   "source": [
    "type({\"a\": 1, \"b\": 2})"
   ]
  },
  {
   "cell_type": "markdown",
   "id": "d1d3f0d2",
   "metadata": {},
   "source": [
    "# Operators and Indexing"
   ]
  },
  {
   "cell_type": "code",
   "execution_count": 11,
   "id": "13aa386f",
   "metadata": {},
   "outputs": [],
   "source": [
    "sample_list = ['hello','hi','cool','me']"
   ]
  },
  {
   "cell_type": "code",
   "execution_count": 13,
   "id": "0af2f95c",
   "metadata": {},
   "outputs": [
    {
     "data": {
      "text/plain": [
       "'me'"
      ]
     },
     "execution_count": 13,
     "metadata": {},
     "output_type": "execute_result"
    }
   ],
   "source": [
    "sample_list[3]"
   ]
  },
  {
   "cell_type": "code",
   "execution_count": 14,
   "id": "7fd88810",
   "metadata": {},
   "outputs": [
    {
     "data": {
      "text/plain": [
       "'hello'"
      ]
     },
     "execution_count": 14,
     "metadata": {},
     "output_type": "execute_result"
    }
   ],
   "source": [
    "sample_list[0]"
   ]
  },
  {
   "cell_type": "code",
   "execution_count": 15,
   "id": "f0158757",
   "metadata": {},
   "outputs": [
    {
     "data": {
      "text/plain": [
       "'coolme'"
      ]
     },
     "execution_count": 15,
     "metadata": {},
     "output_type": "execute_result"
    }
   ],
   "source": [
    "sample_list[2]+sample_list[3]  # concatenation"
   ]
  },
  {
   "cell_type": "code",
   "execution_count": 16,
   "id": "0a01a66e",
   "metadata": {},
   "outputs": [
    {
     "data": {
      "text/plain": [
       "4"
      ]
     },
     "execution_count": 16,
     "metadata": {},
     "output_type": "execute_result"
    }
   ],
   "source": [
    "1+3"
   ]
  },
  {
   "cell_type": "markdown",
   "id": "4134f41d",
   "metadata": {},
   "source": [
    "# Loops and iterations"
   ]
  },
  {
   "cell_type": "code",
   "execution_count": 17,
   "id": "cc71c349",
   "metadata": {},
   "outputs": [
    {
     "name": "stdout",
     "output_type": "stream",
     "text": [
      "0\n",
      "1\n",
      "2\n",
      "3\n",
      "4\n"
     ]
    }
   ],
   "source": [
    "for i in range(5):\n",
    "    print(i)"
   ]
  },
  {
   "cell_type": "code",
   "execution_count": 18,
   "id": "9112a71f",
   "metadata": {},
   "outputs": [
    {
     "name": "stdout",
     "output_type": "stream",
     "text": [
      "hello\n",
      "hi\n",
      "cool\n",
      "me\n"
     ]
    }
   ],
   "source": [
    "for word in sample_list:\n",
    "    print(word)"
   ]
  },
  {
   "cell_type": "code",
   "execution_count": 19,
   "id": "fd5a3a6e",
   "metadata": {},
   "outputs": [
    {
     "name": "stdout",
     "output_type": "stream",
     "text": [
      "hello\n",
      "hi\n",
      "cool\n",
      "me\n"
     ]
    }
   ],
   "source": [
    "for i in range(len(sample_list)):\n",
    "    print(sample_list[i])"
   ]
  },
  {
   "cell_type": "markdown",
   "id": "d5f810ea",
   "metadata": {},
   "source": [
    "# if-else statements"
   ]
  },
  {
   "cell_type": "code",
   "execution_count": 20,
   "id": "131a696a",
   "metadata": {},
   "outputs": [
    {
     "name": "stdout",
     "output_type": "stream",
     "text": [
      "Yes\n"
     ]
    }
   ],
   "source": [
    "if \"hello\" in sample_list:\n",
    "    print(\"Yes\")\n",
    "else:\n",
    "    print(\"No\")"
   ]
  },
  {
   "cell_type": "markdown",
   "id": "5120eacc",
   "metadata": {},
   "source": [
    "# Functions"
   ]
  },
  {
   "cell_type": "code",
   "execution_count": 21,
   "id": "74b8ed95",
   "metadata": {},
   "outputs": [],
   "source": [
    "def love(name):\n",
    "    print(name, \"is LOVE\")"
   ]
  },
  {
   "cell_type": "code",
   "execution_count": 22,
   "id": "9cbaee36",
   "metadata": {},
   "outputs": [
    {
     "name": "stdout",
     "output_type": "stream",
     "text": [
      "GOD is LOVE\n"
     ]
    }
   ],
   "source": [
    "love(\"GOD\")"
   ]
  },
  {
   "cell_type": "markdown",
   "id": "052082ed",
   "metadata": {},
   "source": [
    "# Python for DataScience"
   ]
  },
  {
   "cell_type": "code",
   "execution_count": 23,
   "id": "a41e7a6c",
   "metadata": {},
   "outputs": [],
   "source": [
    "import pandas as pd\n",
    "import numpy as np"
   ]
  },
  {
   "cell_type": "code",
   "execution_count": 24,
   "id": "8ce6877e",
   "metadata": {},
   "outputs": [
    {
     "data": {
      "text/plain": [
       "array([4, 7, 4, 3, 9, 3, 2, 9, 0, 5])"
      ]
     },
     "execution_count": 24,
     "metadata": {},
     "output_type": "execute_result"
    }
   ],
   "source": [
    "randnums = np.random.randint(10, size = 10)\n",
    "randnums"
   ]
  },
  {
   "cell_type": "code",
   "execution_count": 25,
   "id": "dbe315f8",
   "metadata": {},
   "outputs": [],
   "source": [
    "randnum_series = pd.Series(randnums)"
   ]
  },
  {
   "cell_type": "code",
   "execution_count": 26,
   "id": "fc5ef481",
   "metadata": {},
   "outputs": [
    {
     "data": {
      "text/plain": [
       "0    4\n",
       "1    7\n",
       "2    4\n",
       "3    3\n",
       "4    9\n",
       "5    3\n",
       "6    2\n",
       "7    9\n",
       "8    0\n",
       "9    5\n",
       "dtype: int32"
      ]
     },
     "execution_count": 26,
     "metadata": {},
     "output_type": "execute_result"
    }
   ],
   "source": [
    "randnum_series"
   ]
  },
  {
   "cell_type": "code",
   "execution_count": 27,
   "id": "476bf31d",
   "metadata": {},
   "outputs": [
    {
     "data": {
      "text/plain": [
       "RangeIndex(start=0, stop=10, step=1)"
      ]
     },
     "execution_count": 27,
     "metadata": {},
     "output_type": "execute_result"
    }
   ],
   "source": [
    "randnum_series.index"
   ]
  },
  {
   "cell_type": "code",
   "execution_count": 28,
   "id": "a8364d91",
   "metadata": {},
   "outputs": [
    {
     "data": {
      "text/plain": [
       "array([4, 7, 4, 3, 9, 3, 2, 9, 0, 5])"
      ]
     },
     "execution_count": 28,
     "metadata": {},
     "output_type": "execute_result"
    }
   ],
   "source": [
    "randnum_series.values"
   ]
  },
  {
   "cell_type": "code",
   "execution_count": 29,
   "id": "07210c0f",
   "metadata": {},
   "outputs": [
    {
     "data": {
      "text/plain": [
       "3    2\n",
       "4    2\n",
       "9    2\n",
       "0    1\n",
       "2    1\n",
       "5    1\n",
       "7    1\n",
       "dtype: int64"
      ]
     },
     "execution_count": 29,
     "metadata": {},
     "output_type": "execute_result"
    }
   ],
   "source": [
    "randnum_series.value_counts()"
   ]
  },
  {
   "cell_type": "code",
   "execution_count": 30,
   "id": "70a439e8",
   "metadata": {},
   "outputs": [],
   "source": [
    "sample_df = pd.DataFrame([randnums,randnums]).T"
   ]
  },
  {
   "cell_type": "code",
   "execution_count": 31,
   "id": "99d26c1a",
   "metadata": {},
   "outputs": [
    {
     "data": {
      "text/html": [
       "<div>\n",
       "<style scoped>\n",
       "    .dataframe tbody tr th:only-of-type {\n",
       "        vertical-align: middle;\n",
       "    }\n",
       "\n",
       "    .dataframe tbody tr th {\n",
       "        vertical-align: top;\n",
       "    }\n",
       "\n",
       "    .dataframe thead th {\n",
       "        text-align: right;\n",
       "    }\n",
       "</style>\n",
       "<table border=\"1\" class=\"dataframe\">\n",
       "  <thead>\n",
       "    <tr style=\"text-align: right;\">\n",
       "      <th></th>\n",
       "      <th>0</th>\n",
       "      <th>1</th>\n",
       "    </tr>\n",
       "  </thead>\n",
       "  <tbody>\n",
       "    <tr>\n",
       "      <th>0</th>\n",
       "      <td>4</td>\n",
       "      <td>4</td>\n",
       "    </tr>\n",
       "    <tr>\n",
       "      <th>1</th>\n",
       "      <td>7</td>\n",
       "      <td>7</td>\n",
       "    </tr>\n",
       "    <tr>\n",
       "      <th>2</th>\n",
       "      <td>4</td>\n",
       "      <td>4</td>\n",
       "    </tr>\n",
       "    <tr>\n",
       "      <th>3</th>\n",
       "      <td>3</td>\n",
       "      <td>3</td>\n",
       "    </tr>\n",
       "    <tr>\n",
       "      <th>4</th>\n",
       "      <td>9</td>\n",
       "      <td>9</td>\n",
       "    </tr>\n",
       "    <tr>\n",
       "      <th>5</th>\n",
       "      <td>3</td>\n",
       "      <td>3</td>\n",
       "    </tr>\n",
       "    <tr>\n",
       "      <th>6</th>\n",
       "      <td>2</td>\n",
       "      <td>2</td>\n",
       "    </tr>\n",
       "    <tr>\n",
       "      <th>7</th>\n",
       "      <td>9</td>\n",
       "      <td>9</td>\n",
       "    </tr>\n",
       "    <tr>\n",
       "      <th>8</th>\n",
       "      <td>0</td>\n",
       "      <td>0</td>\n",
       "    </tr>\n",
       "    <tr>\n",
       "      <th>9</th>\n",
       "      <td>5</td>\n",
       "      <td>5</td>\n",
       "    </tr>\n",
       "  </tbody>\n",
       "</table>\n",
       "</div>"
      ],
      "text/plain": [
       "   0  1\n",
       "0  4  4\n",
       "1  7  7\n",
       "2  4  4\n",
       "3  3  3\n",
       "4  9  9\n",
       "5  3  3\n",
       "6  2  2\n",
       "7  9  9\n",
       "8  0  0\n",
       "9  5  5"
      ]
     },
     "execution_count": 31,
     "metadata": {},
     "output_type": "execute_result"
    }
   ],
   "source": [
    "sample_df"
   ]
  },
  {
   "cell_type": "code",
   "execution_count": 32,
   "id": "07b75ec4",
   "metadata": {},
   "outputs": [
    {
     "data": {
      "text/html": [
       "<div>\n",
       "<style scoped>\n",
       "    .dataframe tbody tr th:only-of-type {\n",
       "        vertical-align: middle;\n",
       "    }\n",
       "\n",
       "    .dataframe tbody tr th {\n",
       "        vertical-align: top;\n",
       "    }\n",
       "\n",
       "    .dataframe thead th {\n",
       "        text-align: right;\n",
       "    }\n",
       "</style>\n",
       "<table border=\"1\" class=\"dataframe\">\n",
       "  <thead>\n",
       "    <tr style=\"text-align: right;\">\n",
       "      <th></th>\n",
       "      <th>randomnum01</th>\n",
       "      <th>randomnum02</th>\n",
       "    </tr>\n",
       "  </thead>\n",
       "  <tbody>\n",
       "    <tr>\n",
       "      <th>0</th>\n",
       "      <td>4</td>\n",
       "      <td>4</td>\n",
       "    </tr>\n",
       "    <tr>\n",
       "      <th>1</th>\n",
       "      <td>7</td>\n",
       "      <td>7</td>\n",
       "    </tr>\n",
       "    <tr>\n",
       "      <th>2</th>\n",
       "      <td>4</td>\n",
       "      <td>4</td>\n",
       "    </tr>\n",
       "    <tr>\n",
       "      <th>3</th>\n",
       "      <td>3</td>\n",
       "      <td>3</td>\n",
       "    </tr>\n",
       "    <tr>\n",
       "      <th>4</th>\n",
       "      <td>9</td>\n",
       "      <td>9</td>\n",
       "    </tr>\n",
       "    <tr>\n",
       "      <th>5</th>\n",
       "      <td>3</td>\n",
       "      <td>3</td>\n",
       "    </tr>\n",
       "    <tr>\n",
       "      <th>6</th>\n",
       "      <td>2</td>\n",
       "      <td>2</td>\n",
       "    </tr>\n",
       "    <tr>\n",
       "      <th>7</th>\n",
       "      <td>9</td>\n",
       "      <td>9</td>\n",
       "    </tr>\n",
       "    <tr>\n",
       "      <th>8</th>\n",
       "      <td>0</td>\n",
       "      <td>0</td>\n",
       "    </tr>\n",
       "    <tr>\n",
       "      <th>9</th>\n",
       "      <td>5</td>\n",
       "      <td>5</td>\n",
       "    </tr>\n",
       "  </tbody>\n",
       "</table>\n",
       "</div>"
      ],
      "text/plain": [
       "   randomnum01  randomnum02\n",
       "0            4            4\n",
       "1            7            7\n",
       "2            4            4\n",
       "3            3            3\n",
       "4            9            9\n",
       "5            3            3\n",
       "6            2            2\n",
       "7            9            9\n",
       "8            0            0\n",
       "9            5            5"
      ]
     },
     "execution_count": 32,
     "metadata": {},
     "output_type": "execute_result"
    }
   ],
   "source": [
    "sample_df.columns = [\"randomnum01\", \"randomnum02\"]\n",
    "sample_df"
   ]
  },
  {
   "cell_type": "code",
   "execution_count": 33,
   "id": "e99b9eb9",
   "metadata": {},
   "outputs": [
    {
     "data": {
      "text/html": [
       "<div>\n",
       "<style scoped>\n",
       "    .dataframe tbody tr th:only-of-type {\n",
       "        vertical-align: middle;\n",
       "    }\n",
       "\n",
       "    .dataframe tbody tr th {\n",
       "        vertical-align: top;\n",
       "    }\n",
       "\n",
       "    .dataframe thead th {\n",
       "        text-align: right;\n",
       "    }\n",
       "</style>\n",
       "<table border=\"1\" class=\"dataframe\">\n",
       "  <thead>\n",
       "    <tr style=\"text-align: right;\">\n",
       "      <th></th>\n",
       "      <th>Sale_ID</th>\n",
       "      <th>Date</th>\n",
       "      <th>Store_ID</th>\n",
       "      <th>Product_ID</th>\n",
       "      <th>Units</th>\n",
       "      <th>Store_Name</th>\n",
       "      <th>Store_City</th>\n",
       "      <th>Store_Location</th>\n",
       "      <th>Store_Open_Date</th>\n",
       "      <th>Product_Name</th>\n",
       "      <th>Product_Category</th>\n",
       "      <th>Product_Cost</th>\n",
       "      <th>Product_Price</th>\n",
       "      <th>Stock_On_Hand</th>\n",
       "    </tr>\n",
       "  </thead>\n",
       "  <tbody>\n",
       "    <tr>\n",
       "      <th>0</th>\n",
       "      <td>1</td>\n",
       "      <td>2017-01-01</td>\n",
       "      <td>24</td>\n",
       "      <td>4</td>\n",
       "      <td>1</td>\n",
       "      <td>Maven Toys Aguascalientes 1</td>\n",
       "      <td>Aguascalientes</td>\n",
       "      <td>Downtown</td>\n",
       "      <td>2010-07-31</td>\n",
       "      <td>Chutes &amp; Ladders</td>\n",
       "      <td>Games</td>\n",
       "      <td>$9.99</td>\n",
       "      <td>$12.99</td>\n",
       "      <td>1.0</td>\n",
       "    </tr>\n",
       "    <tr>\n",
       "      <th>1</th>\n",
       "      <td>2</td>\n",
       "      <td>2017-01-01</td>\n",
       "      <td>28</td>\n",
       "      <td>1</td>\n",
       "      <td>1</td>\n",
       "      <td>Maven Toys Puebla 2</td>\n",
       "      <td>Puebla</td>\n",
       "      <td>Downtown</td>\n",
       "      <td>2011-04-01</td>\n",
       "      <td>Action Figure</td>\n",
       "      <td>Toys</td>\n",
       "      <td>$9.99</td>\n",
       "      <td>$15.99</td>\n",
       "      <td>6.0</td>\n",
       "    </tr>\n",
       "    <tr>\n",
       "      <th>2</th>\n",
       "      <td>3</td>\n",
       "      <td>2017-01-01</td>\n",
       "      <td>6</td>\n",
       "      <td>8</td>\n",
       "      <td>1</td>\n",
       "      <td>Maven Toys Mexicali 1</td>\n",
       "      <td>Mexicali</td>\n",
       "      <td>Commercial</td>\n",
       "      <td>2003-12-13</td>\n",
       "      <td>Deck Of Cards</td>\n",
       "      <td>Games</td>\n",
       "      <td>$3.99</td>\n",
       "      <td>$6.99</td>\n",
       "      <td>50.0</td>\n",
       "    </tr>\n",
       "    <tr>\n",
       "      <th>3</th>\n",
       "      <td>4</td>\n",
       "      <td>2017-01-01</td>\n",
       "      <td>48</td>\n",
       "      <td>7</td>\n",
       "      <td>1</td>\n",
       "      <td>Maven Toys Saltillo 2</td>\n",
       "      <td>Saltillo</td>\n",
       "      <td>Commercial</td>\n",
       "      <td>2016-03-23</td>\n",
       "      <td>Dart Gun</td>\n",
       "      <td>Sports &amp; Outdoors</td>\n",
       "      <td>$11.99</td>\n",
       "      <td>$15.99</td>\n",
       "      <td>28.0</td>\n",
       "    </tr>\n",
       "    <tr>\n",
       "      <th>4</th>\n",
       "      <td>5</td>\n",
       "      <td>2017-01-01</td>\n",
       "      <td>44</td>\n",
       "      <td>18</td>\n",
       "      <td>1</td>\n",
       "      <td>Maven Toys Puebla 3</td>\n",
       "      <td>Puebla</td>\n",
       "      <td>Residential</td>\n",
       "      <td>2014-12-27</td>\n",
       "      <td>Lego Bricks</td>\n",
       "      <td>Toys</td>\n",
       "      <td>$34.99</td>\n",
       "      <td>$39.99</td>\n",
       "      <td>117.0</td>\n",
       "    </tr>\n",
       "    <tr>\n",
       "      <th>...</th>\n",
       "      <td>...</td>\n",
       "      <td>...</td>\n",
       "      <td>...</td>\n",
       "      <td>...</td>\n",
       "      <td>...</td>\n",
       "      <td>...</td>\n",
       "      <td>...</td>\n",
       "      <td>...</td>\n",
       "      <td>...</td>\n",
       "      <td>...</td>\n",
       "      <td>...</td>\n",
       "      <td>...</td>\n",
       "      <td>...</td>\n",
       "      <td>...</td>\n",
       "    </tr>\n",
       "    <tr>\n",
       "      <th>829257</th>\n",
       "      <td>829258</td>\n",
       "      <td>2018-09-30</td>\n",
       "      <td>24</td>\n",
       "      <td>19</td>\n",
       "      <td>1</td>\n",
       "      <td>Maven Toys Aguascalientes 1</td>\n",
       "      <td>Aguascalientes</td>\n",
       "      <td>Downtown</td>\n",
       "      <td>2010-07-31</td>\n",
       "      <td>Magic Sand</td>\n",
       "      <td>Art &amp; Crafts</td>\n",
       "      <td>$13.99</td>\n",
       "      <td>$15.99</td>\n",
       "      <td>67.0</td>\n",
       "    </tr>\n",
       "    <tr>\n",
       "      <th>829258</th>\n",
       "      <td>829259</td>\n",
       "      <td>2018-09-30</td>\n",
       "      <td>16</td>\n",
       "      <td>35</td>\n",
       "      <td>1</td>\n",
       "      <td>Maven Toys San Luis Potosi 1</td>\n",
       "      <td>San Luis Potosi</td>\n",
       "      <td>Downtown</td>\n",
       "      <td>2007-05-19</td>\n",
       "      <td>Uno Card Game</td>\n",
       "      <td>Games</td>\n",
       "      <td>$3.99</td>\n",
       "      <td>$7.99</td>\n",
       "      <td>6.0</td>\n",
       "    </tr>\n",
       "    <tr>\n",
       "      <th>829259</th>\n",
       "      <td>829260</td>\n",
       "      <td>2018-09-30</td>\n",
       "      <td>22</td>\n",
       "      <td>19</td>\n",
       "      <td>1</td>\n",
       "      <td>Maven Toys Guanajuato 2</td>\n",
       "      <td>Guanajuato</td>\n",
       "      <td>Commercial</td>\n",
       "      <td>2010-03-29</td>\n",
       "      <td>Magic Sand</td>\n",
       "      <td>Art &amp; Crafts</td>\n",
       "      <td>$13.99</td>\n",
       "      <td>$15.99</td>\n",
       "      <td>17.0</td>\n",
       "    </tr>\n",
       "    <tr>\n",
       "      <th>829260</th>\n",
       "      <td>829261</td>\n",
       "      <td>2018-09-30</td>\n",
       "      <td>13</td>\n",
       "      <td>2</td>\n",
       "      <td>2</td>\n",
       "      <td>Maven Toys Mexicali 2</td>\n",
       "      <td>Mexicali</td>\n",
       "      <td>Downtown</td>\n",
       "      <td>2006-08-30</td>\n",
       "      <td>Animal Figures</td>\n",
       "      <td>Toys</td>\n",
       "      <td>$9.99</td>\n",
       "      <td>$12.99</td>\n",
       "      <td>2.0</td>\n",
       "    </tr>\n",
       "    <tr>\n",
       "      <th>829261</th>\n",
       "      <td>829262</td>\n",
       "      <td>2018-09-30</td>\n",
       "      <td>32</td>\n",
       "      <td>6</td>\n",
       "      <td>1</td>\n",
       "      <td>Maven Toys Hermosillo 1</td>\n",
       "      <td>Hermosillo</td>\n",
       "      <td>Residential</td>\n",
       "      <td>2012-08-31</td>\n",
       "      <td>Colorbuds</td>\n",
       "      <td>Electronics</td>\n",
       "      <td>$6.99</td>\n",
       "      <td>$14.99</td>\n",
       "      <td>65.0</td>\n",
       "    </tr>\n",
       "  </tbody>\n",
       "</table>\n",
       "<p>829262 rows × 14 columns</p>\n",
       "</div>"
      ],
      "text/plain": [
       "        Sale_ID        Date  Store_ID  Product_ID  Units  \\\n",
       "0             1  2017-01-01        24           4      1   \n",
       "1             2  2017-01-01        28           1      1   \n",
       "2             3  2017-01-01         6           8      1   \n",
       "3             4  2017-01-01        48           7      1   \n",
       "4             5  2017-01-01        44          18      1   \n",
       "...         ...         ...       ...         ...    ...   \n",
       "829257   829258  2018-09-30        24          19      1   \n",
       "829258   829259  2018-09-30        16          35      1   \n",
       "829259   829260  2018-09-30        22          19      1   \n",
       "829260   829261  2018-09-30        13           2      2   \n",
       "829261   829262  2018-09-30        32           6      1   \n",
       "\n",
       "                          Store_Name       Store_City Store_Location  \\\n",
       "0        Maven Toys Aguascalientes 1   Aguascalientes       Downtown   \n",
       "1                Maven Toys Puebla 2           Puebla       Downtown   \n",
       "2              Maven Toys Mexicali 1         Mexicali     Commercial   \n",
       "3              Maven Toys Saltillo 2         Saltillo     Commercial   \n",
       "4                Maven Toys Puebla 3           Puebla    Residential   \n",
       "...                              ...              ...            ...   \n",
       "829257   Maven Toys Aguascalientes 1   Aguascalientes       Downtown   \n",
       "829258  Maven Toys San Luis Potosi 1  San Luis Potosi       Downtown   \n",
       "829259       Maven Toys Guanajuato 2       Guanajuato     Commercial   \n",
       "829260         Maven Toys Mexicali 2         Mexicali       Downtown   \n",
       "829261       Maven Toys Hermosillo 1       Hermosillo    Residential   \n",
       "\n",
       "       Store_Open_Date      Product_Name   Product_Category Product_Cost  \\\n",
       "0           2010-07-31  Chutes & Ladders              Games       $9.99    \n",
       "1           2011-04-01     Action Figure               Toys       $9.99    \n",
       "2           2003-12-13     Deck Of Cards              Games       $3.99    \n",
       "3           2016-03-23          Dart Gun  Sports & Outdoors      $11.99    \n",
       "4           2014-12-27       Lego Bricks               Toys      $34.99    \n",
       "...                ...               ...                ...          ...   \n",
       "829257      2010-07-31        Magic Sand       Art & Crafts      $13.99    \n",
       "829258      2007-05-19     Uno Card Game              Games       $3.99    \n",
       "829259      2010-03-29        Magic Sand       Art & Crafts      $13.99    \n",
       "829260      2006-08-30    Animal Figures               Toys       $9.99    \n",
       "829261      2012-08-31         Colorbuds        Electronics       $6.99    \n",
       "\n",
       "       Product_Price  Stock_On_Hand  \n",
       "0            $12.99             1.0  \n",
       "1            $15.99             6.0  \n",
       "2             $6.99            50.0  \n",
       "3            $15.99            28.0  \n",
       "4            $39.99           117.0  \n",
       "...              ...            ...  \n",
       "829257       $15.99            67.0  \n",
       "829258        $7.99             6.0  \n",
       "829259       $15.99            17.0  \n",
       "829260       $12.99             2.0  \n",
       "829261       $14.99            65.0  \n",
       "\n",
       "[829262 rows x 14 columns]"
      ]
     },
     "execution_count": 33,
     "metadata": {},
     "output_type": "execute_result"
    }
   ],
   "source": [
    "df = pd.read_csv(\"Toy Sales Data.csv\")\n",
    "df"
   ]
  },
  {
   "cell_type": "code",
   "execution_count": 34,
   "id": "0992d18c",
   "metadata": {},
   "outputs": [
    {
     "data": {
      "text/html": [
       "<div>\n",
       "<style scoped>\n",
       "    .dataframe tbody tr th:only-of-type {\n",
       "        vertical-align: middle;\n",
       "    }\n",
       "\n",
       "    .dataframe tbody tr th {\n",
       "        vertical-align: top;\n",
       "    }\n",
       "\n",
       "    .dataframe thead th {\n",
       "        text-align: right;\n",
       "    }\n",
       "</style>\n",
       "<table border=\"1\" class=\"dataframe\">\n",
       "  <thead>\n",
       "    <tr style=\"text-align: right;\">\n",
       "      <th></th>\n",
       "      <th>Sale_ID</th>\n",
       "      <th>Date</th>\n",
       "      <th>Store_ID</th>\n",
       "      <th>Product_ID</th>\n",
       "      <th>Units</th>\n",
       "      <th>Store_Name</th>\n",
       "      <th>Store_City</th>\n",
       "      <th>Store_Location</th>\n",
       "      <th>Store_Open_Date</th>\n",
       "      <th>Product_Name</th>\n",
       "      <th>Product_Category</th>\n",
       "      <th>Product_Cost</th>\n",
       "      <th>Product_Price</th>\n",
       "      <th>Stock_On_Hand</th>\n",
       "    </tr>\n",
       "  </thead>\n",
       "  <tbody>\n",
       "    <tr>\n",
       "      <th>0</th>\n",
       "      <td>1</td>\n",
       "      <td>2017-01-01</td>\n",
       "      <td>24</td>\n",
       "      <td>4</td>\n",
       "      <td>1</td>\n",
       "      <td>Maven Toys Aguascalientes 1</td>\n",
       "      <td>Aguascalientes</td>\n",
       "      <td>Downtown</td>\n",
       "      <td>2010-07-31</td>\n",
       "      <td>Chutes &amp; Ladders</td>\n",
       "      <td>Games</td>\n",
       "      <td>$9.99</td>\n",
       "      <td>$12.99</td>\n",
       "      <td>1.0</td>\n",
       "    </tr>\n",
       "    <tr>\n",
       "      <th>1</th>\n",
       "      <td>2</td>\n",
       "      <td>2017-01-01</td>\n",
       "      <td>28</td>\n",
       "      <td>1</td>\n",
       "      <td>1</td>\n",
       "      <td>Maven Toys Puebla 2</td>\n",
       "      <td>Puebla</td>\n",
       "      <td>Downtown</td>\n",
       "      <td>2011-04-01</td>\n",
       "      <td>Action Figure</td>\n",
       "      <td>Toys</td>\n",
       "      <td>$9.99</td>\n",
       "      <td>$15.99</td>\n",
       "      <td>6.0</td>\n",
       "    </tr>\n",
       "    <tr>\n",
       "      <th>2</th>\n",
       "      <td>3</td>\n",
       "      <td>2017-01-01</td>\n",
       "      <td>6</td>\n",
       "      <td>8</td>\n",
       "      <td>1</td>\n",
       "      <td>Maven Toys Mexicali 1</td>\n",
       "      <td>Mexicali</td>\n",
       "      <td>Commercial</td>\n",
       "      <td>2003-12-13</td>\n",
       "      <td>Deck Of Cards</td>\n",
       "      <td>Games</td>\n",
       "      <td>$3.99</td>\n",
       "      <td>$6.99</td>\n",
       "      <td>50.0</td>\n",
       "    </tr>\n",
       "    <tr>\n",
       "      <th>3</th>\n",
       "      <td>4</td>\n",
       "      <td>2017-01-01</td>\n",
       "      <td>48</td>\n",
       "      <td>7</td>\n",
       "      <td>1</td>\n",
       "      <td>Maven Toys Saltillo 2</td>\n",
       "      <td>Saltillo</td>\n",
       "      <td>Commercial</td>\n",
       "      <td>2016-03-23</td>\n",
       "      <td>Dart Gun</td>\n",
       "      <td>Sports &amp; Outdoors</td>\n",
       "      <td>$11.99</td>\n",
       "      <td>$15.99</td>\n",
       "      <td>28.0</td>\n",
       "    </tr>\n",
       "    <tr>\n",
       "      <th>4</th>\n",
       "      <td>5</td>\n",
       "      <td>2017-01-01</td>\n",
       "      <td>44</td>\n",
       "      <td>18</td>\n",
       "      <td>1</td>\n",
       "      <td>Maven Toys Puebla 3</td>\n",
       "      <td>Puebla</td>\n",
       "      <td>Residential</td>\n",
       "      <td>2014-12-27</td>\n",
       "      <td>Lego Bricks</td>\n",
       "      <td>Toys</td>\n",
       "      <td>$34.99</td>\n",
       "      <td>$39.99</td>\n",
       "      <td>117.0</td>\n",
       "    </tr>\n",
       "  </tbody>\n",
       "</table>\n",
       "</div>"
      ],
      "text/plain": [
       "   Sale_ID        Date  Store_ID  Product_ID  Units  \\\n",
       "0        1  2017-01-01        24           4      1   \n",
       "1        2  2017-01-01        28           1      1   \n",
       "2        3  2017-01-01         6           8      1   \n",
       "3        4  2017-01-01        48           7      1   \n",
       "4        5  2017-01-01        44          18      1   \n",
       "\n",
       "                    Store_Name      Store_City Store_Location Store_Open_Date  \\\n",
       "0  Maven Toys Aguascalientes 1  Aguascalientes       Downtown      2010-07-31   \n",
       "1          Maven Toys Puebla 2          Puebla       Downtown      2011-04-01   \n",
       "2        Maven Toys Mexicali 1        Mexicali     Commercial      2003-12-13   \n",
       "3        Maven Toys Saltillo 2        Saltillo     Commercial      2016-03-23   \n",
       "4          Maven Toys Puebla 3          Puebla    Residential      2014-12-27   \n",
       "\n",
       "       Product_Name   Product_Category Product_Cost Product_Price  \\\n",
       "0  Chutes & Ladders              Games       $9.99        $12.99    \n",
       "1     Action Figure               Toys       $9.99        $15.99    \n",
       "2     Deck Of Cards              Games       $3.99         $6.99    \n",
       "3          Dart Gun  Sports & Outdoors      $11.99        $15.99    \n",
       "4       Lego Bricks               Toys      $34.99        $39.99    \n",
       "\n",
       "   Stock_On_Hand  \n",
       "0            1.0  \n",
       "1            6.0  \n",
       "2           50.0  \n",
       "3           28.0  \n",
       "4          117.0  "
      ]
     },
     "execution_count": 34,
     "metadata": {},
     "output_type": "execute_result"
    }
   ],
   "source": [
    "df.head()"
   ]
  },
  {
   "cell_type": "code",
   "execution_count": 35,
   "id": "94f8f75f",
   "metadata": {},
   "outputs": [
    {
     "data": {
      "text/html": [
       "<div>\n",
       "<style scoped>\n",
       "    .dataframe tbody tr th:only-of-type {\n",
       "        vertical-align: middle;\n",
       "    }\n",
       "\n",
       "    .dataframe tbody tr th {\n",
       "        vertical-align: top;\n",
       "    }\n",
       "\n",
       "    .dataframe thead th {\n",
       "        text-align: right;\n",
       "    }\n",
       "</style>\n",
       "<table border=\"1\" class=\"dataframe\">\n",
       "  <thead>\n",
       "    <tr style=\"text-align: right;\">\n",
       "      <th></th>\n",
       "      <th>Sale_ID</th>\n",
       "      <th>Date</th>\n",
       "      <th>Store_ID</th>\n",
       "      <th>Product_ID</th>\n",
       "      <th>Units</th>\n",
       "      <th>Store_Name</th>\n",
       "      <th>Store_City</th>\n",
       "      <th>Store_Location</th>\n",
       "      <th>Store_Open_Date</th>\n",
       "      <th>Product_Name</th>\n",
       "      <th>Product_Category</th>\n",
       "      <th>Product_Cost</th>\n",
       "      <th>Product_Price</th>\n",
       "      <th>Stock_On_Hand</th>\n",
       "    </tr>\n",
       "  </thead>\n",
       "  <tbody>\n",
       "    <tr>\n",
       "      <th>829257</th>\n",
       "      <td>829258</td>\n",
       "      <td>2018-09-30</td>\n",
       "      <td>24</td>\n",
       "      <td>19</td>\n",
       "      <td>1</td>\n",
       "      <td>Maven Toys Aguascalientes 1</td>\n",
       "      <td>Aguascalientes</td>\n",
       "      <td>Downtown</td>\n",
       "      <td>2010-07-31</td>\n",
       "      <td>Magic Sand</td>\n",
       "      <td>Art &amp; Crafts</td>\n",
       "      <td>$13.99</td>\n",
       "      <td>$15.99</td>\n",
       "      <td>67.0</td>\n",
       "    </tr>\n",
       "    <tr>\n",
       "      <th>829258</th>\n",
       "      <td>829259</td>\n",
       "      <td>2018-09-30</td>\n",
       "      <td>16</td>\n",
       "      <td>35</td>\n",
       "      <td>1</td>\n",
       "      <td>Maven Toys San Luis Potosi 1</td>\n",
       "      <td>San Luis Potosi</td>\n",
       "      <td>Downtown</td>\n",
       "      <td>2007-05-19</td>\n",
       "      <td>Uno Card Game</td>\n",
       "      <td>Games</td>\n",
       "      <td>$3.99</td>\n",
       "      <td>$7.99</td>\n",
       "      <td>6.0</td>\n",
       "    </tr>\n",
       "    <tr>\n",
       "      <th>829259</th>\n",
       "      <td>829260</td>\n",
       "      <td>2018-09-30</td>\n",
       "      <td>22</td>\n",
       "      <td>19</td>\n",
       "      <td>1</td>\n",
       "      <td>Maven Toys Guanajuato 2</td>\n",
       "      <td>Guanajuato</td>\n",
       "      <td>Commercial</td>\n",
       "      <td>2010-03-29</td>\n",
       "      <td>Magic Sand</td>\n",
       "      <td>Art &amp; Crafts</td>\n",
       "      <td>$13.99</td>\n",
       "      <td>$15.99</td>\n",
       "      <td>17.0</td>\n",
       "    </tr>\n",
       "    <tr>\n",
       "      <th>829260</th>\n",
       "      <td>829261</td>\n",
       "      <td>2018-09-30</td>\n",
       "      <td>13</td>\n",
       "      <td>2</td>\n",
       "      <td>2</td>\n",
       "      <td>Maven Toys Mexicali 2</td>\n",
       "      <td>Mexicali</td>\n",
       "      <td>Downtown</td>\n",
       "      <td>2006-08-30</td>\n",
       "      <td>Animal Figures</td>\n",
       "      <td>Toys</td>\n",
       "      <td>$9.99</td>\n",
       "      <td>$12.99</td>\n",
       "      <td>2.0</td>\n",
       "    </tr>\n",
       "    <tr>\n",
       "      <th>829261</th>\n",
       "      <td>829262</td>\n",
       "      <td>2018-09-30</td>\n",
       "      <td>32</td>\n",
       "      <td>6</td>\n",
       "      <td>1</td>\n",
       "      <td>Maven Toys Hermosillo 1</td>\n",
       "      <td>Hermosillo</td>\n",
       "      <td>Residential</td>\n",
       "      <td>2012-08-31</td>\n",
       "      <td>Colorbuds</td>\n",
       "      <td>Electronics</td>\n",
       "      <td>$6.99</td>\n",
       "      <td>$14.99</td>\n",
       "      <td>65.0</td>\n",
       "    </tr>\n",
       "  </tbody>\n",
       "</table>\n",
       "</div>"
      ],
      "text/plain": [
       "        Sale_ID        Date  Store_ID  Product_ID  Units  \\\n",
       "829257   829258  2018-09-30        24          19      1   \n",
       "829258   829259  2018-09-30        16          35      1   \n",
       "829259   829260  2018-09-30        22          19      1   \n",
       "829260   829261  2018-09-30        13           2      2   \n",
       "829261   829262  2018-09-30        32           6      1   \n",
       "\n",
       "                          Store_Name       Store_City Store_Location  \\\n",
       "829257   Maven Toys Aguascalientes 1   Aguascalientes       Downtown   \n",
       "829258  Maven Toys San Luis Potosi 1  San Luis Potosi       Downtown   \n",
       "829259       Maven Toys Guanajuato 2       Guanajuato     Commercial   \n",
       "829260         Maven Toys Mexicali 2         Mexicali       Downtown   \n",
       "829261       Maven Toys Hermosillo 1       Hermosillo    Residential   \n",
       "\n",
       "       Store_Open_Date    Product_Name Product_Category Product_Cost  \\\n",
       "829257      2010-07-31      Magic Sand     Art & Crafts      $13.99    \n",
       "829258      2007-05-19   Uno Card Game            Games       $3.99    \n",
       "829259      2010-03-29      Magic Sand     Art & Crafts      $13.99    \n",
       "829260      2006-08-30  Animal Figures             Toys       $9.99    \n",
       "829261      2012-08-31       Colorbuds      Electronics       $6.99    \n",
       "\n",
       "       Product_Price  Stock_On_Hand  \n",
       "829257       $15.99            67.0  \n",
       "829258        $7.99             6.0  \n",
       "829259       $15.99            17.0  \n",
       "829260       $12.99             2.0  \n",
       "829261       $14.99            65.0  "
      ]
     },
     "execution_count": 35,
     "metadata": {},
     "output_type": "execute_result"
    }
   ],
   "source": [
    "df.tail()"
   ]
  },
  {
   "cell_type": "code",
   "execution_count": 36,
   "id": "3bc2f30c",
   "metadata": {},
   "outputs": [
    {
     "data": {
      "text/plain": [
       "(829262, 14)"
      ]
     },
     "execution_count": 36,
     "metadata": {},
     "output_type": "execute_result"
    }
   ],
   "source": [
    "df.shape"
   ]
  },
  {
   "cell_type": "code",
   "execution_count": 38,
   "id": "f0d4b069",
   "metadata": {},
   "outputs": [
    {
     "data": {
      "text/plain": [
       "Colorbuds                72988\n",
       "Deck Of Cards            68083\n",
       "PlayDoh Can              64834\n",
       "Barrel O' Slime          54078\n",
       "Action Figure            48497\n",
       "Lego Bricks              48030\n",
       "Splash Balls             41559\n",
       "Magic Sand               39293\n",
       "Rubik's Cube             38703\n",
       "Animal Figures           32250\n",
       "Dino Egg                 28181\n",
       "Dart Gun                 26203\n",
       "Glass Marbles            24507\n",
       "Mini Ping Pong Set       24378\n",
       "Dinosaur Figures         24311\n",
       "Nerf Gun                 23709\n",
       "Kids Makeup Kit          21648\n",
       "Hot Wheels 5-Pack        20776\n",
       "PlayDoh Toolkit          20736\n",
       "Gamer Headphones         15543\n",
       "Jenga                    12143\n",
       "Etch A Sketch            11205\n",
       "Toy Robot                10494\n",
       "Mr. Potatohead            7820\n",
       "Foam Disk Launcher        6812\n",
       "Supersoaker Water Gun     6088\n",
       "PlayDoh Playset           6067\n",
       "Teddy Bear                6034\n",
       "Plush Pony                5328\n",
       "Classic Dominoes          4269\n",
       "Chutes & Ladders          3700\n",
       "Monopoly                  3002\n",
       "Playfoam                  2812\n",
       "Uno Card Game             2599\n",
       "Mini Basketball Hoop      2582\n",
       "Name: Product_Name, dtype: int64"
      ]
     },
     "execution_count": 38,
     "metadata": {},
     "output_type": "execute_result"
    }
   ],
   "source": [
    "df[\"Product_Name\"].value_counts()\n"
   ]
  },
  {
   "cell_type": "code",
   "execution_count": 39,
   "id": "37ae6736",
   "metadata": {},
   "outputs": [
    {
     "data": {
      "text/plain": [
       "Sale_ID                0\n",
       "Date                   0\n",
       "Store_ID               0\n",
       "Product_ID             0\n",
       "Units                  0\n",
       "Store_Name             0\n",
       "Store_City             0\n",
       "Store_Location         0\n",
       "Store_Open_Date        0\n",
       "Product_Name           0\n",
       "Product_Category       0\n",
       "Product_Cost           0\n",
       "Product_Price          0\n",
       "Stock_On_Hand       6232\n",
       "dtype: int64"
      ]
     },
     "execution_count": 39,
     "metadata": {},
     "output_type": "execute_result"
    }
   ],
   "source": [
    "df.isna().sum()"
   ]
  },
  {
   "cell_type": "code",
   "execution_count": 40,
   "id": "a139ff2f",
   "metadata": {},
   "outputs": [
    {
     "data": {
      "text/html": [
       "<div>\n",
       "<style scoped>\n",
       "    .dataframe tbody tr th:only-of-type {\n",
       "        vertical-align: middle;\n",
       "    }\n",
       "\n",
       "    .dataframe tbody tr th {\n",
       "        vertical-align: top;\n",
       "    }\n",
       "\n",
       "    .dataframe thead th {\n",
       "        text-align: right;\n",
       "    }\n",
       "</style>\n",
       "<table border=\"1\" class=\"dataframe\">\n",
       "  <thead>\n",
       "    <tr style=\"text-align: right;\">\n",
       "      <th></th>\n",
       "      <th>Sale_ID</th>\n",
       "      <th>Store_ID</th>\n",
       "      <th>Product_ID</th>\n",
       "      <th>Units</th>\n",
       "      <th>Stock_On_Hand</th>\n",
       "    </tr>\n",
       "  </thead>\n",
       "  <tbody>\n",
       "    <tr>\n",
       "      <th>count</th>\n",
       "      <td>829262.000000</td>\n",
       "      <td>829262.000000</td>\n",
       "      <td>829262.000000</td>\n",
       "      <td>829262.000000</td>\n",
       "      <td>823030.000000</td>\n",
       "    </tr>\n",
       "    <tr>\n",
       "      <th>mean</th>\n",
       "      <td>414631.500000</td>\n",
       "      <td>25.277034</td>\n",
       "      <td>15.014149</td>\n",
       "      <td>1.315103</td>\n",
       "      <td>25.319432</td>\n",
       "    </tr>\n",
       "    <tr>\n",
       "      <th>std</th>\n",
       "      <td>239387.463803</td>\n",
       "      <td>14.352573</td>\n",
       "      <td>9.869417</td>\n",
       "      <td>0.830701</td>\n",
       "      <td>22.955019</td>\n",
       "    </tr>\n",
       "    <tr>\n",
       "      <th>min</th>\n",
       "      <td>1.000000</td>\n",
       "      <td>1.000000</td>\n",
       "      <td>1.000000</td>\n",
       "      <td>1.000000</td>\n",
       "      <td>0.000000</td>\n",
       "    </tr>\n",
       "    <tr>\n",
       "      <th>25%</th>\n",
       "      <td>207316.250000</td>\n",
       "      <td>13.000000</td>\n",
       "      <td>6.000000</td>\n",
       "      <td>1.000000</td>\n",
       "      <td>9.000000</td>\n",
       "    </tr>\n",
       "    <tr>\n",
       "      <th>50%</th>\n",
       "      <td>414631.500000</td>\n",
       "      <td>26.000000</td>\n",
       "      <td>14.000000</td>\n",
       "      <td>1.000000</td>\n",
       "      <td>18.000000</td>\n",
       "    </tr>\n",
       "    <tr>\n",
       "      <th>75%</th>\n",
       "      <td>621946.750000</td>\n",
       "      <td>38.000000</td>\n",
       "      <td>24.000000</td>\n",
       "      <td>1.000000</td>\n",
       "      <td>35.000000</td>\n",
       "    </tr>\n",
       "    <tr>\n",
       "      <th>max</th>\n",
       "      <td>829262.000000</td>\n",
       "      <td>50.000000</td>\n",
       "      <td>35.000000</td>\n",
       "      <td>30.000000</td>\n",
       "      <td>139.000000</td>\n",
       "    </tr>\n",
       "  </tbody>\n",
       "</table>\n",
       "</div>"
      ],
      "text/plain": [
       "             Sale_ID       Store_ID     Product_ID          Units  \\\n",
       "count  829262.000000  829262.000000  829262.000000  829262.000000   \n",
       "mean   414631.500000      25.277034      15.014149       1.315103   \n",
       "std    239387.463803      14.352573       9.869417       0.830701   \n",
       "min         1.000000       1.000000       1.000000       1.000000   \n",
       "25%    207316.250000      13.000000       6.000000       1.000000   \n",
       "50%    414631.500000      26.000000      14.000000       1.000000   \n",
       "75%    621946.750000      38.000000      24.000000       1.000000   \n",
       "max    829262.000000      50.000000      35.000000      30.000000   \n",
       "\n",
       "       Stock_On_Hand  \n",
       "count  823030.000000  \n",
       "mean       25.319432  \n",
       "std        22.955019  \n",
       "min         0.000000  \n",
       "25%         9.000000  \n",
       "50%        18.000000  \n",
       "75%        35.000000  \n",
       "max       139.000000  "
      ]
     },
     "execution_count": 40,
     "metadata": {},
     "output_type": "execute_result"
    }
   ],
   "source": [
    "df.describe()"
   ]
  },
  {
   "cell_type": "code",
   "execution_count": 41,
   "id": "8309ce19",
   "metadata": {},
   "outputs": [
    {
     "data": {
      "text/html": [
       "<div>\n",
       "<style scoped>\n",
       "    .dataframe tbody tr th:only-of-type {\n",
       "        vertical-align: middle;\n",
       "    }\n",
       "\n",
       "    .dataframe tbody tr th {\n",
       "        vertical-align: top;\n",
       "    }\n",
       "\n",
       "    .dataframe thead th {\n",
       "        text-align: right;\n",
       "    }\n",
       "</style>\n",
       "<table border=\"1\" class=\"dataframe\">\n",
       "  <thead>\n",
       "    <tr style=\"text-align: right;\">\n",
       "      <th></th>\n",
       "      <th>Sale_ID</th>\n",
       "      <th>Store_ID</th>\n",
       "      <th>Product_ID</th>\n",
       "      <th>Units</th>\n",
       "      <th>Stock_On_Hand</th>\n",
       "    </tr>\n",
       "  </thead>\n",
       "  <tbody>\n",
       "    <tr>\n",
       "      <th>Sale_ID</th>\n",
       "      <td>1.000000</td>\n",
       "      <td>0.004574</td>\n",
       "      <td>0.041613</td>\n",
       "      <td>0.005462</td>\n",
       "      <td>0.010554</td>\n",
       "    </tr>\n",
       "    <tr>\n",
       "      <th>Store_ID</th>\n",
       "      <td>0.004574</td>\n",
       "      <td>1.000000</td>\n",
       "      <td>0.018282</td>\n",
       "      <td>0.011295</td>\n",
       "      <td>0.084071</td>\n",
       "    </tr>\n",
       "    <tr>\n",
       "      <th>Product_ID</th>\n",
       "      <td>0.041613</td>\n",
       "      <td>0.018282</td>\n",
       "      <td>1.000000</td>\n",
       "      <td>-0.018422</td>\n",
       "      <td>0.018599</td>\n",
       "    </tr>\n",
       "    <tr>\n",
       "      <th>Units</th>\n",
       "      <td>0.005462</td>\n",
       "      <td>0.011295</td>\n",
       "      <td>-0.018422</td>\n",
       "      <td>1.000000</td>\n",
       "      <td>0.069369</td>\n",
       "    </tr>\n",
       "    <tr>\n",
       "      <th>Stock_On_Hand</th>\n",
       "      <td>0.010554</td>\n",
       "      <td>0.084071</td>\n",
       "      <td>0.018599</td>\n",
       "      <td>0.069369</td>\n",
       "      <td>1.000000</td>\n",
       "    </tr>\n",
       "  </tbody>\n",
       "</table>\n",
       "</div>"
      ],
      "text/plain": [
       "                Sale_ID  Store_ID  Product_ID     Units  Stock_On_Hand\n",
       "Sale_ID        1.000000  0.004574    0.041613  0.005462       0.010554\n",
       "Store_ID       0.004574  1.000000    0.018282  0.011295       0.084071\n",
       "Product_ID     0.041613  0.018282    1.000000 -0.018422       0.018599\n",
       "Units          0.005462  0.011295   -0.018422  1.000000       0.069369\n",
       "Stock_On_Hand  0.010554  0.084071    0.018599  0.069369       1.000000"
      ]
     },
     "execution_count": 41,
     "metadata": {},
     "output_type": "execute_result"
    }
   ],
   "source": [
    "df.corr()"
   ]
  },
  {
   "cell_type": "code",
   "execution_count": null,
   "id": "557c4345",
   "metadata": {},
   "outputs": [],
   "source": []
  },
  {
   "cell_type": "code",
   "execution_count": null,
   "id": "400530ba",
   "metadata": {},
   "outputs": [],
   "source": []
  }
 ],
 "metadata": {
  "kernelspec": {
   "display_name": "Python 3",
   "language": "python",
   "name": "python3"
  },
  "language_info": {
   "codemirror_mode": {
    "name": "ipython",
    "version": 3
   },
   "file_extension": ".py",
   "mimetype": "text/x-python",
   "name": "python",
   "nbconvert_exporter": "python",
   "pygments_lexer": "ipython3",
   "version": "3.8.8"
  }
 },
 "nbformat": 4,
 "nbformat_minor": 5
}
