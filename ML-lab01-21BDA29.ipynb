{
 "cells": [
  {
   "cell_type": "markdown",
   "id": "829622fa",
   "metadata": {},
   "source": [
    "# ML1 LAB01 16.04.2022\n",
    "\n",
    "Solomon Lamkhothang"
   ]
  },
  {
   "cell_type": "markdown",
   "id": "7c7e9829",
   "metadata": {},
   "source": [
    "Python datatypes and structures"
   ]
  },
  {
   "cell_type": "markdown",
   "id": "1d921dc7",
   "metadata": {},
   "source": [
    "Logical: bool\n",
    "\n",
    "Numeric: int, float, complex\n",
    "\n",
    "Sequence: list, tuple, range\n",
    "\n",
    "Text Sequence: str\n",
    "\n",
    "Map: dict\n",
    "\n",
    "Set: set"
   ]
  },
  {
   "cell_type": "code",
   "execution_count": 5,
   "id": "78bfb068",
   "metadata": {},
   "outputs": [
    {
     "name": "stdout",
     "output_type": "stream",
     "text": [
      "5 is of type <class 'int'>\n",
      "2.0 is of type <class 'float'>\n",
      "(1+2j) is complex number? True\n"
     ]
    }
   ],
   "source": [
    "a = 5\n",
    "print(a, \"is of type\", type(a))\n",
    "\n",
    "a = 2.0\n",
    "print(a, \"is of type\", type(a))\n",
    "\n",
    "a = 1+2j\n",
    "print(a, \"is complex number?\", isinstance(1+2j,complex))"
   ]
  },
  {
   "cell_type": "code",
   "execution_count": 6,
   "id": "59d927e5",
   "metadata": {},
   "outputs": [
    {
     "data": {
      "text/plain": [
       "str"
      ]
     },
     "execution_count": 6,
     "metadata": {},
     "output_type": "execute_result"
    }
   ],
   "source": [
    "type(\"wowkkjkj\")"
   ]
  },
  {
   "cell_type": "code",
   "execution_count": 7,
   "id": "3752bee0",
   "metadata": {},
   "outputs": [
    {
     "data": {
      "text/plain": [
       "list"
      ]
     },
     "execution_count": 7,
     "metadata": {},
     "output_type": "execute_result"
    }
   ],
   "source": [
    "a = [1, 2.2, 'lalal']\n",
    "type(a)"
   ]
  },
  {
   "cell_type": "code",
   "execution_count": 8,
   "id": "a845bbab",
   "metadata": {},
   "outputs": [],
   "source": [
    "b=()"
   ]
  },
  {
   "cell_type": "code",
   "execution_count": 9,
   "id": "23c5fe0f",
   "metadata": {},
   "outputs": [
    {
     "name": "stdout",
     "output_type": "stream",
     "text": [
      "a =  {1, 2, 3, 4, 5}\n",
      "<class 'set'>\n"
     ]
    }
   ],
   "source": [
    "a = {5,2,3,1,4}\n",
    "\n",
    "# printing set variable\n",
    "print(\"a = \", a)\n",
    "\n",
    "# data type of variable a\n",
    "print(type(a))"
   ]
  },
  {
   "cell_type": "code",
   "execution_count": 11,
   "id": "fec84082",
   "metadata": {},
   "outputs": [
    {
     "data": {
      "text/plain": [
       "dict"
      ]
     },
     "execution_count": 11,
     "metadata": {},
     "output_type": "execute_result"
    }
   ],
   "source": [
    "d = {1:'bro bro','baba':2}\n",
    "type(d)"
   ]
  },
  {
   "cell_type": "markdown",
   "id": "fad1bba5",
   "metadata": {},
   "source": [
    "Operators and indexing"
   ]
  },
  {
   "cell_type": "code",
   "execution_count": 12,
   "id": "c8f592b7",
   "metadata": {},
   "outputs": [
    {
     "name": "stdout",
     "output_type": "stream",
     "text": [
      "x[2] =  8\n",
      "x[0:3] =  [2, 5, 8]\n",
      "x[5:] =  [3, 10, 22]\n"
     ]
    }
   ],
   "source": [
    "x = [2,5,8,6,9,3,10,22]\n",
    "\n",
    "# a[2] = 8\n",
    "print(\"x[2] = \", x[2])\n",
    "\n",
    "# a[0:3] = [2, 5, 8]\n",
    "print(\"x[0:3] = \", x[0:3])\n",
    "\n",
    "# a[5:] = [3, 10, 22]\n",
    "print(\"x[5:] = \", x[5:])"
   ]
  },
  {
   "cell_type": "code",
   "execution_count": 13,
   "id": "ba81ffae",
   "metadata": {},
   "outputs": [
    {
     "data": {
      "text/plain": [
       "10"
      ]
     },
     "execution_count": 13,
     "metadata": {},
     "output_type": "execute_result"
    }
   ],
   "source": [
    "x[0]+x[2]"
   ]
  },
  {
   "cell_type": "code",
   "execution_count": 15,
   "id": "95bbb0f8",
   "metadata": {},
   "outputs": [
    {
     "data": {
      "text/plain": [
       "'lamlahon'"
      ]
     },
     "execution_count": 15,
     "metadata": {},
     "output_type": "execute_result"
    }
   ],
   "source": [
    "b = [\"lam\"]\n",
    "c = [\"lahon\"]\n",
    "b[0] + c[0] #list concatenation"
   ]
  },
  {
   "cell_type": "code",
   "execution_count": 16,
   "id": "69805b03",
   "metadata": {},
   "outputs": [
    {
     "name": "stdout",
     "output_type": "stream",
     "text": [
      "t[1] =  bolavol\n",
      "t[0:3] =  (25, 'bolavol', (5+3j))\n"
     ]
    }
   ],
   "source": [
    "t = (25,'bolavol', 5+3j)\n",
    "\n",
    "# t[1] = 'bolavol'\n",
    "print(\"t[1] = \", t[1])\n",
    "\n",
    "# t[0:3] = (25, 'bolavol', (5+3j))\n",
    "print(\"t[0:3] = \", t[0:3])"
   ]
  },
  {
   "cell_type": "markdown",
   "id": "cb2c92a8",
   "metadata": {},
   "source": [
    "looping and iteration"
   ]
  },
  {
   "cell_type": "code",
   "execution_count": 17,
   "id": "f9251d2c",
   "metadata": {},
   "outputs": [
    {
     "name": "stdout",
     "output_type": "stream",
     "text": [
      "58\n",
      "65\n",
      "32\n",
      "89\n",
      "54\n",
      "21\n",
      "78\n",
      "10\n",
      "The sum is 407\n",
      "The difference  is -399\n"
     ]
    }
   ],
   "source": [
    "# Program to find the sum of all numbers stored in a list\n",
    "\n",
    "# List of numbers\n",
    "numbers = [58,65,32,89,54,21,78,10]\n",
    "\n",
    "# variable to store the sum\n",
    "sum = 0\n",
    "sub=0\n",
    "# iterate over the list\n",
    "for val in numbers:\n",
    "    print(val)\n",
    "    sum = sum+val\n",
    "    sub=sub-val+1\n",
    "\n",
    "print(\"The sum is\", sum)\n",
    "print(\"The difference  is\",sub)"
   ]
  },
  {
   "cell_type": "code",
   "execution_count": 28,
   "id": "8f5f4df9",
   "metadata": {},
   "outputs": [
    {
     "name": "stdout",
     "output_type": "stream",
     "text": [
      "range(0, 100)\n"
     ]
    }
   ],
   "source": [
    "print(range(100))"
   ]
  },
  {
   "cell_type": "code",
   "execution_count": 18,
   "id": "47715f9c",
   "metadata": {},
   "outputs": [
    {
     "name": "stdout",
     "output_type": "stream",
     "text": [
      "[0, 1, 2, 3, 4, 5, 6, 7, 8, 9, 10, 11, 12, 13, 14, 15, 16, 17, 18, 19, 20, 21, 22, 23, 24, 25, 26, 27, 28, 29, 30, 31, 32, 33, 34, 35, 36, 37, 38, 39, 40, 41, 42, 43, 44, 45, 46, 47, 48, 49, 50, 51, 52, 53]\n"
     ]
    }
   ],
   "source": [
    "print(list(range(54)))"
   ]
  },
  {
   "cell_type": "code",
   "execution_count": 19,
   "id": "7d46898b",
   "metadata": {},
   "outputs": [
    {
     "name": "stdout",
     "output_type": "stream",
     "text": [
      "The sum is 55\n"
     ]
    }
   ],
   "source": [
    "# Program to add natural\n",
    "# numbers up to \n",
    "# sum = 1+2+3+...+n\n",
    "\n",
    "# To take input from the user,\n",
    "# n = int(input(\"Enter n: \"))\n",
    "\n",
    "n = 10\n",
    "\n",
    "# initialize sum and counter\n",
    "sum = 0\n",
    "i = 1\n",
    "\n",
    "while i <= n:\n",
    "    sum = sum + i\n",
    "    i = i+1    # update counter\n",
    "\n",
    "# print the sum\n",
    "print(\"The sum is\", sum)"
   ]
  },
  {
   "cell_type": "markdown",
   "id": "e2cdc614",
   "metadata": {},
   "source": [
    "if-else "
   ]
  },
  {
   "cell_type": "code",
   "execution_count": 20,
   "id": "59efa31a",
   "metadata": {},
   "outputs": [
    {
     "name": "stdout",
     "output_type": "stream",
     "text": [
      "enter the number45\n",
      "odd number\n"
     ]
    }
   ],
   "source": [
    "n=int(input(\"enter the number\"))\n",
    "if (n%2==0):\n",
    "    print(\"even number\")\n",
    "else:\n",
    "    print(\"odd number\")\n"
   ]
  },
  {
   "cell_type": "markdown",
   "id": "d9f6e501",
   "metadata": {},
   "source": [
    "function call"
   ]
  },
  {
   "cell_type": "code",
   "execution_count": 21,
   "id": "a8e4847d",
   "metadata": {},
   "outputs": [
    {
     "name": "stdout",
     "output_type": "stream",
     "text": [
      "addition 16\n",
      "subtraction 8\n",
      "division 3.0\n",
      "multiplication 48\n"
     ]
    }
   ],
   "source": [
    "#functions\n",
    "class cal:\n",
    "    def __init__(self,x,y):\n",
    "        self.x=x\n",
    "        self.y=y\n",
    "    def add(self):\n",
    "        add1=self.x+self.y\n",
    "        print(\"addition\",add1)\n",
    "    def sub(self):\n",
    "        sub1=self.x-self.y\n",
    "        print(\"subtraction\",sub1)\n",
    "    def div(self):\n",
    "        divi=self.x/self.y\n",
    "        print(\"division\",divi)\n",
    "    def mult(self):\n",
    "        multi=self.x*self.y\n",
    "        print(\"multiplication\",multi)\n",
    "a=cal(12,4)\n",
    "a.add()\n",
    "a.sub()\n",
    "a.div()\n",
    "a.mult()\n"
   ]
  },
  {
   "cell_type": "markdown",
   "id": "5f5d9976",
   "metadata": {},
   "source": [
    "slicing "
   ]
  },
  {
   "cell_type": "code",
   "execution_count": 22,
   "id": "ee90eb9b",
   "metadata": {},
   "outputs": [],
   "source": [
    "#calling dataset\n",
    "import numpy as np\n",
    "import pandas as pd\n"
   ]
  },
  {
   "cell_type": "code",
   "execution_count": 23,
   "id": "e7bc0a27",
   "metadata": {},
   "outputs": [
    {
     "data": {
      "text/plain": [
       "array([ 1,  2,  3,  6,  8,  9, 20])"
      ]
     },
     "execution_count": 23,
     "metadata": {},
     "output_type": "execute_result"
    }
   ],
   "source": [
    "a = np.array([1, 2, 3,6,8,9,20])\n",
    "a"
   ]
  },
  {
   "cell_type": "code",
   "execution_count": 24,
   "id": "d2660c88",
   "metadata": {},
   "outputs": [
    {
     "data": {
      "text/plain": [
       "array([20,  9,  8,  6,  3,  2,  1])"
      ]
     },
     "execution_count": 24,
     "metadata": {},
     "output_type": "execute_result"
    }
   ],
   "source": [
    "a[::-1]"
   ]
  },
  {
   "cell_type": "code",
   "execution_count": 25,
   "id": "f0fd1638",
   "metadata": {},
   "outputs": [
    {
     "data": {
      "text/plain": [
       "array([ 1,  3,  8, 20])"
      ]
     },
     "execution_count": 25,
     "metadata": {},
     "output_type": "execute_result"
    }
   ],
   "source": [
    "a[::2]"
   ]
  },
  {
   "cell_type": "code",
   "execution_count": 26,
   "id": "b742ef87",
   "metadata": {},
   "outputs": [
    {
     "data": {
      "text/plain": [
       "array([ 1,  2,  3,  6,  8,  9, 20])"
      ]
     },
     "execution_count": 26,
     "metadata": {},
     "output_type": "execute_result"
    }
   ],
   "source": [
    "a[:]"
   ]
  },
  {
   "cell_type": "code",
   "execution_count": 27,
   "id": "e824a35f",
   "metadata": {},
   "outputs": [
    {
     "data": {
      "text/plain": [
       "array([ 3,  6,  8,  9, 20])"
      ]
     },
     "execution_count": 27,
     "metadata": {},
     "output_type": "execute_result"
    }
   ],
   "source": [
    "a[2::]"
   ]
  },
  {
   "cell_type": "code",
   "execution_count": 29,
   "id": "3823eb81",
   "metadata": {},
   "outputs": [],
   "source": [
    "people_dict = { \"weight\": pd.Series([68, 83, 112],index=[\"soham\", \"giri\", \"boyo\"]),   \"birthyear\": pd.Series([1994, 1999, 2000], index=[\"kim\", \"jungkook\", \"charles\"], name=\"year\"),\n",
    "\"children\": pd.Series([0, 3], index=[\"charles\", \"kim\"]),\n",
    "\"hobby\": pd.Series([\"skiing\", \"painting\"], index=[\"soham\", \"giri\"]),}"
   ]
  },
  {
   "cell_type": "code",
   "execution_count": 30,
   "id": "ed6b8c2e",
   "metadata": {},
   "outputs": [
    {
     "data": {
      "text/html": [
       "<div>\n",
       "<style scoped>\n",
       "    .dataframe tbody tr th:only-of-type {\n",
       "        vertical-align: middle;\n",
       "    }\n",
       "\n",
       "    .dataframe tbody tr th {\n",
       "        vertical-align: top;\n",
       "    }\n",
       "\n",
       "    .dataframe thead th {\n",
       "        text-align: right;\n",
       "    }\n",
       "</style>\n",
       "<table border=\"1\" class=\"dataframe\">\n",
       "  <thead>\n",
       "    <tr style=\"text-align: right;\">\n",
       "      <th></th>\n",
       "      <th>weight</th>\n",
       "      <th>birthyear</th>\n",
       "      <th>children</th>\n",
       "      <th>hobby</th>\n",
       "    </tr>\n",
       "  </thead>\n",
       "  <tbody>\n",
       "    <tr>\n",
       "      <th>boyo</th>\n",
       "      <td>112.0</td>\n",
       "      <td>NaN</td>\n",
       "      <td>NaN</td>\n",
       "      <td>NaN</td>\n",
       "    </tr>\n",
       "    <tr>\n",
       "      <th>charles</th>\n",
       "      <td>NaN</td>\n",
       "      <td>2000.0</td>\n",
       "      <td>0.0</td>\n",
       "      <td>NaN</td>\n",
       "    </tr>\n",
       "    <tr>\n",
       "      <th>giri</th>\n",
       "      <td>83.0</td>\n",
       "      <td>NaN</td>\n",
       "      <td>NaN</td>\n",
       "      <td>painting</td>\n",
       "    </tr>\n",
       "    <tr>\n",
       "      <th>jungkook</th>\n",
       "      <td>NaN</td>\n",
       "      <td>1999.0</td>\n",
       "      <td>NaN</td>\n",
       "      <td>NaN</td>\n",
       "    </tr>\n",
       "    <tr>\n",
       "      <th>kim</th>\n",
       "      <td>NaN</td>\n",
       "      <td>1994.0</td>\n",
       "      <td>3.0</td>\n",
       "      <td>NaN</td>\n",
       "    </tr>\n",
       "    <tr>\n",
       "      <th>soham</th>\n",
       "      <td>68.0</td>\n",
       "      <td>NaN</td>\n",
       "      <td>NaN</td>\n",
       "      <td>skiing</td>\n",
       "    </tr>\n",
       "  </tbody>\n",
       "</table>\n",
       "</div>"
      ],
      "text/plain": [
       "          weight  birthyear  children     hobby\n",
       "boyo       112.0        NaN       NaN       NaN\n",
       "charles      NaN     2000.0       0.0       NaN\n",
       "giri        83.0        NaN       NaN  painting\n",
       "jungkook     NaN     1999.0       NaN       NaN\n",
       "kim          NaN     1994.0       3.0       NaN\n",
       "soham       68.0        NaN       NaN    skiing"
      ]
     },
     "execution_count": 30,
     "metadata": {},
     "output_type": "execute_result"
    }
   ],
   "source": [
    "people = pd.DataFrame(people_dict)\n",
    "people"
   ]
  },
  {
   "cell_type": "code",
   "execution_count": 31,
   "id": "b87b95da",
   "metadata": {},
   "outputs": [
    {
     "data": {
      "text/html": [
       "<div>\n",
       "<style scoped>\n",
       "    .dataframe tbody tr th:only-of-type {\n",
       "        vertical-align: middle;\n",
       "    }\n",
       "\n",
       "    .dataframe tbody tr th {\n",
       "        vertical-align: top;\n",
       "    }\n",
       "\n",
       "    .dataframe thead th {\n",
       "        text-align: right;\n",
       "    }\n",
       "</style>\n",
       "<table border=\"1\" class=\"dataframe\">\n",
       "  <thead>\n",
       "    <tr style=\"text-align: right;\">\n",
       "      <th></th>\n",
       "      <th>weight</th>\n",
       "      <th>birthyear</th>\n",
       "      <th>children</th>\n",
       "    </tr>\n",
       "  </thead>\n",
       "  <tbody>\n",
       "    <tr>\n",
       "      <th>count</th>\n",
       "      <td>3.000000</td>\n",
       "      <td>3.000000</td>\n",
       "      <td>2.00000</td>\n",
       "    </tr>\n",
       "    <tr>\n",
       "      <th>mean</th>\n",
       "      <td>87.666667</td>\n",
       "      <td>1997.666667</td>\n",
       "      <td>1.50000</td>\n",
       "    </tr>\n",
       "    <tr>\n",
       "      <th>std</th>\n",
       "      <td>22.368132</td>\n",
       "      <td>3.214550</td>\n",
       "      <td>2.12132</td>\n",
       "    </tr>\n",
       "    <tr>\n",
       "      <th>min</th>\n",
       "      <td>68.000000</td>\n",
       "      <td>1994.000000</td>\n",
       "      <td>0.00000</td>\n",
       "    </tr>\n",
       "    <tr>\n",
       "      <th>25%</th>\n",
       "      <td>75.500000</td>\n",
       "      <td>1996.500000</td>\n",
       "      <td>0.75000</td>\n",
       "    </tr>\n",
       "    <tr>\n",
       "      <th>50%</th>\n",
       "      <td>83.000000</td>\n",
       "      <td>1999.000000</td>\n",
       "      <td>1.50000</td>\n",
       "    </tr>\n",
       "    <tr>\n",
       "      <th>75%</th>\n",
       "      <td>97.500000</td>\n",
       "      <td>1999.500000</td>\n",
       "      <td>2.25000</td>\n",
       "    </tr>\n",
       "    <tr>\n",
       "      <th>max</th>\n",
       "      <td>112.000000</td>\n",
       "      <td>2000.000000</td>\n",
       "      <td>3.00000</td>\n",
       "    </tr>\n",
       "  </tbody>\n",
       "</table>\n",
       "</div>"
      ],
      "text/plain": [
       "           weight    birthyear  children\n",
       "count    3.000000     3.000000   2.00000\n",
       "mean    87.666667  1997.666667   1.50000\n",
       "std     22.368132     3.214550   2.12132\n",
       "min     68.000000  1994.000000   0.00000\n",
       "25%     75.500000  1996.500000   0.75000\n",
       "50%     83.000000  1999.000000   1.50000\n",
       "75%     97.500000  1999.500000   2.25000\n",
       "max    112.000000  2000.000000   3.00000"
      ]
     },
     "execution_count": 31,
     "metadata": {},
     "output_type": "execute_result"
    }
   ],
   "source": [
    "people.describe()"
   ]
  },
  {
   "cell_type": "code",
   "execution_count": 32,
   "id": "56c7c5d4",
   "metadata": {},
   "outputs": [
    {
     "data": {
      "text/html": [
       "<div>\n",
       "<style scoped>\n",
       "    .dataframe tbody tr th:only-of-type {\n",
       "        vertical-align: middle;\n",
       "    }\n",
       "\n",
       "    .dataframe tbody tr th {\n",
       "        vertical-align: top;\n",
       "    }\n",
       "\n",
       "    .dataframe thead th {\n",
       "        text-align: right;\n",
       "    }\n",
       "</style>\n",
       "<table border=\"1\" class=\"dataframe\">\n",
       "  <thead>\n",
       "    <tr style=\"text-align: right;\">\n",
       "      <th></th>\n",
       "      <th>weight</th>\n",
       "      <th>birthyear</th>\n",
       "      <th>children</th>\n",
       "    </tr>\n",
       "  </thead>\n",
       "  <tbody>\n",
       "    <tr>\n",
       "      <th>weight</th>\n",
       "      <td>1.0</td>\n",
       "      <td>NaN</td>\n",
       "      <td>NaN</td>\n",
       "    </tr>\n",
       "    <tr>\n",
       "      <th>birthyear</th>\n",
       "      <td>NaN</td>\n",
       "      <td>1.0</td>\n",
       "      <td>-1.0</td>\n",
       "    </tr>\n",
       "    <tr>\n",
       "      <th>children</th>\n",
       "      <td>NaN</td>\n",
       "      <td>-1.0</td>\n",
       "      <td>1.0</td>\n",
       "    </tr>\n",
       "  </tbody>\n",
       "</table>\n",
       "</div>"
      ],
      "text/plain": [
       "           weight  birthyear  children\n",
       "weight        1.0        NaN       NaN\n",
       "birthyear     NaN        1.0      -1.0\n",
       "children      NaN       -1.0       1.0"
      ]
     },
     "execution_count": 32,
     "metadata": {},
     "output_type": "execute_result"
    }
   ],
   "source": [
    "people.corr()"
   ]
  },
  {
   "cell_type": "code",
   "execution_count": null,
   "id": "7b6d3808",
   "metadata": {},
   "outputs": [],
   "source": []
  },
  {
   "cell_type": "markdown",
   "id": "fa8a657d",
   "metadata": {},
   "source": [
    "python for data science"
   ]
  },
  {
   "cell_type": "code",
   "execution_count": 34,
   "id": "f3709af0",
   "metadata": {},
   "outputs": [],
   "source": [
    "data=pd.read_csv( r\"/Users/Lamkhothang/Downloads/archive/city_level_codebook_0.csv\")"
   ]
  },
  {
   "cell_type": "code",
   "execution_count": 45,
   "id": "d9b25bb6",
   "metadata": {},
   "outputs": [
    {
     "data": {
      "text/html": [
       "<div>\n",
       "<style scoped>\n",
       "    .dataframe tbody tr th:only-of-type {\n",
       "        vertical-align: middle;\n",
       "    }\n",
       "\n",
       "    .dataframe tbody tr th {\n",
       "        vertical-align: top;\n",
       "    }\n",
       "\n",
       "    .dataframe thead th {\n",
       "        text-align: right;\n",
       "    }\n",
       "</style>\n",
       "<table border=\"1\" class=\"dataframe\">\n",
       "  <thead>\n",
       "    <tr style=\"text-align: right;\">\n",
       "      <th></th>\n",
       "      <th>25</th>\n",
       "      <th>Private</th>\n",
       "      <th>226802</th>\n",
       "      <th>11th</th>\n",
       "      <th>7</th>\n",
       "      <th>Never-married</th>\n",
       "      <th>Machine-op-inspct</th>\n",
       "      <th>Own-child</th>\n",
       "      <th>Black</th>\n",
       "      <th>Male</th>\n",
       "      <th>0</th>\n",
       "      <th>0.1</th>\n",
       "      <th>40</th>\n",
       "      <th>United-States</th>\n",
       "      <th>&lt;=50K.</th>\n",
       "    </tr>\n",
       "  </thead>\n",
       "  <tbody>\n",
       "    <tr>\n",
       "      <th>0</th>\n",
       "      <td>38</td>\n",
       "      <td>Private</td>\n",
       "      <td>89814</td>\n",
       "      <td>HS-grad</td>\n",
       "      <td>9</td>\n",
       "      <td>Married-civ-spouse</td>\n",
       "      <td>Farming-fishing</td>\n",
       "      <td>Husband</td>\n",
       "      <td>White</td>\n",
       "      <td>Male</td>\n",
       "      <td>0</td>\n",
       "      <td>0</td>\n",
       "      <td>50</td>\n",
       "      <td>United-States</td>\n",
       "      <td>&lt;=50K.</td>\n",
       "    </tr>\n",
       "    <tr>\n",
       "      <th>1</th>\n",
       "      <td>28</td>\n",
       "      <td>Local-gov</td>\n",
       "      <td>336951</td>\n",
       "      <td>Assoc-acdm</td>\n",
       "      <td>12</td>\n",
       "      <td>Married-civ-spouse</td>\n",
       "      <td>Protective-serv</td>\n",
       "      <td>Husband</td>\n",
       "      <td>White</td>\n",
       "      <td>Male</td>\n",
       "      <td>0</td>\n",
       "      <td>0</td>\n",
       "      <td>40</td>\n",
       "      <td>United-States</td>\n",
       "      <td>&gt;50K.</td>\n",
       "    </tr>\n",
       "    <tr>\n",
       "      <th>2</th>\n",
       "      <td>44</td>\n",
       "      <td>Private</td>\n",
       "      <td>160323</td>\n",
       "      <td>Some-college</td>\n",
       "      <td>10</td>\n",
       "      <td>Married-civ-spouse</td>\n",
       "      <td>Machine-op-inspct</td>\n",
       "      <td>Husband</td>\n",
       "      <td>Black</td>\n",
       "      <td>Male</td>\n",
       "      <td>7688</td>\n",
       "      <td>0</td>\n",
       "      <td>40</td>\n",
       "      <td>United-States</td>\n",
       "      <td>&gt;50K.</td>\n",
       "    </tr>\n",
       "    <tr>\n",
       "      <th>3</th>\n",
       "      <td>18</td>\n",
       "      <td>?</td>\n",
       "      <td>103497</td>\n",
       "      <td>Some-college</td>\n",
       "      <td>10</td>\n",
       "      <td>Never-married</td>\n",
       "      <td>?</td>\n",
       "      <td>Own-child</td>\n",
       "      <td>White</td>\n",
       "      <td>Female</td>\n",
       "      <td>0</td>\n",
       "      <td>0</td>\n",
       "      <td>30</td>\n",
       "      <td>United-States</td>\n",
       "      <td>&lt;=50K.</td>\n",
       "    </tr>\n",
       "    <tr>\n",
       "      <th>4</th>\n",
       "      <td>34</td>\n",
       "      <td>Private</td>\n",
       "      <td>198693</td>\n",
       "      <td>10th</td>\n",
       "      <td>6</td>\n",
       "      <td>Never-married</td>\n",
       "      <td>Other-service</td>\n",
       "      <td>Not-in-family</td>\n",
       "      <td>White</td>\n",
       "      <td>Male</td>\n",
       "      <td>0</td>\n",
       "      <td>0</td>\n",
       "      <td>30</td>\n",
       "      <td>United-States</td>\n",
       "      <td>&lt;=50K.</td>\n",
       "    </tr>\n",
       "  </tbody>\n",
       "</table>\n",
       "</div>"
      ],
      "text/plain": [
       "   25     Private   226802           11th   7        Never-married  \\\n",
       "0  38     Private    89814        HS-grad   9   Married-civ-spouse   \n",
       "1  28   Local-gov   336951     Assoc-acdm  12   Married-civ-spouse   \n",
       "2  44     Private   160323   Some-college  10   Married-civ-spouse   \n",
       "3  18           ?   103497   Some-college  10        Never-married   \n",
       "4  34     Private   198693           10th   6        Never-married   \n",
       "\n",
       "    Machine-op-inspct       Own-child   Black     Male     0   0.1   40  \\\n",
       "0     Farming-fishing         Husband   White     Male     0     0   50   \n",
       "1     Protective-serv         Husband   White     Male     0     0   40   \n",
       "2   Machine-op-inspct         Husband   Black     Male  7688     0   40   \n",
       "3                   ?       Own-child   White   Female     0     0   30   \n",
       "4       Other-service   Not-in-family   White     Male     0     0   30   \n",
       "\n",
       "    United-States   <=50K.  \n",
       "0   United-States   <=50K.  \n",
       "1   United-States    >50K.  \n",
       "2   United-States    >50K.  \n",
       "3   United-States   <=50K.  \n",
       "4   United-States   <=50K.  "
      ]
     },
     "execution_count": 45,
     "metadata": {},
     "output_type": "execute_result"
    }
   ],
   "source": [
    "data.head()"
   ]
  },
  {
   "cell_type": "code",
   "execution_count": 35,
   "id": "a0884c2a",
   "metadata": {},
   "outputs": [
    {
     "data": {
      "text/html": [
       "<div>\n",
       "<style scoped>\n",
       "    .dataframe tbody tr th:only-of-type {\n",
       "        vertical-align: middle;\n",
       "    }\n",
       "\n",
       "    .dataframe tbody tr th {\n",
       "        vertical-align: top;\n",
       "    }\n",
       "\n",
       "    .dataframe thead th {\n",
       "        text-align: right;\n",
       "    }\n",
       "</style>\n",
       "<table border=\"1\" class=\"dataframe\">\n",
       "  <thead>\n",
       "    <tr style=\"text-align: right;\">\n",
       "      <th></th>\n",
       "      <th>regionID</th>\n",
       "      <th>iso3c</th>\n",
       "      <th>country_name</th>\n",
       "      <th>city_name</th>\n",
       "      <th>incomeID</th>\n",
       "      <th>measurement</th>\n",
       "      <th>units</th>\n",
       "      <th>year</th>\n",
       "      <th>source</th>\n",
       "      <th>comments</th>\n",
       "    </tr>\n",
       "  </thead>\n",
       "  <tbody>\n",
       "    <tr>\n",
       "      <th>679</th>\n",
       "      <td>SSF</td>\n",
       "      <td>ZWE</td>\n",
       "      <td>Zimbabwe</td>\n",
       "      <td>Gweru</td>\n",
       "      <td>LIC</td>\n",
       "      <td>total_msw_total_msw_generated_tons_year</td>\n",
       "      <td>tonnes/year</td>\n",
       "      <td>2014.0</td>\n",
       "      <td>GIZ (Deutsche Gesellschaft für Internationale ...</td>\n",
       "      <td>1 (0.24 kg/person/day)</td>\n",
       "    </tr>\n",
       "    <tr>\n",
       "      <th>680</th>\n",
       "      <td>SSF</td>\n",
       "      <td>ZWE</td>\n",
       "      <td>Zimbabwe</td>\n",
       "      <td>Harare</td>\n",
       "      <td>LIC</td>\n",
       "      <td>total_msw_total_msw_generated_tons_year</td>\n",
       "      <td>tonnes/year</td>\n",
       "      <td>2000.0</td>\n",
       "      <td>Achankeng, Eric. 2003. \"Globalization, Urbaniz...</td>\n",
       "      <td>1 (0.7 kg/person/day)</td>\n",
       "    </tr>\n",
       "    <tr>\n",
       "      <th>681</th>\n",
       "      <td>ECS</td>\n",
       "      <td>RUS</td>\n",
       "      <td>Russian Federation</td>\n",
       "      <td>Kemerovo</td>\n",
       "      <td>UMC</td>\n",
       "      <td>total_msw_total_msw_generated_tons_year</td>\n",
       "      <td>tonnes/year</td>\n",
       "      <td>2016.0</td>\n",
       "      <td>Evgenievna, Bannikova Anastasia. 2017. \"Develo...</td>\n",
       "      <td>NaN</td>\n",
       "    </tr>\n",
       "    <tr>\n",
       "      <th>682</th>\n",
       "      <td>SSF</td>\n",
       "      <td>ZWE</td>\n",
       "      <td>Zimbabwe</td>\n",
       "      <td>Chinhoyi</td>\n",
       "      <td>LIC</td>\n",
       "      <td>total_msw_total_msw_generated_tons_year</td>\n",
       "      <td>tonnes/year</td>\n",
       "      <td>2012.0</td>\n",
       "      <td>GIZ (Deutsche Gesellschaft für Internationale ...</td>\n",
       "      <td>1 (0.26 kg/person/day)</td>\n",
       "    </tr>\n",
       "    <tr>\n",
       "      <th>683</th>\n",
       "      <td>SSF</td>\n",
       "      <td>ZWE</td>\n",
       "      <td>Zimbabwe</td>\n",
       "      <td>Kariba</td>\n",
       "      <td>LIC</td>\n",
       "      <td>total_msw_total_msw_generated_tons_year</td>\n",
       "      <td>tonnes/year</td>\n",
       "      <td>2012.0</td>\n",
       "      <td>GIZ (Deutsche Gesellschaft für Internationale ...</td>\n",
       "      <td>1 (0.28 kg/person/day)</td>\n",
       "    </tr>\n",
       "  </tbody>\n",
       "</table>\n",
       "</div>"
      ],
      "text/plain": [
       "    regionID iso3c        country_name city_name incomeID  \\\n",
       "679      SSF   ZWE            Zimbabwe     Gweru      LIC   \n",
       "680      SSF   ZWE            Zimbabwe   Harare       LIC   \n",
       "681      ECS   RUS  Russian Federation  Kemerovo      UMC   \n",
       "682      SSF   ZWE            Zimbabwe  Chinhoyi      LIC   \n",
       "683      SSF   ZWE            Zimbabwe    Kariba      LIC   \n",
       "\n",
       "                                 measurement        units    year  \\\n",
       "679  total_msw_total_msw_generated_tons_year  tonnes/year  2014.0   \n",
       "680  total_msw_total_msw_generated_tons_year  tonnes/year  2000.0   \n",
       "681  total_msw_total_msw_generated_tons_year  tonnes/year  2016.0   \n",
       "682  total_msw_total_msw_generated_tons_year  tonnes/year  2012.0   \n",
       "683  total_msw_total_msw_generated_tons_year  tonnes/year  2012.0   \n",
       "\n",
       "                                                source                comments  \n",
       "679  GIZ (Deutsche Gesellschaft für Internationale ...  1 (0.24 kg/person/day)  \n",
       "680  Achankeng, Eric. 2003. \"Globalization, Urbaniz...   1 (0.7 kg/person/day)  \n",
       "681  Evgenievna, Bannikova Anastasia. 2017. \"Develo...                     NaN  \n",
       "682  GIZ (Deutsche Gesellschaft für Internationale ...  1 (0.26 kg/person/day)  \n",
       "683  GIZ (Deutsche Gesellschaft für Internationale ...  1 (0.28 kg/person/day)  "
      ]
     },
     "execution_count": 35,
     "metadata": {},
     "output_type": "execute_result"
    }
   ],
   "source": [
    "data.tail()\n"
   ]
  },
  {
   "cell_type": "markdown",
   "id": "391441e6",
   "metadata": {},
   "source": [
    "missing value treatment"
   ]
  },
  {
   "cell_type": "code",
   "execution_count": 36,
   "id": "ec468fc4",
   "metadata": {},
   "outputs": [
    {
     "data": {
      "text/plain": [
       "regionID          0\n",
       "iso3c             0\n",
       "country_name      0\n",
       "city_name         0\n",
       "incomeID          0\n",
       "measurement       0\n",
       "units             0\n",
       "year              4\n",
       "source            2\n",
       "comments        457\n",
       "dtype: int64"
      ]
     },
     "execution_count": 36,
     "metadata": {},
     "output_type": "execute_result"
    }
   ],
   "source": [
    "data.isnull().sum()"
   ]
  },
  {
   "cell_type": "code",
   "execution_count": 37,
   "id": "a1ec86b7",
   "metadata": {},
   "outputs": [],
   "source": [
    "data1=pd.read_csv(r\"/Users/Lamkhothang/Downloads/archive/country_level_codebook.csv\")"
   ]
  },
  {
   "cell_type": "code",
   "execution_count": 38,
   "id": "890a8dd7",
   "metadata": {},
   "outputs": [
    {
     "data": {
      "text/plain": [
       "(684, 10)"
      ]
     },
     "execution_count": 38,
     "metadata": {},
     "output_type": "execute_result"
    }
   ],
   "source": [
    "data.shape"
   ]
  },
  {
   "cell_type": "code",
   "execution_count": 39,
   "id": "6d064e46",
   "metadata": {},
   "outputs": [
    {
     "data": {
      "text/plain": [
       "463"
      ]
     },
     "execution_count": 39,
     "metadata": {},
     "output_type": "execute_result"
    }
   ],
   "source": [
    "data.isnull().sum().sum() "
   ]
  },
  {
   "cell_type": "markdown",
   "id": "f2481f74",
   "metadata": {},
   "source": [
    "taking mean from dataset \"data\""
   ]
  },
  {
   "cell_type": "code",
   "execution_count": 40,
   "id": "09be9947",
   "metadata": {},
   "outputs": [
    {
     "data": {
      "text/html": [
       "<div>\n",
       "<style scoped>\n",
       "    .dataframe tbody tr th:only-of-type {\n",
       "        vertical-align: middle;\n",
       "    }\n",
       "\n",
       "    .dataframe tbody tr th {\n",
       "        vertical-align: top;\n",
       "    }\n",
       "\n",
       "    .dataframe thead th {\n",
       "        text-align: right;\n",
       "    }\n",
       "</style>\n",
       "<table border=\"1\" class=\"dataframe\">\n",
       "  <thead>\n",
       "    <tr style=\"text-align: right;\">\n",
       "      <th></th>\n",
       "      <th>year</th>\n",
       "    </tr>\n",
       "  </thead>\n",
       "  <tbody>\n",
       "    <tr>\n",
       "      <th>count</th>\n",
       "      <td>680.000000</td>\n",
       "    </tr>\n",
       "    <tr>\n",
       "      <th>mean</th>\n",
       "      <td>2012.929412</td>\n",
       "    </tr>\n",
       "    <tr>\n",
       "      <th>std</th>\n",
       "      <td>3.567694</td>\n",
       "    </tr>\n",
       "    <tr>\n",
       "      <th>min</th>\n",
       "      <td>1995.000000</td>\n",
       "    </tr>\n",
       "    <tr>\n",
       "      <th>25%</th>\n",
       "      <td>2011.000000</td>\n",
       "    </tr>\n",
       "    <tr>\n",
       "      <th>50%</th>\n",
       "      <td>2014.000000</td>\n",
       "    </tr>\n",
       "    <tr>\n",
       "      <th>75%</th>\n",
       "      <td>2015.000000</td>\n",
       "    </tr>\n",
       "    <tr>\n",
       "      <th>max</th>\n",
       "      <td>2018.000000</td>\n",
       "    </tr>\n",
       "  </tbody>\n",
       "</table>\n",
       "</div>"
      ],
      "text/plain": [
       "              year\n",
       "count   680.000000\n",
       "mean   2012.929412\n",
       "std       3.567694\n",
       "min    1995.000000\n",
       "25%    2011.000000\n",
       "50%    2014.000000\n",
       "75%    2015.000000\n",
       "max    2018.000000"
      ]
     },
     "execution_count": 40,
     "metadata": {},
     "output_type": "execute_result"
    }
   ],
   "source": [
    "data.describe()"
   ]
  },
  {
   "cell_type": "code",
   "execution_count": 41,
   "id": "b6d8675c",
   "metadata": {},
   "outputs": [
    {
     "name": "stdout",
     "output_type": "stream",
     "text": [
      "<class 'pandas.core.frame.DataFrame'>\n",
      "RangeIndex: 684 entries, 0 to 683\n",
      "Data columns (total 10 columns):\n",
      " #   Column        Non-Null Count  Dtype  \n",
      "---  ------        --------------  -----  \n",
      " 0   regionID      684 non-null    object \n",
      " 1   iso3c         684 non-null    object \n",
      " 2   country_name  684 non-null    object \n",
      " 3   city_name     684 non-null    object \n",
      " 4   incomeID      684 non-null    object \n",
      " 5   measurement   684 non-null    object \n",
      " 6   units         684 non-null    object \n",
      " 7   year          680 non-null    float64\n",
      " 8   source        682 non-null    object \n",
      " 9   comments      227 non-null    object \n",
      "dtypes: float64(1), object(9)\n",
      "memory usage: 53.6+ KB\n"
     ]
    }
   ],
   "source": [
    "data.info()"
   ]
  },
  {
   "cell_type": "code",
   "execution_count": 45,
   "id": "103b1e4f",
   "metadata": {},
   "outputs": [
    {
     "data": {
      "text/plain": [
       "2015.0    162\n",
       "2016.0    109\n",
       "2011.0     80\n",
       "2014.0     67\n",
       "2012.0     67\n",
       "2013.0     54\n",
       "2010.0     53\n",
       "2017.0     31\n",
       "2000.0     17\n",
       "2008.0      9\n",
       "2005.0      9\n",
       "2009.0      4\n",
       "2006.0      4\n",
       "2002.0      3\n",
       "2018.0      2\n",
       "2004.0      2\n",
       "2003.0      2\n",
       "2007.0      2\n",
       "1995.0      1\n",
       "1996.0      1\n",
       "1999.0      1\n",
       "Name: year, dtype: int64"
      ]
     },
     "execution_count": 45,
     "metadata": {},
     "output_type": "execute_result"
    }
   ],
   "source": [
    "data[\"year\"].value_counts()"
   ]
  },
  {
   "cell_type": "code",
   "execution_count": 46,
   "id": "949b6aee",
   "metadata": {},
   "outputs": [
    {
     "data": {
      "text/html": [
       "<div>\n",
       "<style scoped>\n",
       "    .dataframe tbody tr th:only-of-type {\n",
       "        vertical-align: middle;\n",
       "    }\n",
       "\n",
       "    .dataframe tbody tr th {\n",
       "        vertical-align: top;\n",
       "    }\n",
       "\n",
       "    .dataframe thead th {\n",
       "        text-align: right;\n",
       "    }\n",
       "</style>\n",
       "<table border=\"1\" class=\"dataframe\">\n",
       "  <thead>\n",
       "    <tr style=\"text-align: right;\">\n",
       "      <th></th>\n",
       "      <th>year</th>\n",
       "    </tr>\n",
       "  </thead>\n",
       "  <tbody>\n",
       "    <tr>\n",
       "      <th>year</th>\n",
       "      <td>1.0</td>\n",
       "    </tr>\n",
       "  </tbody>\n",
       "</table>\n",
       "</div>"
      ],
      "text/plain": [
       "      year\n",
       "year   1.0"
      ]
     },
     "execution_count": 46,
     "metadata": {},
     "output_type": "execute_result"
    }
   ],
   "source": [
    "data.corr()"
   ]
  },
  {
   "cell_type": "code",
   "execution_count": 49,
   "id": "9222dfec",
   "metadata": {},
   "outputs": [
    {
     "name": "stdout",
     "output_type": "stream",
     "text": [
      "Collecting fitter\n",
      "  Downloading fitter-1.4.0.tar.gz (27 kB)\n",
      "Collecting easydev\n",
      "  Downloading easydev-0.12.0.tar.gz (47 kB)\n",
      "\u001b[K     |████████████████████████████████| 47 kB 1.6 MB/s eta 0:00:01\n",
      "\u001b[?25hRequirement already satisfied: numpy in /Users/Lamkhothang/opt/anaconda3/lib/python3.8/site-packages (from fitter) (1.20.1)\n",
      "Requirement already satisfied: matplotlib in /Users/Lamkhothang/opt/anaconda3/lib/python3.8/site-packages (from fitter) (3.3.4)\n",
      "Requirement already satisfied: scipy>=0.18 in /Users/Lamkhothang/opt/anaconda3/lib/python3.8/site-packages (from fitter) (1.6.2)\n",
      "Requirement already satisfied: pandas in /Users/Lamkhothang/opt/anaconda3/lib/python3.8/site-packages (from fitter) (1.3.5)\n",
      "Requirement already satisfied: click in /Users/Lamkhothang/opt/anaconda3/lib/python3.8/site-packages (from fitter) (7.1.2)\n",
      "Requirement already satisfied: joblib in /Users/Lamkhothang/opt/anaconda3/lib/python3.8/site-packages (from fitter) (1.0.1)\n",
      "Requirement already satisfied: colorama in /Users/Lamkhothang/opt/anaconda3/lib/python3.8/site-packages (from easydev->fitter) (0.4.4)\n",
      "Requirement already satisfied: pexpect in /Users/Lamkhothang/opt/anaconda3/lib/python3.8/site-packages (from easydev->fitter) (4.8.0)\n",
      "Collecting colorlog\n",
      "  Downloading colorlog-6.6.0-py2.py3-none-any.whl (11 kB)\n",
      "Requirement already satisfied: python-dateutil>=2.1 in /Users/Lamkhothang/opt/anaconda3/lib/python3.8/site-packages (from matplotlib->fitter) (2.8.1)\n",
      "Requirement already satisfied: pyparsing!=2.0.4,!=2.1.2,!=2.1.6,>=2.0.3 in /Users/Lamkhothang/opt/anaconda3/lib/python3.8/site-packages (from matplotlib->fitter) (2.4.7)\n",
      "Requirement already satisfied: kiwisolver>=1.0.1 in /Users/Lamkhothang/opt/anaconda3/lib/python3.8/site-packages (from matplotlib->fitter) (1.3.1)\n",
      "Requirement already satisfied: pillow>=6.2.0 in /Users/Lamkhothang/opt/anaconda3/lib/python3.8/site-packages (from matplotlib->fitter) (8.2.0)\n",
      "Requirement already satisfied: cycler>=0.10 in /Users/Lamkhothang/opt/anaconda3/lib/python3.8/site-packages (from matplotlib->fitter) (0.10.0)\n",
      "Requirement already satisfied: six in /Users/Lamkhothang/opt/anaconda3/lib/python3.8/site-packages (from cycler>=0.10->matplotlib->fitter) (1.15.0)\n",
      "Requirement already satisfied: pytz>=2017.3 in /Users/Lamkhothang/opt/anaconda3/lib/python3.8/site-packages (from pandas->fitter) (2021.1)\n",
      "Requirement already satisfied: ptyprocess>=0.5 in /Users/Lamkhothang/opt/anaconda3/lib/python3.8/site-packages (from pexpect->easydev->fitter) (0.7.0)\n",
      "Building wheels for collected packages: fitter, easydev\n",
      "  Building wheel for fitter (setup.py) ... \u001b[?25ldone\n",
      "\u001b[?25h  Created wheel for fitter: filename=fitter-1.4.0-py3-none-any.whl size=25003 sha256=5bcaa24c8d2d1ac0d9f9a1043fe9610eea84c27179773f414a69cc9fae60b96b\n",
      "  Stored in directory: /Users/Lamkhothang/Library/Caches/pip/wheels/3b/8e/cb/505518075a659232287a9689543b465e2dd9fa662ac8fc8086\n",
      "  Building wheel for easydev (setup.py) ... \u001b[?25ldone\n",
      "\u001b[?25h  Created wheel for easydev: filename=easydev-0.12.0-py3-none-any.whl size=64216 sha256=682c516b0162b8cd569267691016f753b1def1a83d999eb615fc1d9fbf3c6207\n",
      "  Stored in directory: /Users/Lamkhothang/Library/Caches/pip/wheels/e2/47/9f/de01f291cfde341b33383bcf1292b17d64c700d4a12b318a7d\n",
      "Successfully built fitter easydev\n",
      "Installing collected packages: colorlog, easydev, fitter\n",
      "Successfully installed colorlog-6.6.0 easydev-0.12.0 fitter-1.4.0\n"
     ]
    }
   ],
   "source": [
    "!pip install fitter\n",
    "import seaborn as sns\n",
    "from fitter import Fitter, get_common_distributions, get_distributions"
   ]
  },
  {
   "cell_type": "code",
   "execution_count": 51,
   "id": "0eba0d68",
   "metadata": {},
   "outputs": [
    {
     "name": "stderr",
     "output_type": "stream",
     "text": [
      "/Users/Lamkhothang/opt/anaconda3/lib/python3.8/site-packages/numpy/lib/histograms.py:905: RuntimeWarning: invalid value encountered in true_divide\n",
      "  return n/db/n.sum(), bin_edges\n",
      "WARNING:root:SKIPPED gamma distribution (taking more than 30 seconds)\n",
      "WARNING:root:SKIPPED beta distribution (taking more than 30 seconds)\n",
      "WARNING:root:SKIPPED burr distribution (taking more than 30 seconds)\n",
      "WARNING:root:SKIPPED lognorm distribution (taking more than 30 seconds)\n",
      "WARNING:fitter.fitter:gamma was not fitted. no parameters available\n",
      "WARNING:fitter.fitter:beta was not fitted. no parameters available\n",
      "WARNING:fitter.fitter:burr was not fitted. no parameters available\n",
      "WARNING:fitter.fitter:lognorm was not fitted. no parameters available\n"
     ]
    },
    {
     "ename": "KeyError",
     "evalue": "'gamma'",
     "output_type": "error",
     "traceback": [
      "\u001b[0;31m---------------------------------------------------------------------------\u001b[0m",
      "\u001b[0;31mKeyError\u001b[0m                                  Traceback (most recent call last)",
      "\u001b[0;32m<ipython-input-51-a02ac6b21b4f>\u001b[0m in \u001b[0;36m<module>\u001b[0;34m\u001b[0m\n\u001b[1;32m     11\u001b[0m \u001b[0mf\u001b[0m\u001b[0;34m.\u001b[0m\u001b[0mfit\u001b[0m\u001b[0;34m(\u001b[0m\u001b[0;34m)\u001b[0m\u001b[0;34m\u001b[0m\u001b[0;34m\u001b[0m\u001b[0m\n\u001b[1;32m     12\u001b[0m \u001b[0mf\u001b[0m\u001b[0;34m.\u001b[0m\u001b[0msummary\u001b[0m\u001b[0;34m(\u001b[0m\u001b[0;34m)\u001b[0m\u001b[0;34m\u001b[0m\u001b[0;34m\u001b[0m\u001b[0m\n\u001b[0;32m---> 13\u001b[0;31m \u001b[0mf\u001b[0m\u001b[0;34m.\u001b[0m\u001b[0mget_best\u001b[0m\u001b[0;34m(\u001b[0m\u001b[0mmethod\u001b[0m \u001b[0;34m=\u001b[0m \u001b[0;34m'sumsquare_error'\u001b[0m\u001b[0;34m)\u001b[0m\u001b[0;34m\u001b[0m\u001b[0;34m\u001b[0m\u001b[0m\n\u001b[0m",
      "\u001b[0;32m~/opt/anaconda3/lib/python3.8/site-packages/fitter/fitter.py\u001b[0m in \u001b[0;36mget_best\u001b[0;34m(self, method)\u001b[0m\n\u001b[1;32m    398\u001b[0m         \u001b[0;31m# self.df should be sorted, so then us take the first one as the best\u001b[0m\u001b[0;34m\u001b[0m\u001b[0;34m\u001b[0m\u001b[0;34m\u001b[0m\u001b[0m\n\u001b[1;32m    399\u001b[0m         \u001b[0mname\u001b[0m \u001b[0;34m=\u001b[0m \u001b[0mself\u001b[0m\u001b[0;34m.\u001b[0m\u001b[0mdf_errors\u001b[0m\u001b[0;34m.\u001b[0m\u001b[0msort_values\u001b[0m\u001b[0;34m(\u001b[0m\u001b[0mmethod\u001b[0m\u001b[0;34m)\u001b[0m\u001b[0;34m.\u001b[0m\u001b[0miloc\u001b[0m\u001b[0;34m[\u001b[0m\u001b[0;36m0\u001b[0m\u001b[0;34m]\u001b[0m\u001b[0;34m.\u001b[0m\u001b[0mname\u001b[0m\u001b[0;34m\u001b[0m\u001b[0;34m\u001b[0m\u001b[0m\n\u001b[0;32m--> 400\u001b[0;31m         \u001b[0mparams\u001b[0m \u001b[0;34m=\u001b[0m \u001b[0mself\u001b[0m\u001b[0;34m.\u001b[0m\u001b[0mfitted_param\u001b[0m\u001b[0;34m[\u001b[0m\u001b[0mname\u001b[0m\u001b[0;34m]\u001b[0m\u001b[0;34m\u001b[0m\u001b[0;34m\u001b[0m\u001b[0m\n\u001b[0m\u001b[1;32m    401\u001b[0m         \u001b[0mdistribution\u001b[0m \u001b[0;34m=\u001b[0m \u001b[0mgetattr\u001b[0m\u001b[0;34m(\u001b[0m\u001b[0mscipy\u001b[0m\u001b[0;34m.\u001b[0m\u001b[0mstats\u001b[0m\u001b[0;34m,\u001b[0m \u001b[0mname\u001b[0m\u001b[0;34m)\u001b[0m\u001b[0;34m\u001b[0m\u001b[0;34m\u001b[0m\u001b[0m\n\u001b[1;32m    402\u001b[0m         param_names = (\n",
      "\u001b[0;31mKeyError\u001b[0m: 'gamma'"
     ]
    },
    {
     "data": {
      "image/png": "[encoded data removed]",
      "text/plain": [
       "<Figure size 540x360 with 1 Axes>"
      ]
     },
     "metadata": {},
     "output_type": "display_data"
    }
   ],
   "source": [
    "sns.set_style('white')\n",
    "sns.set_context(\"paper\", font_scale = 2)\n",
    "sns.displot(data=data, x=\"year\", kind=\"hist\", bins = 100, aspect = 1.5)\n",
    "five_one = data[\"year\"].values\n",
    "f = Fitter(five_one,\n",
    "           distributions=['gamma',\n",
    "                          'lognorm',\n",
    "                          \"beta\",\n",
    "                          \"burr\",\n",
    "                          \"norm\"])\n",
    "f.fit()\n",
    "f.summary()\n",
    "f.get_best(method = 'sumsquare_error')"
   ]
  },
  {
   "cell_type": "markdown",
   "id": "e644336d",
   "metadata": {},
   "source": [
    "correlation between 2 categorial variable"
   ]
  },
  {
   "cell_type": "code",
   "execution_count": 52,
   "id": "c2e6fb74",
   "metadata": {},
   "outputs": [],
   "source": [
    "ColumnNames=['ID','AGE','GENDER' ,'SALARY', 'BONUS']\n",
    "DataValues=[ [480, 28, 'M', 610000, 'Yes'],\n",
    "             [480, 42, 'M',140000, 'No'],\n",
    "             [480, 29, 'F',420000, 'No'],\n",
    "             [490, 30, 'M',420000, 'No'],\n",
    "             [500, 27, 'M',420000, 'No'],\n",
    "             [510, 34, 'F',190000, 'No'],\n",
    "             [550, 24, 'M',330000, 'Yes'],\n",
    "             [560, 34, 'M',160000, 'Yes'],\n",
    "             [560, 25, 'F',300000, 'Yes'],\n",
    "             [570, 34, 'M',450000, 'Yes'],\n",
    "             [590, 30, 'F',140000, 'Yes'],\n",
    "             [600, 33, 'M',600000, 'Yes'],\n",
    "             [600, 22, 'M',400000, 'Yes'],\n",
    "             [600, 25, 'F',490000, 'Yes'],\n",
    "             [610, 32, 'M',120000, 'Yes']]\n",
    "             "
   ]
  },
  {
   "cell_type": "code",
   "execution_count": 53,
   "id": "f3b1ed57",
   "metadata": {},
   "outputs": [
    {
     "name": "stdout",
     "output_type": "stream",
     "text": [
      "    ID  AGE GENDER  SALARY BONUS\n",
      "0  480   28      M  610000   Yes\n",
      "1  480   42      M  140000    No\n",
      "2  480   29      F  420000    No\n",
      "3  490   30      M  420000    No\n",
      "4  500   27      M  420000    No\n"
     ]
    }
   ],
   "source": [
    "f=pd.DataFrame(data=DataValues,columns=ColumnNames)\n",
    "print(f.head())"
   ]
  },
  {
   "cell_type": "code",
   "execution_count": 54,
   "id": "8b7ffbce",
   "metadata": {},
   "outputs": [
    {
     "name": "stdout",
     "output_type": "stream",
     "text": [
      "BONUS   No  Yes\n",
      "GENDER         \n",
      "F        2    3\n",
      "M        3    7\n"
     ]
    }
   ],
   "source": [
    "CrosstabResult=pd.crosstab(index=f['GENDER'],columns=f['BONUS'])\n",
    "print(CrosstabResult)"
   ]
  },
  {
   "cell_type": "code",
   "execution_count": 55,
   "id": "3571b55f",
   "metadata": {},
   "outputs": [
    {
     "name": "stdout",
     "output_type": "stream",
     "text": [
      "The P-Value of the ChiSq Test is: 0.8464505968765906\n"
     ]
    }
   ],
   "source": [
    "\n",
    "# importing the required function\n",
    "from scipy.stats import chi2_contingency\n",
    " \n",
    "# Performing Chi-sq test\n",
    "ChiSqResult = chi2_contingency(CrosstabResult)\n",
    " \n",
    "# P-Value is the Probability of H0 being True\n",
    "# If P-Value&gt;0.05 then only we Accept the assumption(H0)\n",
    " \n",
    "print('The P-Value of the ChiSq Test is:', ChiSqResult[1])"
   ]
  },
  {
   "cell_type": "code",
   "execution_count": null,
   "id": "c256f90f",
   "metadata": {},
   "outputs": [],
   "source": []
  }
 ],
 "metadata": {
  "kernelspec": {
   "display_name": "Python 3",
   "language": "python",
   "name": "python3"
  },
  "language_info": {
   "codemirror_mode": {
    "name": "ipython",
    "version": 3
   },
   "file_extension": ".py",
   "mimetype": "text/x-python",
   "name": "python",
   "nbconvert_exporter": "python",
   "pygments_lexer": "ipython3",
   "version": "3.8.8"
  }
 },
 "nbformat": 4,
 "nbformat_minor": 5
}
