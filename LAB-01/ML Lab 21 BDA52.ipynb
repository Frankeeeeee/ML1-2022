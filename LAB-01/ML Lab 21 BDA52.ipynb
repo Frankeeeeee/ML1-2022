{
 "cells": [
  {
   "cell_type": "markdown",
   "id": "f6ed9066",
   "metadata": {},
   "source": [
    "### MACHINE LEARNING LAB \n",
    "### BD2P3\n",
    "### Roll No: 21BDA52"
   ]
  },
  {
   "cell_type": "code",
   "execution_count": null,
   "id": "64cd2626",
   "metadata": {},
   "outputs": [],
   "source": []
  },
  {
   "cell_type": "markdown",
   "id": "87a6daaa",
   "metadata": {},
   "source": [
    "# introduction\n"
   ]
  },
  {
   "cell_type": "markdown",
   "id": "86b99492",
   "metadata": {},
   "source": [
    "## loops "
   ]
  },
  {
   "cell_type": "code",
   "execution_count": 1,
   "id": "4de8279e",
   "metadata": {},
   "outputs": [
    {
     "name": "stdout",
     "output_type": "stream",
     "text": [
      "0\n",
      "1\n",
      "4\n",
      "9\n",
      "16\n"
     ]
    }
   ],
   "source": [
    "#Range is a function\n",
    "for i in range(5):\n",
    "    print (i**2)"
   ]
  },
  {
   "cell_type": "code",
   "execution_count": 2,
   "id": "12bd391c",
   "metadata": {},
   "outputs": [],
   "source": [
    "#In Python, we can use the item itself to iterate. Indexing is not required. \n",
    "marks = [76,45,15,57,23,98]"
   ]
  },
  {
   "cell_type": "code",
   "execution_count": 3,
   "id": "73331a60",
   "metadata": {},
   "outputs": [
    {
     "name": "stdout",
     "output_type": "stream",
     "text": [
      "76\n",
      "45\n",
      "15\n",
      "57\n",
      "23\n",
      "98\n"
     ]
    }
   ],
   "source": [
    "#conventional way\n",
    "for i in range(len(marks)):\n",
    "    print (marks[i])"
   ]
  },
  {
   "cell_type": "code",
   "execution_count": 4,
   "id": "2c60c2e2",
   "metadata": {},
   "outputs": [
    {
     "name": "stdout",
     "output_type": "stream",
     "text": [
      "76\n",
      "45\n",
      "15\n",
      "57\n",
      "23\n",
      "98\n"
     ]
    }
   ],
   "source": [
    "#Python specific way\n",
    "for mark in marks:\n",
    "    print (mark)"
   ]
  },
  {
   "cell_type": "code",
   "execution_count": 5,
   "id": "de916a0b",
   "metadata": {},
   "outputs": [],
   "source": [
    "pass_mark=28"
   ]
  },
  {
   "cell_type": "code",
   "execution_count": 6,
   "id": "4fc971c8",
   "metadata": {},
   "outputs": [
    {
     "name": "stdout",
     "output_type": "stream",
     "text": [
      "Pass\n",
      "Pass\n",
      "Fail\n",
      "Pass\n",
      "Grace Marks Awarded\n",
      "Pass\n",
      "_______________\n"
     ]
    }
   ],
   "source": [
    "for mark in marks:\n",
    "    if mark<pass_mark and mark>20:\n",
    "        print(\"Grace Marks Awarded\")\n",
    "    elif mark<pass_mark:\n",
    "        print(\"Fail\")\n",
    "    else:\n",
    "        print(\"Pass\")\n",
    "print(\"_______________\")"
   ]
  },
  {
   "cell_type": "markdown",
   "id": "cba74688",
   "metadata": {},
   "source": [
    "Dictionary"
   ]
  },
  {
   "cell_type": "code",
   "execution_count": 8,
   "id": "d0d3464f",
   "metadata": {},
   "outputs": [
    {
     "data": {
      "text/plain": [
       "['R', 'A', 'I', 'N', 'B', 'O', 'W']"
      ]
     },
     "execution_count": 8,
     "metadata": {},
     "output_type": "execute_result"
    }
   ],
   "source": [
    "l1 = list(\"RAINBOW\")\n",
    "l1"
   ]
  },
  {
   "cell_type": "markdown",
   "id": "a7dd91cd",
   "metadata": {},
   "source": [
    "Functions"
   ]
  },
  {
   "cell_type": "code",
   "execution_count": 9,
   "id": "2d5247fc",
   "metadata": {},
   "outputs": [],
   "source": [
    "def sum_of(a,b):\n",
    "    return(a+b)"
   ]
  },
  {
   "cell_type": "code",
   "execution_count": 11,
   "id": "96390bee",
   "metadata": {},
   "outputs": [
    {
     "data": {
      "text/plain": [
       "119"
      ]
     },
     "execution_count": 11,
     "metadata": {},
     "output_type": "execute_result"
    }
   ],
   "source": [
    "sum_of(63,56)"
   ]
  },
  {
   "cell_type": "code",
   "execution_count": 12,
   "id": "c3af3ccb",
   "metadata": {},
   "outputs": [],
   "source": [
    "def diff_of(fno=0,sco=0):\n",
    "    return(fno-sco)"
   ]
  },
  {
   "cell_type": "markdown",
   "id": "1db38f5d",
   "metadata": {},
   "source": [
    "Packages in Python for Data Science"
   ]
  },
  {
   "cell_type": "code",
   "execution_count": 13,
   "id": "518af413",
   "metadata": {},
   "outputs": [],
   "source": [
    "#Pandas, Numpy, Scipy, Matplotlib, Sklearn\n",
    "#Scikit"
   ]
  },
  {
   "cell_type": "markdown",
   "id": "84e0f4e5",
   "metadata": {},
   "source": [
    "Working with Pandas"
   ]
  },
  {
   "cell_type": "code",
   "execution_count": 14,
   "id": "532016bc",
   "metadata": {},
   "outputs": [],
   "source": [
    "import pandas as pd\n",
    "#we use alias to make further coding easy\n",
    "#Pandas handles rows and columns\n",
    "#Two kinds of data structures: series and dataframes\n",
    "#Series are one dimensional\n",
    "#Dataframes are two dimensional"
   ]
  },
  {
   "cell_type": "code",
   "execution_count": 15,
   "id": "3c77054d",
   "metadata": {},
   "outputs": [],
   "source": [
    "marks_series=pd.Series([45,12,34,87,23,78])"
   ]
  },
  {
   "cell_type": "code",
   "execution_count": 17,
   "id": "24e679eb",
   "metadata": {},
   "outputs": [
    {
     "data": {
      "text/plain": [
       "RangeIndex(start=0, stop=6, step=1)"
      ]
     },
     "execution_count": 17,
     "metadata": {},
     "output_type": "execute_result"
    }
   ],
   "source": [
    "marks_series.index"
   ]
  },
  {
   "cell_type": "code",
   "execution_count": 18,
   "id": "946884be",
   "metadata": {},
   "outputs": [
    {
     "data": {
      "text/plain": [
       "array([45, 12, 34, 87, 23, 78], dtype=int64)"
      ]
     },
     "execution_count": 18,
     "metadata": {},
     "output_type": "execute_result"
    }
   ],
   "source": [
    "marks_series.values"
   ]
  },
  {
   "cell_type": "code",
   "execution_count": 19,
   "id": "e431ae78",
   "metadata": {},
   "outputs": [
    {
     "data": {
      "text/plain": [
       "0    45\n",
       "1    12\n",
       "2    34\n",
       "3    87\n",
       "dtype: int64"
      ]
     },
     "execution_count": 19,
     "metadata": {},
     "output_type": "execute_result"
    }
   ],
   "source": [
    "marks_series[:4]"
   ]
  },
  {
   "cell_type": "code",
   "execution_count": 20,
   "id": "4d40ecdc",
   "metadata": {},
   "outputs": [],
   "source": [
    "marks_series[5:]=45"
   ]
  },
  {
   "cell_type": "code",
   "execution_count": 21,
   "id": "5ad65b15",
   "metadata": {},
   "outputs": [
    {
     "data": {
      "text/plain": [
       "0    45\n",
       "1    12\n",
       "2    34\n",
       "3    87\n",
       "4    23\n",
       "5    45\n",
       "dtype: int64"
      ]
     },
     "execution_count": 21,
     "metadata": {},
     "output_type": "execute_result"
    }
   ],
   "source": [
    "marks_series"
   ]
  },
  {
   "cell_type": "code",
   "execution_count": 22,
   "id": "cf7a5f1d",
   "metadata": {},
   "outputs": [
    {
     "data": {
      "text/plain": [
       "45    2\n",
       "34    1\n",
       "12    1\n",
       "23    1\n",
       "87    1\n",
       "dtype: int64"
      ]
     },
     "execution_count": 22,
     "metadata": {},
     "output_type": "execute_result"
    }
   ],
   "source": [
    "marks_series.value_counts()"
   ]
  },
  {
   "cell_type": "code",
   "execution_count": 23,
   "id": "68aa047a",
   "metadata": {},
   "outputs": [],
   "source": [
    "df1 = pd.DataFrame(marks)"
   ]
  },
  {
   "cell_type": "code",
   "execution_count": 24,
   "id": "58ab320b",
   "metadata": {},
   "outputs": [
    {
     "data": {
      "text/html": [
       "<div>\n",
       "<style scoped>\n",
       "    .dataframe tbody tr th:only-of-type {\n",
       "        vertical-align: middle;\n",
       "    }\n",
       "\n",
       "    .dataframe tbody tr th {\n",
       "        vertical-align: top;\n",
       "    }\n",
       "\n",
       "    .dataframe thead th {\n",
       "        text-align: right;\n",
       "    }\n",
       "</style>\n",
       "<table border=\"1\" class=\"dataframe\">\n",
       "  <thead>\n",
       "    <tr style=\"text-align: right;\">\n",
       "      <th></th>\n",
       "      <th>0</th>\n",
       "    </tr>\n",
       "  </thead>\n",
       "  <tbody>\n",
       "    <tr>\n",
       "      <th>0</th>\n",
       "      <td>76</td>\n",
       "    </tr>\n",
       "    <tr>\n",
       "      <th>1</th>\n",
       "      <td>45</td>\n",
       "    </tr>\n",
       "    <tr>\n",
       "      <th>2</th>\n",
       "      <td>15</td>\n",
       "    </tr>\n",
       "    <tr>\n",
       "      <th>3</th>\n",
       "      <td>57</td>\n",
       "    </tr>\n",
       "    <tr>\n",
       "      <th>4</th>\n",
       "      <td>23</td>\n",
       "    </tr>\n",
       "    <tr>\n",
       "      <th>5</th>\n",
       "      <td>98</td>\n",
       "    </tr>\n",
       "  </tbody>\n",
       "</table>\n",
       "</div>"
      ],
      "text/plain": [
       "    0\n",
       "0  76\n",
       "1  45\n",
       "2  15\n",
       "3  57\n",
       "4  23\n",
       "5  98"
      ]
     },
     "execution_count": 24,
     "metadata": {},
     "output_type": "execute_result"
    }
   ],
   "source": [
    "df1"
   ]
  },
  {
   "cell_type": "code",
   "execution_count": 25,
   "id": "4d850acb",
   "metadata": {},
   "outputs": [
    {
     "data": {
      "text/html": [
       "<div>\n",
       "<style scoped>\n",
       "    .dataframe tbody tr th:only-of-type {\n",
       "        vertical-align: middle;\n",
       "    }\n",
       "\n",
       "    .dataframe tbody tr th {\n",
       "        vertical-align: top;\n",
       "    }\n",
       "\n",
       "    .dataframe thead th {\n",
       "        text-align: right;\n",
       "    }\n",
       "</style>\n",
       "<table border=\"1\" class=\"dataframe\">\n",
       "  <thead>\n",
       "    <tr style=\"text-align: right;\">\n",
       "      <th></th>\n",
       "      <th>0</th>\n",
       "      <th>1</th>\n",
       "      <th>2</th>\n",
       "      <th>3</th>\n",
       "      <th>4</th>\n",
       "      <th>5</th>\n",
       "    </tr>\n",
       "  </thead>\n",
       "  <tbody>\n",
       "    <tr>\n",
       "      <th>0</th>\n",
       "      <td>76</td>\n",
       "      <td>45</td>\n",
       "      <td>15</td>\n",
       "      <td>57</td>\n",
       "      <td>23</td>\n",
       "      <td>98</td>\n",
       "    </tr>\n",
       "  </tbody>\n",
       "</table>\n",
       "</div>"
      ],
      "text/plain": [
       "    0   1   2   3   4   5\n",
       "0  76  45  15  57  23  98"
      ]
     },
     "execution_count": 25,
     "metadata": {},
     "output_type": "execute_result"
    }
   ],
   "source": [
    "df1.T"
   ]
  },
  {
   "cell_type": "code",
   "execution_count": 26,
   "id": "47d8bd63",
   "metadata": {},
   "outputs": [
    {
     "data": {
      "text/html": [
       "<div>\n",
       "<style scoped>\n",
       "    .dataframe tbody tr th:only-of-type {\n",
       "        vertical-align: middle;\n",
       "    }\n",
       "\n",
       "    .dataframe tbody tr th {\n",
       "        vertical-align: top;\n",
       "    }\n",
       "\n",
       "    .dataframe thead th {\n",
       "        text-align: right;\n",
       "    }\n",
       "</style>\n",
       "<table border=\"1\" class=\"dataframe\">\n",
       "  <thead>\n",
       "    <tr style=\"text-align: right;\">\n",
       "      <th></th>\n",
       "      <th>Col1</th>\n",
       "    </tr>\n",
       "  </thead>\n",
       "  <tbody>\n",
       "    <tr>\n",
       "      <th>0</th>\n",
       "      <td>76</td>\n",
       "    </tr>\n",
       "    <tr>\n",
       "      <th>1</th>\n",
       "      <td>45</td>\n",
       "    </tr>\n",
       "    <tr>\n",
       "      <th>2</th>\n",
       "      <td>15</td>\n",
       "    </tr>\n",
       "    <tr>\n",
       "      <th>3</th>\n",
       "      <td>57</td>\n",
       "    </tr>\n",
       "    <tr>\n",
       "      <th>4</th>\n",
       "      <td>23</td>\n",
       "    </tr>\n",
       "    <tr>\n",
       "      <th>5</th>\n",
       "      <td>98</td>\n",
       "    </tr>\n",
       "  </tbody>\n",
       "</table>\n",
       "</div>"
      ],
      "text/plain": [
       "   Col1\n",
       "0    76\n",
       "1    45\n",
       "2    15\n",
       "3    57\n",
       "4    23\n",
       "5    98"
      ]
     },
     "execution_count": 26,
     "metadata": {},
     "output_type": "execute_result"
    }
   ],
   "source": [
    "df1.columns=['Col1']\n",
    "df1"
   ]
  },
  {
   "cell_type": "code",
   "execution_count": 57,
   "id": "a75e0089",
   "metadata": {},
   "outputs": [],
   "source": [
    "import pandas as pd\n",
    "df2 = pd.read_csv(r\"C:\\Users\\Srinivasa\\Downloads\\newbla.csv\")"
   ]
  },
  {
   "cell_type": "code",
   "execution_count": 58,
   "id": "87e07e66",
   "metadata": {},
   "outputs": [
    {
     "data": {
      "text/html": [
       "<div>\n",
       "<style scoped>\n",
       "    .dataframe tbody tr th:only-of-type {\n",
       "        vertical-align: middle;\n",
       "    }\n",
       "\n",
       "    .dataframe tbody tr th {\n",
       "        vertical-align: top;\n",
       "    }\n",
       "\n",
       "    .dataframe thead th {\n",
       "        text-align: right;\n",
       "    }\n",
       "</style>\n",
       "<table border=\"1\" class=\"dataframe\">\n",
       "  <thead>\n",
       "    <tr style=\"text-align: right;\">\n",
       "      <th></th>\n",
       "      <th>REF</th>\n",
       "      <th>Company</th>\n",
       "      <th>Location</th>\n",
       "      <th>Review_Date</th>\n",
       "      <th>Bean_Origin</th>\n",
       "      <th>Bar_Name</th>\n",
       "      <th>Cocoa_%</th>\n",
       "      <th>Enc_ingr</th>\n",
       "      <th>Characteristics</th>\n",
       "      <th>Rating</th>\n",
       "      <th>ingri</th>\n",
       "    </tr>\n",
       "  </thead>\n",
       "  <tbody>\n",
       "    <tr>\n",
       "      <th>0</th>\n",
       "      <td>2644</td>\n",
       "      <td>Fresco</td>\n",
       "      <td>U.S.A.</td>\n",
       "      <td>2021</td>\n",
       "      <td>Venezuela</td>\n",
       "      <td>Chuao Village, BR-SC, batch 21-437</td>\n",
       "      <td>68.0</td>\n",
       "      <td>6</td>\n",
       "      <td>robust cocoa, dried cranberry</td>\n",
       "      <td>4.00</td>\n",
       "      <td>3- B,S,C</td>\n",
       "    </tr>\n",
       "    <tr>\n",
       "      <th>1</th>\n",
       "      <td>2644</td>\n",
       "      <td>Fresco</td>\n",
       "      <td>U.S.A.</td>\n",
       "      <td>2021</td>\n",
       "      <td>Nicaragua</td>\n",
       "      <td>O'Payo Profundo, Waslala, DR-LC, #271, b. 21-433</td>\n",
       "      <td>70.0</td>\n",
       "      <td>6</td>\n",
       "      <td>rich chocolate, late spice notes</td>\n",
       "      <td>3.75</td>\n",
       "      <td>3- B,S,C</td>\n",
       "    </tr>\n",
       "    <tr>\n",
       "      <th>2</th>\n",
       "      <td>2704</td>\n",
       "      <td>Fresco</td>\n",
       "      <td>U.S.A.</td>\n",
       "      <td>2021</td>\n",
       "      <td>Madagascar</td>\n",
       "      <td>Sambirano V., #290, MR MC, batch 21-454</td>\n",
       "      <td>70.0</td>\n",
       "      <td>6</td>\n",
       "      <td>raspberry, mild sour, cocoa</td>\n",
       "      <td>3.50</td>\n",
       "      <td>3- B,S,C</td>\n",
       "    </tr>\n",
       "    <tr>\n",
       "      <th>3</th>\n",
       "      <td>2644</td>\n",
       "      <td>Fresco</td>\n",
       "      <td>U.S.A.</td>\n",
       "      <td>2021</td>\n",
       "      <td>Nicaragua</td>\n",
       "      <td>O'Payo Profundo, Waslala, MR-MC, #271, b. 21-431</td>\n",
       "      <td>70.0</td>\n",
       "      <td>6</td>\n",
       "      <td>oily, black licorice, spicey</td>\n",
       "      <td>3.50</td>\n",
       "      <td>3- B,S,C</td>\n",
       "    </tr>\n",
       "    <tr>\n",
       "      <th>4</th>\n",
       "      <td>2642</td>\n",
       "      <td>Fresco</td>\n",
       "      <td>U.S.A.</td>\n",
       "      <td>2021</td>\n",
       "      <td>Ghana</td>\n",
       "      <td>ABOCFA, #261, DR-MC, batch 21-448</td>\n",
       "      <td>68.0</td>\n",
       "      <td>6</td>\n",
       "      <td>fudgey, spicey, nutty</td>\n",
       "      <td>3.50</td>\n",
       "      <td>3- B,S,C</td>\n",
       "    </tr>\n",
       "    <tr>\n",
       "      <th>...</th>\n",
       "      <td>...</td>\n",
       "      <td>...</td>\n",
       "      <td>...</td>\n",
       "      <td>...</td>\n",
       "      <td>...</td>\n",
       "      <td>...</td>\n",
       "      <td>...</td>\n",
       "      <td>...</td>\n",
       "      <td>...</td>\n",
       "      <td>...</td>\n",
       "      <td>...</td>\n",
       "    </tr>\n",
       "    <tr>\n",
       "      <th>2438</th>\n",
       "      <td>87</td>\n",
       "      <td>Guittard</td>\n",
       "      <td>U.S.A.</td>\n",
       "      <td>2006</td>\n",
       "      <td>Madagascar</td>\n",
       "      <td>Sambirano, Ambanja</td>\n",
       "      <td>65.0</td>\n",
       "      <td>18</td>\n",
       "      <td>creamy, sweet, blueberry</td>\n",
       "      <td>3.50</td>\n",
       "      <td>5- B,S,C,V,L</td>\n",
       "    </tr>\n",
       "    <tr>\n",
       "      <th>2439</th>\n",
       "      <td>99</td>\n",
       "      <td>Guittard</td>\n",
       "      <td>U.S.A.</td>\n",
       "      <td>2006</td>\n",
       "      <td>Blend</td>\n",
       "      <td>Semisweet</td>\n",
       "      <td>61.0</td>\n",
       "      <td>18</td>\n",
       "      <td>fatty, cocoa, fruity</td>\n",
       "      <td>3.00</td>\n",
       "      <td>5- B,S,C,V,L</td>\n",
       "    </tr>\n",
       "    <tr>\n",
       "      <th>2440</th>\n",
       "      <td>15</td>\n",
       "      <td>Guittard</td>\n",
       "      <td>U.S.A.</td>\n",
       "      <td>2006</td>\n",
       "      <td>Colombia</td>\n",
       "      <td>Chucuri</td>\n",
       "      <td>65.0</td>\n",
       "      <td>18</td>\n",
       "      <td>creamy, sweet, floral, vanilla</td>\n",
       "      <td>3.00</td>\n",
       "      <td>5- B,S,C,V,L</td>\n",
       "    </tr>\n",
       "    <tr>\n",
       "      <th>2441</th>\n",
       "      <td>87</td>\n",
       "      <td>Guittard</td>\n",
       "      <td>U.S.A.</td>\n",
       "      <td>2006</td>\n",
       "      <td>Venezuela</td>\n",
       "      <td>Sur del Lago</td>\n",
       "      <td>65.0</td>\n",
       "      <td>18</td>\n",
       "      <td>sweet, creamy, vanilla</td>\n",
       "      <td>2.50</td>\n",
       "      <td>5- B,S,C,V,L</td>\n",
       "    </tr>\n",
       "    <tr>\n",
       "      <th>2442</th>\n",
       "      <td>15</td>\n",
       "      <td>Green &amp; Black's (ICAM)</td>\n",
       "      <td>U.K.</td>\n",
       "      <td>2006</td>\n",
       "      <td>Blend</td>\n",
       "      <td>Dark</td>\n",
       "      <td>70.0</td>\n",
       "      <td>18</td>\n",
       "      <td>mildly rich, basic, roasty</td>\n",
       "      <td>2.50</td>\n",
       "      <td>5- B,S,C,V,L</td>\n",
       "    </tr>\n",
       "  </tbody>\n",
       "</table>\n",
       "<p>2443 rows × 11 columns</p>\n",
       "</div>"
      ],
      "text/plain": [
       "       REF                 Company Location  Review_Date Bean_Origin  \\\n",
       "0     2644                  Fresco   U.S.A.         2021   Venezuela   \n",
       "1     2644                  Fresco   U.S.A.         2021   Nicaragua   \n",
       "2     2704                  Fresco   U.S.A.         2021  Madagascar   \n",
       "3     2644                  Fresco   U.S.A.         2021   Nicaragua   \n",
       "4     2642                  Fresco   U.S.A.         2021       Ghana   \n",
       "...    ...                     ...      ...          ...         ...   \n",
       "2438    87                Guittard   U.S.A.         2006  Madagascar   \n",
       "2439    99                Guittard   U.S.A.         2006       Blend   \n",
       "2440    15                Guittard   U.S.A.         2006    Colombia   \n",
       "2441    87                Guittard   U.S.A.         2006   Venezuela   \n",
       "2442    15  Green & Black's (ICAM)     U.K.         2006       Blend   \n",
       "\n",
       "                                              Bar_Name  Cocoa_%  Enc_ingr  \\\n",
       "0                   Chuao Village, BR-SC, batch 21-437     68.0         6   \n",
       "1     O'Payo Profundo, Waslala, DR-LC, #271, b. 21-433     70.0         6   \n",
       "2              Sambirano V., #290, MR MC, batch 21-454     70.0         6   \n",
       "3     O'Payo Profundo, Waslala, MR-MC, #271, b. 21-431     70.0         6   \n",
       "4                    ABOCFA, #261, DR-MC, batch 21-448     68.0         6   \n",
       "...                                                ...      ...       ...   \n",
       "2438                                Sambirano, Ambanja     65.0        18   \n",
       "2439                                         Semisweet     61.0        18   \n",
       "2440                                           Chucuri     65.0        18   \n",
       "2441                                      Sur del Lago     65.0        18   \n",
       "2442                                              Dark     70.0        18   \n",
       "\n",
       "                       Characteristics  Rating         ingri  \n",
       "0        robust cocoa, dried cranberry    4.00      3- B,S,C  \n",
       "1     rich chocolate, late spice notes    3.75      3- B,S,C  \n",
       "2          raspberry, mild sour, cocoa    3.50      3- B,S,C  \n",
       "3         oily, black licorice, spicey    3.50      3- B,S,C  \n",
       "4                fudgey, spicey, nutty    3.50      3- B,S,C  \n",
       "...                                ...     ...           ...  \n",
       "2438          creamy, sweet, blueberry    3.50  5- B,S,C,V,L  \n",
       "2439              fatty, cocoa, fruity    3.00  5- B,S,C,V,L  \n",
       "2440    creamy, sweet, floral, vanilla    3.00  5- B,S,C,V,L  \n",
       "2441            sweet, creamy, vanilla    2.50  5- B,S,C,V,L  \n",
       "2442        mildly rich, basic, roasty    2.50  5- B,S,C,V,L  \n",
       "\n",
       "[2443 rows x 11 columns]"
      ]
     },
     "execution_count": 58,
     "metadata": {},
     "output_type": "execute_result"
    }
   ],
   "source": [
    "df2"
   ]
  },
  {
   "cell_type": "code",
   "execution_count": 61,
   "id": "3f799c5c",
   "metadata": {},
   "outputs": [
    {
     "data": {
      "text/html": [
       "<div>\n",
       "<style scoped>\n",
       "    .dataframe tbody tr th:only-of-type {\n",
       "        vertical-align: middle;\n",
       "    }\n",
       "\n",
       "    .dataframe tbody tr th {\n",
       "        vertical-align: top;\n",
       "    }\n",
       "\n",
       "    .dataframe thead th {\n",
       "        text-align: right;\n",
       "    }\n",
       "</style>\n",
       "<table border=\"1\" class=\"dataframe\">\n",
       "  <thead>\n",
       "    <tr style=\"text-align: right;\">\n",
       "      <th></th>\n",
       "      <th>REF</th>\n",
       "      <th>Company</th>\n",
       "      <th>Location</th>\n",
       "      <th>Review_Date</th>\n",
       "      <th>Bean_Origin</th>\n",
       "      <th>Bar_Name</th>\n",
       "      <th>Cocoa_%</th>\n",
       "      <th>Enc_ingr</th>\n",
       "      <th>Characteristics</th>\n",
       "      <th>Rating</th>\n",
       "      <th>ingri</th>\n",
       "    </tr>\n",
       "  </thead>\n",
       "  <tbody>\n",
       "    <tr>\n",
       "      <th>0</th>\n",
       "      <td>2644</td>\n",
       "      <td>Fresco</td>\n",
       "      <td>U.S.A.</td>\n",
       "      <td>2021</td>\n",
       "      <td>Venezuela</td>\n",
       "      <td>Chuao Village, BR-SC, batch 21-437</td>\n",
       "      <td>68.0</td>\n",
       "      <td>6</td>\n",
       "      <td>robust cocoa, dried cranberry</td>\n",
       "      <td>4.00</td>\n",
       "      <td>3- B,S,C</td>\n",
       "    </tr>\n",
       "    <tr>\n",
       "      <th>1</th>\n",
       "      <td>2644</td>\n",
       "      <td>Fresco</td>\n",
       "      <td>U.S.A.</td>\n",
       "      <td>2021</td>\n",
       "      <td>Nicaragua</td>\n",
       "      <td>O'Payo Profundo, Waslala, DR-LC, #271, b. 21-433</td>\n",
       "      <td>70.0</td>\n",
       "      <td>6</td>\n",
       "      <td>rich chocolate, late spice notes</td>\n",
       "      <td>3.75</td>\n",
       "      <td>3- B,S,C</td>\n",
       "    </tr>\n",
       "    <tr>\n",
       "      <th>2</th>\n",
       "      <td>2704</td>\n",
       "      <td>Fresco</td>\n",
       "      <td>U.S.A.</td>\n",
       "      <td>2021</td>\n",
       "      <td>Madagascar</td>\n",
       "      <td>Sambirano V., #290, MR MC, batch 21-454</td>\n",
       "      <td>70.0</td>\n",
       "      <td>6</td>\n",
       "      <td>raspberry, mild sour, cocoa</td>\n",
       "      <td>3.50</td>\n",
       "      <td>3- B,S,C</td>\n",
       "    </tr>\n",
       "    <tr>\n",
       "      <th>3</th>\n",
       "      <td>2644</td>\n",
       "      <td>Fresco</td>\n",
       "      <td>U.S.A.</td>\n",
       "      <td>2021</td>\n",
       "      <td>Nicaragua</td>\n",
       "      <td>O'Payo Profundo, Waslala, MR-MC, #271, b. 21-431</td>\n",
       "      <td>70.0</td>\n",
       "      <td>6</td>\n",
       "      <td>oily, black licorice, spicey</td>\n",
       "      <td>3.50</td>\n",
       "      <td>3- B,S,C</td>\n",
       "    </tr>\n",
       "    <tr>\n",
       "      <th>4</th>\n",
       "      <td>2642</td>\n",
       "      <td>Fresco</td>\n",
       "      <td>U.S.A.</td>\n",
       "      <td>2021</td>\n",
       "      <td>Ghana</td>\n",
       "      <td>ABOCFA, #261, DR-MC, batch 21-448</td>\n",
       "      <td>68.0</td>\n",
       "      <td>6</td>\n",
       "      <td>fudgey, spicey, nutty</td>\n",
       "      <td>3.50</td>\n",
       "      <td>3- B,S,C</td>\n",
       "    </tr>\n",
       "    <tr>\n",
       "      <th>5</th>\n",
       "      <td>2708</td>\n",
       "      <td>Fresco</td>\n",
       "      <td>U.S.A.</td>\n",
       "      <td>2021</td>\n",
       "      <td>Peru</td>\n",
       "      <td>Lamas, Oro Verde, #282, DR MC, batch 21-451</td>\n",
       "      <td>74.0</td>\n",
       "      <td>6</td>\n",
       "      <td>spicey, herbal, ripe, sl. burnt</td>\n",
       "      <td>3.25</td>\n",
       "      <td>3- B,S,C</td>\n",
       "    </tr>\n",
       "    <tr>\n",
       "      <th>6</th>\n",
       "      <td>2642</td>\n",
       "      <td>Fresco</td>\n",
       "      <td>U.S.A.</td>\n",
       "      <td>2021</td>\n",
       "      <td>Ghana</td>\n",
       "      <td>ABOCFA, #260, LR-SC, batch 20-335</td>\n",
       "      <td>68.0</td>\n",
       "      <td>6</td>\n",
       "      <td>coconut, high astringency</td>\n",
       "      <td>3.25</td>\n",
       "      <td>3- B,S,C</td>\n",
       "    </tr>\n",
       "    <tr>\n",
       "      <th>7</th>\n",
       "      <td>2708</td>\n",
       "      <td>Fresco</td>\n",
       "      <td>U.S.A.</td>\n",
       "      <td>2021</td>\n",
       "      <td>Peru</td>\n",
       "      <td>Lamas, Oro Verde, #280, MR 0C, batch 21-457</td>\n",
       "      <td>74.0</td>\n",
       "      <td>6</td>\n",
       "      <td>licorice, caramel, floral, dirty</td>\n",
       "      <td>3.00</td>\n",
       "      <td>3- B,S,C</td>\n",
       "    </tr>\n",
       "    <tr>\n",
       "      <th>8</th>\n",
       "      <td>2712</td>\n",
       "      <td>Fossa</td>\n",
       "      <td>Singapore</td>\n",
       "      <td>2021</td>\n",
       "      <td>Malaysia</td>\n",
       "      <td>Semai Community, Kamping Long B, Pahang</td>\n",
       "      <td>72.0</td>\n",
       "      <td>2</td>\n",
       "      <td>dairy, cocoa, mild sour</td>\n",
       "      <td>3.50</td>\n",
       "      <td>2- B,S</td>\n",
       "    </tr>\n",
       "    <tr>\n",
       "      <th>9</th>\n",
       "      <td>2712</td>\n",
       "      <td>Fossa</td>\n",
       "      <td>Singapore</td>\n",
       "      <td>2021</td>\n",
       "      <td>Indonesia</td>\n",
       "      <td>Burang, Popayato-Paquat microlot, Goranulo Pro...</td>\n",
       "      <td>72.0</td>\n",
       "      <td>2</td>\n",
       "      <td>dried fruit (fig), black licorice</td>\n",
       "      <td>3.50</td>\n",
       "      <td>2- B,S</td>\n",
       "    </tr>\n",
       "  </tbody>\n",
       "</table>\n",
       "</div>"
      ],
      "text/plain": [
       "    REF Company   Location  Review_Date Bean_Origin  \\\n",
       "0  2644  Fresco     U.S.A.         2021   Venezuela   \n",
       "1  2644  Fresco     U.S.A.         2021   Nicaragua   \n",
       "2  2704  Fresco     U.S.A.         2021  Madagascar   \n",
       "3  2644  Fresco     U.S.A.         2021   Nicaragua   \n",
       "4  2642  Fresco     U.S.A.         2021       Ghana   \n",
       "5  2708  Fresco     U.S.A.         2021        Peru   \n",
       "6  2642  Fresco     U.S.A.         2021       Ghana   \n",
       "7  2708  Fresco     U.S.A.         2021        Peru   \n",
       "8  2712   Fossa  Singapore         2021    Malaysia   \n",
       "9  2712   Fossa  Singapore         2021   Indonesia   \n",
       "\n",
       "                                            Bar_Name  Cocoa_%  Enc_ingr  \\\n",
       "0                 Chuao Village, BR-SC, batch 21-437     68.0         6   \n",
       "1   O'Payo Profundo, Waslala, DR-LC, #271, b. 21-433     70.0         6   \n",
       "2            Sambirano V., #290, MR MC, batch 21-454     70.0         6   \n",
       "3   O'Payo Profundo, Waslala, MR-MC, #271, b. 21-431     70.0         6   \n",
       "4                  ABOCFA, #261, DR-MC, batch 21-448     68.0         6   \n",
       "5        Lamas, Oro Verde, #282, DR MC, batch 21-451     74.0         6   \n",
       "6                  ABOCFA, #260, LR-SC, batch 20-335     68.0         6   \n",
       "7        Lamas, Oro Verde, #280, MR 0C, batch 21-457     74.0         6   \n",
       "8            Semai Community, Kamping Long B, Pahang     72.0         2   \n",
       "9  Burang, Popayato-Paquat microlot, Goranulo Pro...     72.0         2   \n",
       "\n",
       "                     Characteristics  Rating     ingri  \n",
       "0      robust cocoa, dried cranberry    4.00  3- B,S,C  \n",
       "1   rich chocolate, late spice notes    3.75  3- B,S,C  \n",
       "2        raspberry, mild sour, cocoa    3.50  3- B,S,C  \n",
       "3       oily, black licorice, spicey    3.50  3- B,S,C  \n",
       "4              fudgey, spicey, nutty    3.50  3- B,S,C  \n",
       "5    spicey, herbal, ripe, sl. burnt    3.25  3- B,S,C  \n",
       "6          coconut, high astringency    3.25  3- B,S,C  \n",
       "7   licorice, caramel, floral, dirty    3.00  3- B,S,C  \n",
       "8            dairy, cocoa, mild sour    3.50    2- B,S  \n",
       "9  dried fruit (fig), black licorice    3.50    2- B,S  "
      ]
     },
     "execution_count": 61,
     "metadata": {},
     "output_type": "execute_result"
    }
   ],
   "source": [
    "df2.head(10)"
   ]
  },
  {
   "cell_type": "code",
   "execution_count": 62,
   "id": "b33a136d",
   "metadata": {},
   "outputs": [
    {
     "data": {
      "text/plain": [
       "(2443, 11)"
      ]
     },
     "execution_count": 62,
     "metadata": {},
     "output_type": "execute_result"
    }
   ],
   "source": [
    "df2.shape"
   ]
  },
  {
   "cell_type": "code",
   "execution_count": 63,
   "id": "c71010dc",
   "metadata": {},
   "outputs": [
    {
     "data": {
      "text/plain": [
       "REF                0\n",
       "Company            0\n",
       "Location           0\n",
       "Review_Date        0\n",
       "Bean_Origin        0\n",
       "Bar_Name           0\n",
       "Cocoa_%            0\n",
       "Enc_ingr           0\n",
       "Characteristics    0\n",
       "Rating             0\n",
       "ingri              0\n",
       "dtype: int64"
      ]
     },
     "execution_count": 63,
     "metadata": {},
     "output_type": "execute_result"
    }
   ],
   "source": [
    "df2.isna().sum()"
   ]
  },
  {
   "cell_type": "code",
   "execution_count": null,
   "id": "2363d3da",
   "metadata": {},
   "outputs": [],
   "source": []
  },
  {
   "cell_type": "code",
   "execution_count": 65,
   "id": "9c69cbf0",
   "metadata": {},
   "outputs": [
    {
     "data": {
      "text/plain": [
       "6"
      ]
     },
     "execution_count": 65,
     "metadata": {},
     "output_type": "execute_result"
    }
   ],
   "source": [
    "len(marks)"
   ]
  },
  {
   "cell_type": "code",
   "execution_count": 66,
   "id": "cf4ebaaa",
   "metadata": {},
   "outputs": [],
   "source": [
    "name=\"Exotic\"\n",
    "lname=list(name)\n",
    "new_dict={\"Name\":lname,\"Values\":marks}"
   ]
  },
  {
   "cell_type": "code",
   "execution_count": 67,
   "id": "0481679e",
   "metadata": {},
   "outputs": [],
   "source": [
    "new_df=pd.DataFrame(new_dict)"
   ]
  },
  {
   "cell_type": "code",
   "execution_count": 68,
   "id": "d405e99e",
   "metadata": {},
   "outputs": [
    {
     "data": {
      "text/html": [
       "<div>\n",
       "<style scoped>\n",
       "    .dataframe tbody tr th:only-of-type {\n",
       "        vertical-align: middle;\n",
       "    }\n",
       "\n",
       "    .dataframe tbody tr th {\n",
       "        vertical-align: top;\n",
       "    }\n",
       "\n",
       "    .dataframe thead th {\n",
       "        text-align: right;\n",
       "    }\n",
       "</style>\n",
       "<table border=\"1\" class=\"dataframe\">\n",
       "  <thead>\n",
       "    <tr style=\"text-align: right;\">\n",
       "      <th></th>\n",
       "      <th>Name</th>\n",
       "      <th>Values</th>\n",
       "    </tr>\n",
       "  </thead>\n",
       "  <tbody>\n",
       "    <tr>\n",
       "      <th>0</th>\n",
       "      <td>E</td>\n",
       "      <td>76</td>\n",
       "    </tr>\n",
       "    <tr>\n",
       "      <th>1</th>\n",
       "      <td>x</td>\n",
       "      <td>45</td>\n",
       "    </tr>\n",
       "    <tr>\n",
       "      <th>2</th>\n",
       "      <td>o</td>\n",
       "      <td>15</td>\n",
       "    </tr>\n",
       "    <tr>\n",
       "      <th>3</th>\n",
       "      <td>t</td>\n",
       "      <td>57</td>\n",
       "    </tr>\n",
       "    <tr>\n",
       "      <th>4</th>\n",
       "      <td>i</td>\n",
       "      <td>23</td>\n",
       "    </tr>\n",
       "    <tr>\n",
       "      <th>5</th>\n",
       "      <td>c</td>\n",
       "      <td>98</td>\n",
       "    </tr>\n",
       "  </tbody>\n",
       "</table>\n",
       "</div>"
      ],
      "text/plain": [
       "  Name  Values\n",
       "0    E      76\n",
       "1    x      45\n",
       "2    o      15\n",
       "3    t      57\n",
       "4    i      23\n",
       "5    c      98"
      ]
     },
     "execution_count": 68,
     "metadata": {},
     "output_type": "execute_result"
    }
   ],
   "source": [
    "new_df"
   ]
  },
  {
   "cell_type": "code",
   "execution_count": null,
   "id": "c5a6471a",
   "metadata": {},
   "outputs": [],
   "source": []
  },
  {
   "cell_type": "code",
   "execution_count": 70,
   "id": "fed832be",
   "metadata": {},
   "outputs": [
    {
     "data": {
      "text/html": [
       "<div>\n",
       "<style scoped>\n",
       "    .dataframe tbody tr th:only-of-type {\n",
       "        vertical-align: middle;\n",
       "    }\n",
       "\n",
       "    .dataframe tbody tr th {\n",
       "        vertical-align: top;\n",
       "    }\n",
       "\n",
       "    .dataframe thead th {\n",
       "        text-align: right;\n",
       "    }\n",
       "</style>\n",
       "<table border=\"1\" class=\"dataframe\">\n",
       "  <thead>\n",
       "    <tr style=\"text-align: right;\">\n",
       "      <th></th>\n",
       "      <th>REF</th>\n",
       "      <th>Review_Date</th>\n",
       "      <th>Cocoa_%</th>\n",
       "      <th>Enc_ingr</th>\n",
       "      <th>Rating</th>\n",
       "    </tr>\n",
       "  </thead>\n",
       "  <tbody>\n",
       "    <tr>\n",
       "      <th>REF</th>\n",
       "      <td>1.000000</td>\n",
       "      <td>0.993091</td>\n",
       "      <td>0.047576</td>\n",
       "      <td>-0.382096</td>\n",
       "      <td>0.085569</td>\n",
       "    </tr>\n",
       "    <tr>\n",
       "      <th>Review_Date</th>\n",
       "      <td>0.993091</td>\n",
       "      <td>1.000000</td>\n",
       "      <td>0.048043</td>\n",
       "      <td>-0.389441</td>\n",
       "      <td>0.087774</td>\n",
       "    </tr>\n",
       "    <tr>\n",
       "      <th>Cocoa_%</th>\n",
       "      <td>0.047576</td>\n",
       "      <td>0.048043</td>\n",
       "      <td>1.000000</td>\n",
       "      <td>-0.177415</td>\n",
       "      <td>-0.077173</td>\n",
       "    </tr>\n",
       "    <tr>\n",
       "      <th>Enc_ingr</th>\n",
       "      <td>-0.382096</td>\n",
       "      <td>-0.389441</td>\n",
       "      <td>-0.177415</td>\n",
       "      <td>1.000000</td>\n",
       "      <td>-0.124022</td>\n",
       "    </tr>\n",
       "    <tr>\n",
       "      <th>Rating</th>\n",
       "      <td>0.085569</td>\n",
       "      <td>0.087774</td>\n",
       "      <td>-0.077173</td>\n",
       "      <td>-0.124022</td>\n",
       "      <td>1.000000</td>\n",
       "    </tr>\n",
       "  </tbody>\n",
       "</table>\n",
       "</div>"
      ],
      "text/plain": [
       "                  REF  Review_Date   Cocoa_%  Enc_ingr    Rating\n",
       "REF          1.000000     0.993091  0.047576 -0.382096  0.085569\n",
       "Review_Date  0.993091     1.000000  0.048043 -0.389441  0.087774\n",
       "Cocoa_%      0.047576     0.048043  1.000000 -0.177415 -0.077173\n",
       "Enc_ingr    -0.382096    -0.389441 -0.177415  1.000000 -0.124022\n",
       "Rating       0.085569     0.087774 -0.077173 -0.124022  1.000000"
      ]
     },
     "execution_count": 70,
     "metadata": {},
     "output_type": "execute_result"
    }
   ],
   "source": [
    "df2.corr()"
   ]
  },
  {
   "cell_type": "code",
   "execution_count": 71,
   "id": "bfb1870a",
   "metadata": {},
   "outputs": [
    {
     "name": "stdout",
     "output_type": "stream",
     "text": [
      "<class 'pandas.core.frame.DataFrame'>\n",
      "RangeIndex: 2443 entries, 0 to 2442\n",
      "Data columns (total 11 columns):\n",
      " #   Column           Non-Null Count  Dtype  \n",
      "---  ------           --------------  -----  \n",
      " 0   REF              2443 non-null   int64  \n",
      " 1   Company          2443 non-null   object \n",
      " 2   Location         2443 non-null   object \n",
      " 3   Review_Date      2443 non-null   int64  \n",
      " 4   Bean_Origin      2443 non-null   object \n",
      " 5   Bar_Name         2443 non-null   object \n",
      " 6   Cocoa_%          2443 non-null   float64\n",
      " 7   Enc_ingr         2443 non-null   int64  \n",
      " 8   Characteristics  2443 non-null   object \n",
      " 9   Rating           2443 non-null   float64\n",
      " 10  ingri            2443 non-null   object \n",
      "dtypes: float64(2), int64(3), object(6)\n",
      "memory usage: 210.1+ KB\n"
     ]
    }
   ],
   "source": [
    "df2.info()"
   ]
  },
  {
   "cell_type": "code",
   "execution_count": 72,
   "id": "e0af56ae",
   "metadata": {},
   "outputs": [
    {
     "data": {
      "text/html": [
       "<div>\n",
       "<style scoped>\n",
       "    .dataframe tbody tr th:only-of-type {\n",
       "        vertical-align: middle;\n",
       "    }\n",
       "\n",
       "    .dataframe tbody tr th {\n",
       "        vertical-align: top;\n",
       "    }\n",
       "\n",
       "    .dataframe thead th {\n",
       "        text-align: right;\n",
       "    }\n",
       "</style>\n",
       "<table border=\"1\" class=\"dataframe\">\n",
       "  <thead>\n",
       "    <tr style=\"text-align: right;\">\n",
       "      <th></th>\n",
       "      <th>REF</th>\n",
       "      <th>Review_Date</th>\n",
       "      <th>Cocoa_%</th>\n",
       "      <th>Enc_ingr</th>\n",
       "      <th>Rating</th>\n",
       "    </tr>\n",
       "  </thead>\n",
       "  <tbody>\n",
       "    <tr>\n",
       "      <th>count</th>\n",
       "      <td>2443.000000</td>\n",
       "      <td>2443.000000</td>\n",
       "      <td>2443.000000</td>\n",
       "      <td>2443.000000</td>\n",
       "      <td>2443.00000</td>\n",
       "    </tr>\n",
       "    <tr>\n",
       "      <th>mean</th>\n",
       "      <td>1451.520262</td>\n",
       "      <td>2014.485878</td>\n",
       "      <td>71.496725</td>\n",
       "      <td>7.160868</td>\n",
       "      <td>3.21009</td>\n",
       "    </tr>\n",
       "    <tr>\n",
       "      <th>std</th>\n",
       "      <td>755.521714</td>\n",
       "      <td>3.957507</td>\n",
       "      <td>5.156974</td>\n",
       "      <td>5.122407</td>\n",
       "      <td>0.42837</td>\n",
       "    </tr>\n",
       "    <tr>\n",
       "      <th>min</th>\n",
       "      <td>5.000000</td>\n",
       "      <td>2006.000000</td>\n",
       "      <td>42.000000</td>\n",
       "      <td>0.000000</td>\n",
       "      <td>1.00000</td>\n",
       "    </tr>\n",
       "    <tr>\n",
       "      <th>25%</th>\n",
       "      <td>833.000000</td>\n",
       "      <td>2012.000000</td>\n",
       "      <td>70.000000</td>\n",
       "      <td>2.000000</td>\n",
       "      <td>3.00000</td>\n",
       "    </tr>\n",
       "    <tr>\n",
       "      <th>50%</th>\n",
       "      <td>1474.000000</td>\n",
       "      <td>2015.000000</td>\n",
       "      <td>70.000000</td>\n",
       "      <td>6.000000</td>\n",
       "      <td>3.25000</td>\n",
       "    </tr>\n",
       "    <tr>\n",
       "      <th>75%</th>\n",
       "      <td>2100.000000</td>\n",
       "      <td>2018.000000</td>\n",
       "      <td>74.000000</td>\n",
       "      <td>13.000000</td>\n",
       "      <td>3.50000</td>\n",
       "    </tr>\n",
       "    <tr>\n",
       "      <th>max</th>\n",
       "      <td>2712.000000</td>\n",
       "      <td>2021.000000</td>\n",
       "      <td>100.000000</td>\n",
       "      <td>20.000000</td>\n",
       "      <td>4.00000</td>\n",
       "    </tr>\n",
       "  </tbody>\n",
       "</table>\n",
       "</div>"
      ],
      "text/plain": [
       "               REF  Review_Date      Cocoa_%     Enc_ingr      Rating\n",
       "count  2443.000000  2443.000000  2443.000000  2443.000000  2443.00000\n",
       "mean   1451.520262  2014.485878    71.496725     7.160868     3.21009\n",
       "std     755.521714     3.957507     5.156974     5.122407     0.42837\n",
       "min       5.000000  2006.000000    42.000000     0.000000     1.00000\n",
       "25%     833.000000  2012.000000    70.000000     2.000000     3.00000\n",
       "50%    1474.000000  2015.000000    70.000000     6.000000     3.25000\n",
       "75%    2100.000000  2018.000000    74.000000    13.000000     3.50000\n",
       "max    2712.000000  2021.000000   100.000000    20.000000     4.00000"
      ]
     },
     "execution_count": 72,
     "metadata": {},
     "output_type": "execute_result"
    }
   ],
   "source": [
    "df2.describe()"
   ]
  },
  {
   "cell_type": "code",
   "execution_count": null,
   "id": "ce8ae5ac",
   "metadata": {},
   "outputs": [],
   "source": []
  }
 ],
 "metadata": {
  "kernelspec": {
   "display_name": "Python 3",
   "language": "python",
   "name": "python3"
  },
  "language_info": {
   "codemirror_mode": {
    "name": "ipython",
    "version": 3
   },
   "file_extension": ".py",
   "mimetype": "text/x-python",
   "name": "python",
   "nbconvert_exporter": "python",
   "pygments_lexer": "ipython3",
   "version": "3.8.8"
  }
 },
 "nbformat": 4,
 "nbformat_minor": 5
}
