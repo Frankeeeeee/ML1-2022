{
 "cells": [
  {
   "cell_type": "markdown",
   "id": "3a4ca748",
   "metadata": {},
   "source": [
    "# SLR AND MLR on Laptop price dataset"
   ]
  },
  {
   "cell_type": "markdown",
   "id": "d79308b3",
   "metadata": {},
   "source": [
    "**Aparna k**"
   ]
  },
  {
   "cell_type": "markdown",
   "id": "3585fb6d",
   "metadata": {},
   "source": [
    "**21BDA24**"
   ]
  },
  {
   "cell_type": "code",
   "execution_count": 47,
   "id": "c9a61e74",
   "metadata": {},
   "outputs": [],
   "source": [
    "import numpy as np\n",
    "import pandas as pd\n",
    "import seaborn as sns\n",
    "import matplotlib.pyplot as plt\n",
    "from sklearn.linear_model import LinearRegression\n",
    "from sklearn.model_selection import train_test_split\n",
    "sns.set(style=\"darkgrid\")"
   ]
  },
  {
   "cell_type": "code",
   "execution_count": 48,
   "id": "59bd626f",
   "metadata": {},
   "outputs": [],
   "source": [
    "sns.set(rc={'figure.figsize':(11.7,8.27)})"
   ]
  },
  {
   "cell_type": "code",
   "execution_count": 49,
   "id": "6930eec2",
   "metadata": {},
   "outputs": [],
   "source": [
    "df = pd.read_csv(r\"C:\\Users\\acm\\Desktop\\laptop_price.csv\")"
   ]
  },
  {
   "cell_type": "code",
   "execution_count": 50,
   "id": "0a1a9154",
   "metadata": {},
   "outputs": [
    {
     "data": {
      "text/html": [
       "<div>\n",
       "<style scoped>\n",
       "    .dataframe tbody tr th:only-of-type {\n",
       "        vertical-align: middle;\n",
       "    }\n",
       "\n",
       "    .dataframe tbody tr th {\n",
       "        vertical-align: top;\n",
       "    }\n",
       "\n",
       "    .dataframe thead th {\n",
       "        text-align: right;\n",
       "    }\n",
       "</style>\n",
       "<table border=\"1\" class=\"dataframe\">\n",
       "  <thead>\n",
       "    <tr style=\"text-align: right;\">\n",
       "      <th></th>\n",
       "      <th>laptop_ID</th>\n",
       "      <th>Company</th>\n",
       "      <th>Product</th>\n",
       "      <th>TypeName</th>\n",
       "      <th>Inches</th>\n",
       "      <th>ScreenResolution</th>\n",
       "      <th>Cpu</th>\n",
       "      <th>Ram</th>\n",
       "      <th>Memory</th>\n",
       "      <th>Gpu</th>\n",
       "      <th>OpSys</th>\n",
       "      <th>Weight</th>\n",
       "      <th>Price_euros</th>\n",
       "    </tr>\n",
       "  </thead>\n",
       "  <tbody>\n",
       "    <tr>\n",
       "      <th>0</th>\n",
       "      <td>1</td>\n",
       "      <td>Apple</td>\n",
       "      <td>MacBook Pro</td>\n",
       "      <td>Ultrabook</td>\n",
       "      <td>13.3</td>\n",
       "      <td>IPS Panel Retina Display 2560x1600</td>\n",
       "      <td>Intel Core i5 2.3GHz</td>\n",
       "      <td>8GB</td>\n",
       "      <td>128GB SSD</td>\n",
       "      <td>Intel Iris Plus Graphics 640</td>\n",
       "      <td>macOS</td>\n",
       "      <td>1.37kg</td>\n",
       "      <td>1339.69</td>\n",
       "    </tr>\n",
       "    <tr>\n",
       "      <th>1</th>\n",
       "      <td>2</td>\n",
       "      <td>Apple</td>\n",
       "      <td>Macbook Air</td>\n",
       "      <td>Ultrabook</td>\n",
       "      <td>13.3</td>\n",
       "      <td>1440x900</td>\n",
       "      <td>Intel Core i5 1.8GHz</td>\n",
       "      <td>8GB</td>\n",
       "      <td>128GB Flash Storage</td>\n",
       "      <td>Intel HD Graphics 6000</td>\n",
       "      <td>macOS</td>\n",
       "      <td>1.34kg</td>\n",
       "      <td>898.94</td>\n",
       "    </tr>\n",
       "    <tr>\n",
       "      <th>2</th>\n",
       "      <td>3</td>\n",
       "      <td>HP</td>\n",
       "      <td>250 G6</td>\n",
       "      <td>Notebook</td>\n",
       "      <td>15.6</td>\n",
       "      <td>Full HD 1920x1080</td>\n",
       "      <td>Intel Core i5 7200U 2.5GHz</td>\n",
       "      <td>8GB</td>\n",
       "      <td>256GB SSD</td>\n",
       "      <td>Intel HD Graphics 620</td>\n",
       "      <td>No OS</td>\n",
       "      <td>1.86kg</td>\n",
       "      <td>575.00</td>\n",
       "    </tr>\n",
       "    <tr>\n",
       "      <th>3</th>\n",
       "      <td>4</td>\n",
       "      <td>Apple</td>\n",
       "      <td>MacBook Pro</td>\n",
       "      <td>Ultrabook</td>\n",
       "      <td>15.4</td>\n",
       "      <td>IPS Panel Retina Display 2880x1800</td>\n",
       "      <td>Intel Core i7 2.7GHz</td>\n",
       "      <td>16GB</td>\n",
       "      <td>512GB SSD</td>\n",
       "      <td>AMD Radeon Pro 455</td>\n",
       "      <td>macOS</td>\n",
       "      <td>1.83kg</td>\n",
       "      <td>2537.45</td>\n",
       "    </tr>\n",
       "    <tr>\n",
       "      <th>4</th>\n",
       "      <td>5</td>\n",
       "      <td>Apple</td>\n",
       "      <td>MacBook Pro</td>\n",
       "      <td>Ultrabook</td>\n",
       "      <td>13.3</td>\n",
       "      <td>IPS Panel Retina Display 2560x1600</td>\n",
       "      <td>Intel Core i5 3.1GHz</td>\n",
       "      <td>8GB</td>\n",
       "      <td>256GB SSD</td>\n",
       "      <td>Intel Iris Plus Graphics 650</td>\n",
       "      <td>macOS</td>\n",
       "      <td>1.37kg</td>\n",
       "      <td>1803.60</td>\n",
       "    </tr>\n",
       "    <tr>\n",
       "      <th>...</th>\n",
       "      <td>...</td>\n",
       "      <td>...</td>\n",
       "      <td>...</td>\n",
       "      <td>...</td>\n",
       "      <td>...</td>\n",
       "      <td>...</td>\n",
       "      <td>...</td>\n",
       "      <td>...</td>\n",
       "      <td>...</td>\n",
       "      <td>...</td>\n",
       "      <td>...</td>\n",
       "      <td>...</td>\n",
       "      <td>...</td>\n",
       "    </tr>\n",
       "    <tr>\n",
       "      <th>1298</th>\n",
       "      <td>1316</td>\n",
       "      <td>Lenovo</td>\n",
       "      <td>Yoga 500-14ISK</td>\n",
       "      <td>2 in 1 Convertible</td>\n",
       "      <td>14.0</td>\n",
       "      <td>IPS Panel Full HD / Touchscreen 1920x1080</td>\n",
       "      <td>Intel Core i7 6500U 2.5GHz</td>\n",
       "      <td>4GB</td>\n",
       "      <td>128GB SSD</td>\n",
       "      <td>Intel HD Graphics 520</td>\n",
       "      <td>Windows 10</td>\n",
       "      <td>1.8kg</td>\n",
       "      <td>638.00</td>\n",
       "    </tr>\n",
       "    <tr>\n",
       "      <th>1299</th>\n",
       "      <td>1317</td>\n",
       "      <td>Lenovo</td>\n",
       "      <td>Yoga 900-13ISK</td>\n",
       "      <td>2 in 1 Convertible</td>\n",
       "      <td>13.3</td>\n",
       "      <td>IPS Panel Quad HD+ / Touchscreen 3200x1800</td>\n",
       "      <td>Intel Core i7 6500U 2.5GHz</td>\n",
       "      <td>16GB</td>\n",
       "      <td>512GB SSD</td>\n",
       "      <td>Intel HD Graphics 520</td>\n",
       "      <td>Windows 10</td>\n",
       "      <td>1.3kg</td>\n",
       "      <td>1499.00</td>\n",
       "    </tr>\n",
       "    <tr>\n",
       "      <th>1300</th>\n",
       "      <td>1318</td>\n",
       "      <td>Lenovo</td>\n",
       "      <td>IdeaPad 100S-14IBR</td>\n",
       "      <td>Notebook</td>\n",
       "      <td>14.0</td>\n",
       "      <td>1366x768</td>\n",
       "      <td>Intel Celeron Dual Core N3050 1.6GHz</td>\n",
       "      <td>2GB</td>\n",
       "      <td>64GB Flash Storage</td>\n",
       "      <td>Intel HD Graphics</td>\n",
       "      <td>Windows 10</td>\n",
       "      <td>1.5kg</td>\n",
       "      <td>229.00</td>\n",
       "    </tr>\n",
       "    <tr>\n",
       "      <th>1301</th>\n",
       "      <td>1319</td>\n",
       "      <td>HP</td>\n",
       "      <td>15-AC110nv (i7-6500U/6GB/1TB/Radeon</td>\n",
       "      <td>Notebook</td>\n",
       "      <td>15.6</td>\n",
       "      <td>1366x768</td>\n",
       "      <td>Intel Core i7 6500U 2.5GHz</td>\n",
       "      <td>6GB</td>\n",
       "      <td>1TB HDD</td>\n",
       "      <td>AMD Radeon R5 M330</td>\n",
       "      <td>Windows 10</td>\n",
       "      <td>2.19kg</td>\n",
       "      <td>764.00</td>\n",
       "    </tr>\n",
       "    <tr>\n",
       "      <th>1302</th>\n",
       "      <td>1320</td>\n",
       "      <td>Asus</td>\n",
       "      <td>X553SA-XX031T (N3050/4GB/500GB/W10)</td>\n",
       "      <td>Notebook</td>\n",
       "      <td>15.6</td>\n",
       "      <td>1366x768</td>\n",
       "      <td>Intel Celeron Dual Core N3050 1.6GHz</td>\n",
       "      <td>4GB</td>\n",
       "      <td>500GB HDD</td>\n",
       "      <td>Intel HD Graphics</td>\n",
       "      <td>Windows 10</td>\n",
       "      <td>2.2kg</td>\n",
       "      <td>369.00</td>\n",
       "    </tr>\n",
       "  </tbody>\n",
       "</table>\n",
       "<p>1303 rows × 13 columns</p>\n",
       "</div>"
      ],
      "text/plain": [
       "      laptop_ID Company                              Product  \\\n",
       "0             1   Apple                          MacBook Pro   \n",
       "1             2   Apple                          Macbook Air   \n",
       "2             3      HP                               250 G6   \n",
       "3             4   Apple                          MacBook Pro   \n",
       "4             5   Apple                          MacBook Pro   \n",
       "...         ...     ...                                  ...   \n",
       "1298       1316  Lenovo                       Yoga 500-14ISK   \n",
       "1299       1317  Lenovo                       Yoga 900-13ISK   \n",
       "1300       1318  Lenovo                   IdeaPad 100S-14IBR   \n",
       "1301       1319      HP  15-AC110nv (i7-6500U/6GB/1TB/Radeon   \n",
       "1302       1320    Asus  X553SA-XX031T (N3050/4GB/500GB/W10)   \n",
       "\n",
       "                TypeName  Inches                            ScreenResolution  \\\n",
       "0              Ultrabook    13.3          IPS Panel Retina Display 2560x1600   \n",
       "1              Ultrabook    13.3                                    1440x900   \n",
       "2               Notebook    15.6                           Full HD 1920x1080   \n",
       "3              Ultrabook    15.4          IPS Panel Retina Display 2880x1800   \n",
       "4              Ultrabook    13.3          IPS Panel Retina Display 2560x1600   \n",
       "...                  ...     ...                                         ...   \n",
       "1298  2 in 1 Convertible    14.0   IPS Panel Full HD / Touchscreen 1920x1080   \n",
       "1299  2 in 1 Convertible    13.3  IPS Panel Quad HD+ / Touchscreen 3200x1800   \n",
       "1300            Notebook    14.0                                    1366x768   \n",
       "1301            Notebook    15.6                                    1366x768   \n",
       "1302            Notebook    15.6                                    1366x768   \n",
       "\n",
       "                                       Cpu   Ram               Memory  \\\n",
       "0                     Intel Core i5 2.3GHz   8GB            128GB SSD   \n",
       "1                     Intel Core i5 1.8GHz   8GB  128GB Flash Storage   \n",
       "2               Intel Core i5 7200U 2.5GHz   8GB            256GB SSD   \n",
       "3                     Intel Core i7 2.7GHz  16GB            512GB SSD   \n",
       "4                     Intel Core i5 3.1GHz   8GB            256GB SSD   \n",
       "...                                    ...   ...                  ...   \n",
       "1298            Intel Core i7 6500U 2.5GHz   4GB            128GB SSD   \n",
       "1299            Intel Core i7 6500U 2.5GHz  16GB            512GB SSD   \n",
       "1300  Intel Celeron Dual Core N3050 1.6GHz   2GB   64GB Flash Storage   \n",
       "1301            Intel Core i7 6500U 2.5GHz   6GB              1TB HDD   \n",
       "1302  Intel Celeron Dual Core N3050 1.6GHz   4GB            500GB HDD   \n",
       "\n",
       "                               Gpu       OpSys  Weight  Price_euros  \n",
       "0     Intel Iris Plus Graphics 640       macOS  1.37kg      1339.69  \n",
       "1           Intel HD Graphics 6000       macOS  1.34kg       898.94  \n",
       "2            Intel HD Graphics 620       No OS  1.86kg       575.00  \n",
       "3               AMD Radeon Pro 455       macOS  1.83kg      2537.45  \n",
       "4     Intel Iris Plus Graphics 650       macOS  1.37kg      1803.60  \n",
       "...                            ...         ...     ...          ...  \n",
       "1298         Intel HD Graphics 520  Windows 10   1.8kg       638.00  \n",
       "1299         Intel HD Graphics 520  Windows 10   1.3kg      1499.00  \n",
       "1300             Intel HD Graphics  Windows 10   1.5kg       229.00  \n",
       "1301            AMD Radeon R5 M330  Windows 10  2.19kg       764.00  \n",
       "1302             Intel HD Graphics  Windows 10   2.2kg       369.00  \n",
       "\n",
       "[1303 rows x 13 columns]"
      ]
     },
     "execution_count": 50,
     "metadata": {},
     "output_type": "execute_result"
    }
   ],
   "source": [
    "df"
   ]
  },
  {
   "cell_type": "code",
   "execution_count": 51,
   "id": "523b9004",
   "metadata": {},
   "outputs": [],
   "source": [
    "df['Ram'] = df['Ram'].replace('[GB]', '', regex=True)\n",
    "df['Ram'] = pd.to_numeric(df['Ram'])\n",
    "df.rename(columns={'Ram':'Ram (GB)'}, inplace=True)"
   ]
  },
  {
   "cell_type": "code",
   "execution_count": 52,
   "id": "57f38287",
   "metadata": {},
   "outputs": [],
   "source": [
    "df['Weight'] = df['Weight'].replace('[kg]', '', regex=True)\n",
    "df['Weight'] = pd.to_numeric(df['Weight'])\n",
    "df.rename(columns={'Weight':'Weight (Kg)'}, inplace=True)"
   ]
  },
  {
   "cell_type": "code",
   "execution_count": 53,
   "id": "140501be",
   "metadata": {},
   "outputs": [
    {
     "data": {
      "text/html": [
       "<div>\n",
       "<style scoped>\n",
       "    .dataframe tbody tr th:only-of-type {\n",
       "        vertical-align: middle;\n",
       "    }\n",
       "\n",
       "    .dataframe tbody tr th {\n",
       "        vertical-align: top;\n",
       "    }\n",
       "\n",
       "    .dataframe thead th {\n",
       "        text-align: right;\n",
       "    }\n",
       "</style>\n",
       "<table border=\"1\" class=\"dataframe\">\n",
       "  <thead>\n",
       "    <tr style=\"text-align: right;\">\n",
       "      <th></th>\n",
       "      <th>laptop_ID</th>\n",
       "      <th>Company</th>\n",
       "      <th>Product</th>\n",
       "      <th>TypeName</th>\n",
       "      <th>Inches</th>\n",
       "      <th>ScreenResolution</th>\n",
       "      <th>Cpu</th>\n",
       "      <th>Ram (GB)</th>\n",
       "      <th>Memory</th>\n",
       "      <th>Gpu</th>\n",
       "      <th>OpSys</th>\n",
       "      <th>Weight (Kg)</th>\n",
       "      <th>Price_euros</th>\n",
       "    </tr>\n",
       "  </thead>\n",
       "  <tbody>\n",
       "    <tr>\n",
       "      <th>0</th>\n",
       "      <td>1</td>\n",
       "      <td>Apple</td>\n",
       "      <td>MacBook Pro</td>\n",
       "      <td>Ultrabook</td>\n",
       "      <td>13.3</td>\n",
       "      <td>IPS Panel Retina Display 2560x1600</td>\n",
       "      <td>Intel Core i5 2.3GHz</td>\n",
       "      <td>8</td>\n",
       "      <td>128GB SSD</td>\n",
       "      <td>Intel Iris Plus Graphics 640</td>\n",
       "      <td>macOS</td>\n",
       "      <td>1.37</td>\n",
       "      <td>1339.69</td>\n",
       "    </tr>\n",
       "    <tr>\n",
       "      <th>1</th>\n",
       "      <td>2</td>\n",
       "      <td>Apple</td>\n",
       "      <td>Macbook Air</td>\n",
       "      <td>Ultrabook</td>\n",
       "      <td>13.3</td>\n",
       "      <td>1440x900</td>\n",
       "      <td>Intel Core i5 1.8GHz</td>\n",
       "      <td>8</td>\n",
       "      <td>128GB Flash Storage</td>\n",
       "      <td>Intel HD Graphics 6000</td>\n",
       "      <td>macOS</td>\n",
       "      <td>1.34</td>\n",
       "      <td>898.94</td>\n",
       "    </tr>\n",
       "    <tr>\n",
       "      <th>2</th>\n",
       "      <td>3</td>\n",
       "      <td>HP</td>\n",
       "      <td>250 G6</td>\n",
       "      <td>Notebook</td>\n",
       "      <td>15.6</td>\n",
       "      <td>Full HD 1920x1080</td>\n",
       "      <td>Intel Core i5 7200U 2.5GHz</td>\n",
       "      <td>8</td>\n",
       "      <td>256GB SSD</td>\n",
       "      <td>Intel HD Graphics 620</td>\n",
       "      <td>No OS</td>\n",
       "      <td>1.86</td>\n",
       "      <td>575.00</td>\n",
       "    </tr>\n",
       "    <tr>\n",
       "      <th>3</th>\n",
       "      <td>4</td>\n",
       "      <td>Apple</td>\n",
       "      <td>MacBook Pro</td>\n",
       "      <td>Ultrabook</td>\n",
       "      <td>15.4</td>\n",
       "      <td>IPS Panel Retina Display 2880x1800</td>\n",
       "      <td>Intel Core i7 2.7GHz</td>\n",
       "      <td>16</td>\n",
       "      <td>512GB SSD</td>\n",
       "      <td>AMD Radeon Pro 455</td>\n",
       "      <td>macOS</td>\n",
       "      <td>1.83</td>\n",
       "      <td>2537.45</td>\n",
       "    </tr>\n",
       "    <tr>\n",
       "      <th>4</th>\n",
       "      <td>5</td>\n",
       "      <td>Apple</td>\n",
       "      <td>MacBook Pro</td>\n",
       "      <td>Ultrabook</td>\n",
       "      <td>13.3</td>\n",
       "      <td>IPS Panel Retina Display 2560x1600</td>\n",
       "      <td>Intel Core i5 3.1GHz</td>\n",
       "      <td>8</td>\n",
       "      <td>256GB SSD</td>\n",
       "      <td>Intel Iris Plus Graphics 650</td>\n",
       "      <td>macOS</td>\n",
       "      <td>1.37</td>\n",
       "      <td>1803.60</td>\n",
       "    </tr>\n",
       "    <tr>\n",
       "      <th>...</th>\n",
       "      <td>...</td>\n",
       "      <td>...</td>\n",
       "      <td>...</td>\n",
       "      <td>...</td>\n",
       "      <td>...</td>\n",
       "      <td>...</td>\n",
       "      <td>...</td>\n",
       "      <td>...</td>\n",
       "      <td>...</td>\n",
       "      <td>...</td>\n",
       "      <td>...</td>\n",
       "      <td>...</td>\n",
       "      <td>...</td>\n",
       "    </tr>\n",
       "    <tr>\n",
       "      <th>1298</th>\n",
       "      <td>1316</td>\n",
       "      <td>Lenovo</td>\n",
       "      <td>Yoga 500-14ISK</td>\n",
       "      <td>2 in 1 Convertible</td>\n",
       "      <td>14.0</td>\n",
       "      <td>IPS Panel Full HD / Touchscreen 1920x1080</td>\n",
       "      <td>Intel Core i7 6500U 2.5GHz</td>\n",
       "      <td>4</td>\n",
       "      <td>128GB SSD</td>\n",
       "      <td>Intel HD Graphics 520</td>\n",
       "      <td>Windows 10</td>\n",
       "      <td>1.80</td>\n",
       "      <td>638.00</td>\n",
       "    </tr>\n",
       "    <tr>\n",
       "      <th>1299</th>\n",
       "      <td>1317</td>\n",
       "      <td>Lenovo</td>\n",
       "      <td>Yoga 900-13ISK</td>\n",
       "      <td>2 in 1 Convertible</td>\n",
       "      <td>13.3</td>\n",
       "      <td>IPS Panel Quad HD+ / Touchscreen 3200x1800</td>\n",
       "      <td>Intel Core i7 6500U 2.5GHz</td>\n",
       "      <td>16</td>\n",
       "      <td>512GB SSD</td>\n",
       "      <td>Intel HD Graphics 520</td>\n",
       "      <td>Windows 10</td>\n",
       "      <td>1.30</td>\n",
       "      <td>1499.00</td>\n",
       "    </tr>\n",
       "    <tr>\n",
       "      <th>1300</th>\n",
       "      <td>1318</td>\n",
       "      <td>Lenovo</td>\n",
       "      <td>IdeaPad 100S-14IBR</td>\n",
       "      <td>Notebook</td>\n",
       "      <td>14.0</td>\n",
       "      <td>1366x768</td>\n",
       "      <td>Intel Celeron Dual Core N3050 1.6GHz</td>\n",
       "      <td>2</td>\n",
       "      <td>64GB Flash Storage</td>\n",
       "      <td>Intel HD Graphics</td>\n",
       "      <td>Windows 10</td>\n",
       "      <td>1.50</td>\n",
       "      <td>229.00</td>\n",
       "    </tr>\n",
       "    <tr>\n",
       "      <th>1301</th>\n",
       "      <td>1319</td>\n",
       "      <td>HP</td>\n",
       "      <td>15-AC110nv (i7-6500U/6GB/1TB/Radeon</td>\n",
       "      <td>Notebook</td>\n",
       "      <td>15.6</td>\n",
       "      <td>1366x768</td>\n",
       "      <td>Intel Core i7 6500U 2.5GHz</td>\n",
       "      <td>6</td>\n",
       "      <td>1TB HDD</td>\n",
       "      <td>AMD Radeon R5 M330</td>\n",
       "      <td>Windows 10</td>\n",
       "      <td>2.19</td>\n",
       "      <td>764.00</td>\n",
       "    </tr>\n",
       "    <tr>\n",
       "      <th>1302</th>\n",
       "      <td>1320</td>\n",
       "      <td>Asus</td>\n",
       "      <td>X553SA-XX031T (N3050/4GB/500GB/W10)</td>\n",
       "      <td>Notebook</td>\n",
       "      <td>15.6</td>\n",
       "      <td>1366x768</td>\n",
       "      <td>Intel Celeron Dual Core N3050 1.6GHz</td>\n",
       "      <td>4</td>\n",
       "      <td>500GB HDD</td>\n",
       "      <td>Intel HD Graphics</td>\n",
       "      <td>Windows 10</td>\n",
       "      <td>2.20</td>\n",
       "      <td>369.00</td>\n",
       "    </tr>\n",
       "  </tbody>\n",
       "</table>\n",
       "<p>1303 rows × 13 columns</p>\n",
       "</div>"
      ],
      "text/plain": [
       "      laptop_ID Company                              Product  \\\n",
       "0             1   Apple                          MacBook Pro   \n",
       "1             2   Apple                          Macbook Air   \n",
       "2             3      HP                               250 G6   \n",
       "3             4   Apple                          MacBook Pro   \n",
       "4             5   Apple                          MacBook Pro   \n",
       "...         ...     ...                                  ...   \n",
       "1298       1316  Lenovo                       Yoga 500-14ISK   \n",
       "1299       1317  Lenovo                       Yoga 900-13ISK   \n",
       "1300       1318  Lenovo                   IdeaPad 100S-14IBR   \n",
       "1301       1319      HP  15-AC110nv (i7-6500U/6GB/1TB/Radeon   \n",
       "1302       1320    Asus  X553SA-XX031T (N3050/4GB/500GB/W10)   \n",
       "\n",
       "                TypeName  Inches                            ScreenResolution  \\\n",
       "0              Ultrabook    13.3          IPS Panel Retina Display 2560x1600   \n",
       "1              Ultrabook    13.3                                    1440x900   \n",
       "2               Notebook    15.6                           Full HD 1920x1080   \n",
       "3              Ultrabook    15.4          IPS Panel Retina Display 2880x1800   \n",
       "4              Ultrabook    13.3          IPS Panel Retina Display 2560x1600   \n",
       "...                  ...     ...                                         ...   \n",
       "1298  2 in 1 Convertible    14.0   IPS Panel Full HD / Touchscreen 1920x1080   \n",
       "1299  2 in 1 Convertible    13.3  IPS Panel Quad HD+ / Touchscreen 3200x1800   \n",
       "1300            Notebook    14.0                                    1366x768   \n",
       "1301            Notebook    15.6                                    1366x768   \n",
       "1302            Notebook    15.6                                    1366x768   \n",
       "\n",
       "                                       Cpu  Ram (GB)               Memory  \\\n",
       "0                     Intel Core i5 2.3GHz         8            128GB SSD   \n",
       "1                     Intel Core i5 1.8GHz         8  128GB Flash Storage   \n",
       "2               Intel Core i5 7200U 2.5GHz         8            256GB SSD   \n",
       "3                     Intel Core i7 2.7GHz        16            512GB SSD   \n",
       "4                     Intel Core i5 3.1GHz         8            256GB SSD   \n",
       "...                                    ...       ...                  ...   \n",
       "1298            Intel Core i7 6500U 2.5GHz         4            128GB SSD   \n",
       "1299            Intel Core i7 6500U 2.5GHz        16            512GB SSD   \n",
       "1300  Intel Celeron Dual Core N3050 1.6GHz         2   64GB Flash Storage   \n",
       "1301            Intel Core i7 6500U 2.5GHz         6              1TB HDD   \n",
       "1302  Intel Celeron Dual Core N3050 1.6GHz         4            500GB HDD   \n",
       "\n",
       "                               Gpu       OpSys  Weight (Kg)  Price_euros  \n",
       "0     Intel Iris Plus Graphics 640       macOS         1.37      1339.69  \n",
       "1           Intel HD Graphics 6000       macOS         1.34       898.94  \n",
       "2            Intel HD Graphics 620       No OS         1.86       575.00  \n",
       "3               AMD Radeon Pro 455       macOS         1.83      2537.45  \n",
       "4     Intel Iris Plus Graphics 650       macOS         1.37      1803.60  \n",
       "...                            ...         ...          ...          ...  \n",
       "1298         Intel HD Graphics 520  Windows 10         1.80       638.00  \n",
       "1299         Intel HD Graphics 520  Windows 10         1.30      1499.00  \n",
       "1300             Intel HD Graphics  Windows 10         1.50       229.00  \n",
       "1301            AMD Radeon R5 M330  Windows 10         2.19       764.00  \n",
       "1302             Intel HD Graphics  Windows 10         2.20       369.00  \n",
       "\n",
       "[1303 rows x 13 columns]"
      ]
     },
     "execution_count": 53,
     "metadata": {},
     "output_type": "execute_result"
    }
   ],
   "source": [
    "df"
   ]
  },
  {
   "cell_type": "code",
   "execution_count": 9,
   "id": "bc66e6cf",
   "metadata": {},
   "outputs": [
    {
     "data": {
      "text/plain": [
       "<AxesSubplot:xlabel='Inches', ylabel='Price_euros'>"
      ]
     },
     "execution_count": 9,
     "metadata": {},
     "output_type": "execute_result"
    },
    {
     "data": {
      "image/png": "[encoded data removed]",
      "text/plain": [
       "<Figure size 842.4x595.44 with 1 Axes>"
      ]
     },
     "metadata": {},
     "output_type": "display_data"
    }
   ],
   "source": [
    "sns.regplot(x=\"Inches\", y=\"Price_euros\", data = df)"
   ]
  },
  {
   "cell_type": "markdown",
   "id": "7409d9ae",
   "metadata": {},
   "source": [
    "**Linear Regression**"
   ]
  },
  {
   "cell_type": "code",
   "execution_count": 10,
   "id": "41cbf6fc",
   "metadata": {},
   "outputs": [
    {
     "data": {
      "text/plain": [
       "Index(['laptop_ID', 'Company', 'Product', 'TypeName', 'Inches',\n",
       "       'ScreenResolution', 'Cpu', 'Ram', 'Memory', 'Gpu', 'OpSys', 'Weight',\n",
       "       'Price_euros'],\n",
       "      dtype='object')"
      ]
     },
     "execution_count": 10,
     "metadata": {},
     "output_type": "execute_result"
    }
   ],
   "source": [
    "df.columns"
   ]
  },
  {
   "cell_type": "code",
   "execution_count": 12,
   "id": "64d669b8",
   "metadata": {},
   "outputs": [],
   "source": [
    "model_df = df[['Inches', 'Price_euros']]"
   ]
  },
  {
   "cell_type": "code",
   "execution_count": 13,
   "id": "748ae66d",
   "metadata": {},
   "outputs": [
    {
     "data": {
      "text/html": [
       "<div>\n",
       "<style scoped>\n",
       "    .dataframe tbody tr th:only-of-type {\n",
       "        vertical-align: middle;\n",
       "    }\n",
       "\n",
       "    .dataframe tbody tr th {\n",
       "        vertical-align: top;\n",
       "    }\n",
       "\n",
       "    .dataframe thead th {\n",
       "        text-align: right;\n",
       "    }\n",
       "</style>\n",
       "<table border=\"1\" class=\"dataframe\">\n",
       "  <thead>\n",
       "    <tr style=\"text-align: right;\">\n",
       "      <th></th>\n",
       "      <th>Inches</th>\n",
       "      <th>Price_euros</th>\n",
       "    </tr>\n",
       "  </thead>\n",
       "  <tbody>\n",
       "    <tr>\n",
       "      <th>0</th>\n",
       "      <td>13.3</td>\n",
       "      <td>1339.69</td>\n",
       "    </tr>\n",
       "    <tr>\n",
       "      <th>1</th>\n",
       "      <td>13.3</td>\n",
       "      <td>898.94</td>\n",
       "    </tr>\n",
       "    <tr>\n",
       "      <th>2</th>\n",
       "      <td>15.6</td>\n",
       "      <td>575.00</td>\n",
       "    </tr>\n",
       "    <tr>\n",
       "      <th>3</th>\n",
       "      <td>15.4</td>\n",
       "      <td>2537.45</td>\n",
       "    </tr>\n",
       "    <tr>\n",
       "      <th>4</th>\n",
       "      <td>13.3</td>\n",
       "      <td>1803.60</td>\n",
       "    </tr>\n",
       "    <tr>\n",
       "      <th>...</th>\n",
       "      <td>...</td>\n",
       "      <td>...</td>\n",
       "    </tr>\n",
       "    <tr>\n",
       "      <th>1298</th>\n",
       "      <td>14.0</td>\n",
       "      <td>638.00</td>\n",
       "    </tr>\n",
       "    <tr>\n",
       "      <th>1299</th>\n",
       "      <td>13.3</td>\n",
       "      <td>1499.00</td>\n",
       "    </tr>\n",
       "    <tr>\n",
       "      <th>1300</th>\n",
       "      <td>14.0</td>\n",
       "      <td>229.00</td>\n",
       "    </tr>\n",
       "    <tr>\n",
       "      <th>1301</th>\n",
       "      <td>15.6</td>\n",
       "      <td>764.00</td>\n",
       "    </tr>\n",
       "    <tr>\n",
       "      <th>1302</th>\n",
       "      <td>15.6</td>\n",
       "      <td>369.00</td>\n",
       "    </tr>\n",
       "  </tbody>\n",
       "</table>\n",
       "<p>1303 rows × 2 columns</p>\n",
       "</div>"
      ],
      "text/plain": [
       "      Inches  Price_euros\n",
       "0       13.3      1339.69\n",
       "1       13.3       898.94\n",
       "2       15.6       575.00\n",
       "3       15.4      2537.45\n",
       "4       13.3      1803.60\n",
       "...      ...          ...\n",
       "1298    14.0       638.00\n",
       "1299    13.3      1499.00\n",
       "1300    14.0       229.00\n",
       "1301    15.6       764.00\n",
       "1302    15.6       369.00\n",
       "\n",
       "[1303 rows x 2 columns]"
      ]
     },
     "execution_count": 13,
     "metadata": {},
     "output_type": "execute_result"
    }
   ],
   "source": [
    "model_df"
   ]
  },
  {
   "cell_type": "code",
   "execution_count": 31,
   "id": "67cec175",
   "metadata": {},
   "outputs": [],
   "source": [
    "x = model_df.Price_euros"
   ]
  },
  {
   "cell_type": "code",
   "execution_count": 32,
   "id": "9b7e3231",
   "metadata": {},
   "outputs": [],
   "source": [
    "y = model_df.Inches"
   ]
  },
  {
   "cell_type": "code",
   "execution_count": 33,
   "id": "127bacd7",
   "metadata": {},
   "outputs": [],
   "source": [
    "model = LinearRegression()"
   ]
  },
  {
   "cell_type": "code",
   "execution_count": 34,
   "id": "06525f70",
   "metadata": {},
   "outputs": [
    {
     "data": {
      "text/plain": [
       "LinearRegression()"
      ]
     },
     "execution_count": 34,
     "metadata": {},
     "output_type": "execute_result"
    }
   ],
   "source": [
    "model.fit(np.array(x).reshape(-1,1),y)"
   ]
  },
  {
   "cell_type": "code",
   "execution_count": 35,
   "id": "c6ae8931",
   "metadata": {},
   "outputs": [
    {
     "data": {
      "text/plain": [
       "14.86082672038889"
      ]
     },
     "execution_count": 35,
     "metadata": {},
     "output_type": "execute_result"
    }
   ],
   "source": [
    "model.intercept_ #b0"
   ]
  },
  {
   "cell_type": "code",
   "execution_count": 36,
   "id": "dcc21c60",
   "metadata": {},
   "outputs": [
    {
     "data": {
      "text/plain": [
       "array([0.00013915])"
      ]
     },
     "execution_count": 36,
     "metadata": {},
     "output_type": "execute_result"
    }
   ],
   "source": [
    "model.coef_"
   ]
  },
  {
   "cell_type": "code",
   "execution_count": 37,
   "id": "bc89170a",
   "metadata": {},
   "outputs": [
    {
     "data": {
      "text/plain": [
       "0.004650785243918709"
      ]
     },
     "execution_count": 37,
     "metadata": {},
     "output_type": "execute_result"
    }
   ],
   "source": [
    "model.score(np.array(x).reshape(-1,1),y)"
   ]
  },
  {
   "cell_type": "code",
   "execution_count": 43,
   "id": "52b86b12",
   "metadata": {},
   "outputs": [
    {
     "data": {
      "text/html": [
       "<div>\n",
       "<style scoped>\n",
       "    .dataframe tbody tr th:only-of-type {\n",
       "        vertical-align: middle;\n",
       "    }\n",
       "\n",
       "    .dataframe tbody tr th {\n",
       "        vertical-align: top;\n",
       "    }\n",
       "\n",
       "    .dataframe thead th {\n",
       "        text-align: right;\n",
       "    }\n",
       "</style>\n",
       "<table border=\"1\" class=\"dataframe\">\n",
       "  <thead>\n",
       "    <tr style=\"text-align: right;\">\n",
       "      <th></th>\n",
       "      <th>laptop_ID</th>\n",
       "      <th>Inches</th>\n",
       "      <th>Ram (GB)</th>\n",
       "      <th>Weight (Kg)</th>\n",
       "      <th>Price_euros</th>\n",
       "    </tr>\n",
       "  </thead>\n",
       "  <tbody>\n",
       "    <tr>\n",
       "      <th>laptop_ID</th>\n",
       "      <td>1.000000</td>\n",
       "      <td>-0.087796</td>\n",
       "      <td>-0.028607</td>\n",
       "      <td>-0.011798</td>\n",
       "      <td>0.067830</td>\n",
       "    </tr>\n",
       "    <tr>\n",
       "      <th>Inches</th>\n",
       "      <td>-0.087796</td>\n",
       "      <td>1.000000</td>\n",
       "      <td>0.237993</td>\n",
       "      <td>0.827631</td>\n",
       "      <td>0.068197</td>\n",
       "    </tr>\n",
       "    <tr>\n",
       "      <th>Ram (GB)</th>\n",
       "      <td>-0.028607</td>\n",
       "      <td>0.237993</td>\n",
       "      <td>1.000000</td>\n",
       "      <td>0.383874</td>\n",
       "      <td>0.743007</td>\n",
       "    </tr>\n",
       "    <tr>\n",
       "      <th>Weight (Kg)</th>\n",
       "      <td>-0.011798</td>\n",
       "      <td>0.827631</td>\n",
       "      <td>0.383874</td>\n",
       "      <td>1.000000</td>\n",
       "      <td>0.210370</td>\n",
       "    </tr>\n",
       "    <tr>\n",
       "      <th>Price_euros</th>\n",
       "      <td>0.067830</td>\n",
       "      <td>0.068197</td>\n",
       "      <td>0.743007</td>\n",
       "      <td>0.210370</td>\n",
       "      <td>1.000000</td>\n",
       "    </tr>\n",
       "  </tbody>\n",
       "</table>\n",
       "</div>"
      ],
      "text/plain": [
       "             laptop_ID    Inches  Ram (GB)  Weight (Kg)  Price_euros\n",
       "laptop_ID     1.000000 -0.087796 -0.028607    -0.011798     0.067830\n",
       "Inches       -0.087796  1.000000  0.237993     0.827631     0.068197\n",
       "Ram (GB)     -0.028607  0.237993  1.000000     0.383874     0.743007\n",
       "Weight (Kg)  -0.011798  0.827631  0.383874     1.000000     0.210370\n",
       "Price_euros   0.067830  0.068197  0.743007     0.210370     1.000000"
      ]
     },
     "execution_count": 43,
     "metadata": {},
     "output_type": "execute_result"
    }
   ],
   "source": [
    "df.corr()"
   ]
  },
  {
   "cell_type": "markdown",
   "id": "f40eb219",
   "metadata": {},
   "source": [
    "**Multiple linear regression**"
   ]
  },
  {
   "cell_type": "code",
   "execution_count": 54,
   "id": "ab637c40",
   "metadata": {},
   "outputs": [],
   "source": [
    "X = df[['Inches', 'Ram (GB)', 'Weight (Kg)']]\n",
    "Y = df['Price_euros']"
   ]
  },
  {
   "cell_type": "code",
   "execution_count": 55,
   "id": "d95e4b87",
   "metadata": {},
   "outputs": [],
   "source": [
    "X_train, X_test, y_train, y_test = train_test_split(X, y, test_size=0.20, random_state=4)"
   ]
  },
  {
   "cell_type": "code",
   "execution_count": 57,
   "id": "79437081",
   "metadata": {},
   "outputs": [
    {
     "data": {
      "text/plain": [
       "LinearRegression()"
      ]
     },
     "execution_count": 57,
     "metadata": {},
     "output_type": "execute_result"
    }
   ],
   "source": [
    "model.fit(X_train, y_train)"
   ]
  },
  {
   "cell_type": "code",
   "execution_count": 58,
   "id": "49ad0d08",
   "metadata": {},
   "outputs": [
    {
     "data": {
      "text/plain": [
       "-1.5987211554602254e-14"
      ]
     },
     "execution_count": 58,
     "metadata": {},
     "output_type": "execute_result"
    }
   ],
   "source": [
    "model.intercept_"
   ]
  },
  {
   "cell_type": "code",
   "execution_count": 59,
   "id": "8508f363",
   "metadata": {},
   "outputs": [
    {
     "data": {
      "text/plain": [
       "array([1.00000000e+00, 6.42014520e-17, 3.14027315e-16])"
      ]
     },
     "execution_count": 59,
     "metadata": {},
     "output_type": "execute_result"
    }
   ],
   "source": [
    "model.coef_"
   ]
  },
  {
   "cell_type": "code",
   "execution_count": 60,
   "id": "ce6cf3c2",
   "metadata": {},
   "outputs": [
    {
     "data": {
      "text/plain": [
       "1.0"
      ]
     },
     "execution_count": 60,
     "metadata": {},
     "output_type": "execute_result"
    }
   ],
   "source": [
    "model.score(X_train, y_train)"
   ]
  },
  {
   "cell_type": "code",
   "execution_count": 61,
   "id": "54cf136a",
   "metadata": {},
   "outputs": [
    {
     "data": {
      "text/plain": [
       "array([15.6, 15.6, 15.6, 15.6, 15.6, 15.6, 15. , 12.5, 15.6, 15.6, 13.3,\n",
       "       14. , 17.3, 17.3, 11.6, 15.6, 15.6, 11.6, 15.6, 15.6, 11.6, 14. ,\n",
       "       17.3, 15.6, 14. , 14. , 14. , 15.6, 14. , 15.6, 15.6, 13.3, 14. ,\n",
       "       14. , 15.6, 15.6, 15.6, 13.3, 13.3, 14. , 14. , 15.6, 17.3, 14. ,\n",
       "       14. , 14. , 11.6, 15.6, 15.6, 13.3, 14. , 17.3, 14. , 15.6, 15.6,\n",
       "       13.3, 15.6, 15.6, 15.6, 14. , 15.6, 15.6, 15.6, 15.6, 17.3, 17.3,\n",
       "       15.6, 13.3, 15.6, 15.6, 14. , 15.6, 11.6, 14. , 15.6, 17.3, 15.6,\n",
       "       15.6, 15.6, 15.6, 14. , 17.3, 15.6, 15.6, 17.3, 15.6, 13.3, 13.3,\n",
       "       14. , 15.6, 15.6, 15.6, 15.6, 15.6, 15.6, 13.3, 15.6, 15.6, 14. ,\n",
       "       15.6, 13.3, 15.6, 11.6, 15.6, 14. , 17.3, 11.6, 14. , 17.3, 13.3,\n",
       "       13.3, 17.3, 15.6, 14. , 11.6, 15.6, 14. , 14. , 17.3, 15.6, 14. ,\n",
       "       15.6, 17.3, 15.6, 15.6, 13.3, 15.6, 15.6, 15.6, 15.6, 13.3, 15.6,\n",
       "       14. , 15.6, 15.6, 14. , 12.5, 17.3, 15.6, 17.3, 15.6, 14. , 17.3,\n",
       "       15.6, 15.6, 15.6, 15.6, 17.3, 13.3, 15.6, 15.6, 15.6, 14. , 15.6,\n",
       "       15.6, 15.6, 15.6, 15.6, 14. , 15.6, 15.6, 13.3, 15.6, 13.3, 15.6,\n",
       "       15.6, 15.6, 13.3, 14. , 15.6, 15.6, 13.3, 17.3, 15.6, 17.3, 13.3,\n",
       "       15.6, 17.3, 15.6, 14. , 15.6, 13.3, 17.3, 13.3, 15.6, 17.3, 14. ,\n",
       "       13.3, 15.6, 17.3, 15.6, 13.3, 13.3, 13.3, 15.6, 14. , 15.6, 14. ,\n",
       "       17.3, 13.3, 14. , 14. , 14. , 13.3, 13.3, 15.6, 15.6, 15.6, 15.6,\n",
       "       17.3, 14. , 17.3, 15.6, 14. , 15.6, 13.3, 14. , 15.6, 15. , 15.6,\n",
       "       13.3, 15.6, 15.6, 15. , 17.3, 14. , 17.3, 15.6, 14. , 15.6, 15.6,\n",
       "       15.6, 17.3, 17.3, 15.6, 12.5, 14. , 15.6, 17.3, 13.3, 15.6, 14. ,\n",
       "       13.3, 15.6, 14. , 17.3, 11.6, 13.9, 14. , 17.3, 17.3, 15.6, 12.5,\n",
       "       12.5, 15.6, 15.6, 13.3, 14. , 12.5, 14. , 17.3])"
      ]
     },
     "execution_count": 61,
     "metadata": {},
     "output_type": "execute_result"
    }
   ],
   "source": [
    "model.predict(X_test)"
   ]
  },
  {
   "cell_type": "code",
   "execution_count": 62,
   "id": "b567b962",
   "metadata": {},
   "outputs": [
    {
     "data": {
      "text/plain": [
       "array([15.6, 15.6, 15.6, 15.6, 15.6, 15.6, 15. , 12.5, 15.6, 15.6, 13.3,\n",
       "       14. , 17.3, 17.3, 11.6, 15.6, 15.6, 11.6, 15.6, 15.6, 11.6, 14. ,\n",
       "       17.3, 15.6, 14. , 14. , 14. , 15.6, 14. , 15.6, 15.6, 13.3, 14. ,\n",
       "       14. , 15.6, 15.6, 15.6, 13.3, 13.3, 14. , 14. , 15.6, 17.3, 14. ,\n",
       "       14. , 14. , 11.6, 15.6, 15.6, 13.3, 14. , 17.3, 14. , 15.6, 15.6,\n",
       "       13.3, 15.6, 15.6, 15.6, 14. , 15.6, 15.6, 15.6, 15.6, 17.3, 17.3,\n",
       "       15.6, 13.3, 15.6, 15.6, 14. , 15.6, 11.6, 14. , 15.6, 17.3, 15.6,\n",
       "       15.6, 15.6, 15.6, 14. , 17.3, 15.6, 15.6, 17.3, 15.6, 13.3, 13.3,\n",
       "       14. , 15.6, 15.6, 15.6, 15.6, 15.6, 15.6, 13.3, 15.6, 15.6, 14. ,\n",
       "       15.6, 13.3, 15.6, 11.6, 15.6, 14. , 17.3, 11.6, 14. , 17.3, 13.3,\n",
       "       13.3, 17.3, 15.6, 14. , 11.6, 15.6, 14. , 14. , 17.3, 15.6, 14. ,\n",
       "       15.6, 17.3, 15.6, 15.6, 13.3, 15.6, 15.6, 15.6, 15.6, 13.3, 15.6,\n",
       "       14. , 15.6, 15.6, 14. , 12.5, 17.3, 15.6, 17.3, 15.6, 14. , 17.3,\n",
       "       15.6, 15.6, 15.6, 15.6, 17.3, 13.3, 15.6, 15.6, 15.6, 14. , 15.6,\n",
       "       15.6, 15.6, 15.6, 15.6, 14. , 15.6, 15.6, 13.3, 15.6, 13.3, 15.6,\n",
       "       15.6, 15.6, 13.3, 14. , 15.6, 15.6, 13.3, 17.3, 15.6, 17.3, 13.3,\n",
       "       15.6, 17.3, 15.6, 14. , 15.6, 13.3, 17.3, 13.3, 15.6, 17.3, 14. ,\n",
       "       13.3, 15.6, 17.3, 15.6, 13.3, 13.3, 13.3, 15.6, 14. , 15.6, 14. ,\n",
       "       17.3, 13.3, 14. , 14. , 14. , 13.3, 13.3, 15.6, 15.6, 15.6, 15.6,\n",
       "       17.3, 14. , 17.3, 15.6, 14. , 15.6, 13.3, 14. , 15.6, 15. , 15.6,\n",
       "       13.3, 15.6, 15.6, 15. , 17.3, 14. , 17.3, 15.6, 14. , 15.6, 15.6,\n",
       "       15.6, 17.3, 17.3, 15.6, 12.5, 14. , 15.6, 17.3, 13.3, 15.6, 14. ,\n",
       "       13.3, 15.6, 14. , 17.3, 11.6, 13.9, 14. , 17.3, 17.3, 15.6, 12.5,\n",
       "       12.5, 15.6, 15.6, 13.3, 14. , 12.5, 14. , 17.3])"
      ]
     },
     "execution_count": 62,
     "metadata": {},
     "output_type": "execute_result"
    }
   ],
   "source": [
    "y_test.values"
   ]
  },
  {
   "cell_type": "code",
   "execution_count": 63,
   "id": "9b57985b",
   "metadata": {},
   "outputs": [
    {
     "data": {
      "text/plain": [
       "1.0"
      ]
     },
     "execution_count": 63,
     "metadata": {},
     "output_type": "execute_result"
    }
   ],
   "source": [
    "model.score(X_test, model.predict(X_test))"
   ]
  },
  {
   "cell_type": "code",
   "execution_count": 64,
   "id": "dac4ef08",
   "metadata": {},
   "outputs": [
    {
     "data": {
      "text/plain": [
       "1.0"
      ]
     },
     "execution_count": 64,
     "metadata": {},
     "output_type": "execute_result"
    }
   ],
   "source": [
    "model.score(X_train, model.predict(X_train))"
   ]
  },
  {
   "cell_type": "code",
   "execution_count": 65,
   "id": "a998295d",
   "metadata": {},
   "outputs": [
    {
     "data": {
      "text/plain": [
       "1.0"
      ]
     },
     "execution_count": 65,
     "metadata": {},
     "output_type": "execute_result"
    }
   ],
   "source": [
    "model.score(X_test, y_test)"
   ]
  },
  {
   "cell_type": "code",
   "execution_count": 66,
   "id": "75cdab54",
   "metadata": {},
   "outputs": [
    {
     "data": {
      "text/plain": [
       "1.0"
      ]
     },
     "execution_count": 66,
     "metadata": {},
     "output_type": "execute_result"
    }
   ],
   "source": [
    "model.score(X_train, y_train)"
   ]
  },
  {
   "cell_type": "markdown",
   "id": "a27256b6",
   "metadata": {},
   "source": [
    "**Assumptions of linear regression**"
   ]
  },
  {
   "cell_type": "code",
   "execution_count": 68,
   "id": "62930792",
   "metadata": {},
   "outputs": [
    {
     "data": {
      "text/plain": [
       "<AxesSubplot:xlabel='Price_euros', ylabel='Inches'>"
      ]
     },
     "execution_count": 68,
     "metadata": {},
     "output_type": "execute_result"
    },
    {
     "data": {
      "image/png": "[encoded data removed]",
      "text/plain": [
       "<Figure size 842.4x595.44 with 1 Axes>"
      ]
     },
     "metadata": {},
     "output_type": "display_data"
    }
   ],
   "source": [
    "sns.residplot(x = \"Price_euros\",y = \"Inches\",data = df)"
   ]
  },
  {
   "cell_type": "markdown",
   "id": "3b66b96c",
   "metadata": {},
   "source": [
    "**Assumptions of Multiple linear regression**"
   ]
  },
  {
   "cell_type": "code",
   "execution_count": 69,
   "id": "c2404077",
   "metadata": {},
   "outputs": [
    {
     "data": {
      "text/plain": [
       "<seaborn.axisgrid.PairGrid at 0x19c545df970>"
      ]
     },
     "execution_count": 69,
     "metadata": {},
     "output_type": "execute_result"
    },
    {
     "data": {
      "image/png": "[encoded data removed]",
      "text/plain": [
       "<Figure size 540x180 with 3 Axes>"
      ]
     },
     "metadata": {},
     "output_type": "display_data"
    }
   ],
   "source": [
    "sns.pairplot(df,x_vars=[\"Inches\",\"Ram (GB)\",'Weight (Kg)',], y_vars='Price_euros')"
   ]
  },
  {
   "cell_type": "code",
   "execution_count": null,
   "id": "db307ec4",
   "metadata": {},
   "outputs": [],
   "source": []
  }
 ],
 "metadata": {
  "kernelspec": {
   "display_name": "Python 3",
   "language": "python",
   "name": "python3"
  },
  "language_info": {
   "codemirror_mode": {
    "name": "ipython",
    "version": 3
   },
   "file_extension": ".py",
   "mimetype": "text/x-python",
   "name": "python",
   "nbconvert_exporter": "python",
   "pygments_lexer": "ipython3",
   "version": "3.8.8"
  }
 },
 "nbformat": 4,
 "nbformat_minor": 5
}
