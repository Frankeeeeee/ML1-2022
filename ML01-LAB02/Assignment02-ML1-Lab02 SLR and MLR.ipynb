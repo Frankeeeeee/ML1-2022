{
 "cells": [
  {
   "cell_type": "code",
   "execution_count": 2,
   "id": "55950376",
   "metadata": {},
   "outputs": [],
   "source": [
    "import numpy as np\n",
    "import pandas as pd\n",
    "import seaborn as sns\n",
    "import matplotlib.pyplot as plt\n",
    "from sklearn.linear_model import LinearRegression\n",
    "from sklearn.model_selection import train_test_split\n",
    "sns.set(style=\"darkgrid\")\n",
    "sns.set(rc={'figure.figsize':(11.7,8.27)})"
   ]
  },
  {
   "cell_type": "code",
   "execution_count": 3,
   "id": "3c43bd75",
   "metadata": {},
   "outputs": [],
   "source": [
    "df = pd.read_csv(\"Real estate.csv\", index_col=0)"
   ]
  },
  {
   "cell_type": "code",
   "execution_count": 4,
   "id": "f0cadeac",
   "metadata": {},
   "outputs": [
    {
     "data": {
      "text/html": [
       "<div>\n",
       "<style scoped>\n",
       "    .dataframe tbody tr th:only-of-type {\n",
       "        vertical-align: middle;\n",
       "    }\n",
       "\n",
       "    .dataframe tbody tr th {\n",
       "        vertical-align: top;\n",
       "    }\n",
       "\n",
       "    .dataframe thead th {\n",
       "        text-align: right;\n",
       "    }\n",
       "</style>\n",
       "<table border=\"1\" class=\"dataframe\">\n",
       "  <thead>\n",
       "    <tr style=\"text-align: right;\">\n",
       "      <th></th>\n",
       "      <th>X1 transaction date</th>\n",
       "      <th>X2 house age</th>\n",
       "      <th>X3 distance to the nearest MRT station</th>\n",
       "      <th>X4 number of convenience stores</th>\n",
       "      <th>X5 latitude</th>\n",
       "      <th>X6 longitude</th>\n",
       "      <th>Y house price of unit area</th>\n",
       "    </tr>\n",
       "    <tr>\n",
       "      <th>No</th>\n",
       "      <th></th>\n",
       "      <th></th>\n",
       "      <th></th>\n",
       "      <th></th>\n",
       "      <th></th>\n",
       "      <th></th>\n",
       "      <th></th>\n",
       "    </tr>\n",
       "  </thead>\n",
       "  <tbody>\n",
       "    <tr>\n",
       "      <th>1</th>\n",
       "      <td>2012.917</td>\n",
       "      <td>32.0</td>\n",
       "      <td>84.87882</td>\n",
       "      <td>10</td>\n",
       "      <td>24.98298</td>\n",
       "      <td>121.54024</td>\n",
       "      <td>37.9</td>\n",
       "    </tr>\n",
       "    <tr>\n",
       "      <th>2</th>\n",
       "      <td>2012.917</td>\n",
       "      <td>19.5</td>\n",
       "      <td>306.59470</td>\n",
       "      <td>9</td>\n",
       "      <td>24.98034</td>\n",
       "      <td>121.53951</td>\n",
       "      <td>42.2</td>\n",
       "    </tr>\n",
       "    <tr>\n",
       "      <th>3</th>\n",
       "      <td>2013.583</td>\n",
       "      <td>13.3</td>\n",
       "      <td>561.98450</td>\n",
       "      <td>5</td>\n",
       "      <td>24.98746</td>\n",
       "      <td>121.54391</td>\n",
       "      <td>47.3</td>\n",
       "    </tr>\n",
       "    <tr>\n",
       "      <th>4</th>\n",
       "      <td>2013.500</td>\n",
       "      <td>13.3</td>\n",
       "      <td>561.98450</td>\n",
       "      <td>5</td>\n",
       "      <td>24.98746</td>\n",
       "      <td>121.54391</td>\n",
       "      <td>54.8</td>\n",
       "    </tr>\n",
       "    <tr>\n",
       "      <th>5</th>\n",
       "      <td>2012.833</td>\n",
       "      <td>5.0</td>\n",
       "      <td>390.56840</td>\n",
       "      <td>5</td>\n",
       "      <td>24.97937</td>\n",
       "      <td>121.54245</td>\n",
       "      <td>43.1</td>\n",
       "    </tr>\n",
       "    <tr>\n",
       "      <th>...</th>\n",
       "      <td>...</td>\n",
       "      <td>...</td>\n",
       "      <td>...</td>\n",
       "      <td>...</td>\n",
       "      <td>...</td>\n",
       "      <td>...</td>\n",
       "      <td>...</td>\n",
       "    </tr>\n",
       "    <tr>\n",
       "      <th>410</th>\n",
       "      <td>2013.000</td>\n",
       "      <td>13.7</td>\n",
       "      <td>4082.01500</td>\n",
       "      <td>0</td>\n",
       "      <td>24.94155</td>\n",
       "      <td>121.50381</td>\n",
       "      <td>15.4</td>\n",
       "    </tr>\n",
       "    <tr>\n",
       "      <th>411</th>\n",
       "      <td>2012.667</td>\n",
       "      <td>5.6</td>\n",
       "      <td>90.45606</td>\n",
       "      <td>9</td>\n",
       "      <td>24.97433</td>\n",
       "      <td>121.54310</td>\n",
       "      <td>50.0</td>\n",
       "    </tr>\n",
       "    <tr>\n",
       "      <th>412</th>\n",
       "      <td>2013.250</td>\n",
       "      <td>18.8</td>\n",
       "      <td>390.96960</td>\n",
       "      <td>7</td>\n",
       "      <td>24.97923</td>\n",
       "      <td>121.53986</td>\n",
       "      <td>40.6</td>\n",
       "    </tr>\n",
       "    <tr>\n",
       "      <th>413</th>\n",
       "      <td>2013.000</td>\n",
       "      <td>8.1</td>\n",
       "      <td>104.81010</td>\n",
       "      <td>5</td>\n",
       "      <td>24.96674</td>\n",
       "      <td>121.54067</td>\n",
       "      <td>52.5</td>\n",
       "    </tr>\n",
       "    <tr>\n",
       "      <th>414</th>\n",
       "      <td>2013.500</td>\n",
       "      <td>6.5</td>\n",
       "      <td>90.45606</td>\n",
       "      <td>9</td>\n",
       "      <td>24.97433</td>\n",
       "      <td>121.54310</td>\n",
       "      <td>63.9</td>\n",
       "    </tr>\n",
       "  </tbody>\n",
       "</table>\n",
       "<p>414 rows × 7 columns</p>\n",
       "</div>"
      ],
      "text/plain": [
       "     X1 transaction date  X2 house age  \\\n",
       "No                                       \n",
       "1               2012.917          32.0   \n",
       "2               2012.917          19.5   \n",
       "3               2013.583          13.3   \n",
       "4               2013.500          13.3   \n",
       "5               2012.833           5.0   \n",
       "..                   ...           ...   \n",
       "410             2013.000          13.7   \n",
       "411             2012.667           5.6   \n",
       "412             2013.250          18.8   \n",
       "413             2013.000           8.1   \n",
       "414             2013.500           6.5   \n",
       "\n",
       "     X3 distance to the nearest MRT station  X4 number of convenience stores  \\\n",
       "No                                                                             \n",
       "1                                  84.87882                               10   \n",
       "2                                 306.59470                                9   \n",
       "3                                 561.98450                                5   \n",
       "4                                 561.98450                                5   \n",
       "5                                 390.56840                                5   \n",
       "..                                      ...                              ...   \n",
       "410                              4082.01500                                0   \n",
       "411                                90.45606                                9   \n",
       "412                               390.96960                                7   \n",
       "413                               104.81010                                5   \n",
       "414                                90.45606                                9   \n",
       "\n",
       "     X5 latitude  X6 longitude  Y house price of unit area  \n",
       "No                                                          \n",
       "1       24.98298     121.54024                        37.9  \n",
       "2       24.98034     121.53951                        42.2  \n",
       "3       24.98746     121.54391                        47.3  \n",
       "4       24.98746     121.54391                        54.8  \n",
       "5       24.97937     121.54245                        43.1  \n",
       "..           ...           ...                         ...  \n",
       "410     24.94155     121.50381                        15.4  \n",
       "411     24.97433     121.54310                        50.0  \n",
       "412     24.97923     121.53986                        40.6  \n",
       "413     24.96674     121.54067                        52.5  \n",
       "414     24.97433     121.54310                        63.9  \n",
       "\n",
       "[414 rows x 7 columns]"
      ]
     },
     "execution_count": 4,
     "metadata": {},
     "output_type": "execute_result"
    }
   ],
   "source": [
    "df"
   ]
  },
  {
   "cell_type": "markdown",
   "id": "6a0a90c7",
   "metadata": {},
   "source": [
    "**simple linear regression**"
   ]
  },
  {
   "cell_type": "code",
   "execution_count": 9,
   "id": "de19eca0",
   "metadata": {},
   "outputs": [],
   "source": [
    "x = df['X5 latitude']\n",
    "y = df['Y house price of unit area']"
   ]
  },
  {
   "cell_type": "code",
   "execution_count": 10,
   "id": "f2fce917",
   "metadata": {},
   "outputs": [],
   "source": [
    "model = LinearRegression()"
   ]
  },
  {
   "cell_type": "code",
   "execution_count": 11,
   "id": "fd7feaf8",
   "metadata": {},
   "outputs": [
    {
     "data": {
      "text/plain": [
       "LinearRegression()"
      ]
     },
     "execution_count": 11,
     "metadata": {},
     "output_type": "execute_result"
    }
   ],
   "source": [
    "model.fit(np.array(x).reshape(-1,1),y)"
   ]
  },
  {
   "cell_type": "code",
   "execution_count": 13,
   "id": "3eb3be55",
   "metadata": {},
   "outputs": [
    {
     "data": {
      "text/plain": [
       "-14917.678090678011"
      ]
     },
     "execution_count": 13,
     "metadata": {},
     "output_type": "execute_result"
    }
   ],
   "source": [
    "model.intercept_"
   ]
  },
  {
   "cell_type": "code",
   "execution_count": 14,
   "id": "22234477",
   "metadata": {},
   "outputs": [
    {
     "data": {
      "text/plain": [
       "array([598.96833159])"
      ]
     },
     "execution_count": 14,
     "metadata": {},
     "output_type": "execute_result"
    }
   ],
   "source": [
    "model.coef_"
   ]
  },
  {
   "cell_type": "code",
   "execution_count": 15,
   "id": "9000f2d7",
   "metadata": {},
   "outputs": [
    {
     "data": {
      "text/plain": [
       "0.2984509585696967"
      ]
     },
     "execution_count": 15,
     "metadata": {},
     "output_type": "execute_result"
    }
   ],
   "source": [
    "model.score(np.array(x).reshape(-1,1),y)"
   ]
  },
  {
   "cell_type": "markdown",
   "id": "81d6ba5c",
   "metadata": {},
   "source": [
    "**multiple linear regression**"
   ]
  },
  {
   "cell_type": "code",
   "execution_count": 20,
   "id": "44d0998a",
   "metadata": {},
   "outputs": [],
   "source": [
    "x = df[['X1 transaction date', 'X2 house age', 'X5 latitude']]\n",
    "y = df['X6 longitude']"
   ]
  },
  {
   "cell_type": "code",
   "execution_count": 21,
   "id": "ac21fea0",
   "metadata": {},
   "outputs": [],
   "source": [
    "x_train, x_test, y_train, y_test = train_test_split(x, y, test_size=0.20, random_state=4)"
   ]
  },
  {
   "cell_type": "code",
   "execution_count": 22,
   "id": "0c5d5aef",
   "metadata": {},
   "outputs": [],
   "source": [
    "model = LinearRegression()"
   ]
  },
  {
   "cell_type": "code",
   "execution_count": 24,
   "id": "0f6f0c19",
   "metadata": {},
   "outputs": [
    {
     "data": {
      "text/plain": [
       "LinearRegression()"
      ]
     },
     "execution_count": 24,
     "metadata": {},
     "output_type": "execute_result"
    }
   ],
   "source": [
    "model.fit(x_train, y_train)"
   ]
  },
  {
   "cell_type": "code",
   "execution_count": 25,
   "id": "7aea6113",
   "metadata": {},
   "outputs": [
    {
     "data": {
      "text/plain": [
       "111.98820592405882"
      ]
     },
     "execution_count": 25,
     "metadata": {},
     "output_type": "execute_result"
    }
   ],
   "source": [
    "model.intercept_"
   ]
  },
  {
   "cell_type": "code",
   "execution_count": 26,
   "id": "2d90ebb3",
   "metadata": {},
   "outputs": [
    {
     "data": {
      "text/plain": [
       "array([-2.14446054e-03, -8.48133372e-05,  5.55229131e-01])"
      ]
     },
     "execution_count": 26,
     "metadata": {},
     "output_type": "execute_result"
    }
   ],
   "source": [
    "model.coef_"
   ]
  },
  {
   "cell_type": "code",
   "execution_count": 27,
   "id": "ef77aa4d",
   "metadata": {},
   "outputs": [
    {
     "data": {
      "text/plain": [
       "0.20115382586787423"
      ]
     },
     "execution_count": 27,
     "metadata": {},
     "output_type": "execute_result"
    }
   ],
   "source": [
    "model.score(x_train, y_train)"
   ]
  },
  {
   "cell_type": "code",
   "execution_count": 28,
   "id": "6051092f",
   "metadata": {},
   "outputs": [
    {
     "data": {
      "text/plain": [
       "array([121.54158253, 121.52929493, 121.52186553, 121.52942107,\n",
       "       121.53029667, 121.53844658, 121.53161985, 121.53354277,\n",
       "       121.53625656, 121.5250483 , 121.52164098, 121.53028771,\n",
       "       121.54461678, 121.53607911, 121.51757399, 121.5372046 ,\n",
       "       121.53166585, 121.51796483, 121.52641227, 121.53078897,\n",
       "       121.53053762, 121.53663396, 121.53551162, 121.53871491,\n",
       "       121.53663901, 121.53776694, 121.53755998, 121.5324054 ,\n",
       "       121.53205159, 121.54525722, 121.52889652, 121.53607579,\n",
       "       121.53282503, 121.53734848, 121.53254822, 121.54057298,\n",
       "       121.54130619, 121.52895644, 121.53258569, 121.5340796 ,\n",
       "       121.53811306, 121.53587599, 121.53430917, 121.53821219,\n",
       "       121.53551235, 121.53625887, 121.52455493, 121.52950952,\n",
       "       121.53227937, 121.5283411 , 121.53119934, 121.53889505,\n",
       "       121.53582457, 121.52536546, 121.53606049, 121.5344812 ,\n",
       "       121.53691353, 121.53276666, 121.54331567, 121.54024756,\n",
       "       121.5330115 , 121.52992832, 121.52902151, 121.53735809,\n",
       "       121.5303275 , 121.53832771, 121.5377482 , 121.53996728,\n",
       "       121.55087012, 121.54258694, 121.53384967, 121.53473079,\n",
       "       121.53347461, 121.5360724 , 121.530638  , 121.53519476,\n",
       "       121.53895257, 121.52964719, 121.52773292, 121.53116088,\n",
       "       121.51828256, 121.54352654, 121.53129924])"
      ]
     },
     "execution_count": 28,
     "metadata": {},
     "output_type": "execute_result"
    }
   ],
   "source": [
    "model.predict(x_test)"
   ]
  },
  {
   "cell_type": "code",
   "execution_count": 29,
   "id": "91eaaaff",
   "metadata": {},
   "outputs": [
    {
     "data": {
      "text/plain": [
       "array([121.54395, 121.51243, 121.53009, 121.54915, 121.54951, 121.53642,\n",
       "       121.54069, 121.54067, 121.5273 , 121.549  , 121.53018, 121.54767,\n",
       "       121.53411, 121.53842, 121.50383, 121.54516, 121.53737, 121.50342,\n",
       "       121.56627, 121.51668, 121.54196, 121.5431 , 121.53713, 121.54458,\n",
       "       121.52984, 121.54308, 121.5431 , 121.53737, 121.53423, 121.53406,\n",
       "       121.53756, 121.51627, 121.54089, 121.54162, 121.54464, 121.53788,\n",
       "       121.51812, 121.51046, 121.53559, 121.53885, 121.5431 , 121.54765,\n",
       "       121.53715, 121.54281, 121.54265, 121.5431 , 121.55254, 121.51046,\n",
       "       121.54494, 121.53844, 121.51486, 121.54458, 121.51726, 121.55481,\n",
       "       121.54951, 121.53994, 121.52981, 121.53758, 121.53411, 121.54348,\n",
       "       121.54089, 121.54273, 121.51237, 121.53805, 121.51254, 121.54245,\n",
       "       121.54541, 121.54458, 121.51776, 121.54243, 121.5449 , 121.53913,\n",
       "       121.53265, 121.5431 , 121.51623, 121.5317 , 121.52406, 121.51222,\n",
       "       121.51353, 121.54211, 121.50381, 121.54082, 121.53737])"
      ]
     },
     "execution_count": 29,
     "metadata": {},
     "output_type": "execute_result"
    }
   ],
   "source": [
    "y_test.values"
   ]
  },
  {
   "cell_type": "code",
   "execution_count": 30,
   "id": "4e9adaad",
   "metadata": {},
   "outputs": [
    {
     "data": {
      "text/plain": [
       "1.0"
      ]
     },
     "execution_count": 30,
     "metadata": {},
     "output_type": "execute_result"
    }
   ],
   "source": [
    "model.score(x_test, model.predict(x_test))"
   ]
  },
  {
   "cell_type": "code",
   "execution_count": 31,
   "id": "12f82610",
   "metadata": {},
   "outputs": [
    {
     "data": {
      "text/plain": [
       "0.020346540154546622"
      ]
     },
     "execution_count": 31,
     "metadata": {},
     "output_type": "execute_result"
    }
   ],
   "source": [
    "model.score(x_test, y_test)"
   ]
  },
  {
   "cell_type": "code",
   "execution_count": 32,
   "id": "33784ce4",
   "metadata": {},
   "outputs": [
    {
     "data": {
      "text/plain": [
       "0.20115382586787423"
      ]
     },
     "execution_count": 32,
     "metadata": {},
     "output_type": "execute_result"
    }
   ],
   "source": [
    "model.score(x_train, y_train)"
   ]
  },
  {
   "cell_type": "markdown",
   "id": "e36b05cc",
   "metadata": {},
   "source": [
    "assumtion of LR"
   ]
  },
  {
   "cell_type": "code",
   "execution_count": 33,
   "id": "ed7339b8",
   "metadata": {},
   "outputs": [
    {
     "data": {
      "text/plain": [
       "<AxesSubplot:xlabel='X3 distance to the nearest MRT station', ylabel='Y house price of unit area'>"
      ]
     },
     "execution_count": 33,
     "metadata": {},
     "output_type": "execute_result"
    },
    {
     "data": {
      "image/png": "[encoded data removed]",
      "text/plain": [
       "<Figure size 842.4x595.44 with 1 Axes>"
      ]
     },
     "metadata": {},
     "output_type": "display_data"
    }
   ],
   "source": [
    "sns.residplot(x = \"X3 distance to the nearest MRT station\",y = \"Y house price of unit area\",data = df)"
   ]
  },
  {
   "cell_type": "code",
   "execution_count": null,
   "id": "c7b4ae99",
   "metadata": {},
   "outputs": [],
   "source": []
  }
 ],
 "metadata": {
  "kernelspec": {
   "display_name": "Python 3",
   "language": "python",
   "name": "python3"
  },
  "language_info": {
   "codemirror_mode": {
    "name": "ipython",
    "version": 3
   },
   "file_extension": ".py",
   "mimetype": "text/x-python",
   "name": "python",
   "nbconvert_exporter": "python",
   "pygments_lexer": "ipython3",
   "version": "3.8.8"
  }
 },
 "nbformat": 4,
 "nbformat_minor": 5
}
