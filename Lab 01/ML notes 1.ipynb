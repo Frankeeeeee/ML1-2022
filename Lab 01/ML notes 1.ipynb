{
 "cells": [
  {
   "cell_type": "markdown",
   "id": "1a322029",
   "metadata": {},
   "source": [
    "**ASSIGNMENT 1**"
   ]
  },
  {
   "cell_type": "markdown",
   "id": "211d01a1",
   "metadata": {},
   "source": [
    "**PART A**"
   ]
  },
  {
   "cell_type": "markdown",
   "id": "1cedf56f",
   "metadata": {},
   "source": [
    "*PYTHON DATATYPES*"
   ]
  },
  {
   "cell_type": "code",
   "execution_count": 1,
   "id": "b64c6ecc",
   "metadata": {},
   "outputs": [
    {
     "data": {
      "text/plain": [
       "66"
      ]
     },
     "execution_count": 1,
     "metadata": {},
     "output_type": "execute_result"
    }
   ],
   "source": [
    "66"
   ]
  },
  {
   "cell_type": "code",
   "execution_count": 2,
   "id": "d43e613a",
   "metadata": {},
   "outputs": [
    {
     "data": {
      "text/plain": [
       "int"
      ]
     },
     "execution_count": 2,
     "metadata": {},
     "output_type": "execute_result"
    }
   ],
   "source": [
    "type(66)"
   ]
  },
  {
   "cell_type": "code",
   "execution_count": 3,
   "id": "8b07254b",
   "metadata": {},
   "outputs": [
    {
     "data": {
      "text/plain": [
       "'Hey'"
      ]
     },
     "execution_count": 3,
     "metadata": {},
     "output_type": "execute_result"
    }
   ],
   "source": [
    "\"Hey\""
   ]
  },
  {
   "cell_type": "code",
   "execution_count": 4,
   "id": "d1b882a3",
   "metadata": {},
   "outputs": [
    {
     "data": {
      "text/plain": [
       "str"
      ]
     },
     "execution_count": 4,
     "metadata": {},
     "output_type": "execute_result"
    }
   ],
   "source": [
    "type(\"Hey\")"
   ]
  },
  {
   "cell_type": "code",
   "execution_count": 5,
   "id": "b43532be",
   "metadata": {},
   "outputs": [
    {
     "data": {
      "text/plain": [
       "3.4"
      ]
     },
     "execution_count": 5,
     "metadata": {},
     "output_type": "execute_result"
    }
   ],
   "source": [
    "3.4"
   ]
  },
  {
   "cell_type": "code",
   "execution_count": 6,
   "id": "3f75aab4",
   "metadata": {},
   "outputs": [
    {
     "data": {
      "text/plain": [
       "float"
      ]
     },
     "execution_count": 6,
     "metadata": {},
     "output_type": "execute_result"
    }
   ],
   "source": [
    "type(3.4)"
   ]
  },
  {
   "cell_type": "code",
   "execution_count": 7,
   "id": "a7647910",
   "metadata": {},
   "outputs": [
    {
     "data": {
      "text/plain": [
       "True"
      ]
     },
     "execution_count": 7,
     "metadata": {},
     "output_type": "execute_result"
    }
   ],
   "source": [
    "True"
   ]
  },
  {
   "cell_type": "code",
   "execution_count": 8,
   "id": "b84e3e5f",
   "metadata": {},
   "outputs": [
    {
     "data": {
      "text/plain": [
       "bool"
      ]
     },
     "execution_count": 8,
     "metadata": {},
     "output_type": "execute_result"
    }
   ],
   "source": [
    "type(True)"
   ]
  },
  {
   "cell_type": "code",
   "execution_count": 9,
   "id": "e247d44c",
   "metadata": {},
   "outputs": [
    {
     "data": {
      "text/plain": [
       "5j"
      ]
     },
     "execution_count": 9,
     "metadata": {},
     "output_type": "execute_result"
    }
   ],
   "source": [
    "5j"
   ]
  },
  {
   "cell_type": "code",
   "execution_count": 10,
   "id": "3212494e",
   "metadata": {},
   "outputs": [
    {
     "data": {
      "text/plain": [
       "complex"
      ]
     },
     "execution_count": 10,
     "metadata": {},
     "output_type": "execute_result"
    }
   ],
   "source": [
    "type(5j)"
   ]
  },
  {
   "cell_type": "code",
   "execution_count": 12,
   "id": "21d5c1d7",
   "metadata": {},
   "outputs": [
    {
     "data": {
      "text/plain": [
       "[1, 2, 3, 4, 5]"
      ]
     },
     "execution_count": 12,
     "metadata": {},
     "output_type": "execute_result"
    }
   ],
   "source": [
    "a=[1,2,3,4,5]\n",
    "a"
   ]
  },
  {
   "cell_type": "code",
   "execution_count": 13,
   "id": "7deeac4e",
   "metadata": {},
   "outputs": [
    {
     "data": {
      "text/plain": [
       "list"
      ]
     },
     "execution_count": 13,
     "metadata": {},
     "output_type": "execute_result"
    }
   ],
   "source": [
    "type(a)"
   ]
  },
  {
   "cell_type": "code",
   "execution_count": 14,
   "id": "6a1b19a6",
   "metadata": {},
   "outputs": [
    {
     "data": {
      "text/plain": [
       "(1, 2, 3, 4, 5)"
      ]
     },
     "execution_count": 14,
     "metadata": {},
     "output_type": "execute_result"
    }
   ],
   "source": [
    "b=((1,2,3,4,5))\n",
    "b"
   ]
  },
  {
   "cell_type": "code",
   "execution_count": 15,
   "id": "a08b6a70",
   "metadata": {},
   "outputs": [
    {
     "data": {
      "text/plain": [
       "tuple"
      ]
     },
     "execution_count": 15,
     "metadata": {},
     "output_type": "execute_result"
    }
   ],
   "source": [
    "type(b)"
   ]
  },
  {
   "cell_type": "code",
   "execution_count": 16,
   "id": "8ab755ec",
   "metadata": {},
   "outputs": [
    {
     "data": {
      "text/plain": [
       "{'a': 1, 'b': 2}"
      ]
     },
     "execution_count": 16,
     "metadata": {},
     "output_type": "execute_result"
    }
   ],
   "source": [
    "dict=({\"a\": 1, \"b\": 2})\n",
    "dict"
   ]
  },
  {
   "cell_type": "code",
   "execution_count": 17,
   "id": "9d2a3484",
   "metadata": {},
   "outputs": [
    {
     "data": {
      "text/plain": [
       "dict"
      ]
     },
     "execution_count": 17,
     "metadata": {},
     "output_type": "execute_result"
    }
   ],
   "source": [
    "type(dict)"
   ]
  },
  {
   "cell_type": "code",
   "execution_count": 18,
   "id": "c464fcac",
   "metadata": {},
   "outputs": [
    {
     "data": {
      "text/plain": [
       "''"
      ]
     },
     "execution_count": 18,
     "metadata": {},
     "output_type": "execute_result"
    }
   ],
   "source": [
    "\"\""
   ]
  },
  {
   "cell_type": "markdown",
   "id": "45c9cd47",
   "metadata": {},
   "source": [
    "*OPERATORS*"
   ]
  },
  {
   "cell_type": "code",
   "execution_count": 19,
   "id": "1960ab89",
   "metadata": {},
   "outputs": [],
   "source": [
    "A=3+4"
   ]
  },
  {
   "cell_type": "code",
   "execution_count": 20,
   "id": "8384e794",
   "metadata": {},
   "outputs": [
    {
     "data": {
      "text/plain": [
       "7"
      ]
     },
     "execution_count": 20,
     "metadata": {},
     "output_type": "execute_result"
    }
   ],
   "source": [
    "A"
   ]
  },
  {
   "cell_type": "code",
   "execution_count": 22,
   "id": "dfe3145f",
   "metadata": {},
   "outputs": [
    {
     "data": {
      "text/plain": [
       "int"
      ]
     },
     "execution_count": 22,
     "metadata": {},
     "output_type": "execute_result"
    }
   ],
   "source": [
    "type(A)"
   ]
  },
  {
   "cell_type": "code",
   "execution_count": 23,
   "id": "c5097906",
   "metadata": {},
   "outputs": [],
   "source": [
    "sample= ['hello','hi','good','morning']"
   ]
  },
  {
   "cell_type": "code",
   "execution_count": 24,
   "id": "a558de86",
   "metadata": {},
   "outputs": [
    {
     "data": {
      "text/plain": [
       "['hello', 'hi', 'good', 'morning']"
      ]
     },
     "execution_count": 24,
     "metadata": {},
     "output_type": "execute_result"
    }
   ],
   "source": [
    "sample"
   ]
  },
  {
   "cell_type": "code",
   "execution_count": 25,
   "id": "e685373e",
   "metadata": {},
   "outputs": [
    {
     "data": {
      "text/plain": [
       "'morning'"
      ]
     },
     "execution_count": 25,
     "metadata": {},
     "output_type": "execute_result"
    }
   ],
   "source": [
    "sample[3]"
   ]
  },
  {
   "cell_type": "code",
   "execution_count": 26,
   "id": "25b2829b",
   "metadata": {},
   "outputs": [
    {
     "data": {
      "text/plain": [
       "'goodmorning'"
      ]
     },
     "execution_count": 26,
     "metadata": {},
     "output_type": "execute_result"
    }
   ],
   "source": [
    "sample[2]+sample[3]"
   ]
  },
  {
   "cell_type": "markdown",
   "id": "43da9cda",
   "metadata": {},
   "source": [
    "*LOOPS AND ITERATIONS*"
   ]
  },
  {
   "cell_type": "code",
   "execution_count": 27,
   "id": "3ffb1cdf",
   "metadata": {},
   "outputs": [
    {
     "data": {
      "text/plain": [
       "range(0, 100)"
      ]
     },
     "execution_count": 27,
     "metadata": {},
     "output_type": "execute_result"
    }
   ],
   "source": [
    "range(100)"
   ]
  },
  {
   "cell_type": "code",
   "execution_count": 31,
   "id": "2febf885",
   "metadata": {},
   "outputs": [
    {
     "name": "stdout",
     "output_type": "stream",
     "text": [
      "0\n",
      "1\n",
      "2\n",
      "3\n",
      "4\n",
      "5\n",
      "6\n",
      "7\n",
      "8\n",
      "9\n"
     ]
    }
   ],
   "source": [
    "for i in range(10):\n",
    "    print(i)"
   ]
  },
  {
   "cell_type": "code",
   "execution_count": 32,
   "id": "fd9db47f",
   "metadata": {},
   "outputs": [
    {
     "data": {
      "text/plain": [
       "['Anu', 'Anju', 'Nandu', 'Unni']"
      ]
     },
     "execution_count": 32,
     "metadata": {},
     "output_type": "execute_result"
    }
   ],
   "source": [
    "names=['Anu','Anju','Nandu','Unni']\n",
    "names"
   ]
  },
  {
   "cell_type": "code",
   "execution_count": 33,
   "id": "edb71f76",
   "metadata": {},
   "outputs": [
    {
     "name": "stdout",
     "output_type": "stream",
     "text": [
      "Anu\n",
      "Anju\n",
      "Nandu\n",
      "Unni\n"
     ]
    }
   ],
   "source": [
    "for word in names:\n",
    "    print(word)"
   ]
  },
  {
   "cell_type": "code",
   "execution_count": 35,
   "id": "c261bb5d",
   "metadata": {},
   "outputs": [
    {
     "name": "stdout",
     "output_type": "stream",
     "text": [
      "True\n"
     ]
    }
   ],
   "source": [
    "if \"Anu\" in names:\n",
    "    print(\"True\")\n",
    "else:\n",
    "    print(\"False\")"
   ]
  },
  {
   "cell_type": "code",
   "execution_count": 36,
   "id": "4c4fd80f",
   "metadata": {},
   "outputs": [],
   "source": [
    "def foo_sum(a, b):\n",
    "    return a*b"
   ]
  },
  {
   "cell_type": "code",
   "execution_count": 37,
   "id": "b9c9e366",
   "metadata": {},
   "outputs": [
    {
     "data": {
      "text/plain": [
       "48"
      ]
     },
     "execution_count": 37,
     "metadata": {},
     "output_type": "execute_result"
    }
   ],
   "source": [
    "foo_sum(4,12)"
   ]
  },
  {
   "cell_type": "markdown",
   "id": "c76e3a71",
   "metadata": {},
   "source": [
    "*PYTHON FOR DS*"
   ]
  },
  {
   "cell_type": "code",
   "execution_count": 38,
   "id": "6b72570d",
   "metadata": {},
   "outputs": [],
   "source": [
    "import pandas as pd\n",
    "import numpy as np"
   ]
  },
  {
   "cell_type": "code",
   "execution_count": 40,
   "id": "cdfe17d8",
   "metadata": {},
   "outputs": [
    {
     "data": {
      "text/plain": [
       "['hello', 'hi', 'good', 'morning']"
      ]
     },
     "execution_count": 40,
     "metadata": {},
     "output_type": "execute_result"
    }
   ],
   "source": [
    "sample"
   ]
  },
  {
   "cell_type": "code",
   "execution_count": 41,
   "id": "8716ba59",
   "metadata": {},
   "outputs": [],
   "source": [
    "sample_series = pd.Series(sample)"
   ]
  },
  {
   "cell_type": "code",
   "execution_count": 42,
   "id": "d0429288",
   "metadata": {},
   "outputs": [
    {
     "data": {
      "text/plain": [
       "0      hello\n",
       "1         hi\n",
       "2       good\n",
       "3    morning\n",
       "dtype: object"
      ]
     },
     "execution_count": 42,
     "metadata": {},
     "output_type": "execute_result"
    }
   ],
   "source": [
    "sample_series"
   ]
  },
  {
   "cell_type": "code",
   "execution_count": 43,
   "id": "022ee38a",
   "metadata": {},
   "outputs": [
    {
     "data": {
      "text/plain": [
       "RangeIndex(start=0, stop=4, step=1)"
      ]
     },
     "execution_count": 43,
     "metadata": {},
     "output_type": "execute_result"
    }
   ],
   "source": [
    "sample_series.index"
   ]
  },
  {
   "cell_type": "code",
   "execution_count": 44,
   "id": "caf11c3c",
   "metadata": {},
   "outputs": [
    {
     "data": {
      "text/plain": [
       "array(['hello', 'hi', 'good', 'morning'], dtype=object)"
      ]
     },
     "execution_count": 44,
     "metadata": {},
     "output_type": "execute_result"
    }
   ],
   "source": [
    "sample_series.values"
   ]
  },
  {
   "cell_type": "code",
   "execution_count": 45,
   "id": "ab2fc93f",
   "metadata": {},
   "outputs": [
    {
     "data": {
      "text/plain": [
       "good       1\n",
       "morning    1\n",
       "hello      1\n",
       "hi         1\n",
       "dtype: int64"
      ]
     },
     "execution_count": 45,
     "metadata": {},
     "output_type": "execute_result"
    }
   ],
   "source": [
    "sample_series.value_counts()"
   ]
  },
  {
   "cell_type": "code",
   "execution_count": 46,
   "id": "00848cb7",
   "metadata": {},
   "outputs": [],
   "source": [
    "sample_df = pd.DataFrame([sample,sample]).T"
   ]
  },
  {
   "cell_type": "code",
   "execution_count": 47,
   "id": "a1a5dfa5",
   "metadata": {},
   "outputs": [
    {
     "data": {
      "text/html": [
       "<div>\n",
       "<style scoped>\n",
       "    .dataframe tbody tr th:only-of-type {\n",
       "        vertical-align: middle;\n",
       "    }\n",
       "\n",
       "    .dataframe tbody tr th {\n",
       "        vertical-align: top;\n",
       "    }\n",
       "\n",
       "    .dataframe thead th {\n",
       "        text-align: right;\n",
       "    }\n",
       "</style>\n",
       "<table border=\"1\" class=\"dataframe\">\n",
       "  <thead>\n",
       "    <tr style=\"text-align: right;\">\n",
       "      <th></th>\n",
       "      <th>0</th>\n",
       "      <th>1</th>\n",
       "    </tr>\n",
       "  </thead>\n",
       "  <tbody>\n",
       "    <tr>\n",
       "      <th>0</th>\n",
       "      <td>hello</td>\n",
       "      <td>hello</td>\n",
       "    </tr>\n",
       "    <tr>\n",
       "      <th>1</th>\n",
       "      <td>hi</td>\n",
       "      <td>hi</td>\n",
       "    </tr>\n",
       "    <tr>\n",
       "      <th>2</th>\n",
       "      <td>good</td>\n",
       "      <td>good</td>\n",
       "    </tr>\n",
       "    <tr>\n",
       "      <th>3</th>\n",
       "      <td>morning</td>\n",
       "      <td>morning</td>\n",
       "    </tr>\n",
       "  </tbody>\n",
       "</table>\n",
       "</div>"
      ],
      "text/plain": [
       "         0        1\n",
       "0    hello    hello\n",
       "1       hi       hi\n",
       "2     good     good\n",
       "3  morning  morning"
      ]
     },
     "execution_count": 47,
     "metadata": {},
     "output_type": "execute_result"
    }
   ],
   "source": [
    "sample_df"
   ]
  },
  {
   "cell_type": "code",
   "execution_count": 48,
   "id": "0e79d6fb",
   "metadata": {},
   "outputs": [],
   "source": [
    "sample_df.columns = [\"sample01\", \"sample02\"]"
   ]
  },
  {
   "cell_type": "code",
   "execution_count": 49,
   "id": "24dff779",
   "metadata": {},
   "outputs": [
    {
     "data": {
      "text/html": [
       "<div>\n",
       "<style scoped>\n",
       "    .dataframe tbody tr th:only-of-type {\n",
       "        vertical-align: middle;\n",
       "    }\n",
       "\n",
       "    .dataframe tbody tr th {\n",
       "        vertical-align: top;\n",
       "    }\n",
       "\n",
       "    .dataframe thead th {\n",
       "        text-align: right;\n",
       "    }\n",
       "</style>\n",
       "<table border=\"1\" class=\"dataframe\">\n",
       "  <thead>\n",
       "    <tr style=\"text-align: right;\">\n",
       "      <th></th>\n",
       "      <th>sample01</th>\n",
       "      <th>sample02</th>\n",
       "    </tr>\n",
       "  </thead>\n",
       "  <tbody>\n",
       "    <tr>\n",
       "      <th>0</th>\n",
       "      <td>hello</td>\n",
       "      <td>hello</td>\n",
       "    </tr>\n",
       "    <tr>\n",
       "      <th>1</th>\n",
       "      <td>hi</td>\n",
       "      <td>hi</td>\n",
       "    </tr>\n",
       "    <tr>\n",
       "      <th>2</th>\n",
       "      <td>good</td>\n",
       "      <td>good</td>\n",
       "    </tr>\n",
       "    <tr>\n",
       "      <th>3</th>\n",
       "      <td>morning</td>\n",
       "      <td>morning</td>\n",
       "    </tr>\n",
       "  </tbody>\n",
       "</table>\n",
       "</div>"
      ],
      "text/plain": [
       "  sample01 sample02\n",
       "0    hello    hello\n",
       "1       hi       hi\n",
       "2     good     good\n",
       "3  morning  morning"
      ]
     },
     "execution_count": 49,
     "metadata": {},
     "output_type": "execute_result"
    }
   ],
   "source": [
    "sample_df"
   ]
  },
  {
   "cell_type": "code",
   "execution_count": 50,
   "id": "05fe334d",
   "metadata": {},
   "outputs": [],
   "source": [
    "df = pd.read_csv(\"q3.csv\")"
   ]
  },
  {
   "cell_type": "code",
   "execution_count": 51,
   "id": "58aff518",
   "metadata": {},
   "outputs": [
    {
     "data": {
      "text/html": [
       "<div>\n",
       "<style scoped>\n",
       "    .dataframe tbody tr th:only-of-type {\n",
       "        vertical-align: middle;\n",
       "    }\n",
       "\n",
       "    .dataframe tbody tr th {\n",
       "        vertical-align: top;\n",
       "    }\n",
       "\n",
       "    .dataframe thead th {\n",
       "        text-align: right;\n",
       "    }\n",
       "</style>\n",
       "<table border=\"1\" class=\"dataframe\">\n",
       "  <thead>\n",
       "    <tr style=\"text-align: right;\">\n",
       "      <th></th>\n",
       "      <th>locationid</th>\n",
       "      <th>year</th>\n",
       "      <th>month</th>\n",
       "      <th>temp</th>\n",
       "      <th>latitude</th>\n",
       "      <th>longitude</th>\n",
       "      <th>stnelev</th>\n",
       "      <th>station</th>\n",
       "      <th>countryid</th>\n",
       "      <th>country</th>\n",
       "    </tr>\n",
       "  </thead>\n",
       "  <tbody>\n",
       "    <tr>\n",
       "      <th>0</th>\n",
       "      <td>USS0010K01S</td>\n",
       "      <td>2000</td>\n",
       "      <td>4</td>\n",
       "      <td>5.27</td>\n",
       "      <td>39.9000</td>\n",
       "      <td>-110.7500</td>\n",
       "      <td>2773.7</td>\n",
       "      <td>INDIAN_CANYON</td>\n",
       "      <td>US</td>\n",
       "      <td>United States</td>\n",
       "    </tr>\n",
       "    <tr>\n",
       "      <th>1</th>\n",
       "      <td>CI000085406</td>\n",
       "      <td>1940</td>\n",
       "      <td>5</td>\n",
       "      <td>18.04</td>\n",
       "      <td>-18.3500</td>\n",
       "      <td>-70.3330</td>\n",
       "      <td>58.0</td>\n",
       "      <td>ARICA</td>\n",
       "      <td>CI</td>\n",
       "      <td>Chile</td>\n",
       "    </tr>\n",
       "    <tr>\n",
       "      <th>2</th>\n",
       "      <td>USC00036376</td>\n",
       "      <td>2013</td>\n",
       "      <td>12</td>\n",
       "      <td>6.22</td>\n",
       "      <td>34.3703</td>\n",
       "      <td>-91.1242</td>\n",
       "      <td>61.0</td>\n",
       "      <td>SAINT_CHARLES</td>\n",
       "      <td>US</td>\n",
       "      <td>United States</td>\n",
       "    </tr>\n",
       "    <tr>\n",
       "      <th>3</th>\n",
       "      <td>ASN00024002</td>\n",
       "      <td>1963</td>\n",
       "      <td>2</td>\n",
       "      <td>22.93</td>\n",
       "      <td>-34.2833</td>\n",
       "      <td>140.6000</td>\n",
       "      <td>65.5</td>\n",
       "      <td>BERRI_IRRIGATION</td>\n",
       "      <td>AS</td>\n",
       "      <td>Australia</td>\n",
       "    </tr>\n",
       "    <tr>\n",
       "      <th>4</th>\n",
       "      <td>ASN00028007</td>\n",
       "      <td>2001</td>\n",
       "      <td>11</td>\n",
       "      <td>NaN</td>\n",
       "      <td>-14.7803</td>\n",
       "      <td>143.5036</td>\n",
       "      <td>79.4</td>\n",
       "      <td>MUSGRAVE</td>\n",
       "      <td>AS</td>\n",
       "      <td>Australia</td>\n",
       "    </tr>\n",
       "    <tr>\n",
       "      <th>...</th>\n",
       "      <td>...</td>\n",
       "      <td>...</td>\n",
       "      <td>...</td>\n",
       "      <td>...</td>\n",
       "      <td>...</td>\n",
       "      <td>...</td>\n",
       "      <td>...</td>\n",
       "      <td>...</td>\n",
       "      <td>...</td>\n",
       "      <td>...</td>\n",
       "    </tr>\n",
       "    <tr>\n",
       "      <th>99995</th>\n",
       "      <td>MXXLT347415</td>\n",
       "      <td>1991</td>\n",
       "      <td>4</td>\n",
       "      <td>29.02</td>\n",
       "      <td>17.7800</td>\n",
       "      <td>-96.3100</td>\n",
       "      <td>65.0</td>\n",
       "      <td>VALLE_NACIONAL_VALLE</td>\n",
       "      <td>MX</td>\n",
       "      <td>Mexico</td>\n",
       "    </tr>\n",
       "    <tr>\n",
       "      <th>99996</th>\n",
       "      <td>RSM00032287</td>\n",
       "      <td>1991</td>\n",
       "      <td>11</td>\n",
       "      <td>-2.81</td>\n",
       "      <td>57.0800</td>\n",
       "      <td>156.7000</td>\n",
       "      <td>3.0</td>\n",
       "      <td>UST_HAIRYUZOVO</td>\n",
       "      <td>RS</td>\n",
       "      <td>Russia</td>\n",
       "    </tr>\n",
       "    <tr>\n",
       "      <th>99997</th>\n",
       "      <td>ARM00087166</td>\n",
       "      <td>1937</td>\n",
       "      <td>4</td>\n",
       "      <td>19.42</td>\n",
       "      <td>-27.4460</td>\n",
       "      <td>-58.7620</td>\n",
       "      <td>61.9</td>\n",
       "      <td>CORRIENTES</td>\n",
       "      <td>AR</td>\n",
       "      <td>Argentina</td>\n",
       "    </tr>\n",
       "    <tr>\n",
       "      <th>99998</th>\n",
       "      <td>CA006137361</td>\n",
       "      <td>1958</td>\n",
       "      <td>10</td>\n",
       "      <td>10.02</td>\n",
       "      <td>42.7833</td>\n",
       "      <td>-81.1667</td>\n",
       "      <td>236.0</td>\n",
       "      <td>ST_THOMAS</td>\n",
       "      <td>CA</td>\n",
       "      <td>Canada</td>\n",
       "    </tr>\n",
       "    <tr>\n",
       "      <th>99999</th>\n",
       "      <td>CA006137361</td>\n",
       "      <td>1966</td>\n",
       "      <td>1</td>\n",
       "      <td>-7.85</td>\n",
       "      <td>42.7833</td>\n",
       "      <td>-81.1667</td>\n",
       "      <td>236.0</td>\n",
       "      <td>ST_THOMAS</td>\n",
       "      <td>CA</td>\n",
       "      <td>Canada</td>\n",
       "    </tr>\n",
       "  </tbody>\n",
       "</table>\n",
       "<p>100000 rows × 10 columns</p>\n",
       "</div>"
      ],
      "text/plain": [
       "        locationid  year  month   temp  latitude  longitude  stnelev  \\\n",
       "0      USS0010K01S  2000      4   5.27   39.9000  -110.7500   2773.7   \n",
       "1      CI000085406  1940      5  18.04  -18.3500   -70.3330     58.0   \n",
       "2      USC00036376  2013     12   6.22   34.3703   -91.1242     61.0   \n",
       "3      ASN00024002  1963      2  22.93  -34.2833   140.6000     65.5   \n",
       "4      ASN00028007  2001     11    NaN  -14.7803   143.5036     79.4   \n",
       "...            ...   ...    ...    ...       ...        ...      ...   \n",
       "99995  MXXLT347415  1991      4  29.02   17.7800   -96.3100     65.0   \n",
       "99996  RSM00032287  1991     11  -2.81   57.0800   156.7000      3.0   \n",
       "99997  ARM00087166  1937      4  19.42  -27.4460   -58.7620     61.9   \n",
       "99998  CA006137361  1958     10  10.02   42.7833   -81.1667    236.0   \n",
       "99999  CA006137361  1966      1  -7.85   42.7833   -81.1667    236.0   \n",
       "\n",
       "                    station countryid        country  \n",
       "0             INDIAN_CANYON        US  United States  \n",
       "1                     ARICA        CI          Chile  \n",
       "2             SAINT_CHARLES        US  United States  \n",
       "3          BERRI_IRRIGATION        AS      Australia  \n",
       "4                  MUSGRAVE        AS      Australia  \n",
       "...                     ...       ...            ...  \n",
       "99995  VALLE_NACIONAL_VALLE        MX         Mexico  \n",
       "99996        UST_HAIRYUZOVO        RS         Russia  \n",
       "99997            CORRIENTES        AR      Argentina  \n",
       "99998             ST_THOMAS        CA         Canada  \n",
       "99999             ST_THOMAS        CA         Canada  \n",
       "\n",
       "[100000 rows x 10 columns]"
      ]
     },
     "execution_count": 51,
     "metadata": {},
     "output_type": "execute_result"
    }
   ],
   "source": [
    "df"
   ]
  },
  {
   "cell_type": "code",
   "execution_count": 52,
   "id": "745229cb",
   "metadata": {},
   "outputs": [
    {
     "data": {
      "text/html": [
       "<div>\n",
       "<style scoped>\n",
       "    .dataframe tbody tr th:only-of-type {\n",
       "        vertical-align: middle;\n",
       "    }\n",
       "\n",
       "    .dataframe tbody tr th {\n",
       "        vertical-align: top;\n",
       "    }\n",
       "\n",
       "    .dataframe thead th {\n",
       "        text-align: right;\n",
       "    }\n",
       "</style>\n",
       "<table border=\"1\" class=\"dataframe\">\n",
       "  <thead>\n",
       "    <tr style=\"text-align: right;\">\n",
       "      <th></th>\n",
       "      <th>locationid</th>\n",
       "      <th>year</th>\n",
       "      <th>month</th>\n",
       "      <th>temp</th>\n",
       "      <th>latitude</th>\n",
       "      <th>longitude</th>\n",
       "      <th>stnelev</th>\n",
       "      <th>station</th>\n",
       "      <th>countryid</th>\n",
       "      <th>country</th>\n",
       "    </tr>\n",
       "  </thead>\n",
       "  <tbody>\n",
       "    <tr>\n",
       "      <th>0</th>\n",
       "      <td>USS0010K01S</td>\n",
       "      <td>2000</td>\n",
       "      <td>4</td>\n",
       "      <td>5.27</td>\n",
       "      <td>39.9000</td>\n",
       "      <td>-110.7500</td>\n",
       "      <td>2773.7</td>\n",
       "      <td>INDIAN_CANYON</td>\n",
       "      <td>US</td>\n",
       "      <td>United States</td>\n",
       "    </tr>\n",
       "    <tr>\n",
       "      <th>1</th>\n",
       "      <td>CI000085406</td>\n",
       "      <td>1940</td>\n",
       "      <td>5</td>\n",
       "      <td>18.04</td>\n",
       "      <td>-18.3500</td>\n",
       "      <td>-70.3330</td>\n",
       "      <td>58.0</td>\n",
       "      <td>ARICA</td>\n",
       "      <td>CI</td>\n",
       "      <td>Chile</td>\n",
       "    </tr>\n",
       "    <tr>\n",
       "      <th>2</th>\n",
       "      <td>USC00036376</td>\n",
       "      <td>2013</td>\n",
       "      <td>12</td>\n",
       "      <td>6.22</td>\n",
       "      <td>34.3703</td>\n",
       "      <td>-91.1242</td>\n",
       "      <td>61.0</td>\n",
       "      <td>SAINT_CHARLES</td>\n",
       "      <td>US</td>\n",
       "      <td>United States</td>\n",
       "    </tr>\n",
       "    <tr>\n",
       "      <th>3</th>\n",
       "      <td>ASN00024002</td>\n",
       "      <td>1963</td>\n",
       "      <td>2</td>\n",
       "      <td>22.93</td>\n",
       "      <td>-34.2833</td>\n",
       "      <td>140.6000</td>\n",
       "      <td>65.5</td>\n",
       "      <td>BERRI_IRRIGATION</td>\n",
       "      <td>AS</td>\n",
       "      <td>Australia</td>\n",
       "    </tr>\n",
       "    <tr>\n",
       "      <th>4</th>\n",
       "      <td>ASN00028007</td>\n",
       "      <td>2001</td>\n",
       "      <td>11</td>\n",
       "      <td>NaN</td>\n",
       "      <td>-14.7803</td>\n",
       "      <td>143.5036</td>\n",
       "      <td>79.4</td>\n",
       "      <td>MUSGRAVE</td>\n",
       "      <td>AS</td>\n",
       "      <td>Australia</td>\n",
       "    </tr>\n",
       "  </tbody>\n",
       "</table>\n",
       "</div>"
      ],
      "text/plain": [
       "    locationid  year  month   temp  latitude  longitude  stnelev  \\\n",
       "0  USS0010K01S  2000      4   5.27   39.9000  -110.7500   2773.7   \n",
       "1  CI000085406  1940      5  18.04  -18.3500   -70.3330     58.0   \n",
       "2  USC00036376  2013     12   6.22   34.3703   -91.1242     61.0   \n",
       "3  ASN00024002  1963      2  22.93  -34.2833   140.6000     65.5   \n",
       "4  ASN00028007  2001     11    NaN  -14.7803   143.5036     79.4   \n",
       "\n",
       "            station countryid        country  \n",
       "0     INDIAN_CANYON        US  United States  \n",
       "1             ARICA        CI          Chile  \n",
       "2     SAINT_CHARLES        US  United States  \n",
       "3  BERRI_IRRIGATION        AS      Australia  \n",
       "4          MUSGRAVE        AS      Australia  "
      ]
     },
     "execution_count": 52,
     "metadata": {},
     "output_type": "execute_result"
    }
   ],
   "source": [
    "df.head()"
   ]
  },
  {
   "cell_type": "code",
   "execution_count": 53,
   "id": "2725d756",
   "metadata": {},
   "outputs": [
    {
     "data": {
      "text/html": [
       "<div>\n",
       "<style scoped>\n",
       "    .dataframe tbody tr th:only-of-type {\n",
       "        vertical-align: middle;\n",
       "    }\n",
       "\n",
       "    .dataframe tbody tr th {\n",
       "        vertical-align: top;\n",
       "    }\n",
       "\n",
       "    .dataframe thead th {\n",
       "        text-align: right;\n",
       "    }\n",
       "</style>\n",
       "<table border=\"1\" class=\"dataframe\">\n",
       "  <thead>\n",
       "    <tr style=\"text-align: right;\">\n",
       "      <th></th>\n",
       "      <th>locationid</th>\n",
       "      <th>year</th>\n",
       "      <th>month</th>\n",
       "      <th>temp</th>\n",
       "      <th>latitude</th>\n",
       "      <th>longitude</th>\n",
       "      <th>stnelev</th>\n",
       "      <th>station</th>\n",
       "      <th>countryid</th>\n",
       "      <th>country</th>\n",
       "    </tr>\n",
       "  </thead>\n",
       "  <tbody>\n",
       "    <tr>\n",
       "      <th>99995</th>\n",
       "      <td>MXXLT347415</td>\n",
       "      <td>1991</td>\n",
       "      <td>4</td>\n",
       "      <td>29.02</td>\n",
       "      <td>17.7800</td>\n",
       "      <td>-96.3100</td>\n",
       "      <td>65.0</td>\n",
       "      <td>VALLE_NACIONAL_VALLE</td>\n",
       "      <td>MX</td>\n",
       "      <td>Mexico</td>\n",
       "    </tr>\n",
       "    <tr>\n",
       "      <th>99996</th>\n",
       "      <td>RSM00032287</td>\n",
       "      <td>1991</td>\n",
       "      <td>11</td>\n",
       "      <td>-2.81</td>\n",
       "      <td>57.0800</td>\n",
       "      <td>156.7000</td>\n",
       "      <td>3.0</td>\n",
       "      <td>UST_HAIRYUZOVO</td>\n",
       "      <td>RS</td>\n",
       "      <td>Russia</td>\n",
       "    </tr>\n",
       "    <tr>\n",
       "      <th>99997</th>\n",
       "      <td>ARM00087166</td>\n",
       "      <td>1937</td>\n",
       "      <td>4</td>\n",
       "      <td>19.42</td>\n",
       "      <td>-27.4460</td>\n",
       "      <td>-58.7620</td>\n",
       "      <td>61.9</td>\n",
       "      <td>CORRIENTES</td>\n",
       "      <td>AR</td>\n",
       "      <td>Argentina</td>\n",
       "    </tr>\n",
       "    <tr>\n",
       "      <th>99998</th>\n",
       "      <td>CA006137361</td>\n",
       "      <td>1958</td>\n",
       "      <td>10</td>\n",
       "      <td>10.02</td>\n",
       "      <td>42.7833</td>\n",
       "      <td>-81.1667</td>\n",
       "      <td>236.0</td>\n",
       "      <td>ST_THOMAS</td>\n",
       "      <td>CA</td>\n",
       "      <td>Canada</td>\n",
       "    </tr>\n",
       "    <tr>\n",
       "      <th>99999</th>\n",
       "      <td>CA006137361</td>\n",
       "      <td>1966</td>\n",
       "      <td>1</td>\n",
       "      <td>-7.85</td>\n",
       "      <td>42.7833</td>\n",
       "      <td>-81.1667</td>\n",
       "      <td>236.0</td>\n",
       "      <td>ST_THOMAS</td>\n",
       "      <td>CA</td>\n",
       "      <td>Canada</td>\n",
       "    </tr>\n",
       "  </tbody>\n",
       "</table>\n",
       "</div>"
      ],
      "text/plain": [
       "        locationid  year  month   temp  latitude  longitude  stnelev  \\\n",
       "99995  MXXLT347415  1991      4  29.02   17.7800   -96.3100     65.0   \n",
       "99996  RSM00032287  1991     11  -2.81   57.0800   156.7000      3.0   \n",
       "99997  ARM00087166  1937      4  19.42  -27.4460   -58.7620     61.9   \n",
       "99998  CA006137361  1958     10  10.02   42.7833   -81.1667    236.0   \n",
       "99999  CA006137361  1966      1  -7.85   42.7833   -81.1667    236.0   \n",
       "\n",
       "                    station countryid    country  \n",
       "99995  VALLE_NACIONAL_VALLE        MX     Mexico  \n",
       "99996        UST_HAIRYUZOVO        RS     Russia  \n",
       "99997            CORRIENTES        AR  Argentina  \n",
       "99998             ST_THOMAS        CA     Canada  \n",
       "99999             ST_THOMAS        CA     Canada  "
      ]
     },
     "execution_count": 53,
     "metadata": {},
     "output_type": "execute_result"
    }
   ],
   "source": [
    "df.tail()"
   ]
  },
  {
   "cell_type": "code",
   "execution_count": 54,
   "id": "1109ae9c",
   "metadata": {},
   "outputs": [
    {
     "data": {
      "text/plain": [
       "0        USS0010K01S\n",
       "1        CI000085406\n",
       "2        USC00036376\n",
       "3        ASN00024002\n",
       "4        ASN00028007\n",
       "            ...     \n",
       "99995    MXXLT347415\n",
       "99996    RSM00032287\n",
       "99997    ARM00087166\n",
       "99998    CA006137361\n",
       "99999    CA006137361\n",
       "Name: locationid, Length: 100000, dtype: object"
      ]
     },
     "execution_count": 54,
     "metadata": {},
     "output_type": "execute_result"
    }
   ],
   "source": [
    "df['locationid']"
   ]
  },
  {
   "cell_type": "code",
   "execution_count": 55,
   "id": "fc23d0a1",
   "metadata": {},
   "outputs": [
    {
     "data": {
      "text/plain": [
       "pandas.core.series.Series"
      ]
     },
     "execution_count": 55,
     "metadata": {},
     "output_type": "execute_result"
    }
   ],
   "source": [
    "type(df['locationid'])"
   ]
  },
  {
   "cell_type": "code",
   "execution_count": 56,
   "id": "0021d4c2",
   "metadata": {},
   "outputs": [
    {
     "data": {
      "text/plain": [
       "(100000, 10)"
      ]
     },
     "execution_count": 56,
     "metadata": {},
     "output_type": "execute_result"
    }
   ],
   "source": [
    "df.shape"
   ]
  },
  {
   "cell_type": "code",
   "execution_count": 57,
   "id": "53d13fb2",
   "metadata": {},
   "outputs": [
    {
     "data": {
      "text/plain": [
       "NOE00111040    27\n",
       "NLM00006260    25\n",
       "ITE00100554    25\n",
       "SZ000008390    24\n",
       "USC00121747    24\n",
       "               ..\n",
       "CA007040MLR     1\n",
       "ASN00007178     1\n",
       "USC00414080     1\n",
       "USC00010425     1\n",
       "CA008403255     1\n",
       "Name: locationid, Length: 24528, dtype: int64"
      ]
     },
     "execution_count": 57,
     "metadata": {},
     "output_type": "execute_result"
    }
   ],
   "source": [
    "df['locationid'].value_counts()"
   ]
  },
  {
   "cell_type": "code",
   "execution_count": 58,
   "id": "22c919bc",
   "metadata": {},
   "outputs": [
    {
     "data": {
      "text/plain": [
       "locationid        0\n",
       "year              0\n",
       "month             0\n",
       "temp          14446\n",
       "latitude          0\n",
       "longitude         0\n",
       "stnelev           0\n",
       "station           0\n",
       "countryid         0\n",
       "country           5\n",
       "dtype: int64"
      ]
     },
     "execution_count": 58,
     "metadata": {},
     "output_type": "execute_result"
    }
   ],
   "source": [
    "df.isna().sum()"
   ]
  },
  {
   "cell_type": "code",
   "execution_count": 60,
   "id": "484a297e",
   "metadata": {},
   "outputs": [
    {
     "data": {
      "text/html": [
       "<div>\n",
       "<style scoped>\n",
       "    .dataframe tbody tr th:only-of-type {\n",
       "        vertical-align: middle;\n",
       "    }\n",
       "\n",
       "    .dataframe tbody tr th {\n",
       "        vertical-align: top;\n",
       "    }\n",
       "\n",
       "    .dataframe thead th {\n",
       "        text-align: right;\n",
       "    }\n",
       "</style>\n",
       "<table border=\"1\" class=\"dataframe\">\n",
       "  <thead>\n",
       "    <tr style=\"text-align: right;\">\n",
       "      <th></th>\n",
       "      <th>year</th>\n",
       "      <th>month</th>\n",
       "      <th>temp</th>\n",
       "      <th>latitude</th>\n",
       "      <th>longitude</th>\n",
       "      <th>stnelev</th>\n",
       "    </tr>\n",
       "  </thead>\n",
       "  <tbody>\n",
       "    <tr>\n",
       "      <th>count</th>\n",
       "      <td>100000.000000</td>\n",
       "      <td>100000.000000</td>\n",
       "      <td>85554.000000</td>\n",
       "      <td>100000.000000</td>\n",
       "      <td>100000.000000</td>\n",
       "      <td>100000.000000</td>\n",
       "    </tr>\n",
       "    <tr>\n",
       "      <th>mean</th>\n",
       "      <td>1969.458030</td>\n",
       "      <td>6.494640</td>\n",
       "      <td>10.920770</td>\n",
       "      <td>35.075456</td>\n",
       "      <td>-38.123732</td>\n",
       "      <td>565.562545</td>\n",
       "    </tr>\n",
       "    <tr>\n",
       "      <th>std</th>\n",
       "      <td>35.836832</td>\n",
       "      <td>3.446463</td>\n",
       "      <td>11.522444</td>\n",
       "      <td>23.545646</td>\n",
       "      <td>84.297049</td>\n",
       "      <td>1073.647214</td>\n",
       "    </tr>\n",
       "    <tr>\n",
       "      <th>min</th>\n",
       "      <td>1720.000000</td>\n",
       "      <td>1.000000</td>\n",
       "      <td>-70.700000</td>\n",
       "      <td>-90.000000</td>\n",
       "      <td>-179.983000</td>\n",
       "      <td>-350.000000</td>\n",
       "    </tr>\n",
       "    <tr>\n",
       "      <th>25%</th>\n",
       "      <td>1949.000000</td>\n",
       "      <td>3.000000</td>\n",
       "      <td>3.460000</td>\n",
       "      <td>33.190675</td>\n",
       "      <td>-101.657925</td>\n",
       "      <td>64.000000</td>\n",
       "    </tr>\n",
       "    <tr>\n",
       "      <th>50%</th>\n",
       "      <td>1975.000000</td>\n",
       "      <td>6.000000</td>\n",
       "      <td>12.220000</td>\n",
       "      <td>40.793050</td>\n",
       "      <td>-79.568300</td>\n",
       "      <td>240.800000</td>\n",
       "    </tr>\n",
       "    <tr>\n",
       "      <th>75%</th>\n",
       "      <td>1998.000000</td>\n",
       "      <td>9.000000</td>\n",
       "      <td>19.570000</td>\n",
       "      <td>47.424700</td>\n",
       "      <td>17.533100</td>\n",
       "      <td>644.700000</td>\n",
       "    </tr>\n",
       "    <tr>\n",
       "      <th>max</th>\n",
       "      <td>2020.000000</td>\n",
       "      <td>12.000000</td>\n",
       "      <td>39.950000</td>\n",
       "      <td>82.516700</td>\n",
       "      <td>179.750000</td>\n",
       "      <td>9999.000000</td>\n",
       "    </tr>\n",
       "  </tbody>\n",
       "</table>\n",
       "</div>"
      ],
      "text/plain": [
       "                year          month          temp       latitude  \\\n",
       "count  100000.000000  100000.000000  85554.000000  100000.000000   \n",
       "mean     1969.458030       6.494640     10.920770      35.075456   \n",
       "std        35.836832       3.446463     11.522444      23.545646   \n",
       "min      1720.000000       1.000000    -70.700000     -90.000000   \n",
       "25%      1949.000000       3.000000      3.460000      33.190675   \n",
       "50%      1975.000000       6.000000     12.220000      40.793050   \n",
       "75%      1998.000000       9.000000     19.570000      47.424700   \n",
       "max      2020.000000      12.000000     39.950000      82.516700   \n",
       "\n",
       "           longitude        stnelev  \n",
       "count  100000.000000  100000.000000  \n",
       "mean      -38.123732     565.562545  \n",
       "std        84.297049    1073.647214  \n",
       "min      -179.983000    -350.000000  \n",
       "25%      -101.657925      64.000000  \n",
       "50%       -79.568300     240.800000  \n",
       "75%        17.533100     644.700000  \n",
       "max       179.750000    9999.000000  "
      ]
     },
     "execution_count": 60,
     "metadata": {},
     "output_type": "execute_result"
    }
   ],
   "source": [
    "df.describe()"
   ]
  },
  {
   "cell_type": "code",
   "execution_count": 61,
   "id": "06904f9d",
   "metadata": {},
   "outputs": [
    {
     "data": {
      "text/html": [
       "<div>\n",
       "<style scoped>\n",
       "    .dataframe tbody tr th:only-of-type {\n",
       "        vertical-align: middle;\n",
       "    }\n",
       "\n",
       "    .dataframe tbody tr th {\n",
       "        vertical-align: top;\n",
       "    }\n",
       "\n",
       "    .dataframe thead th {\n",
       "        text-align: right;\n",
       "    }\n",
       "</style>\n",
       "<table border=\"1\" class=\"dataframe\">\n",
       "  <thead>\n",
       "    <tr style=\"text-align: right;\">\n",
       "      <th></th>\n",
       "      <th>year</th>\n",
       "      <th>month</th>\n",
       "      <th>temp</th>\n",
       "      <th>latitude</th>\n",
       "      <th>longitude</th>\n",
       "      <th>stnelev</th>\n",
       "    </tr>\n",
       "  </thead>\n",
       "  <tbody>\n",
       "    <tr>\n",
       "      <th>year</th>\n",
       "      <td>1.000000</td>\n",
       "      <td>-0.000873</td>\n",
       "      <td>0.010263</td>\n",
       "      <td>-0.030330</td>\n",
       "      <td>0.017549</td>\n",
       "      <td>0.016371</td>\n",
       "    </tr>\n",
       "    <tr>\n",
       "      <th>month</th>\n",
       "      <td>-0.000873</td>\n",
       "      <td>1.000000</td>\n",
       "      <td>0.152352</td>\n",
       "      <td>0.003395</td>\n",
       "      <td>0.004964</td>\n",
       "      <td>-0.002225</td>\n",
       "    </tr>\n",
       "    <tr>\n",
       "      <th>temp</th>\n",
       "      <td>0.010263</td>\n",
       "      <td>0.152352</td>\n",
       "      <td>1.000000</td>\n",
       "      <td>-0.397717</td>\n",
       "      <td>0.071065</td>\n",
       "      <td>-0.060881</td>\n",
       "    </tr>\n",
       "    <tr>\n",
       "      <th>latitude</th>\n",
       "      <td>-0.030330</td>\n",
       "      <td>0.003395</td>\n",
       "      <td>-0.397717</td>\n",
       "      <td>1.000000</td>\n",
       "      <td>-0.338208</td>\n",
       "      <td>-0.050871</td>\n",
       "    </tr>\n",
       "    <tr>\n",
       "      <th>longitude</th>\n",
       "      <td>0.017549</td>\n",
       "      <td>0.004964</td>\n",
       "      <td>0.071065</td>\n",
       "      <td>-0.338208</td>\n",
       "      <td>1.000000</td>\n",
       "      <td>-0.092062</td>\n",
       "    </tr>\n",
       "    <tr>\n",
       "      <th>stnelev</th>\n",
       "      <td>0.016371</td>\n",
       "      <td>-0.002225</td>\n",
       "      <td>-0.060881</td>\n",
       "      <td>-0.050871</td>\n",
       "      <td>-0.092062</td>\n",
       "      <td>1.000000</td>\n",
       "    </tr>\n",
       "  </tbody>\n",
       "</table>\n",
       "</div>"
      ],
      "text/plain": [
       "               year     month      temp  latitude  longitude   stnelev\n",
       "year       1.000000 -0.000873  0.010263 -0.030330   0.017549  0.016371\n",
       "month     -0.000873  1.000000  0.152352  0.003395   0.004964 -0.002225\n",
       "temp       0.010263  0.152352  1.000000 -0.397717   0.071065 -0.060881\n",
       "latitude  -0.030330  0.003395 -0.397717  1.000000  -0.338208 -0.050871\n",
       "longitude  0.017549  0.004964  0.071065 -0.338208   1.000000 -0.092062\n",
       "stnelev    0.016371 -0.002225 -0.060881 -0.050871  -0.092062  1.000000"
      ]
     },
     "execution_count": 61,
     "metadata": {},
     "output_type": "execute_result"
    }
   ],
   "source": [
    "df.corr()"
   ]
  },
  {
   "cell_type": "code",
   "execution_count": null,
   "id": "30307933",
   "metadata": {},
   "outputs": [],
   "source": []
  }
 ],
 "metadata": {
  "kernelspec": {
   "display_name": "Python 3",
   "language": "python",
   "name": "python3"
  },
  "language_info": {
   "codemirror_mode": {
    "name": "ipython",
    "version": 3
   },
   "file_extension": ".py",
   "mimetype": "text/x-python",
   "name": "python",
   "nbconvert_exporter": "python",
   "pygments_lexer": "ipython3",
   "version": "3.8.8"
  }
 },
 "nbformat": 4,
 "nbformat_minor": 5
}
