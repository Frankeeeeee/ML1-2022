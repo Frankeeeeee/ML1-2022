{
 "cells": [
  {
   "cell_type": "markdown",
   "id": "e766fa48",
   "metadata": {},
   "source": [
    "# python base"
   ]
  },
  {
   "cell_type": "code",
   "execution_count": 1,
   "id": "f67dc7ff",
   "metadata": {},
   "outputs": [
    {
     "data": {
      "text/plain": [
       "[[4, 5, 34, 3, 7], [4, 5, 34, 3, 7], [4, 5, 34, 3, 7]]"
      ]
     },
     "execution_count": 1,
     "metadata": {},
     "output_type": "execute_result"
    }
   ],
   "source": [
    "x=[4,5,34,3,7]\n",
    "[x,x,x]"
   ]
  },
  {
   "cell_type": "code",
   "execution_count": 2,
   "id": "f9a9640c",
   "metadata": {},
   "outputs": [
    {
     "data": {
      "text/plain": [
       "72"
      ]
     },
     "execution_count": 2,
     "metadata": {},
     "output_type": "execute_result"
    }
   ],
   "source": [
    "32+40"
   ]
  },
  {
   "cell_type": "code",
   "execution_count": 3,
   "id": "984e3632",
   "metadata": {},
   "outputs": [
    {
     "data": {
      "text/plain": [
       "'3240'"
      ]
     },
     "execution_count": 3,
     "metadata": {},
     "output_type": "execute_result"
    }
   ],
   "source": [
    "\"32\"+\"40\""
   ]
  },
  {
   "cell_type": "code",
   "execution_count": 4,
   "id": "8e780577",
   "metadata": {},
   "outputs": [
    {
     "data": {
      "text/plain": [
       "float"
      ]
     },
     "execution_count": 4,
     "metadata": {},
     "output_type": "execute_result"
    }
   ],
   "source": [
    "type(6.2)"
   ]
  },
  {
   "cell_type": "code",
   "execution_count": 5,
   "id": "f2640262",
   "metadata": {},
   "outputs": [
    {
     "data": {
      "text/plain": [
       "str"
      ]
     },
     "execution_count": 5,
     "metadata": {},
     "output_type": "execute_result"
    }
   ],
   "source": [
    "type(\"qwerty\")"
   ]
  },
  {
   "cell_type": "code",
   "execution_count": 6,
   "id": "8e19b439",
   "metadata": {},
   "outputs": [
    {
     "data": {
      "text/plain": [
       "int"
      ]
     },
     "execution_count": 6,
     "metadata": {},
     "output_type": "execute_result"
    }
   ],
   "source": [
    "type(2)"
   ]
  },
  {
   "cell_type": "code",
   "execution_count": 7,
   "id": "cc0e101a",
   "metadata": {},
   "outputs": [
    {
     "data": {
      "text/plain": [
       "False"
      ]
     },
     "execution_count": 7,
     "metadata": {},
     "output_type": "execute_result"
    }
   ],
   "source": [
    "c=12\n",
    "c==13"
   ]
  },
  {
   "cell_type": "code",
   "execution_count": 8,
   "id": "01699ecc",
   "metadata": {},
   "outputs": [
    {
     "data": {
      "text/plain": [
       "True"
      ]
     },
     "execution_count": 8,
     "metadata": {},
     "output_type": "execute_result"
    }
   ],
   "source": [
    "c=12\n",
    "c==12"
   ]
  },
  {
   "cell_type": "code",
   "execution_count": 9,
   "id": "8df8842f",
   "metadata": {},
   "outputs": [
    {
     "data": {
      "text/plain": [
       "int"
      ]
     },
     "execution_count": 9,
     "metadata": {},
     "output_type": "execute_result"
    }
   ],
   "source": [
    "type(c)"
   ]
  },
  {
   "cell_type": "markdown",
   "id": "c8e87737",
   "metadata": {},
   "source": [
    "# tuples and list"
   ]
  },
  {
   "cell_type": "code",
   "execution_count": 10,
   "id": "bf7b6706",
   "metadata": {},
   "outputs": [
    {
     "data": {
      "text/plain": [
       "False"
      ]
     },
     "execution_count": 10,
     "metadata": {},
     "output_type": "execute_result"
    }
   ],
   "source": [
    "score=[12,34,65,38,12,98]\n",
    "sel_score=40\n",
    "score[3]>sel_score"
   ]
  },
  {
   "cell_type": "code",
   "execution_count": 11,
   "id": "7db2e8f1",
   "metadata": {},
   "outputs": [
    {
     "data": {
      "text/plain": [
       "range(0, 10)"
      ]
     },
     "execution_count": 11,
     "metadata": {},
     "output_type": "execute_result"
    }
   ],
   "source": [
    "range(0,10)"
   ]
  },
  {
   "cell_type": "code",
   "execution_count": 12,
   "id": "867fa128",
   "metadata": {},
   "outputs": [
    {
     "name": "stdout",
     "output_type": "stream",
     "text": [
      "not selected to the team\n"
     ]
    }
   ],
   "source": [
    "if score[1]<sel_score:\n",
    "    print(\"not selected to the team\")"
   ]
  },
  {
   "cell_type": "code",
   "execution_count": 13,
   "id": "87f36415",
   "metadata": {},
   "outputs": [
    {
     "name": "stdout",
     "output_type": "stream",
     "text": [
      "0\n",
      "1\n",
      "2\n",
      "3\n",
      "4\n",
      "5\n",
      "6\n",
      "7\n",
      "8\n",
      "9\n"
     ]
    }
   ],
   "source": [
    "for x in range (10):\n",
    "    print (x)\n",
    "  "
   ]
  },
  {
   "cell_type": "code",
   "execution_count": 14,
   "id": "e92c6591",
   "metadata": {},
   "outputs": [
    {
     "name": "stdout",
     "output_type": "stream",
     "text": [
      "12\n",
      "34\n",
      "65\n",
      "38\n",
      "12\n",
      "98\n"
     ]
    }
   ],
   "source": [
    "for x in range(len(score)):\n",
    "    print(score[x])"
   ]
  },
  {
   "cell_type": "code",
   "execution_count": 15,
   "id": "cb10b623",
   "metadata": {},
   "outputs": [
    {
     "name": "stdout",
     "output_type": "stream",
     "text": [
      "12\n",
      "not selected to the team\n",
      "***************************\n",
      "34\n",
      "not selected to the team\n",
      "***************************\n",
      "65\n",
      "selected to the team\n",
      "***************************\n",
      "38\n",
      "not selected to the team\n",
      "***************************\n",
      "12\n",
      "not selected to the team\n",
      "***************************\n",
      "98\n",
      "selected to the team\n",
      "***************************\n"
     ]
    }
   ],
   "source": [
    "for score in score:\n",
    "    print(score)  \n",
    "    if score<sel_score:\n",
    "        print(\"not selected to the team\")\n",
    "    else: \n",
    "        print(\"selected to the team\")\n",
    "    print(\"***************************\")\n",
    "    \n",
    "#else if\n",
    "#elif"
   ]
  },
  {
   "cell_type": "code",
   "execution_count": 16,
   "id": "a6d26971",
   "metadata": {},
   "outputs": [
    {
     "name": "stdout",
     "output_type": "stream",
     "text": [
      "1\n",
      "5\n",
      "9\n",
      "13\n",
      "17\n",
      "21\n",
      "25\n",
      "29\n",
      "33\n",
      "37\n",
      "41\n",
      "45\n",
      "49\n",
      "53\n",
      "57\n",
      "61\n"
     ]
    }
   ],
   "source": [
    "x = range(1, 62, 4)\n",
    "for n in x:\n",
    "    print(n)\n",
    "#start = 1, stop = 62, step = 4"
   ]
  },
  {
   "cell_type": "code",
   "execution_count": 17,
   "id": "59ab258b",
   "metadata": {},
   "outputs": [],
   "source": [
    "def subtract(a, b):\n",
    "    return a-b"
   ]
  },
  {
   "cell_type": "code",
   "execution_count": 18,
   "id": "ebd55e7f",
   "metadata": {},
   "outputs": [
    {
     "data": {
      "text/plain": [
       "6"
      ]
     },
     "execution_count": 18,
     "metadata": {},
     "output_type": "execute_result"
    }
   ],
   "source": [
    "subtract(10,4)"
   ]
  },
  {
   "cell_type": "code",
   "execution_count": 19,
   "id": "851ffbf2",
   "metadata": {},
   "outputs": [
    {
     "data": {
      "text/plain": [
       "60"
      ]
     },
     "execution_count": 19,
     "metadata": {},
     "output_type": "execute_result"
    }
   ],
   "source": [
    "def mul(a,b):\n",
    "    return a*b\n",
    "mul(12,5)    "
   ]
  },
  {
   "cell_type": "code",
   "execution_count": 20,
   "id": "c1c4f2f7",
   "metadata": {},
   "outputs": [
    {
     "data": {
      "text/plain": [
       "120"
      ]
     },
     "execution_count": 20,
     "metadata": {},
     "output_type": "execute_result"
    }
   ],
   "source": [
    "def mod(a,b):\n",
    "    return a%b\n",
    "mul(40,3)    "
   ]
  },
  {
   "cell_type": "markdown",
   "id": "f37ccf29",
   "metadata": {},
   "source": [
    "# Python for DS"
   ]
  },
  {
   "cell_type": "code",
   "execution_count": 25,
   "id": "c2a53723",
   "metadata": {},
   "outputs": [],
   "source": [
    "import pandas as pd\n",
    "import numpy as np"
   ]
  },
  {
   "cell_type": "code",
   "execution_count": 28,
   "id": "0587f582",
   "metadata": {},
   "outputs": [
    {
     "data": {
      "text/plain": [
       "[112, 112, 113, 114, 115, 116]"
      ]
     },
     "execution_count": 28,
     "metadata": {},
     "output_type": "execute_result"
    }
   ],
   "source": [
    "petrolcost=[112,112,113,114,115,116]\n",
    "petrolcost"
   ]
  },
  {
   "cell_type": "code",
   "execution_count": 29,
   "id": "0b173f2e",
   "metadata": {},
   "outputs": [],
   "source": [
    "petrolcost_series = pd.Series(petrolcost)"
   ]
  },
  {
   "cell_type": "code",
   "execution_count": 30,
   "id": "6e8ff515",
   "metadata": {},
   "outputs": [
    {
     "data": {
      "text/plain": [
       "0    112\n",
       "1    112\n",
       "2    113\n",
       "3    114\n",
       "4    115\n",
       "5    116\n",
       "dtype: int64"
      ]
     },
     "execution_count": 30,
     "metadata": {},
     "output_type": "execute_result"
    }
   ],
   "source": [
    "petrolcost_series "
   ]
  },
  {
   "cell_type": "code",
   "execution_count": 31,
   "id": "cc26335d",
   "metadata": {},
   "outputs": [
    {
     "data": {
      "text/plain": [
       "RangeIndex(start=0, stop=6, step=1)"
      ]
     },
     "execution_count": 31,
     "metadata": {},
     "output_type": "execute_result"
    }
   ],
   "source": [
    "petrolcost_series.index"
   ]
  },
  {
   "cell_type": "code",
   "execution_count": 32,
   "id": "5aa55f00",
   "metadata": {},
   "outputs": [
    {
     "data": {
      "text/plain": [
       "array([112, 112, 113, 114, 115, 116], dtype=int64)"
      ]
     },
     "execution_count": 32,
     "metadata": {},
     "output_type": "execute_result"
    }
   ],
   "source": [
    "petrolcost_series.values"
   ]
  },
  {
   "cell_type": "code",
   "execution_count": 33,
   "id": "5c22aaf6",
   "metadata": {},
   "outputs": [
    {
     "data": {
      "text/plain": [
       "1    112\n",
       "2    113\n",
       "dtype: int64"
      ]
     },
     "execution_count": 33,
     "metadata": {},
     "output_type": "execute_result"
    }
   ],
   "source": [
    "petrolcost_series[1:3]"
   ]
  },
  {
   "cell_type": "code",
   "execution_count": 34,
   "id": "c13839b1",
   "metadata": {},
   "outputs": [
    {
     "data": {
      "text/plain": [
       "2    113\n",
       "3    114\n",
       "4    115\n",
       "5    116\n",
       "dtype: int64"
      ]
     },
     "execution_count": 34,
     "metadata": {},
     "output_type": "execute_result"
    }
   ],
   "source": [
    "petrolcost_series[2:]"
   ]
  },
  {
   "cell_type": "code",
   "execution_count": 35,
   "id": "f0b77347",
   "metadata": {},
   "outputs": [
    {
     "data": {
      "text/plain": [
       "0    112\n",
       "1    112\n",
       "2    113\n",
       "dtype: int64"
      ]
     },
     "execution_count": 35,
     "metadata": {},
     "output_type": "execute_result"
    }
   ],
   "source": [
    "petrolcost_series[:3]"
   ]
  },
  {
   "cell_type": "code",
   "execution_count": 36,
   "id": "34d44fd9",
   "metadata": {},
   "outputs": [
    {
     "data": {
      "text/plain": [
       "0    112.0\n",
       "1    112.0\n",
       "2    113.0\n",
       "3    114.0\n",
       "4      NaN\n",
       "5    116.0\n",
       "dtype: float64"
      ]
     },
     "execution_count": 36,
     "metadata": {},
     "output_type": "execute_result"
    }
   ],
   "source": [
    "petrolcost_series[4]=None\n",
    "petrolcost_series"
   ]
  },
  {
   "cell_type": "code",
   "execution_count": 37,
   "id": "18dc342d",
   "metadata": {},
   "outputs": [
    {
     "data": {
      "text/plain": [
       "0    112.0\n",
       "1    112.0\n",
       "2    113.0\n",
       "3    114.0\n",
       "4      NaN\n",
       "5    116.0\n",
       "dtype: float64"
      ]
     },
     "execution_count": 37,
     "metadata": {},
     "output_type": "execute_result"
    }
   ],
   "source": [
    "petrolcost_series[::]"
   ]
  },
  {
   "cell_type": "code",
   "execution_count": 38,
   "id": "91c04c62",
   "metadata": {},
   "outputs": [
    {
     "data": {
      "text/plain": [
       "0    112.0\n",
       "1    112.0\n",
       "2    113.0\n",
       "3    114.0\n",
       "4      NaN\n",
       "5    116.0\n",
       "dtype: float64"
      ]
     },
     "execution_count": 38,
     "metadata": {},
     "output_type": "execute_result"
    }
   ],
   "source": [
    "petrolcost_series[:]"
   ]
  },
  {
   "cell_type": "code",
   "execution_count": 40,
   "id": "382a6138",
   "metadata": {},
   "outputs": [
    {
     "data": {
      "text/plain": [
       "112.0    2\n",
       "116.0    1\n",
       "114.0    1\n",
       "113.0    1\n",
       "dtype: int64"
      ]
     },
     "execution_count": 40,
     "metadata": {},
     "output_type": "execute_result"
    }
   ],
   "source": [
    "petrolcost_series.value_counts()"
   ]
  },
  {
   "cell_type": "code",
   "execution_count": 46,
   "id": "5ba0eb78",
   "metadata": {},
   "outputs": [],
   "source": [
    "cost_df = pd.DataFrame(([petrolcost, petrolcost])).T                      "
   ]
  },
  {
   "cell_type": "code",
   "execution_count": 47,
   "id": "9f67197a",
   "metadata": {},
   "outputs": [
    {
     "data": {
      "text/html": [
       "<div>\n",
       "<style scoped>\n",
       "    .dataframe tbody tr th:only-of-type {\n",
       "        vertical-align: middle;\n",
       "    }\n",
       "\n",
       "    .dataframe tbody tr th {\n",
       "        vertical-align: top;\n",
       "    }\n",
       "\n",
       "    .dataframe thead th {\n",
       "        text-align: right;\n",
       "    }\n",
       "</style>\n",
       "<table border=\"1\" class=\"dataframe\">\n",
       "  <thead>\n",
       "    <tr style=\"text-align: right;\">\n",
       "      <th></th>\n",
       "      <th>0</th>\n",
       "      <th>1</th>\n",
       "    </tr>\n",
       "  </thead>\n",
       "  <tbody>\n",
       "    <tr>\n",
       "      <th>0</th>\n",
       "      <td>112</td>\n",
       "      <td>112</td>\n",
       "    </tr>\n",
       "    <tr>\n",
       "      <th>1</th>\n",
       "      <td>112</td>\n",
       "      <td>112</td>\n",
       "    </tr>\n",
       "    <tr>\n",
       "      <th>2</th>\n",
       "      <td>113</td>\n",
       "      <td>113</td>\n",
       "    </tr>\n",
       "    <tr>\n",
       "      <th>3</th>\n",
       "      <td>114</td>\n",
       "      <td>114</td>\n",
       "    </tr>\n",
       "    <tr>\n",
       "      <th>4</th>\n",
       "      <td>115</td>\n",
       "      <td>115</td>\n",
       "    </tr>\n",
       "    <tr>\n",
       "      <th>5</th>\n",
       "      <td>116</td>\n",
       "      <td>116</td>\n",
       "    </tr>\n",
       "  </tbody>\n",
       "</table>\n",
       "</div>"
      ],
      "text/plain": [
       "     0    1\n",
       "0  112  112\n",
       "1  112  112\n",
       "2  113  113\n",
       "3  114  114\n",
       "4  115  115\n",
       "5  116  116"
      ]
     },
     "execution_count": 47,
     "metadata": {},
     "output_type": "execute_result"
    }
   ],
   "source": [
    "cost_df"
   ]
  },
  {
   "cell_type": "code",
   "execution_count": 48,
   "id": "c0382e95",
   "metadata": {},
   "outputs": [],
   "source": [
    "cost_df.columns = ['pcost1', 'pcost2']"
   ]
  },
  {
   "cell_type": "code",
   "execution_count": 49,
   "id": "7df1b40d",
   "metadata": {},
   "outputs": [
    {
     "data": {
      "text/html": [
       "<div>\n",
       "<style scoped>\n",
       "    .dataframe tbody tr th:only-of-type {\n",
       "        vertical-align: middle;\n",
       "    }\n",
       "\n",
       "    .dataframe tbody tr th {\n",
       "        vertical-align: top;\n",
       "    }\n",
       "\n",
       "    .dataframe thead th {\n",
       "        text-align: right;\n",
       "    }\n",
       "</style>\n",
       "<table border=\"1\" class=\"dataframe\">\n",
       "  <thead>\n",
       "    <tr style=\"text-align: right;\">\n",
       "      <th></th>\n",
       "      <th>pcost1</th>\n",
       "      <th>pcost2</th>\n",
       "    </tr>\n",
       "  </thead>\n",
       "  <tbody>\n",
       "    <tr>\n",
       "      <th>0</th>\n",
       "      <td>112</td>\n",
       "      <td>112</td>\n",
       "    </tr>\n",
       "    <tr>\n",
       "      <th>1</th>\n",
       "      <td>112</td>\n",
       "      <td>112</td>\n",
       "    </tr>\n",
       "    <tr>\n",
       "      <th>2</th>\n",
       "      <td>113</td>\n",
       "      <td>113</td>\n",
       "    </tr>\n",
       "    <tr>\n",
       "      <th>3</th>\n",
       "      <td>114</td>\n",
       "      <td>114</td>\n",
       "    </tr>\n",
       "    <tr>\n",
       "      <th>4</th>\n",
       "      <td>115</td>\n",
       "      <td>115</td>\n",
       "    </tr>\n",
       "    <tr>\n",
       "      <th>5</th>\n",
       "      <td>116</td>\n",
       "      <td>116</td>\n",
       "    </tr>\n",
       "  </tbody>\n",
       "</table>\n",
       "</div>"
      ],
      "text/plain": [
       "   pcost1  pcost2\n",
       "0     112     112\n",
       "1     112     112\n",
       "2     113     113\n",
       "3     114     114\n",
       "4     115     115\n",
       "5     116     116"
      ]
     },
     "execution_count": 49,
     "metadata": {},
     "output_type": "execute_result"
    }
   ],
   "source": [
    "cost_df"
   ]
  },
  {
   "cell_type": "code",
   "execution_count": 118,
   "id": "bb0d2a5f",
   "metadata": {},
   "outputs": [],
   "source": [
    "df = pd.read_csv(\"Toy sales data.csv\")"
   ]
  },
  {
   "cell_type": "code",
   "execution_count": 119,
   "id": "3a5fda02",
   "metadata": {},
   "outputs": [
    {
     "data": {
      "text/html": [
       "<div>\n",
       "<style scoped>\n",
       "    .dataframe tbody tr th:only-of-type {\n",
       "        vertical-align: middle;\n",
       "    }\n",
       "\n",
       "    .dataframe tbody tr th {\n",
       "        vertical-align: top;\n",
       "    }\n",
       "\n",
       "    .dataframe thead th {\n",
       "        text-align: right;\n",
       "    }\n",
       "</style>\n",
       "<table border=\"1\" class=\"dataframe\">\n",
       "  <thead>\n",
       "    <tr style=\"text-align: right;\">\n",
       "      <th></th>\n",
       "      <th>Sale_ID</th>\n",
       "      <th>Date</th>\n",
       "      <th>Store_ID</th>\n",
       "      <th>Product_ID</th>\n",
       "      <th>Units</th>\n",
       "      <th>Store_Name</th>\n",
       "      <th>Store_City</th>\n",
       "      <th>Store_Location</th>\n",
       "      <th>Store_Open_Date</th>\n",
       "      <th>Product_Name</th>\n",
       "      <th>Product_Category</th>\n",
       "      <th>Product_Cost</th>\n",
       "      <th>Product_Price</th>\n",
       "      <th>Stock_On_Hand</th>\n",
       "    </tr>\n",
       "  </thead>\n",
       "  <tbody>\n",
       "    <tr>\n",
       "      <th>0</th>\n",
       "      <td>1</td>\n",
       "      <td>2017-01-01</td>\n",
       "      <td>24</td>\n",
       "      <td>4</td>\n",
       "      <td>1</td>\n",
       "      <td>Maven Toys Aguascalientes 1</td>\n",
       "      <td>Aguascalientes</td>\n",
       "      <td>Downtown</td>\n",
       "      <td>2010-07-31</td>\n",
       "      <td>Chutes &amp; Ladders</td>\n",
       "      <td>Games</td>\n",
       "      <td>$9.99</td>\n",
       "      <td>$12.99</td>\n",
       "      <td>1.0</td>\n",
       "    </tr>\n",
       "    <tr>\n",
       "      <th>1</th>\n",
       "      <td>2</td>\n",
       "      <td>2017-01-01</td>\n",
       "      <td>28</td>\n",
       "      <td>1</td>\n",
       "      <td>1</td>\n",
       "      <td>Maven Toys Puebla 2</td>\n",
       "      <td>Puebla</td>\n",
       "      <td>Downtown</td>\n",
       "      <td>2011-04-01</td>\n",
       "      <td>Action Figure</td>\n",
       "      <td>Toys</td>\n",
       "      <td>$9.99</td>\n",
       "      <td>$15.99</td>\n",
       "      <td>6.0</td>\n",
       "    </tr>\n",
       "    <tr>\n",
       "      <th>2</th>\n",
       "      <td>3</td>\n",
       "      <td>2017-01-01</td>\n",
       "      <td>6</td>\n",
       "      <td>8</td>\n",
       "      <td>1</td>\n",
       "      <td>Maven Toys Mexicali 1</td>\n",
       "      <td>Mexicali</td>\n",
       "      <td>Commercial</td>\n",
       "      <td>2003-12-13</td>\n",
       "      <td>Deck Of Cards</td>\n",
       "      <td>Games</td>\n",
       "      <td>$3.99</td>\n",
       "      <td>$6.99</td>\n",
       "      <td>50.0</td>\n",
       "    </tr>\n",
       "    <tr>\n",
       "      <th>3</th>\n",
       "      <td>4</td>\n",
       "      <td>2017-01-01</td>\n",
       "      <td>48</td>\n",
       "      <td>7</td>\n",
       "      <td>1</td>\n",
       "      <td>Maven Toys Saltillo 2</td>\n",
       "      <td>Saltillo</td>\n",
       "      <td>Commercial</td>\n",
       "      <td>2016-03-23</td>\n",
       "      <td>Dart Gun</td>\n",
       "      <td>Sports &amp; Outdoors</td>\n",
       "      <td>$11.99</td>\n",
       "      <td>$15.99</td>\n",
       "      <td>28.0</td>\n",
       "    </tr>\n",
       "    <tr>\n",
       "      <th>4</th>\n",
       "      <td>5</td>\n",
       "      <td>2017-01-01</td>\n",
       "      <td>44</td>\n",
       "      <td>18</td>\n",
       "      <td>1</td>\n",
       "      <td>Maven Toys Puebla 3</td>\n",
       "      <td>Puebla</td>\n",
       "      <td>Residential</td>\n",
       "      <td>2014-12-27</td>\n",
       "      <td>Lego Bricks</td>\n",
       "      <td>Toys</td>\n",
       "      <td>$34.99</td>\n",
       "      <td>$39.99</td>\n",
       "      <td>117.0</td>\n",
       "    </tr>\n",
       "    <tr>\n",
       "      <th>...</th>\n",
       "      <td>...</td>\n",
       "      <td>...</td>\n",
       "      <td>...</td>\n",
       "      <td>...</td>\n",
       "      <td>...</td>\n",
       "      <td>...</td>\n",
       "      <td>...</td>\n",
       "      <td>...</td>\n",
       "      <td>...</td>\n",
       "      <td>...</td>\n",
       "      <td>...</td>\n",
       "      <td>...</td>\n",
       "      <td>...</td>\n",
       "      <td>...</td>\n",
       "    </tr>\n",
       "    <tr>\n",
       "      <th>829257</th>\n",
       "      <td>829258</td>\n",
       "      <td>2018-09-30</td>\n",
       "      <td>24</td>\n",
       "      <td>19</td>\n",
       "      <td>1</td>\n",
       "      <td>Maven Toys Aguascalientes 1</td>\n",
       "      <td>Aguascalientes</td>\n",
       "      <td>Downtown</td>\n",
       "      <td>2010-07-31</td>\n",
       "      <td>Magic Sand</td>\n",
       "      <td>Art &amp; Crafts</td>\n",
       "      <td>$13.99</td>\n",
       "      <td>$15.99</td>\n",
       "      <td>67.0</td>\n",
       "    </tr>\n",
       "    <tr>\n",
       "      <th>829258</th>\n",
       "      <td>829259</td>\n",
       "      <td>2018-09-30</td>\n",
       "      <td>16</td>\n",
       "      <td>35</td>\n",
       "      <td>1</td>\n",
       "      <td>Maven Toys San Luis Potosi 1</td>\n",
       "      <td>San Luis Potosi</td>\n",
       "      <td>Downtown</td>\n",
       "      <td>2007-05-19</td>\n",
       "      <td>Uno Card Game</td>\n",
       "      <td>Games</td>\n",
       "      <td>$3.99</td>\n",
       "      <td>$7.99</td>\n",
       "      <td>6.0</td>\n",
       "    </tr>\n",
       "    <tr>\n",
       "      <th>829259</th>\n",
       "      <td>829260</td>\n",
       "      <td>2018-09-30</td>\n",
       "      <td>22</td>\n",
       "      <td>19</td>\n",
       "      <td>1</td>\n",
       "      <td>Maven Toys Guanajuato 2</td>\n",
       "      <td>Guanajuato</td>\n",
       "      <td>Commercial</td>\n",
       "      <td>2010-03-29</td>\n",
       "      <td>Magic Sand</td>\n",
       "      <td>Art &amp; Crafts</td>\n",
       "      <td>$13.99</td>\n",
       "      <td>$15.99</td>\n",
       "      <td>17.0</td>\n",
       "    </tr>\n",
       "    <tr>\n",
       "      <th>829260</th>\n",
       "      <td>829261</td>\n",
       "      <td>2018-09-30</td>\n",
       "      <td>13</td>\n",
       "      <td>2</td>\n",
       "      <td>2</td>\n",
       "      <td>Maven Toys Mexicali 2</td>\n",
       "      <td>Mexicali</td>\n",
       "      <td>Downtown</td>\n",
       "      <td>2006-08-30</td>\n",
       "      <td>Animal Figures</td>\n",
       "      <td>Toys</td>\n",
       "      <td>$9.99</td>\n",
       "      <td>$12.99</td>\n",
       "      <td>2.0</td>\n",
       "    </tr>\n",
       "    <tr>\n",
       "      <th>829261</th>\n",
       "      <td>829262</td>\n",
       "      <td>2018-09-30</td>\n",
       "      <td>32</td>\n",
       "      <td>6</td>\n",
       "      <td>1</td>\n",
       "      <td>Maven Toys Hermosillo 1</td>\n",
       "      <td>Hermosillo</td>\n",
       "      <td>Residential</td>\n",
       "      <td>2012-08-31</td>\n",
       "      <td>Colorbuds</td>\n",
       "      <td>Electronics</td>\n",
       "      <td>$6.99</td>\n",
       "      <td>$14.99</td>\n",
       "      <td>65.0</td>\n",
       "    </tr>\n",
       "  </tbody>\n",
       "</table>\n",
       "<p>829262 rows × 14 columns</p>\n",
       "</div>"
      ],
      "text/plain": [
       "        Sale_ID        Date  Store_ID  Product_ID  Units  \\\n",
       "0             1  2017-01-01        24           4      1   \n",
       "1             2  2017-01-01        28           1      1   \n",
       "2             3  2017-01-01         6           8      1   \n",
       "3             4  2017-01-01        48           7      1   \n",
       "4             5  2017-01-01        44          18      1   \n",
       "...         ...         ...       ...         ...    ...   \n",
       "829257   829258  2018-09-30        24          19      1   \n",
       "829258   829259  2018-09-30        16          35      1   \n",
       "829259   829260  2018-09-30        22          19      1   \n",
       "829260   829261  2018-09-30        13           2      2   \n",
       "829261   829262  2018-09-30        32           6      1   \n",
       "\n",
       "                          Store_Name       Store_City Store_Location  \\\n",
       "0        Maven Toys Aguascalientes 1   Aguascalientes       Downtown   \n",
       "1                Maven Toys Puebla 2           Puebla       Downtown   \n",
       "2              Maven Toys Mexicali 1         Mexicali     Commercial   \n",
       "3              Maven Toys Saltillo 2         Saltillo     Commercial   \n",
       "4                Maven Toys Puebla 3           Puebla    Residential   \n",
       "...                              ...              ...            ...   \n",
       "829257   Maven Toys Aguascalientes 1   Aguascalientes       Downtown   \n",
       "829258  Maven Toys San Luis Potosi 1  San Luis Potosi       Downtown   \n",
       "829259       Maven Toys Guanajuato 2       Guanajuato     Commercial   \n",
       "829260         Maven Toys Mexicali 2         Mexicali       Downtown   \n",
       "829261       Maven Toys Hermosillo 1       Hermosillo    Residential   \n",
       "\n",
       "       Store_Open_Date      Product_Name   Product_Category Product_Cost  \\\n",
       "0           2010-07-31  Chutes & Ladders              Games       $9.99    \n",
       "1           2011-04-01     Action Figure               Toys       $9.99    \n",
       "2           2003-12-13     Deck Of Cards              Games       $3.99    \n",
       "3           2016-03-23          Dart Gun  Sports & Outdoors      $11.99    \n",
       "4           2014-12-27       Lego Bricks               Toys      $34.99    \n",
       "...                ...               ...                ...          ...   \n",
       "829257      2010-07-31        Magic Sand       Art & Crafts      $13.99    \n",
       "829258      2007-05-19     Uno Card Game              Games       $3.99    \n",
       "829259      2010-03-29        Magic Sand       Art & Crafts      $13.99    \n",
       "829260      2006-08-30    Animal Figures               Toys       $9.99    \n",
       "829261      2012-08-31         Colorbuds        Electronics       $6.99    \n",
       "\n",
       "       Product_Price  Stock_On_Hand  \n",
       "0            $12.99             1.0  \n",
       "1            $15.99             6.0  \n",
       "2             $6.99            50.0  \n",
       "3            $15.99            28.0  \n",
       "4            $39.99           117.0  \n",
       "...              ...            ...  \n",
       "829257       $15.99            67.0  \n",
       "829258        $7.99             6.0  \n",
       "829259       $15.99            17.0  \n",
       "829260       $12.99             2.0  \n",
       "829261       $14.99            65.0  \n",
       "\n",
       "[829262 rows x 14 columns]"
      ]
     },
     "execution_count": 119,
     "metadata": {},
     "output_type": "execute_result"
    }
   ],
   "source": [
    "df"
   ]
  },
  {
   "cell_type": "code",
   "execution_count": 57,
   "id": "4313f4b0",
   "metadata": {},
   "outputs": [
    {
     "data": {
      "text/html": [
       "<div>\n",
       "<style scoped>\n",
       "    .dataframe tbody tr th:only-of-type {\n",
       "        vertical-align: middle;\n",
       "    }\n",
       "\n",
       "    .dataframe tbody tr th {\n",
       "        vertical-align: top;\n",
       "    }\n",
       "\n",
       "    .dataframe thead th {\n",
       "        text-align: right;\n",
       "    }\n",
       "</style>\n",
       "<table border=\"1\" class=\"dataframe\">\n",
       "  <thead>\n",
       "    <tr style=\"text-align: right;\">\n",
       "      <th></th>\n",
       "      <th>Sale_ID</th>\n",
       "      <th>Date</th>\n",
       "      <th>Store_ID</th>\n",
       "      <th>Product_ID</th>\n",
       "      <th>Units</th>\n",
       "      <th>Store_Name</th>\n",
       "      <th>Store_City</th>\n",
       "      <th>Store_Location</th>\n",
       "      <th>Store_Open_Date</th>\n",
       "      <th>Product_Name</th>\n",
       "      <th>Product_Category</th>\n",
       "      <th>Product_Cost</th>\n",
       "      <th>Product_Price</th>\n",
       "      <th>Stock_On_Hand</th>\n",
       "    </tr>\n",
       "  </thead>\n",
       "  <tbody>\n",
       "    <tr>\n",
       "      <th>0</th>\n",
       "      <td>1</td>\n",
       "      <td>2017-01-01</td>\n",
       "      <td>24</td>\n",
       "      <td>4</td>\n",
       "      <td>1</td>\n",
       "      <td>Maven Toys Aguascalientes 1</td>\n",
       "      <td>Aguascalientes</td>\n",
       "      <td>Downtown</td>\n",
       "      <td>2010-07-31</td>\n",
       "      <td>Chutes &amp; Ladders</td>\n",
       "      <td>Games</td>\n",
       "      <td>$9.99</td>\n",
       "      <td>$12.99</td>\n",
       "      <td>1.0</td>\n",
       "    </tr>\n",
       "    <tr>\n",
       "      <th>1</th>\n",
       "      <td>2</td>\n",
       "      <td>2017-01-01</td>\n",
       "      <td>28</td>\n",
       "      <td>1</td>\n",
       "      <td>1</td>\n",
       "      <td>Maven Toys Puebla 2</td>\n",
       "      <td>Puebla</td>\n",
       "      <td>Downtown</td>\n",
       "      <td>2011-04-01</td>\n",
       "      <td>Action Figure</td>\n",
       "      <td>Toys</td>\n",
       "      <td>$9.99</td>\n",
       "      <td>$15.99</td>\n",
       "      <td>6.0</td>\n",
       "    </tr>\n",
       "    <tr>\n",
       "      <th>2</th>\n",
       "      <td>3</td>\n",
       "      <td>2017-01-01</td>\n",
       "      <td>6</td>\n",
       "      <td>8</td>\n",
       "      <td>1</td>\n",
       "      <td>Maven Toys Mexicali 1</td>\n",
       "      <td>Mexicali</td>\n",
       "      <td>Commercial</td>\n",
       "      <td>2003-12-13</td>\n",
       "      <td>Deck Of Cards</td>\n",
       "      <td>Games</td>\n",
       "      <td>$3.99</td>\n",
       "      <td>$6.99</td>\n",
       "      <td>50.0</td>\n",
       "    </tr>\n",
       "    <tr>\n",
       "      <th>3</th>\n",
       "      <td>4</td>\n",
       "      <td>2017-01-01</td>\n",
       "      <td>48</td>\n",
       "      <td>7</td>\n",
       "      <td>1</td>\n",
       "      <td>Maven Toys Saltillo 2</td>\n",
       "      <td>Saltillo</td>\n",
       "      <td>Commercial</td>\n",
       "      <td>2016-03-23</td>\n",
       "      <td>Dart Gun</td>\n",
       "      <td>Sports &amp; Outdoors</td>\n",
       "      <td>$11.99</td>\n",
       "      <td>$15.99</td>\n",
       "      <td>28.0</td>\n",
       "    </tr>\n",
       "    <tr>\n",
       "      <th>4</th>\n",
       "      <td>5</td>\n",
       "      <td>2017-01-01</td>\n",
       "      <td>44</td>\n",
       "      <td>18</td>\n",
       "      <td>1</td>\n",
       "      <td>Maven Toys Puebla 3</td>\n",
       "      <td>Puebla</td>\n",
       "      <td>Residential</td>\n",
       "      <td>2014-12-27</td>\n",
       "      <td>Lego Bricks</td>\n",
       "      <td>Toys</td>\n",
       "      <td>$34.99</td>\n",
       "      <td>$39.99</td>\n",
       "      <td>117.0</td>\n",
       "    </tr>\n",
       "  </tbody>\n",
       "</table>\n",
       "</div>"
      ],
      "text/plain": [
       "   Sale_ID        Date  Store_ID  Product_ID  Units  \\\n",
       "0        1  2017-01-01        24           4      1   \n",
       "1        2  2017-01-01        28           1      1   \n",
       "2        3  2017-01-01         6           8      1   \n",
       "3        4  2017-01-01        48           7      1   \n",
       "4        5  2017-01-01        44          18      1   \n",
       "\n",
       "                    Store_Name      Store_City Store_Location Store_Open_Date  \\\n",
       "0  Maven Toys Aguascalientes 1  Aguascalientes       Downtown      2010-07-31   \n",
       "1          Maven Toys Puebla 2          Puebla       Downtown      2011-04-01   \n",
       "2        Maven Toys Mexicali 1        Mexicali     Commercial      2003-12-13   \n",
       "3        Maven Toys Saltillo 2        Saltillo     Commercial      2016-03-23   \n",
       "4          Maven Toys Puebla 3          Puebla    Residential      2014-12-27   \n",
       "\n",
       "       Product_Name   Product_Category Product_Cost Product_Price  \\\n",
       "0  Chutes & Ladders              Games       $9.99        $12.99    \n",
       "1     Action Figure               Toys       $9.99        $15.99    \n",
       "2     Deck Of Cards              Games       $3.99         $6.99    \n",
       "3          Dart Gun  Sports & Outdoors      $11.99        $15.99    \n",
       "4       Lego Bricks               Toys      $34.99        $39.99    \n",
       "\n",
       "   Stock_On_Hand  \n",
       "0            1.0  \n",
       "1            6.0  \n",
       "2           50.0  \n",
       "3           28.0  \n",
       "4          117.0  "
      ]
     },
     "execution_count": 57,
     "metadata": {},
     "output_type": "execute_result"
    }
   ],
   "source": [
    "df.head()"
   ]
  },
  {
   "cell_type": "code",
   "execution_count": 58,
   "id": "abcd13a0",
   "metadata": {},
   "outputs": [
    {
     "data": {
      "text/html": [
       "<div>\n",
       "<style scoped>\n",
       "    .dataframe tbody tr th:only-of-type {\n",
       "        vertical-align: middle;\n",
       "    }\n",
       "\n",
       "    .dataframe tbody tr th {\n",
       "        vertical-align: top;\n",
       "    }\n",
       "\n",
       "    .dataframe thead th {\n",
       "        text-align: right;\n",
       "    }\n",
       "</style>\n",
       "<table border=\"1\" class=\"dataframe\">\n",
       "  <thead>\n",
       "    <tr style=\"text-align: right;\">\n",
       "      <th></th>\n",
       "      <th>Sale_ID</th>\n",
       "      <th>Date</th>\n",
       "      <th>Store_ID</th>\n",
       "      <th>Product_ID</th>\n",
       "      <th>Units</th>\n",
       "      <th>Store_Name</th>\n",
       "      <th>Store_City</th>\n",
       "      <th>Store_Location</th>\n",
       "      <th>Store_Open_Date</th>\n",
       "      <th>Product_Name</th>\n",
       "      <th>Product_Category</th>\n",
       "      <th>Product_Cost</th>\n",
       "      <th>Product_Price</th>\n",
       "      <th>Stock_On_Hand</th>\n",
       "    </tr>\n",
       "  </thead>\n",
       "  <tbody>\n",
       "    <tr>\n",
       "      <th>829257</th>\n",
       "      <td>829258</td>\n",
       "      <td>2018-09-30</td>\n",
       "      <td>24</td>\n",
       "      <td>19</td>\n",
       "      <td>1</td>\n",
       "      <td>Maven Toys Aguascalientes 1</td>\n",
       "      <td>Aguascalientes</td>\n",
       "      <td>Downtown</td>\n",
       "      <td>2010-07-31</td>\n",
       "      <td>Magic Sand</td>\n",
       "      <td>Art &amp; Crafts</td>\n",
       "      <td>$13.99</td>\n",
       "      <td>$15.99</td>\n",
       "      <td>67.0</td>\n",
       "    </tr>\n",
       "    <tr>\n",
       "      <th>829258</th>\n",
       "      <td>829259</td>\n",
       "      <td>2018-09-30</td>\n",
       "      <td>16</td>\n",
       "      <td>35</td>\n",
       "      <td>1</td>\n",
       "      <td>Maven Toys San Luis Potosi 1</td>\n",
       "      <td>San Luis Potosi</td>\n",
       "      <td>Downtown</td>\n",
       "      <td>2007-05-19</td>\n",
       "      <td>Uno Card Game</td>\n",
       "      <td>Games</td>\n",
       "      <td>$3.99</td>\n",
       "      <td>$7.99</td>\n",
       "      <td>6.0</td>\n",
       "    </tr>\n",
       "    <tr>\n",
       "      <th>829259</th>\n",
       "      <td>829260</td>\n",
       "      <td>2018-09-30</td>\n",
       "      <td>22</td>\n",
       "      <td>19</td>\n",
       "      <td>1</td>\n",
       "      <td>Maven Toys Guanajuato 2</td>\n",
       "      <td>Guanajuato</td>\n",
       "      <td>Commercial</td>\n",
       "      <td>2010-03-29</td>\n",
       "      <td>Magic Sand</td>\n",
       "      <td>Art &amp; Crafts</td>\n",
       "      <td>$13.99</td>\n",
       "      <td>$15.99</td>\n",
       "      <td>17.0</td>\n",
       "    </tr>\n",
       "    <tr>\n",
       "      <th>829260</th>\n",
       "      <td>829261</td>\n",
       "      <td>2018-09-30</td>\n",
       "      <td>13</td>\n",
       "      <td>2</td>\n",
       "      <td>2</td>\n",
       "      <td>Maven Toys Mexicali 2</td>\n",
       "      <td>Mexicali</td>\n",
       "      <td>Downtown</td>\n",
       "      <td>2006-08-30</td>\n",
       "      <td>Animal Figures</td>\n",
       "      <td>Toys</td>\n",
       "      <td>$9.99</td>\n",
       "      <td>$12.99</td>\n",
       "      <td>2.0</td>\n",
       "    </tr>\n",
       "    <tr>\n",
       "      <th>829261</th>\n",
       "      <td>829262</td>\n",
       "      <td>2018-09-30</td>\n",
       "      <td>32</td>\n",
       "      <td>6</td>\n",
       "      <td>1</td>\n",
       "      <td>Maven Toys Hermosillo 1</td>\n",
       "      <td>Hermosillo</td>\n",
       "      <td>Residential</td>\n",
       "      <td>2012-08-31</td>\n",
       "      <td>Colorbuds</td>\n",
       "      <td>Electronics</td>\n",
       "      <td>$6.99</td>\n",
       "      <td>$14.99</td>\n",
       "      <td>65.0</td>\n",
       "    </tr>\n",
       "  </tbody>\n",
       "</table>\n",
       "</div>"
      ],
      "text/plain": [
       "        Sale_ID        Date  Store_ID  Product_ID  Units  \\\n",
       "829257   829258  2018-09-30        24          19      1   \n",
       "829258   829259  2018-09-30        16          35      1   \n",
       "829259   829260  2018-09-30        22          19      1   \n",
       "829260   829261  2018-09-30        13           2      2   \n",
       "829261   829262  2018-09-30        32           6      1   \n",
       "\n",
       "                          Store_Name       Store_City Store_Location  \\\n",
       "829257   Maven Toys Aguascalientes 1   Aguascalientes       Downtown   \n",
       "829258  Maven Toys San Luis Potosi 1  San Luis Potosi       Downtown   \n",
       "829259       Maven Toys Guanajuato 2       Guanajuato     Commercial   \n",
       "829260         Maven Toys Mexicali 2         Mexicali       Downtown   \n",
       "829261       Maven Toys Hermosillo 1       Hermosillo    Residential   \n",
       "\n",
       "       Store_Open_Date    Product_Name Product_Category Product_Cost  \\\n",
       "829257      2010-07-31      Magic Sand     Art & Crafts      $13.99    \n",
       "829258      2007-05-19   Uno Card Game            Games       $3.99    \n",
       "829259      2010-03-29      Magic Sand     Art & Crafts      $13.99    \n",
       "829260      2006-08-30  Animal Figures             Toys       $9.99    \n",
       "829261      2012-08-31       Colorbuds      Electronics       $6.99    \n",
       "\n",
       "       Product_Price  Stock_On_Hand  \n",
       "829257       $15.99            67.0  \n",
       "829258        $7.99             6.0  \n",
       "829259       $15.99            17.0  \n",
       "829260       $12.99             2.0  \n",
       "829261       $14.99            65.0  "
      ]
     },
     "execution_count": 58,
     "metadata": {},
     "output_type": "execute_result"
    }
   ],
   "source": [
    "df.tail()"
   ]
  },
  {
   "cell_type": "code",
   "execution_count": 59,
   "id": "d28128d8",
   "metadata": {},
   "outputs": [
    {
     "data": {
      "text/plain": [
       "0            Downtown\n",
       "1            Downtown\n",
       "2          Commercial\n",
       "3          Commercial\n",
       "4         Residential\n",
       "             ...     \n",
       "829257       Downtown\n",
       "829258       Downtown\n",
       "829259     Commercial\n",
       "829260       Downtown\n",
       "829261    Residential\n",
       "Name: Store_Location, Length: 829262, dtype: object"
      ]
     },
     "execution_count": 59,
     "metadata": {},
     "output_type": "execute_result"
    }
   ],
   "source": [
    "df['Store_Location']"
   ]
  },
  {
   "cell_type": "code",
   "execution_count": 60,
   "id": "999e815d",
   "metadata": {},
   "outputs": [
    {
     "data": {
      "text/plain": [
       "Downtown       480224\n",
       "Commercial     184705\n",
       "Residential     95876\n",
       "Airport         68457\n",
       "Name: Store_Location, dtype: int64"
      ]
     },
     "execution_count": 60,
     "metadata": {},
     "output_type": "execute_result"
    }
   ],
   "source": [
    "df['Store_Location'].value_counts()"
   ]
  },
  {
   "cell_type": "code",
   "execution_count": 62,
   "id": "7200bba9",
   "metadata": {},
   "outputs": [
    {
     "data": {
      "text/plain": [
       "(829262, 14)"
      ]
     },
     "execution_count": 62,
     "metadata": {},
     "output_type": "execute_result"
    }
   ],
   "source": [
    "df.shape"
   ]
  },
  {
   "cell_type": "code",
   "execution_count": 65,
   "id": "c2e1be3e",
   "metadata": {},
   "outputs": [
    {
     "data": {
      "text/plain": [
       "Sale_ID                0\n",
       "Date                   0\n",
       "Store_ID               0\n",
       "Product_ID             0\n",
       "Units                  0\n",
       "Store_Name             0\n",
       "Store_City             0\n",
       "Store_Location         0\n",
       "Store_Open_Date        0\n",
       "Product_Name           0\n",
       "Product_Category       0\n",
       "Product_Cost           0\n",
       "Product_Price          0\n",
       "Stock_On_Hand       6232\n",
       "dtype: int64"
      ]
     },
     "execution_count": 65,
     "metadata": {},
     "output_type": "execute_result"
    }
   ],
   "source": [
    "df.isna().sum()"
   ]
  },
  {
   "cell_type": "code",
   "execution_count": 66,
   "id": "319c78d9",
   "metadata": {},
   "outputs": [
    {
     "data": {
      "text/plain": [
       "<bound method DataFrame.fillna of         Sale_ID        Date  Store_ID  Product_ID  Units  \\\n",
       "0             1  2017-01-01        24           4      1   \n",
       "1             2  2017-01-01        28           1      1   \n",
       "2             3  2017-01-01         6           8      1   \n",
       "3             4  2017-01-01        48           7      1   \n",
       "4             5  2017-01-01        44          18      1   \n",
       "...         ...         ...       ...         ...    ...   \n",
       "829257   829258  2018-09-30        24          19      1   \n",
       "829258   829259  2018-09-30        16          35      1   \n",
       "829259   829260  2018-09-30        22          19      1   \n",
       "829260   829261  2018-09-30        13           2      2   \n",
       "829261   829262  2018-09-30        32           6      1   \n",
       "\n",
       "                          Store_Name       Store_City Store_Location  \\\n",
       "0        Maven Toys Aguascalientes 1   Aguascalientes       Downtown   \n",
       "1                Maven Toys Puebla 2           Puebla       Downtown   \n",
       "2              Maven Toys Mexicali 1         Mexicali     Commercial   \n",
       "3              Maven Toys Saltillo 2         Saltillo     Commercial   \n",
       "4                Maven Toys Puebla 3           Puebla    Residential   \n",
       "...                              ...              ...            ...   \n",
       "829257   Maven Toys Aguascalientes 1   Aguascalientes       Downtown   \n",
       "829258  Maven Toys San Luis Potosi 1  San Luis Potosi       Downtown   \n",
       "829259       Maven Toys Guanajuato 2       Guanajuato     Commercial   \n",
       "829260         Maven Toys Mexicali 2         Mexicali       Downtown   \n",
       "829261       Maven Toys Hermosillo 1       Hermosillo    Residential   \n",
       "\n",
       "       Store_Open_Date      Product_Name   Product_Category Product_Cost  \\\n",
       "0           2010-07-31  Chutes & Ladders              Games       $9.99    \n",
       "1           2011-04-01     Action Figure               Toys       $9.99    \n",
       "2           2003-12-13     Deck Of Cards              Games       $3.99    \n",
       "3           2016-03-23          Dart Gun  Sports & Outdoors      $11.99    \n",
       "4           2014-12-27       Lego Bricks               Toys      $34.99    \n",
       "...                ...               ...                ...          ...   \n",
       "829257      2010-07-31        Magic Sand       Art & Crafts      $13.99    \n",
       "829258      2007-05-19     Uno Card Game              Games       $3.99    \n",
       "829259      2010-03-29        Magic Sand       Art & Crafts      $13.99    \n",
       "829260      2006-08-30    Animal Figures               Toys       $9.99    \n",
       "829261      2012-08-31         Colorbuds        Electronics       $6.99    \n",
       "\n",
       "       Product_Price  Stock_On_Hand  \n",
       "0            $12.99             1.0  \n",
       "1            $15.99             6.0  \n",
       "2             $6.99            50.0  \n",
       "3            $15.99            28.0  \n",
       "4            $39.99           117.0  \n",
       "...              ...            ...  \n",
       "829257       $15.99            67.0  \n",
       "829258        $7.99             6.0  \n",
       "829259       $15.99            17.0  \n",
       "829260       $12.99             2.0  \n",
       "829261       $14.99            65.0  \n",
       "\n",
       "[829262 rows x 14 columns]>"
      ]
     },
     "execution_count": 66,
     "metadata": {},
     "output_type": "execute_result"
    }
   ],
   "source": [
    "df.fillna"
   ]
  },
  {
   "cell_type": "code",
   "execution_count": 67,
   "id": "9dcb01b9",
   "metadata": {},
   "outputs": [
    {
     "data": {
      "text/plain": [
       "Index(['Sale_ID', 'Date', 'Store_ID', 'Product_ID', 'Units', 'Store_Name',\n",
       "       'Store_City', 'Store_Location', 'Store_Open_Date', 'Product_Name',\n",
       "       'Product_Category', 'Product_Cost', 'Product_Price', 'Stock_On_Hand'],\n",
       "      dtype='object')"
      ]
     },
     "execution_count": 67,
     "metadata": {},
     "output_type": "execute_result"
    }
   ],
   "source": [
    "df.columns"
   ]
  },
  {
   "cell_type": "code",
   "execution_count": 78,
   "id": "9f43224b",
   "metadata": {},
   "outputs": [],
   "source": [
    "collist=['Date','Store_ID']"
   ]
  },
  {
   "cell_type": "code",
   "execution_count": 79,
   "id": "43f90c16",
   "metadata": {},
   "outputs": [
    {
     "data": {
      "text/html": [
       "<div>\n",
       "<style scoped>\n",
       "    .dataframe tbody tr th:only-of-type {\n",
       "        vertical-align: middle;\n",
       "    }\n",
       "\n",
       "    .dataframe tbody tr th {\n",
       "        vertical-align: top;\n",
       "    }\n",
       "\n",
       "    .dataframe thead th {\n",
       "        text-align: right;\n",
       "    }\n",
       "</style>\n",
       "<table border=\"1\" class=\"dataframe\">\n",
       "  <thead>\n",
       "    <tr style=\"text-align: right;\">\n",
       "      <th></th>\n",
       "      <th>Date</th>\n",
       "      <th>Store_ID</th>\n",
       "    </tr>\n",
       "  </thead>\n",
       "  <tbody>\n",
       "    <tr>\n",
       "      <th>0</th>\n",
       "      <td>2017-01-01</td>\n",
       "      <td>24</td>\n",
       "    </tr>\n",
       "    <tr>\n",
       "      <th>1</th>\n",
       "      <td>2017-01-01</td>\n",
       "      <td>28</td>\n",
       "    </tr>\n",
       "    <tr>\n",
       "      <th>2</th>\n",
       "      <td>2017-01-01</td>\n",
       "      <td>6</td>\n",
       "    </tr>\n",
       "    <tr>\n",
       "      <th>3</th>\n",
       "      <td>2017-01-01</td>\n",
       "      <td>48</td>\n",
       "    </tr>\n",
       "    <tr>\n",
       "      <th>4</th>\n",
       "      <td>2017-01-01</td>\n",
       "      <td>44</td>\n",
       "    </tr>\n",
       "    <tr>\n",
       "      <th>...</th>\n",
       "      <td>...</td>\n",
       "      <td>...</td>\n",
       "    </tr>\n",
       "    <tr>\n",
       "      <th>829257</th>\n",
       "      <td>2018-09-30</td>\n",
       "      <td>24</td>\n",
       "    </tr>\n",
       "    <tr>\n",
       "      <th>829258</th>\n",
       "      <td>2018-09-30</td>\n",
       "      <td>16</td>\n",
       "    </tr>\n",
       "    <tr>\n",
       "      <th>829259</th>\n",
       "      <td>2018-09-30</td>\n",
       "      <td>22</td>\n",
       "    </tr>\n",
       "    <tr>\n",
       "      <th>829260</th>\n",
       "      <td>2018-09-30</td>\n",
       "      <td>13</td>\n",
       "    </tr>\n",
       "    <tr>\n",
       "      <th>829261</th>\n",
       "      <td>2018-09-30</td>\n",
       "      <td>32</td>\n",
       "    </tr>\n",
       "  </tbody>\n",
       "</table>\n",
       "<p>829262 rows × 2 columns</p>\n",
       "</div>"
      ],
      "text/plain": [
       "              Date  Store_ID\n",
       "0       2017-01-01        24\n",
       "1       2017-01-01        28\n",
       "2       2017-01-01         6\n",
       "3       2017-01-01        48\n",
       "4       2017-01-01        44\n",
       "...            ...       ...\n",
       "829257  2018-09-30        24\n",
       "829258  2018-09-30        16\n",
       "829259  2018-09-30        22\n",
       "829260  2018-09-30        13\n",
       "829261  2018-09-30        32\n",
       "\n",
       "[829262 rows x 2 columns]"
      ]
     },
     "execution_count": 79,
     "metadata": {},
     "output_type": "execute_result"
    }
   ],
   "source": [
    "df[collist]"
   ]
  },
  {
   "cell_type": "code",
   "execution_count": 80,
   "id": "0d154c24",
   "metadata": {},
   "outputs": [],
   "source": [
    "#DICTIONARIES"
   ]
  },
  {
   "cell_type": "code",
   "execution_count": 81,
   "id": "6e0c4fc2",
   "metadata": {},
   "outputs": [
    {
     "data": {
      "text/plain": [
       "[112, 112, 113, 114, 115, 116]"
      ]
     },
     "execution_count": 81,
     "metadata": {},
     "output_type": "execute_result"
    }
   ],
   "source": [
    "petrolcost"
   ]
  },
  {
   "cell_type": "code",
   "execution_count": 82,
   "id": "1822390c",
   "metadata": {},
   "outputs": [
    {
     "data": {
      "text/plain": [
       "6"
      ]
     },
     "execution_count": 82,
     "metadata": {},
     "output_type": "execute_result"
    }
   ],
   "source": [
    "len(petrolcost)"
   ]
  },
  {
   "cell_type": "code",
   "execution_count": 100,
   "id": "d3e934f1",
   "metadata": {},
   "outputs": [],
   "source": [
    "indexname = list('ABCDEF')"
   ]
  },
  {
   "cell_type": "code",
   "execution_count": 101,
   "id": "7bbaa4f9",
   "metadata": {},
   "outputs": [
    {
     "data": {
      "text/plain": [
       "['A', 'B', 'C', 'D', 'E', 'F']"
      ]
     },
     "execution_count": 101,
     "metadata": {},
     "output_type": "execute_result"
    }
   ],
   "source": [
    "indexname"
   ]
  },
  {
   "cell_type": "code",
   "execution_count": 102,
   "id": "3c4c981d",
   "metadata": {},
   "outputs": [
    {
     "data": {
      "text/plain": [
       "{'indexno': ['A', 'B', 'C', 'D', 'E', 'F'],\n",
       " 'pcost': [112, 112, 113, 114, 115, 116]}"
      ]
     },
     "execution_count": 102,
     "metadata": {},
     "output_type": "execute_result"
    }
   ],
   "source": [
    "s_dict = {'indexno':indexname, 'pcost':petrolcost}\n",
    "s_dict"
   ]
  },
  {
   "cell_type": "code",
   "execution_count": 103,
   "id": "f2f37a6d",
   "metadata": {},
   "outputs": [],
   "source": [
    "df2 = pd.DataFrame(s_dict)"
   ]
  },
  {
   "cell_type": "code",
   "execution_count": 104,
   "id": "8a47d580",
   "metadata": {},
   "outputs": [
    {
     "data": {
      "text/html": [
       "<div>\n",
       "<style scoped>\n",
       "    .dataframe tbody tr th:only-of-type {\n",
       "        vertical-align: middle;\n",
       "    }\n",
       "\n",
       "    .dataframe tbody tr th {\n",
       "        vertical-align: top;\n",
       "    }\n",
       "\n",
       "    .dataframe thead th {\n",
       "        text-align: right;\n",
       "    }\n",
       "</style>\n",
       "<table border=\"1\" class=\"dataframe\">\n",
       "  <thead>\n",
       "    <tr style=\"text-align: right;\">\n",
       "      <th></th>\n",
       "      <th>indexno</th>\n",
       "      <th>pcost</th>\n",
       "    </tr>\n",
       "  </thead>\n",
       "  <tbody>\n",
       "    <tr>\n",
       "      <th>0</th>\n",
       "      <td>A</td>\n",
       "      <td>112</td>\n",
       "    </tr>\n",
       "    <tr>\n",
       "      <th>1</th>\n",
       "      <td>B</td>\n",
       "      <td>112</td>\n",
       "    </tr>\n",
       "    <tr>\n",
       "      <th>2</th>\n",
       "      <td>C</td>\n",
       "      <td>113</td>\n",
       "    </tr>\n",
       "    <tr>\n",
       "      <th>3</th>\n",
       "      <td>D</td>\n",
       "      <td>114</td>\n",
       "    </tr>\n",
       "    <tr>\n",
       "      <th>4</th>\n",
       "      <td>E</td>\n",
       "      <td>115</td>\n",
       "    </tr>\n",
       "    <tr>\n",
       "      <th>5</th>\n",
       "      <td>F</td>\n",
       "      <td>116</td>\n",
       "    </tr>\n",
       "  </tbody>\n",
       "</table>\n",
       "</div>"
      ],
      "text/plain": [
       "  indexno  pcost\n",
       "0       A    112\n",
       "1       B    112\n",
       "2       C    113\n",
       "3       D    114\n",
       "4       E    115\n",
       "5       F    116"
      ]
     },
     "execution_count": 104,
     "metadata": {},
     "output_type": "execute_result"
    }
   ],
   "source": [
    "df2"
   ]
  },
  {
   "cell_type": "code",
   "execution_count": 106,
   "id": "718bc3b7",
   "metadata": {},
   "outputs": [
    {
     "data": {
      "text/plain": [
       "Downtown       480224\n",
       "Commercial     184705\n",
       "Residential     95876\n",
       "Airport         68457\n",
       "Name: Store_Location, dtype: int64"
      ]
     },
     "execution_count": 106,
     "metadata": {},
     "output_type": "execute_result"
    }
   ],
   "source": [
    "df.Store_Location.value_counts()"
   ]
  },
  {
   "cell_type": "code",
   "execution_count": 111,
   "id": "b744e067",
   "metadata": {},
   "outputs": [
    {
     "data": {
      "text/html": [
       "<div>\n",
       "<style scoped>\n",
       "    .dataframe tbody tr th:only-of-type {\n",
       "        vertical-align: middle;\n",
       "    }\n",
       "\n",
       "    .dataframe tbody tr th {\n",
       "        vertical-align: top;\n",
       "    }\n",
       "\n",
       "    .dataframe thead th {\n",
       "        text-align: right;\n",
       "    }\n",
       "</style>\n",
       "<table border=\"1\" class=\"dataframe\">\n",
       "  <thead>\n",
       "    <tr style=\"text-align: right;\">\n",
       "      <th></th>\n",
       "      <th>Sale_ID</th>\n",
       "      <th>Date</th>\n",
       "      <th>Store_ID</th>\n",
       "      <th>Product_ID</th>\n",
       "      <th>Units</th>\n",
       "      <th>Store_Name</th>\n",
       "      <th>Store_City</th>\n",
       "      <th>Store_Location</th>\n",
       "      <th>Store_Open_Date</th>\n",
       "      <th>Product_Name</th>\n",
       "      <th>Product_Category</th>\n",
       "      <th>Product_Cost</th>\n",
       "      <th>Product_Price</th>\n",
       "      <th>Stock_On_Hand</th>\n",
       "    </tr>\n",
       "  </thead>\n",
       "  <tbody>\n",
       "    <tr>\n",
       "      <th>0</th>\n",
       "      <td>1</td>\n",
       "      <td>2017-01-01</td>\n",
       "      <td>24</td>\n",
       "      <td>4</td>\n",
       "      <td>1</td>\n",
       "      <td>Maven Toys Aguascalientes 1</td>\n",
       "      <td>Aguascalientes</td>\n",
       "      <td>Downtown</td>\n",
       "      <td>2010-07-31</td>\n",
       "      <td>Chutes &amp; Ladders</td>\n",
       "      <td>Games</td>\n",
       "      <td>$9.99</td>\n",
       "      <td>$12.99</td>\n",
       "      <td>1.0</td>\n",
       "    </tr>\n",
       "    <tr>\n",
       "      <th>1</th>\n",
       "      <td>2</td>\n",
       "      <td>2017-01-01</td>\n",
       "      <td>28</td>\n",
       "      <td>1</td>\n",
       "      <td>1</td>\n",
       "      <td>Maven Toys Puebla 2</td>\n",
       "      <td>Puebla</td>\n",
       "      <td>Downtown</td>\n",
       "      <td>2011-04-01</td>\n",
       "      <td>Action Figure</td>\n",
       "      <td>Toys</td>\n",
       "      <td>$9.99</td>\n",
       "      <td>$15.99</td>\n",
       "      <td>6.0</td>\n",
       "    </tr>\n",
       "    <tr>\n",
       "      <th>2</th>\n",
       "      <td>3</td>\n",
       "      <td>2017-01-01</td>\n",
       "      <td>6</td>\n",
       "      <td>8</td>\n",
       "      <td>1</td>\n",
       "      <td>Maven Toys Mexicali 1</td>\n",
       "      <td>Mexicali</td>\n",
       "      <td>Commercial</td>\n",
       "      <td>2003-12-13</td>\n",
       "      <td>Deck Of Cards</td>\n",
       "      <td>Games</td>\n",
       "      <td>$3.99</td>\n",
       "      <td>$6.99</td>\n",
       "      <td>50.0</td>\n",
       "    </tr>\n",
       "    <tr>\n",
       "      <th>3</th>\n",
       "      <td>4</td>\n",
       "      <td>2017-01-01</td>\n",
       "      <td>48</td>\n",
       "      <td>7</td>\n",
       "      <td>1</td>\n",
       "      <td>Maven Toys Saltillo 2</td>\n",
       "      <td>Saltillo</td>\n",
       "      <td>Commercial</td>\n",
       "      <td>2016-03-23</td>\n",
       "      <td>Dart Gun</td>\n",
       "      <td>Sports &amp; Outdoors</td>\n",
       "      <td>$11.99</td>\n",
       "      <td>$15.99</td>\n",
       "      <td>28.0</td>\n",
       "    </tr>\n",
       "    <tr>\n",
       "      <th>4</th>\n",
       "      <td>5</td>\n",
       "      <td>2017-01-01</td>\n",
       "      <td>44</td>\n",
       "      <td>18</td>\n",
       "      <td>1</td>\n",
       "      <td>Maven Toys Puebla 3</td>\n",
       "      <td>Puebla</td>\n",
       "      <td>Residential</td>\n",
       "      <td>2014-12-27</td>\n",
       "      <td>Lego Bricks</td>\n",
       "      <td>Toys</td>\n",
       "      <td>$34.99</td>\n",
       "      <td>$39.99</td>\n",
       "      <td>117.0</td>\n",
       "    </tr>\n",
       "    <tr>\n",
       "      <th>...</th>\n",
       "      <td>...</td>\n",
       "      <td>...</td>\n",
       "      <td>...</td>\n",
       "      <td>...</td>\n",
       "      <td>...</td>\n",
       "      <td>...</td>\n",
       "      <td>...</td>\n",
       "      <td>...</td>\n",
       "      <td>...</td>\n",
       "      <td>...</td>\n",
       "      <td>...</td>\n",
       "      <td>...</td>\n",
       "      <td>...</td>\n",
       "      <td>...</td>\n",
       "    </tr>\n",
       "    <tr>\n",
       "      <th>829257</th>\n",
       "      <td>829258</td>\n",
       "      <td>2018-09-30</td>\n",
       "      <td>24</td>\n",
       "      <td>19</td>\n",
       "      <td>1</td>\n",
       "      <td>Maven Toys Aguascalientes 1</td>\n",
       "      <td>Aguascalientes</td>\n",
       "      <td>Downtown</td>\n",
       "      <td>2010-07-31</td>\n",
       "      <td>Magic Sand</td>\n",
       "      <td>Art &amp; Crafts</td>\n",
       "      <td>$13.99</td>\n",
       "      <td>$15.99</td>\n",
       "      <td>67.0</td>\n",
       "    </tr>\n",
       "    <tr>\n",
       "      <th>829258</th>\n",
       "      <td>829259</td>\n",
       "      <td>2018-09-30</td>\n",
       "      <td>16</td>\n",
       "      <td>35</td>\n",
       "      <td>1</td>\n",
       "      <td>Maven Toys San Luis Potosi 1</td>\n",
       "      <td>San Luis Potosi</td>\n",
       "      <td>Downtown</td>\n",
       "      <td>2007-05-19</td>\n",
       "      <td>Uno Card Game</td>\n",
       "      <td>Games</td>\n",
       "      <td>$3.99</td>\n",
       "      <td>$7.99</td>\n",
       "      <td>6.0</td>\n",
       "    </tr>\n",
       "    <tr>\n",
       "      <th>829259</th>\n",
       "      <td>829260</td>\n",
       "      <td>2018-09-30</td>\n",
       "      <td>22</td>\n",
       "      <td>19</td>\n",
       "      <td>1</td>\n",
       "      <td>Maven Toys Guanajuato 2</td>\n",
       "      <td>Guanajuato</td>\n",
       "      <td>Commercial</td>\n",
       "      <td>2010-03-29</td>\n",
       "      <td>Magic Sand</td>\n",
       "      <td>Art &amp; Crafts</td>\n",
       "      <td>$13.99</td>\n",
       "      <td>$15.99</td>\n",
       "      <td>17.0</td>\n",
       "    </tr>\n",
       "    <tr>\n",
       "      <th>829260</th>\n",
       "      <td>829261</td>\n",
       "      <td>2018-09-30</td>\n",
       "      <td>13</td>\n",
       "      <td>2</td>\n",
       "      <td>2</td>\n",
       "      <td>Maven Toys Mexicali 2</td>\n",
       "      <td>Mexicali</td>\n",
       "      <td>Downtown</td>\n",
       "      <td>2006-08-30</td>\n",
       "      <td>Animal Figures</td>\n",
       "      <td>Toys</td>\n",
       "      <td>$9.99</td>\n",
       "      <td>$12.99</td>\n",
       "      <td>2.0</td>\n",
       "    </tr>\n",
       "    <tr>\n",
       "      <th>829261</th>\n",
       "      <td>829262</td>\n",
       "      <td>2018-09-30</td>\n",
       "      <td>32</td>\n",
       "      <td>6</td>\n",
       "      <td>1</td>\n",
       "      <td>Maven Toys Hermosillo 1</td>\n",
       "      <td>Hermosillo</td>\n",
       "      <td>Residential</td>\n",
       "      <td>2012-08-31</td>\n",
       "      <td>Colorbuds</td>\n",
       "      <td>Electronics</td>\n",
       "      <td>$6.99</td>\n",
       "      <td>$14.99</td>\n",
       "      <td>65.0</td>\n",
       "    </tr>\n",
       "  </tbody>\n",
       "</table>\n",
       "<p>781307 rows × 14 columns</p>\n",
       "</div>"
      ],
      "text/plain": [
       "        Sale_ID        Date  Store_ID  Product_ID  Units  \\\n",
       "0             1  2017-01-01        24           4      1   \n",
       "1             2  2017-01-01        28           1      1   \n",
       "2             3  2017-01-01         6           8      1   \n",
       "3             4  2017-01-01        48           7      1   \n",
       "4             5  2017-01-01        44          18      1   \n",
       "...         ...         ...       ...         ...    ...   \n",
       "829257   829258  2018-09-30        24          19      1   \n",
       "829258   829259  2018-09-30        16          35      1   \n",
       "829259   829260  2018-09-30        22          19      1   \n",
       "829260   829261  2018-09-30        13           2      2   \n",
       "829261   829262  2018-09-30        32           6      1   \n",
       "\n",
       "                          Store_Name       Store_City Store_Location  \\\n",
       "0        Maven Toys Aguascalientes 1   Aguascalientes       Downtown   \n",
       "1                Maven Toys Puebla 2           Puebla       Downtown   \n",
       "2              Maven Toys Mexicali 1         Mexicali     Commercial   \n",
       "3              Maven Toys Saltillo 2         Saltillo     Commercial   \n",
       "4                Maven Toys Puebla 3           Puebla    Residential   \n",
       "...                              ...              ...            ...   \n",
       "829257   Maven Toys Aguascalientes 1   Aguascalientes       Downtown   \n",
       "829258  Maven Toys San Luis Potosi 1  San Luis Potosi       Downtown   \n",
       "829259       Maven Toys Guanajuato 2       Guanajuato     Commercial   \n",
       "829260         Maven Toys Mexicali 2         Mexicali       Downtown   \n",
       "829261       Maven Toys Hermosillo 1       Hermosillo    Residential   \n",
       "\n",
       "       Store_Open_Date      Product_Name   Product_Category Product_Cost  \\\n",
       "0           2010-07-31  Chutes & Ladders              Games       $9.99    \n",
       "1           2011-04-01     Action Figure               Toys       $9.99    \n",
       "2           2003-12-13     Deck Of Cards              Games       $3.99    \n",
       "3           2016-03-23          Dart Gun  Sports & Outdoors      $11.99    \n",
       "4           2014-12-27       Lego Bricks               Toys      $34.99    \n",
       "...                ...               ...                ...          ...   \n",
       "829257      2010-07-31        Magic Sand       Art & Crafts      $13.99    \n",
       "829258      2007-05-19     Uno Card Game              Games       $3.99    \n",
       "829259      2010-03-29        Magic Sand       Art & Crafts      $13.99    \n",
       "829260      2006-08-30    Animal Figures               Toys       $9.99    \n",
       "829261      2012-08-31         Colorbuds        Electronics       $6.99    \n",
       "\n",
       "       Product_Price  Stock_On_Hand  \n",
       "0            $12.99             1.0  \n",
       "1            $15.99             6.0  \n",
       "2             $6.99            50.0  \n",
       "3            $15.99            28.0  \n",
       "4            $39.99           117.0  \n",
       "...              ...            ...  \n",
       "829257       $15.99            67.0  \n",
       "829258        $7.99             6.0  \n",
       "829259       $15.99            17.0  \n",
       "829260       $12.99             2.0  \n",
       "829261       $14.99            65.0  \n",
       "\n",
       "[781307 rows x 14 columns]"
      ]
     },
     "execution_count": 111,
     "metadata": {},
     "output_type": "execute_result"
    }
   ],
   "source": [
    "df[df['Store_ID']>3]"
   ]
  },
  {
   "cell_type": "code",
   "execution_count": 112,
   "id": "9d08ebc4",
   "metadata": {},
   "outputs": [
    {
     "data": {
      "text/plain": [
       "(829262, 14)"
      ]
     },
     "execution_count": 112,
     "metadata": {},
     "output_type": "execute_result"
    }
   ],
   "source": [
    "df.shape"
   ]
  },
  {
   "cell_type": "code",
   "execution_count": 114,
   "id": "334f442f",
   "metadata": {},
   "outputs": [
    {
     "data": {
      "text/html": [
       "<div>\n",
       "<style scoped>\n",
       "    .dataframe tbody tr th:only-of-type {\n",
       "        vertical-align: middle;\n",
       "    }\n",
       "\n",
       "    .dataframe tbody tr th {\n",
       "        vertical-align: top;\n",
       "    }\n",
       "\n",
       "    .dataframe thead th {\n",
       "        text-align: right;\n",
       "    }\n",
       "</style>\n",
       "<table border=\"1\" class=\"dataframe\">\n",
       "  <thead>\n",
       "    <tr style=\"text-align: right;\">\n",
       "      <th></th>\n",
       "      <th>Sale_ID</th>\n",
       "      <th>Date</th>\n",
       "      <th>Store_ID</th>\n",
       "      <th>Product_ID</th>\n",
       "      <th>Units</th>\n",
       "      <th>Store_Name</th>\n",
       "      <th>Store_City</th>\n",
       "      <th>Store_Location</th>\n",
       "      <th>Store_Open_Date</th>\n",
       "      <th>Product_Name</th>\n",
       "      <th>Product_Category</th>\n",
       "      <th>Product_Cost</th>\n",
       "      <th>Product_Price</th>\n",
       "      <th>Stock_On_Hand</th>\n",
       "    </tr>\n",
       "  </thead>\n",
       "  <tbody>\n",
       "    <tr>\n",
       "      <th>24</th>\n",
       "      <td>25</td>\n",
       "      <td>2017-01-01</td>\n",
       "      <td>4</td>\n",
       "      <td>20</td>\n",
       "      <td>1</td>\n",
       "      <td>Maven Toys Saltillo 1</td>\n",
       "      <td>Saltillo</td>\n",
       "      <td>Downtown</td>\n",
       "      <td>2000-01-01</td>\n",
       "      <td>Mini Basketball Hoop</td>\n",
       "      <td>Sports &amp; Outdoors</td>\n",
       "      <td>$8.99</td>\n",
       "      <td>$24.99</td>\n",
       "      <td>13.0</td>\n",
       "    </tr>\n",
       "    <tr>\n",
       "      <th>31</th>\n",
       "      <td>32</td>\n",
       "      <td>2017-01-01</td>\n",
       "      <td>4</td>\n",
       "      <td>20</td>\n",
       "      <td>1</td>\n",
       "      <td>Maven Toys Saltillo 1</td>\n",
       "      <td>Saltillo</td>\n",
       "      <td>Downtown</td>\n",
       "      <td>2000-01-01</td>\n",
       "      <td>Mini Basketball Hoop</td>\n",
       "      <td>Sports &amp; Outdoors</td>\n",
       "      <td>$8.99</td>\n",
       "      <td>$24.99</td>\n",
       "      <td>13.0</td>\n",
       "    </tr>\n",
       "    <tr>\n",
       "      <th>136</th>\n",
       "      <td>137</td>\n",
       "      <td>2017-01-01</td>\n",
       "      <td>4</td>\n",
       "      <td>9</td>\n",
       "      <td>1</td>\n",
       "      <td>Maven Toys Saltillo 1</td>\n",
       "      <td>Saltillo</td>\n",
       "      <td>Downtown</td>\n",
       "      <td>2000-01-01</td>\n",
       "      <td>Dino Egg</td>\n",
       "      <td>Toys</td>\n",
       "      <td>$9.99</td>\n",
       "      <td>$10.99</td>\n",
       "      <td>27.0</td>\n",
       "    </tr>\n",
       "    <tr>\n",
       "      <th>141</th>\n",
       "      <td>142</td>\n",
       "      <td>2017-01-01</td>\n",
       "      <td>4</td>\n",
       "      <td>9</td>\n",
       "      <td>1</td>\n",
       "      <td>Maven Toys Saltillo 1</td>\n",
       "      <td>Saltillo</td>\n",
       "      <td>Downtown</td>\n",
       "      <td>2000-01-01</td>\n",
       "      <td>Dino Egg</td>\n",
       "      <td>Toys</td>\n",
       "      <td>$9.99</td>\n",
       "      <td>$10.99</td>\n",
       "      <td>27.0</td>\n",
       "    </tr>\n",
       "    <tr>\n",
       "      <th>193</th>\n",
       "      <td>194</td>\n",
       "      <td>2017-01-01</td>\n",
       "      <td>4</td>\n",
       "      <td>20</td>\n",
       "      <td>1</td>\n",
       "      <td>Maven Toys Saltillo 1</td>\n",
       "      <td>Saltillo</td>\n",
       "      <td>Downtown</td>\n",
       "      <td>2000-01-01</td>\n",
       "      <td>Mini Basketball Hoop</td>\n",
       "      <td>Sports &amp; Outdoors</td>\n",
       "      <td>$8.99</td>\n",
       "      <td>$24.99</td>\n",
       "      <td>13.0</td>\n",
       "    </tr>\n",
       "    <tr>\n",
       "      <th>...</th>\n",
       "      <td>...</td>\n",
       "      <td>...</td>\n",
       "      <td>...</td>\n",
       "      <td>...</td>\n",
       "      <td>...</td>\n",
       "      <td>...</td>\n",
       "      <td>...</td>\n",
       "      <td>...</td>\n",
       "      <td>...</td>\n",
       "      <td>...</td>\n",
       "      <td>...</td>\n",
       "      <td>...</td>\n",
       "      <td>...</td>\n",
       "      <td>...</td>\n",
       "    </tr>\n",
       "    <tr>\n",
       "      <th>829110</th>\n",
       "      <td>829111</td>\n",
       "      <td>2018-09-30</td>\n",
       "      <td>4</td>\n",
       "      <td>24</td>\n",
       "      <td>1</td>\n",
       "      <td>Maven Toys Saltillo 1</td>\n",
       "      <td>Saltillo</td>\n",
       "      <td>Downtown</td>\n",
       "      <td>2000-01-01</td>\n",
       "      <td>Nerf Gun</td>\n",
       "      <td>Sports &amp; Outdoors</td>\n",
       "      <td>$14.99</td>\n",
       "      <td>$19.99</td>\n",
       "      <td>20.0</td>\n",
       "    </tr>\n",
       "    <tr>\n",
       "      <th>829131</th>\n",
       "      <td>829132</td>\n",
       "      <td>2018-09-30</td>\n",
       "      <td>4</td>\n",
       "      <td>28</td>\n",
       "      <td>1</td>\n",
       "      <td>Maven Toys Saltillo 1</td>\n",
       "      <td>Saltillo</td>\n",
       "      <td>Downtown</td>\n",
       "      <td>2000-01-01</td>\n",
       "      <td>Playfoam</td>\n",
       "      <td>Art &amp; Crafts</td>\n",
       "      <td>$3.99</td>\n",
       "      <td>$10.99</td>\n",
       "      <td>6.0</td>\n",
       "    </tr>\n",
       "    <tr>\n",
       "      <th>829152</th>\n",
       "      <td>829153</td>\n",
       "      <td>2018-09-30</td>\n",
       "      <td>4</td>\n",
       "      <td>24</td>\n",
       "      <td>1</td>\n",
       "      <td>Maven Toys Saltillo 1</td>\n",
       "      <td>Saltillo</td>\n",
       "      <td>Downtown</td>\n",
       "      <td>2000-01-01</td>\n",
       "      <td>Nerf Gun</td>\n",
       "      <td>Sports &amp; Outdoors</td>\n",
       "      <td>$14.99</td>\n",
       "      <td>$19.99</td>\n",
       "      <td>20.0</td>\n",
       "    </tr>\n",
       "    <tr>\n",
       "      <th>829167</th>\n",
       "      <td>829168</td>\n",
       "      <td>2018-09-30</td>\n",
       "      <td>4</td>\n",
       "      <td>25</td>\n",
       "      <td>1</td>\n",
       "      <td>Maven Toys Saltillo 1</td>\n",
       "      <td>Saltillo</td>\n",
       "      <td>Downtown</td>\n",
       "      <td>2000-01-01</td>\n",
       "      <td>PlayDoh Can</td>\n",
       "      <td>Art &amp; Crafts</td>\n",
       "      <td>$1.99</td>\n",
       "      <td>$2.99</td>\n",
       "      <td>18.0</td>\n",
       "    </tr>\n",
       "    <tr>\n",
       "      <th>829168</th>\n",
       "      <td>829169</td>\n",
       "      <td>2018-09-30</td>\n",
       "      <td>4</td>\n",
       "      <td>28</td>\n",
       "      <td>1</td>\n",
       "      <td>Maven Toys Saltillo 1</td>\n",
       "      <td>Saltillo</td>\n",
       "      <td>Downtown</td>\n",
       "      <td>2000-01-01</td>\n",
       "      <td>Playfoam</td>\n",
       "      <td>Art &amp; Crafts</td>\n",
       "      <td>$3.99</td>\n",
       "      <td>$10.99</td>\n",
       "      <td>6.0</td>\n",
       "    </tr>\n",
       "  </tbody>\n",
       "</table>\n",
       "<p>18924 rows × 14 columns</p>\n",
       "</div>"
      ],
      "text/plain": [
       "        Sale_ID        Date  Store_ID  Product_ID  Units  \\\n",
       "24           25  2017-01-01         4          20      1   \n",
       "31           32  2017-01-01         4          20      1   \n",
       "136         137  2017-01-01         4           9      1   \n",
       "141         142  2017-01-01         4           9      1   \n",
       "193         194  2017-01-01         4          20      1   \n",
       "...         ...         ...       ...         ...    ...   \n",
       "829110   829111  2018-09-30         4          24      1   \n",
       "829131   829132  2018-09-30         4          28      1   \n",
       "829152   829153  2018-09-30         4          24      1   \n",
       "829167   829168  2018-09-30         4          25      1   \n",
       "829168   829169  2018-09-30         4          28      1   \n",
       "\n",
       "                   Store_Name Store_City Store_Location Store_Open_Date  \\\n",
       "24      Maven Toys Saltillo 1   Saltillo       Downtown      2000-01-01   \n",
       "31      Maven Toys Saltillo 1   Saltillo       Downtown      2000-01-01   \n",
       "136     Maven Toys Saltillo 1   Saltillo       Downtown      2000-01-01   \n",
       "141     Maven Toys Saltillo 1   Saltillo       Downtown      2000-01-01   \n",
       "193     Maven Toys Saltillo 1   Saltillo       Downtown      2000-01-01   \n",
       "...                       ...        ...            ...             ...   \n",
       "829110  Maven Toys Saltillo 1   Saltillo       Downtown      2000-01-01   \n",
       "829131  Maven Toys Saltillo 1   Saltillo       Downtown      2000-01-01   \n",
       "829152  Maven Toys Saltillo 1   Saltillo       Downtown      2000-01-01   \n",
       "829167  Maven Toys Saltillo 1   Saltillo       Downtown      2000-01-01   \n",
       "829168  Maven Toys Saltillo 1   Saltillo       Downtown      2000-01-01   \n",
       "\n",
       "                Product_Name   Product_Category Product_Cost Product_Price  \\\n",
       "24      Mini Basketball Hoop  Sports & Outdoors       $8.99        $24.99    \n",
       "31      Mini Basketball Hoop  Sports & Outdoors       $8.99        $24.99    \n",
       "136                 Dino Egg               Toys       $9.99        $10.99    \n",
       "141                 Dino Egg               Toys       $9.99        $10.99    \n",
       "193     Mini Basketball Hoop  Sports & Outdoors       $8.99        $24.99    \n",
       "...                      ...                ...          ...           ...   \n",
       "829110              Nerf Gun  Sports & Outdoors      $14.99        $19.99    \n",
       "829131              Playfoam       Art & Crafts       $3.99        $10.99    \n",
       "829152              Nerf Gun  Sports & Outdoors      $14.99        $19.99    \n",
       "829167           PlayDoh Can       Art & Crafts       $1.99         $2.99    \n",
       "829168              Playfoam       Art & Crafts       $3.99        $10.99    \n",
       "\n",
       "        Stock_On_Hand  \n",
       "24               13.0  \n",
       "31               13.0  \n",
       "136              27.0  \n",
       "141              27.0  \n",
       "193              13.0  \n",
       "...               ...  \n",
       "829110           20.0  \n",
       "829131            6.0  \n",
       "829152           20.0  \n",
       "829167           18.0  \n",
       "829168            6.0  \n",
       "\n",
       "[18924 rows x 14 columns]"
      ]
     },
     "execution_count": 114,
     "metadata": {},
     "output_type": "execute_result"
    }
   ],
   "source": [
    "df[(df['Store_ID']>3)&(df['Store_ID']<5)]"
   ]
  },
  {
   "cell_type": "code",
   "execution_count": 115,
   "id": "e27e0b26",
   "metadata": {},
   "outputs": [
    {
     "data": {
      "text/html": [
       "<div>\n",
       "<style scoped>\n",
       "    .dataframe tbody tr th:only-of-type {\n",
       "        vertical-align: middle;\n",
       "    }\n",
       "\n",
       "    .dataframe tbody tr th {\n",
       "        vertical-align: top;\n",
       "    }\n",
       "\n",
       "    .dataframe thead th {\n",
       "        text-align: right;\n",
       "    }\n",
       "</style>\n",
       "<table border=\"1\" class=\"dataframe\">\n",
       "  <thead>\n",
       "    <tr style=\"text-align: right;\">\n",
       "      <th></th>\n",
       "      <th>Sale_ID</th>\n",
       "      <th>Store_ID</th>\n",
       "      <th>Product_ID</th>\n",
       "      <th>Units</th>\n",
       "      <th>Stock_On_Hand</th>\n",
       "    </tr>\n",
       "  </thead>\n",
       "  <tbody>\n",
       "    <tr>\n",
       "      <th>Sale_ID</th>\n",
       "      <td>1.000000</td>\n",
       "      <td>0.004574</td>\n",
       "      <td>0.041613</td>\n",
       "      <td>0.005462</td>\n",
       "      <td>0.010554</td>\n",
       "    </tr>\n",
       "    <tr>\n",
       "      <th>Store_ID</th>\n",
       "      <td>0.004574</td>\n",
       "      <td>1.000000</td>\n",
       "      <td>0.018282</td>\n",
       "      <td>0.011295</td>\n",
       "      <td>0.084071</td>\n",
       "    </tr>\n",
       "    <tr>\n",
       "      <th>Product_ID</th>\n",
       "      <td>0.041613</td>\n",
       "      <td>0.018282</td>\n",
       "      <td>1.000000</td>\n",
       "      <td>-0.018422</td>\n",
       "      <td>0.018599</td>\n",
       "    </tr>\n",
       "    <tr>\n",
       "      <th>Units</th>\n",
       "      <td>0.005462</td>\n",
       "      <td>0.011295</td>\n",
       "      <td>-0.018422</td>\n",
       "      <td>1.000000</td>\n",
       "      <td>0.069369</td>\n",
       "    </tr>\n",
       "    <tr>\n",
       "      <th>Stock_On_Hand</th>\n",
       "      <td>0.010554</td>\n",
       "      <td>0.084071</td>\n",
       "      <td>0.018599</td>\n",
       "      <td>0.069369</td>\n",
       "      <td>1.000000</td>\n",
       "    </tr>\n",
       "  </tbody>\n",
       "</table>\n",
       "</div>"
      ],
      "text/plain": [
       "                Sale_ID  Store_ID  Product_ID     Units  Stock_On_Hand\n",
       "Sale_ID        1.000000  0.004574    0.041613  0.005462       0.010554\n",
       "Store_ID       0.004574  1.000000    0.018282  0.011295       0.084071\n",
       "Product_ID     0.041613  0.018282    1.000000 -0.018422       0.018599\n",
       "Units          0.005462  0.011295   -0.018422  1.000000       0.069369\n",
       "Stock_On_Hand  0.010554  0.084071    0.018599  0.069369       1.000000"
      ]
     },
     "execution_count": 115,
     "metadata": {},
     "output_type": "execute_result"
    }
   ],
   "source": [
    "df.corr()"
   ]
  },
  {
   "cell_type": "code",
   "execution_count": 116,
   "id": "ea9d5403",
   "metadata": {},
   "outputs": [
    {
     "data": {
      "text/plain": [
       "[1, 4, 2, 5, 6, 2, 3, 4, 2, 2, 5, 6]"
      ]
     },
     "execution_count": 116,
     "metadata": {},
     "output_type": "execute_result"
    }
   ],
   "source": [
    "v1=[1,4,2,5,6,2]\n",
    "v2=[3,4,2,2,5,6]\n",
    "v3=v1+v2\n",
    "v3"
   ]
  },
  {
   "cell_type": "code",
   "execution_count": 117,
   "id": "384131e5",
   "metadata": {},
   "outputs": [
    {
     "data": {
      "text/plain": [
       "<bound method NDFrame.describe of         Sale_ID        Date  Store_ID  Product_ID  Units  \\\n",
       "0             1  2017-01-01        24           4      1   \n",
       "1             2  2017-01-01        28           1      1   \n",
       "2             3  2017-01-01         6           8      1   \n",
       "3             4  2017-01-01        48           7      1   \n",
       "4             5  2017-01-01        44          18      1   \n",
       "...         ...         ...       ...         ...    ...   \n",
       "829257   829258  2018-09-30        24          19      1   \n",
       "829258   829259  2018-09-30        16          35      1   \n",
       "829259   829260  2018-09-30        22          19      1   \n",
       "829260   829261  2018-09-30        13           2      2   \n",
       "829261   829262  2018-09-30        32           6      1   \n",
       "\n",
       "                          Store_Name       Store_City Store_Location  \\\n",
       "0        Maven Toys Aguascalientes 1   Aguascalientes       Downtown   \n",
       "1                Maven Toys Puebla 2           Puebla       Downtown   \n",
       "2              Maven Toys Mexicali 1         Mexicali     Commercial   \n",
       "3              Maven Toys Saltillo 2         Saltillo     Commercial   \n",
       "4                Maven Toys Puebla 3           Puebla    Residential   \n",
       "...                              ...              ...            ...   \n",
       "829257   Maven Toys Aguascalientes 1   Aguascalientes       Downtown   \n",
       "829258  Maven Toys San Luis Potosi 1  San Luis Potosi       Downtown   \n",
       "829259       Maven Toys Guanajuato 2       Guanajuato     Commercial   \n",
       "829260         Maven Toys Mexicali 2         Mexicali       Downtown   \n",
       "829261       Maven Toys Hermosillo 1       Hermosillo    Residential   \n",
       "\n",
       "       Store_Open_Date      Product_Name   Product_Category Product_Cost  \\\n",
       "0           2010-07-31  Chutes & Ladders              Games       $9.99    \n",
       "1           2011-04-01     Action Figure               Toys       $9.99    \n",
       "2           2003-12-13     Deck Of Cards              Games       $3.99    \n",
       "3           2016-03-23          Dart Gun  Sports & Outdoors      $11.99    \n",
       "4           2014-12-27       Lego Bricks               Toys      $34.99    \n",
       "...                ...               ...                ...          ...   \n",
       "829257      2010-07-31        Magic Sand       Art & Crafts      $13.99    \n",
       "829258      2007-05-19     Uno Card Game              Games       $3.99    \n",
       "829259      2010-03-29        Magic Sand       Art & Crafts      $13.99    \n",
       "829260      2006-08-30    Animal Figures               Toys       $9.99    \n",
       "829261      2012-08-31         Colorbuds        Electronics       $6.99    \n",
       "\n",
       "       Product_Price  Stock_On_Hand  \n",
       "0            $12.99             1.0  \n",
       "1            $15.99             6.0  \n",
       "2             $6.99            50.0  \n",
       "3            $15.99            28.0  \n",
       "4            $39.99           117.0  \n",
       "...              ...            ...  \n",
       "829257       $15.99            67.0  \n",
       "829258        $7.99             6.0  \n",
       "829259       $15.99            17.0  \n",
       "829260       $12.99             2.0  \n",
       "829261       $14.99            65.0  \n",
       "\n",
       "[829262 rows x 14 columns]>"
      ]
     },
     "execution_count": 117,
     "metadata": {},
     "output_type": "execute_result"
    }
   ],
   "source": [
    "df.describe"
   ]
  },
  {
   "cell_type": "code",
   "execution_count": null,
   "id": "9d348191",
   "metadata": {},
   "outputs": [],
   "source": []
  }
 ],
 "metadata": {
  "kernelspec": {
   "display_name": "Python 3",
   "language": "python",
   "name": "python3"
  },
  "language_info": {
   "codemirror_mode": {
    "name": "ipython",
    "version": 3
   },
   "file_extension": ".py",
   "mimetype": "text/x-python",
   "name": "python",
   "nbconvert_exporter": "python",
   "pygments_lexer": "ipython3",
   "version": "3.8.8"
  }
 },
 "nbformat": 4,
 "nbformat_minor": 5
}
